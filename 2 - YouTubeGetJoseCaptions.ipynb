{
 "cells": [
  {
   "cell_type": "markdown",
   "metadata": {},
   "source": [
    "# Get youtube captions "
   ]
  },
  {
   "cell_type": "markdown",
   "metadata": {},
   "source": [
    "The purpose of this notebook is to grab the youtube captions for the ids I scraped in the last notebook"
   ]
  },
  {
   "cell_type": "code",
   "execution_count": 2,
   "metadata": {},
   "outputs": [],
   "source": [
    "import youtube_dl\n",
    "from youtube_closed_captions.ytcc.download import Download"
   ]
  },
  {
   "cell_type": "code",
   "execution_count": 2,
   "metadata": {},
   "outputs": [],
   "source": [
    "from __future__ import unicode_literals\n",
    "import youtube_dl\n",
    "from pycaption import WebVTTReader\n",
    "from os import remove\n",
    "import re\n",
    "from urllib.parse import urlencode\n",
    "from youtube_closed_captions.ytcc.storage import Storage\n",
    "\n",
    "\n",
    "class Download():\n",
    "    base_url = 'http://www.youtube.com/watch'\n",
    "\n",
    "    def __init__(self, opts: dict = {}) -> None:\n",
    "        self.opts = {\n",
    "            'skip_download': True,\n",
    "            'writeautomaticsub': True,\n",
    "            'outtmpl': 'subtitle_%(id)s'\n",
    "        }\n",
    "        self.opts.update(opts)\n",
    "\n",
    "    def update_opts(self, opts: dict) -> None:\n",
    "        self.opts.update(opts)\n",
    "\n",
    "    def get_captions(self, video_id: str) -> str:\n",
    "        result = self.get_result(video_id)\n",
    "\n",
    "        if result != 0:\n",
    "            raise Exception(\n",
    "                'Unable to download and extract captions: {0}'.format(result))\n",
    "\n",
    "        storage = Storage(video_id)\n",
    "        file_path = storage.get_file_path()\n",
    "        with open(file_path) as f:\n",
    "            output = self.get_captions_from_output(f.read())\n",
    "        storage.remove_file()\n",
    "        return output\n",
    "\n",
    "    def get_result(self, video_id: str) -> int:\n",
    "        with youtube_dl.YoutubeDL(self.opts) as ydl:\n",
    "            try:\n",
    "                return ydl.download([self.get_url_from_video_id(video_id)])\n",
    "            except youtube_dl.utils.DownloadError as err:\n",
    "                raise DownloadException(\n",
    "                    \"Unable to download captions: {0}\".format(str(err)))\n",
    "            except youtube_dl.utils.ExtractorError as err:\n",
    "                raise DownloadException(\n",
    "                    \"Unable to extract captions: {0}\".format(str(err)))\n",
    "            except Exception as err:\n",
    "                raise DownloadException(\n",
    "                    \"Unknown exception downloading and extracting captions: {0}\".format(\n",
    "                        str(err)))\n",
    "\n",
    "    def get_url_from_video_id(self, video_id: str) -> str:\n",
    "        return '{0}?{1}'.format(self.base_url, urlencode({'v': video_id}))\n",
    "\n",
    "    def get_captions_from_output(self, output: str) -> str:\n",
    "        reader = WebVTTReader()\n",
    "\n",
    "        temp_final = ''\n",
    "        for caption in reader.read(output).get_captions('en-US'):\n",
    "            stripped = self.remove_time_from_caption(\n",
    "                str(caption).replace(r'\\n', \"\\n\"))\n",
    "            temp_final += stripped\n",
    "\n",
    "        final = ''\n",
    "        previous = ''\n",
    "        for line in temp_final.split(\"\\n\"):\n",
    "            if previous != line:\n",
    "                final += \"\\n\" + line\n",
    "            previous = line\n",
    "\n",
    "        return final.replace(\"\\n\", ' ')[1:]\n",
    "\n",
    "    def remove_time_from_caption(self, caption: str) -> str:\n",
    "        caption = caption[1:-1]\n",
    "        return re.sub(r\"^.*?\\n\", \"\\n\", caption)\n",
    "\n",
    "\n",
    "class DownloadException(Exception):\n",
    "\n",
    "    def __init__(self, *args, **kwargs):\n",
    "        Exception.__init__(self, *args, **kwargs)\n"
   ]
  },
  {
   "cell_type": "code",
   "execution_count": 4,
   "metadata": {},
   "outputs": [],
   "source": [
    "import pickle\n",
    "with open('Data/youtube_ids.pkl', 'rb') as f:\n",
    "    ids = pickle.load(f)"
   ]
  },
  {
   "cell_type": "code",
   "execution_count": 6,
   "metadata": {},
   "outputs": [],
   "source": [
    "id_list = list(ids)"
   ]
  },
  {
   "cell_type": "code",
   "execution_count": 8,
   "metadata": {},
   "outputs": [
    {
     "name": "stdout",
     "output_type": "stream",
     "text": [
      "[youtube] _gwrifX7OQk: Downloading webpage\n",
      "[youtube] _gwrifX7OQk: Downloading video info webpage\n",
      "[youtube] _gwrifX7OQk: Looking for automatic captions\n"
     ]
    },
    {
     "name": "stderr",
     "output_type": "stream",
     "text": [
      "WARNING: Couldn't find automatic captions for _gwrifX7OQk\n"
     ]
    },
    {
     "name": "stdout",
     "output_type": "stream",
     "text": [
      "No captions for _gwrifX7OQk\n",
      "[youtube] SNflPWQYLCw: Downloading webpage\n",
      "[youtube] SNflPWQYLCw: Downloading video info webpage\n",
      "[youtube] SNflPWQYLCw: Looking for automatic captions\n",
      "[youtube] SNflPWQYLCw: Downloading MPD manifest\n",
      "[youtube] SNflPWQYLCw: Downloading MPD manifest\n",
      "[info] Writing video subtitles to: subtitle_SNflPWQYLCw.en.vtt\n",
      "[youtube] NInL8E37KBE: Downloading webpage\n",
      "[youtube] NInL8E37KBE: Downloading video info webpage\n",
      "[youtube] NInL8E37KBE: Looking for automatic captions\n",
      "[info] Writing video subtitles to: subtitle_NInL8E37KBE.en.vtt\n",
      "[youtube] 6LYAWKyoTgw: Downloading webpage\n",
      "[youtube] 6LYAWKyoTgw: Downloading video info webpage\n",
      "[youtube] 6LYAWKyoTgw: Looking for automatic captions\n",
      "[info] Writing video subtitles to: subtitle_6LYAWKyoTgw.en.vtt\n",
      "[youtube] s0kuw5I9dUw: Downloading webpage\n",
      "[youtube] s0kuw5I9dUw: Downloading video info webpage\n",
      "[youtube] s0kuw5I9dUw: Looking for automatic captions\n",
      "[info] Writing video subtitles to: subtitle_s0kuw5I9dUw.en.vtt\n",
      "[youtube] 41N7Gct3ccU: Downloading webpage\n",
      "[youtube] 41N7Gct3ccU: Downloading video info webpage\n",
      "[youtube] 41N7Gct3ccU: Looking for automatic captions\n"
     ]
    },
    {
     "name": "stderr",
     "output_type": "stream",
     "text": [
      "WARNING: Couldn't find automatic captions for 41N7Gct3ccU\n"
     ]
    },
    {
     "name": "stdout",
     "output_type": "stream",
     "text": [
      "No captions for 41N7Gct3ccU\n",
      "[youtube] FcHyWlBPbgo: Downloading webpage\n",
      "[youtube] FcHyWlBPbgo: Downloading video info webpage\n",
      "[youtube] FcHyWlBPbgo: Looking for automatic captions\n",
      "[info] Writing video subtitles to: subtitle_FcHyWlBPbgo.en.vtt\n",
      "[youtube] _y9X-T_qKBo: Downloading webpage\n",
      "[youtube] _y9X-T_qKBo: Downloading video info webpage\n",
      "[youtube] _y9X-T_qKBo: Looking for automatic captions\n",
      "[info] Writing video subtitles to: subtitle__y9X-T_qKBo.en.vtt\n",
      "[youtube] -XrP8vYuABc: Downloading webpage\n",
      "[youtube] -XrP8vYuABc: Downloading video info webpage\n",
      "[youtube] -XrP8vYuABc: Looking for automatic captions\n",
      "[info] Writing video subtitles to: subtitle_-XrP8vYuABc.en.vtt\n",
      "[youtube] bhL1kdzQp4I: Downloading webpage\n",
      "[youtube] bhL1kdzQp4I: Downloading video info webpage\n",
      "[youtube] bhL1kdzQp4I: Looking for automatic captions\n",
      "[info] Writing video subtitles to: subtitle_bhL1kdzQp4I.en.vtt\n",
      "[youtube] RWFJ7hDEQBQ: Downloading webpage\n",
      "[youtube] RWFJ7hDEQBQ: Downloading video info webpage\n",
      "[youtube] RWFJ7hDEQBQ: Looking for automatic captions\n",
      "[youtube] RWFJ7hDEQBQ: Downloading MPD manifest\n",
      "[youtube] RWFJ7hDEQBQ: Downloading MPD manifest\n",
      "[info] Writing video subtitles to: subtitle_RWFJ7hDEQBQ.en.vtt\n",
      "[youtube] J2evoyNCAkA: Downloading webpage\n",
      "[youtube] J2evoyNCAkA: Downloading video info webpage\n",
      "[youtube] J2evoyNCAkA: Looking for automatic captions\n",
      "[youtube] J2evoyNCAkA: Downloading MPD manifest\n",
      "[youtube] J2evoyNCAkA: Downloading MPD manifest\n",
      "[info] Writing video subtitles to: subtitle_J2evoyNCAkA.en.vtt\n",
      "[youtube] p1BWd622cII: Downloading webpage\n",
      "[youtube] p1BWd622cII: Downloading video info webpage\n",
      "[youtube] p1BWd622cII: Looking for automatic captions\n",
      "[info] Writing video subtitles to: subtitle_p1BWd622cII.en.vtt\n",
      "[youtube] AT17rDfY8pA: Downloading webpage\n",
      "[youtube] AT17rDfY8pA: Downloading video info webpage\n",
      "[youtube] AT17rDfY8pA: Looking for automatic captions\n"
     ]
    },
    {
     "name": "stderr",
     "output_type": "stream",
     "text": [
      "WARNING: Couldn't find automatic captions for AT17rDfY8pA\n"
     ]
    },
    {
     "name": "stdout",
     "output_type": "stream",
     "text": [
      "No captions for AT17rDfY8pA\n",
      "[youtube] qeZuysaBM8Y: Downloading webpage\n",
      "[youtube] qeZuysaBM8Y: Downloading video info webpage\n",
      "[youtube] qeZuysaBM8Y: Looking for automatic captions\n"
     ]
    },
    {
     "name": "stderr",
     "output_type": "stream",
     "text": [
      "WARNING: Couldn't find automatic captions for qeZuysaBM8Y\n"
     ]
    },
    {
     "name": "stdout",
     "output_type": "stream",
     "text": [
      "No captions for qeZuysaBM8Y\n",
      "[youtube] btaJtdoWjfI: Downloading webpage\n",
      "[youtube] btaJtdoWjfI: Downloading video info webpage\n",
      "[youtube] btaJtdoWjfI: Looking for automatic captions\n",
      "[youtube] btaJtdoWjfI: Downloading MPD manifest\n",
      "[youtube] btaJtdoWjfI: Downloading MPD manifest\n",
      "[info] Writing video subtitles to: subtitle_btaJtdoWjfI.en.vtt\n",
      "[youtube] xqtjUE8ZiAQ: Downloading webpage\n",
      "[youtube] xqtjUE8ZiAQ: Downloading video info webpage\n",
      "[youtube] xqtjUE8ZiAQ: Looking for automatic captions\n",
      "[info] Writing video subtitles to: subtitle_xqtjUE8ZiAQ.en.vtt\n",
      "[youtube] CfWkfzvXTOQ: Downloading webpage\n",
      "[youtube] CfWkfzvXTOQ: Downloading video info webpage\n",
      "[youtube] CfWkfzvXTOQ: Looking for automatic captions\n",
      "[youtube] CfWkfzvXTOQ: Downloading MPD manifest\n",
      "[youtube] CfWkfzvXTOQ: Downloading MPD manifest\n",
      "[info] Writing video subtitles to: subtitle_CfWkfzvXTOQ.en.vtt\n",
      "[youtube] dVxawuBkAes: Downloading webpage\n",
      "[youtube] dVxawuBkAes: Downloading video info webpage\n",
      "[youtube] dVxawuBkAes: Looking for automatic captions\n",
      "[info] Writing video subtitles to: subtitle_dVxawuBkAes.en.vtt\n",
      "[youtube] KmNjscXH-M0: Downloading webpage\n",
      "[youtube] KmNjscXH-M0: Downloading video info webpage\n",
      "[youtube] KmNjscXH-M0: Looking for automatic captions\n",
      "[info] Writing video subtitles to: subtitle_KmNjscXH-M0.en.vtt\n",
      "[youtube] JI_cRaJjnTo: Downloading webpage\n",
      "[youtube] JI_cRaJjnTo: Downloading video info webpage\n",
      "[youtube] JI_cRaJjnTo: Looking for automatic captions\n"
     ]
    },
    {
     "name": "stderr",
     "output_type": "stream",
     "text": [
      "WARNING: Couldn't find automatic captions for JI_cRaJjnTo\n"
     ]
    },
    {
     "name": "stdout",
     "output_type": "stream",
     "text": [
      "No captions for JI_cRaJjnTo\n",
      "[youtube] RbGyAZMFsoc: Downloading webpage\n",
      "[youtube] RbGyAZMFsoc: Downloading video info webpage\n",
      "[youtube] RbGyAZMFsoc: Looking for automatic captions\n",
      "[info] Writing video subtitles to: subtitle_RbGyAZMFsoc.en.vtt\n",
      "[youtube] SZ6uRmnydcs: Downloading webpage\n",
      "[youtube] SZ6uRmnydcs: Downloading video info webpage\n",
      "[youtube] SZ6uRmnydcs: Looking for automatic captions\n"
     ]
    },
    {
     "name": "stderr",
     "output_type": "stream",
     "text": [
      "WARNING: Couldn't find automatic captions for SZ6uRmnydcs\n"
     ]
    },
    {
     "name": "stdout",
     "output_type": "stream",
     "text": [
      "No captions for SZ6uRmnydcs\n",
      "[youtube] olCK4Si2sYM: Downloading webpage\n",
      "[youtube] olCK4Si2sYM: Downloading video info webpage\n",
      "[youtube] olCK4Si2sYM: Looking for automatic captions\n",
      "[info] Writing video subtitles to: subtitle_olCK4Si2sYM.en.vtt\n",
      "[youtube] lVSzciOyULY: Downloading webpage\n",
      "[youtube] lVSzciOyULY: Downloading video info webpage\n",
      "[youtube] lVSzciOyULY: Looking for automatic captions\n",
      "[info] Writing video subtitles to: subtitle_lVSzciOyULY.en.vtt\n",
      "[youtube] BwgOBhYIZzs: Downloading webpage\n",
      "[youtube] BwgOBhYIZzs: Downloading video info webpage\n",
      "[youtube] BwgOBhYIZzs: Looking for automatic captions\n",
      "[info] Writing video subtitles to: subtitle_BwgOBhYIZzs.en.vtt\n",
      "[youtube] egw5hXbxGqQ: Downloading webpage\n",
      "[youtube] egw5hXbxGqQ: Downloading video info webpage\n",
      "[youtube] egw5hXbxGqQ: Looking for automatic captions\n",
      "[youtube] egw5hXbxGqQ: Downloading MPD manifest\n",
      "[youtube] egw5hXbxGqQ: Downloading MPD manifest\n",
      "[info] Writing video subtitles to: subtitle_egw5hXbxGqQ.en.vtt\n",
      "[youtube] ErbeU2SnH7Q: Downloading webpage\n",
      "[youtube] ErbeU2SnH7Q: Downloading video info webpage\n",
      "[youtube] ErbeU2SnH7Q: Looking for automatic captions\n",
      "[info] Writing video subtitles to: subtitle_ErbeU2SnH7Q.en.vtt\n",
      "[youtube] 9M-q9Bjklxc: Downloading webpage\n",
      "[youtube] 9M-q9Bjklxc: Downloading video info webpage\n",
      "[youtube] 9M-q9Bjklxc: Looking for automatic captions\n",
      "[info] Writing video subtitles to: subtitle_9M-q9Bjklxc.en.vtt\n",
      "[youtube] UOK9OnriWVM: Downloading webpage\n",
      "[youtube] UOK9OnriWVM: Downloading video info webpage\n",
      "[youtube] UOK9OnriWVM: Looking for automatic captions\n",
      "[youtube] UOK9OnriWVM: Downloading MPD manifest\n",
      "[youtube] UOK9OnriWVM: Downloading MPD manifest\n",
      "[info] Writing video subtitles to: subtitle_UOK9OnriWVM.en.vtt\n",
      "[youtube] nAujiCgQSto: Downloading webpage\n",
      "[youtube] nAujiCgQSto: Downloading video info webpage\n",
      "[youtube] nAujiCgQSto: Looking for automatic captions\n",
      "[info] Writing video subtitles to: subtitle_nAujiCgQSto.en.vtt\n",
      "[youtube] BQ_YQdnSy94: Downloading webpage\n",
      "[youtube] BQ_YQdnSy94: Downloading video info webpage\n",
      "[youtube] BQ_YQdnSy94: Looking for automatic captions\n",
      "[info] Writing video subtitles to: subtitle_BQ_YQdnSy94.en.vtt\n",
      "[youtube] K1Sp4LiXozI: Downloading webpage\n",
      "[youtube] K1Sp4LiXozI: Downloading video info webpage\n",
      "[youtube] K1Sp4LiXozI: Looking for automatic captions\n",
      "[info] Writing video subtitles to: subtitle_K1Sp4LiXozI.en.vtt\n",
      "[youtube] pFHcb45NDs0: Downloading webpage\n",
      "[youtube] pFHcb45NDs0: Downloading video info webpage\n",
      "[youtube] pFHcb45NDs0: Looking for automatic captions\n",
      "[info] Writing video subtitles to: subtitle_pFHcb45NDs0.en.vtt\n",
      "[youtube] eHBS5zfQSVw: Downloading webpage\n",
      "[youtube] eHBS5zfQSVw: Downloading video info webpage\n",
      "[youtube] eHBS5zfQSVw: Looking for automatic captions\n"
     ]
    },
    {
     "name": "stderr",
     "output_type": "stream",
     "text": [
      "WARNING: Couldn't find automatic captions for eHBS5zfQSVw\n"
     ]
    },
    {
     "name": "stdout",
     "output_type": "stream",
     "text": [
      "No captions for eHBS5zfQSVw\n",
      "[youtube] TG7gIL4hpoc: Downloading webpage\n",
      "[youtube] TG7gIL4hpoc: Downloading video info webpage\n",
      "[youtube] TG7gIL4hpoc: Looking for automatic captions\n",
      "[info] Writing video subtitles to: subtitle_TG7gIL4hpoc.en.vtt\n",
      "[youtube] oVX3EluThWA: Downloading webpage\n",
      "[youtube] oVX3EluThWA: Downloading video info webpage\n",
      "[youtube] oVX3EluThWA: Looking for automatic captions\n"
     ]
    },
    {
     "name": "stderr",
     "output_type": "stream",
     "text": [
      "WARNING: Couldn't find automatic captions for oVX3EluThWA\n"
     ]
    },
    {
     "name": "stdout",
     "output_type": "stream",
     "text": [
      "No captions for oVX3EluThWA\n",
      "[youtube] GXqZCS1h14k: Downloading webpage\n",
      "[youtube] GXqZCS1h14k: Downloading video info webpage\n",
      "[youtube] GXqZCS1h14k: Looking for automatic captions\n"
     ]
    },
    {
     "name": "stderr",
     "output_type": "stream",
     "text": [
      "WARNING: Couldn't find automatic captions for GXqZCS1h14k\n"
     ]
    },
    {
     "name": "stdout",
     "output_type": "stream",
     "text": [
      "[youtube] GXqZCS1h14k: Downloading MPD manifest\n",
      "[youtube] GXqZCS1h14k: Downloading MPD manifest\n",
      "No captions for GXqZCS1h14k\n",
      "[youtube] F__GJMtuDhw: Downloading webpage\n",
      "[youtube] F__GJMtuDhw: Downloading video info webpage\n",
      "[youtube] F__GJMtuDhw: Looking for automatic captions\n"
     ]
    },
    {
     "name": "stderr",
     "output_type": "stream",
     "text": [
      "WARNING: Couldn't find automatic captions for F__GJMtuDhw\n"
     ]
    },
    {
     "name": "stdout",
     "output_type": "stream",
     "text": [
      "No captions for F__GJMtuDhw\n",
      "[youtube] zt5lR_4tEFc: Downloading webpage\n",
      "[youtube] zt5lR_4tEFc: Downloading video info webpage\n",
      "[youtube] zt5lR_4tEFc: Looking for automatic captions\n",
      "[info] Writing video subtitles to: subtitle_zt5lR_4tEFc.en.vtt\n",
      "[youtube] oo9ynpxwNck: Downloading webpage\n",
      "[youtube] oo9ynpxwNck: Downloading video info webpage\n",
      "[youtube] oo9ynpxwNck: Looking for automatic captions\n",
      "[info] Writing video subtitles to: subtitle_oo9ynpxwNck.en.vtt\n",
      "[youtube] jOx2s-r9cfY: Downloading webpage\n",
      "[youtube] jOx2s-r9cfY: Downloading video info webpage\n",
      "[youtube] jOx2s-r9cfY: Looking for automatic captions\n"
     ]
    },
    {
     "name": "stderr",
     "output_type": "stream",
     "text": [
      "WARNING: Couldn't find automatic captions for jOx2s-r9cfY\n"
     ]
    },
    {
     "name": "stdout",
     "output_type": "stream",
     "text": [
      "No captions for jOx2s-r9cfY\n",
      "[youtube] k_DYVcLNSsk: Downloading webpage\n",
      "[youtube] k_DYVcLNSsk: Downloading video info webpage\n",
      "[youtube] k_DYVcLNSsk: Looking for automatic captions\n",
      "[info] Writing video subtitles to: subtitle_k_DYVcLNSsk.en.vtt\n",
      "[youtube] s2Tuq_B6tWE: Downloading webpage\n",
      "[youtube] s2Tuq_B6tWE: Downloading video info webpage\n",
      "[youtube] s2Tuq_B6tWE: Looking for automatic captions\n",
      "[info] Writing video subtitles to: subtitle_s2Tuq_B6tWE.en.vtt\n",
      "[youtube] r4QvCQlMz8E: Downloading webpage\n",
      "[youtube] r4QvCQlMz8E: Downloading video info webpage\n",
      "[youtube] r4QvCQlMz8E: Looking for automatic captions\n",
      "[youtube] r4QvCQlMz8E: Downloading MPD manifest\n",
      "[youtube] r4QvCQlMz8E: Downloading MPD manifest\n",
      "[info] Writing video subtitles to: subtitle_r4QvCQlMz8E.en.vtt\n",
      "[youtube] cc9tmUFbc5g: Downloading webpage\n",
      "[youtube] cc9tmUFbc5g: Downloading video info webpage\n",
      "[youtube] cc9tmUFbc5g: Looking for automatic captions\n",
      "[info] Writing video subtitles to: subtitle_cc9tmUFbc5g.en.vtt\n",
      "[youtube] 6HwOoh58znE: Downloading webpage\n",
      "[youtube] 6HwOoh58znE: Downloading video info webpage\n",
      "[youtube] 6HwOoh58znE: Looking for automatic captions\n",
      "[info] Writing video subtitles to: subtitle_6HwOoh58znE.en.vtt\n",
      "[youtube] 6n_kCf60ldY: Downloading webpage\n",
      "[youtube] 6n_kCf60ldY: Downloading video info webpage\n",
      "[youtube] 6n_kCf60ldY: Looking for automatic captions\n"
     ]
    },
    {
     "name": "stderr",
     "output_type": "stream",
     "text": [
      "WARNING: Couldn't find automatic captions for 6n_kCf60ldY\n"
     ]
    },
    {
     "name": "stdout",
     "output_type": "stream",
     "text": [
      "No captions for 6n_kCf60ldY\n",
      "[youtube] l9alUZfvjaA: Downloading webpage\n",
      "[youtube] l9alUZfvjaA: Downloading video info webpage\n",
      "[youtube] l9alUZfvjaA: Looking for automatic captions\n",
      "[youtube] l9alUZfvjaA: Downloading MPD manifest\n",
      "[youtube] l9alUZfvjaA: Downloading MPD manifest\n",
      "[info] Writing video subtitles to: subtitle_l9alUZfvjaA.en.vtt\n",
      "[youtube] 7bCMXkIsOmY: Downloading webpage\n",
      "[youtube] 7bCMXkIsOmY: Downloading video info webpage\n",
      "[youtube] 7bCMXkIsOmY: Looking for automatic captions\n",
      "[info] Writing video subtitles to: subtitle_7bCMXkIsOmY.en.vtt\n",
      "[youtube] ptNjyTeyP6M: Downloading webpage\n",
      "[youtube] ptNjyTeyP6M: Downloading video info webpage\n",
      "[youtube] ptNjyTeyP6M: Looking for automatic captions\n",
      "[youtube] ptNjyTeyP6M: Downloading MPD manifest\n",
      "[youtube] ptNjyTeyP6M: Downloading MPD manifest\n",
      "[info] Writing video subtitles to: subtitle_ptNjyTeyP6M.en.vtt\n",
      "[youtube] U3aK2K-KFws: Downloading webpage\n",
      "[youtube] U3aK2K-KFws: Downloading video info webpage\n",
      "[youtube] U3aK2K-KFws: Looking for automatic captions\n",
      "[info] Writing video subtitles to: subtitle_U3aK2K-KFws.en.vtt\n",
      "[youtube] nU3bvAQhO24: Downloading webpage\n",
      "[youtube] nU3bvAQhO24: Downloading video info webpage\n",
      "[youtube] nU3bvAQhO24: Looking for automatic captions\n",
      "[info] Writing video subtitles to: subtitle_nU3bvAQhO24.en.vtt\n",
      "[youtube] aK6w_mg0WJI: Downloading webpage\n",
      "[youtube] aK6w_mg0WJI: Downloading video info webpage\n",
      "[youtube] aK6w_mg0WJI: Looking for automatic captions\n"
     ]
    },
    {
     "name": "stderr",
     "output_type": "stream",
     "text": [
      "WARNING: Couldn't find automatic captions for aK6w_mg0WJI\n"
     ]
    },
    {
     "name": "stdout",
     "output_type": "stream",
     "text": [
      "No captions for aK6w_mg0WJI\n",
      "[youtube] npfhDfOsRDg: Downloading webpage\n",
      "[youtube] npfhDfOsRDg: Downloading video info webpage\n",
      "[youtube] npfhDfOsRDg: Looking for automatic captions\n",
      "[youtube] npfhDfOsRDg: Downloading MPD manifest\n",
      "[youtube] npfhDfOsRDg: Downloading MPD manifest\n",
      "[info] Writing video subtitles to: subtitle_npfhDfOsRDg.en.vtt\n",
      "[youtube] RLQhyqugWg4: Downloading webpage\n",
      "[youtube] RLQhyqugWg4: Downloading video info webpage\n",
      "[youtube] RLQhyqugWg4: Looking for automatic captions\n",
      "[info] Writing video subtitles to: subtitle_RLQhyqugWg4.en.vtt\n",
      "[youtube] uu9PUmtGhnI: Downloading webpage\n",
      "[youtube] uu9PUmtGhnI: Downloading video info webpage\n",
      "[youtube] uu9PUmtGhnI: Looking for automatic captions\n",
      "[info] Writing video subtitles to: subtitle_uu9PUmtGhnI.en.vtt\n",
      "[youtube] GGW4GWcK0jI: Downloading webpage\n",
      "[youtube] GGW4GWcK0jI: Downloading video info webpage\n",
      "[youtube] GGW4GWcK0jI: Looking for automatic captions\n"
     ]
    },
    {
     "name": "stderr",
     "output_type": "stream",
     "text": [
      "WARNING: Couldn't find automatic captions for GGW4GWcK0jI\n"
     ]
    },
    {
     "name": "stdout",
     "output_type": "stream",
     "text": [
      "No captions for GGW4GWcK0jI\n",
      "[youtube] erCPKwlqo28: Downloading webpage\n",
      "[youtube] erCPKwlqo28: Downloading video info webpage\n",
      "[youtube] erCPKwlqo28: Looking for automatic captions\n",
      "[info] Writing video subtitles to: subtitle_erCPKwlqo28.en.vtt\n",
      "[youtube] bV2QQF_zJFk: Downloading webpage\n",
      "[youtube] bV2QQF_zJFk: Downloading video info webpage\n",
      "[youtube] bV2QQF_zJFk: Looking for automatic captions\n",
      "[youtube] bV2QQF_zJFk: Downloading MPD manifest\n",
      "[youtube] bV2QQF_zJFk: Downloading MPD manifest\n",
      "[info] Writing video subtitles to: subtitle_bV2QQF_zJFk.en.vtt\n",
      "[youtube] zm-ufrCMVt0: Downloading webpage\n",
      "[youtube] zm-ufrCMVt0: Downloading video info webpage\n",
      "[youtube] zm-ufrCMVt0: Looking for automatic captions\n"
     ]
    },
    {
     "name": "stderr",
     "output_type": "stream",
     "text": [
      "WARNING: Couldn't find automatic captions for zm-ufrCMVt0\n"
     ]
    },
    {
     "name": "stdout",
     "output_type": "stream",
     "text": [
      "No captions for zm-ufrCMVt0\n",
      "[youtube] hmk7Nj2w_BI: Downloading webpage\n",
      "[youtube] hmk7Nj2w_BI: Downloading video info webpage\n",
      "[youtube] hmk7Nj2w_BI: Looking for automatic captions\n",
      "[info] Writing video subtitles to: subtitle_hmk7Nj2w_BI.en.vtt\n",
      "[youtube] QI3ENizbmQ4: Downloading webpage\n",
      "[youtube] QI3ENizbmQ4: Downloading video info webpage\n",
      "[youtube] QI3ENizbmQ4: Looking for automatic captions\n",
      "[info] Writing video subtitles to: subtitle_QI3ENizbmQ4.en.vtt\n",
      "[youtube] nYhLrj6FAxE: Downloading webpage\n",
      "[youtube] nYhLrj6FAxE: Downloading video info webpage\n",
      "[youtube] nYhLrj6FAxE: Looking for automatic captions\n",
      "[info] Writing video subtitles to: subtitle_nYhLrj6FAxE.en.vtt\n",
      "[youtube] 8CIMonl-V_s: Downloading webpage\n",
      "[youtube] 8CIMonl-V_s: Downloading video info webpage\n",
      "[youtube] 8CIMonl-V_s: Looking for automatic captions\n"
     ]
    },
    {
     "name": "stderr",
     "output_type": "stream",
     "text": [
      "WARNING: Couldn't find automatic captions for 8CIMonl-V_s\n"
     ]
    },
    {
     "name": "stdout",
     "output_type": "stream",
     "text": [
      "No captions for 8CIMonl-V_s\n",
      "[youtube] FkVKtet-15k: Downloading webpage\n",
      "[youtube] FkVKtet-15k: Downloading video info webpage\n",
      "[youtube] FkVKtet-15k: Looking for automatic captions\n",
      "[info] Writing video subtitles to: subtitle_FkVKtet-15k.en.vtt\n",
      "[youtube] Mrewq6c2McQ: Downloading webpage\n",
      "[youtube] Mrewq6c2McQ: Downloading video info webpage\n",
      "[youtube] Mrewq6c2McQ: Looking for automatic captions\n",
      "[info] Writing video subtitles to: subtitle_Mrewq6c2McQ.en.vtt\n",
      "[youtube] CfcGXFCQCT4: Downloading webpage\n",
      "[youtube] CfcGXFCQCT4: Downloading video info webpage\n",
      "[youtube] CfcGXFCQCT4: Looking for automatic captions\n",
      "[info] Writing video subtitles to: subtitle_CfcGXFCQCT4.en.vtt\n",
      "[youtube] -8AY90u0gXM: Downloading webpage\n",
      "[youtube] -8AY90u0gXM: Downloading video info webpage\n",
      "[youtube] -8AY90u0gXM: Looking for automatic captions\n"
     ]
    },
    {
     "name": "stderr",
     "output_type": "stream",
     "text": [
      "WARNING: Couldn't find automatic captions for -8AY90u0gXM\n"
     ]
    },
    {
     "name": "stdout",
     "output_type": "stream",
     "text": [
      "No captions for -8AY90u0gXM\n",
      "[youtube] v0NAVMHWxmM: Downloading webpage\n",
      "[youtube] v0NAVMHWxmM: Downloading video info webpage\n",
      "[youtube] v0NAVMHWxmM: Looking for automatic captions\n"
     ]
    },
    {
     "name": "stderr",
     "output_type": "stream",
     "text": [
      "WARNING: Couldn't find automatic captions for v0NAVMHWxmM\n"
     ]
    },
    {
     "name": "stdout",
     "output_type": "stream",
     "text": [
      "No captions for v0NAVMHWxmM\n",
      "[youtube] 5CmVnOrC60k: Downloading webpage\n",
      "[youtube] 5CmVnOrC60k: Downloading video info webpage\n",
      "[youtube] 5CmVnOrC60k: Looking for automatic captions\n",
      "[info] Writing video subtitles to: subtitle_5CmVnOrC60k.en.vtt\n",
      "[youtube] 7XLWC4HXbLg: Downloading webpage\n",
      "[youtube] 7XLWC4HXbLg: Downloading video info webpage\n",
      "[youtube] 7XLWC4HXbLg: Looking for automatic captions\n"
     ]
    },
    {
     "name": "stderr",
     "output_type": "stream",
     "text": [
      "WARNING: Couldn't find automatic captions for 7XLWC4HXbLg\n"
     ]
    },
    {
     "name": "stdout",
     "output_type": "stream",
     "text": [
      "No captions for 7XLWC4HXbLg\n",
      "[youtube] s9SZdnxZUOA: Downloading webpage\n",
      "[youtube] s9SZdnxZUOA: Downloading video info webpage\n",
      "[youtube] s9SZdnxZUOA: Looking for automatic captions\n",
      "[info] Writing video subtitles to: subtitle_s9SZdnxZUOA.en.vtt\n",
      "[youtube] veEZ2sURCaM: Downloading webpage\n",
      "[youtube] veEZ2sURCaM: Downloading video info webpage\n",
      "[youtube] veEZ2sURCaM: Looking for automatic captions\n"
     ]
    },
    {
     "name": "stderr",
     "output_type": "stream",
     "text": [
      "WARNING: Couldn't find automatic captions for veEZ2sURCaM\n"
     ]
    },
    {
     "name": "stdout",
     "output_type": "stream",
     "text": [
      "No captions for veEZ2sURCaM\n",
      "[youtube] 9vb1SZf3u4U: Downloading webpage\n",
      "[youtube] 9vb1SZf3u4U: Downloading video info webpage\n",
      "[youtube] 9vb1SZf3u4U: Looking for automatic captions\n",
      "[info] Writing video subtitles to: subtitle_9vb1SZf3u4U.en.vtt\n",
      "[youtube] BPBpl8etCaE: Downloading webpage\n",
      "[youtube] BPBpl8etCaE: Downloading video info webpage\n",
      "[youtube] BPBpl8etCaE: Looking for automatic captions\n",
      "[info] Writing video subtitles to: subtitle_BPBpl8etCaE.en.vtt\n",
      "[youtube] jv30NnR42Kw: Downloading webpage\n",
      "[youtube] jv30NnR42Kw: Downloading video info webpage\n",
      "[youtube] jv30NnR42Kw: Looking for automatic captions\n",
      "[info] Writing video subtitles to: subtitle_jv30NnR42Kw.en.vtt\n",
      "[youtube] 7-NAPrQ981g: Downloading webpage\n",
      "[youtube] 7-NAPrQ981g: Downloading video info webpage\n",
      "[youtube] 7-NAPrQ981g: Looking for automatic captions\n",
      "[info] Writing video subtitles to: subtitle_7-NAPrQ981g.en.vtt\n",
      "[youtube] IGOpGUpyXfI: Downloading webpage\n",
      "[youtube] IGOpGUpyXfI: Downloading video info webpage\n",
      "[youtube] IGOpGUpyXfI: Looking for automatic captions\n",
      "[info] Writing video subtitles to: subtitle_IGOpGUpyXfI.en.vtt\n",
      "[youtube] UchdF44Juzg: Downloading webpage\n",
      "[youtube] UchdF44Juzg: Downloading video info webpage\n",
      "[youtube] UchdF44Juzg: Looking for automatic captions\n",
      "[info] Writing video subtitles to: subtitle_UchdF44Juzg.en.vtt\n",
      "[youtube] pCBDpMo8-6M: Downloading webpage\n",
      "[youtube] pCBDpMo8-6M: Downloading video info webpage\n",
      "[youtube] pCBDpMo8-6M: Looking for automatic captions\n",
      "[info] Writing video subtitles to: subtitle_pCBDpMo8-6M.en.vtt\n",
      "[youtube] Ktn3E1fOtJk: Downloading webpage\n",
      "[youtube] Ktn3E1fOtJk: Downloading video info webpage\n",
      "[youtube] Ktn3E1fOtJk: Looking for automatic captions\n",
      "[youtube] Ktn3E1fOtJk: Downloading MPD manifest\n",
      "[youtube] Ktn3E1fOtJk: Downloading MPD manifest\n",
      "[info] Writing video subtitles to: subtitle_Ktn3E1fOtJk.en.vtt\n",
      "[youtube] UveWIJTxwYM: Downloading webpage\n",
      "[youtube] UveWIJTxwYM: Downloading video info webpage\n",
      "[youtube] UveWIJTxwYM: Looking for automatic captions\n"
     ]
    },
    {
     "name": "stderr",
     "output_type": "stream",
     "text": [
      "WARNING: Couldn't find automatic captions for UveWIJTxwYM\n"
     ]
    },
    {
     "name": "stdout",
     "output_type": "stream",
     "text": [
      "No captions for UveWIJTxwYM\n",
      "[youtube] CjxjdefDNso: Downloading webpage\n",
      "[youtube] CjxjdefDNso: Downloading video info webpage\n",
      "[youtube] CjxjdefDNso: Looking for automatic captions\n"
     ]
    },
    {
     "name": "stderr",
     "output_type": "stream",
     "text": [
      "WARNING: Couldn't find automatic captions for CjxjdefDNso\n"
     ]
    },
    {
     "name": "stdout",
     "output_type": "stream",
     "text": [
      "No captions for CjxjdefDNso\n",
      "[youtube] uqhVjH3hwlo: Downloading webpage\n",
      "[youtube] uqhVjH3hwlo: Downloading video info webpage\n",
      "[youtube] uqhVjH3hwlo: Looking for automatic captions\n",
      "[youtube] uqhVjH3hwlo: Downloading MPD manifest\n",
      "[youtube] uqhVjH3hwlo: Downloading MPD manifest\n",
      "[info] Writing video subtitles to: subtitle_uqhVjH3hwlo.en.vtt\n",
      "[youtube] sHbnQPmeG-s: Downloading webpage\n",
      "[youtube] sHbnQPmeG-s: Downloading video info webpage\n",
      "[youtube] sHbnQPmeG-s: Looking for automatic captions\n",
      "[youtube] sHbnQPmeG-s: Downloading MPD manifest\n",
      "[youtube] sHbnQPmeG-s: Downloading MPD manifest\n",
      "[info] Writing video subtitles to: subtitle_sHbnQPmeG-s.en.vtt\n",
      "[youtube] -8LeGIn-uUw: Downloading webpage\n",
      "[youtube] -8LeGIn-uUw: Downloading video info webpage\n",
      "[youtube] -8LeGIn-uUw: Looking for automatic captions\n"
     ]
    },
    {
     "name": "stderr",
     "output_type": "stream",
     "text": [
      "WARNING: Couldn't find automatic captions for -8LeGIn-uUw\n"
     ]
    },
    {
     "name": "stdout",
     "output_type": "stream",
     "text": [
      "No captions for -8LeGIn-uUw\n",
      "[youtube] M4OTq52D0T4: Downloading webpage\n",
      "[youtube] M4OTq52D0T4: Downloading video info webpage\n",
      "[youtube] M4OTq52D0T4: Looking for automatic captions\n"
     ]
    },
    {
     "name": "stderr",
     "output_type": "stream",
     "text": [
      "WARNING: Couldn't find automatic captions for M4OTq52D0T4\n"
     ]
    },
    {
     "name": "stdout",
     "output_type": "stream",
     "text": [
      "No captions for M4OTq52D0T4\n",
      "[youtube] neo7PT-VuEE: Downloading webpage\n",
      "[youtube] neo7PT-VuEE: Downloading video info webpage\n",
      "[youtube] neo7PT-VuEE: Looking for automatic captions\n",
      "[youtube] neo7PT-VuEE: Downloading MPD manifest\n",
      "[youtube] neo7PT-VuEE: Downloading MPD manifest\n",
      "[info] Writing video subtitles to: subtitle_neo7PT-VuEE.en.vtt\n",
      "[youtube] iKerlwEJYdg: Downloading webpage\n",
      "[youtube] iKerlwEJYdg: Downloading video info webpage\n",
      "[youtube] iKerlwEJYdg: Looking for automatic captions\n"
     ]
    },
    {
     "name": "stderr",
     "output_type": "stream",
     "text": [
      "WARNING: Couldn't find automatic captions for iKerlwEJYdg\n"
     ]
    },
    {
     "name": "stdout",
     "output_type": "stream",
     "text": [
      "No captions for iKerlwEJYdg\n",
      "[youtube] NYlFMAgTn2Q: Downloading webpage\n",
      "[youtube] NYlFMAgTn2Q: Downloading video info webpage\n",
      "[youtube] NYlFMAgTn2Q: Looking for automatic captions\n"
     ]
    },
    {
     "name": "stderr",
     "output_type": "stream",
     "text": [
      "WARNING: Couldn't find automatic captions for NYlFMAgTn2Q\n"
     ]
    },
    {
     "name": "stdout",
     "output_type": "stream",
     "text": [
      "No captions for NYlFMAgTn2Q\n",
      "[youtube] GtDxBFyK_IQ: Downloading webpage\n",
      "[youtube] GtDxBFyK_IQ: Downloading video info webpage\n",
      "[youtube] GtDxBFyK_IQ: Looking for automatic captions\n",
      "[info] Writing video subtitles to: subtitle_GtDxBFyK_IQ.en.vtt\n",
      "[youtube] lo4HLLHFlYc: Downloading webpage\n",
      "[youtube] lo4HLLHFlYc: Downloading video info webpage\n",
      "[youtube] lo4HLLHFlYc: Looking for automatic captions\n",
      "[info] Writing video subtitles to: subtitle_lo4HLLHFlYc.en.vtt\n",
      "[youtube] wC4McYS0EEw: Downloading webpage\n",
      "[youtube] wC4McYS0EEw: Downloading video info webpage\n",
      "[youtube] wC4McYS0EEw: Looking for automatic captions\n",
      "[info] Writing video subtitles to: subtitle_wC4McYS0EEw.en.vtt\n",
      "[youtube] 1YMqk_gKNTE: Downloading webpage\n",
      "[youtube] 1YMqk_gKNTE: Downloading video info webpage\n",
      "[youtube] 1YMqk_gKNTE: Looking for automatic captions\n",
      "[info] Writing video subtitles to: subtitle_1YMqk_gKNTE.en.vtt\n",
      "[youtube] 3DQZXP9Am14: Downloading webpage\n",
      "[youtube] 3DQZXP9Am14: Downloading video info webpage\n",
      "[youtube] 3DQZXP9Am14: Looking for automatic captions\n",
      "[youtube] 3DQZXP9Am14: Downloading MPD manifest\n",
      "[youtube] 3DQZXP9Am14: Downloading MPD manifest\n",
      "[info] Writing video subtitles to: subtitle_3DQZXP9Am14.en.vtt\n",
      "[youtube] yT22q_BbsaM: Downloading webpage\n",
      "[youtube] yT22q_BbsaM: Downloading video info webpage\n",
      "[youtube] yT22q_BbsaM: Looking for automatic captions\n",
      "[info] Writing video subtitles to: subtitle_yT22q_BbsaM.en.vtt\n",
      "[youtube] 4tqGGFDEyds: Downloading webpage\n",
      "[youtube] 4tqGGFDEyds: Downloading video info webpage\n",
      "[youtube] 4tqGGFDEyds: Looking for automatic captions\n"
     ]
    },
    {
     "name": "stderr",
     "output_type": "stream",
     "text": [
      "WARNING: Couldn't find automatic captions for 4tqGGFDEyds\n"
     ]
    },
    {
     "name": "stdout",
     "output_type": "stream",
     "text": [
      "No captions for 4tqGGFDEyds\n",
      "[youtube] vKVO_wjSMHo: Downloading webpage\n",
      "[youtube] vKVO_wjSMHo: Downloading video info webpage\n",
      "[youtube] vKVO_wjSMHo: Looking for automatic captions\n",
      "[youtube] vKVO_wjSMHo: Downloading MPD manifest\n",
      "[youtube] vKVO_wjSMHo: Downloading MPD manifest\n",
      "[info] Writing video subtitles to: subtitle_vKVO_wjSMHo.en.vtt\n",
      "[youtube] QS3iAa3aA_o: Downloading webpage\n",
      "[youtube] QS3iAa3aA_o: Downloading video info webpage\n",
      "[youtube] QS3iAa3aA_o: Looking for automatic captions\n",
      "[info] Writing video subtitles to: subtitle_QS3iAa3aA_o.en.vtt\n",
      "[youtube] cYF_QjP_cMU: Downloading webpage\n",
      "[youtube] cYF_QjP_cMU: Downloading video info webpage\n",
      "[youtube] cYF_QjP_cMU: Looking for automatic captions\n",
      "[info] Writing video subtitles to: subtitle_cYF_QjP_cMU.en.vtt\n",
      "[youtube] xW6XG7pG8zI: Downloading webpage\n",
      "[youtube] xW6XG7pG8zI: Downloading video info webpage\n",
      "[youtube] xW6XG7pG8zI: Looking for automatic captions\n",
      "[info] Writing video subtitles to: subtitle_xW6XG7pG8zI.en.vtt\n",
      "[youtube] QUcAv7zpDhQ: Downloading webpage\n",
      "[youtube] QUcAv7zpDhQ: Downloading video info webpage\n",
      "[youtube] QUcAv7zpDhQ: Looking for automatic captions\n",
      "[info] Writing video subtitles to: subtitle_QUcAv7zpDhQ.en.vtt\n",
      "[youtube] t4tXXOvB1H8: Downloading webpage\n",
      "[youtube] t4tXXOvB1H8: Downloading video info webpage\n",
      "[youtube] t4tXXOvB1H8: Looking for automatic captions\n",
      "[info] Writing video subtitles to: subtitle_t4tXXOvB1H8.en.vtt\n",
      "[youtube] rgvy7A8pGf4: Downloading webpage\n",
      "[youtube] rgvy7A8pGf4: Downloading video info webpage\n",
      "[youtube] rgvy7A8pGf4: Looking for automatic captions\n",
      "[info] Writing video subtitles to: subtitle_rgvy7A8pGf4.en.vtt\n",
      "[youtube] Uf0tVCs2xFQ: Downloading webpage\n",
      "[youtube] Uf0tVCs2xFQ: Downloading video info webpage\n",
      "[youtube] Uf0tVCs2xFQ: Looking for automatic captions\n"
     ]
    },
    {
     "name": "stderr",
     "output_type": "stream",
     "text": [
      "WARNING: Couldn't find automatic captions for Uf0tVCs2xFQ\n"
     ]
    },
    {
     "name": "stdout",
     "output_type": "stream",
     "text": [
      "No captions for Uf0tVCs2xFQ\n",
      "[youtube] WQg45Suh-8M: Downloading webpage\n",
      "[youtube] WQg45Suh-8M: Downloading video info webpage\n",
      "[youtube] WQg45Suh-8M: Looking for automatic captions\n",
      "[info] Writing video subtitles to: subtitle_WQg45Suh-8M.en.vtt\n",
      "[youtube] c7lXMQQzHQU: Downloading webpage\n",
      "[youtube] c7lXMQQzHQU: Downloading video info webpage\n",
      "[youtube] c7lXMQQzHQU: Looking for automatic captions\n",
      "[info] Writing video subtitles to: subtitle_c7lXMQQzHQU.en.vtt\n",
      "[youtube] g3RnqB7Yycg: Downloading webpage\n",
      "[youtube] g3RnqB7Yycg: Downloading video info webpage\n",
      "[youtube] g3RnqB7Yycg: Looking for automatic captions\n"
     ]
    },
    {
     "name": "stderr",
     "output_type": "stream",
     "text": [
      "WARNING: Couldn't find automatic captions for g3RnqB7Yycg\n"
     ]
    },
    {
     "name": "stdout",
     "output_type": "stream",
     "text": [
      "No captions for g3RnqB7Yycg\n",
      "[youtube] rUbVnwOUFTQ: Downloading webpage\n",
      "[youtube] rUbVnwOUFTQ: Downloading video info webpage\n",
      "[youtube] rUbVnwOUFTQ: Looking for automatic captions\n",
      "[info] Writing video subtitles to: subtitle_rUbVnwOUFTQ.en.vtt\n",
      "[youtube] 9PW_Zypl_l8: Downloading webpage\n",
      "[youtube] 9PW_Zypl_l8: Downloading video info webpage\n",
      "[youtube] 9PW_Zypl_l8: Looking for automatic captions\n",
      "[info] Writing video subtitles to: subtitle_9PW_Zypl_l8.en.vtt\n",
      "[youtube] 4mGsLSOZGxo: Downloading webpage\n",
      "[youtube] 4mGsLSOZGxo: Downloading video info webpage\n",
      "[youtube] 4mGsLSOZGxo: Looking for automatic captions\n",
      "[info] Writing video subtitles to: subtitle_4mGsLSOZGxo.en.vtt\n",
      "[youtube] QULw4_q9HSg: Downloading webpage\n",
      "[youtube] QULw4_q9HSg: Downloading video info webpage\n",
      "[youtube] QULw4_q9HSg: Looking for automatic captions\n",
      "[info] Writing video subtitles to: subtitle_QULw4_q9HSg.en.vtt\n",
      "[youtube] nbybQhU0Kdo: Downloading webpage\n",
      "[youtube] nbybQhU0Kdo: Downloading video info webpage\n",
      "[youtube] nbybQhU0Kdo: Looking for automatic captions\n",
      "[info] Writing video subtitles to: subtitle_nbybQhU0Kdo.en.vtt\n",
      "[youtube] Bc4dVmeFPn0: Downloading webpage\n",
      "[youtube] Bc4dVmeFPn0: Downloading video info webpage\n",
      "[youtube] Bc4dVmeFPn0: Looking for automatic captions\n"
     ]
    },
    {
     "name": "stderr",
     "output_type": "stream",
     "text": [
      "WARNING: Couldn't find automatic captions for Bc4dVmeFPn0\n"
     ]
    },
    {
     "name": "stdout",
     "output_type": "stream",
     "text": [
      "No captions for Bc4dVmeFPn0\n",
      "[youtube] 01yUQkJth0Q: Downloading webpage\n",
      "[youtube] 01yUQkJth0Q: Downloading video info webpage\n",
      "[youtube] 01yUQkJth0Q: Looking for automatic captions\n",
      "[info] Writing video subtitles to: subtitle_01yUQkJth0Q.en.vtt\n",
      "[youtube] lLkYf0oqlHs: Downloading webpage\n",
      "[youtube] lLkYf0oqlHs: Downloading video info webpage\n",
      "[youtube] lLkYf0oqlHs: Looking for automatic captions\n",
      "[info] Writing video subtitles to: subtitle_lLkYf0oqlHs.en.vtt\n",
      "[youtube] x_23v8m73ds: Downloading webpage\n",
      "[youtube] x_23v8m73ds: Downloading video info webpage\n",
      "[youtube] x_23v8m73ds: Looking for automatic captions\n"
     ]
    },
    {
     "name": "stderr",
     "output_type": "stream",
     "text": [
      "WARNING: Couldn't find automatic captions for x_23v8m73ds\n"
     ]
    },
    {
     "name": "stdout",
     "output_type": "stream",
     "text": [
      "[youtube] x_23v8m73ds: Downloading MPD manifest\n",
      "[youtube] x_23v8m73ds: Downloading MPD manifest\n",
      "No captions for x_23v8m73ds\n",
      "[youtube] fICEw26WA7c: Downloading webpage\n",
      "[youtube] fICEw26WA7c: Downloading video info webpage\n",
      "[youtube] fICEw26WA7c: Looking for automatic captions\n"
     ]
    },
    {
     "name": "stderr",
     "output_type": "stream",
     "text": [
      "WARNING: Couldn't find automatic captions for fICEw26WA7c\n"
     ]
    },
    {
     "name": "stdout",
     "output_type": "stream",
     "text": [
      "No captions for fICEw26WA7c\n",
      "[youtube] KI1Bktp0ny0: Downloading webpage\n",
      "[youtube] KI1Bktp0ny0: Downloading video info webpage\n",
      "[youtube] KI1Bktp0ny0: Looking for automatic captions\n"
     ]
    },
    {
     "name": "stderr",
     "output_type": "stream",
     "text": [
      "WARNING: Couldn't find automatic captions for KI1Bktp0ny0\n"
     ]
    },
    {
     "name": "stdout",
     "output_type": "stream",
     "text": [
      "No captions for KI1Bktp0ny0\n",
      "[youtube] wN6IVn7z04w: Downloading webpage\n",
      "[youtube] wN6IVn7z04w: Downloading video info webpage\n",
      "[youtube] wN6IVn7z04w: Looking for automatic captions\n",
      "[info] Writing video subtitles to: subtitle_wN6IVn7z04w.en.vtt\n",
      "[youtube] krrO_gcyVxc: Downloading webpage\n",
      "[youtube] krrO_gcyVxc: Downloading video info webpage\n",
      "[youtube] krrO_gcyVxc: Looking for automatic captions\n"
     ]
    },
    {
     "name": "stderr",
     "output_type": "stream",
     "text": [
      "WARNING: Couldn't find automatic captions for krrO_gcyVxc\n"
     ]
    },
    {
     "name": "stdout",
     "output_type": "stream",
     "text": [
      "[youtube] krrO_gcyVxc: Downloading MPD manifest\n",
      "[youtube] krrO_gcyVxc: Downloading MPD manifest\n",
      "No captions for krrO_gcyVxc\n",
      "[youtube] nFHld2hOT2E: Downloading webpage\n",
      "[youtube] nFHld2hOT2E: Downloading video info webpage\n",
      "[youtube] nFHld2hOT2E: Looking for automatic captions\n",
      "[youtube] nFHld2hOT2E: Downloading MPD manifest\n",
      "[youtube] nFHld2hOT2E: Downloading MPD manifest\n",
      "[info] Writing video subtitles to: subtitle_nFHld2hOT2E.en.vtt\n",
      "[youtube] LXOQB0wWQyc: Downloading webpage\n",
      "[youtube] LXOQB0wWQyc: Downloading video info webpage\n",
      "[youtube] LXOQB0wWQyc: Looking for automatic captions\n",
      "[youtube] LXOQB0wWQyc: Downloading MPD manifest\n",
      "[youtube] LXOQB0wWQyc: Downloading MPD manifest\n",
      "[info] Writing video subtitles to: subtitle_LXOQB0wWQyc.en.vtt\n",
      "[youtube] uEQLOmIqYIY: Downloading webpage\n",
      "[youtube] uEQLOmIqYIY: Downloading video info webpage\n",
      "[youtube] uEQLOmIqYIY: Looking for automatic captions\n",
      "[info] Writing video subtitles to: subtitle_uEQLOmIqYIY.en.vtt\n",
      "[youtube] AwbKKwAdilg: Downloading webpage\n",
      "[youtube] AwbKKwAdilg: Downloading video info webpage\n",
      "[youtube] AwbKKwAdilg: Looking for automatic captions\n",
      "[info] Writing video subtitles to: subtitle_AwbKKwAdilg.en.vtt\n",
      "[youtube] YxBOYfaU87U: Downloading webpage\n",
      "[youtube] YxBOYfaU87U: Downloading video info webpage\n",
      "[youtube] YxBOYfaU87U: Looking for automatic captions\n",
      "[info] Writing video subtitles to: subtitle_YxBOYfaU87U.en.vtt\n",
      "[youtube] lPNp3sf3oqU: Downloading webpage\n",
      "[youtube] lPNp3sf3oqU: Downloading video info webpage\n",
      "[youtube] lPNp3sf3oqU: Looking for automatic captions\n",
      "[info] Writing video subtitles to: subtitle_lPNp3sf3oqU.en.vtt\n",
      "[youtube] hq5kwsIz6uo: Downloading webpage\n",
      "[youtube] hq5kwsIz6uo: Downloading video info webpage\n",
      "[youtube] hq5kwsIz6uo: Looking for automatic captions\n"
     ]
    },
    {
     "name": "stderr",
     "output_type": "stream",
     "text": [
      "WARNING: Couldn't find automatic captions for hq5kwsIz6uo\n"
     ]
    },
    {
     "name": "stdout",
     "output_type": "stream",
     "text": [
      "No captions for hq5kwsIz6uo\n",
      "[youtube] XEep3lqZlKo: Downloading webpage\n",
      "[youtube] XEep3lqZlKo: Downloading video info webpage\n",
      "[youtube] XEep3lqZlKo: Looking for automatic captions\n",
      "[info] Writing video subtitles to: subtitle_XEep3lqZlKo.en.vtt\n",
      "[youtube] 4HGLfmGZdXA: Downloading webpage\n",
      "[youtube] 4HGLfmGZdXA: Downloading video info webpage\n",
      "[youtube] 4HGLfmGZdXA: Looking for automatic captions\n",
      "[youtube] 4HGLfmGZdXA: Downloading MPD manifest\n",
      "[youtube] 4HGLfmGZdXA: Downloading MPD manifest\n",
      "[info] Writing video subtitles to: subtitle_4HGLfmGZdXA.en.vtt\n",
      "[youtube] hYeTtU_RSTQ: Downloading webpage\n",
      "[youtube] hYeTtU_RSTQ: Downloading video info webpage\n",
      "[youtube] hYeTtU_RSTQ: Looking for automatic captions\n"
     ]
    },
    {
     "name": "stderr",
     "output_type": "stream",
     "text": [
      "WARNING: Couldn't find automatic captions for hYeTtU_RSTQ\n"
     ]
    },
    {
     "name": "stdout",
     "output_type": "stream",
     "text": [
      "[youtube] hYeTtU_RSTQ: Downloading MPD manifest\n",
      "[youtube] hYeTtU_RSTQ: Downloading MPD manifest\n",
      "No captions for hYeTtU_RSTQ\n",
      "[youtube] P1NKdpwRqo4: Downloading webpage\n",
      "[youtube] P1NKdpwRqo4: Downloading video info webpage\n",
      "[youtube] P1NKdpwRqo4: Looking for automatic captions\n"
     ]
    },
    {
     "name": "stderr",
     "output_type": "stream",
     "text": [
      "WARNING: Couldn't find automatic captions for P1NKdpwRqo4\n"
     ]
    },
    {
     "name": "stdout",
     "output_type": "stream",
     "text": [
      "No captions for P1NKdpwRqo4\n",
      "[youtube] ofGnEDJvgnI: Downloading webpage\n",
      "[youtube] ofGnEDJvgnI: Downloading video info webpage\n",
      "[youtube] ofGnEDJvgnI: Looking for automatic captions\n",
      "[info] Writing video subtitles to: subtitle_ofGnEDJvgnI.en.vtt\n",
      "[youtube] 8M0BSy01B2M: Downloading webpage\n",
      "[youtube] 8M0BSy01B2M: Downloading video info webpage\n",
      "[youtube] 8M0BSy01B2M: Looking for automatic captions\n",
      "[info] Writing video subtitles to: subtitle_8M0BSy01B2M.en.vtt\n",
      "[youtube] PKPbmoo8ZL8: Downloading webpage\n",
      "[youtube] PKPbmoo8ZL8: Downloading video info webpage\n",
      "[youtube] PKPbmoo8ZL8: Looking for automatic captions\n",
      "[info] Writing video subtitles to: subtitle_PKPbmoo8ZL8.en.vtt\n",
      "[youtube] 1xTCV0Q1w60: Downloading webpage\n",
      "[youtube] 1xTCV0Q1w60: Downloading video info webpage\n",
      "[youtube] 1xTCV0Q1w60: Looking for automatic captions\n",
      "[info] Writing video subtitles to: subtitle_1xTCV0Q1w60.en.vtt\n",
      "[youtube] GIDkHXYR7hY: Downloading webpage\n",
      "[youtube] GIDkHXYR7hY: Downloading video info webpage\n",
      "[youtube] GIDkHXYR7hY: Looking for automatic captions\n",
      "[info] Writing video subtitles to: subtitle_GIDkHXYR7hY.en.vtt\n",
      "[youtube] BZIn8JAXmdI: Downloading webpage\n",
      "[youtube] BZIn8JAXmdI: Downloading video info webpage\n",
      "[youtube] BZIn8JAXmdI: Looking for automatic captions\n",
      "[info] Writing video subtitles to: subtitle_BZIn8JAXmdI.en.vtt\n",
      "[youtube] c0e9pf9dmbs: Downloading webpage\n",
      "[youtube] c0e9pf9dmbs: Downloading video info webpage\n",
      "[youtube] c0e9pf9dmbs: Looking for automatic captions\n",
      "[info] Writing video subtitles to: subtitle_c0e9pf9dmbs.en.vtt\n",
      "[youtube] bO_MLpT7Uu4: Downloading webpage\n",
      "[youtube] bO_MLpT7Uu4: Downloading video info webpage\n",
      "[youtube] bO_MLpT7Uu4: Downloading js player vfljZ8Z3j\n"
     ]
    },
    {
     "name": "stderr",
     "output_type": "stream",
     "text": [
      "ERROR: Signature extraction failed: Traceback (most recent call last):\n",
      "  File \"/anaconda3/lib/python3.6/youtube_dl/extractor/youtube.py\", line 1221, in _decrypt_signature\n",
      "    video_id, player_url, s\n",
      "  File \"/anaconda3/lib/python3.6/youtube_dl/extractor/youtube.py\", line 1130, in _extract_signature_function\n",
      "    res = self._parse_sig_js(code)\n",
      "  File \"/anaconda3/lib/python3.6/youtube_dl/extractor/youtube.py\", line 1193, in _parse_sig_js\n",
      "    jscode, 'Initial JS player signature function name', group='sig')\n",
      "  File \"/anaconda3/lib/python3.6/youtube_dl/extractor/common.py\", line 983, in _search_regex\n",
      "    raise RegexNotFoundError('Unable to extract %s' % _name)\n",
      "youtube_dl.utils.RegexNotFoundError: Unable to extract Initial JS player signature function name; please report this issue on https://yt-dl.org/bug . Make sure you are using the latest version; see  https://yt-dl.org/update  on how to update. Be sure to call youtube-dl with the --verbose flag and include its complete output.\n",
      " (caused by RegexNotFoundError('Unable to extract Initial JS player signature function name; please report this issue on https://yt-dl.org/bug . Make sure you are using the latest version; see  https://yt-dl.org/update  on how to update. Be sure to call youtube-dl with the --verbose flag and include its complete output.',)); please report this issue on https://yt-dl.org/bug . Make sure you are using the latest version; see  https://yt-dl.org/update  on how to update. Be sure to call youtube-dl with the --verbose flag and include its complete output.\n"
     ]
    },
    {
     "name": "stdout",
     "output_type": "stream",
     "text": [
      "No captions for bO_MLpT7Uu4\n",
      "[youtube] 9rlIWQYYST8: Downloading webpage\n",
      "[youtube] 9rlIWQYYST8: Downloading video info webpage\n",
      "[youtube] 9rlIWQYYST8: Looking for automatic captions\n"
     ]
    },
    {
     "name": "stderr",
     "output_type": "stream",
     "text": [
      "WARNING: Couldn't find automatic captions for 9rlIWQYYST8\n"
     ]
    },
    {
     "name": "stdout",
     "output_type": "stream",
     "text": [
      "No captions for 9rlIWQYYST8\n",
      "[youtube] 9rm1_3BwUC4: Downloading webpage\n",
      "[youtube] 9rm1_3BwUC4: Downloading video info webpage\n",
      "[youtube] 9rm1_3BwUC4: Looking for automatic captions\n",
      "[info] Writing video subtitles to: subtitle_9rm1_3BwUC4.en.vtt\n",
      "[youtube] jDl96krBqwk: Downloading webpage\n",
      "[youtube] jDl96krBqwk: Downloading video info webpage\n",
      "[youtube] jDl96krBqwk: Looking for automatic captions\n",
      "[info] Writing video subtitles to: subtitle_jDl96krBqwk.en.vtt\n",
      "[youtube] w8DyAK7sMqY: Downloading webpage\n",
      "[youtube] w8DyAK7sMqY: Downloading video info webpage\n",
      "[youtube] w8DyAK7sMqY: Looking for automatic captions\n",
      "[info] Writing video subtitles to: subtitle_w8DyAK7sMqY.en.vtt\n",
      "[youtube] rlNVtNFlJ2E: Downloading webpage\n",
      "[youtube] rlNVtNFlJ2E: Downloading video info webpage\n",
      "[youtube] rlNVtNFlJ2E: Looking for automatic captions\n"
     ]
    },
    {
     "name": "stderr",
     "output_type": "stream",
     "text": [
      "WARNING: Couldn't find automatic captions for rlNVtNFlJ2E\n"
     ]
    },
    {
     "name": "stdout",
     "output_type": "stream",
     "text": [
      "[youtube] rlNVtNFlJ2E: Downloading MPD manifest\n",
      "[youtube] rlNVtNFlJ2E: Downloading MPD manifest\n",
      "No captions for rlNVtNFlJ2E\n",
      "[youtube] zm7syOqzT5c: Downloading webpage\n",
      "[youtube] zm7syOqzT5c: Downloading video info webpage\n",
      "[youtube] zm7syOqzT5c: Looking for automatic captions\n",
      "[info] Writing video subtitles to: subtitle_zm7syOqzT5c.en.vtt\n",
      "[youtube] kH3lZkMgJ8g: Downloading webpage\n",
      "[youtube] kH3lZkMgJ8g: Downloading video info webpage\n",
      "[youtube] kH3lZkMgJ8g: Looking for automatic captions\n",
      "[info] Writing video subtitles to: subtitle_kH3lZkMgJ8g.en.vtt\n",
      "[youtube] OM_QaiPZpwE: Downloading webpage\n",
      "[youtube] OM_QaiPZpwE: Downloading video info webpage\n",
      "[youtube] OM_QaiPZpwE: Looking for automatic captions\n"
     ]
    },
    {
     "name": "stderr",
     "output_type": "stream",
     "text": [
      "WARNING: Couldn't find automatic captions for OM_QaiPZpwE\n"
     ]
    },
    {
     "name": "stdout",
     "output_type": "stream",
     "text": [
      "No captions for OM_QaiPZpwE\n",
      "[youtube] hRFaZxyfbD4: Downloading webpage\n",
      "[youtube] hRFaZxyfbD4: Downloading video info webpage\n",
      "[youtube] hRFaZxyfbD4: Looking for automatic captions\n",
      "[youtube] hRFaZxyfbD4: Downloading MPD manifest\n",
      "[youtube] hRFaZxyfbD4: Downloading MPD manifest\n",
      "[info] Writing video subtitles to: subtitle_hRFaZxyfbD4.en.vtt\n",
      "[youtube] Eqrdcy-AETc: Downloading webpage\n",
      "[youtube] Eqrdcy-AETc: Downloading video info webpage\n",
      "[youtube] Eqrdcy-AETc: Looking for automatic captions\n"
     ]
    },
    {
     "name": "stderr",
     "output_type": "stream",
     "text": [
      "WARNING: Couldn't find automatic captions for Eqrdcy-AETc\n"
     ]
    },
    {
     "name": "stdout",
     "output_type": "stream",
     "text": [
      "No captions for Eqrdcy-AETc\n",
      "[youtube] yFbmD7-zZLo: Downloading webpage\n",
      "[youtube] yFbmD7-zZLo: Downloading video info webpage\n",
      "[youtube] yFbmD7-zZLo: Looking for automatic captions\n",
      "[info] Writing video subtitles to: subtitle_yFbmD7-zZLo.en.vtt\n",
      "[youtube] G8x7QE17bNU: Downloading webpage\n",
      "[youtube] G8x7QE17bNU: Downloading video info webpage\n",
      "[youtube] G8x7QE17bNU: Looking for automatic captions\n",
      "[youtube] G8x7QE17bNU: Downloading MPD manifest\n",
      "[youtube] G8x7QE17bNU: Downloading MPD manifest\n",
      "[info] Writing video subtitles to: subtitle_G8x7QE17bNU.en.vtt\n",
      "[youtube] 29MQL6Id7qY: Downloading webpage\n",
      "[youtube] 29MQL6Id7qY: Downloading video info webpage\n",
      "[youtube] 29MQL6Id7qY: Looking for automatic captions\n",
      "[youtube] 29MQL6Id7qY: Downloading MPD manifest\n",
      "[youtube] 29MQL6Id7qY: Downloading MPD manifest\n",
      "[info] Writing video subtitles to: subtitle_29MQL6Id7qY.en.vtt\n",
      "[youtube] 2CIsokpyErw: Downloading webpage\n",
      "[youtube] 2CIsokpyErw: Downloading video info webpage\n",
      "[youtube] 2CIsokpyErw: Looking for automatic captions\n"
     ]
    },
    {
     "name": "stderr",
     "output_type": "stream",
     "text": [
      "WARNING: Couldn't find automatic captions for 2CIsokpyErw\n"
     ]
    },
    {
     "name": "stdout",
     "output_type": "stream",
     "text": [
      "[youtube] 2CIsokpyErw: Downloading MPD manifest\n",
      "[youtube] 2CIsokpyErw: Downloading MPD manifest\n",
      "No captions for 2CIsokpyErw\n",
      "[youtube] U00cfWsAQYk: Downloading webpage\n",
      "[youtube] U00cfWsAQYk: Downloading video info webpage\n",
      "[youtube] U00cfWsAQYk: Looking for automatic captions\n",
      "[info] Writing video subtitles to: subtitle_U00cfWsAQYk.en.vtt\n",
      "[youtube] 0ZWkvM2OmE8: Downloading webpage\n",
      "[youtube] 0ZWkvM2OmE8: Downloading video info webpage\n",
      "[youtube] 0ZWkvM2OmE8: Looking for automatic captions\n"
     ]
    },
    {
     "name": "stderr",
     "output_type": "stream",
     "text": [
      "WARNING: Couldn't find automatic captions for 0ZWkvM2OmE8\n"
     ]
    },
    {
     "name": "stdout",
     "output_type": "stream",
     "text": [
      "No captions for 0ZWkvM2OmE8\n",
      "[youtube] 9ZnSjCxX9hI: Downloading webpage\n",
      "[youtube] 9ZnSjCxX9hI: Downloading video info webpage\n",
      "[youtube] 9ZnSjCxX9hI: Looking for automatic captions\n",
      "[youtube] 9ZnSjCxX9hI: Downloading MPD manifest\n",
      "[youtube] 9ZnSjCxX9hI: Downloading MPD manifest\n",
      "[info] Writing video subtitles to: subtitle_9ZnSjCxX9hI.en.vtt\n",
      "[youtube] 6OCA_yOn9hE: Downloading webpage\n",
      "[youtube] 6OCA_yOn9hE: Downloading video info webpage\n",
      "[youtube] 6OCA_yOn9hE: Looking for automatic captions\n",
      "[youtube] 6OCA_yOn9hE: Downloading MPD manifest\n",
      "[youtube] 6OCA_yOn9hE: Downloading MPD manifest\n",
      "[info] Writing video subtitles to: subtitle_6OCA_yOn9hE.en.vtt\n",
      "[youtube] 0XSxNLVvMxI: Downloading webpage\n",
      "[youtube] 0XSxNLVvMxI: Downloading video info webpage\n",
      "[youtube] 0XSxNLVvMxI: Looking for automatic captions\n",
      "[info] Writing video subtitles to: subtitle_0XSxNLVvMxI.en.vtt\n",
      "[youtube] pM1NiKfiFR8: Downloading webpage\n",
      "[youtube] pM1NiKfiFR8: Downloading video info webpage\n",
      "[youtube] pM1NiKfiFR8: Looking for automatic captions\n",
      "[info] Writing video subtitles to: subtitle_pM1NiKfiFR8.en.vtt\n",
      "[youtube] 1e8WOJ6tdok: Downloading webpage\n",
      "[youtube] 1e8WOJ6tdok: Downloading video info webpage\n",
      "[youtube] 1e8WOJ6tdok: Looking for automatic captions\n",
      "[info] Writing video subtitles to: subtitle_1e8WOJ6tdok.en.vtt\n",
      "[youtube] YXVa8aoXBH0: Downloading webpage\n",
      "[youtube] YXVa8aoXBH0: Downloading video info webpage\n",
      "[youtube] YXVa8aoXBH0: Downloading js player vfl4nRobu\n",
      "[youtube] YXVa8aoXBH0: Looking for automatic captions\n",
      "[info] Writing video subtitles to: subtitle_YXVa8aoXBH0.en.vtt\n",
      "[youtube] Jwg3R5Z1bd8: Downloading webpage\n",
      "[youtube] Jwg3R5Z1bd8: Downloading video info webpage\n",
      "[youtube] Jwg3R5Z1bd8: Looking for automatic captions\n",
      "[info] Writing video subtitles to: subtitle_Jwg3R5Z1bd8.en.vtt\n",
      "[youtube] 4JWftxLxat8: Downloading webpage\n",
      "[youtube] 4JWftxLxat8: Downloading video info webpage\n",
      "[youtube] 4JWftxLxat8: Looking for automatic captions\n",
      "[info] Writing video subtitles to: subtitle_4JWftxLxat8.en.vtt\n",
      "[youtube] aauUA7CI1Zo: Downloading webpage\n",
      "[youtube] aauUA7CI1Zo: Downloading video info webpage\n",
      "[youtube] aauUA7CI1Zo: Looking for automatic captions\n",
      "[info] Writing video subtitles to: subtitle_aauUA7CI1Zo.en.vtt\n",
      "[youtube] XioSlD0X-xY: Downloading webpage\n",
      "[youtube] XioSlD0X-xY: Downloading video info webpage\n",
      "[youtube] XioSlD0X-xY: Looking for automatic captions\n",
      "[info] Writing video subtitles to: subtitle_XioSlD0X-xY.en.vtt\n",
      "[youtube] KbQT1OJQJzU: Downloading webpage\n",
      "[youtube] KbQT1OJQJzU: Downloading video info webpage\n",
      "[youtube] KbQT1OJQJzU: Looking for automatic captions\n",
      "[info] Writing video subtitles to: subtitle_KbQT1OJQJzU.en.vtt\n",
      "[youtube] 1ApvF5w5_6E: Downloading webpage\n",
      "[youtube] 1ApvF5w5_6E: Downloading video info webpage\n",
      "[youtube] 1ApvF5w5_6E: Looking for automatic captions\n",
      "[youtube] 1ApvF5w5_6E: Downloading MPD manifest\n",
      "[youtube] 1ApvF5w5_6E: Downloading MPD manifest\n",
      "[info] Writing video subtitles to: subtitle_1ApvF5w5_6E.en.vtt\n",
      "[youtube] MjEUd3s-e88: Downloading webpage\n",
      "[youtube] MjEUd3s-e88: Downloading video info webpage\n",
      "[youtube] MjEUd3s-e88: Looking for automatic captions\n",
      "[info] Writing video subtitles to: subtitle_MjEUd3s-e88.en.vtt\n",
      "[youtube] LeLui8Gh9MU: Downloading webpage\n",
      "[youtube] LeLui8Gh9MU: Downloading video info webpage\n",
      "[youtube] LeLui8Gh9MU: Looking for automatic captions\n",
      "[info] Writing video subtitles to: subtitle_LeLui8Gh9MU.en.vtt\n",
      "[youtube] 0T__qsaOiMY: Downloading webpage\n",
      "[youtube] 0T__qsaOiMY: Downloading video info webpage\n",
      "[youtube] 0T__qsaOiMY: Looking for automatic captions\n"
     ]
    },
    {
     "name": "stderr",
     "output_type": "stream",
     "text": [
      "WARNING: Couldn't find automatic captions for 0T__qsaOiMY\n"
     ]
    },
    {
     "name": "stdout",
     "output_type": "stream",
     "text": [
      "No captions for 0T__qsaOiMY\n",
      "[youtube] TRdGaoOH1nc: Downloading webpage\n",
      "[youtube] TRdGaoOH1nc: Downloading video info webpage\n",
      "[youtube] TRdGaoOH1nc: Looking for automatic captions\n"
     ]
    },
    {
     "name": "stderr",
     "output_type": "stream",
     "text": [
      "WARNING: Couldn't find automatic captions for TRdGaoOH1nc\n"
     ]
    },
    {
     "name": "stdout",
     "output_type": "stream",
     "text": [
      "No captions for TRdGaoOH1nc\n",
      "[youtube] yIcmZth56ZU: Downloading webpage\n",
      "[youtube] yIcmZth56ZU: Downloading video info webpage\n",
      "[youtube] yIcmZth56ZU: Looking for automatic captions\n",
      "[info] Writing video subtitles to: subtitle_yIcmZth56ZU.en.vtt\n",
      "[youtube] rWSzI_27l5k: Downloading webpage\n",
      "[youtube] rWSzI_27l5k: Downloading video info webpage\n",
      "[youtube] rWSzI_27l5k: Looking for automatic captions\n",
      "[info] Writing video subtitles to: subtitle_rWSzI_27l5k.en.vtt\n",
      "[youtube] MY2A1s1qftA: Downloading webpage\n",
      "[youtube] MY2A1s1qftA: Downloading video info webpage\n",
      "[youtube] MY2A1s1qftA: Looking for automatic captions\n",
      "[info] Writing video subtitles to: subtitle_MY2A1s1qftA.en.vtt\n",
      "[youtube] gRlwXyJN0io: Downloading webpage\n",
      "[youtube] gRlwXyJN0io: Downloading video info webpage\n",
      "[youtube] gRlwXyJN0io: Looking for automatic captions\n",
      "[youtube] gRlwXyJN0io: Downloading MPD manifest\n",
      "[youtube] gRlwXyJN0io: Downloading MPD manifest\n",
      "[info] Writing video subtitles to: subtitle_gRlwXyJN0io.en.vtt\n",
      "[youtube] 0WZN5dpHGvo: Downloading webpage\n",
      "[youtube] 0WZN5dpHGvo: Downloading video info webpage\n",
      "[youtube] 0WZN5dpHGvo: Looking for automatic captions\n"
     ]
    },
    {
     "name": "stderr",
     "output_type": "stream",
     "text": [
      "WARNING: Couldn't find automatic captions for 0WZN5dpHGvo\n"
     ]
    },
    {
     "name": "stdout",
     "output_type": "stream",
     "text": [
      "No captions for 0WZN5dpHGvo\n",
      "[youtube] gSXMtDU-jYU: Downloading webpage\n",
      "[youtube] gSXMtDU-jYU: Downloading video info webpage\n",
      "[youtube] gSXMtDU-jYU: Looking for automatic captions\n",
      "[info] Writing video subtitles to: subtitle_gSXMtDU-jYU.en.vtt\n",
      "[youtube] FjruQ_hYah4: Downloading webpage\n",
      "[youtube] FjruQ_hYah4: Downloading video info webpage\n",
      "[youtube] FjruQ_hYah4: Looking for automatic captions\n",
      "[info] Writing video subtitles to: subtitle_FjruQ_hYah4.en.vtt\n",
      "[youtube] cq5ypN2XTc8: Downloading webpage\n",
      "[youtube] cq5ypN2XTc8: Downloading video info webpage\n",
      "[youtube] cq5ypN2XTc8: Looking for automatic captions\n",
      "[youtube] cq5ypN2XTc8: Downloading MPD manifest\n",
      "[info] Writing video subtitles to: subtitle_cq5ypN2XTc8.en.vtt\n",
      "[youtube] luxoH4_dEjc: Downloading webpage\n",
      "[youtube] luxoH4_dEjc: Downloading video info webpage\n",
      "[youtube] luxoH4_dEjc: Looking for automatic captions\n",
      "[info] Writing video subtitles to: subtitle_luxoH4_dEjc.en.vtt\n",
      "[youtube] Al8WcEnjY-M: Downloading webpage\n",
      "[youtube] Al8WcEnjY-M: Downloading video info webpage\n",
      "[youtube] Al8WcEnjY-M: Looking for automatic captions\n",
      "[youtube] Al8WcEnjY-M: Downloading MPD manifest\n",
      "[youtube] Al8WcEnjY-M: Downloading MPD manifest\n",
      "[info] Writing video subtitles to: subtitle_Al8WcEnjY-M.en.vtt\n",
      "[youtube] 2D9Mp2G349k: Downloading webpage\n",
      "[youtube] 2D9Mp2G349k: Downloading video info webpage\n",
      "[youtube] 2D9Mp2G349k: Looking for automatic captions\n",
      "[info] Writing video subtitles to: subtitle_2D9Mp2G349k.en.vtt\n",
      "[youtube] Wo0j9SH3AGo: Downloading webpage\n",
      "[youtube] Wo0j9SH3AGo: Downloading video info webpage\n",
      "[youtube] Wo0j9SH3AGo: Looking for automatic captions\n",
      "[info] Writing video subtitles to: subtitle_Wo0j9SH3AGo.en.vtt\n",
      "[youtube] U4vaH63Uvso: Downloading webpage\n",
      "[youtube] U4vaH63Uvso: Downloading video info webpage\n",
      "[youtube] U4vaH63Uvso: Looking for automatic captions\n",
      "[info] Writing video subtitles to: subtitle_U4vaH63Uvso.en.vtt\n",
      "[youtube] WCmWns5X3Yc: Downloading webpage\n",
      "[youtube] WCmWns5X3Yc: Downloading video info webpage\n",
      "[youtube] WCmWns5X3Yc: Looking for automatic captions\n",
      "[info] Writing video subtitles to: subtitle_WCmWns5X3Yc.en.vtt\n",
      "[youtube] MAWQ3nlCdow: Downloading webpage\n",
      "[youtube] MAWQ3nlCdow: Downloading video info webpage\n",
      "[youtube] MAWQ3nlCdow: Looking for automatic captions\n",
      "[youtube] MAWQ3nlCdow: Downloading MPD manifest\n",
      "[youtube] MAWQ3nlCdow: Downloading MPD manifest\n",
      "[info] Writing video subtitles to: subtitle_MAWQ3nlCdow.en.vtt\n",
      "[youtube] qs932ILdXZg: Downloading webpage\n",
      "[youtube] qs932ILdXZg: Downloading video info webpage\n",
      "[youtube] qs932ILdXZg: Looking for automatic captions\n",
      "[youtube] qs932ILdXZg: Downloading MPD manifest\n",
      "[youtube] qs932ILdXZg: Downloading MPD manifest\n",
      "[info] Writing video subtitles to: subtitle_qs932ILdXZg.en.vtt\n",
      "[youtube] Spchb0qx8mc: Downloading webpage\n",
      "[youtube] Spchb0qx8mc: Downloading video info webpage\n",
      "[youtube] Spchb0qx8mc: Looking for automatic captions\n",
      "[info] Writing video subtitles to: subtitle_Spchb0qx8mc.en.vtt\n",
      "[youtube] RckBUUEGPbw: Downloading webpage\n",
      "[youtube] RckBUUEGPbw: Downloading video info webpage\n",
      "[youtube] RckBUUEGPbw: Looking for automatic captions\n",
      "[info] Writing video subtitles to: subtitle_RckBUUEGPbw.en.vtt\n",
      "[youtube] CZLYNkziGEo: Downloading webpage\n",
      "[youtube] CZLYNkziGEo: Downloading video info webpage\n",
      "[youtube] CZLYNkziGEo: Looking for automatic captions\n"
     ]
    },
    {
     "name": "stderr",
     "output_type": "stream",
     "text": [
      "WARNING: Couldn't find automatic captions for CZLYNkziGEo\n"
     ]
    },
    {
     "name": "stdout",
     "output_type": "stream",
     "text": [
      "No captions for CZLYNkziGEo\n",
      "[youtube] NfY4xxZo6QQ: Downloading webpage\n",
      "[youtube] feXBJZFeA-g: Downloading webpage\n",
      "[youtube] feXBJZFeA-g: Downloading embed webpage\n",
      "[youtube] feXBJZFeA-g: Refetching age-gated info webpage\n",
      "[youtube] feXBJZFeA-g: Looking for automatic captions\n"
     ]
    },
    {
     "name": "stderr",
     "output_type": "stream",
     "text": [
      "WARNING: Couldn't find automatic captions for feXBJZFeA-g\n"
     ]
    },
    {
     "name": "stdout",
     "output_type": "stream",
     "text": [
      "No captions for NfY4xxZo6QQ\n",
      "[youtube] pJ5orfQZfrU: Downloading webpage\n",
      "[youtube] pJ5orfQZfrU: Downloading video info webpage\n",
      "[youtube] pJ5orfQZfrU: Looking for automatic captions\n",
      "[info] Writing video subtitles to: subtitle_pJ5orfQZfrU.en.vtt\n",
      "[youtube] TneIvmgKMFc: Downloading webpage\n",
      "[youtube] TneIvmgKMFc: Downloading video info webpage\n",
      "[youtube] TneIvmgKMFc: Looking for automatic captions\n"
     ]
    },
    {
     "name": "stderr",
     "output_type": "stream",
     "text": [
      "WARNING: Couldn't find automatic captions for TneIvmgKMFc\n"
     ]
    },
    {
     "name": "stdout",
     "output_type": "stream",
     "text": [
      "[youtube] TneIvmgKMFc: Downloading MPD manifest\n",
      "[youtube] TneIvmgKMFc: Downloading MPD manifest\n",
      "No captions for TneIvmgKMFc\n",
      "[youtube] xNZqU5-2Yjw: Downloading webpage\n",
      "[youtube] xNZqU5-2Yjw: Downloading video info webpage\n",
      "[youtube] xNZqU5-2Yjw: Looking for automatic captions\n",
      "[youtube] xNZqU5-2Yjw: Downloading MPD manifest\n",
      "[youtube] xNZqU5-2Yjw: Downloading MPD manifest\n",
      "[info] Writing video subtitles to: subtitle_xNZqU5-2Yjw.en.vtt\n",
      "[youtube] APN_tGTLwtA: Downloading webpage\n",
      "[youtube] APN_tGTLwtA: Downloading video info webpage\n",
      "[youtube] APN_tGTLwtA: Looking for automatic captions\n",
      "[youtube] APN_tGTLwtA: Downloading MPD manifest\n",
      "[youtube] APN_tGTLwtA: Downloading MPD manifest\n",
      "[info] Writing video subtitles to: subtitle_APN_tGTLwtA.en.vtt\n",
      "[youtube] QZDwtT8WNew: Downloading webpage\n",
      "[youtube] QZDwtT8WNew: Downloading video info webpage\n",
      "[youtube] QZDwtT8WNew: Looking for automatic captions\n",
      "[info] Writing video subtitles to: subtitle_QZDwtT8WNew.en.vtt\n",
      "[youtube] rbRCEjBiZ1g: Downloading webpage\n",
      "[youtube] rbRCEjBiZ1g: Downloading video info webpage\n",
      "[youtube] rbRCEjBiZ1g: Looking for automatic captions\n",
      "[info] Writing video subtitles to: subtitle_rbRCEjBiZ1g.en.vtt\n",
      "[youtube] A9WXO4Kge4o: Downloading webpage\n",
      "[youtube] A9WXO4Kge4o: Downloading video info webpage\n",
      "[youtube] A9WXO4Kge4o: Looking for automatic captions\n",
      "[info] Writing video subtitles to: subtitle_A9WXO4Kge4o.en.vtt\n",
      "[youtube] UudZYSucYeE: Downloading webpage\n",
      "[youtube] UudZYSucYeE: Downloading video info webpage\n",
      "[youtube] UudZYSucYeE: Looking for automatic captions\n",
      "[youtube] UudZYSucYeE: Downloading MPD manifest\n",
      "[youtube] UudZYSucYeE: Downloading MPD manifest\n",
      "[info] Writing video subtitles to: subtitle_UudZYSucYeE.en.vtt\n",
      "[youtube] VbUqXtgRzsE: Downloading webpage\n",
      "[youtube] VbUqXtgRzsE: Downloading video info webpage\n",
      "[youtube] VbUqXtgRzsE: Looking for automatic captions\n",
      "[info] Writing video subtitles to: subtitle_VbUqXtgRzsE.en.vtt\n",
      "[youtube] 5TIYfIkbb2U: Downloading webpage\n",
      "[youtube] 5TIYfIkbb2U: Downloading video info webpage\n",
      "[youtube] 5TIYfIkbb2U: Looking for automatic captions\n",
      "[info] Writing video subtitles to: subtitle_5TIYfIkbb2U.en.vtt\n",
      "[youtube] R37r0OQIghE: Downloading webpage\n",
      "[youtube] R37r0OQIghE: Downloading video info webpage\n",
      "[youtube] R37r0OQIghE: Looking for automatic captions\n",
      "[info] Writing video subtitles to: subtitle_R37r0OQIghE.en.vtt\n",
      "[youtube] AW_ILTO1LhA: Downloading webpage\n",
      "[youtube] AW_ILTO1LhA: Downloading video info webpage\n",
      "[youtube] AW_ILTO1LhA: Looking for automatic captions\n",
      "[info] Writing video subtitles to: subtitle_AW_ILTO1LhA.en.vtt\n",
      "[youtube] AX-3bXtP4fA: Downloading webpage\n",
      "[youtube] AX-3bXtP4fA: Downloading video info webpage\n",
      "[youtube] AX-3bXtP4fA: Looking for automatic captions\n",
      "[info] Writing video subtitles to: subtitle_AX-3bXtP4fA.en.vtt\n",
      "[youtube] e5Shjc4rMxw: Downloading webpage\n",
      "[youtube] e5Shjc4rMxw: Downloading video info webpage\n",
      "[youtube] e5Shjc4rMxw: Looking for automatic captions\n"
     ]
    },
    {
     "name": "stderr",
     "output_type": "stream",
     "text": [
      "WARNING: Couldn't find automatic captions for e5Shjc4rMxw\n"
     ]
    },
    {
     "name": "stdout",
     "output_type": "stream",
     "text": [
      "No captions for e5Shjc4rMxw\n",
      "[youtube] A_HNH6Mo7oI: Downloading webpage\n",
      "[youtube] A_HNH6Mo7oI: Downloading video info webpage\n",
      "[youtube] A_HNH6Mo7oI: Looking for automatic captions\n"
     ]
    },
    {
     "name": "stderr",
     "output_type": "stream",
     "text": [
      "WARNING: Couldn't find automatic captions for A_HNH6Mo7oI\n"
     ]
    },
    {
     "name": "stdout",
     "output_type": "stream",
     "text": [
      "No captions for A_HNH6Mo7oI\n",
      "[youtube] cN_2-xtrE-I: Downloading webpage\n",
      "[youtube] cN_2-xtrE-I: Downloading video info webpage\n",
      "[youtube] cN_2-xtrE-I: Looking for automatic captions\n"
     ]
    },
    {
     "name": "stderr",
     "output_type": "stream",
     "text": [
      "WARNING: Couldn't find automatic captions for cN_2-xtrE-I\n"
     ]
    },
    {
     "name": "stdout",
     "output_type": "stream",
     "text": [
      "No captions for cN_2-xtrE-I\n",
      "[youtube] ygB7P7rg8u4: Downloading webpage\n",
      "[youtube] ygB7P7rg8u4: Downloading video info webpage\n",
      "[youtube] ygB7P7rg8u4: Looking for automatic captions\n",
      "[info] Writing video subtitles to: subtitle_ygB7P7rg8u4.en.vtt\n",
      "[youtube] m0ESRMRZz4U: Downloading webpage\n",
      "[youtube] m0ESRMRZz4U: Downloading video info webpage\n",
      "[youtube] m0ESRMRZz4U: Looking for automatic captions\n",
      "[info] Writing video subtitles to: subtitle_m0ESRMRZz4U.en.vtt\n",
      "[youtube] C0lpH-XJ_zk: Downloading webpage\n",
      "[youtube] C0lpH-XJ_zk: Downloading video info webpage\n",
      "[youtube] C0lpH-XJ_zk: Looking for automatic captions\n",
      "[info] Writing video subtitles to: subtitle_C0lpH-XJ_zk.en.vtt\n",
      "[youtube] VmknvUI8kiw: Downloading webpage\n",
      "[youtube] VmknvUI8kiw: Downloading video info webpage\n",
      "[youtube] VmknvUI8kiw: Looking for automatic captions\n",
      "[info] Writing video subtitles to: subtitle_VmknvUI8kiw.en.vtt\n",
      "[youtube] _UjkncZoD58: Downloading webpage\n",
      "[youtube] _UjkncZoD58: Downloading video info webpage\n",
      "[youtube] _UjkncZoD58: Looking for automatic captions\n",
      "[info] Writing video subtitles to: subtitle__UjkncZoD58.en.vtt\n",
      "[youtube] BOJK6rQ7d6I: Downloading webpage\n",
      "[youtube] BOJK6rQ7d6I: Downloading video info webpage\n",
      "[youtube] BOJK6rQ7d6I: Looking for automatic captions\n",
      "[info] Writing video subtitles to: subtitle_BOJK6rQ7d6I.en.vtt\n",
      "[youtube] 5CNlInJ80UA: Downloading webpage\n",
      "[youtube] 5CNlInJ80UA: Downloading video info webpage\n",
      "[youtube] 5CNlInJ80UA: Looking for automatic captions\n",
      "[youtube] 5CNlInJ80UA: Downloading MPD manifest\n",
      "[youtube] 5CNlInJ80UA: Downloading MPD manifest\n",
      "[info] Writing video subtitles to: subtitle_5CNlInJ80UA.en.vtt\n",
      "[youtube] 1iS3YszxNWI: Downloading webpage\n",
      "[youtube] 1iS3YszxNWI: Downloading video info webpage\n",
      "[youtube] 1iS3YszxNWI: Looking for automatic captions\n",
      "[info] Writing video subtitles to: subtitle_1iS3YszxNWI.en.vtt\n",
      "[youtube] c6HPOtfhqJo: Downloading webpage\n",
      "[youtube] c6HPOtfhqJo: Downloading video info webpage\n",
      "[youtube] c6HPOtfhqJo: Looking for automatic captions\n",
      "[info] Writing video subtitles to: subtitle_c6HPOtfhqJo.en.vtt\n",
      "[youtube] 0T-y65o597c: Downloading webpage\n",
      "[youtube] 0T-y65o597c: Downloading video info webpage\n",
      "[youtube] 0T-y65o597c: Looking for automatic captions\n",
      "[info] Writing video subtitles to: subtitle_0T-y65o597c.en.vtt\n",
      "[youtube] 0Gyn1Y6WVO8: Downloading webpage\n",
      "[youtube] 0Gyn1Y6WVO8: Downloading video info webpage\n",
      "[youtube] 0Gyn1Y6WVO8: Looking for automatic captions\n",
      "[info] Writing video subtitles to: subtitle_0Gyn1Y6WVO8.en.vtt\n",
      "[youtube] 1qZ2tY-dl1o: Downloading webpage\n",
      "[youtube] 1qZ2tY-dl1o: Downloading video info webpage\n",
      "[youtube] 1qZ2tY-dl1o: Looking for automatic captions\n",
      "[youtube] 1qZ2tY-dl1o: Downloading MPD manifest\n",
      "[youtube] 1qZ2tY-dl1o: Downloading MPD manifest\n",
      "[info] Writing video subtitles to: subtitle_1qZ2tY-dl1o.en.vtt\n",
      "[youtube] J4QmbAjKxe8: Downloading webpage\n",
      "[youtube] J4QmbAjKxe8: Downloading video info webpage\n",
      "[youtube] J4QmbAjKxe8: Looking for automatic captions\n",
      "[info] Writing video subtitles to: subtitle_J4QmbAjKxe8.en.vtt\n",
      "[youtube] 0iHtv_hDsls: Downloading webpage\n",
      "[youtube] 0iHtv_hDsls: Downloading video info webpage\n",
      "[youtube] 0iHtv_hDsls: Looking for automatic captions\n"
     ]
    },
    {
     "name": "stderr",
     "output_type": "stream",
     "text": [
      "WARNING: Couldn't find automatic captions for 0iHtv_hDsls\n"
     ]
    },
    {
     "name": "stdout",
     "output_type": "stream",
     "text": [
      "No captions for 0iHtv_hDsls\n",
      "[youtube] wXh3fwwP5tw: Downloading webpage\n",
      "[youtube] wXh3fwwP5tw: Downloading video info webpage\n",
      "[youtube] wXh3fwwP5tw: Looking for automatic captions\n"
     ]
    },
    {
     "name": "stderr",
     "output_type": "stream",
     "text": [
      "WARNING: Couldn't find automatic captions for wXh3fwwP5tw\n"
     ]
    },
    {
     "name": "stdout",
     "output_type": "stream",
     "text": [
      "No captions for wXh3fwwP5tw\n",
      "[youtube] vW1bgz_cLRo: Downloading webpage\n",
      "[youtube] vW1bgz_cLRo: Downloading video info webpage\n",
      "[youtube] vW1bgz_cLRo: Looking for automatic captions\n"
     ]
    },
    {
     "name": "stderr",
     "output_type": "stream",
     "text": [
      "WARNING: Couldn't find automatic captions for vW1bgz_cLRo\n"
     ]
    },
    {
     "name": "stdout",
     "output_type": "stream",
     "text": [
      "No captions for vW1bgz_cLRo\n",
      "[youtube] hVu_5J_RZ4c: Downloading webpage\n",
      "[youtube] hVu_5J_RZ4c: Downloading video info webpage\n",
      "[youtube] hVu_5J_RZ4c: Looking for automatic captions\n"
     ]
    },
    {
     "name": "stderr",
     "output_type": "stream",
     "text": [
      "WARNING: Couldn't find automatic captions for hVu_5J_RZ4c\n"
     ]
    },
    {
     "name": "stdout",
     "output_type": "stream",
     "text": [
      "[youtube] hVu_5J_RZ4c: Downloading MPD manifest\n",
      "[youtube] hVu_5J_RZ4c: Downloading MPD manifest\n",
      "No captions for hVu_5J_RZ4c\n",
      "[youtube] rR1Ugbz6j3c: Downloading webpage\n",
      "[youtube] rR1Ugbz6j3c: Downloading video info webpage\n",
      "[youtube] rR1Ugbz6j3c: Looking for automatic captions\n",
      "[youtube] rR1Ugbz6j3c: Downloading MPD manifest\n",
      "[youtube] rR1Ugbz6j3c: Downloading MPD manifest\n",
      "[info] Writing video subtitles to: subtitle_rR1Ugbz6j3c.en.vtt\n",
      "[youtube] OyZbND_uzPc: Downloading webpage\n",
      "[youtube] OyZbND_uzPc: Downloading video info webpage\n",
      "[youtube] OyZbND_uzPc: Looking for automatic captions\n",
      "[youtube] OyZbND_uzPc: Downloading MPD manifest\n",
      "[youtube] OyZbND_uzPc: Downloading MPD manifest\n",
      "[info] Writing video subtitles to: subtitle_OyZbND_uzPc.en.vtt\n",
      "[youtube] C-1oQbI_-q0: Downloading webpage\n",
      "[youtube] C-1oQbI_-q0: Downloading video info webpage\n",
      "[youtube] C-1oQbI_-q0: Looking for automatic captions\n",
      "[info] Writing video subtitles to: subtitle_C-1oQbI_-q0.en.vtt\n",
      "[youtube] bWCEXrlA0ao: Downloading webpage\n",
      "[youtube] bWCEXrlA0ao: Downloading video info webpage\n",
      "[youtube] bWCEXrlA0ao: Looking for automatic captions\n"
     ]
    },
    {
     "name": "stderr",
     "output_type": "stream",
     "text": [
      "WARNING: Couldn't find automatic captions for bWCEXrlA0ao\n"
     ]
    },
    {
     "name": "stdout",
     "output_type": "stream",
     "text": [
      "No captions for bWCEXrlA0ao\n",
      "[youtube] Xndg7NgAfDQ: Downloading webpage\n",
      "[youtube] Xndg7NgAfDQ: Downloading video info webpage\n",
      "[youtube] Xndg7NgAfDQ: Looking for automatic captions\n"
     ]
    },
    {
     "name": "stderr",
     "output_type": "stream",
     "text": [
      "WARNING: Couldn't find automatic captions for Xndg7NgAfDQ\n"
     ]
    },
    {
     "name": "stdout",
     "output_type": "stream",
     "text": [
      "No captions for Xndg7NgAfDQ\n",
      "[youtube] oRppal5peug: Downloading webpage\n",
      "[youtube] oRppal5peug: Downloading video info webpage\n",
      "[youtube] oRppal5peug: Looking for automatic captions\n"
     ]
    },
    {
     "name": "stderr",
     "output_type": "stream",
     "text": [
      "WARNING: Couldn't find automatic captions for oRppal5peug\n"
     ]
    },
    {
     "name": "stdout",
     "output_type": "stream",
     "text": [
      "No captions for oRppal5peug\n",
      "[youtube] UvrnQe89YiY: Downloading webpage\n",
      "[youtube] UvrnQe89YiY: Downloading video info webpage\n",
      "[youtube] UvrnQe89YiY: Looking for automatic captions\n",
      "[info] Writing video subtitles to: subtitle_UvrnQe89YiY.en.vtt\n",
      "[youtube] MS9bdtQVWy0: Downloading webpage\n",
      "[youtube] MS9bdtQVWy0: Downloading video info webpage\n",
      "[youtube] MS9bdtQVWy0: Looking for automatic captions\n",
      "[info] Writing video subtitles to: subtitle_MS9bdtQVWy0.en.vtt\n",
      "[youtube] rHb7OZ85Szo: Downloading webpage\n",
      "[youtube] rHb7OZ85Szo: Downloading video info webpage\n",
      "[youtube] rHb7OZ85Szo: Looking for automatic captions\n",
      "[info] Writing video subtitles to: subtitle_rHb7OZ85Szo.en.vtt\n",
      "[youtube] bG3kscd5R18: Downloading webpage\n",
      "[youtube] bG3kscd5R18: Downloading video info webpage\n",
      "[youtube] bG3kscd5R18: Looking for automatic captions\n"
     ]
    },
    {
     "name": "stderr",
     "output_type": "stream",
     "text": [
      "WARNING: Couldn't find automatic captions for bG3kscd5R18\n"
     ]
    },
    {
     "name": "stdout",
     "output_type": "stream",
     "text": [
      "No captions for bG3kscd5R18\n",
      "[youtube] lXWxXu3CMWs: Downloading webpage\n",
      "[youtube] lXWxXu3CMWs: Downloading video info webpage\n",
      "[youtube] lXWxXu3CMWs: Looking for automatic captions\n",
      "[info] Writing video subtitles to: subtitle_lXWxXu3CMWs.en.vtt\n",
      "[youtube] ebdHcbwytfI: Downloading webpage\n",
      "[youtube] ebdHcbwytfI: Downloading video info webpage\n",
      "[youtube] ebdHcbwytfI: Looking for automatic captions\n"
     ]
    },
    {
     "name": "stderr",
     "output_type": "stream",
     "text": [
      "WARNING: Couldn't find automatic captions for ebdHcbwytfI\n"
     ]
    },
    {
     "name": "stdout",
     "output_type": "stream",
     "text": [
      "No captions for ebdHcbwytfI\n",
      "[youtube] WFQL60X0ZjQ: Downloading webpage\n",
      "[youtube] WFQL60X0ZjQ: Downloading video info webpage\n",
      "[youtube] WFQL60X0ZjQ: Looking for automatic captions\n",
      "[info] Writing video subtitles to: subtitle_WFQL60X0ZjQ.en.vtt\n",
      "[youtube] XwmRisMnMQw: Downloading webpage\n",
      "[youtube] XwmRisMnMQw: Downloading video info webpage\n",
      "[youtube] XwmRisMnMQw: Looking for automatic captions\n",
      "[youtube] XwmRisMnMQw: Downloading MPD manifest\n",
      "[youtube] XwmRisMnMQw: Downloading MPD manifest\n",
      "[info] Writing video subtitles to: subtitle_XwmRisMnMQw.en.vtt\n",
      "[youtube] g_Uc73ToV2c: Downloading webpage\n",
      "[youtube] g_Uc73ToV2c: Downloading video info webpage\n",
      "[youtube] g_Uc73ToV2c: Looking for automatic captions\n"
     ]
    },
    {
     "name": "stderr",
     "output_type": "stream",
     "text": [
      "WARNING: Couldn't find automatic captions for g_Uc73ToV2c\n"
     ]
    },
    {
     "name": "stdout",
     "output_type": "stream",
     "text": [
      "No captions for g_Uc73ToV2c\n",
      "[youtube] oyD5pNbr0qU: Downloading webpage\n",
      "[youtube] oyD5pNbr0qU: Downloading video info webpage\n",
      "[youtube] oyD5pNbr0qU: Looking for automatic captions\n",
      "[info] Writing video subtitles to: subtitle_oyD5pNbr0qU.en.vtt\n",
      "[youtube] VWiIAcVxVno: Downloading webpage\n",
      "[youtube] VWiIAcVxVno: Downloading video info webpage\n",
      "[youtube] VWiIAcVxVno: Looking for automatic captions\n",
      "[info] Writing video subtitles to: subtitle_VWiIAcVxVno.en.vtt\n",
      "[youtube] SRcWDl7AChA: Downloading webpage\n",
      "[youtube] SRcWDl7AChA: Downloading video info webpage\n",
      "[youtube] SRcWDl7AChA: Looking for automatic captions\n",
      "[info] Writing video subtitles to: subtitle_SRcWDl7AChA.en.vtt\n",
      "[youtube] jVBnpXPOvqM: Downloading webpage\n",
      "[youtube] jVBnpXPOvqM: Downloading video info webpage\n",
      "[youtube] jVBnpXPOvqM: Looking for automatic captions\n",
      "[info] Writing video subtitles to: subtitle_jVBnpXPOvqM.en.vtt\n",
      "[youtube] pWbfkeWBVds: Downloading webpage\n",
      "[youtube] pWbfkeWBVds: Downloading video info webpage\n",
      "[youtube] pWbfkeWBVds: Looking for automatic captions\n",
      "[youtube] pWbfkeWBVds: Downloading MPD manifest\n",
      "[youtube] pWbfkeWBVds: Downloading MPD manifest\n",
      "[info] Writing video subtitles to: subtitle_pWbfkeWBVds.en.vtt\n",
      "[youtube] F-SVSGCxsak: Downloading webpage\n",
      "[youtube] F-SVSGCxsak: Downloading video info webpage\n",
      "[youtube] F-SVSGCxsak: Looking for automatic captions\n",
      "[info] Writing video subtitles to: subtitle_F-SVSGCxsak.en.vtt\n",
      "[youtube] upxT9ArqQwQ: Downloading webpage\n",
      "[youtube] upxT9ArqQwQ: Downloading video info webpage\n",
      "[youtube] upxT9ArqQwQ: Looking for automatic captions\n",
      "[info] Writing video subtitles to: subtitle_upxT9ArqQwQ.en.vtt\n",
      "[youtube] AhGLDbYIPw0: Downloading webpage\n",
      "[youtube] AhGLDbYIPw0: Downloading video info webpage\n",
      "[youtube] AhGLDbYIPw0: Looking for automatic captions\n",
      "[youtube] AhGLDbYIPw0: Downloading MPD manifest\n",
      "[youtube] AhGLDbYIPw0: Downloading MPD manifest\n",
      "[info] Writing video subtitles to: subtitle_AhGLDbYIPw0.en.vtt\n",
      "[youtube] vceDVBLZFso: Downloading webpage\n",
      "[youtube] vceDVBLZFso: Downloading video info webpage\n",
      "[youtube] vceDVBLZFso: Looking for automatic captions\n",
      "[info] Writing video subtitles to: subtitle_vceDVBLZFso.en.vtt\n",
      "[youtube] cOFRM_GPCcA: Downloading webpage\n",
      "[youtube] cOFRM_GPCcA: Downloading video info webpage\n",
      "[youtube] cOFRM_GPCcA: Looking for automatic captions\n"
     ]
    },
    {
     "name": "stderr",
     "output_type": "stream",
     "text": [
      "WARNING: Couldn't find automatic captions for cOFRM_GPCcA\n"
     ]
    },
    {
     "name": "stdout",
     "output_type": "stream",
     "text": [
      "No captions for cOFRM_GPCcA\n",
      "[youtube] 8RZ7amueSDw: Downloading webpage\n",
      "[youtube] 8RZ7amueSDw: Downloading video info webpage\n",
      "[youtube] 8RZ7amueSDw: Looking for automatic captions\n",
      "[info] Writing video subtitles to: subtitle_8RZ7amueSDw.en.vtt\n",
      "[youtube] x-VQ6z2QC4w: Downloading webpage\n",
      "[youtube] x-VQ6z2QC4w: Downloading video info webpage\n",
      "[youtube] x-VQ6z2QC4w: Looking for automatic captions\n",
      "[info] Writing video subtitles to: subtitle_x-VQ6z2QC4w.en.vtt\n",
      "[youtube] -ckI1TS1ngQ: Downloading webpage\n",
      "[youtube] -ckI1TS1ngQ: Downloading video info webpage\n",
      "[youtube] -ckI1TS1ngQ: Looking for automatic captions\n",
      "[info] Writing video subtitles to: subtitle_-ckI1TS1ngQ.en.vtt\n",
      "[youtube] 15UmQ-OU4P0: Downloading webpage\n",
      "[youtube] 15UmQ-OU4P0: Downloading video info webpage\n",
      "[youtube] 15UmQ-OU4P0: Looking for automatic captions\n",
      "[info] Writing video subtitles to: subtitle_15UmQ-OU4P0.en.vtt\n",
      "[youtube] WQsxWtDBHyg: Downloading webpage\n",
      "[youtube] WQsxWtDBHyg: Downloading video info webpage\n",
      "[youtube] WQsxWtDBHyg: Looking for automatic captions\n"
     ]
    },
    {
     "name": "stderr",
     "output_type": "stream",
     "text": [
      "WARNING: Couldn't find automatic captions for WQsxWtDBHyg\n"
     ]
    },
    {
     "name": "stdout",
     "output_type": "stream",
     "text": [
      "[youtube] WQsxWtDBHyg: Downloading MPD manifest\n",
      "No captions for WQsxWtDBHyg\n",
      "[youtube] tgnvUWPr158: Downloading webpage\n",
      "[youtube] tgnvUWPr158: Downloading video info webpage\n",
      "[youtube] tgnvUWPr158: Looking for automatic captions\n",
      "[info] Writing video subtitles to: subtitle_tgnvUWPr158.en.vtt\n",
      "[youtube] Ch1UiPzkwmo: Downloading webpage\n",
      "[youtube] Ch1UiPzkwmo: Downloading video info webpage\n",
      "[youtube] Ch1UiPzkwmo: Looking for automatic captions\n"
     ]
    },
    {
     "name": "stderr",
     "output_type": "stream",
     "text": [
      "WARNING: Couldn't find automatic captions for Ch1UiPzkwmo\n"
     ]
    },
    {
     "name": "stdout",
     "output_type": "stream",
     "text": [
      "No captions for Ch1UiPzkwmo\n",
      "[youtube] lyeyyPd_HCA: Downloading webpage\n",
      "[youtube] lyeyyPd_HCA: Downloading video info webpage\n",
      "[youtube] lyeyyPd_HCA: Looking for automatic captions\n"
     ]
    },
    {
     "name": "stderr",
     "output_type": "stream",
     "text": [
      "WARNING: Couldn't find automatic captions for lyeyyPd_HCA\n"
     ]
    },
    {
     "name": "stdout",
     "output_type": "stream",
     "text": [
      "No captions for lyeyyPd_HCA\n",
      "[youtube] FbhEZ1kN3Tg: Downloading webpage\n",
      "[youtube] FbhEZ1kN3Tg: Downloading video info webpage\n",
      "[youtube] FbhEZ1kN3Tg: Looking for automatic captions\n",
      "[info] Writing video subtitles to: subtitle_FbhEZ1kN3Tg.en.vtt\n",
      "[youtube] Kllha2btMP8: Downloading webpage\n",
      "[youtube] Kllha2btMP8: Downloading video info webpage\n",
      "[youtube] Kllha2btMP8: Looking for automatic captions\n",
      "[info] Writing video subtitles to: subtitle_Kllha2btMP8.en.vtt\n",
      "[youtube] HHQ2cQs2D0M: Downloading webpage\n",
      "[youtube] HHQ2cQs2D0M: Downloading video info webpage\n",
      "[youtube] HHQ2cQs2D0M: Looking for automatic captions\n",
      "[info] Writing video subtitles to: subtitle_HHQ2cQs2D0M.en.vtt\n",
      "[youtube] wwxWweZSrUY: Downloading webpage\n",
      "[youtube] wwxWweZSrUY: Downloading video info webpage\n",
      "[youtube] wwxWweZSrUY: Looking for automatic captions\n",
      "[info] Writing video subtitles to: subtitle_wwxWweZSrUY.en.vtt\n",
      "[youtube] uE71D6bcgW0: Downloading webpage\n",
      "[youtube] uE71D6bcgW0: Downloading video info webpage\n",
      "[youtube] uE71D6bcgW0: Looking for automatic captions\n",
      "[info] Writing video subtitles to: subtitle_uE71D6bcgW0.en.vtt\n",
      "[youtube] eFQuG-39Yfo: Downloading webpage\n",
      "[youtube] eFQuG-39Yfo: Downloading video info webpage\n",
      "[youtube] eFQuG-39Yfo: Looking for automatic captions\n"
     ]
    },
    {
     "name": "stderr",
     "output_type": "stream",
     "text": [
      "WARNING: Couldn't find automatic captions for eFQuG-39Yfo\n"
     ]
    },
    {
     "name": "stdout",
     "output_type": "stream",
     "text": [
      "No captions for eFQuG-39Yfo\n",
      "[youtube] ym44P7cK9lU: Downloading webpage\n",
      "[youtube] ym44P7cK9lU: Downloading video info webpage\n",
      "[youtube] ym44P7cK9lU: Looking for automatic captions\n"
     ]
    },
    {
     "name": "stderr",
     "output_type": "stream",
     "text": [
      "WARNING: Couldn't find automatic captions for ym44P7cK9lU\n"
     ]
    },
    {
     "name": "stdout",
     "output_type": "stream",
     "text": [
      "No captions for ym44P7cK9lU\n",
      "[youtube] -fTPqJyXybs: Downloading webpage\n",
      "[youtube] -fTPqJyXybs: Downloading video info webpage\n",
      "[youtube] -fTPqJyXybs: Looking for automatic captions\n",
      "[info] Writing video subtitles to: subtitle_-fTPqJyXybs.en.vtt\n",
      "[youtube] jJN3J0fkpoU: Downloading webpage\n",
      "[youtube] jJN3J0fkpoU: Downloading video info webpage\n",
      "[youtube] jJN3J0fkpoU: Looking for automatic captions\n",
      "[info] Writing video subtitles to: subtitle_jJN3J0fkpoU.en.vtt\n",
      "[youtube] NUvyCg7s84I: Downloading webpage\n",
      "[youtube] NUvyCg7s84I: Downloading video info webpage\n",
      "[youtube] NUvyCg7s84I: Looking for automatic captions\n",
      "[info] Writing video subtitles to: subtitle_NUvyCg7s84I.en.vtt\n",
      "[youtube] YFeV6-xFN0w: Downloading webpage\n",
      "[youtube] YFeV6-xFN0w: Downloading video info webpage\n",
      "[youtube] YFeV6-xFN0w: Looking for automatic captions\n"
     ]
    },
    {
     "name": "stderr",
     "output_type": "stream",
     "text": [
      "WARNING: Couldn't find automatic captions for YFeV6-xFN0w\n"
     ]
    },
    {
     "name": "stdout",
     "output_type": "stream",
     "text": [
      "No captions for YFeV6-xFN0w\n",
      "[youtube] uxNGf_kldd4: Downloading webpage\n",
      "[youtube] uxNGf_kldd4: Downloading video info webpage\n",
      "[youtube] uxNGf_kldd4: Looking for automatic captions\n",
      "[youtube] uxNGf_kldd4: Downloading MPD manifest\n",
      "[youtube] uxNGf_kldd4: Downloading MPD manifest\n",
      "[info] Writing video subtitles to: subtitle_uxNGf_kldd4.en.vtt\n",
      "[youtube] Htb85E4ZS3U: Downloading webpage\n",
      "[youtube] Htb85E4ZS3U: Downloading video info webpage\n",
      "[youtube] Htb85E4ZS3U: Looking for automatic captions\n",
      "[youtube] Htb85E4ZS3U: Downloading MPD manifest\n",
      "[youtube] Htb85E4ZS3U: Downloading MPD manifest\n",
      "[info] Writing video subtitles to: subtitle_Htb85E4ZS3U.en.vtt\n",
      "[youtube] PUIkBmqWmcA: Downloading webpage\n",
      "[youtube] PUIkBmqWmcA: Downloading video info webpage\n",
      "[youtube] PUIkBmqWmcA: Looking for automatic captions\n",
      "[info] Writing video subtitles to: subtitle_PUIkBmqWmcA.en.vtt\n",
      "[youtube] MnFlKy0mgZI: Downloading webpage\n",
      "[youtube] MnFlKy0mgZI: Downloading video info webpage\n",
      "[youtube] MnFlKy0mgZI: Looking for automatic captions\n",
      "[info] Writing video subtitles to: subtitle_MnFlKy0mgZI.en.vtt\n",
      "[youtube] TVLbdR7XJHY: Downloading webpage\n",
      "[youtube] TVLbdR7XJHY: Downloading video info webpage\n",
      "[youtube] TVLbdR7XJHY: Looking for automatic captions\n",
      "[info] Writing video subtitles to: subtitle_TVLbdR7XJHY.en.vtt\n",
      "[youtube] waAwyhgqeYE: Downloading webpage\n",
      "[youtube] waAwyhgqeYE: Downloading video info webpage\n",
      "[youtube] waAwyhgqeYE: Looking for automatic captions\n",
      "[info] Writing video subtitles to: subtitle_waAwyhgqeYE.en.vtt\n",
      "[youtube] QxF-FnMLFE4: Downloading webpage\n",
      "[youtube] QxF-FnMLFE4: Downloading video info webpage\n",
      "[youtube] QxF-FnMLFE4: Looking for automatic captions\n"
     ]
    },
    {
     "name": "stderr",
     "output_type": "stream",
     "text": [
      "WARNING: Couldn't find automatic captions for QxF-FnMLFE4\n"
     ]
    },
    {
     "name": "stdout",
     "output_type": "stream",
     "text": [
      "[youtube] QxF-FnMLFE4: Downloading MPD manifest\n",
      "[youtube] QxF-FnMLFE4: Downloading MPD manifest\n",
      "No captions for QxF-FnMLFE4\n",
      "[youtube] 7ZTngAtDOMM: Downloading webpage\n",
      "[youtube] 7ZTngAtDOMM: Downloading video info webpage\n",
      "[youtube] 7ZTngAtDOMM: Looking for automatic captions\n",
      "[youtube] 7ZTngAtDOMM: Downloading MPD manifest\n",
      "[youtube] 7ZTngAtDOMM: Downloading MPD manifest\n",
      "[info] Writing video subtitles to: subtitle_7ZTngAtDOMM.en.vtt\n",
      "[youtube] g8vOJzUBJYM: Downloading webpage\n",
      "[youtube] g8vOJzUBJYM: Downloading video info webpage\n",
      "[youtube] g8vOJzUBJYM: Looking for automatic captions\n",
      "[info] Writing video subtitles to: subtitle_g8vOJzUBJYM.en.vtt\n",
      "[youtube] 7jNWVaFd_wM: Downloading webpage\n",
      "[youtube] 7jNWVaFd_wM: Downloading video info webpage\n",
      "[youtube] 7jNWVaFd_wM: Looking for automatic captions\n"
     ]
    },
    {
     "name": "stderr",
     "output_type": "stream",
     "text": [
      "WARNING: Couldn't find automatic captions for 7jNWVaFd_wM\n"
     ]
    },
    {
     "name": "stdout",
     "output_type": "stream",
     "text": [
      "No captions for 7jNWVaFd_wM\n",
      "[youtube] r9s8mreB_j4: Downloading webpage\n",
      "[youtube] r9s8mreB_j4: Downloading video info webpage\n",
      "[youtube] r9s8mreB_j4: Looking for automatic captions\n",
      "[info] Writing video subtitles to: subtitle_r9s8mreB_j4.en.vtt\n",
      "[youtube] EfNvvHpUkXk: Downloading webpage\n",
      "[youtube] EfNvvHpUkXk: Downloading video info webpage\n",
      "[youtube] EfNvvHpUkXk: Looking for automatic captions\n"
     ]
    },
    {
     "name": "stderr",
     "output_type": "stream",
     "text": [
      "WARNING: Couldn't find automatic captions for EfNvvHpUkXk\n"
     ]
    },
    {
     "name": "stdout",
     "output_type": "stream",
     "text": [
      "No captions for EfNvvHpUkXk\n",
      "[youtube] 0-VPQJPrPbo: Downloading webpage\n",
      "[youtube] 0-VPQJPrPbo: Downloading video info webpage\n",
      "[youtube] 0-VPQJPrPbo: Looking for automatic captions\n",
      "[youtube] 0-VPQJPrPbo: Downloading MPD manifest\n",
      "[youtube] 0-VPQJPrPbo: Downloading MPD manifest\n",
      "[info] Writing video subtitles to: subtitle_0-VPQJPrPbo.en.vtt\n",
      "[youtube] T5oeVpGZnnA: Downloading webpage\n",
      "[youtube] T5oeVpGZnnA: Downloading video info webpage\n",
      "[youtube] T5oeVpGZnnA: Looking for automatic captions\n",
      "[youtube] T5oeVpGZnnA: Downloading MPD manifest\n",
      "[youtube] T5oeVpGZnnA: Downloading MPD manifest\n",
      "[info] Writing video subtitles to: subtitle_T5oeVpGZnnA.en.vtt\n",
      "[youtube] bdz5PeuRJK4: Downloading webpage\n",
      "[youtube] bdz5PeuRJK4: Downloading video info webpage\n",
      "[youtube] bdz5PeuRJK4: Looking for automatic captions\n",
      "[info] Writing video subtitles to: subtitle_bdz5PeuRJK4.en.vtt\n",
      "[youtube] TXvFWTVY2H0: Downloading webpage\n",
      "[youtube] TXvFWTVY2H0: Downloading video info webpage\n",
      "[youtube] TXvFWTVY2H0: Looking for automatic captions\n",
      "[youtube] TXvFWTVY2H0: Downloading MPD manifest\n",
      "[youtube] TXvFWTVY2H0: Downloading MPD manifest\n",
      "[info] Writing video subtitles to: subtitle_TXvFWTVY2H0.en.vtt\n",
      "[youtube] jOVe7P46kms: Downloading webpage\n",
      "[youtube] jOVe7P46kms: Downloading video info webpage\n",
      "[youtube] jOVe7P46kms: Looking for automatic captions\n",
      "[info] Writing video subtitles to: subtitle_jOVe7P46kms.en.vtt\n",
      "[youtube] 7LVSBdjT5N8: Downloading webpage\n",
      "[youtube] 7LVSBdjT5N8: Downloading video info webpage\n",
      "[youtube] 7LVSBdjT5N8: Looking for automatic captions\n"
     ]
    },
    {
     "name": "stderr",
     "output_type": "stream",
     "text": [
      "WARNING: Couldn't find automatic captions for 7LVSBdjT5N8\n"
     ]
    },
    {
     "name": "stdout",
     "output_type": "stream",
     "text": [
      "No captions for 7LVSBdjT5N8\n",
      "[youtube] i1yB9yUL3_4: Downloading webpage\n",
      "[youtube] i1yB9yUL3_4: Downloading video info webpage\n",
      "[youtube] i1yB9yUL3_4: Looking for automatic captions\n",
      "[info] Writing video subtitles to: subtitle_i1yB9yUL3_4.en.vtt\n",
      "[youtube] TdZ2XiLvqRg: Downloading webpage\n",
      "[youtube] TdZ2XiLvqRg: Downloading video info webpage\n",
      "[youtube] TdZ2XiLvqRg: Looking for automatic captions\n",
      "[info] Writing video subtitles to: subtitle_TdZ2XiLvqRg.en.vtt\n",
      "[youtube] 3buCZg90GpU: Downloading webpage\n",
      "[youtube] 3buCZg90GpU: Downloading video info webpage\n",
      "[youtube] 3buCZg90GpU: Looking for automatic captions\n"
     ]
    },
    {
     "name": "stderr",
     "output_type": "stream",
     "text": [
      "WARNING: Couldn't find automatic captions for 3buCZg90GpU\n"
     ]
    },
    {
     "name": "stdout",
     "output_type": "stream",
     "text": [
      "No captions for 3buCZg90GpU\n",
      "[youtube] wq84Q1-zJe4: Downloading webpage\n",
      "[youtube] wq84Q1-zJe4: Downloading video info webpage\n",
      "[youtube] wq84Q1-zJe4: Looking for automatic captions\n",
      "[info] Writing video subtitles to: subtitle_wq84Q1-zJe4.en.vtt\n",
      "[youtube] DKvWLaUnRBU: Downloading webpage\n",
      "[youtube] DKvWLaUnRBU: Downloading video info webpage\n",
      "[youtube] DKvWLaUnRBU: Looking for automatic captions\n"
     ]
    },
    {
     "name": "stderr",
     "output_type": "stream",
     "text": [
      "WARNING: Couldn't find automatic captions for DKvWLaUnRBU\n"
     ]
    },
    {
     "name": "stdout",
     "output_type": "stream",
     "text": [
      "No captions for DKvWLaUnRBU\n",
      "[youtube] lphVAowYQQI: Downloading webpage\n",
      "[youtube] lphVAowYQQI: Downloading video info webpage\n",
      "[youtube] lphVAowYQQI: Looking for automatic captions\n"
     ]
    },
    {
     "name": "stderr",
     "output_type": "stream",
     "text": [
      "WARNING: Couldn't find automatic captions for lphVAowYQQI\n"
     ]
    },
    {
     "name": "stdout",
     "output_type": "stream",
     "text": [
      "No captions for lphVAowYQQI\n",
      "[youtube] r5xYMqmTk6M: Downloading webpage\n",
      "[youtube] r5xYMqmTk6M: Downloading video info webpage\n",
      "[youtube] r5xYMqmTk6M: Looking for automatic captions\n"
     ]
    },
    {
     "name": "stderr",
     "output_type": "stream",
     "text": [
      "WARNING: Couldn't find automatic captions for r5xYMqmTk6M\n"
     ]
    },
    {
     "name": "stdout",
     "output_type": "stream",
     "text": [
      "[youtube] r5xYMqmTk6M: Downloading MPD manifest\n",
      "[youtube] r5xYMqmTk6M: Downloading MPD manifest\n",
      "No captions for r5xYMqmTk6M\n",
      "[youtube] E7GMx2bxmXA: Downloading webpage\n",
      "[youtube] E7GMx2bxmXA: Downloading video info webpage\n",
      "[youtube] E7GMx2bxmXA: Looking for automatic captions\n",
      "[youtube] E7GMx2bxmXA: Downloading MPD manifest\n",
      "[youtube] E7GMx2bxmXA: Downloading MPD manifest\n",
      "[info] Writing video subtitles to: subtitle_E7GMx2bxmXA.en.vtt\n",
      "[youtube] i1zIWZrf-_g: Downloading webpage\n",
      "[youtube] i1zIWZrf-_g: Downloading video info webpage\n",
      "[youtube] i1zIWZrf-_g: Looking for automatic captions\n",
      "[youtube] i1zIWZrf-_g: Downloading MPD manifest\n",
      "[youtube] i1zIWZrf-_g: Downloading MPD manifest\n",
      "[info] Writing video subtitles to: subtitle_i1zIWZrf-_g.en.vtt\n",
      "[youtube] CayAwwlEj9s: Downloading webpage\n",
      "[youtube] CayAwwlEj9s: Downloading video info webpage\n",
      "[youtube] CayAwwlEj9s: Looking for automatic captions\n",
      "[info] Writing video subtitles to: subtitle_CayAwwlEj9s.en.vtt\n",
      "[youtube] D5mMtiF4J_U: Downloading webpage\n",
      "[youtube] D5mMtiF4J_U: Downloading video info webpage\n",
      "[youtube] D5mMtiF4J_U: Looking for automatic captions\n"
     ]
    },
    {
     "name": "stderr",
     "output_type": "stream",
     "text": [
      "WARNING: Couldn't find automatic captions for D5mMtiF4J_U\n"
     ]
    },
    {
     "name": "stdout",
     "output_type": "stream",
     "text": [
      "No captions for D5mMtiF4J_U\n",
      "[youtube] 67Z16StICLU: Downloading webpage\n",
      "[youtube] 67Z16StICLU: Downloading video info webpage\n",
      "[youtube] 67Z16StICLU: Looking for automatic captions\n",
      "[info] Writing video subtitles to: subtitle_67Z16StICLU.en.vtt\n",
      "[youtube] V-KzAehZBA8: Downloading webpage\n",
      "[youtube] V-KzAehZBA8: Downloading video info webpage\n",
      "[youtube] V-KzAehZBA8: Looking for automatic captions\n",
      "[youtube] V-KzAehZBA8: Downloading MPD manifest\n",
      "[youtube] V-KzAehZBA8: Downloading MPD manifest\n",
      "[info] Writing video subtitles to: subtitle_V-KzAehZBA8.en.vtt\n",
      "[youtube] k4nihurfu_w: Downloading webpage\n",
      "[youtube] k4nihurfu_w: Downloading video info webpage\n",
      "[youtube] k4nihurfu_w: Looking for automatic captions\n",
      "[info] Writing video subtitles to: subtitle_k4nihurfu_w.en.vtt\n",
      "[youtube] 5kqIyRgTyvE: Downloading webpage\n",
      "[youtube] 5kqIyRgTyvE: Downloading video info webpage\n",
      "[youtube] 5kqIyRgTyvE: Looking for automatic captions\n",
      "[info] Writing video subtitles to: subtitle_5kqIyRgTyvE.en.vtt\n",
      "[youtube] 6zAY7VBuaCU: Downloading webpage\n",
      "[youtube] 6zAY7VBuaCU: Downloading video info webpage\n",
      "[youtube] 6zAY7VBuaCU: Looking for automatic captions\n",
      "[info] Writing video subtitles to: subtitle_6zAY7VBuaCU.en.vtt\n",
      "[youtube] sMH74383I58: Downloading webpage\n",
      "[youtube] sMH74383I58: Downloading video info webpage\n",
      "[youtube] sMH74383I58: Looking for automatic captions\n"
     ]
    },
    {
     "name": "stderr",
     "output_type": "stream",
     "text": [
      "WARNING: Couldn't find automatic captions for sMH74383I58\n"
     ]
    },
    {
     "name": "stdout",
     "output_type": "stream",
     "text": [
      "[youtube] sMH74383I58: Downloading MPD manifest\n",
      "[youtube] sMH74383I58: Downloading MPD manifest\n",
      "No captions for sMH74383I58\n",
      "[youtube] pX-oEuEknLw: Downloading webpage\n",
      "[youtube] pX-oEuEknLw: Downloading video info webpage\n",
      "[youtube] pX-oEuEknLw: Looking for automatic captions\n"
     ]
    },
    {
     "name": "stderr",
     "output_type": "stream",
     "text": [
      "WARNING: Couldn't find automatic captions for pX-oEuEknLw\n"
     ]
    },
    {
     "name": "stdout",
     "output_type": "stream",
     "text": [
      "No captions for pX-oEuEknLw\n",
      "[youtube] RlrEC3SvByE: Downloading webpage\n",
      "[youtube] RlrEC3SvByE: Downloading video info webpage\n",
      "[youtube] RlrEC3SvByE: Looking for automatic captions\n",
      "[info] Writing video subtitles to: subtitle_RlrEC3SvByE.en.vtt\n",
      "[youtube] UVUaayZVc1Y: Downloading webpage\n",
      "[youtube] UVUaayZVc1Y: Downloading video info webpage\n",
      "[youtube] UVUaayZVc1Y: Looking for automatic captions\n",
      "[info] Writing video subtitles to: subtitle_UVUaayZVc1Y.en.vtt\n",
      "[youtube] 2DSRnD1MUeE: Downloading webpage\n",
      "[youtube] 2DSRnD1MUeE: Downloading video info webpage\n",
      "[youtube] 2DSRnD1MUeE: Looking for automatic captions\n",
      "[youtube] 2DSRnD1MUeE: Downloading MPD manifest\n",
      "[youtube] 2DSRnD1MUeE: Downloading MPD manifest\n",
      "[info] Writing video subtitles to: subtitle_2DSRnD1MUeE.en.vtt\n",
      "[youtube] o5ofv-cKXkc: Downloading webpage\n",
      "[youtube] o5ofv-cKXkc: Downloading video info webpage\n",
      "[youtube] o5ofv-cKXkc: Looking for automatic captions\n",
      "[info] Writing video subtitles to: subtitle_o5ofv-cKXkc.en.vtt\n",
      "[youtube] 1UgLhTBow38: Downloading webpage\n",
      "[youtube] 1UgLhTBow38: Downloading video info webpage\n",
      "[youtube] 1UgLhTBow38: Looking for automatic captions\n",
      "[info] Writing video subtitles to: subtitle_1UgLhTBow38.en.vtt\n",
      "[youtube] a7U-TgO7x_0: Downloading webpage\n",
      "[youtube] a7U-TgO7x_0: Downloading video info webpage\n",
      "[youtube] a7U-TgO7x_0: Looking for automatic captions\n",
      "[info] Writing video subtitles to: subtitle_a7U-TgO7x_0.en.vtt\n",
      "[youtube] BfD6rIWtdLc: Downloading webpage\n",
      "[youtube] BfD6rIWtdLc: Downloading video info webpage\n",
      "[youtube] BfD6rIWtdLc: Looking for automatic captions\n",
      "[info] Writing video subtitles to: subtitle_BfD6rIWtdLc.en.vtt\n",
      "[youtube] yGJ14McXPeo: Downloading webpage\n",
      "[youtube] yGJ14McXPeo: Downloading video info webpage\n",
      "[youtube] yGJ14McXPeo: Looking for automatic captions\n"
     ]
    },
    {
     "name": "stderr",
     "output_type": "stream",
     "text": [
      "WARNING: Couldn't find automatic captions for yGJ14McXPeo\n"
     ]
    },
    {
     "name": "stdout",
     "output_type": "stream",
     "text": [
      "No captions for yGJ14McXPeo\n",
      "[youtube] cJYhwlgZVxM: Downloading webpage\n",
      "[youtube] cJYhwlgZVxM: Downloading video info webpage\n",
      "[youtube] cJYhwlgZVxM: Looking for automatic captions\n",
      "[info] Writing video subtitles to: subtitle_cJYhwlgZVxM.en.vtt\n",
      "[youtube] 0SbF84oho4U: Downloading webpage\n",
      "[youtube] 0SbF84oho4U: Downloading video info webpage\n",
      "[youtube] 0SbF84oho4U: Looking for automatic captions\n",
      "[info] Writing video subtitles to: subtitle_0SbF84oho4U.en.vtt\n",
      "[youtube] djmIJyiCOis: Downloading webpage\n",
      "[youtube] djmIJyiCOis: Downloading video info webpage\n",
      "[youtube] djmIJyiCOis: Looking for automatic captions\n",
      "[info] Writing video subtitles to: subtitle_djmIJyiCOis.en.vtt\n",
      "[youtube] T1wmeVcp3Qc: Downloading webpage\n",
      "[youtube] T1wmeVcp3Qc: Downloading video info webpage\n",
      "[youtube] T1wmeVcp3Qc: Looking for automatic captions\n"
     ]
    },
    {
     "name": "stderr",
     "output_type": "stream",
     "text": [
      "WARNING: Couldn't find automatic captions for T1wmeVcp3Qc\n"
     ]
    },
    {
     "name": "stdout",
     "output_type": "stream",
     "text": [
      "No captions for T1wmeVcp3Qc\n",
      "[youtube] hFvQg-Iqyew: Downloading webpage\n",
      "[youtube] O1_BM1XWOfg: Downloading webpage\n",
      "[youtube] O1_BM1XWOfg: Downloading embed webpage\n",
      "[youtube] O1_BM1XWOfg: Refetching age-gated info webpage\n",
      "[youtube] O1_BM1XWOfg: Looking for automatic captions\n"
     ]
    },
    {
     "name": "stderr",
     "output_type": "stream",
     "text": [
      "WARNING: Couldn't find automatic captions for O1_BM1XWOfg\n"
     ]
    },
    {
     "name": "stdout",
     "output_type": "stream",
     "text": [
      "No captions for hFvQg-Iqyew\n",
      "[youtube] ef0nzsqrv0E: Downloading webpage\n",
      "[youtube] ef0nzsqrv0E: Downloading video info webpage\n",
      "[youtube] ef0nzsqrv0E: Looking for automatic captions\n"
     ]
    },
    {
     "name": "stderr",
     "output_type": "stream",
     "text": [
      "WARNING: Couldn't find automatic captions for ef0nzsqrv0E\n"
     ]
    },
    {
     "name": "stdout",
     "output_type": "stream",
     "text": [
      "No captions for ef0nzsqrv0E\n",
      "[youtube] chmQNwJRbio: Downloading webpage\n",
      "[youtube] chmQNwJRbio: Downloading video info webpage\n",
      "[youtube] chmQNwJRbio: Looking for automatic captions\n",
      "[youtube] chmQNwJRbio: Downloading MPD manifest\n",
      "[youtube] chmQNwJRbio: Downloading MPD manifest\n",
      "[info] Writing video subtitles to: subtitle_chmQNwJRbio.en.vtt\n",
      "[youtube] TxG2e36-yyM: Downloading webpage\n",
      "[youtube] TxG2e36-yyM: Downloading video info webpage\n",
      "[youtube] TxG2e36-yyM: Looking for automatic captions\n",
      "[info] Writing video subtitles to: subtitle_TxG2e36-yyM.en.vtt\n",
      "[youtube] LEk4Gc6GF2M: Downloading webpage\n",
      "[youtube] LEk4Gc6GF2M: Downloading video info webpage\n",
      "[youtube] LEk4Gc6GF2M: Looking for automatic captions\n",
      "[info] Writing video subtitles to: subtitle_LEk4Gc6GF2M.en.vtt\n",
      "[youtube] Qt39K_0RKvw: Downloading webpage\n",
      "[youtube] Qt39K_0RKvw: Downloading video info webpage\n",
      "[youtube] Qt39K_0RKvw: Looking for automatic captions\n",
      "[info] Writing video subtitles to: subtitle_Qt39K_0RKvw.en.vtt\n",
      "[youtube] jhKoN6arCKg: Downloading webpage\n",
      "[youtube] jhKoN6arCKg: Downloading video info webpage\n",
      "[youtube] jhKoN6arCKg: Looking for automatic captions\n"
     ]
    },
    {
     "name": "stderr",
     "output_type": "stream",
     "text": [
      "WARNING: Couldn't find automatic captions for jhKoN6arCKg\n"
     ]
    },
    {
     "name": "stdout",
     "output_type": "stream",
     "text": [
      "No captions for jhKoN6arCKg\n",
      "[youtube] TGzg4Ho8JhM: Downloading webpage\n",
      "[youtube] TGzg4Ho8JhM: Downloading video info webpage\n",
      "[youtube] TGzg4Ho8JhM: Looking for automatic captions\n",
      "[info] Writing video subtitles to: subtitle_TGzg4Ho8JhM.en.vtt\n",
      "[youtube] -NF54ux9UQ8: Downloading webpage\n",
      "[youtube] -NF54ux9UQ8: Downloading video info webpage\n",
      "[youtube] -NF54ux9UQ8: Looking for automatic captions\n"
     ]
    },
    {
     "name": "stderr",
     "output_type": "stream",
     "text": [
      "WARNING: Couldn't find automatic captions for -NF54ux9UQ8\n"
     ]
    },
    {
     "name": "stdout",
     "output_type": "stream",
     "text": [
      "No captions for -NF54ux9UQ8\n",
      "[youtube] R76cnUvFQbw: Downloading webpage\n",
      "[youtube] R76cnUvFQbw: Downloading video info webpage\n",
      "[youtube] R76cnUvFQbw: Looking for automatic captions\n"
     ]
    },
    {
     "name": "stderr",
     "output_type": "stream",
     "text": [
      "WARNING: Couldn't find automatic captions for R76cnUvFQbw\n"
     ]
    },
    {
     "name": "stdout",
     "output_type": "stream",
     "text": [
      "No captions for R76cnUvFQbw\n",
      "[youtube] itKj0gvEM9A: Downloading webpage\n",
      "[youtube] itKj0gvEM9A: Downloading video info webpage\n",
      "[youtube] itKj0gvEM9A: Looking for automatic captions\n",
      "[info] Writing video subtitles to: subtitle_itKj0gvEM9A.en.vtt\n",
      "[youtube] QG0Xm8LP_ss: Downloading webpage\n",
      "[youtube] QG0Xm8LP_ss: Downloading video info webpage\n",
      "[youtube] QG0Xm8LP_ss: Looking for automatic captions\n"
     ]
    },
    {
     "name": "stderr",
     "output_type": "stream",
     "text": [
      "WARNING: Couldn't find automatic captions for QG0Xm8LP_ss\n"
     ]
    },
    {
     "name": "stdout",
     "output_type": "stream",
     "text": [
      "No captions for QG0Xm8LP_ss\n",
      "[youtube] KHxDUamvG4o: Downloading webpage\n",
      "[youtube] KHxDUamvG4o: Downloading video info webpage\n",
      "[youtube] KHxDUamvG4o: Looking for automatic captions\n",
      "[info] Writing video subtitles to: subtitle_KHxDUamvG4o.en.vtt\n",
      "[youtube] 2NXewxpb6Xo: Downloading webpage\n",
      "[youtube] 2NXewxpb6Xo: Downloading video info webpage\n",
      "[youtube] 2NXewxpb6Xo: Looking for automatic captions\n",
      "[info] Writing video subtitles to: subtitle_2NXewxpb6Xo.en.vtt\n",
      "[youtube] zyFidiLbzz8: Downloading webpage\n",
      "[youtube] zyFidiLbzz8: Downloading video info webpage\n",
      "[youtube] zyFidiLbzz8: Looking for automatic captions\n"
     ]
    },
    {
     "name": "stderr",
     "output_type": "stream",
     "text": [
      "WARNING: Couldn't find automatic captions for zyFidiLbzz8\n"
     ]
    },
    {
     "name": "stdout",
     "output_type": "stream",
     "text": [
      "No captions for zyFidiLbzz8\n",
      "[youtube] 5Z260fh4k-I: Downloading webpage\n",
      "[youtube] 5Z260fh4k-I: Downloading video info webpage\n",
      "[youtube] 5Z260fh4k-I: Looking for automatic captions\n"
     ]
    },
    {
     "name": "stderr",
     "output_type": "stream",
     "text": [
      "WARNING: Couldn't find automatic captions for 5Z260fh4k-I\n"
     ]
    },
    {
     "name": "stdout",
     "output_type": "stream",
     "text": [
      "No captions for 5Z260fh4k-I\n",
      "[youtube] ElSOHdFT3hc: Downloading webpage\n",
      "[youtube] ElSOHdFT3hc: Downloading video info webpage\n",
      "[youtube] ElSOHdFT3hc: Looking for automatic captions\n",
      "[info] Writing video subtitles to: subtitle_ElSOHdFT3hc.en.vtt\n",
      "[youtube] 3qqoTzL2G0w: Downloading webpage\n",
      "[youtube] 3qqoTzL2G0w: Downloading video info webpage\n",
      "[youtube] 3qqoTzL2G0w: Looking for automatic captions\n",
      "[info] Writing video subtitles to: subtitle_3qqoTzL2G0w.en.vtt\n",
      "[youtube] jrWCB_HFsqM: Downloading webpage\n",
      "[youtube] jrWCB_HFsqM: Downloading video info webpage\n",
      "[youtube] jrWCB_HFsqM: Downloading js player vflJ5l1_K\n",
      "[youtube] jrWCB_HFsqM: Looking for automatic captions\n",
      "[info] Writing video subtitles to: subtitle_jrWCB_HFsqM.en.vtt\n",
      "[youtube] -15ItDhvq4A: Downloading webpage\n",
      "[youtube] -15ItDhvq4A: Downloading video info webpage\n",
      "[youtube] -15ItDhvq4A: Looking for automatic captions\n",
      "[info] Writing video subtitles to: subtitle_-15ItDhvq4A.en.vtt\n",
      "[youtube] hOpo-RB9Bqg: Downloading webpage\n",
      "[youtube] hOpo-RB9Bqg: Downloading video info webpage\n",
      "[youtube] hOpo-RB9Bqg: Looking for automatic captions\n",
      "[info] Writing video subtitles to: subtitle_hOpo-RB9Bqg.en.vtt\n",
      "[youtube] bGPtXRM-PQA: Downloading webpage\n",
      "[youtube] bGPtXRM-PQA: Downloading video info webpage\n",
      "[youtube] bGPtXRM-PQA: Looking for automatic captions\n",
      "[info] Writing video subtitles to: subtitle_bGPtXRM-PQA.en.vtt\n",
      "[youtube] L4jpABm2MZw: Downloading webpage\n",
      "[youtube] L4jpABm2MZw: Downloading video info webpage\n",
      "[youtube] L4jpABm2MZw: Looking for automatic captions\n",
      "[info] Writing video subtitles to: subtitle_L4jpABm2MZw.en.vtt\n",
      "[youtube] kylNL0pgS00: Downloading webpage\n",
      "[youtube] kylNL0pgS00: Downloading video info webpage\n",
      "[youtube] kylNL0pgS00: Looking for automatic captions\n",
      "[info] Writing video subtitles to: subtitle_kylNL0pgS00.en.vtt\n",
      "[youtube] DD7kEBigrZU: Downloading webpage\n",
      "[youtube] DD7kEBigrZU: Downloading video info webpage\n",
      "[youtube] DD7kEBigrZU: Looking for automatic captions\n",
      "[info] Writing video subtitles to: subtitle_DD7kEBigrZU.en.vtt\n",
      "[youtube] DtuEcWH-AGc: Downloading webpage\n",
      "[youtube] DtuEcWH-AGc: Downloading video info webpage\n",
      "[youtube] DtuEcWH-AGc: Looking for automatic captions\n",
      "[info] Writing video subtitles to: subtitle_DtuEcWH-AGc.en.vtt\n",
      "[youtube] BcP4BstUPRM: Downloading webpage\n",
      "[youtube] BcP4BstUPRM: Downloading video info webpage\n",
      "[youtube] BcP4BstUPRM: Looking for automatic captions\n"
     ]
    },
    {
     "name": "stderr",
     "output_type": "stream",
     "text": [
      "WARNING: Couldn't find automatic captions for BcP4BstUPRM\n"
     ]
    },
    {
     "name": "stdout",
     "output_type": "stream",
     "text": [
      "No captions for BcP4BstUPRM\n",
      "[youtube] 1twfmbcCVw0: Downloading webpage\n",
      "[youtube] 1twfmbcCVw0: Downloading video info webpage\n",
      "[youtube] 1twfmbcCVw0: Looking for automatic captions\n",
      "[info] Writing video subtitles to: subtitle_1twfmbcCVw0.en.vtt\n",
      "[youtube] 68m1UwmUvOI: Downloading webpage\n",
      "[youtube] 68m1UwmUvOI: Downloading video info webpage\n",
      "[youtube] 68m1UwmUvOI: Looking for automatic captions\n",
      "[info] Writing video subtitles to: subtitle_68m1UwmUvOI.en.vtt\n",
      "[youtube] sjw4PcoyA8M: Downloading webpage\n",
      "[youtube] sjw4PcoyA8M: Downloading video info webpage\n",
      "[youtube] sjw4PcoyA8M: Looking for automatic captions\n",
      "[info] Writing video subtitles to: subtitle_sjw4PcoyA8M.en.vtt\n",
      "[youtube] P8k9LI1rBVo: Downloading webpage\n",
      "[youtube] P8k9LI1rBVo: Downloading video info webpage\n",
      "[youtube] P8k9LI1rBVo: Looking for automatic captions\n"
     ]
    },
    {
     "name": "stderr",
     "output_type": "stream",
     "text": [
      "WARNING: Couldn't find automatic captions for P8k9LI1rBVo\n"
     ]
    },
    {
     "name": "stdout",
     "output_type": "stream",
     "text": [
      "[youtube] P8k9LI1rBVo: Downloading MPD manifest\n",
      "[youtube] P8k9LI1rBVo: Downloading MPD manifest\n",
      "No captions for P8k9LI1rBVo\n",
      "[youtube] 2Bq1UYYF47U: Downloading webpage\n",
      "[youtube] 2Bq1UYYF47U: Downloading video info webpage\n",
      "[youtube] 2Bq1UYYF47U: Looking for automatic captions\n",
      "[info] Writing video subtitles to: subtitle_2Bq1UYYF47U.en.vtt\n",
      "[youtube] el-zwf1oogg: Downloading webpage\n",
      "[youtube] el-zwf1oogg: Downloading video info webpage\n",
      "[youtube] el-zwf1oogg: Looking for automatic captions\n",
      "[info] Writing video subtitles to: subtitle_el-zwf1oogg.en.vtt\n",
      "[youtube] HMLDzeHqtdY: Downloading webpage\n",
      "[youtube] HMLDzeHqtdY: Downloading video info webpage\n",
      "[youtube] HMLDzeHqtdY: Looking for automatic captions\n",
      "[info] Writing video subtitles to: subtitle_HMLDzeHqtdY.en.vtt\n",
      "[youtube] Rheoc-mRRFo: Downloading webpage\n",
      "[youtube] Rheoc-mRRFo: Downloading video info webpage\n",
      "[youtube] Rheoc-mRRFo: Looking for automatic captions\n",
      "[info] Writing video subtitles to: subtitle_Rheoc-mRRFo.en.vtt\n",
      "[youtube] E51jvsd8lqg: Downloading webpage\n",
      "[youtube] E51jvsd8lqg: Downloading video info webpage\n",
      "[youtube] E51jvsd8lqg: Looking for automatic captions\n"
     ]
    },
    {
     "name": "stderr",
     "output_type": "stream",
     "text": [
      "WARNING: Couldn't find automatic captions for E51jvsd8lqg\n"
     ]
    },
    {
     "name": "stdout",
     "output_type": "stream",
     "text": [
      "No captions for E51jvsd8lqg\n",
      "[youtube] hgKf62JE8Yk: Downloading webpage\n",
      "[youtube] hgKf62JE8Yk: Downloading video info webpage\n",
      "[youtube] hgKf62JE8Yk: Looking for automatic captions\n"
     ]
    },
    {
     "name": "stderr",
     "output_type": "stream",
     "text": [
      "WARNING: Couldn't find automatic captions for hgKf62JE8Yk\n"
     ]
    },
    {
     "name": "stdout",
     "output_type": "stream",
     "text": [
      "[youtube] hgKf62JE8Yk: Downloading MPD manifest\n",
      "[youtube] hgKf62JE8Yk: Downloading MPD manifest\n",
      "No captions for hgKf62JE8Yk\n",
      "[youtube] ftYc5PY2WjQ: Downloading webpage\n",
      "[youtube] ftYc5PY2WjQ: Downloading video info webpage\n",
      "[youtube] ftYc5PY2WjQ: Looking for automatic captions\n",
      "[info] Writing video subtitles to: subtitle_ftYc5PY2WjQ.en.vtt\n",
      "[youtube] vpoAm-PC758: Downloading webpage\n",
      "[youtube] vpoAm-PC758: Downloading video info webpage\n",
      "[youtube] vpoAm-PC758: Looking for automatic captions\n",
      "[info] Writing video subtitles to: subtitle_vpoAm-PC758.en.vtt\n",
      "[youtube] rEEHZ6ags_Y: Downloading webpage\n",
      "[youtube] rEEHZ6ags_Y: Downloading video info webpage\n",
      "[youtube] rEEHZ6ags_Y: Looking for automatic captions\n",
      "[info] Writing video subtitles to: subtitle_rEEHZ6ags_Y.en.vtt\n",
      "[youtube] Ofk4WGdolZw: Downloading webpage\n",
      "[youtube] Ofk4WGdolZw: Downloading video info webpage\n",
      "[youtube] Ofk4WGdolZw: Looking for automatic captions\n"
     ]
    },
    {
     "name": "stderr",
     "output_type": "stream",
     "text": [
      "WARNING: Couldn't find automatic captions for Ofk4WGdolZw\n"
     ]
    },
    {
     "name": "stdout",
     "output_type": "stream",
     "text": [
      "No captions for Ofk4WGdolZw\n",
      "[youtube] TpVLO80bbmg: Downloading webpage\n",
      "[youtube] TpVLO80bbmg: Downloading video info webpage\n",
      "[youtube] TpVLO80bbmg: Looking for automatic captions\n",
      "[info] Writing video subtitles to: subtitle_TpVLO80bbmg.en.vtt\n",
      "[youtube] xpSfG-_CB40: Downloading webpage\n",
      "[youtube] xpSfG-_CB40: Downloading video info webpage\n",
      "[youtube] xpSfG-_CB40: Looking for automatic captions\n",
      "[youtube] xpSfG-_CB40: Downloading MPD manifest\n",
      "[youtube] xpSfG-_CB40: Downloading MPD manifest\n",
      "[info] Writing video subtitles to: subtitle_xpSfG-_CB40.en.vtt\n",
      "[youtube] dZjpgdtAp_E: Downloading webpage\n",
      "[youtube] dZjpgdtAp_E: Downloading video info webpage\n",
      "[youtube] dZjpgdtAp_E: Looking for automatic captions\n",
      "[info] Writing video subtitles to: subtitle_dZjpgdtAp_E.en.vtt\n",
      "[youtube] 8AeOQKEoBx4: Downloading webpage\n",
      "[youtube] 8AeOQKEoBx4: Downloading video info webpage\n",
      "[youtube] 8AeOQKEoBx4: Looking for automatic captions\n",
      "[info] Writing video subtitles to: subtitle_8AeOQKEoBx4.en.vtt\n",
      "[youtube] 6UdY8VeimRs: Downloading webpage\n",
      "[youtube] 6UdY8VeimRs: Downloading video info webpage\n",
      "[youtube] 6UdY8VeimRs: Looking for automatic captions\n"
     ]
    },
    {
     "name": "stderr",
     "output_type": "stream",
     "text": [
      "WARNING: Couldn't find automatic captions for 6UdY8VeimRs\n"
     ]
    },
    {
     "name": "stdout",
     "output_type": "stream",
     "text": [
      "No captions for 6UdY8VeimRs\n",
      "[youtube] 5Zc-HDXkRew: Downloading webpage\n",
      "[youtube] 5Zc-HDXkRew: Downloading video info webpage\n",
      "[youtube] 5Zc-HDXkRew: Looking for automatic captions\n",
      "[info] Writing video subtitles to: subtitle_5Zc-HDXkRew.en.vtt\n",
      "[youtube] 3EMgf65elrQ: Downloading webpage\n",
      "[youtube] 3EMgf65elrQ: Downloading video info webpage\n",
      "[youtube] 3EMgf65elrQ: Looking for automatic captions\n",
      "[info] Writing video subtitles to: subtitle_3EMgf65elrQ.en.vtt\n",
      "[youtube] MvXTeUqgVNg: Downloading webpage\n",
      "[youtube] MvXTeUqgVNg: Downloading video info webpage\n",
      "[youtube] MvXTeUqgVNg: Looking for automatic captions\n",
      "[info] Writing video subtitles to: subtitle_MvXTeUqgVNg.en.vtt\n",
      "[youtube] sxNg7MRJ4m0: Downloading webpage\n",
      "[youtube] sxNg7MRJ4m0: Downloading video info webpage\n",
      "[youtube] sxNg7MRJ4m0: Looking for automatic captions\n",
      "[youtube] sxNg7MRJ4m0: Downloading MPD manifest\n",
      "[youtube] sxNg7MRJ4m0: Downloading MPD manifest\n",
      "[info] Writing video subtitles to: subtitle_sxNg7MRJ4m0.en.vtt\n",
      "[youtube] wn28XksbVio: Downloading webpage\n",
      "[youtube] wn28XksbVio: Downloading video info webpage\n",
      "[youtube] wn28XksbVio: Looking for automatic captions\n",
      "[info] Writing video subtitles to: subtitle_wn28XksbVio.en.vtt\n",
      "[youtube] QnR94EuS0dI: Downloading webpage\n",
      "[youtube] QnR94EuS0dI: Downloading video info webpage\n",
      "[youtube] QnR94EuS0dI: Looking for automatic captions\n",
      "[info] Writing video subtitles to: subtitle_QnR94EuS0dI.en.vtt\n",
      "[youtube] JLv51j0hTtk: Downloading webpage\n",
      "[youtube] JLv51j0hTtk: Downloading video info webpage\n",
      "[youtube] JLv51j0hTtk: Looking for automatic captions\n",
      "[info] Writing video subtitles to: subtitle_JLv51j0hTtk.en.vtt\n",
      "[youtube] _R6l5E62oCI: Downloading webpage\n",
      "[youtube] _R6l5E62oCI: Downloading video info webpage\n",
      "[youtube] _R6l5E62oCI: Looking for automatic captions\n",
      "[info] Writing video subtitles to: subtitle__R6l5E62oCI.en.vtt\n",
      "[youtube] 32hpqf5YxFY: Downloading webpage\n",
      "[youtube] 32hpqf5YxFY: Downloading video info webpage\n",
      "[youtube] 32hpqf5YxFY: Looking for automatic captions\n",
      "[info] Writing video subtitles to: subtitle_32hpqf5YxFY.en.vtt\n",
      "[youtube] jyKsMNXfbtA: Downloading webpage\n",
      "[youtube] jyKsMNXfbtA: Downloading video info webpage\n",
      "[youtube] jyKsMNXfbtA: Looking for automatic captions\n",
      "[info] Writing video subtitles to: subtitle_jyKsMNXfbtA.en.vtt\n",
      "[youtube] TyJTuP9dYZw: Downloading webpage\n",
      "[youtube] TyJTuP9dYZw: Downloading video info webpage\n",
      "[youtube] TyJTuP9dYZw: Looking for automatic captions\n",
      "[info] Writing video subtitles to: subtitle_TyJTuP9dYZw.en.vtt\n",
      "[youtube] OxnpjChcpJU: Downloading webpage\n",
      "[youtube] OxnpjChcpJU: Downloading video info webpage\n",
      "[youtube] OxnpjChcpJU: Looking for automatic captions\n",
      "[info] Writing video subtitles to: subtitle_OxnpjChcpJU.en.vtt\n",
      "[youtube] cqJ16VHuRFs: Downloading webpage\n",
      "[youtube] cqJ16VHuRFs: Downloading video info webpage\n",
      "[youtube] cqJ16VHuRFs: Looking for automatic captions\n",
      "[info] Writing video subtitles to: subtitle_cqJ16VHuRFs.en.vtt\n",
      "[youtube] ioBy6ugbOhs: Downloading webpage\n",
      "[youtube] ioBy6ugbOhs: Downloading video info webpage\n",
      "[youtube] ioBy6ugbOhs: Looking for automatic captions\n",
      "[info] Writing video subtitles to: subtitle_ioBy6ugbOhs.en.vtt\n",
      "[youtube] pE1iA2bXoeI: Downloading webpage\n",
      "[youtube] pE1iA2bXoeI: Downloading video info webpage\n",
      "[youtube] pE1iA2bXoeI: Looking for automatic captions\n",
      "[info] Writing video subtitles to: subtitle_pE1iA2bXoeI.en.vtt\n",
      "[youtube] nA5CIoQW9Is: Downloading webpage\n",
      "[youtube] nA5CIoQW9Is: Downloading video info webpage\n",
      "[youtube] nA5CIoQW9Is: Looking for automatic captions\n",
      "[info] Writing video subtitles to: subtitle_nA5CIoQW9Is.en.vtt\n",
      "[youtube] 0bozgM8W0mg: Downloading webpage\n",
      "[youtube] 0bozgM8W0mg: Downloading video info webpage\n",
      "[youtube] 0bozgM8W0mg: Looking for automatic captions\n",
      "[info] Writing video subtitles to: subtitle_0bozgM8W0mg.en.vtt\n",
      "[youtube] HtOeoBqWSuc: Downloading webpage\n",
      "[youtube] HtOeoBqWSuc: Downloading video info webpage\n",
      "[youtube] HtOeoBqWSuc: Looking for automatic captions\n",
      "[info] Writing video subtitles to: subtitle_HtOeoBqWSuc.en.vtt\n",
      "[youtube] -CR-idMuhic: Downloading webpage\n",
      "[youtube] -CR-idMuhic: Downloading video info webpage\n",
      "[youtube] -CR-idMuhic: Looking for automatic captions\n",
      "[info] Writing video subtitles to: subtitle_-CR-idMuhic.en.vtt\n",
      "[youtube] cTsKW66-eh0: Downloading webpage\n",
      "[youtube] cTsKW66-eh0: Downloading video info webpage\n",
      "[youtube] cTsKW66-eh0: Looking for automatic captions\n",
      "[info] Writing video subtitles to: subtitle_cTsKW66-eh0.en.vtt\n",
      "[youtube] xV27zfBzA_8: Downloading webpage\n",
      "[youtube] xV27zfBzA_8: Downloading video info webpage\n",
      "[youtube] xV27zfBzA_8: Looking for automatic captions\n",
      "[info] Writing video subtitles to: subtitle_xV27zfBzA_8.en.vtt\n",
      "[youtube] c5BwFHtic1k: Downloading webpage\n",
      "[youtube] c5BwFHtic1k: Downloading video info webpage\n",
      "[youtube] c5BwFHtic1k: Looking for automatic captions\n",
      "[info] Writing video subtitles to: subtitle_c5BwFHtic1k.en.vtt\n",
      "[youtube] vAV6KdKK1PI: Downloading webpage\n",
      "[youtube] vAV6KdKK1PI: Downloading video info webpage\n",
      "[youtube] vAV6KdKK1PI: Looking for automatic captions\n",
      "[youtube] vAV6KdKK1PI: Downloading MPD manifest\n",
      "[youtube] vAV6KdKK1PI: Downloading MPD manifest\n",
      "[info] Writing video subtitles to: subtitle_vAV6KdKK1PI.en.vtt\n",
      "[youtube] WMHvdq0pZNQ: Downloading webpage\n",
      "[youtube] WMHvdq0pZNQ: Downloading video info webpage\n",
      "[youtube] WMHvdq0pZNQ: Looking for automatic captions\n"
     ]
    },
    {
     "name": "stderr",
     "output_type": "stream",
     "text": [
      "WARNING: Couldn't find automatic captions for WMHvdq0pZNQ\n"
     ]
    },
    {
     "name": "stdout",
     "output_type": "stream",
     "text": [
      "No captions for WMHvdq0pZNQ\n",
      "[youtube] QTzGP0YuigQ: Downloading webpage\n",
      "[youtube] QTzGP0YuigQ: Downloading video info webpage\n",
      "[youtube] QTzGP0YuigQ: Looking for automatic captions\n",
      "[info] Writing video subtitles to: subtitle_QTzGP0YuigQ.en.vtt\n",
      "[youtube] ihiyMPekhmI: Downloading webpage\n",
      "[youtube] ihiyMPekhmI: Downloading video info webpage\n",
      "[youtube] ihiyMPekhmI: Looking for automatic captions\n"
     ]
    },
    {
     "name": "stderr",
     "output_type": "stream",
     "text": [
      "WARNING: Couldn't find automatic captions for ihiyMPekhmI\n"
     ]
    },
    {
     "name": "stdout",
     "output_type": "stream",
     "text": [
      "No captions for ihiyMPekhmI\n",
      "[youtube] vbMOtQImsBc: Downloading webpage\n",
      "[youtube] vbMOtQImsBc: Downloading video info webpage\n",
      "[youtube] vbMOtQImsBc: Looking for automatic captions\n",
      "[info] Writing video subtitles to: subtitle_vbMOtQImsBc.en.vtt\n",
      "[youtube] NoVY0vFk4dM: Downloading webpage\n",
      "[youtube] NoVY0vFk4dM: Downloading video info webpage\n",
      "[youtube] NoVY0vFk4dM: Looking for automatic captions\n"
     ]
    },
    {
     "name": "stderr",
     "output_type": "stream",
     "text": [
      "WARNING: Couldn't find automatic captions for NoVY0vFk4dM\n"
     ]
    },
    {
     "name": "stdout",
     "output_type": "stream",
     "text": [
      "No captions for NoVY0vFk4dM\n",
      "[youtube] ebr2QdI-LbU: Downloading webpage\n",
      "[youtube] ebr2QdI-LbU: Downloading video info webpage\n",
      "[youtube] ebr2QdI-LbU: Looking for automatic captions\n",
      "[info] Writing video subtitles to: subtitle_ebr2QdI-LbU.en.vtt\n",
      "[youtube] twD7mCcI9pA: Downloading webpage\n",
      "[youtube] twD7mCcI9pA: Downloading video info webpage\n",
      "[youtube] twD7mCcI9pA: Looking for automatic captions\n",
      "[info] Writing video subtitles to: subtitle_twD7mCcI9pA.en.vtt\n",
      "[youtube] -_4UCD2EqRY: Downloading webpage\n",
      "[youtube] -_4UCD2EqRY: Downloading video info webpage\n",
      "[youtube] -_4UCD2EqRY: Looking for automatic captions\n",
      "[info] Writing video subtitles to: subtitle_-_4UCD2EqRY.en.vtt\n",
      "[youtube] viJHTmFvkpk: Downloading webpage\n",
      "[youtube] viJHTmFvkpk: Downloading video info webpage\n",
      "[youtube] viJHTmFvkpk: Looking for automatic captions\n",
      "[info] Writing video subtitles to: subtitle_viJHTmFvkpk.en.vtt\n",
      "[youtube] fqHrOLBRbZM: Downloading webpage\n",
      "[youtube] fqHrOLBRbZM: Downloading video info webpage\n",
      "[youtube] fqHrOLBRbZM: Looking for automatic captions\n",
      "[info] Writing video subtitles to: subtitle_fqHrOLBRbZM.en.vtt\n",
      "[youtube] ywVU_Eb3mko: Downloading webpage\n",
      "[youtube] ywVU_Eb3mko: Downloading video info webpage\n",
      "[youtube] ywVU_Eb3mko: Looking for automatic captions\n"
     ]
    },
    {
     "name": "stderr",
     "output_type": "stream",
     "text": [
      "WARNING: Couldn't find automatic captions for ywVU_Eb3mko\n"
     ]
    },
    {
     "name": "stdout",
     "output_type": "stream",
     "text": [
      "[youtube] ywVU_Eb3mko: Downloading MPD manifest\n",
      "[youtube] ywVU_Eb3mko: Downloading MPD manifest\n",
      "No captions for ywVU_Eb3mko\n",
      "[youtube] G6dMOTyCYoA: Downloading webpage\n",
      "[youtube] G6dMOTyCYoA: Downloading video info webpage\n",
      "[youtube] G6dMOTyCYoA: Looking for automatic captions\n",
      "[info] Writing video subtitles to: subtitle_G6dMOTyCYoA.en.vtt\n",
      "[youtube] T03FFFk93n4: Downloading webpage\n",
      "[youtube] T03FFFk93n4: Downloading video info webpage\n",
      "[youtube] T03FFFk93n4: Looking for automatic captions\n",
      "[youtube] T03FFFk93n4: Downloading MPD manifest\n",
      "[youtube] T03FFFk93n4: Downloading MPD manifest\n",
      "[info] Writing video subtitles to: subtitle_T03FFFk93n4.en.vtt\n",
      "[youtube] JG7hJlhp4Mw: Downloading webpage\n",
      "[youtube] JG7hJlhp4Mw: Downloading video info webpage\n",
      "[youtube] JG7hJlhp4Mw: Looking for automatic captions\n"
     ]
    },
    {
     "name": "stderr",
     "output_type": "stream",
     "text": [
      "WARNING: Couldn't find automatic captions for JG7hJlhp4Mw\n"
     ]
    },
    {
     "name": "stdout",
     "output_type": "stream",
     "text": [
      "No captions for JG7hJlhp4Mw\n",
      "[youtube] p1Zm1Ds9EPc: Downloading webpage\n",
      "[youtube] p1Zm1Ds9EPc: Downloading video info webpage\n",
      "[youtube] p1Zm1Ds9EPc: Looking for automatic captions\n",
      "[youtube] p1Zm1Ds9EPc: Downloading MPD manifest\n",
      "[youtube] p1Zm1Ds9EPc: Downloading MPD manifest\n",
      "[info] Writing video subtitles to: subtitle_p1Zm1Ds9EPc.en.vtt\n",
      "[youtube] T07R1XqkST8: Downloading webpage\n",
      "[youtube] T07R1XqkST8: Downloading video info webpage\n",
      "[youtube] T07R1XqkST8: Looking for automatic captions\n",
      "[info] Writing video subtitles to: subtitle_T07R1XqkST8.en.vtt\n",
      "[youtube] xUil0r99-vc: Downloading webpage\n",
      "[youtube] xUil0r99-vc: Downloading video info webpage\n",
      "[youtube] xUil0r99-vc: Looking for automatic captions\n",
      "[info] Writing video subtitles to: subtitle_xUil0r99-vc.en.vtt\n",
      "[youtube] mrJsFrPJ09M: Downloading webpage\n",
      "[youtube] mrJsFrPJ09M: Downloading video info webpage\n",
      "[youtube] mrJsFrPJ09M: Looking for automatic captions\n",
      "[info] Writing video subtitles to: subtitle_mrJsFrPJ09M.en.vtt\n",
      "[youtube] TI4SwEm5L8g: Downloading webpage\n",
      "[youtube] TI4SwEm5L8g: Downloading video info webpage\n",
      "[youtube] TI4SwEm5L8g: Looking for automatic captions\n",
      "[info] Writing video subtitles to: subtitle_TI4SwEm5L8g.en.vtt\n",
      "[youtube] BhNuLzPVSnE: Downloading webpage\n",
      "[youtube] BhNuLzPVSnE: Downloading video info webpage\n",
      "[youtube] BhNuLzPVSnE: Looking for automatic captions\n",
      "[info] Writing video subtitles to: subtitle_BhNuLzPVSnE.en.vtt\n",
      "[youtube] HvMX3moQ5wc: Downloading webpage\n",
      "[youtube] HvMX3moQ5wc: Downloading video info webpage\n",
      "[youtube] HvMX3moQ5wc: Looking for automatic captions\n",
      "[youtube] HvMX3moQ5wc: Downloading MPD manifest\n",
      "[youtube] HvMX3moQ5wc: Downloading MPD manifest\n",
      "[info] Writing video subtitles to: subtitle_HvMX3moQ5wc.en.vtt\n",
      "[youtube] 5R3CdaSeaJM: Downloading webpage\n",
      "[youtube] 5R3CdaSeaJM: Downloading video info webpage\n",
      "[youtube] 5R3CdaSeaJM: Looking for automatic captions\n"
     ]
    },
    {
     "name": "stderr",
     "output_type": "stream",
     "text": [
      "WARNING: Couldn't find automatic captions for 5R3CdaSeaJM\n"
     ]
    },
    {
     "name": "stdout",
     "output_type": "stream",
     "text": [
      "No captions for 5R3CdaSeaJM\n",
      "[youtube] UqeKky4L_0A: Downloading webpage\n",
      "[youtube] UqeKky4L_0A: Downloading video info webpage\n",
      "[youtube] UqeKky4L_0A: Looking for automatic captions\n"
     ]
    },
    {
     "name": "stderr",
     "output_type": "stream",
     "text": [
      "WARNING: Couldn't find automatic captions for UqeKky4L_0A\n"
     ]
    },
    {
     "name": "stdout",
     "output_type": "stream",
     "text": [
      "No captions for UqeKky4L_0A\n",
      "[youtube] V_vjWX8tawQ: Downloading webpage\n",
      "[youtube] V_vjWX8tawQ: Downloading video info webpage\n",
      "[youtube] V_vjWX8tawQ: Looking for automatic captions\n",
      "[info] Writing video subtitles to: subtitle_V_vjWX8tawQ.en.vtt\n",
      "[youtube] 8ryaWC0Rx5c: Downloading webpage\n",
      "[youtube] 8ryaWC0Rx5c: Downloading video info webpage\n",
      "[youtube] 8ryaWC0Rx5c: Looking for automatic captions\n",
      "[info] Writing video subtitles to: subtitle_8ryaWC0Rx5c.en.vtt\n",
      "[youtube] UM_KYrQWnTk: Downloading webpage\n",
      "[youtube] UM_KYrQWnTk: Downloading video info webpage\n",
      "[youtube] UM_KYrQWnTk: Looking for automatic captions\n",
      "[youtube] UM_KYrQWnTk: Downloading MPD manifest\n",
      "[youtube] UM_KYrQWnTk: Downloading MPD manifest\n",
      "[info] Writing video subtitles to: subtitle_UM_KYrQWnTk.en.vtt\n",
      "[youtube] eAJFYMUJNEw: Downloading webpage\n",
      "[youtube] eAJFYMUJNEw: Downloading video info webpage\n",
      "[youtube] eAJFYMUJNEw: Looking for automatic captions\n",
      "[info] Writing video subtitles to: subtitle_eAJFYMUJNEw.en.vtt\n",
      "[youtube] AM_mwqwpzSo: Downloading webpage\n",
      "[youtube] AM_mwqwpzSo: Downloading video info webpage\n",
      "[youtube] AM_mwqwpzSo: Looking for automatic captions\n",
      "[youtube] AM_mwqwpzSo: Downloading MPD manifest\n",
      "[youtube] AM_mwqwpzSo: Downloading MPD manifest\n",
      "[info] Writing video subtitles to: subtitle_AM_mwqwpzSo.en.vtt\n",
      "[youtube] WoKSqBiS_p8: Downloading webpage\n",
      "[youtube] WoKSqBiS_p8: Downloading video info webpage\n",
      "[youtube] WoKSqBiS_p8: Looking for automatic captions\n",
      "[youtube] WoKSqBiS_p8: Downloading MPD manifest\n",
      "[youtube] WoKSqBiS_p8: Downloading MPD manifest\n",
      "[info] Writing video subtitles to: subtitle_WoKSqBiS_p8.en.vtt\n",
      "[youtube] STudb6b3G50: Downloading webpage\n",
      "[youtube] STudb6b3G50: Downloading video info webpage\n",
      "[youtube] STudb6b3G50: Looking for automatic captions\n"
     ]
    },
    {
     "name": "stderr",
     "output_type": "stream",
     "text": [
      "WARNING: Couldn't find automatic captions for STudb6b3G50\n"
     ]
    },
    {
     "name": "stdout",
     "output_type": "stream",
     "text": [
      "No captions for STudb6b3G50\n",
      "[youtube] 9uXiksrS8Qs: Downloading webpage\n",
      "[youtube] 9uXiksrS8Qs: Downloading video info webpage\n",
      "[youtube] 9uXiksrS8Qs: Looking for automatic captions\n",
      "[info] Writing video subtitles to: subtitle_9uXiksrS8Qs.en.vtt\n",
      "[youtube] jqoAFuviSHc: Downloading webpage\n",
      "[youtube] jqoAFuviSHc: Downloading video info webpage\n",
      "[youtube] jqoAFuviSHc: Looking for automatic captions\n"
     ]
    },
    {
     "name": "stderr",
     "output_type": "stream",
     "text": [
      "WARNING: Couldn't find automatic captions for jqoAFuviSHc\n"
     ]
    },
    {
     "name": "stdout",
     "output_type": "stream",
     "text": [
      "No captions for jqoAFuviSHc\n",
      "[youtube] oDzuUbh0MDQ: Downloading webpage\n",
      "[youtube] oDzuUbh0MDQ: Downloading video info webpage\n",
      "[youtube] oDzuUbh0MDQ: Looking for automatic captions\n",
      "[info] Writing video subtitles to: subtitle_oDzuUbh0MDQ.en.vtt\n",
      "[youtube] ZZ750bUILgs: Downloading webpage\n",
      "[youtube] ZZ750bUILgs: Downloading video info webpage\n",
      "[youtube] ZZ750bUILgs: Looking for automatic captions\n",
      "[info] Writing video subtitles to: subtitle_ZZ750bUILgs.en.vtt\n",
      "[youtube] 1XXuqxOF6BE: Downloading webpage\n",
      "[youtube] 1XXuqxOF6BE: Downloading video info webpage\n",
      "[youtube] 1XXuqxOF6BE: Looking for automatic captions\n",
      "[info] Writing video subtitles to: subtitle_1XXuqxOF6BE.en.vtt\n",
      "[youtube] 5_gA8Bs_ACA: Downloading webpage\n",
      "[youtube] 5_gA8Bs_ACA: Downloading video info webpage\n",
      "[youtube] 5_gA8Bs_ACA: Looking for automatic captions\n",
      "[info] Writing video subtitles to: subtitle_5_gA8Bs_ACA.en.vtt\n",
      "[youtube] eU77UQAdBSM: Downloading webpage\n",
      "[youtube] eU77UQAdBSM: Downloading video info webpage\n",
      "[youtube] eU77UQAdBSM: Looking for automatic captions\n",
      "[info] Writing video subtitles to: subtitle_eU77UQAdBSM.en.vtt\n",
      "[youtube] P3FFx0kvJTM: Downloading webpage\n",
      "[youtube] P3FFx0kvJTM: Downloading video info webpage\n",
      "[youtube] P3FFx0kvJTM: Looking for automatic captions\n"
     ]
    },
    {
     "name": "stderr",
     "output_type": "stream",
     "text": [
      "WARNING: Couldn't find automatic captions for P3FFx0kvJTM\n"
     ]
    },
    {
     "name": "stdout",
     "output_type": "stream",
     "text": [
      "No captions for P3FFx0kvJTM\n",
      "[youtube] AupNzN7Ac3o: Downloading webpage\n",
      "[youtube] AupNzN7Ac3o: Downloading video info webpage\n",
      "[youtube] AupNzN7Ac3o: Looking for automatic captions\n"
     ]
    },
    {
     "name": "stderr",
     "output_type": "stream",
     "text": [
      "WARNING: Couldn't find automatic captions for AupNzN7Ac3o\n"
     ]
    },
    {
     "name": "stdout",
     "output_type": "stream",
     "text": [
      "No captions for AupNzN7Ac3o\n",
      "[youtube] ET1Hhp9ixA8: Downloading webpage\n",
      "[youtube] ET1Hhp9ixA8: Downloading video info webpage\n",
      "[youtube] ET1Hhp9ixA8: Looking for automatic captions\n",
      "[info] Writing video subtitles to: subtitle_ET1Hhp9ixA8.en.vtt\n",
      "[youtube] hhlCd0X_Nhs: Downloading webpage\n",
      "[youtube] hhlCd0X_Nhs: Downloading video info webpage\n",
      "[youtube] hhlCd0X_Nhs: Looking for automatic captions\n",
      "[info] Writing video subtitles to: subtitle_hhlCd0X_Nhs.en.vtt\n",
      "[youtube] vSEV-weiXjA: Downloading webpage\n",
      "[youtube] vSEV-weiXjA: Downloading video info webpage\n",
      "[youtube] vSEV-weiXjA: Looking for automatic captions\n"
     ]
    },
    {
     "name": "stderr",
     "output_type": "stream",
     "text": [
      "WARNING: Couldn't find automatic captions for vSEV-weiXjA\n"
     ]
    },
    {
     "name": "stdout",
     "output_type": "stream",
     "text": [
      "No captions for vSEV-weiXjA\n",
      "[youtube] Xx4cU-Rkpbo: Downloading webpage\n",
      "[youtube] Xx4cU-Rkpbo: Downloading video info webpage\n",
      "[youtube] Xx4cU-Rkpbo: Looking for automatic captions\n"
     ]
    },
    {
     "name": "stderr",
     "output_type": "stream",
     "text": [
      "WARNING: Couldn't find automatic captions for Xx4cU-Rkpbo\n"
     ]
    },
    {
     "name": "stdout",
     "output_type": "stream",
     "text": [
      "No captions for Xx4cU-Rkpbo\n",
      "[youtube] v8M_ij2mKsk: Downloading webpage\n",
      "[youtube] v8M_ij2mKsk: Downloading video info webpage\n",
      "[youtube] v8M_ij2mKsk: Looking for automatic captions\n",
      "[info] Writing video subtitles to: subtitle_v8M_ij2mKsk.en.vtt\n",
      "[youtube] Qm_YcA8Fzww: Downloading webpage\n",
      "[youtube] Qm_YcA8Fzww: Downloading video info webpage\n",
      "[youtube] Qm_YcA8Fzww: Looking for automatic captions\n",
      "[youtube] Qm_YcA8Fzww: Downloading MPD manifest\n",
      "[youtube] Qm_YcA8Fzww: Downloading MPD manifest\n",
      "[info] Writing video subtitles to: subtitle_Qm_YcA8Fzww.en.vtt\n",
      "[youtube] ecTKXsLZ-gQ: Downloading webpage\n",
      "[youtube] ecTKXsLZ-gQ: Downloading video info webpage\n",
      "[youtube] ecTKXsLZ-gQ: Looking for automatic captions\n",
      "[info] Writing video subtitles to: subtitle_ecTKXsLZ-gQ.en.vtt\n",
      "[youtube] OkT5OySaKq4: Downloading webpage\n",
      "[youtube] OkT5OySaKq4: Downloading video info webpage\n",
      "[youtube] OkT5OySaKq4: Looking for automatic captions\n"
     ]
    },
    {
     "name": "stderr",
     "output_type": "stream",
     "text": [
      "WARNING: Couldn't find automatic captions for OkT5OySaKq4\n"
     ]
    },
    {
     "name": "stdout",
     "output_type": "stream",
     "text": [
      "No captions for OkT5OySaKq4\n",
      "[youtube] H9mba-6xv_Y: Downloading webpage\n",
      "[youtube] H9mba-6xv_Y: Downloading video info webpage\n",
      "[youtube] H9mba-6xv_Y: Looking for automatic captions\n",
      "[info] Writing video subtitles to: subtitle_H9mba-6xv_Y.en.vtt\n",
      "[youtube] fPB_OM1UHds: Downloading webpage\n",
      "[youtube] fPB_OM1UHds: Downloading video info webpage\n",
      "[youtube] fPB_OM1UHds: Looking for automatic captions\n",
      "[info] Writing video subtitles to: subtitle_fPB_OM1UHds.en.vtt\n",
      "[youtube] mErgS97NyzQ: Downloading webpage\n",
      "[youtube] mErgS97NyzQ: Downloading video info webpage\n",
      "[youtube] mErgS97NyzQ: Looking for automatic captions\n",
      "[info] Writing video subtitles to: subtitle_mErgS97NyzQ.en.vtt\n",
      "[youtube] Ulpx8lWxoCE: Downloading webpage\n",
      "[youtube] Ulpx8lWxoCE: Downloading video info webpage\n",
      "[youtube] Ulpx8lWxoCE: Looking for automatic captions\n"
     ]
    },
    {
     "name": "stderr",
     "output_type": "stream",
     "text": [
      "WARNING: Couldn't find automatic captions for Ulpx8lWxoCE\n"
     ]
    },
    {
     "name": "stdout",
     "output_type": "stream",
     "text": [
      "[youtube] Ulpx8lWxoCE: Downloading MPD manifest\n",
      "[youtube] Ulpx8lWxoCE: Downloading MPD manifest\n",
      "No captions for Ulpx8lWxoCE\n",
      "[youtube] 6XVl8pcaVQk: Downloading webpage\n",
      "[youtube] 6XVl8pcaVQk: Downloading video info webpage\n",
      "[youtube] 6XVl8pcaVQk: Looking for automatic captions\n",
      "[info] Writing video subtitles to: subtitle_6XVl8pcaVQk.en.vtt\n",
      "[youtube] vMOWsAIjbAQ: Downloading webpage\n",
      "[youtube] vMOWsAIjbAQ: Downloading video info webpage\n",
      "[youtube] vMOWsAIjbAQ: Looking for automatic captions\n"
     ]
    },
    {
     "name": "stderr",
     "output_type": "stream",
     "text": [
      "WARNING: Couldn't find automatic captions for vMOWsAIjbAQ\n"
     ]
    },
    {
     "name": "stdout",
     "output_type": "stream",
     "text": [
      "[youtube] vMOWsAIjbAQ: Downloading MPD manifest\n",
      "[youtube] vMOWsAIjbAQ: Downloading MPD manifest\n",
      "No captions for vMOWsAIjbAQ\n",
      "[youtube] 3qmYs51mYI4: Downloading webpage\n",
      "[youtube] 3qmYs51mYI4: Downloading video info webpage\n",
      "[youtube] 3qmYs51mYI4: Looking for automatic captions\n"
     ]
    },
    {
     "name": "stderr",
     "output_type": "stream",
     "text": [
      "WARNING: Couldn't find automatic captions for 3qmYs51mYI4\n"
     ]
    },
    {
     "name": "stdout",
     "output_type": "stream",
     "text": [
      "No captions for 3qmYs51mYI4\n",
      "[youtube] VLy0tSJpKrg: Downloading webpage\n",
      "[youtube] VLy0tSJpKrg: Downloading video info webpage\n",
      "[youtube] VLy0tSJpKrg: Looking for automatic captions\n",
      "[youtube] VLy0tSJpKrg: Downloading MPD manifest\n",
      "[youtube] VLy0tSJpKrg: Downloading MPD manifest\n",
      "[info] Writing video subtitles to: subtitle_VLy0tSJpKrg.en.vtt\n",
      "[youtube] 6QPenK6wkJo: Downloading webpage\n",
      "[youtube] 6QPenK6wkJo: Downloading video info webpage\n",
      "[youtube] 6QPenK6wkJo: Looking for automatic captions\n",
      "[info] Writing video subtitles to: subtitle_6QPenK6wkJo.en.vtt\n",
      "[youtube] GXPZAZ1g8Ok: Downloading webpage\n",
      "[youtube] GXPZAZ1g8Ok: Downloading video info webpage\n",
      "[youtube] GXPZAZ1g8Ok: Looking for automatic captions\n",
      "[info] Writing video subtitles to: subtitle_GXPZAZ1g8Ok.en.vtt\n",
      "[youtube] dpYA_d4A4E0: Downloading webpage\n",
      "[youtube] dpYA_d4A4E0: Downloading video info webpage\n",
      "[youtube] dpYA_d4A4E0: Looking for automatic captions\n",
      "[info] Writing video subtitles to: subtitle_dpYA_d4A4E0.en.vtt\n",
      "[youtube] EljY5_9jsp0: Downloading webpage\n",
      "[youtube] EljY5_9jsp0: Downloading video info webpage\n",
      "[youtube] EljY5_9jsp0: Looking for automatic captions\n"
     ]
    },
    {
     "name": "stderr",
     "output_type": "stream",
     "text": [
      "WARNING: Couldn't find automatic captions for EljY5_9jsp0\n"
     ]
    },
    {
     "name": "stdout",
     "output_type": "stream",
     "text": [
      "No captions for EljY5_9jsp0\n",
      "[youtube] OWtjEGzSjMo: Downloading webpage\n",
      "[youtube] OWtjEGzSjMo: Downloading video info webpage\n",
      "[youtube] OWtjEGzSjMo: Looking for automatic captions\n",
      "[info] Writing video subtitles to: subtitle_OWtjEGzSjMo.en.vtt\n",
      "[youtube] DveGMWlMH20: Downloading webpage\n",
      "[youtube] DveGMWlMH20: Downloading video info webpage\n",
      "[youtube] DveGMWlMH20: Looking for automatic captions\n",
      "[info] Writing video subtitles to: subtitle_DveGMWlMH20.en.vtt\n",
      "[youtube] 1wK7Yal_JY0: Downloading webpage\n",
      "[youtube] 1wK7Yal_JY0: Downloading video info webpage\n",
      "[youtube] 1wK7Yal_JY0: Looking for automatic captions\n"
     ]
    },
    {
     "name": "stderr",
     "output_type": "stream",
     "text": [
      "WARNING: Couldn't find automatic captions for 1wK7Yal_JY0\n"
     ]
    },
    {
     "name": "stdout",
     "output_type": "stream",
     "text": [
      "No captions for 1wK7Yal_JY0\n",
      "[youtube] trkFXSzsO5c: Downloading webpage\n",
      "[youtube] trkFXSzsO5c: Downloading video info webpage\n",
      "[youtube] trkFXSzsO5c: Looking for automatic captions\n",
      "[info] Writing video subtitles to: subtitle_trkFXSzsO5c.en.vtt\n",
      "[youtube] qikyh3tkkW0: Downloading webpage\n",
      "[youtube] qikyh3tkkW0: Downloading video info webpage\n",
      "[youtube] qikyh3tkkW0: Looking for automatic captions\n",
      "[info] Writing video subtitles to: subtitle_qikyh3tkkW0.en.vtt\n",
      "[youtube] UIzB99yBJtc: Downloading webpage\n",
      "[youtube] UIzB99yBJtc: Downloading video info webpage\n",
      "[youtube] UIzB99yBJtc: Looking for automatic captions\n",
      "[youtube] UIzB99yBJtc: Downloading MPD manifest\n",
      "[youtube] UIzB99yBJtc: Downloading MPD manifest\n",
      "[info] Writing video subtitles to: subtitle_UIzB99yBJtc.en.vtt\n",
      "[youtube] stRlSbJXgbY: Downloading webpage\n",
      "[youtube] stRlSbJXgbY: Downloading video info webpage\n",
      "[youtube] stRlSbJXgbY: Looking for automatic captions\n"
     ]
    },
    {
     "name": "stderr",
     "output_type": "stream",
     "text": [
      "WARNING: Couldn't find automatic captions for stRlSbJXgbY\n"
     ]
    },
    {
     "name": "stdout",
     "output_type": "stream",
     "text": [
      "No captions for stRlSbJXgbY\n",
      "[youtube] 1iG-CmwpzjE: Downloading webpage\n",
      "[youtube] 1iG-CmwpzjE: Downloading video info webpage\n",
      "[youtube] 1iG-CmwpzjE: Looking for automatic captions\n"
     ]
    },
    {
     "name": "stderr",
     "output_type": "stream",
     "text": [
      "WARNING: Couldn't find automatic captions for 1iG-CmwpzjE\n"
     ]
    },
    {
     "name": "stdout",
     "output_type": "stream",
     "text": [
      "No captions for 1iG-CmwpzjE\n",
      "[youtube] -r223LLAA5c: Downloading webpage\n",
      "[youtube] -r223LLAA5c: Downloading video info webpage\n",
      "[youtube] -r223LLAA5c: Looking for automatic captions\n"
     ]
    },
    {
     "name": "stderr",
     "output_type": "stream",
     "text": [
      "WARNING: Couldn't find automatic captions for -r223LLAA5c\n"
     ]
    },
    {
     "name": "stdout",
     "output_type": "stream",
     "text": [
      "No captions for -r223LLAA5c\n",
      "[youtube] 8Y-lfqG9qZo: Downloading webpage\n",
      "[youtube] 8Y-lfqG9qZo: Downloading video info webpage\n",
      "[youtube] 8Y-lfqG9qZo: Looking for automatic captions\n",
      "[info] Writing video subtitles to: subtitle_8Y-lfqG9qZo.en.vtt\n",
      "[youtube] G9BPGDbUl0E: Downloading webpage\n",
      "[youtube] G9BPGDbUl0E: Downloading video info webpage\n",
      "[youtube] G9BPGDbUl0E: Looking for automatic captions\n",
      "[info] Writing video subtitles to: subtitle_G9BPGDbUl0E.en.vtt\n",
      "[youtube] OKvrsDi_rMI: Downloading webpage\n",
      "[youtube] OKvrsDi_rMI: Downloading video info webpage\n",
      "[youtube] OKvrsDi_rMI: Looking for automatic captions\n"
     ]
    },
    {
     "name": "stderr",
     "output_type": "stream",
     "text": [
      "WARNING: Couldn't find automatic captions for OKvrsDi_rMI\n"
     ]
    },
    {
     "name": "stdout",
     "output_type": "stream",
     "text": [
      "No captions for OKvrsDi_rMI\n",
      "[youtube] 2BI1bmxyQcY: Downloading webpage\n",
      "[youtube] 2BI1bmxyQcY: Downloading video info webpage\n",
      "[youtube] 2BI1bmxyQcY: Looking for automatic captions\n"
     ]
    },
    {
     "name": "stderr",
     "output_type": "stream",
     "text": [
      "WARNING: Couldn't find automatic captions for 2BI1bmxyQcY\n"
     ]
    },
    {
     "name": "stdout",
     "output_type": "stream",
     "text": [
      "No captions for 2BI1bmxyQcY\n",
      "[youtube] 1-UCkDW67nw: Downloading webpage\n",
      "[youtube] 1-UCkDW67nw: Downloading video info webpage\n",
      "[youtube] 1-UCkDW67nw: Looking for automatic captions\n",
      "[info] Writing video subtitles to: subtitle_1-UCkDW67nw.en.vtt\n",
      "[youtube] tHeHAPGCckw: Downloading webpage\n",
      "[youtube] tHeHAPGCckw: Downloading video info webpage\n",
      "[youtube] tHeHAPGCckw: Looking for automatic captions\n",
      "[info] Writing video subtitles to: subtitle_tHeHAPGCckw.en.vtt\n",
      "[youtube] 1_vjM6mgkgs: Downloading webpage\n",
      "[youtube] 1_vjM6mgkgs: Downloading video info webpage\n",
      "[youtube] 1_vjM6mgkgs: Looking for automatic captions\n",
      "[info] Writing video subtitles to: subtitle_1_vjM6mgkgs.en.vtt\n",
      "[youtube] ADBb3AstzIA: Downloading webpage\n",
      "[youtube] ADBb3AstzIA: Downloading embed webpage\n",
      "[youtube] ADBb3AstzIA: Refetching age-gated info webpage\n",
      "[youtube] ADBb3AstzIA: Looking for automatic captions\n"
     ]
    },
    {
     "name": "stderr",
     "output_type": "stream",
     "text": [
      "WARNING: Couldn't find automatic captions for ADBb3AstzIA\n"
     ]
    },
    {
     "name": "stdout",
     "output_type": "stream",
     "text": [
      "No captions for ADBb3AstzIA\n",
      "[youtube] 0kPCq9jRRIY: Downloading webpage\n",
      "[youtube] 0kPCq9jRRIY: Downloading video info webpage\n",
      "[youtube] 0kPCq9jRRIY: Looking for automatic captions\n",
      "[youtube] 0kPCq9jRRIY: Downloading MPD manifest\n",
      "[info] Writing video subtitles to: subtitle_0kPCq9jRRIY.en.vtt\n",
      "[youtube] Z_xfYbZFVPI: Downloading webpage\n",
      "[youtube] Z_xfYbZFVPI: Downloading video info webpage\n",
      "[youtube] Z_xfYbZFVPI: Looking for automatic captions\n",
      "[youtube] Z_xfYbZFVPI: Downloading MPD manifest\n",
      "[youtube] Z_xfYbZFVPI: Downloading MPD manifest\n",
      "[info] Writing video subtitles to: subtitle_Z_xfYbZFVPI.en.vtt\n",
      "[youtube] 1GRbBuSBW5o: Downloading webpage\n",
      "[youtube] 1GRbBuSBW5o: Downloading video info webpage\n",
      "[youtube] 1GRbBuSBW5o: Looking for automatic captions\n",
      "[info] Writing video subtitles to: subtitle_1GRbBuSBW5o.en.vtt\n",
      "[youtube] wyj3LIcXKKg: Downloading webpage\n",
      "[youtube] wyj3LIcXKKg: Downloading video info webpage\n",
      "[youtube] wyj3LIcXKKg: Looking for automatic captions\n"
     ]
    },
    {
     "name": "stderr",
     "output_type": "stream",
     "text": [
      "WARNING: Couldn't find automatic captions for wyj3LIcXKKg\n"
     ]
    },
    {
     "name": "stdout",
     "output_type": "stream",
     "text": [
      "No captions for wyj3LIcXKKg\n",
      "[youtube] ircY2na6OCE: Downloading webpage\n",
      "[youtube] ircY2na6OCE: Downloading video info webpage\n",
      "[youtube] ircY2na6OCE: Looking for automatic captions\n",
      "[info] Writing video subtitles to: subtitle_ircY2na6OCE.en.vtt\n",
      "[youtube] DiDKO1xwGhw: Downloading webpage\n",
      "[youtube] DiDKO1xwGhw: Downloading video info webpage\n",
      "[youtube] DiDKO1xwGhw: Looking for automatic captions\n",
      "[youtube] DiDKO1xwGhw: Downloading MPD manifest\n",
      "[youtube] DiDKO1xwGhw: Downloading MPD manifest\n",
      "[info] Writing video subtitles to: subtitle_DiDKO1xwGhw.en.vtt\n",
      "[youtube] XLZyfK_9Yq4: Downloading webpage\n",
      "[youtube] XLZyfK_9Yq4: Downloading video info webpage\n",
      "[youtube] XLZyfK_9Yq4: Looking for automatic captions\n",
      "[info] Writing video subtitles to: subtitle_XLZyfK_9Yq4.en.vtt\n",
      "[youtube] k5wDtvMBbqk: Downloading webpage\n",
      "[youtube] k5wDtvMBbqk: Downloading video info webpage\n",
      "[youtube] k5wDtvMBbqk: Looking for automatic captions\n"
     ]
    },
    {
     "name": "stderr",
     "output_type": "stream",
     "text": [
      "WARNING: Couldn't find automatic captions for k5wDtvMBbqk\n"
     ]
    },
    {
     "name": "stdout",
     "output_type": "stream",
     "text": [
      "No captions for k5wDtvMBbqk\n",
      "[youtube] hYXURiCBTMg: Downloading webpage\n",
      "[youtube] hYXURiCBTMg: Downloading video info webpage\n",
      "[youtube] hYXURiCBTMg: Looking for automatic captions\n",
      "[youtube] hYXURiCBTMg: Downloading MPD manifest\n",
      "[youtube] hYXURiCBTMg: Downloading MPD manifest\n",
      "[info] Writing video subtitles to: subtitle_hYXURiCBTMg.en.vtt\n",
      "[youtube] OdRffVqNAmI: Downloading webpage\n",
      "[youtube] OdRffVqNAmI: Downloading video info webpage\n",
      "[youtube] OdRffVqNAmI: Looking for automatic captions\n"
     ]
    },
    {
     "name": "stderr",
     "output_type": "stream",
     "text": [
      "WARNING: Couldn't find automatic captions for OdRffVqNAmI\n"
     ]
    },
    {
     "name": "stdout",
     "output_type": "stream",
     "text": [
      "No captions for OdRffVqNAmI\n",
      "[youtube] gOOIz5Y7umo: Downloading webpage\n",
      "[youtube] gOOIz5Y7umo: Downloading video info webpage\n",
      "[youtube] gOOIz5Y7umo: Looking for automatic captions\n"
     ]
    },
    {
     "name": "stderr",
     "output_type": "stream",
     "text": [
      "WARNING: Couldn't find automatic captions for gOOIz5Y7umo\n"
     ]
    },
    {
     "name": "stdout",
     "output_type": "stream",
     "text": [
      "[youtube] gOOIz5Y7umo: Downloading MPD manifest\n",
      "[youtube] gOOIz5Y7umo: Downloading MPD manifest\n",
      "No captions for gOOIz5Y7umo\n",
      "[youtube] 2-aZgRHGEwQ: Downloading webpage\n",
      "[youtube] 2-aZgRHGEwQ: Downloading video info webpage\n",
      "[youtube] 2-aZgRHGEwQ: Looking for automatic captions\n"
     ]
    },
    {
     "name": "stderr",
     "output_type": "stream",
     "text": [
      "WARNING: Couldn't find automatic captions for 2-aZgRHGEwQ\n"
     ]
    },
    {
     "name": "stdout",
     "output_type": "stream",
     "text": [
      "No captions for 2-aZgRHGEwQ\n",
      "[youtube] oDezZdZL2pM: Downloading webpage\n",
      "[youtube] oDezZdZL2pM: Downloading video info webpage\n",
      "[youtube] oDezZdZL2pM: Looking for automatic captions\n",
      "[info] Writing video subtitles to: subtitle_oDezZdZL2pM.en.vtt\n",
      "[youtube] xyOTA0dUqJY: Downloading webpage\n",
      "[youtube] xyOTA0dUqJY: Downloading video info webpage\n",
      "[youtube] xyOTA0dUqJY: Looking for automatic captions\n"
     ]
    },
    {
     "name": "stderr",
     "output_type": "stream",
     "text": [
      "WARNING: Couldn't find automatic captions for xyOTA0dUqJY\n"
     ]
    },
    {
     "name": "stdout",
     "output_type": "stream",
     "text": [
      "No captions for xyOTA0dUqJY\n",
      "[youtube] qFqdkHwtNy8: Downloading webpage\n",
      "[youtube] qFqdkHwtNy8: Downloading video info webpage\n",
      "[youtube] qFqdkHwtNy8: Looking for automatic captions\n",
      "[info] Writing video subtitles to: subtitle_qFqdkHwtNy8.en.vtt\n",
      "[youtube] e_aNcUpQp3M: Downloading webpage\n",
      "[youtube] e_aNcUpQp3M: Downloading video info webpage\n",
      "[youtube] e_aNcUpQp3M: Looking for automatic captions\n",
      "[youtube] e_aNcUpQp3M: Downloading MPD manifest\n",
      "[youtube] e_aNcUpQp3M: Downloading MPD manifest\n",
      "[info] Writing video subtitles to: subtitle_e_aNcUpQp3M.en.vtt\n",
      "[youtube] Uw7xQkZ2Dpw: Downloading webpage\n",
      "[youtube] Uw7xQkZ2Dpw: Downloading video info webpage\n",
      "[youtube] Uw7xQkZ2Dpw: Looking for automatic captions\n",
      "[youtube] Uw7xQkZ2Dpw: Downloading MPD manifest\n",
      "[youtube] Uw7xQkZ2Dpw: Downloading MPD manifest\n",
      "[info] Writing video subtitles to: subtitle_Uw7xQkZ2Dpw.en.vtt\n",
      "[youtube] WYz0ESaJdhA: Downloading webpage\n",
      "[youtube] WYz0ESaJdhA: Downloading video info webpage\n",
      "[youtube] WYz0ESaJdhA: Looking for automatic captions\n",
      "[youtube] WYz0ESaJdhA: Downloading MPD manifest\n",
      "[youtube] WYz0ESaJdhA: Downloading MPD manifest\n",
      "[info] Writing video subtitles to: subtitle_WYz0ESaJdhA.en.vtt\n",
      "[youtube] dNEdRUCBdcc: Downloading webpage\n",
      "[youtube] dNEdRUCBdcc: Downloading video info webpage\n",
      "[youtube] dNEdRUCBdcc: Looking for automatic captions\n",
      "[info] Writing video subtitles to: subtitle_dNEdRUCBdcc.en.vtt\n",
      "[youtube] KHIAf3HiTuM: Downloading webpage\n",
      "[youtube] KHIAf3HiTuM: Downloading video info webpage\n",
      "[youtube] KHIAf3HiTuM: Looking for automatic captions\n"
     ]
    },
    {
     "name": "stderr",
     "output_type": "stream",
     "text": [
      "WARNING: Couldn't find automatic captions for KHIAf3HiTuM\n"
     ]
    },
    {
     "name": "stdout",
     "output_type": "stream",
     "text": [
      "No captions for KHIAf3HiTuM\n",
      "[youtube] TUUPRiA8CgE: Downloading webpage\n",
      "[youtube] TUUPRiA8CgE: Downloading video info webpage\n",
      "[youtube] TUUPRiA8CgE: Looking for automatic captions\n"
     ]
    },
    {
     "name": "stderr",
     "output_type": "stream",
     "text": [
      "WARNING: Couldn't find automatic captions for TUUPRiA8CgE\n"
     ]
    },
    {
     "name": "stdout",
     "output_type": "stream",
     "text": [
      "No captions for TUUPRiA8CgE\n",
      "[youtube] gqYHp67eHHM: Downloading webpage\n",
      "[youtube] gqYHp67eHHM: Downloading video info webpage\n",
      "[youtube] gqYHp67eHHM: Looking for automatic captions\n",
      "[youtube] gqYHp67eHHM: Downloading MPD manifest\n",
      "[youtube] gqYHp67eHHM: Downloading MPD manifest\n",
      "[info] Writing video subtitles to: subtitle_gqYHp67eHHM.en.vtt\n",
      "[youtube] _yFnbptGLUc: Downloading webpage\n",
      "[youtube] _yFnbptGLUc: Downloading video info webpage\n",
      "[youtube] _yFnbptGLUc: Looking for automatic captions\n",
      "[youtube] _yFnbptGLUc: Downloading MPD manifest\n",
      "[youtube] _yFnbptGLUc: Downloading MPD manifest\n",
      "[info] Writing video subtitles to: subtitle__yFnbptGLUc.en.vtt\n",
      "[youtube] reWe42laie8: Downloading webpage\n",
      "[youtube] reWe42laie8: Downloading video info webpage\n",
      "[youtube] reWe42laie8: Looking for automatic captions\n"
     ]
    },
    {
     "name": "stderr",
     "output_type": "stream",
     "text": [
      "WARNING: Couldn't find automatic captions for reWe42laie8\n"
     ]
    },
    {
     "name": "stdout",
     "output_type": "stream",
     "text": [
      "[youtube] reWe42laie8: Downloading MPD manifest\n",
      "[youtube] reWe42laie8: Downloading MPD manifest\n",
      "No captions for reWe42laie8\n",
      "[youtube] Mey9V0T7eHc: Downloading webpage\n",
      "[youtube] Mey9V0T7eHc: Downloading video info webpage\n",
      "[youtube] Mey9V0T7eHc: Looking for automatic captions\n"
     ]
    },
    {
     "name": "stderr",
     "output_type": "stream",
     "text": [
      "WARNING: Couldn't find automatic captions for Mey9V0T7eHc\n"
     ]
    },
    {
     "name": "stdout",
     "output_type": "stream",
     "text": [
      "No captions for Mey9V0T7eHc\n",
      "[youtube] Woqrg21z3tw: Downloading webpage\n",
      "[youtube] Woqrg21z3tw: Downloading video info webpage\n",
      "[youtube] Woqrg21z3tw: Looking for automatic captions\n",
      "[info] Writing video subtitles to: subtitle_Woqrg21z3tw.en.vtt\n",
      "[youtube] X0RBHSGmLbc: Downloading webpage\n",
      "[youtube] X0RBHSGmLbc: Downloading video info webpage\n",
      "[youtube] X0RBHSGmLbc: Looking for automatic captions\n",
      "[info] Writing video subtitles to: subtitle_X0RBHSGmLbc.en.vtt\n",
      "[youtube] -AA13judiAY: Downloading webpage\n",
      "[youtube] -AA13judiAY: Downloading video info webpage\n",
      "[youtube] -AA13judiAY: Looking for automatic captions\n",
      "[info] Writing video subtitles to: subtitle_-AA13judiAY.en.vtt\n",
      "[youtube] ywWtiV_Of2c: Downloading webpage\n",
      "[youtube] ywWtiV_Of2c: Downloading video info webpage\n",
      "[youtube] ywWtiV_Of2c: Looking for automatic captions\n",
      "[info] Writing video subtitles to: subtitle_ywWtiV_Of2c.en.vtt\n",
      "[youtube] tzzA9rZl17I: Downloading webpage\n",
      "[youtube] tzzA9rZl17I: Downloading video info webpage\n",
      "[youtube] tzzA9rZl17I: Looking for automatic captions\n",
      "[youtube] tzzA9rZl17I: Downloading MPD manifest\n",
      "[youtube] tzzA9rZl17I: Downloading MPD manifest\n",
      "[info] Writing video subtitles to: subtitle_tzzA9rZl17I.en.vtt\n",
      "[youtube] vIUtE6tYfCA: Downloading webpage\n",
      "[youtube] vIUtE6tYfCA: Downloading video info webpage\n",
      "[youtube] vIUtE6tYfCA: Looking for automatic captions\n",
      "[info] Writing video subtitles to: subtitle_vIUtE6tYfCA.en.vtt\n",
      "[youtube] mO0msYJNiqM: Downloading webpage\n",
      "[youtube] mO0msYJNiqM: Downloading video info webpage\n",
      "[youtube] mO0msYJNiqM: Looking for automatic captions\n",
      "[info] Writing video subtitles to: subtitle_mO0msYJNiqM.en.vtt\n",
      "[youtube] hVxLmkR_Wj4: Downloading webpage\n",
      "[youtube] hVxLmkR_Wj4: Downloading video info webpage\n",
      "[youtube] hVxLmkR_Wj4: Looking for automatic captions\n",
      "[info] Writing video subtitles to: subtitle_hVxLmkR_Wj4.en.vtt\n",
      "[youtube] dnN5BeVbVCM: Downloading webpage\n",
      "[youtube] dnN5BeVbVCM: Downloading video info webpage\n",
      "[youtube] dnN5BeVbVCM: Looking for automatic captions\n",
      "[info] Writing video subtitles to: subtitle_dnN5BeVbVCM.en.vtt\n",
      "[youtube] HZJAYJij1Ug: Downloading webpage\n",
      "[youtube] HZJAYJij1Ug: Downloading video info webpage\n",
      "[youtube] HZJAYJij1Ug: Looking for automatic captions\n",
      "[info] Writing video subtitles to: subtitle_HZJAYJij1Ug.en.vtt\n",
      "[youtube] RaDzn7LbvoM: Downloading webpage\n",
      "[youtube] RaDzn7LbvoM: Downloading video info webpage\n",
      "[youtube] RaDzn7LbvoM: Looking for automatic captions\n"
     ]
    },
    {
     "name": "stderr",
     "output_type": "stream",
     "text": [
      "WARNING: Couldn't find automatic captions for RaDzn7LbvoM\n"
     ]
    },
    {
     "name": "stdout",
     "output_type": "stream",
     "text": [
      "No captions for RaDzn7LbvoM\n",
      "[youtube] o92ypDmgzq8: Downloading webpage\n",
      "[youtube] o92ypDmgzq8: Downloading video info webpage\n",
      "[youtube] o92ypDmgzq8: Looking for automatic captions\n",
      "[info] Writing video subtitles to: subtitle_o92ypDmgzq8.en.vtt\n",
      "[youtube] iDdIXz9jm_o: Downloading webpage\n",
      "[youtube] iDdIXz9jm_o: Downloading video info webpage\n",
      "[youtube] iDdIXz9jm_o: Looking for automatic captions\n",
      "[info] Writing video subtitles to: subtitle_iDdIXz9jm_o.en.vtt\n",
      "[youtube] hdjigE9Aypo: Downloading webpage\n",
      "[youtube] hdjigE9Aypo: Downloading video info webpage\n",
      "[youtube] hdjigE9Aypo: Looking for automatic captions\n"
     ]
    },
    {
     "name": "stderr",
     "output_type": "stream",
     "text": [
      "WARNING: Couldn't find automatic captions for hdjigE9Aypo\n"
     ]
    },
    {
     "name": "stdout",
     "output_type": "stream",
     "text": [
      "No captions for hdjigE9Aypo\n",
      "[youtube] AhwVE58d-zg: Downloading webpage\n",
      "[youtube] AhwVE58d-zg: Downloading video info webpage\n",
      "[youtube] AhwVE58d-zg: Looking for automatic captions\n",
      "[info] Writing video subtitles to: subtitle_AhwVE58d-zg.en.vtt\n",
      "[youtube] 7mdQ9emD2ok: Downloading webpage\n",
      "[youtube] 7mdQ9emD2ok: Downloading video info webpage\n",
      "[youtube] 7mdQ9emD2ok: Looking for automatic captions\n",
      "[info] Writing video subtitles to: subtitle_7mdQ9emD2ok.en.vtt\n",
      "[youtube] sHIgoCsoON0: Downloading webpage\n",
      "[youtube] sHIgoCsoON0: Downloading video info webpage\n",
      "[youtube] sHIgoCsoON0: Looking for automatic captions\n"
     ]
    },
    {
     "name": "stderr",
     "output_type": "stream",
     "text": [
      "WARNING: Couldn't find automatic captions for sHIgoCsoON0\n"
     ]
    },
    {
     "name": "stdout",
     "output_type": "stream",
     "text": [
      "No captions for sHIgoCsoON0\n",
      "[youtube] Aw-_ZxBeZBs: Downloading webpage\n",
      "[youtube] Aw-_ZxBeZBs: Downloading video info webpage\n",
      "[youtube] Aw-_ZxBeZBs: Looking for automatic captions\n",
      "[info] Writing video subtitles to: subtitle_Aw-_ZxBeZBs.en.vtt\n",
      "[youtube] 1P-SDP9j86Y: Downloading webpage\n",
      "[youtube] 1P-SDP9j86Y: Downloading video info webpage\n",
      "[youtube] 1P-SDP9j86Y: Looking for automatic captions\n",
      "[info] Writing video subtitles to: subtitle_1P-SDP9j86Y.en.vtt\n",
      "[youtube] evwBxJewlVI: Downloading webpage\n",
      "[youtube] evwBxJewlVI: Downloading video info webpage\n",
      "[youtube] evwBxJewlVI: Looking for automatic captions\n"
     ]
    },
    {
     "name": "stderr",
     "output_type": "stream",
     "text": [
      "WARNING: Couldn't find automatic captions for evwBxJewlVI\n"
     ]
    },
    {
     "name": "stdout",
     "output_type": "stream",
     "text": [
      "No captions for evwBxJewlVI\n",
      "[youtube] 6vhccXO3Vjw: Downloading webpage\n",
      "[youtube] 6vhccXO3Vjw: Downloading video info webpage\n",
      "[youtube] 6vhccXO3Vjw: Looking for automatic captions\n",
      "[info] Writing video subtitles to: subtitle_6vhccXO3Vjw.en.vtt\n",
      "[youtube] adwi-DgcMqY: Downloading webpage\n",
      "[youtube] adwi-DgcMqY: Downloading video info webpage\n",
      "[youtube] adwi-DgcMqY: Looking for automatic captions\n",
      "[info] Writing video subtitles to: subtitle_adwi-DgcMqY.en.vtt\n",
      "[youtube] lWMqqeSc2ok: Downloading webpage\n",
      "[youtube] lWMqqeSc2ok: Downloading video info webpage\n",
      "[youtube] lWMqqeSc2ok: Looking for automatic captions\n",
      "[info] Writing video subtitles to: subtitle_lWMqqeSc2ok.en.vtt\n",
      "[youtube] Nb-s-Hm41Z4: Downloading webpage\n",
      "[youtube] Nb-s-Hm41Z4: Downloading video info webpage\n",
      "[youtube] Nb-s-Hm41Z4: Looking for automatic captions\n",
      "[info] Writing video subtitles to: subtitle_Nb-s-Hm41Z4.en.vtt\n",
      "[youtube] qEpQx41r_Ts: Downloading webpage\n",
      "[youtube] qEpQx41r_Ts: Downloading video info webpage\n",
      "[youtube] qEpQx41r_Ts: Looking for automatic captions\n",
      "[info] Writing video subtitles to: subtitle_qEpQx41r_Ts.en.vtt\n",
      "[youtube] LWQu4KT6-QI: Downloading webpage\n",
      "[youtube] LWQu4KT6-QI: Downloading video info webpage\n",
      "[youtube] LWQu4KT6-QI: Looking for automatic captions\n",
      "[info] Writing video subtitles to: subtitle_LWQu4KT6-QI.en.vtt\n",
      "[youtube] 42XxVfFVY8Y: Downloading webpage\n",
      "[youtube] 42XxVfFVY8Y: Downloading video info webpage\n",
      "[youtube] 42XxVfFVY8Y: Looking for automatic captions\n"
     ]
    },
    {
     "name": "stderr",
     "output_type": "stream",
     "text": [
      "WARNING: Couldn't find automatic captions for 42XxVfFVY8Y\n"
     ]
    },
    {
     "name": "stdout",
     "output_type": "stream",
     "text": [
      "No captions for 42XxVfFVY8Y\n",
      "[youtube] c9SrkgBuTnY: Downloading webpage\n",
      "[youtube] c9SrkgBuTnY: Downloading video info webpage\n",
      "[youtube] c9SrkgBuTnY: Looking for automatic captions\n",
      "[info] Writing video subtitles to: subtitle_c9SrkgBuTnY.en.vtt\n",
      "[youtube] N0YBu4zOCMo: Downloading webpage\n",
      "[youtube] N0YBu4zOCMo: Downloading video info webpage\n",
      "[youtube] N0YBu4zOCMo: Looking for automatic captions\n"
     ]
    },
    {
     "name": "stderr",
     "output_type": "stream",
     "text": [
      "WARNING: Couldn't find automatic captions for N0YBu4zOCMo\n"
     ]
    },
    {
     "name": "stdout",
     "output_type": "stream",
     "text": [
      "No captions for N0YBu4zOCMo\n",
      "[youtube] 2vg0SqjcKxg: Downloading webpage\n",
      "[youtube] 2vg0SqjcKxg: Downloading video info webpage\n",
      "[youtube] 2vg0SqjcKxg: Looking for automatic captions\n"
     ]
    },
    {
     "name": "stderr",
     "output_type": "stream",
     "text": [
      "WARNING: Couldn't find automatic captions for 2vg0SqjcKxg\n"
     ]
    },
    {
     "name": "stdout",
     "output_type": "stream",
     "text": [
      "[youtube] 2vg0SqjcKxg: Downloading MPD manifest\n",
      "[youtube] 2vg0SqjcKxg: Downloading MPD manifest\n",
      "No captions for 2vg0SqjcKxg\n",
      "[youtube] vFBF5hkazxs: Downloading webpage\n",
      "[youtube] vFBF5hkazxs: Downloading video info webpage\n",
      "[youtube] vFBF5hkazxs: Looking for automatic captions\n",
      "[info] Writing video subtitles to: subtitle_vFBF5hkazxs.en.vtt\n",
      "[youtube] 83IAr9RTqX8: Downloading webpage\n",
      "[youtube] 83IAr9RTqX8: Downloading video info webpage\n",
      "[youtube] 83IAr9RTqX8: Looking for automatic captions\n",
      "[info] Writing video subtitles to: subtitle_83IAr9RTqX8.en.vtt\n",
      "[youtube] vUaMw-FIMro: Downloading webpage\n",
      "[youtube] vUaMw-FIMro: Downloading video info webpage\n",
      "[youtube] vUaMw-FIMro: Looking for automatic captions\n",
      "[youtube] vUaMw-FIMro: Downloading MPD manifest\n",
      "[youtube] vUaMw-FIMro: Downloading MPD manifest\n",
      "[info] Writing video subtitles to: subtitle_vUaMw-FIMro.en.vtt\n",
      "[youtube] zFQMNxd6IJs: Downloading webpage\n",
      "[youtube] zFQMNxd6IJs: Downloading video info webpage\n",
      "[youtube] zFQMNxd6IJs: Looking for automatic captions\n",
      "[info] Writing video subtitles to: subtitle_zFQMNxd6IJs.en.vtt\n",
      "[youtube] -aB1uUmB1ss: Downloading webpage\n",
      "[youtube] -aB1uUmB1ss: Downloading video info webpage\n",
      "[youtube] -aB1uUmB1ss: Looking for automatic captions\n",
      "[info] Writing video subtitles to: subtitle_-aB1uUmB1ss.en.vtt\n",
      "[youtube] TnuQRx86fDo: Downloading webpage\n",
      "[youtube] TnuQRx86fDo: Downloading video info webpage\n",
      "[youtube] TnuQRx86fDo: Looking for automatic captions\n",
      "[youtube] TnuQRx86fDo: Downloading MPD manifest\n",
      "[youtube] TnuQRx86fDo: Downloading MPD manifest\n",
      "[info] Writing video subtitles to: subtitle_TnuQRx86fDo.en.vtt\n",
      "[youtube] zng_iQC0H9g: Downloading webpage\n",
      "[youtube] zng_iQC0H9g: Downloading video info webpage\n",
      "[youtube] zng_iQC0H9g: Looking for automatic captions\n",
      "[info] Writing video subtitles to: subtitle_zng_iQC0H9g.en.vtt\n",
      "[youtube] UOP5O1JUq5o: Downloading webpage\n",
      "[youtube] UOP5O1JUq5o: Downloading video info webpage\n",
      "[youtube] UOP5O1JUq5o: Looking for automatic captions\n",
      "[info] Writing video subtitles to: subtitle_UOP5O1JUq5o.en.vtt\n",
      "[youtube] 0MjE0KpyqoQ: Downloading webpage\n",
      "[youtube] 0MjE0KpyqoQ: Downloading video info webpage\n",
      "[youtube] 0MjE0KpyqoQ: Looking for automatic captions\n"
     ]
    },
    {
     "name": "stderr",
     "output_type": "stream",
     "text": [
      "WARNING: Couldn't find automatic captions for 0MjE0KpyqoQ\n"
     ]
    },
    {
     "name": "stdout",
     "output_type": "stream",
     "text": [
      "No captions for 0MjE0KpyqoQ\n",
      "[youtube] QNeCUV6mrXw: Downloading webpage\n",
      "[youtube] QNeCUV6mrXw: Downloading video info webpage\n",
      "[youtube] QNeCUV6mrXw: Looking for automatic captions\n"
     ]
    },
    {
     "name": "stderr",
     "output_type": "stream",
     "text": [
      "WARNING: Couldn't find automatic captions for QNeCUV6mrXw\n"
     ]
    },
    {
     "name": "stdout",
     "output_type": "stream",
     "text": [
      "No captions for QNeCUV6mrXw\n",
      "[youtube] IKSnULQmvfI: Downloading webpage\n",
      "[youtube] IKSnULQmvfI: Downloading video info webpage\n",
      "[youtube] IKSnULQmvfI: Looking for automatic captions\n",
      "[info] Writing video subtitles to: subtitle_IKSnULQmvfI.en.vtt\n",
      "[youtube] WApUjkKsFNo: Downloading webpage\n",
      "[youtube] WApUjkKsFNo: Downloading video info webpage\n",
      "[youtube] WApUjkKsFNo: Looking for automatic captions\n",
      "[info] Writing video subtitles to: subtitle_WApUjkKsFNo.en.vtt\n",
      "[youtube] 1drrneXLI1w: Downloading webpage\n",
      "[youtube] 1drrneXLI1w: Downloading video info webpage\n",
      "[youtube] 1drrneXLI1w: Looking for automatic captions\n",
      "[info] Writing video subtitles to: subtitle_1drrneXLI1w.en.vtt\n",
      "[youtube] Hwnh3r00wQA: Downloading webpage\n",
      "[youtube] Hwnh3r00wQA: Downloading video info webpage\n",
      "[youtube] Hwnh3r00wQA: Looking for automatic captions\n"
     ]
    },
    {
     "name": "stderr",
     "output_type": "stream",
     "text": [
      "WARNING: Couldn't find automatic captions for Hwnh3r00wQA\n"
     ]
    },
    {
     "name": "stdout",
     "output_type": "stream",
     "text": [
      "[youtube] Hwnh3r00wQA: Downloading MPD manifest\n",
      "[youtube] Hwnh3r00wQA: Downloading MPD manifest\n",
      "No captions for Hwnh3r00wQA\n",
      "[youtube] 9mSTtsFCs2I: Downloading webpage\n",
      "[youtube] 9mSTtsFCs2I: Downloading video info webpage\n",
      "[youtube] 9mSTtsFCs2I: Looking for automatic captions\n",
      "[info] Writing video subtitles to: subtitle_9mSTtsFCs2I.en.vtt\n",
      "[youtube] xV-AwEjx9hY: Downloading webpage\n",
      "[youtube] xV-AwEjx9hY: Downloading video info webpage\n",
      "[youtube] xV-AwEjx9hY: Looking for automatic captions\n"
     ]
    },
    {
     "name": "stderr",
     "output_type": "stream",
     "text": [
      "WARNING: Couldn't find automatic captions for xV-AwEjx9hY\n"
     ]
    },
    {
     "name": "stdout",
     "output_type": "stream",
     "text": [
      "No captions for xV-AwEjx9hY\n",
      "[youtube] Cx6MAbJKY7U: Downloading webpage\n",
      "[youtube] Cx6MAbJKY7U: Downloading video info webpage\n",
      "[youtube] Cx6MAbJKY7U: Looking for automatic captions\n",
      "[info] Writing video subtitles to: subtitle_Cx6MAbJKY7U.en.vtt\n",
      "[youtube] 9srx4fM_egk: Downloading webpage\n",
      "[youtube] 9srx4fM_egk: Downloading video info webpage\n",
      "[youtube] 9srx4fM_egk: Looking for automatic captions\n",
      "[info] Writing video subtitles to: subtitle_9srx4fM_egk.en.vtt\n",
      "[youtube] 5Vsn-wqc1M4: Downloading webpage\n",
      "[youtube] 5Vsn-wqc1M4: Downloading video info webpage\n",
      "[youtube] 5Vsn-wqc1M4: Looking for automatic captions\n",
      "[youtube] 5Vsn-wqc1M4: Downloading MPD manifest\n",
      "[youtube] 5Vsn-wqc1M4: Downloading MPD manifest\n",
      "[info] Writing video subtitles to: subtitle_5Vsn-wqc1M4.en.vtt\n",
      "[youtube] 1NosjaWzUq4: Downloading webpage\n",
      "[youtube] 1NosjaWzUq4: Downloading video info webpage\n",
      "[youtube] 1NosjaWzUq4: Looking for automatic captions\n",
      "[info] Writing video subtitles to: subtitle_1NosjaWzUq4.en.vtt\n",
      "[youtube] AMwt9K1xEF8: Downloading webpage\n",
      "[youtube] AMwt9K1xEF8: Downloading video info webpage\n",
      "[youtube] AMwt9K1xEF8: Looking for automatic captions\n",
      "[info] Writing video subtitles to: subtitle_AMwt9K1xEF8.en.vtt\n",
      "[youtube] b-AtweXatUM: Downloading webpage\n",
      "[youtube] b-AtweXatUM: Downloading video info webpage\n",
      "[youtube] b-AtweXatUM: Looking for automatic captions\n"
     ]
    },
    {
     "name": "stderr",
     "output_type": "stream",
     "text": [
      "WARNING: Couldn't find automatic captions for b-AtweXatUM\n"
     ]
    },
    {
     "name": "stdout",
     "output_type": "stream",
     "text": [
      "No captions for b-AtweXatUM\n",
      "[youtube] 408ikt2vBSY: Downloading webpage\n",
      "[youtube] 408ikt2vBSY: Downloading video info webpage\n",
      "[youtube] 408ikt2vBSY: Looking for automatic captions\n"
     ]
    },
    {
     "name": "stderr",
     "output_type": "stream",
     "text": [
      "WARNING: Couldn't find automatic captions for 408ikt2vBSY\n"
     ]
    },
    {
     "name": "stdout",
     "output_type": "stream",
     "text": [
      "No captions for 408ikt2vBSY\n",
      "[youtube] UOLDmuTgVYI: Downloading webpage\n",
      "[youtube] UOLDmuTgVYI: Downloading video info webpage\n",
      "[youtube] UOLDmuTgVYI: Looking for automatic captions\n",
      "[info] Writing video subtitles to: subtitle_UOLDmuTgVYI.en.vtt\n",
      "[youtube] kXy3FymoKEw: Downloading webpage\n",
      "[youtube] kXy3FymoKEw: Downloading video info webpage\n",
      "[youtube] kXy3FymoKEw: Looking for automatic captions\n",
      "[youtube] kXy3FymoKEw: Downloading MPD manifest\n",
      "[youtube] kXy3FymoKEw: Downloading MPD manifest\n",
      "[info] Writing video subtitles to: subtitle_kXy3FymoKEw.en.vtt\n",
      "[youtube] Fp3Zr2t2krQ: Downloading webpage\n",
      "[youtube] Fp3Zr2t2krQ: Downloading video info webpage\n",
      "[youtube] Fp3Zr2t2krQ: Looking for automatic captions\n"
     ]
    },
    {
     "name": "stderr",
     "output_type": "stream",
     "text": [
      "WARNING: Couldn't find automatic captions for Fp3Zr2t2krQ\n"
     ]
    },
    {
     "name": "stdout",
     "output_type": "stream",
     "text": [
      "[youtube] Fp3Zr2t2krQ: Downloading MPD manifest\n",
      "[youtube] Fp3Zr2t2krQ: Downloading MPD manifest\n",
      "No captions for Fp3Zr2t2krQ\n",
      "[youtube] Avlv3aQ4Y6Q: Downloading webpage\n",
      "[youtube] Avlv3aQ4Y6Q: Downloading video info webpage\n",
      "[youtube] Avlv3aQ4Y6Q: Looking for automatic captions\n",
      "[info] Writing video subtitles to: subtitle_Avlv3aQ4Y6Q.en.vtt\n",
      "[youtube] 80ftC-MymR4: Downloading webpage\n",
      "[youtube] 80ftC-MymR4: Downloading video info webpage\n",
      "[youtube] 80ftC-MymR4: Looking for automatic captions\n",
      "[youtube] 80ftC-MymR4: Downloading MPD manifest\n",
      "[youtube] 80ftC-MymR4: Downloading MPD manifest\n",
      "[info] Writing video subtitles to: subtitle_80ftC-MymR4.en.vtt\n",
      "[youtube] uipSX1eH72Y: Downloading webpage\n",
      "[youtube] uipSX1eH72Y: Downloading video info webpage\n",
      "[youtube] uipSX1eH72Y: Looking for automatic captions\n",
      "[info] Writing video subtitles to: subtitle_uipSX1eH72Y.en.vtt\n",
      "[youtube] BWU4oKIWhUg: Downloading webpage\n",
      "[youtube] BWU4oKIWhUg: Downloading video info webpage\n",
      "[youtube] BWU4oKIWhUg: Looking for automatic captions\n",
      "[info] Writing video subtitles to: subtitle_BWU4oKIWhUg.en.vtt\n",
      "[youtube] PVm-mudbnVU: Downloading webpage\n",
      "[youtube] PVm-mudbnVU: Downloading video info webpage\n",
      "[youtube] PVm-mudbnVU: Looking for automatic captions\n",
      "[info] Writing video subtitles to: subtitle_PVm-mudbnVU.en.vtt\n",
      "[youtube] BnD7U86nc6U: Downloading webpage\n",
      "[youtube] BnD7U86nc6U: Downloading video info webpage\n",
      "[youtube] BnD7U86nc6U: Looking for automatic captions\n",
      "[info] Writing video subtitles to: subtitle_BnD7U86nc6U.en.vtt\n",
      "[youtube] cA1sc8AvQm8: Downloading webpage\n",
      "[youtube] cA1sc8AvQm8: Downloading video info webpage\n",
      "[youtube] cA1sc8AvQm8: Looking for automatic captions\n",
      "[youtube] cA1sc8AvQm8: Downloading MPD manifest\n",
      "[youtube] cA1sc8AvQm8: Downloading MPD manifest\n",
      "[info] Writing video subtitles to: subtitle_cA1sc8AvQm8.en.vtt\n",
      "[youtube] B2MERMq4fvw: Downloading webpage\n",
      "[youtube] B2MERMq4fvw: Downloading video info webpage\n",
      "[youtube] B2MERMq4fvw: Looking for automatic captions\n",
      "[info] Writing video subtitles to: subtitle_B2MERMq4fvw.en.vtt\n",
      "[youtube] 5KXr2octVew: Downloading webpage\n",
      "[youtube] 5KXr2octVew: Downloading video info webpage\n",
      "[youtube] 5KXr2octVew: Looking for automatic captions\n",
      "[info] Writing video subtitles to: subtitle_5KXr2octVew.en.vtt\n",
      "[youtube] 3B-NSCwCz7Q: Downloading webpage\n",
      "[youtube] 3B-NSCwCz7Q: Downloading video info webpage\n",
      "[youtube] 3B-NSCwCz7Q: Looking for automatic captions\n",
      "[info] Writing video subtitles to: subtitle_3B-NSCwCz7Q.en.vtt\n",
      "[youtube] KuzlVusw_KE: Downloading webpage\n",
      "[youtube] KuzlVusw_KE: Downloading video info webpage\n",
      "[youtube] KuzlVusw_KE: Looking for automatic captions\n"
     ]
    },
    {
     "name": "stderr",
     "output_type": "stream",
     "text": [
      "WARNING: Couldn't find automatic captions for KuzlVusw_KE\n"
     ]
    },
    {
     "name": "stdout",
     "output_type": "stream",
     "text": [
      "No captions for KuzlVusw_KE\n",
      "[youtube] ubU8k-GUm_4: Downloading webpage\n",
      "[youtube] ubU8k-GUm_4: Downloading video info webpage\n",
      "[youtube] ubU8k-GUm_4: Looking for automatic captions\n",
      "[info] Writing video subtitles to: subtitle_ubU8k-GUm_4.en.vtt\n",
      "[youtube] QpeKCeadGyE: Downloading webpage\n",
      "[youtube] QpeKCeadGyE: Downloading video info webpage\n",
      "[youtube] QpeKCeadGyE: Looking for automatic captions\n"
     ]
    },
    {
     "name": "stderr",
     "output_type": "stream",
     "text": [
      "WARNING: Couldn't find automatic captions for QpeKCeadGyE\n"
     ]
    },
    {
     "name": "stdout",
     "output_type": "stream",
     "text": [
      "No captions for QpeKCeadGyE\n",
      "[youtube] 6PWIqplbUrY: Downloading webpage\n",
      "[youtube] 6PWIqplbUrY: Downloading video info webpage\n",
      "[youtube] 6PWIqplbUrY: Looking for automatic captions\n",
      "[info] Writing video subtitles to: subtitle_6PWIqplbUrY.en.vtt\n",
      "[youtube] mS8veMxZD8k: Downloading webpage\n",
      "[youtube] mS8veMxZD8k: Downloading video info webpage\n",
      "[youtube] mS8veMxZD8k: Looking for automatic captions\n",
      "[info] Writing video subtitles to: subtitle_mS8veMxZD8k.en.vtt\n",
      "[youtube] pMZox7DOnIA: Downloading webpage\n",
      "[youtube] pMZox7DOnIA: Downloading video info webpage\n",
      "[youtube] pMZox7DOnIA: Looking for automatic captions\n",
      "[info] Writing video subtitles to: subtitle_pMZox7DOnIA.en.vtt\n",
      "[youtube] 2ACzpTPV_4c: Downloading webpage\n",
      "[youtube] 2ACzpTPV_4c: Downloading video info webpage\n",
      "[youtube] 2ACzpTPV_4c: Looking for automatic captions\n",
      "[info] Writing video subtitles to: subtitle_2ACzpTPV_4c.en.vtt\n",
      "[youtube] xPOsJi0J8uw: Downloading webpage\n",
      "[youtube] xPOsJi0J8uw: Downloading video info webpage\n",
      "[youtube] xPOsJi0J8uw: Looking for automatic captions\n"
     ]
    },
    {
     "name": "stderr",
     "output_type": "stream",
     "text": [
      "WARNING: Couldn't find automatic captions for xPOsJi0J8uw\n"
     ]
    },
    {
     "name": "stdout",
     "output_type": "stream",
     "text": [
      "No captions for xPOsJi0J8uw\n",
      "[youtube] gZ19M9NeekY: Downloading webpage\n",
      "[youtube] gZ19M9NeekY: Downloading video info webpage\n",
      "[youtube] gZ19M9NeekY: Looking for automatic captions\n",
      "[info] Writing video subtitles to: subtitle_gZ19M9NeekY.en.vtt\n",
      "[youtube] GOPJpL9k7-w: Downloading webpage\n",
      "[youtube] GOPJpL9k7-w: Downloading video info webpage\n",
      "[youtube] GOPJpL9k7-w: Looking for automatic captions\n"
     ]
    },
    {
     "name": "stderr",
     "output_type": "stream",
     "text": [
      "WARNING: Couldn't find automatic captions for GOPJpL9k7-w\n"
     ]
    },
    {
     "name": "stdout",
     "output_type": "stream",
     "text": [
      "No captions for GOPJpL9k7-w\n",
      "[youtube] dJfQ8DmCmmQ: Downloading webpage\n",
      "[youtube] dJfQ8DmCmmQ: Downloading video info webpage\n",
      "[youtube] dJfQ8DmCmmQ: Looking for automatic captions\n"
     ]
    },
    {
     "name": "stderr",
     "output_type": "stream",
     "text": [
      "WARNING: Couldn't find automatic captions for dJfQ8DmCmmQ\n"
     ]
    },
    {
     "name": "stdout",
     "output_type": "stream",
     "text": [
      "No captions for dJfQ8DmCmmQ\n",
      "[youtube] nHM0sPZFkXQ: Downloading webpage\n",
      "[youtube] nHM0sPZFkXQ: Downloading video info webpage\n",
      "[youtube] nHM0sPZFkXQ: Looking for automatic captions\n",
      "[info] Writing video subtitles to: subtitle_nHM0sPZFkXQ.en.vtt\n",
      "[youtube] LjKaj_v44OI: Downloading webpage\n",
      "[youtube] LjKaj_v44OI: Downloading video info webpage\n",
      "[youtube] LjKaj_v44OI: Looking for automatic captions\n"
     ]
    },
    {
     "name": "stderr",
     "output_type": "stream",
     "text": [
      "WARNING: Couldn't find automatic captions for LjKaj_v44OI\n"
     ]
    },
    {
     "name": "stdout",
     "output_type": "stream",
     "text": [
      "No captions for LjKaj_v44OI\n",
      "[youtube] OTYbWmcwOWI: Downloading webpage\n",
      "[youtube] OTYbWmcwOWI: Downloading video info webpage\n",
      "[youtube] OTYbWmcwOWI: Looking for automatic captions\n"
     ]
    },
    {
     "name": "stderr",
     "output_type": "stream",
     "text": [
      "WARNING: Couldn't find automatic captions for OTYbWmcwOWI\n"
     ]
    },
    {
     "name": "stdout",
     "output_type": "stream",
     "text": [
      "[youtube] OTYbWmcwOWI: Downloading MPD manifest\n",
      "[youtube] OTYbWmcwOWI: Downloading MPD manifest\n",
      "No captions for OTYbWmcwOWI\n",
      "[youtube] w2Bk_QKloRg: Downloading webpage\n",
      "[youtube] w2Bk_QKloRg: Downloading video info webpage\n",
      "[youtube] w2Bk_QKloRg: Looking for automatic captions\n",
      "[info] Writing video subtitles to: subtitle_w2Bk_QKloRg.en.vtt\n",
      "[youtube] aiMm1YjqNcA: Downloading webpage\n",
      "[youtube] aiMm1YjqNcA: Downloading video info webpage\n",
      "[youtube] aiMm1YjqNcA: Looking for automatic captions\n"
     ]
    },
    {
     "name": "stderr",
     "output_type": "stream",
     "text": [
      "WARNING: Couldn't find automatic captions for aiMm1YjqNcA\n"
     ]
    },
    {
     "name": "stdout",
     "output_type": "stream",
     "text": [
      "No captions for aiMm1YjqNcA\n",
      "[youtube] pRZvFuX1Cuo: Downloading webpage\n",
      "[youtube] pRZvFuX1Cuo: Downloading video info webpage\n",
      "[youtube] pRZvFuX1Cuo: Looking for automatic captions\n",
      "[info] Writing video subtitles to: subtitle_pRZvFuX1Cuo.en.vtt\n",
      "[youtube] OH1MXRn5xls: Downloading webpage\n",
      "[youtube] OH1MXRn5xls: Downloading video info webpage\n",
      "[youtube] OH1MXRn5xls: Looking for automatic captions\n",
      "[info] Writing video subtitles to: subtitle_OH1MXRn5xls.en.vtt\n",
      "[youtube] 09kkkyMIOQE: Downloading webpage\n",
      "[youtube] 09kkkyMIOQE: Downloading video info webpage\n",
      "[youtube] 09kkkyMIOQE: Looking for automatic captions\n"
     ]
    },
    {
     "name": "stderr",
     "output_type": "stream",
     "text": [
      "WARNING: Couldn't find automatic captions for 09kkkyMIOQE\n"
     ]
    },
    {
     "name": "stdout",
     "output_type": "stream",
     "text": [
      "No captions for 09kkkyMIOQE\n",
      "[youtube] dJ8IN6FBUuc: Downloading webpage\n",
      "[youtube] dJ8IN6FBUuc: Downloading video info webpage\n",
      "[youtube] dJ8IN6FBUuc: Looking for automatic captions\n",
      "[info] Writing video subtitles to: subtitle_dJ8IN6FBUuc.en.vtt\n",
      "[youtube] 7qfnWntzLm0: Downloading webpage\n",
      "[youtube] 7qfnWntzLm0: Downloading video info webpage\n",
      "[youtube] 7qfnWntzLm0: Looking for automatic captions\n",
      "[info] Writing video subtitles to: subtitle_7qfnWntzLm0.en.vtt\n",
      "[youtube] TT3UtpVixN4: Downloading webpage\n",
      "[youtube] TT3UtpVixN4: Downloading video info webpage\n",
      "[youtube] TT3UtpVixN4: Looking for automatic captions\n"
     ]
    },
    {
     "name": "stderr",
     "output_type": "stream",
     "text": [
      "WARNING: Couldn't find automatic captions for TT3UtpVixN4\n"
     ]
    },
    {
     "name": "stdout",
     "output_type": "stream",
     "text": [
      "No captions for TT3UtpVixN4\n",
      "[youtube] Uzq36aorprM: Downloading webpage\n",
      "[youtube] Uzq36aorprM: Downloading video info webpage\n",
      "[youtube] Uzq36aorprM: Looking for automatic captions\n",
      "[info] Writing video subtitles to: subtitle_Uzq36aorprM.en.vtt\n",
      "[youtube] jRihH9V51-I: Downloading webpage\n",
      "[youtube] jRihH9V51-I: Downloading video info webpage\n",
      "[youtube] jRihH9V51-I: Looking for automatic captions\n"
     ]
    },
    {
     "name": "stderr",
     "output_type": "stream",
     "text": [
      "WARNING: Couldn't find automatic captions for jRihH9V51-I\n"
     ]
    },
    {
     "name": "stdout",
     "output_type": "stream",
     "text": [
      "No captions for jRihH9V51-I\n",
      "[youtube] qPMu8MuoU-c: Downloading webpage\n",
      "[youtube] qPMu8MuoU-c: Downloading video info webpage\n",
      "[youtube] qPMu8MuoU-c: Looking for automatic captions\n",
      "[info] Writing video subtitles to: subtitle_qPMu8MuoU-c.en.vtt\n",
      "[youtube] CRAuXtTugl0: Downloading webpage\n",
      "[youtube] CRAuXtTugl0: Downloading video info webpage\n",
      "[youtube] CRAuXtTugl0: Looking for automatic captions\n"
     ]
    },
    {
     "name": "stderr",
     "output_type": "stream",
     "text": [
      "WARNING: Couldn't find automatic captions for CRAuXtTugl0\n"
     ]
    },
    {
     "name": "stdout",
     "output_type": "stream",
     "text": [
      "No captions for CRAuXtTugl0\n",
      "[youtube] kzCuSsQpiYE: Downloading webpage\n",
      "[youtube] kzCuSsQpiYE: Downloading video info webpage\n",
      "[youtube] kzCuSsQpiYE: Looking for automatic captions\n",
      "[info] Writing video subtitles to: subtitle_kzCuSsQpiYE.en.vtt\n",
      "[youtube] opfSEfXsTlU: Downloading webpage\n",
      "[youtube] opfSEfXsTlU: Downloading video info webpage\n",
      "[youtube] opfSEfXsTlU: Looking for automatic captions\n"
     ]
    },
    {
     "name": "stderr",
     "output_type": "stream",
     "text": [
      "WARNING: Couldn't find automatic captions for opfSEfXsTlU\n"
     ]
    },
    {
     "name": "stdout",
     "output_type": "stream",
     "text": [
      "No captions for opfSEfXsTlU\n",
      "[youtube] fFYQZr4aOiQ: Downloading webpage\n",
      "[youtube] fFYQZr4aOiQ: Downloading video info webpage\n",
      "[youtube] fFYQZr4aOiQ: Looking for automatic captions\n",
      "[info] Writing video subtitles to: subtitle_fFYQZr4aOiQ.en.vtt\n",
      "[youtube] RU4zwHgjUFw: Downloading webpage\n",
      "[youtube] RU4zwHgjUFw: Downloading video info webpage\n",
      "[youtube] RU4zwHgjUFw: Looking for automatic captions\n"
     ]
    },
    {
     "name": "stderr",
     "output_type": "stream",
     "text": [
      "WARNING: Couldn't find automatic captions for RU4zwHgjUFw\n"
     ]
    },
    {
     "name": "stdout",
     "output_type": "stream",
     "text": [
      "[youtube] RU4zwHgjUFw: Downloading MPD manifest\n",
      "[youtube] RU4zwHgjUFw: Downloading MPD manifest\n",
      "No captions for RU4zwHgjUFw\n",
      "[youtube] oi8ysBTU5N8: Downloading webpage\n",
      "[youtube] oi8ysBTU5N8: Downloading video info webpage\n",
      "[youtube] oi8ysBTU5N8: Looking for automatic captions\n"
     ]
    },
    {
     "name": "stderr",
     "output_type": "stream",
     "text": [
      "WARNING: Couldn't find automatic captions for oi8ysBTU5N8\n"
     ]
    },
    {
     "name": "stdout",
     "output_type": "stream",
     "text": [
      "No captions for oi8ysBTU5N8\n",
      "[youtube] AzLIR5HbhVg: Downloading webpage\n",
      "[youtube] AzLIR5HbhVg: Downloading video info webpage\n",
      "[youtube] AzLIR5HbhVg: Looking for automatic captions\n"
     ]
    },
    {
     "name": "stderr",
     "output_type": "stream",
     "text": [
      "WARNING: Couldn't find automatic captions for AzLIR5HbhVg\n"
     ]
    },
    {
     "name": "stdout",
     "output_type": "stream",
     "text": [
      "No captions for AzLIR5HbhVg\n",
      "[youtube] zO2EU3W68vE: Downloading webpage\n",
      "[youtube] zO2EU3W68vE: Downloading video info webpage\n",
      "[youtube] zO2EU3W68vE: Looking for automatic captions\n",
      "[info] Writing video subtitles to: subtitle_zO2EU3W68vE.en.vtt\n",
      "[youtube] RyKU7exgr1Y: Downloading webpage\n",
      "[youtube] RyKU7exgr1Y: Downloading video info webpage\n",
      "[youtube] RyKU7exgr1Y: Looking for automatic captions\n",
      "[info] Writing video subtitles to: subtitle_RyKU7exgr1Y.en.vtt\n",
      "[youtube] 7r2xHI5KYrk: Downloading webpage\n",
      "[youtube] 7r2xHI5KYrk: Downloading video info webpage\n",
      "[youtube] 7r2xHI5KYrk: Looking for automatic captions\n"
     ]
    },
    {
     "name": "stderr",
     "output_type": "stream",
     "text": [
      "WARNING: Couldn't find automatic captions for 7r2xHI5KYrk\n"
     ]
    },
    {
     "name": "stdout",
     "output_type": "stream",
     "text": [
      "No captions for 7r2xHI5KYrk\n",
      "[youtube] T1EF5x9b1Dg: Downloading webpage\n",
      "[youtube] T1EF5x9b1Dg: Downloading video info webpage\n",
      "[youtube] T1EF5x9b1Dg: Looking for automatic captions\n",
      "[info] Writing video subtitles to: subtitle_T1EF5x9b1Dg.en.vtt\n",
      "[youtube] k0eVY3hKUQg: Downloading webpage\n",
      "[youtube] k0eVY3hKUQg: Downloading video info webpage\n",
      "[youtube] k0eVY3hKUQg: Looking for automatic captions\n",
      "[info] Writing video subtitles to: subtitle_k0eVY3hKUQg.en.vtt\n",
      "[youtube] NQJb6g45Qvg: Downloading webpage\n",
      "[youtube] NQJb6g45Qvg: Downloading video info webpage\n",
      "[youtube] NQJb6g45Qvg: Looking for automatic captions\n",
      "[info] Writing video subtitles to: subtitle_NQJb6g45Qvg.en.vtt\n",
      "[youtube] LbQ7nOvNcXE: Downloading webpage\n",
      "[youtube] LbQ7nOvNcXE: Downloading video info webpage\n",
      "[youtube] LbQ7nOvNcXE: Looking for automatic captions\n"
     ]
    },
    {
     "name": "stderr",
     "output_type": "stream",
     "text": [
      "WARNING: Couldn't find automatic captions for LbQ7nOvNcXE\n"
     ]
    },
    {
     "name": "stdout",
     "output_type": "stream",
     "text": [
      "No captions for LbQ7nOvNcXE\n",
      "[youtube] p-9a_T0bsvE: Downloading webpage\n",
      "[youtube] p-9a_T0bsvE: Downloading video info webpage\n",
      "[youtube] p-9a_T0bsvE: Looking for automatic captions\n",
      "[youtube] p-9a_T0bsvE: Downloading MPD manifest\n",
      "[youtube] p-9a_T0bsvE: Downloading MPD manifest\n",
      "[info] Writing video subtitles to: subtitle_p-9a_T0bsvE.en.vtt\n",
      "[youtube] Lnpo2uGEwMg: Downloading webpage\n",
      "[youtube] Lnpo2uGEwMg: Downloading video info webpage\n",
      "[youtube] Lnpo2uGEwMg: Looking for automatic captions\n"
     ]
    },
    {
     "name": "stderr",
     "output_type": "stream",
     "text": [
      "WARNING: Couldn't find automatic captions for Lnpo2uGEwMg\n"
     ]
    },
    {
     "name": "stdout",
     "output_type": "stream",
     "text": [
      "No captions for Lnpo2uGEwMg\n",
      "[youtube] -tL5YwAoXAk: Downloading webpage\n",
      "[youtube] -tL5YwAoXAk: Downloading video info webpage\n",
      "[youtube] -tL5YwAoXAk: Looking for automatic captions\n",
      "[info] Writing video subtitles to: subtitle_-tL5YwAoXAk.en.vtt\n",
      "[youtube] 3sPviES363Q: Downloading webpage\n",
      "[youtube] 3sPviES363Q: Downloading video info webpage\n",
      "[youtube] 3sPviES363Q: Looking for automatic captions\n",
      "[info] Writing video subtitles to: subtitle_3sPviES363Q.en.vtt\n",
      "[youtube] 11it6rlxo2U: Downloading webpage\n",
      "[youtube] 11it6rlxo2U: Downloading video info webpage\n",
      "[youtube] 11it6rlxo2U: Looking for automatic captions\n"
     ]
    },
    {
     "name": "stderr",
     "output_type": "stream",
     "text": [
      "WARNING: Couldn't find automatic captions for 11it6rlxo2U\n"
     ]
    },
    {
     "name": "stdout",
     "output_type": "stream",
     "text": [
      "No captions for 11it6rlxo2U\n",
      "[youtube] Dwr0QnfpOUs: Downloading webpage\n",
      "[youtube] Dwr0QnfpOUs: Downloading video info webpage\n",
      "[youtube] Dwr0QnfpOUs: Looking for automatic captions\n",
      "[info] Writing video subtitles to: subtitle_Dwr0QnfpOUs.en.vtt\n",
      "[youtube] CfFg3CXFaK4: Downloading webpage\n",
      "[youtube] CfFg3CXFaK4: Downloading video info webpage\n",
      "[youtube] CfFg3CXFaK4: Looking for automatic captions\n",
      "[info] Writing video subtitles to: subtitle_CfFg3CXFaK4.en.vtt\n",
      "[youtube] xDtUkEHamkY: Downloading webpage\n",
      "[youtube] xDtUkEHamkY: Downloading video info webpage\n",
      "[youtube] xDtUkEHamkY: Looking for automatic captions\n",
      "[info] Writing video subtitles to: subtitle_xDtUkEHamkY.en.vtt\n",
      "[youtube] X1JoC92sfGo: Downloading webpage\n",
      "[youtube] X1JoC92sfGo: Downloading video info webpage\n",
      "[youtube] X1JoC92sfGo: Looking for automatic captions\n",
      "[info] Writing video subtitles to: subtitle_X1JoC92sfGo.en.vtt\n",
      "[youtube] GyTUa3x0zkU: Downloading webpage\n",
      "[youtube] GyTUa3x0zkU: Downloading video info webpage\n",
      "[youtube] GyTUa3x0zkU: Looking for automatic captions\n",
      "[info] Writing video subtitles to: subtitle_GyTUa3x0zkU.en.vtt\n",
      "[youtube] 9sBKixfU_yc: Downloading webpage\n",
      "[youtube] 9sBKixfU_yc: Downloading video info webpage\n",
      "[youtube] 9sBKixfU_yc: Looking for automatic captions\n",
      "[info] Writing video subtitles to: subtitle_9sBKixfU_yc.en.vtt\n",
      "[youtube] ZjXxFviXmJ8: Downloading webpage\n",
      "[youtube] ZjXxFviXmJ8: Downloading video info webpage\n",
      "[youtube] ZjXxFviXmJ8: Looking for automatic captions\n"
     ]
    },
    {
     "name": "stderr",
     "output_type": "stream",
     "text": [
      "WARNING: Couldn't find automatic captions for ZjXxFviXmJ8\n"
     ]
    },
    {
     "name": "stdout",
     "output_type": "stream",
     "text": [
      "No captions for ZjXxFviXmJ8\n",
      "[youtube] TDr6-8Arp5Y: Downloading webpage\n",
      "[youtube] TDr6-8Arp5Y: Downloading video info webpage\n",
      "[youtube] TDr6-8Arp5Y: Looking for automatic captions\n"
     ]
    },
    {
     "name": "stderr",
     "output_type": "stream",
     "text": [
      "WARNING: Couldn't find automatic captions for TDr6-8Arp5Y\n"
     ]
    },
    {
     "name": "stdout",
     "output_type": "stream",
     "text": [
      "No captions for TDr6-8Arp5Y\n",
      "[youtube] EAzkoEMS5B0: Downloading webpage\n",
      "[youtube] EAzkoEMS5B0: Downloading video info webpage\n",
      "[youtube] EAzkoEMS5B0: Looking for automatic captions\n"
     ]
    },
    {
     "name": "stderr",
     "output_type": "stream",
     "text": [
      "WARNING: Couldn't find automatic captions for EAzkoEMS5B0\n"
     ]
    },
    {
     "name": "stdout",
     "output_type": "stream",
     "text": [
      "No captions for EAzkoEMS5B0\n",
      "[youtube] dHH1CL9sb3A: Downloading webpage\n",
      "[youtube] dHH1CL9sb3A: Downloading video info webpage\n",
      "[youtube] dHH1CL9sb3A: Looking for automatic captions\n",
      "[info] Writing video subtitles to: subtitle_dHH1CL9sb3A.en.vtt\n",
      "[youtube] K0VF9U7JCRo: Downloading webpage\n",
      "[youtube] K0VF9U7JCRo: Downloading video info webpage\n",
      "[youtube] K0VF9U7JCRo: Looking for automatic captions\n",
      "[info] Writing video subtitles to: subtitle_K0VF9U7JCRo.en.vtt\n",
      "[youtube] hwwAMDMnuOs: Downloading webpage\n",
      "[youtube] hwwAMDMnuOs: Downloading video info webpage\n",
      "[youtube] hwwAMDMnuOs: Looking for automatic captions\n",
      "[info] Writing video subtitles to: subtitle_hwwAMDMnuOs.en.vtt\n",
      "[youtube] HIpE20l2AtA: Downloading webpage\n",
      "[youtube] HIpE20l2AtA: Downloading video info webpage\n",
      "[youtube] HIpE20l2AtA: Looking for automatic captions\n",
      "[info] Writing video subtitles to: subtitle_HIpE20l2AtA.en.vtt\n",
      "[youtube] 8i0_S2GPwdY: Downloading webpage\n",
      "[youtube] 8i0_S2GPwdY: Downloading video info webpage\n",
      "[youtube] 8i0_S2GPwdY: Looking for automatic captions\n",
      "[info] Writing video subtitles to: subtitle_8i0_S2GPwdY.en.vtt\n",
      "[youtube] 4n5GWEkrYPA: Downloading webpage\n",
      "[youtube] 4n5GWEkrYPA: Downloading video info webpage\n",
      "[youtube] 4n5GWEkrYPA: Looking for automatic captions\n",
      "[info] Writing video subtitles to: subtitle_4n5GWEkrYPA.en.vtt\n",
      "[youtube] QCINjo-s2oI: Downloading webpage\n",
      "[youtube] QCINjo-s2oI: Downloading video info webpage\n",
      "[youtube] QCINjo-s2oI: Looking for automatic captions\n",
      "[info] Writing video subtitles to: subtitle_QCINjo-s2oI.en.vtt\n",
      "[youtube] 4QuqPugfkdQ: Downloading webpage\n",
      "[youtube] 4QuqPugfkdQ: Downloading video info webpage\n",
      "[youtube] 4QuqPugfkdQ: Looking for automatic captions\n"
     ]
    },
    {
     "name": "stderr",
     "output_type": "stream",
     "text": [
      "WARNING: Couldn't find automatic captions for 4QuqPugfkdQ\n"
     ]
    },
    {
     "name": "stdout",
     "output_type": "stream",
     "text": [
      "No captions for 4QuqPugfkdQ\n",
      "[youtube] CEsVNmtCeDg: Downloading webpage\n",
      "[youtube] CEsVNmtCeDg: Downloading video info webpage\n",
      "[youtube] CEsVNmtCeDg: Looking for automatic captions\n",
      "[info] Writing video subtitles to: subtitle_CEsVNmtCeDg.en.vtt\n",
      "[youtube] OqTH5SMCshI: Downloading webpage\n",
      "[youtube] OqTH5SMCshI: Downloading video info webpage\n",
      "[youtube] OqTH5SMCshI: Looking for automatic captions\n"
     ]
    },
    {
     "name": "stderr",
     "output_type": "stream",
     "text": [
      "WARNING: Couldn't find automatic captions for OqTH5SMCshI\n"
     ]
    },
    {
     "name": "stdout",
     "output_type": "stream",
     "text": [
      "No captions for OqTH5SMCshI\n",
      "[youtube] Owjj-o2JhYI: Downloading webpage\n",
      "[youtube] Owjj-o2JhYI: Downloading video info webpage\n",
      "[youtube] Owjj-o2JhYI: Looking for automatic captions\n",
      "[info] Writing video subtitles to: subtitle_Owjj-o2JhYI.en.vtt\n",
      "[youtube] 4E--R1sdHww: Downloading webpage\n",
      "[youtube] 4E--R1sdHww: Downloading video info webpage\n",
      "[youtube] 4E--R1sdHww: Looking for automatic captions\n",
      "[info] Writing video subtitles to: subtitle_4E--R1sdHww.en.vtt\n",
      "[youtube] U01ZSlvM04U: Downloading webpage\n",
      "[youtube] U01ZSlvM04U: Downloading video info webpage\n",
      "[youtube] U01ZSlvM04U: Looking for automatic captions\n",
      "[info] Writing video subtitles to: subtitle_U01ZSlvM04U.en.vtt\n",
      "[youtube] 699YSsQYBT0: Downloading webpage\n",
      "[youtube] 699YSsQYBT0: Downloading video info webpage\n",
      "[youtube] 699YSsQYBT0: Looking for automatic captions\n"
     ]
    },
    {
     "name": "stderr",
     "output_type": "stream",
     "text": [
      "WARNING: Couldn't find automatic captions for 699YSsQYBT0\n"
     ]
    },
    {
     "name": "stdout",
     "output_type": "stream",
     "text": [
      "No captions for 699YSsQYBT0\n",
      "[youtube] a4XI8_z922o: Downloading webpage\n",
      "[youtube] a4XI8_z922o: Downloading video info webpage\n",
      "[youtube] a4XI8_z922o: Looking for automatic captions\n"
     ]
    },
    {
     "name": "stderr",
     "output_type": "stream",
     "text": [
      "WARNING: Couldn't find automatic captions for a4XI8_z922o\n"
     ]
    },
    {
     "name": "stdout",
     "output_type": "stream",
     "text": [
      "No captions for a4XI8_z922o\n",
      "[youtube] nXbKvUJbc_0: Downloading webpage\n",
      "[youtube] nXbKvUJbc_0: Downloading video info webpage\n",
      "[youtube] nXbKvUJbc_0: Looking for automatic captions\n",
      "[info] Writing video subtitles to: subtitle_nXbKvUJbc_0.en.vtt\n",
      "[youtube] EtuoWnw5pco: Downloading webpage\n",
      "[youtube] EtuoWnw5pco: Downloading video info webpage\n",
      "[youtube] EtuoWnw5pco: Looking for automatic captions\n"
     ]
    },
    {
     "name": "stderr",
     "output_type": "stream",
     "text": [
      "WARNING: Couldn't find automatic captions for EtuoWnw5pco\n"
     ]
    },
    {
     "name": "stdout",
     "output_type": "stream",
     "text": [
      "No captions for EtuoWnw5pco\n",
      "[youtube] SkaQrgZHUnk: Downloading webpage\n",
      "[youtube] SkaQrgZHUnk: Downloading video info webpage\n",
      "[youtube] SkaQrgZHUnk: Looking for automatic captions\n",
      "[youtube] SkaQrgZHUnk: Downloading MPD manifest\n",
      "[youtube] SkaQrgZHUnk: Downloading MPD manifest\n",
      "[info] Writing video subtitles to: subtitle_SkaQrgZHUnk.en.vtt\n",
      "[youtube] cgXqyvy_q6g: Downloading webpage\n",
      "[youtube] cgXqyvy_q6g: Downloading video info webpage\n",
      "[youtube] cgXqyvy_q6g: Looking for automatic captions\n",
      "[info] Writing video subtitles to: subtitle_cgXqyvy_q6g.en.vtt\n",
      "[youtube] T1D494M4u-0: Downloading webpage\n",
      "[youtube] T1D494M4u-0: Downloading video info webpage\n",
      "[youtube] T1D494M4u-0: Looking for automatic captions\n"
     ]
    },
    {
     "name": "stderr",
     "output_type": "stream",
     "text": [
      "WARNING: Couldn't find automatic captions for T1D494M4u-0\n"
     ]
    },
    {
     "name": "stdout",
     "output_type": "stream",
     "text": [
      "No captions for T1D494M4u-0\n",
      "[youtube] VAXYJ9wi6lI: Downloading webpage\n",
      "[youtube] VAXYJ9wi6lI: Downloading video info webpage\n",
      "[youtube] VAXYJ9wi6lI: Looking for automatic captions\n",
      "[youtube] VAXYJ9wi6lI: Downloading MPD manifest\n",
      "[youtube] VAXYJ9wi6lI: Downloading MPD manifest\n",
      "[info] Writing video subtitles to: subtitle_VAXYJ9wi6lI.en.vtt\n",
      "[youtube] h-M3kOBA30A: Downloading webpage\n",
      "[youtube] h-M3kOBA30A: Downloading video info webpage\n",
      "[youtube] h-M3kOBA30A: Looking for automatic captions\n",
      "[info] Writing video subtitles to: subtitle_h-M3kOBA30A.en.vtt\n",
      "[youtube] YiLVEwIwMNQ: Downloading webpage\n",
      "[youtube] YiLVEwIwMNQ: Downloading video info webpage\n",
      "[youtube] YiLVEwIwMNQ: Looking for automatic captions\n"
     ]
    },
    {
     "name": "stderr",
     "output_type": "stream",
     "text": [
      "WARNING: Couldn't find automatic captions for YiLVEwIwMNQ\n"
     ]
    },
    {
     "name": "stdout",
     "output_type": "stream",
     "text": [
      "[youtube] YiLVEwIwMNQ: Downloading MPD manifest\n",
      "[youtube] YiLVEwIwMNQ: Downloading MPD manifest\n",
      "No captions for YiLVEwIwMNQ\n",
      "[youtube] DXjEg2jlYK8: Downloading webpage\n",
      "[youtube] DXjEg2jlYK8: Downloading video info webpage\n",
      "[youtube] DXjEg2jlYK8: Looking for automatic captions\n"
     ]
    },
    {
     "name": "stderr",
     "output_type": "stream",
     "text": [
      "WARNING: Couldn't find automatic captions for DXjEg2jlYK8\n"
     ]
    },
    {
     "name": "stdout",
     "output_type": "stream",
     "text": [
      "No captions for DXjEg2jlYK8\n",
      "[youtube] 8B7QKCwgDZo: Downloading webpage\n",
      "[youtube] 8B7QKCwgDZo: Downloading video info webpage\n",
      "[youtube] 8B7QKCwgDZo: Looking for automatic captions\n",
      "[info] Writing video subtitles to: subtitle_8B7QKCwgDZo.en.vtt\n",
      "[youtube] ILYap03si90: Downloading webpage\n",
      "[youtube] ILYap03si90: Downloading video info webpage\n",
      "[youtube] ILYap03si90: Looking for automatic captions\n",
      "[info] Writing video subtitles to: subtitle_ILYap03si90.en.vtt\n",
      "[youtube] lnIfaKDu4LU: Downloading webpage\n",
      "[youtube] lnIfaKDu4LU: Downloading video info webpage\n",
      "[youtube] lnIfaKDu4LU: Looking for automatic captions\n",
      "[info] Writing video subtitles to: subtitle_lnIfaKDu4LU.en.vtt\n",
      "[youtube] 59-UWKx_YTk: Downloading webpage\n",
      "[youtube] 59-UWKx_YTk: Downloading video info webpage\n",
      "[youtube] 59-UWKx_YTk: Looking for automatic captions\n",
      "[youtube] 59-UWKx_YTk: Downloading MPD manifest\n",
      "[youtube] 59-UWKx_YTk: Downloading MPD manifest\n",
      "[info] Writing video subtitles to: subtitle_59-UWKx_YTk.en.vtt\n",
      "[youtube] Fh-K4SXYtRs: Downloading webpage\n",
      "[youtube] Fh-K4SXYtRs: Downloading video info webpage\n",
      "[youtube] Fh-K4SXYtRs: Looking for automatic captions\n"
     ]
    },
    {
     "name": "stderr",
     "output_type": "stream",
     "text": [
      "WARNING: Couldn't find automatic captions for Fh-K4SXYtRs\n"
     ]
    },
    {
     "name": "stdout",
     "output_type": "stream",
     "text": [
      "No captions for Fh-K4SXYtRs\n",
      "[youtube] FxloiVgJE8M: Downloading webpage\n",
      "[youtube] FxloiVgJE8M: Downloading video info webpage\n",
      "[youtube] FxloiVgJE8M: Looking for automatic captions\n",
      "[info] Writing video subtitles to: subtitle_FxloiVgJE8M.en.vtt\n",
      "[youtube] dPB5Yf3iRjQ: Downloading webpage\n",
      "[youtube] dPB5Yf3iRjQ: Downloading video info webpage\n",
      "[youtube] dPB5Yf3iRjQ: Looking for automatic captions\n",
      "[youtube] dPB5Yf3iRjQ: Downloading MPD manifest\n",
      "[youtube] dPB5Yf3iRjQ: Downloading MPD manifest\n",
      "[info] Writing video subtitles to: subtitle_dPB5Yf3iRjQ.en.vtt\n",
      "[youtube] DqfZ8m6Nisg: Downloading webpage\n",
      "[youtube] DqfZ8m6Nisg: Downloading video info webpage\n",
      "[youtube] DqfZ8m6Nisg: Looking for automatic captions\n",
      "[info] Writing video subtitles to: subtitle_DqfZ8m6Nisg.en.vtt\n",
      "[youtube] mDmyLPU0zWY: Downloading webpage\n",
      "[youtube] mDmyLPU0zWY: Downloading video info webpage\n",
      "[youtube] mDmyLPU0zWY: Looking for automatic captions\n",
      "[info] Writing video subtitles to: subtitle_mDmyLPU0zWY.en.vtt\n",
      "[youtube] 3DpZR0ETTJY: Downloading webpage\n",
      "[youtube] 3DpZR0ETTJY: Downloading video info webpage\n",
      "[youtube] 3DpZR0ETTJY: Looking for automatic captions\n",
      "[info] Writing video subtitles to: subtitle_3DpZR0ETTJY.en.vtt\n",
      "[youtube] Ew_j0S0ak20: Downloading webpage\n",
      "[youtube] Ew_j0S0ak20: Downloading video info webpage\n",
      "[youtube] Ew_j0S0ak20: Looking for automatic captions\n",
      "[info] Writing video subtitles to: subtitle_Ew_j0S0ak20.en.vtt\n",
      "[youtube] XRFyUAiZlmM: Downloading webpage\n",
      "[youtube] XRFyUAiZlmM: Downloading video info webpage\n",
      "[youtube] XRFyUAiZlmM: Looking for automatic captions\n",
      "[info] Writing video subtitles to: subtitle_XRFyUAiZlmM.en.vtt\n",
      "[youtube] z4O9irQcUMc: Downloading webpage\n",
      "[youtube] z4O9irQcUMc: Downloading video info webpage\n",
      "[youtube] z4O9irQcUMc: Looking for automatic captions\n",
      "[info] Writing video subtitles to: subtitle_z4O9irQcUMc.en.vtt\n",
      "[youtube] 6xbSWsn01Mg: Downloading webpage\n",
      "[youtube] 6xbSWsn01Mg: Downloading video info webpage\n",
      "[youtube] 6xbSWsn01Mg: Looking for automatic captions\n",
      "[youtube] 6xbSWsn01Mg: Downloading MPD manifest\n",
      "[youtube] 6xbSWsn01Mg: Downloading MPD manifest\n",
      "[info] Writing video subtitles to: subtitle_6xbSWsn01Mg.en.vtt\n",
      "[youtube] bWKm1VIJE8c: Downloading webpage\n",
      "[youtube] bWKm1VIJE8c: Downloading video info webpage\n",
      "[youtube] bWKm1VIJE8c: Looking for automatic captions\n",
      "[info] Writing video subtitles to: subtitle_bWKm1VIJE8c.en.vtt\n",
      "[youtube] J-r39kp6jiw: Downloading webpage\n",
      "[youtube] J-r39kp6jiw: Downloading video info webpage\n",
      "[youtube] J-r39kp6jiw: Looking for automatic captions\n",
      "[info] Writing video subtitles to: subtitle_J-r39kp6jiw.en.vtt\n",
      "[youtube] MGHBqStbsYQ: Downloading webpage\n",
      "[youtube] MGHBqStbsYQ: Downloading video info webpage\n",
      "[youtube] MGHBqStbsYQ: Looking for automatic captions\n"
     ]
    },
    {
     "name": "stderr",
     "output_type": "stream",
     "text": [
      "WARNING: Couldn't find automatic captions for MGHBqStbsYQ\n"
     ]
    },
    {
     "name": "stdout",
     "output_type": "stream",
     "text": [
      "No captions for MGHBqStbsYQ\n",
      "[youtube] onz8lVKrKog: Downloading webpage\n",
      "[youtube] onz8lVKrKog: Downloading video info webpage\n",
      "[youtube] onz8lVKrKog: Looking for automatic captions\n",
      "[info] Writing video subtitles to: subtitle_onz8lVKrKog.en.vtt\n",
      "[youtube] yP-SFhd4HAc: Downloading webpage\n",
      "[youtube] yP-SFhd4HAc: Downloading video info webpage\n",
      "[youtube] yP-SFhd4HAc: Looking for automatic captions\n"
     ]
    },
    {
     "name": "stderr",
     "output_type": "stream",
     "text": [
      "WARNING: Couldn't find automatic captions for yP-SFhd4HAc\n"
     ]
    },
    {
     "name": "stdout",
     "output_type": "stream",
     "text": [
      "No captions for yP-SFhd4HAc\n",
      "[youtube] UueoS2th7To: Downloading webpage\n",
      "[youtube] UueoS2th7To: Downloading video info webpage\n",
      "[youtube] UueoS2th7To: Looking for automatic captions\n",
      "[info] Writing video subtitles to: subtitle_UueoS2th7To.en.vtt\n",
      "[youtube] mcdwur-Yhc0: Downloading webpage\n",
      "[youtube] mcdwur-Yhc0: Downloading video info webpage\n",
      "[youtube] mcdwur-Yhc0: Looking for automatic captions\n"
     ]
    },
    {
     "name": "stderr",
     "output_type": "stream",
     "text": [
      "WARNING: Couldn't find automatic captions for mcdwur-Yhc0\n"
     ]
    },
    {
     "name": "stdout",
     "output_type": "stream",
     "text": [
      "No captions for mcdwur-Yhc0\n",
      "[youtube] VDYpjUR3caU: Downloading webpage\n",
      "[youtube] VDYpjUR3caU: Downloading video info webpage\n",
      "[youtube] VDYpjUR3caU: Looking for automatic captions\n",
      "[youtube] VDYpjUR3caU: Downloading MPD manifest\n",
      "[youtube] VDYpjUR3caU: Downloading MPD manifest\n",
      "[info] Writing video subtitles to: subtitle_VDYpjUR3caU.en.vtt\n",
      "[youtube] BBftqJuVeEI: Downloading webpage\n",
      "[youtube] BBftqJuVeEI: Downloading video info webpage\n",
      "[youtube] BBftqJuVeEI: Looking for automatic captions\n",
      "[info] Writing video subtitles to: subtitle_BBftqJuVeEI.en.vtt\n",
      "[youtube] IPomhHKLO7M: Downloading webpage\n",
      "[youtube] IPomhHKLO7M: Downloading video info webpage\n",
      "[youtube] IPomhHKLO7M: Looking for automatic captions\n",
      "[youtube] IPomhHKLO7M: Downloading MPD manifest\n",
      "[youtube] IPomhHKLO7M: Downloading MPD manifest\n",
      "[info] Writing video subtitles to: subtitle_IPomhHKLO7M.en.vtt\n",
      "[youtube] ohsk2WZQUuo: Downloading webpage\n",
      "[youtube] ohsk2WZQUuo: Downloading video info webpage\n",
      "[youtube] ohsk2WZQUuo: Looking for automatic captions\n",
      "[info] Writing video subtitles to: subtitle_ohsk2WZQUuo.en.vtt\n",
      "[youtube] gzIwAqxJxuQ: Downloading webpage\n",
      "[youtube] gzIwAqxJxuQ: Downloading video info webpage\n",
      "[youtube] gzIwAqxJxuQ: Looking for automatic captions\n",
      "[info] Writing video subtitles to: subtitle_gzIwAqxJxuQ.en.vtt\n",
      "[youtube] 9mFh6XqKq_4: Downloading webpage\n",
      "[youtube] 9mFh6XqKq_4: Downloading video info webpage\n",
      "[youtube] 9mFh6XqKq_4: Looking for automatic captions\n",
      "[info] Writing video subtitles to: subtitle_9mFh6XqKq_4.en.vtt\n",
      "[youtube] 3joPl_f6uHU: Downloading webpage\n",
      "[youtube] 3joPl_f6uHU: Downloading video info webpage\n",
      "[youtube] 3joPl_f6uHU: Looking for automatic captions\n",
      "[youtube] 3joPl_f6uHU: Downloading MPD manifest\n",
      "[youtube] 3joPl_f6uHU: Downloading MPD manifest\n",
      "[info] Writing video subtitles to: subtitle_3joPl_f6uHU.en.vtt\n",
      "[youtube] nY4sM84M5bc: Downloading webpage\n",
      "[youtube] nY4sM84M5bc: Downloading video info webpage\n",
      "[youtube] nY4sM84M5bc: Looking for automatic captions\n",
      "[youtube] nY4sM84M5bc: Downloading MPD manifest\n",
      "[youtube] nY4sM84M5bc: Downloading MPD manifest\n",
      "[info] Writing video subtitles to: subtitle_nY4sM84M5bc.en.vtt\n",
      "[youtube] s7b5Xxo67yU: Downloading webpage\n",
      "[youtube] s7b5Xxo67yU: Downloading video info webpage\n",
      "[youtube] s7b5Xxo67yU: Looking for automatic captions\n",
      "[info] Writing video subtitles to: subtitle_s7b5Xxo67yU.en.vtt\n",
      "[youtube] ajdm-Dch3ZQ: Downloading webpage\n",
      "[youtube] ajdm-Dch3ZQ: Downloading video info webpage\n",
      "[youtube] ajdm-Dch3ZQ: Looking for automatic captions\n",
      "[youtube] ajdm-Dch3ZQ: Downloading MPD manifest\n",
      "[youtube] ajdm-Dch3ZQ: Downloading MPD manifest\n",
      "[info] Writing video subtitles to: subtitle_ajdm-Dch3ZQ.en.vtt\n",
      "[youtube] Xy_jbIwI3lM: Downloading webpage\n",
      "[youtube] Xy_jbIwI3lM: Downloading video info webpage\n",
      "[youtube] Xy_jbIwI3lM: Looking for automatic captions\n",
      "[info] Writing video subtitles to: subtitle_Xy_jbIwI3lM.en.vtt\n",
      "[youtube] jddNLB-XQyE: Downloading webpage\n",
      "[youtube] jddNLB-XQyE: Downloading video info webpage\n",
      "[youtube] jddNLB-XQyE: Looking for automatic captions\n",
      "[info] Writing video subtitles to: subtitle_jddNLB-XQyE.en.vtt\n",
      "[youtube] AwX8W6TtqMk: Downloading webpage\n",
      "[youtube] AwX8W6TtqMk: Downloading video info webpage\n",
      "[youtube] AwX8W6TtqMk: Looking for automatic captions\n",
      "[youtube] AwX8W6TtqMk: Downloading MPD manifest\n",
      "[youtube] AwX8W6TtqMk: Downloading MPD manifest\n",
      "[info] Writing video subtitles to: subtitle_AwX8W6TtqMk.en.vtt\n",
      "[youtube] uzBTddxYt9M: Downloading webpage\n",
      "[youtube] uzBTddxYt9M: Downloading video info webpage\n",
      "[youtube] uzBTddxYt9M: Looking for automatic captions\n",
      "[info] Writing video subtitles to: subtitle_uzBTddxYt9M.en.vtt\n",
      "[youtube] _DIfK9C8Tko: Downloading webpage\n",
      "[youtube] _DIfK9C8Tko: Downloading video info webpage\n",
      "[youtube] _DIfK9C8Tko: Looking for automatic captions\n",
      "[info] Writing video subtitles to: subtitle__DIfK9C8Tko.en.vtt\n",
      "[youtube] nFOlTtvc7wA: Downloading webpage\n",
      "[youtube] nFOlTtvc7wA: Downloading video info webpage\n",
      "[youtube] nFOlTtvc7wA: Looking for automatic captions\n",
      "[info] Writing video subtitles to: subtitle_nFOlTtvc7wA.en.vtt\n",
      "[youtube] wsvIGZMBvrY: Downloading webpage\n",
      "[youtube] wsvIGZMBvrY: Downloading video info webpage\n",
      "[youtube] wsvIGZMBvrY: Looking for automatic captions\n",
      "[info] Writing video subtitles to: subtitle_wsvIGZMBvrY.en.vtt\n",
      "[youtube] BOtN7hiHS4o: Downloading webpage\n",
      "[youtube] BOtN7hiHS4o: Downloading video info webpage\n",
      "[youtube] BOtN7hiHS4o: Looking for automatic captions\n",
      "[youtube] BOtN7hiHS4o: Downloading MPD manifest\n",
      "[youtube] BOtN7hiHS4o: Downloading MPD manifest\n",
      "[info] Writing video subtitles to: subtitle_BOtN7hiHS4o.en.vtt\n",
      "[youtube] XlgrfG3ZIGU: Downloading webpage\n",
      "[youtube] XlgrfG3ZIGU: Downloading video info webpage\n",
      "[youtube] XlgrfG3ZIGU: Looking for automatic captions\n",
      "[info] Writing video subtitles to: subtitle_XlgrfG3ZIGU.en.vtt\n",
      "[youtube] uOqF7-xStYA: Downloading webpage\n",
      "[youtube] uOqF7-xStYA: Downloading video info webpage\n",
      "[youtube] uOqF7-xStYA: Looking for automatic captions\n",
      "[youtube] uOqF7-xStYA: Downloading MPD manifest\n",
      "[info] Writing video subtitles to: subtitle_uOqF7-xStYA.en.vtt\n",
      "[youtube] HVr9MIN2MEw: Downloading webpage\n",
      "[youtube] HVr9MIN2MEw: Downloading video info webpage\n",
      "[youtube] HVr9MIN2MEw: Looking for automatic captions\n",
      "[youtube] HVr9MIN2MEw: Downloading MPD manifest\n",
      "[youtube] HVr9MIN2MEw: Downloading MPD manifest\n",
      "[info] Writing video subtitles to: subtitle_HVr9MIN2MEw.en.vtt\n",
      "[youtube] C5yhZvzOnd0: Downloading webpage\n",
      "[youtube] C5yhZvzOnd0: Downloading video info webpage\n",
      "[youtube] C5yhZvzOnd0: Looking for automatic captions\n"
     ]
    },
    {
     "name": "stderr",
     "output_type": "stream",
     "text": [
      "WARNING: Couldn't find automatic captions for C5yhZvzOnd0\n"
     ]
    },
    {
     "name": "stdout",
     "output_type": "stream",
     "text": [
      "No captions for C5yhZvzOnd0\n",
      "[youtube] U8hs7fC4znY: Downloading webpage\n",
      "[youtube] U8hs7fC4znY: Downloading video info webpage\n",
      "[youtube] U8hs7fC4znY: Looking for automatic captions\n",
      "[info] Writing video subtitles to: subtitle_U8hs7fC4znY.en.vtt\n",
      "[youtube] CpJtdC3oshs: Downloading webpage\n",
      "[youtube] CpJtdC3oshs: Downloading video info webpage\n",
      "[youtube] CpJtdC3oshs: Looking for automatic captions\n",
      "[info] Writing video subtitles to: subtitle_CpJtdC3oshs.en.vtt\n",
      "[youtube] ubm-nCEtOvI: Downloading webpage\n",
      "[youtube] ubm-nCEtOvI: Downloading video info webpage\n",
      "[youtube] ubm-nCEtOvI: Looking for automatic captions\n",
      "[info] Writing video subtitles to: subtitle_ubm-nCEtOvI.en.vtt\n",
      "[youtube] PGRhTrZ_nu4: Downloading webpage\n",
      "[youtube] PGRhTrZ_nu4: Downloading video info webpage\n",
      "[youtube] PGRhTrZ_nu4: Looking for automatic captions\n",
      "[info] Writing video subtitles to: subtitle_PGRhTrZ_nu4.en.vtt\n",
      "[youtube] T_byPY7L86M: Downloading webpage\n",
      "[youtube] T_byPY7L86M: Downloading video info webpage\n",
      "[youtube] T_byPY7L86M: Looking for automatic captions\n",
      "[info] Writing video subtitles to: subtitle_T_byPY7L86M.en.vtt\n",
      "[youtube] HpQ7dVgYU2I: Downloading webpage\n",
      "[youtube] HpQ7dVgYU2I: Downloading video info webpage\n",
      "[youtube] HpQ7dVgYU2I: Looking for automatic captions\n",
      "[info] Writing video subtitles to: subtitle_HpQ7dVgYU2I.en.vtt\n",
      "[youtube] eSy8GjUlOC4: Downloading webpage\n",
      "[youtube] eSy8GjUlOC4: Downloading video info webpage\n",
      "[youtube] eSy8GjUlOC4: Looking for automatic captions\n",
      "[info] Writing video subtitles to: subtitle_eSy8GjUlOC4.en.vtt\n",
      "[youtube] VVX6jdDRyWI: Downloading webpage\n",
      "[youtube] VVX6jdDRyWI: Downloading video info webpage\n",
      "[youtube] VVX6jdDRyWI: Looking for automatic captions\n"
     ]
    },
    {
     "name": "stderr",
     "output_type": "stream",
     "text": [
      "WARNING: Couldn't find automatic captions for VVX6jdDRyWI\n"
     ]
    },
    {
     "name": "stdout",
     "output_type": "stream",
     "text": [
      "No captions for VVX6jdDRyWI\n",
      "[youtube] wZcq6Jgr45Y: Downloading webpage\n",
      "[youtube] wZcq6Jgr45Y: Downloading video info webpage\n",
      "[youtube] wZcq6Jgr45Y: Looking for automatic captions\n",
      "[info] Writing video subtitles to: subtitle_wZcq6Jgr45Y.en.vtt\n",
      "[youtube] 7z7AGWmCMB8: Downloading webpage\n",
      "[youtube] 7z7AGWmCMB8: Downloading video info webpage\n",
      "[youtube] 7z7AGWmCMB8: Looking for automatic captions\n",
      "[info] Writing video subtitles to: subtitle_7z7AGWmCMB8.en.vtt\n",
      "[youtube] XG5mAFIhHr8: Downloading webpage\n",
      "[youtube] XG5mAFIhHr8: Downloading video info webpage\n",
      "[youtube] XG5mAFIhHr8: Looking for automatic captions\n",
      "[info] Writing video subtitles to: subtitle_XG5mAFIhHr8.en.vtt\n",
      "[youtube] jAYTSyDk3xo: Downloading webpage\n",
      "[youtube] jAYTSyDk3xo: Downloading video info webpage\n",
      "[youtube] jAYTSyDk3xo: Looking for automatic captions\n",
      "[info] Writing video subtitles to: subtitle_jAYTSyDk3xo.en.vtt\n",
      "[youtube] 9QQHyL5stiU: Downloading webpage\n",
      "[youtube] 9QQHyL5stiU: Downloading video info webpage\n",
      "[youtube] 9QQHyL5stiU: Looking for automatic captions\n",
      "[info] Writing video subtitles to: subtitle_9QQHyL5stiU.en.vtt\n",
      "[youtube] Tfgg4-qqK3Y: Downloading webpage\n",
      "[youtube] Tfgg4-qqK3Y: Downloading video info webpage\n",
      "[youtube] Tfgg4-qqK3Y: Looking for automatic captions\n",
      "[info] Writing video subtitles to: subtitle_Tfgg4-qqK3Y.en.vtt\n",
      "[youtube] JxSJqEAEDss: Downloading webpage\n",
      "[youtube] JxSJqEAEDss: Downloading video info webpage\n",
      "[youtube] JxSJqEAEDss: Looking for automatic captions\n",
      "[info] Writing video subtitles to: subtitle_JxSJqEAEDss.en.vtt\n",
      "[youtube] EY20lwUKRbU: Downloading webpage\n",
      "[youtube] EY20lwUKRbU: Downloading video info webpage\n",
      "[youtube] EY20lwUKRbU: Looking for automatic captions\n",
      "[info] Writing video subtitles to: subtitle_EY20lwUKRbU.en.vtt\n",
      "[youtube] MIuUMAuaDMU: Downloading webpage\n",
      "[youtube] MIuUMAuaDMU: Downloading video info webpage\n",
      "[youtube] MIuUMAuaDMU: Looking for automatic captions\n",
      "[info] Writing video subtitles to: subtitle_MIuUMAuaDMU.en.vtt\n",
      "[youtube] Y8FI0Tu6M4k: Downloading webpage\n",
      "[youtube] Y8FI0Tu6M4k: Downloading video info webpage\n",
      "[youtube] Y8FI0Tu6M4k: Looking for automatic captions\n",
      "[info] Writing video subtitles to: subtitle_Y8FI0Tu6M4k.en.vtt\n",
      "[youtube] zkIM71IBPHk: Downloading webpage\n",
      "[youtube] zkIM71IBPHk: Downloading video info webpage\n",
      "[youtube] zkIM71IBPHk: Looking for automatic captions\n"
     ]
    },
    {
     "name": "stderr",
     "output_type": "stream",
     "text": [
      "WARNING: Couldn't find automatic captions for zkIM71IBPHk\n"
     ]
    },
    {
     "name": "stdout",
     "output_type": "stream",
     "text": [
      "No captions for zkIM71IBPHk\n",
      "[youtube] 84ffLizE0vw: Downloading webpage\n",
      "[youtube] 84ffLizE0vw: Downloading video info webpage\n",
      "[youtube] 84ffLizE0vw: Looking for automatic captions\n",
      "[info] Writing video subtitles to: subtitle_84ffLizE0vw.en.vtt\n",
      "[youtube] _iXOhDUHeLw: Downloading webpage\n",
      "[youtube] _iXOhDUHeLw: Downloading video info webpage\n",
      "[youtube] _iXOhDUHeLw: Looking for automatic captions\n",
      "[youtube] _iXOhDUHeLw: Downloading MPD manifest\n",
      "[youtube] _iXOhDUHeLw: Downloading MPD manifest\n",
      "[info] Writing video subtitles to: subtitle__iXOhDUHeLw.en.vtt\n",
      "[youtube] R_B1Xl-7vL8: Downloading webpage\n",
      "[youtube] R_B1Xl-7vL8: Downloading video info webpage\n",
      "[youtube] R_B1Xl-7vL8: Looking for automatic captions\n",
      "[info] Writing video subtitles to: subtitle_R_B1Xl-7vL8.en.vtt\n",
      "[youtube] FNRzOkl7M8M: Downloading webpage\n",
      "[youtube] FNRzOkl7M8M: Downloading video info webpage\n",
      "[youtube] FNRzOkl7M8M: Looking for automatic captions\n"
     ]
    },
    {
     "name": "stderr",
     "output_type": "stream",
     "text": [
      "WARNING: Couldn't find automatic captions for FNRzOkl7M8M\n"
     ]
    },
    {
     "name": "stdout",
     "output_type": "stream",
     "text": [
      "No captions for FNRzOkl7M8M\n",
      "[youtube] v9FZN-pt3Y4: Downloading webpage\n",
      "[youtube] v9FZN-pt3Y4: Downloading video info webpage\n",
      "[youtube] v9FZN-pt3Y4: Looking for automatic captions\n",
      "[info] Writing video subtitles to: subtitle_v9FZN-pt3Y4.en.vtt\n",
      "[youtube] KRPDFyLCazc: Downloading webpage\n",
      "[youtube] KRPDFyLCazc: Downloading video info webpage\n",
      "[youtube] KRPDFyLCazc: Looking for automatic captions\n",
      "[info] Writing video subtitles to: subtitle_KRPDFyLCazc.en.vtt\n",
      "[youtube] 8OCvMAWwP04: Downloading webpage\n",
      "[youtube] 8OCvMAWwP04: Downloading video info webpage\n",
      "[youtube] 8OCvMAWwP04: Looking for automatic captions\n",
      "[info] Writing video subtitles to: subtitle_8OCvMAWwP04.en.vtt\n",
      "[youtube] sBTpezgCDpM: Downloading webpage\n",
      "[youtube] sBTpezgCDpM: Downloading video info webpage\n",
      "[youtube] sBTpezgCDpM: Looking for automatic captions\n"
     ]
    },
    {
     "name": "stderr",
     "output_type": "stream",
     "text": [
      "WARNING: Couldn't find automatic captions for sBTpezgCDpM\n"
     ]
    },
    {
     "name": "stdout",
     "output_type": "stream",
     "text": [
      "No captions for sBTpezgCDpM\n",
      "[youtube] 5s8TE5m17HM: Downloading webpage\n",
      "[youtube] 5s8TE5m17HM: Downloading video info webpage\n",
      "[youtube] 5s8TE5m17HM: Looking for automatic captions\n",
      "[info] Writing video subtitles to: subtitle_5s8TE5m17HM.en.vtt\n",
      "[youtube] mOxtLyFDDQY: Downloading webpage\n",
      "[youtube] mOxtLyFDDQY: Downloading video info webpage\n",
      "[youtube] mOxtLyFDDQY: Looking for automatic captions\n",
      "[youtube] mOxtLyFDDQY: Downloading MPD manifest\n",
      "[youtube] mOxtLyFDDQY: Downloading MPD manifest\n",
      "[info] Writing video subtitles to: subtitle_mOxtLyFDDQY.en.vtt\n",
      "[youtube] giyXiWsPrOI: Downloading webpage\n",
      "[youtube] giyXiWsPrOI: Downloading video info webpage\n",
      "[youtube] giyXiWsPrOI: Looking for automatic captions\n",
      "[youtube] giyXiWsPrOI: Downloading MPD manifest\n",
      "[youtube] giyXiWsPrOI: Downloading MPD manifest\n",
      "[info] Writing video subtitles to: subtitle_giyXiWsPrOI.en.vtt\n",
      "[youtube] nAJXXASaDL4: Downloading webpage\n",
      "[youtube] nAJXXASaDL4: Downloading video info webpage\n",
      "[youtube] nAJXXASaDL4: Looking for automatic captions\n"
     ]
    },
    {
     "name": "stderr",
     "output_type": "stream",
     "text": [
      "WARNING: Couldn't find automatic captions for nAJXXASaDL4\n"
     ]
    },
    {
     "name": "stdout",
     "output_type": "stream",
     "text": [
      "No captions for nAJXXASaDL4\n",
      "[youtube] YtDdx9RWGm0: Downloading webpage\n",
      "[youtube] YtDdx9RWGm0: Downloading video info webpage\n",
      "[youtube] YtDdx9RWGm0: Looking for automatic captions\n"
     ]
    },
    {
     "name": "stderr",
     "output_type": "stream",
     "text": [
      "WARNING: Couldn't find automatic captions for YtDdx9RWGm0\n"
     ]
    },
    {
     "name": "stdout",
     "output_type": "stream",
     "text": [
      "No captions for YtDdx9RWGm0\n",
      "[youtube] yFqz9HWvDKw: Downloading webpage\n",
      "[youtube] yFqz9HWvDKw: Downloading video info webpage\n",
      "[youtube] yFqz9HWvDKw: Looking for automatic captions\n",
      "[info] Writing video subtitles to: subtitle_yFqz9HWvDKw.en.vtt\n",
      "[youtube] Pm1-0fIghnA: Downloading webpage\n",
      "[youtube] Pm1-0fIghnA: Downloading video info webpage\n",
      "[youtube] Pm1-0fIghnA: Looking for automatic captions\n",
      "[info] Writing video subtitles to: subtitle_Pm1-0fIghnA.en.vtt\n",
      "[youtube] v9XLyJjtWoE: Downloading webpage\n",
      "[youtube] v9XLyJjtWoE: Downloading video info webpage\n",
      "[youtube] v9XLyJjtWoE: Looking for automatic captions\n"
     ]
    },
    {
     "name": "stderr",
     "output_type": "stream",
     "text": [
      "WARNING: Couldn't find automatic captions for v9XLyJjtWoE\n"
     ]
    },
    {
     "name": "stdout",
     "output_type": "stream",
     "text": [
      "No captions for v9XLyJjtWoE\n",
      "[youtube] QqAjynuCh6s: Downloading webpage\n",
      "[youtube] QqAjynuCh6s: Downloading video info webpage\n",
      "[youtube] QqAjynuCh6s: Looking for automatic captions\n",
      "[info] Writing video subtitles to: subtitle_QqAjynuCh6s.en.vtt\n",
      "[youtube] rHrZJM3D3IU: Downloading webpage\n",
      "[youtube] rHrZJM3D3IU: Downloading video info webpage\n",
      "[youtube] rHrZJM3D3IU: Looking for automatic captions\n"
     ]
    },
    {
     "name": "stderr",
     "output_type": "stream",
     "text": [
      "WARNING: Couldn't find automatic captions for rHrZJM3D3IU\n"
     ]
    },
    {
     "name": "stdout",
     "output_type": "stream",
     "text": [
      "No captions for rHrZJM3D3IU\n",
      "[youtube] Wv_8ZZEFGNk: Downloading webpage\n",
      "[youtube] Wv_8ZZEFGNk: Downloading video info webpage\n",
      "[youtube] Wv_8ZZEFGNk: Looking for automatic captions\n",
      "[info] Writing video subtitles to: subtitle_Wv_8ZZEFGNk.en.vtt\n",
      "[youtube] nENntFHjGsY: Downloading webpage\n",
      "[youtube] nENntFHjGsY: Downloading video info webpage\n",
      "[youtube] nENntFHjGsY: Looking for automatic captions\n",
      "[info] Writing video subtitles to: subtitle_nENntFHjGsY.en.vtt\n",
      "[youtube] T9YEaJGfJRA: Downloading webpage\n",
      "[youtube] T9YEaJGfJRA: Downloading video info webpage\n",
      "[youtube] T9YEaJGfJRA: Looking for automatic captions\n"
     ]
    },
    {
     "name": "stderr",
     "output_type": "stream",
     "text": [
      "WARNING: Couldn't find automatic captions for T9YEaJGfJRA\n"
     ]
    },
    {
     "name": "stdout",
     "output_type": "stream",
     "text": [
      "No captions for T9YEaJGfJRA\n",
      "[youtube] p0xfdlAkApE: Downloading webpage\n",
      "[youtube] p0xfdlAkApE: Downloading video info webpage\n",
      "[youtube] p0xfdlAkApE: Looking for automatic captions\n",
      "[info] Writing video subtitles to: subtitle_p0xfdlAkApE.en.vtt\n",
      "[youtube] EyN-bBElaoQ: Downloading webpage\n",
      "[youtube] EyN-bBElaoQ: Downloading video info webpage\n",
      "[youtube] EyN-bBElaoQ: Looking for automatic captions\n",
      "[info] Writing video subtitles to: subtitle_EyN-bBElaoQ.en.vtt\n",
      "[youtube] PWcges_r154: Downloading webpage\n",
      "[youtube] PWcges_r154: Downloading video info webpage\n",
      "[youtube] PWcges_r154: Looking for automatic captions\n",
      "[info] Writing video subtitles to: subtitle_PWcges_r154.en.vtt\n",
      "[youtube] B6bovLw-k5g: Downloading webpage\n",
      "[youtube] B6bovLw-k5g: Downloading video info webpage\n",
      "[youtube] B6bovLw-k5g: Looking for automatic captions\n",
      "[info] Writing video subtitles to: subtitle_B6bovLw-k5g.en.vtt\n",
      "[youtube] sTLOMj-2qXk: Downloading webpage\n",
      "[youtube] sTLOMj-2qXk: Downloading video info webpage\n",
      "[youtube] sTLOMj-2qXk: Looking for automatic captions\n",
      "[info] Writing video subtitles to: subtitle_sTLOMj-2qXk.en.vtt\n",
      "[youtube] __AatNL5sko: Downloading webpage\n",
      "[youtube] __AatNL5sko: Downloading video info webpage\n",
      "[youtube] __AatNL5sko: Looking for automatic captions\n",
      "[youtube] __AatNL5sko: Downloading MPD manifest\n",
      "[youtube] __AatNL5sko: Downloading MPD manifest\n",
      "[info] Writing video subtitles to: subtitle___AatNL5sko.en.vtt\n",
      "[youtube] q60NjVggyV0: Downloading webpage\n",
      "[youtube] q60NjVggyV0: Downloading video info webpage\n",
      "[youtube] q60NjVggyV0: Looking for automatic captions\n"
     ]
    },
    {
     "name": "stderr",
     "output_type": "stream",
     "text": [
      "WARNING: Couldn't find automatic captions for q60NjVggyV0\n"
     ]
    },
    {
     "name": "stdout",
     "output_type": "stream",
     "text": [
      "No captions for q60NjVggyV0\n",
      "[youtube] ueMSy0-Ui7w: Downloading webpage\n",
      "[youtube] ueMSy0-Ui7w: Downloading video info webpage\n",
      "[youtube] ueMSy0-Ui7w: Looking for automatic captions\n",
      "[youtube] ueMSy0-Ui7w: Downloading MPD manifest\n",
      "[youtube] ueMSy0-Ui7w: Downloading MPD manifest\n",
      "[info] Writing video subtitles to: subtitle_ueMSy0-Ui7w.en.vtt\n",
      "[youtube] Po7Ci_uNwfQ: Downloading webpage\n",
      "[youtube] Po7Ci_uNwfQ: Downloading video info webpage\n",
      "[youtube] Po7Ci_uNwfQ: Looking for automatic captions\n",
      "[info] Writing video subtitles to: subtitle_Po7Ci_uNwfQ.en.vtt\n",
      "[youtube] _EeEHEKh5_s: Downloading webpage\n",
      "[youtube] _EeEHEKh5_s: Downloading video info webpage\n",
      "[youtube] _EeEHEKh5_s: Looking for automatic captions\n"
     ]
    },
    {
     "name": "stderr",
     "output_type": "stream",
     "text": [
      "WARNING: Couldn't find automatic captions for _EeEHEKh5_s\n"
     ]
    },
    {
     "name": "stdout",
     "output_type": "stream",
     "text": [
      "[youtube] _EeEHEKh5_s: Downloading MPD manifest\n",
      "[youtube] _EeEHEKh5_s: Downloading MPD manifest\n",
      "No captions for _EeEHEKh5_s\n",
      "[youtube] 0g2n15BMh5U: Downloading webpage\n",
      "[youtube] 0g2n15BMh5U: Downloading video info webpage\n",
      "[youtube] 0g2n15BMh5U: Looking for automatic captions\n",
      "[info] Writing video subtitles to: subtitle_0g2n15BMh5U.en.vtt\n",
      "[youtube] 3LR3MX5PECc: Downloading webpage\n",
      "[youtube] 3LR3MX5PECc: Downloading video info webpage\n",
      "[youtube] 3LR3MX5PECc: Looking for automatic captions\n",
      "[info] Writing video subtitles to: subtitle_3LR3MX5PECc.en.vtt\n",
      "[youtube] xk2EcKS892E: Downloading webpage\n",
      "[youtube] xk2EcKS892E: Downloading video info webpage\n",
      "[youtube] xk2EcKS892E: Looking for automatic captions\n",
      "[youtube] xk2EcKS892E: Downloading MPD manifest\n",
      "[youtube] xk2EcKS892E: Downloading MPD manifest\n",
      "[info] Writing video subtitles to: subtitle_xk2EcKS892E.en.vtt\n",
      "[youtube] tiWHWQJM5i0: Downloading webpage\n",
      "[youtube] tiWHWQJM5i0: Downloading video info webpage\n",
      "[youtube] tiWHWQJM5i0: Looking for automatic captions\n",
      "[info] Writing video subtitles to: subtitle_tiWHWQJM5i0.en.vtt\n",
      "[youtube] MerXsgAxBFQ: Downloading webpage\n",
      "[youtube] MerXsgAxBFQ: Downloading video info webpage\n",
      "[youtube] MerXsgAxBFQ: Looking for automatic captions\n",
      "[youtube] MerXsgAxBFQ: Downloading MPD manifest\n",
      "[youtube] MerXsgAxBFQ: Downloading MPD manifest\n",
      "[info] Writing video subtitles to: subtitle_MerXsgAxBFQ.en.vtt\n",
      "[youtube] yrO4-r8AiG0: Downloading webpage\n",
      "[youtube] yrO4-r8AiG0: Downloading video info webpage\n",
      "[youtube] yrO4-r8AiG0: Looking for automatic captions\n"
     ]
    },
    {
     "name": "stderr",
     "output_type": "stream",
     "text": [
      "WARNING: Couldn't find automatic captions for yrO4-r8AiG0\n"
     ]
    },
    {
     "name": "stdout",
     "output_type": "stream",
     "text": [
      "[youtube] yrO4-r8AiG0: Downloading MPD manifest\n",
      "[youtube] yrO4-r8AiG0: Downloading MPD manifest\n",
      "No captions for yrO4-r8AiG0\n",
      "[youtube] Ax7rJ4IYaUE: Downloading webpage\n",
      "[youtube] Ax7rJ4IYaUE: Downloading video info webpage\n",
      "[youtube] Ax7rJ4IYaUE: Looking for automatic captions\n",
      "[info] Writing video subtitles to: subtitle_Ax7rJ4IYaUE.en.vtt\n",
      "[youtube] ntqt7S7WUxw: Downloading webpage\n",
      "[youtube] ntqt7S7WUxw: Downloading video info webpage\n",
      "[youtube] ntqt7S7WUxw: Looking for automatic captions\n",
      "[info] Writing video subtitles to: subtitle_ntqt7S7WUxw.en.vtt\n",
      "[youtube] qS3SVVV1aEk: Downloading webpage\n",
      "[youtube] qS3SVVV1aEk: Downloading video info webpage\n",
      "[youtube] qS3SVVV1aEk: Looking for automatic captions\n",
      "[info] Writing video subtitles to: subtitle_qS3SVVV1aEk.en.vtt\n",
      "[youtube] 9uZSLooaKE8: Downloading webpage\n",
      "[youtube] 9uZSLooaKE8: Downloading video info webpage\n",
      "[youtube] 9uZSLooaKE8: Looking for automatic captions\n",
      "[youtube] 9uZSLooaKE8: Downloading MPD manifest\n",
      "[youtube] 9uZSLooaKE8: Downloading MPD manifest\n",
      "[info] Writing video subtitles to: subtitle_9uZSLooaKE8.en.vtt\n",
      "[youtube] QWgib1Qve9w: Downloading webpage\n",
      "[youtube] QWgib1Qve9w: Downloading video info webpage\n",
      "[youtube] QWgib1Qve9w: Looking for automatic captions\n"
     ]
    },
    {
     "name": "stderr",
     "output_type": "stream",
     "text": [
      "WARNING: Couldn't find automatic captions for QWgib1Qve9w\n"
     ]
    },
    {
     "name": "stdout",
     "output_type": "stream",
     "text": [
      "No captions for QWgib1Qve9w\n",
      "[youtube] MiY0m3fSMyk: Downloading webpage\n",
      "[youtube] MiY0m3fSMyk: Downloading video info webpage\n",
      "[youtube] MiY0m3fSMyk: Looking for automatic captions\n",
      "[info] Writing video subtitles to: subtitle_MiY0m3fSMyk.en.vtt\n",
      "[youtube] SVHNUL464ZE: Downloading webpage\n",
      "[youtube] SVHNUL464ZE: Downloading video info webpage\n",
      "[youtube] SVHNUL464ZE: Looking for automatic captions\n",
      "[info] Writing video subtitles to: subtitle_SVHNUL464ZE.en.vtt\n",
      "[youtube] xcjlZHf61yM: Downloading webpage\n",
      "[youtube] xcjlZHf61yM: Downloading video info webpage\n",
      "[youtube] xcjlZHf61yM: Looking for automatic captions\n",
      "[info] Writing video subtitles to: subtitle_xcjlZHf61yM.en.vtt\n",
      "[youtube] uxZZ2Rjoamg: Downloading webpage\n",
      "[youtube] uxZZ2Rjoamg: Downloading video info webpage\n",
      "[youtube] uxZZ2Rjoamg: Looking for automatic captions\n",
      "[info] Writing video subtitles to: subtitle_uxZZ2Rjoamg.en.vtt\n",
      "[youtube] 0WjsixRk4e8: Downloading webpage\n",
      "[youtube] 0WjsixRk4e8: Downloading video info webpage\n",
      "[youtube] 0WjsixRk4e8: Looking for automatic captions\n",
      "[info] Writing video subtitles to: subtitle_0WjsixRk4e8.en.vtt\n",
      "[youtube] 8UCP8maE-VQ: Downloading webpage\n",
      "[youtube] 8UCP8maE-VQ: Downloading video info webpage\n",
      "[youtube] 8UCP8maE-VQ: Looking for automatic captions\n"
     ]
    },
    {
     "name": "stderr",
     "output_type": "stream",
     "text": [
      "WARNING: Couldn't find automatic captions for 8UCP8maE-VQ\n"
     ]
    },
    {
     "name": "stdout",
     "output_type": "stream",
     "text": [
      "No captions for 8UCP8maE-VQ\n",
      "[youtube] X3TxE6-lmHk: Downloading webpage\n",
      "[youtube] X3TxE6-lmHk: Downloading video info webpage\n",
      "[youtube] X3TxE6-lmHk: Looking for automatic captions\n",
      "[info] Writing video subtitles to: subtitle_X3TxE6-lmHk.en.vtt\n",
      "[youtube] nREVwzpSo-o: Downloading webpage\n",
      "[youtube] nREVwzpSo-o: Downloading video info webpage\n",
      "[youtube] nREVwzpSo-o: Looking for automatic captions\n",
      "[info] Writing video subtitles to: subtitle_nREVwzpSo-o.en.vtt\n",
      "[youtube] UCAyLEiDKTQ: Downloading webpage\n",
      "[youtube] UCAyLEiDKTQ: Downloading video info webpage\n",
      "[youtube] UCAyLEiDKTQ: Looking for automatic captions\n",
      "[info] Writing video subtitles to: subtitle_UCAyLEiDKTQ.en.vtt\n",
      "[youtube] uVVUdpHV7Zw: Downloading webpage\n",
      "[youtube] uVVUdpHV7Zw: Downloading video info webpage\n",
      "[youtube] uVVUdpHV7Zw: Looking for automatic captions\n",
      "[info] Writing video subtitles to: subtitle_uVVUdpHV7Zw.en.vtt\n",
      "[youtube] vrzVMdTjr60: Downloading webpage\n",
      "[youtube] vrzVMdTjr60: Downloading video info webpage\n",
      "[youtube] vrzVMdTjr60: Looking for automatic captions\n"
     ]
    },
    {
     "name": "stderr",
     "output_type": "stream",
     "text": [
      "WARNING: Couldn't find automatic captions for vrzVMdTjr60\n"
     ]
    },
    {
     "name": "stdout",
     "output_type": "stream",
     "text": [
      "No captions for vrzVMdTjr60\n",
      "[youtube] Fjaotundslo: Downloading webpage\n",
      "[youtube] Fjaotundslo: Downloading video info webpage\n",
      "[youtube] Fjaotundslo: Looking for automatic captions\n",
      "[info] Writing video subtitles to: subtitle_Fjaotundslo.en.vtt\n",
      "[youtube] u6M0J-2uzbU: Downloading webpage\n",
      "[youtube] u6M0J-2uzbU: Downloading video info webpage\n",
      "[youtube] u6M0J-2uzbU: Looking for automatic captions\n",
      "[youtube] u6M0J-2uzbU: Downloading MPD manifest\n",
      "[youtube] u6M0J-2uzbU: Downloading MPD manifest\n",
      "[info] Writing video subtitles to: subtitle_u6M0J-2uzbU.en.vtt\n",
      "[youtube] LyKeBDEBdJ8: Downloading webpage\n",
      "[youtube] LyKeBDEBdJ8: Downloading video info webpage\n",
      "[youtube] LyKeBDEBdJ8: Looking for automatic captions\n",
      "[info] Writing video subtitles to: subtitle_LyKeBDEBdJ8.en.vtt\n",
      "[youtube] LqbJms9Hwio: Downloading webpage\n",
      "[youtube] LqbJms9Hwio: Downloading video info webpage\n",
      "[youtube] LqbJms9Hwio: Looking for automatic captions\n",
      "[info] Writing video subtitles to: subtitle_LqbJms9Hwio.en.vtt\n",
      "[youtube] zMoIO5Q9jY0: Downloading webpage\n",
      "[youtube] zMoIO5Q9jY0: Downloading video info webpage\n",
      "[youtube] zMoIO5Q9jY0: Looking for automatic captions\n",
      "[info] Writing video subtitles to: subtitle_zMoIO5Q9jY0.en.vtt\n",
      "[youtube] S6KZ2lFYMhM: Downloading webpage\n",
      "[youtube] S6KZ2lFYMhM: Downloading video info webpage\n",
      "[youtube] S6KZ2lFYMhM: Looking for automatic captions\n",
      "[info] Writing video subtitles to: subtitle_S6KZ2lFYMhM.en.vtt\n",
      "[youtube] lXjMSl2njc0: Downloading webpage\n",
      "[youtube] lXjMSl2njc0: Downloading video info webpage\n",
      "[youtube] lXjMSl2njc0: Looking for automatic captions\n",
      "[info] Writing video subtitles to: subtitle_lXjMSl2njc0.en.vtt\n",
      "[youtube] eZXve6LDoFU: Downloading webpage\n",
      "[youtube] eZXve6LDoFU: Downloading video info webpage\n",
      "[youtube] eZXve6LDoFU: Looking for automatic captions\n",
      "[info] Writing video subtitles to: subtitle_eZXve6LDoFU.en.vtt\n",
      "[youtube] lv-4yh1cCCo: Downloading webpage\n",
      "[youtube] lv-4yh1cCCo: Downloading video info webpage\n",
      "[youtube] lv-4yh1cCCo: Looking for automatic captions\n",
      "[info] Writing video subtitles to: subtitle_lv-4yh1cCCo.en.vtt\n",
      "[youtube] CWxRquqhx5Y: Downloading webpage\n",
      "[youtube] CWxRquqhx5Y: Downloading video info webpage\n",
      "[youtube] CWxRquqhx5Y: Looking for automatic captions\n",
      "[youtube] CWxRquqhx5Y: Downloading MPD manifest\n",
      "[youtube] CWxRquqhx5Y: Downloading MPD manifest\n",
      "[info] Writing video subtitles to: subtitle_CWxRquqhx5Y.en.vtt\n",
      "[youtube] B4U_CKfW3gE: Downloading webpage\n",
      "[youtube] B4U_CKfW3gE: Downloading video info webpage\n",
      "[youtube] B4U_CKfW3gE: Looking for automatic captions\n"
     ]
    },
    {
     "name": "stderr",
     "output_type": "stream",
     "text": [
      "WARNING: Couldn't find automatic captions for B4U_CKfW3gE\n"
     ]
    },
    {
     "name": "stdout",
     "output_type": "stream",
     "text": [
      "No captions for B4U_CKfW3gE\n",
      "[youtube] jR5yxG3g6vU: Downloading webpage\n",
      "[youtube] jR5yxG3g6vU: Downloading video info webpage\n",
      "[youtube] jR5yxG3g6vU: Looking for automatic captions\n",
      "[info] Writing video subtitles to: subtitle_jR5yxG3g6vU.en.vtt\n",
      "[youtube] fHUwjQRvF94: Downloading webpage\n",
      "[youtube] fHUwjQRvF94: Downloading video info webpage\n",
      "[youtube] fHUwjQRvF94: Looking for automatic captions\n"
     ]
    },
    {
     "name": "stderr",
     "output_type": "stream",
     "text": [
      "WARNING: Couldn't find automatic captions for fHUwjQRvF94\n"
     ]
    },
    {
     "name": "stdout",
     "output_type": "stream",
     "text": [
      "No captions for fHUwjQRvF94\n",
      "[youtube] UEvOqBjII8E: Downloading webpage\n",
      "[youtube] UEvOqBjII8E: Downloading video info webpage\n",
      "[youtube] UEvOqBjII8E: Looking for automatic captions\n",
      "[info] Writing video subtitles to: subtitle_UEvOqBjII8E.en.vtt\n",
      "[youtube] S2Es2gFPHug: Downloading webpage\n",
      "[youtube] S2Es2gFPHug: Downloading video info webpage\n",
      "[youtube] S2Es2gFPHug: Looking for automatic captions\n",
      "[info] Writing video subtitles to: subtitle_S2Es2gFPHug.en.vtt\n",
      "[youtube] --dRo10Z-wo: Downloading webpage\n",
      "[youtube] --dRo10Z-wo: Downloading video info webpage\n",
      "[youtube] --dRo10Z-wo: Looking for automatic captions\n",
      "[info] Writing video subtitles to: subtitle_--dRo10Z-wo.en.vtt\n",
      "[youtube] Zt7wVeq9iNk: Downloading webpage\n",
      "[youtube] Zt7wVeq9iNk: Downloading video info webpage\n",
      "[youtube] Zt7wVeq9iNk: Looking for automatic captions\n"
     ]
    },
    {
     "name": "stderr",
     "output_type": "stream",
     "text": [
      "WARNING: Couldn't find automatic captions for Zt7wVeq9iNk\n"
     ]
    },
    {
     "name": "stdout",
     "output_type": "stream",
     "text": [
      "No captions for Zt7wVeq9iNk\n",
      "[youtube] -TgZj7FCdKE: Downloading webpage\n",
      "[youtube] -TgZj7FCdKE: Downloading video info webpage\n",
      "[youtube] -TgZj7FCdKE: Looking for automatic captions\n"
     ]
    },
    {
     "name": "stderr",
     "output_type": "stream",
     "text": [
      "WARNING: Couldn't find automatic captions for -TgZj7FCdKE\n"
     ]
    },
    {
     "name": "stdout",
     "output_type": "stream",
     "text": [
      "No captions for -TgZj7FCdKE\n",
      "[youtube] hP60xbzIfVU: Downloading webpage\n",
      "[youtube] hP60xbzIfVU: Downloading video info webpage\n",
      "[youtube] hP60xbzIfVU: Looking for automatic captions\n",
      "[info] Writing video subtitles to: subtitle_hP60xbzIfVU.en.vtt\n",
      "[youtube] 90Fz6r0Njr0: Downloading webpage\n",
      "[youtube] 90Fz6r0Njr0: Downloading video info webpage\n",
      "[youtube] 90Fz6r0Njr0: Looking for automatic captions\n",
      "[info] Writing video subtitles to: subtitle_90Fz6r0Njr0.en.vtt\n",
      "[youtube] TANhs1RzGKM: Downloading webpage\n",
      "[youtube] TANhs1RzGKM: Downloading video info webpage\n",
      "[youtube] TANhs1RzGKM: Looking for automatic captions\n",
      "[info] Writing video subtitles to: subtitle_TANhs1RzGKM.en.vtt\n",
      "[youtube] 00Agq_Mr9bg: Downloading webpage\n",
      "[youtube] 00Agq_Mr9bg: Downloading video info webpage\n",
      "[youtube] 00Agq_Mr9bg: Looking for automatic captions\n",
      "[youtube] 00Agq_Mr9bg: Downloading MPD manifest\n",
      "[youtube] 00Agq_Mr9bg: Downloading MPD manifest\n",
      "[info] Writing video subtitles to: subtitle_00Agq_Mr9bg.en.vtt\n",
      "[youtube] AJ-1Qe509pQ: Downloading webpage\n",
      "[youtube] AJ-1Qe509pQ: Downloading video info webpage\n",
      "[youtube] AJ-1Qe509pQ: Looking for automatic captions\n",
      "[info] Writing video subtitles to: subtitle_AJ-1Qe509pQ.en.vtt\n",
      "[youtube] H_VkSQMtqbc: Downloading webpage\n",
      "[youtube] H_VkSQMtqbc: Downloading video info webpage\n",
      "[youtube] H_VkSQMtqbc: Looking for automatic captions\n",
      "[info] Writing video subtitles to: subtitle_H_VkSQMtqbc.en.vtt\n",
      "[youtube] X7WZWpF4yN0: Downloading webpage\n",
      "[youtube] X7WZWpF4yN0: Downloading video info webpage\n",
      "[youtube] X7WZWpF4yN0: Looking for automatic captions\n"
     ]
    },
    {
     "name": "stderr",
     "output_type": "stream",
     "text": [
      "WARNING: Couldn't find automatic captions for X7WZWpF4yN0\n"
     ]
    },
    {
     "name": "stdout",
     "output_type": "stream",
     "text": [
      "No captions for X7WZWpF4yN0\n",
      "[youtube] yfdiFhhscdk: Downloading webpage\n",
      "[youtube] yfdiFhhscdk: Downloading video info webpage\n",
      "[youtube] yfdiFhhscdk: Looking for automatic captions\n",
      "[info] Writing video subtitles to: subtitle_yfdiFhhscdk.en.vtt\n",
      "[youtube] UgHwezFIm-o: Downloading webpage\n",
      "[youtube] UgHwezFIm-o: Downloading video info webpage\n",
      "[youtube] UgHwezFIm-o: Looking for automatic captions\n",
      "[info] Writing video subtitles to: subtitle_UgHwezFIm-o.en.vtt\n",
      "[youtube] SVhbBicOFS0: Downloading webpage\n",
      "[youtube] SVhbBicOFS0: Downloading video info webpage\n",
      "[youtube] SVhbBicOFS0: Looking for automatic captions\n",
      "[youtube] SVhbBicOFS0: Downloading MPD manifest\n",
      "[youtube] SVhbBicOFS0: Downloading MPD manifest\n",
      "[info] Writing video subtitles to: subtitle_SVhbBicOFS0.en.vtt\n",
      "[youtube] tT3bKLhNNdg: Downloading webpage\n",
      "[youtube] tT3bKLhNNdg: Downloading video info webpage\n",
      "[youtube] tT3bKLhNNdg: Looking for automatic captions\n"
     ]
    },
    {
     "name": "stderr",
     "output_type": "stream",
     "text": [
      "WARNING: Couldn't find automatic captions for tT3bKLhNNdg\n"
     ]
    },
    {
     "name": "stdout",
     "output_type": "stream",
     "text": [
      "No captions for tT3bKLhNNdg\n",
      "[youtube] vygZLOtMQD0: Downloading webpage\n",
      "[youtube] vygZLOtMQD0: Downloading video info webpage\n",
      "[youtube] vygZLOtMQD0: Looking for automatic captions\n",
      "[info] Writing video subtitles to: subtitle_vygZLOtMQD0.en.vtt\n",
      "[youtube] akuIGtvRxow: Downloading webpage\n",
      "[youtube] akuIGtvRxow: Downloading video info webpage\n",
      "[youtube] akuIGtvRxow: Looking for automatic captions\n",
      "[youtube] akuIGtvRxow: Downloading MPD manifest\n",
      "[youtube] akuIGtvRxow: Downloading MPD manifest\n",
      "[info] Writing video subtitles to: subtitle_akuIGtvRxow.en.vtt\n",
      "[youtube] RUnpFupoMHk: Downloading webpage\n",
      "[youtube] RUnpFupoMHk: Downloading video info webpage\n",
      "[youtube] RUnpFupoMHk: Looking for automatic captions\n"
     ]
    },
    {
     "name": "stderr",
     "output_type": "stream",
     "text": [
      "WARNING: Couldn't find automatic captions for RUnpFupoMHk\n"
     ]
    },
    {
     "name": "stdout",
     "output_type": "stream",
     "text": [
      "No captions for RUnpFupoMHk\n",
      "[youtube] H6_SX4Jo_5A: Downloading webpage\n",
      "[youtube] H6_SX4Jo_5A: Downloading video info webpage\n",
      "[youtube] H6_SX4Jo_5A: Looking for automatic captions\n",
      "[youtube] H6_SX4Jo_5A: Downloading MPD manifest\n",
      "[youtube] H6_SX4Jo_5A: Downloading MPD manifest\n",
      "[info] Writing video subtitles to: subtitle_H6_SX4Jo_5A.en.vtt\n",
      "[youtube] _78ManltqAI: Downloading webpage\n",
      "[youtube] _78ManltqAI: Downloading video info webpage\n",
      "[youtube] _78ManltqAI: Looking for automatic captions\n",
      "[info] Writing video subtitles to: subtitle__78ManltqAI.en.vtt\n",
      "[youtube] dHyw-AHIHCM: Downloading webpage\n",
      "[youtube] dHyw-AHIHCM: Downloading video info webpage\n",
      "[youtube] dHyw-AHIHCM: Looking for automatic captions\n",
      "[info] Writing video subtitles to: subtitle_dHyw-AHIHCM.en.vtt\n",
      "[youtube] OcxC1rSDc5c: Downloading webpage\n",
      "[youtube] OcxC1rSDc5c: Downloading video info webpage\n",
      "[youtube] OcxC1rSDc5c: Looking for automatic captions\n",
      "[info] Writing video subtitles to: subtitle_OcxC1rSDc5c.en.vtt\n",
      "[youtube] yoYHpeBFh1U: Downloading webpage\n",
      "[youtube] yoYHpeBFh1U: Downloading video info webpage\n",
      "[youtube] yoYHpeBFh1U: Looking for automatic captions\n"
     ]
    },
    {
     "name": "stderr",
     "output_type": "stream",
     "text": [
      "WARNING: Couldn't find automatic captions for yoYHpeBFh1U\n"
     ]
    },
    {
     "name": "stdout",
     "output_type": "stream",
     "text": [
      "No captions for yoYHpeBFh1U\n",
      "[youtube] XjHGSO3pZ0E: Downloading webpage\n",
      "[youtube] XjHGSO3pZ0E: Downloading video info webpage\n",
      "[youtube] XjHGSO3pZ0E: Looking for automatic captions\n",
      "[info] Writing video subtitles to: subtitle_XjHGSO3pZ0E.en.vtt\n",
      "[youtube] SVgv3LSxT8w: Downloading webpage\n",
      "[youtube] SVgv3LSxT8w: Downloading video info webpage\n",
      "[youtube] SVgv3LSxT8w: Looking for automatic captions\n",
      "[info] Writing video subtitles to: subtitle_SVgv3LSxT8w.en.vtt\n",
      "[youtube] KEUOKvbFscc: Downloading webpage\n",
      "[youtube] KEUOKvbFscc: Downloading video info webpage\n",
      "[youtube] KEUOKvbFscc: Looking for automatic captions\n",
      "[info] Writing video subtitles to: subtitle_KEUOKvbFscc.en.vtt\n",
      "[youtube] FiCHAlOjqYk: Downloading webpage\n",
      "[youtube] FiCHAlOjqYk: Downloading video info webpage\n",
      "[youtube] FiCHAlOjqYk: Looking for automatic captions\n",
      "[youtube] FiCHAlOjqYk: Downloading MPD manifest\n",
      "[youtube] FiCHAlOjqYk: Downloading MPD manifest\n",
      "[info] Writing video subtitles to: subtitle_FiCHAlOjqYk.en.vtt\n",
      "[youtube] 8pKtMAWKc7Q: Downloading webpage\n",
      "[youtube] 8pKtMAWKc7Q: Downloading video info webpage\n",
      "[youtube] 8pKtMAWKc7Q: Looking for automatic captions\n",
      "[info] Writing video subtitles to: subtitle_8pKtMAWKc7Q.en.vtt\n",
      "[youtube] YvkgSBEG55w: Downloading webpage\n",
      "[youtube] rJqc8x1T6Kk: Downloading webpage\n",
      "[youtube] rJqc8x1T6Kk: Downloading embed webpage\n",
      "[youtube] rJqc8x1T6Kk: Refetching age-gated info webpage\n",
      "[youtube] rJqc8x1T6Kk: Looking for automatic captions\n"
     ]
    },
    {
     "name": "stderr",
     "output_type": "stream",
     "text": [
      "WARNING: Couldn't find automatic captions for rJqc8x1T6Kk\n"
     ]
    },
    {
     "name": "stdout",
     "output_type": "stream",
     "text": [
      "No captions for YvkgSBEG55w\n",
      "[youtube] AJdwMenySyM: Downloading webpage\n",
      "[youtube] AJdwMenySyM: Downloading video info webpage\n",
      "[youtube] AJdwMenySyM: Looking for automatic captions\n",
      "[info] Writing video subtitles to: subtitle_AJdwMenySyM.en.vtt\n",
      "[youtube] POo-dFbUoD0: Downloading webpage\n",
      "[youtube] POo-dFbUoD0: Downloading video info webpage\n",
      "[youtube] POo-dFbUoD0: Looking for automatic captions\n",
      "[info] Writing video subtitles to: subtitle_POo-dFbUoD0.en.vtt\n",
      "[youtube] x8zcbg0nmDk: Downloading webpage\n",
      "[youtube] x8zcbg0nmDk: Downloading video info webpage\n",
      "[youtube] x8zcbg0nmDk: Looking for automatic captions\n",
      "[youtube] x8zcbg0nmDk: Downloading MPD manifest\n",
      "[youtube] x8zcbg0nmDk: Downloading MPD manifest\n",
      "[info] Writing video subtitles to: subtitle_x8zcbg0nmDk.en.vtt\n",
      "[youtube] efbPbd0DszA: Downloading webpage\n",
      "[youtube] efbPbd0DszA: Downloading video info webpage\n",
      "[youtube] efbPbd0DszA: Looking for automatic captions\n",
      "[youtube] efbPbd0DszA: Downloading MPD manifest\n",
      "[info] Writing video subtitles to: subtitle_efbPbd0DszA.en.vtt\n",
      "[youtube] 4m51s5DxJSE: Downloading webpage\n",
      "[youtube] 4m51s5DxJSE: Downloading video info webpage\n",
      "[youtube] 4m51s5DxJSE: Looking for automatic captions\n",
      "[info] Writing video subtitles to: subtitle_4m51s5DxJSE.en.vtt\n",
      "[youtube] XK6e9_WbTo4: Downloading webpage\n",
      "[youtube] XK6e9_WbTo4: Downloading video info webpage\n",
      "[youtube] XK6e9_WbTo4: Looking for automatic captions\n",
      "[info] Writing video subtitles to: subtitle_XK6e9_WbTo4.en.vtt\n",
      "[youtube] UYm_budBFHg: Downloading webpage\n",
      "[youtube] UYm_budBFHg: Downloading video info webpage\n",
      "[youtube] UYm_budBFHg: Looking for automatic captions\n",
      "[youtube] UYm_budBFHg: Downloading MPD manifest\n",
      "[youtube] UYm_budBFHg: Downloading MPD manifest\n",
      "[info] Writing video subtitles to: subtitle_UYm_budBFHg.en.vtt\n",
      "[youtube] Mww-QYYMHk0: Downloading webpage\n",
      "[youtube] Mww-QYYMHk0: Downloading video info webpage\n",
      "[youtube] Mww-QYYMHk0: Looking for automatic captions\n",
      "[info] Writing video subtitles to: subtitle_Mww-QYYMHk0.en.vtt\n",
      "[youtube] SyTmh5gPZFg: Downloading webpage\n",
      "[youtube] SyTmh5gPZFg: Downloading video info webpage\n",
      "[youtube] SyTmh5gPZFg: Looking for automatic captions\n",
      "[info] Writing video subtitles to: subtitle_SyTmh5gPZFg.en.vtt\n",
      "[youtube] i0ukJA3sWJw: Downloading webpage\n",
      "[youtube] i0ukJA3sWJw: Downloading video info webpage\n",
      "[youtube] i0ukJA3sWJw: Looking for automatic captions\n",
      "[youtube] i0ukJA3sWJw: Downloading MPD manifest\n",
      "[youtube] i0ukJA3sWJw: Downloading MPD manifest\n",
      "[info] Writing video subtitles to: subtitle_i0ukJA3sWJw.en.vtt\n",
      "[youtube] bE-JzxydiGc: Downloading webpage\n",
      "[youtube] bE-JzxydiGc: Downloading video info webpage\n",
      "[youtube] bE-JzxydiGc: Looking for automatic captions\n",
      "[youtube] bE-JzxydiGc: Downloading MPD manifest\n",
      "[info] Writing video subtitles to: subtitle_bE-JzxydiGc.en.vtt\n",
      "[youtube] 9_XGz7LJls4: Downloading webpage\n",
      "[youtube] 9_XGz7LJls4: Downloading video info webpage\n",
      "[youtube] 9_XGz7LJls4: Looking for automatic captions\n",
      "[info] Writing video subtitles to: subtitle_9_XGz7LJls4.en.vtt\n",
      "[youtube] YX1OTve0gHo: Downloading webpage\n",
      "[youtube] YX1OTve0gHo: Downloading video info webpage\n",
      "[youtube] YX1OTve0gHo: Looking for automatic captions\n"
     ]
    },
    {
     "name": "stderr",
     "output_type": "stream",
     "text": [
      "WARNING: Couldn't find automatic captions for YX1OTve0gHo\n"
     ]
    },
    {
     "name": "stdout",
     "output_type": "stream",
     "text": [
      "No captions for YX1OTve0gHo\n",
      "[youtube] 78T5CqvmljY: Downloading webpage\n",
      "[youtube] 78T5CqvmljY: Downloading video info webpage\n",
      "[youtube] 78T5CqvmljY: Looking for automatic captions\n",
      "[youtube] 78T5CqvmljY: Downloading MPD manifest\n",
      "[youtube] 78T5CqvmljY: Downloading MPD manifest\n",
      "[info] Writing video subtitles to: subtitle_78T5CqvmljY.en.vtt\n",
      "[youtube] MgU-VICR5ME: Downloading webpage\n",
      "[youtube] MgU-VICR5ME: Downloading video info webpage\n",
      "[youtube] MgU-VICR5ME: Looking for automatic captions\n",
      "[info] Writing video subtitles to: subtitle_MgU-VICR5ME.en.vtt\n",
      "[youtube] RT_s6luaBag: Downloading webpage\n",
      "[youtube] RT_s6luaBag: Downloading video info webpage\n",
      "[youtube] RT_s6luaBag: Looking for automatic captions\n",
      "[youtube] RT_s6luaBag: Downloading MPD manifest\n",
      "[info] Writing video subtitles to: subtitle_RT_s6luaBag.en.vtt\n",
      "[youtube] AFewNTLD4f4: Downloading webpage\n",
      "[youtube] AFewNTLD4f4: Downloading video info webpage\n",
      "[youtube] AFewNTLD4f4: Looking for automatic captions\n",
      "[info] Writing video subtitles to: subtitle_AFewNTLD4f4.en.vtt\n",
      "[youtube] mmx0CzvcxnQ: Downloading webpage\n",
      "[youtube] mmx0CzvcxnQ: Downloading video info webpage\n",
      "[youtube] mmx0CzvcxnQ: Looking for automatic captions\n",
      "[youtube] mmx0CzvcxnQ: Downloading MPD manifest\n",
      "[youtube] mmx0CzvcxnQ: Downloading MPD manifest\n",
      "[info] Writing video subtitles to: subtitle_mmx0CzvcxnQ.en.vtt\n",
      "[youtube] OEEgOFlc1rA: Downloading webpage\n",
      "[youtube] OEEgOFlc1rA: Downloading video info webpage\n",
      "[youtube] OEEgOFlc1rA: Looking for automatic captions\n",
      "[info] Writing video subtitles to: subtitle_OEEgOFlc1rA.en.vtt\n",
      "[youtube] PSXpR0Xojd0: Downloading webpage\n",
      "[youtube] PSXpR0Xojd0: Downloading video info webpage\n",
      "[youtube] PSXpR0Xojd0: Looking for automatic captions\n",
      "[info] Writing video subtitles to: subtitle_PSXpR0Xojd0.en.vtt\n",
      "[youtube] VVV6U3davOg: Downloading webpage\n",
      "[youtube] VVV6U3davOg: Downloading video info webpage\n",
      "[youtube] VVV6U3davOg: Looking for automatic captions\n",
      "[info] Writing video subtitles to: subtitle_VVV6U3davOg.en.vtt\n",
      "[youtube] l5cZF2_MEhM: Downloading webpage\n",
      "[youtube] l5cZF2_MEhM: Downloading video info webpage\n",
      "[youtube] l5cZF2_MEhM: Looking for automatic captions\n",
      "[info] Writing video subtitles to: subtitle_l5cZF2_MEhM.en.vtt\n",
      "[youtube] nItKQyrGZek: Downloading webpage\n",
      "[youtube] nItKQyrGZek: Downloading video info webpage\n",
      "[youtube] nItKQyrGZek: Looking for automatic captions\n",
      "[youtube] nItKQyrGZek: Downloading MPD manifest\n",
      "[youtube] nItKQyrGZek: Downloading MPD manifest\n",
      "[info] Writing video subtitles to: subtitle_nItKQyrGZek.en.vtt\n",
      "[youtube] oCvJeBZZWAE: Downloading webpage\n",
      "[youtube] oCvJeBZZWAE: Downloading video info webpage\n",
      "[youtube] oCvJeBZZWAE: Looking for automatic captions\n",
      "[info] Writing video subtitles to: subtitle_oCvJeBZZWAE.en.vtt\n",
      "[youtube] qZsq8j4xR6g: Downloading webpage\n",
      "[youtube] qZsq8j4xR6g: Downloading video info webpage\n",
      "[youtube] qZsq8j4xR6g: Looking for automatic captions\n",
      "[info] Writing video subtitles to: subtitle_qZsq8j4xR6g.en.vtt\n",
      "[youtube] b-3EdF4kr_g: Downloading webpage\n",
      "[youtube] b-3EdF4kr_g: Downloading video info webpage\n",
      "[youtube] b-3EdF4kr_g: Looking for automatic captions\n",
      "[info] Writing video subtitles to: subtitle_b-3EdF4kr_g.en.vtt\n",
      "[youtube] GAE3onT-CHs: Downloading webpage\n",
      "[youtube] GAE3onT-CHs: Downloading video info webpage\n",
      "[youtube] GAE3onT-CHs: Looking for automatic captions\n",
      "[info] Writing video subtitles to: subtitle_GAE3onT-CHs.en.vtt\n",
      "[youtube] aD2oQZxMbFA: Downloading webpage\n",
      "[youtube] aD2oQZxMbFA: Downloading video info webpage\n",
      "[youtube] aD2oQZxMbFA: Looking for automatic captions\n"
     ]
    },
    {
     "name": "stderr",
     "output_type": "stream",
     "text": [
      "WARNING: Couldn't find automatic captions for aD2oQZxMbFA\n"
     ]
    },
    {
     "name": "stdout",
     "output_type": "stream",
     "text": [
      "[youtube] aD2oQZxMbFA: Downloading MPD manifest\n",
      "[youtube] aD2oQZxMbFA: Downloading MPD manifest\n",
      "No captions for aD2oQZxMbFA\n",
      "[youtube] II3TnI2FOAo: Downloading webpage\n",
      "[youtube] II3TnI2FOAo: Downloading video info webpage\n",
      "[youtube] II3TnI2FOAo: Looking for automatic captions\n",
      "[info] Writing video subtitles to: subtitle_II3TnI2FOAo.en.vtt\n",
      "[youtube] 6MW-_31fEmU: Downloading webpage\n",
      "[youtube] 6MW-_31fEmU: Downloading video info webpage\n",
      "[youtube] 6MW-_31fEmU: Looking for automatic captions\n",
      "[info] Writing video subtitles to: subtitle_6MW-_31fEmU.en.vtt\n",
      "[youtube] D1Ck3vmIf7Y: Downloading webpage\n",
      "[youtube] D1Ck3vmIf7Y: Downloading video info webpage\n",
      "[youtube] D1Ck3vmIf7Y: Looking for automatic captions\n",
      "[info] Writing video subtitles to: subtitle_D1Ck3vmIf7Y.en.vtt\n",
      "[youtube] DKsJxaYIlpE: Downloading webpage\n",
      "[youtube] DKsJxaYIlpE: Downloading video info webpage\n",
      "[youtube] DKsJxaYIlpE: Looking for automatic captions\n",
      "[info] Writing video subtitles to: subtitle_DKsJxaYIlpE.en.vtt\n",
      "[youtube] AjO0usqjCno: Downloading webpage\n",
      "[youtube] AjO0usqjCno: Downloading video info webpage\n",
      "[youtube] AjO0usqjCno: Looking for automatic captions\n",
      "[info] Writing video subtitles to: subtitle_AjO0usqjCno.en.vtt\n",
      "[youtube] K0B-bewcPw4: Downloading webpage\n",
      "[youtube] K0B-bewcPw4: Downloading video info webpage\n",
      "[youtube] K0B-bewcPw4: Looking for automatic captions\n",
      "[youtube] K0B-bewcPw4: Downloading MPD manifest\n",
      "[youtube] K0B-bewcPw4: Downloading MPD manifest\n",
      "[info] Writing video subtitles to: subtitle_K0B-bewcPw4.en.vtt\n",
      "[youtube] gBJhJUMsueg: Downloading webpage\n",
      "[youtube] gBJhJUMsueg: Downloading video info webpage\n",
      "[youtube] gBJhJUMsueg: Looking for automatic captions\n",
      "[info] Writing video subtitles to: subtitle_gBJhJUMsueg.en.vtt\n",
      "[youtube] ZhfsonxyrCc: Downloading webpage\n",
      "[youtube] ZhfsonxyrCc: Downloading video info webpage\n",
      "[youtube] ZhfsonxyrCc: Looking for automatic captions\n",
      "[info] Writing video subtitles to: subtitle_ZhfsonxyrCc.en.vtt\n",
      "[youtube] bdXTPNjPyK4: Downloading webpage\n",
      "[youtube] bdXTPNjPyK4: Downloading video info webpage\n",
      "[youtube] bdXTPNjPyK4: Looking for automatic captions\n",
      "[info] Writing video subtitles to: subtitle_bdXTPNjPyK4.en.vtt\n",
      "[youtube] ot6odQ06ZN8: Downloading webpage\n",
      "[youtube] ot6odQ06ZN8: Downloading video info webpage\n",
      "[youtube] ot6odQ06ZN8: Looking for automatic captions\n"
     ]
    },
    {
     "name": "stderr",
     "output_type": "stream",
     "text": [
      "WARNING: Couldn't find automatic captions for ot6odQ06ZN8\n"
     ]
    },
    {
     "name": "stdout",
     "output_type": "stream",
     "text": [
      "No captions for ot6odQ06ZN8\n",
      "[youtube] tgg4iJ8Cwto: Downloading webpage\n",
      "[youtube] tgg4iJ8Cwto: Downloading video info webpage\n",
      "[youtube] tgg4iJ8Cwto: Looking for automatic captions\n",
      "[youtube] tgg4iJ8Cwto: Downloading MPD manifest\n",
      "[youtube] tgg4iJ8Cwto: Downloading MPD manifest\n",
      "[info] Writing video subtitles to: subtitle_tgg4iJ8Cwto.en.vtt\n",
      "[youtube] ycYxyxMhkOY: Downloading webpage\n",
      "[youtube] ycYxyxMhkOY: Downloading video info webpage\n",
      "[youtube] ycYxyxMhkOY: Looking for automatic captions\n"
     ]
    },
    {
     "name": "stderr",
     "output_type": "stream",
     "text": [
      "WARNING: Couldn't find automatic captions for ycYxyxMhkOY\n"
     ]
    },
    {
     "name": "stdout",
     "output_type": "stream",
     "text": [
      "No captions for ycYxyxMhkOY\n",
      "[youtube] hgGE3VH_LpE: Downloading webpage\n",
      "[youtube] hgGE3VH_LpE: Downloading video info webpage\n",
      "[youtube] hgGE3VH_LpE: Looking for automatic captions\n",
      "[info] Writing video subtitles to: subtitle_hgGE3VH_LpE.en.vtt\n",
      "[youtube] EV_VQAF9N6g: Downloading webpage\n",
      "[youtube] EV_VQAF9N6g: Downloading video info webpage\n",
      "[youtube] EV_VQAF9N6g: Looking for automatic captions\n",
      "[info] Writing video subtitles to: subtitle_EV_VQAF9N6g.en.vtt\n",
      "[youtube] _5Cj1ZrKX28: Downloading webpage\n",
      "[youtube] _5Cj1ZrKX28: Downloading video info webpage\n",
      "[youtube] _5Cj1ZrKX28: Looking for automatic captions\n",
      "[info] Writing video subtitles to: subtitle__5Cj1ZrKX28.en.vtt\n",
      "[youtube] WIW3j6lSqeo: Downloading webpage\n",
      "[youtube] WIW3j6lSqeo: Downloading video info webpage\n",
      "[youtube] WIW3j6lSqeo: Looking for automatic captions\n",
      "[info] Writing video subtitles to: subtitle_WIW3j6lSqeo.en.vtt\n",
      "[youtube] -fpsqVKPWD8: Downloading webpage\n",
      "[youtube] -fpsqVKPWD8: Downloading video info webpage\n",
      "[youtube] -fpsqVKPWD8: Looking for automatic captions\n",
      "[info] Writing video subtitles to: subtitle_-fpsqVKPWD8.en.vtt\n",
      "[youtube] w9GMccVsEyQ: Downloading webpage\n",
      "[youtube] w9GMccVsEyQ: Downloading video info webpage\n",
      "[youtube] w9GMccVsEyQ: Looking for automatic captions\n",
      "[info] Writing video subtitles to: subtitle_w9GMccVsEyQ.en.vtt\n",
      "[youtube] _kScKSTPBAQ: Downloading webpage\n",
      "[youtube] _kScKSTPBAQ: Downloading video info webpage\n",
      "[youtube] _kScKSTPBAQ: Looking for automatic captions\n",
      "[youtube] _kScKSTPBAQ: Downloading MPD manifest\n",
      "[youtube] _kScKSTPBAQ: Downloading MPD manifest\n",
      "[info] Writing video subtitles to: subtitle__kScKSTPBAQ.en.vtt\n",
      "[youtube] Jfx7qIPtIIE: Downloading webpage\n",
      "[youtube] Jfx7qIPtIIE: Downloading video info webpage\n",
      "[youtube] Jfx7qIPtIIE: Looking for automatic captions\n"
     ]
    },
    {
     "name": "stderr",
     "output_type": "stream",
     "text": [
      "WARNING: Couldn't find automatic captions for Jfx7qIPtIIE\n"
     ]
    },
    {
     "name": "stdout",
     "output_type": "stream",
     "text": [
      "No captions for Jfx7qIPtIIE\n",
      "[youtube] Kkhz94ooejg: Downloading webpage\n",
      "[youtube] Kkhz94ooejg: Downloading video info webpage\n",
      "[youtube] Kkhz94ooejg: Looking for automatic captions\n",
      "[info] Writing video subtitles to: subtitle_Kkhz94ooejg.en.vtt\n",
      "[youtube] gk9BfA-WQb0: Downloading webpage\n",
      "[youtube] gk9BfA-WQb0: Downloading video info webpage\n",
      "[youtube] gk9BfA-WQb0: Looking for automatic captions\n",
      "[info] Writing video subtitles to: subtitle_gk9BfA-WQb0.en.vtt\n",
      "[youtube] sJjhtwri8J0: Downloading webpage\n",
      "[youtube] sJjhtwri8J0: Downloading video info webpage\n",
      "[youtube] sJjhtwri8J0: Looking for automatic captions\n"
     ]
    },
    {
     "name": "stderr",
     "output_type": "stream",
     "text": [
      "WARNING: Couldn't find automatic captions for sJjhtwri8J0\n"
     ]
    },
    {
     "name": "stdout",
     "output_type": "stream",
     "text": [
      "No captions for sJjhtwri8J0\n",
      "[youtube] 3IUcCaA-5lk: Downloading webpage\n",
      "[youtube] 3IUcCaA-5lk: Downloading video info webpage\n",
      "[youtube] 3IUcCaA-5lk: Looking for automatic captions\n",
      "[youtube] 3IUcCaA-5lk: Downloading MPD manifest\n",
      "[youtube] 3IUcCaA-5lk: Downloading MPD manifest\n",
      "[info] Writing video subtitles to: subtitle_3IUcCaA-5lk.en.vtt\n",
      "[youtube] ypJHEbkL9fc: Downloading webpage\n",
      "[youtube] ypJHEbkL9fc: Downloading video info webpage\n",
      "[youtube] ypJHEbkL9fc: Looking for automatic captions\n",
      "[info] Writing video subtitles to: subtitle_ypJHEbkL9fc.en.vtt\n",
      "[youtube] 3gw9nj4Khk8: Downloading webpage\n",
      "[youtube] 3gw9nj4Khk8: Downloading video info webpage\n",
      "[youtube] 3gw9nj4Khk8: Looking for automatic captions\n",
      "[info] Writing video subtitles to: subtitle_3gw9nj4Khk8.en.vtt\n",
      "[youtube] OfSwpT0ehNo: Downloading webpage\n",
      "[youtube] OfSwpT0ehNo: Downloading video info webpage\n",
      "[youtube] OfSwpT0ehNo: Looking for automatic captions\n",
      "[info] Writing video subtitles to: subtitle_OfSwpT0ehNo.en.vtt\n",
      "[youtube] snlpN7N_4Wk: Downloading webpage\n",
      "[youtube] snlpN7N_4Wk: Downloading video info webpage\n",
      "[youtube] snlpN7N_4Wk: Looking for automatic captions\n",
      "[info] Writing video subtitles to: subtitle_snlpN7N_4Wk.en.vtt\n",
      "[youtube] z2hQSEOxy3o: Downloading webpage\n",
      "[youtube] z2hQSEOxy3o: Downloading video info webpage\n",
      "[youtube] z2hQSEOxy3o: Looking for automatic captions\n",
      "[info] Writing video subtitles to: subtitle_z2hQSEOxy3o.en.vtt\n",
      "[youtube] RxYWWeZKOkk: Downloading webpage\n",
      "[youtube] RxYWWeZKOkk: Downloading video info webpage\n",
      "[youtube] RxYWWeZKOkk: Looking for automatic captions\n",
      "[youtube] RxYWWeZKOkk: Downloading MPD manifest\n",
      "[youtube] RxYWWeZKOkk: Downloading MPD manifest\n",
      "[info] Writing video subtitles to: subtitle_RxYWWeZKOkk.en.vtt\n",
      "[youtube] 0YIE02gLquc: Downloading webpage\n",
      "[youtube] 0YIE02gLquc: Downloading video info webpage\n",
      "[youtube] 0YIE02gLquc: Looking for automatic captions\n"
     ]
    },
    {
     "name": "stderr",
     "output_type": "stream",
     "text": [
      "WARNING: Couldn't find automatic captions for 0YIE02gLquc\n"
     ]
    },
    {
     "name": "stdout",
     "output_type": "stream",
     "text": [
      "No captions for 0YIE02gLquc\n",
      "[youtube] 98L3_zHzl6Y: Downloading webpage\n",
      "[youtube] 98L3_zHzl6Y: Downloading video info webpage\n",
      "[youtube] 98L3_zHzl6Y: Looking for automatic captions\n"
     ]
    },
    {
     "name": "stderr",
     "output_type": "stream",
     "text": [
      "WARNING: Couldn't find automatic captions for 98L3_zHzl6Y\n"
     ]
    },
    {
     "name": "stdout",
     "output_type": "stream",
     "text": [
      "[youtube] 98L3_zHzl6Y: Downloading MPD manifest\n",
      "[youtube] 98L3_zHzl6Y: Downloading MPD manifest\n",
      "No captions for 98L3_zHzl6Y\n",
      "[youtube] 1Nj9OXccqUI: Downloading webpage\n",
      "[youtube] 1Nj9OXccqUI: Downloading video info webpage\n",
      "[youtube] 1Nj9OXccqUI: Looking for automatic captions\n",
      "[info] Writing video subtitles to: subtitle_1Nj9OXccqUI.en.vtt\n",
      "[youtube] 28d6EOakz3A: Downloading webpage\n",
      "[youtube] 28d6EOakz3A: Downloading video info webpage\n",
      "[youtube] 28d6EOakz3A: Looking for automatic captions\n"
     ]
    },
    {
     "name": "stderr",
     "output_type": "stream",
     "text": [
      "WARNING: Couldn't find automatic captions for 28d6EOakz3A\n"
     ]
    },
    {
     "name": "stdout",
     "output_type": "stream",
     "text": [
      "No captions for 28d6EOakz3A\n",
      "[youtube] AYqYrXmmhkg: Downloading webpage\n",
      "[youtube] AYqYrXmmhkg: Downloading video info webpage\n",
      "[youtube] AYqYrXmmhkg: Looking for automatic captions\n",
      "[info] Writing video subtitles to: subtitle_AYqYrXmmhkg.en.vtt\n",
      "[youtube] LdyXAXjlD-U: Downloading webpage\n",
      "[youtube] LdyXAXjlD-U: Downloading video info webpage\n",
      "[youtube] LdyXAXjlD-U: Looking for automatic captions\n",
      "[info] Writing video subtitles to: subtitle_LdyXAXjlD-U.en.vtt\n",
      "[youtube] IEDmyQLZZr4: Downloading webpage\n",
      "[youtube] IEDmyQLZZr4: Downloading video info webpage\n",
      "[youtube] IEDmyQLZZr4: Looking for automatic captions\n",
      "[info] Writing video subtitles to: subtitle_IEDmyQLZZr4.en.vtt\n",
      "[youtube] 74Z6M7ROPWs: Downloading webpage\n",
      "[youtube] 74Z6M7ROPWs: Downloading video info webpage\n",
      "[youtube] 74Z6M7ROPWs: Looking for automatic captions\n"
     ]
    },
    {
     "name": "stderr",
     "output_type": "stream",
     "text": [
      "WARNING: Couldn't find automatic captions for 74Z6M7ROPWs\n"
     ]
    },
    {
     "name": "stdout",
     "output_type": "stream",
     "text": [
      "No captions for 74Z6M7ROPWs\n",
      "[youtube] o9hp7H7ulfw: Downloading webpage\n",
      "[youtube] o9hp7H7ulfw: Downloading video info webpage\n",
      "[youtube] o9hp7H7ulfw: Looking for automatic captions\n",
      "[info] Writing video subtitles to: subtitle_o9hp7H7ulfw.en.vtt\n",
      "[youtube] d4MdBeOtmAc: Downloading webpage\n",
      "[youtube] d4MdBeOtmAc: Downloading video info webpage\n",
      "[youtube] d4MdBeOtmAc: Looking for automatic captions\n",
      "[info] Writing video subtitles to: subtitle_d4MdBeOtmAc.en.vtt\n",
      "[youtube] b92USGr3SMg: Downloading webpage\n",
      "[youtube] b92USGr3SMg: Downloading video info webpage\n",
      "[youtube] b92USGr3SMg: Looking for automatic captions\n",
      "[info] Writing video subtitles to: subtitle_b92USGr3SMg.en.vtt\n",
      "[youtube] 9d5rpn--FJA: Downloading webpage\n",
      "[youtube] 9d5rpn--FJA: Downloading video info webpage\n",
      "[youtube] 9d5rpn--FJA: Looking for automatic captions\n",
      "[info] Writing video subtitles to: subtitle_9d5rpn--FJA.en.vtt\n",
      "[youtube] dliIeN3dH9Q: Downloading webpage\n",
      "[youtube] dliIeN3dH9Q: Downloading video info webpage\n",
      "[youtube] dliIeN3dH9Q: Looking for automatic captions\n"
     ]
    },
    {
     "name": "stderr",
     "output_type": "stream",
     "text": [
      "WARNING: Couldn't find automatic captions for dliIeN3dH9Q\n"
     ]
    },
    {
     "name": "stdout",
     "output_type": "stream",
     "text": [
      "No captions for dliIeN3dH9Q\n",
      "[youtube] K5dGOwCaUSw: Downloading webpage\n",
      "[youtube] K5dGOwCaUSw: Downloading video info webpage\n",
      "[youtube] K5dGOwCaUSw: Looking for automatic captions\n",
      "[info] Writing video subtitles to: subtitle_K5dGOwCaUSw.en.vtt\n",
      "[youtube] I_tejqg0PrM: Downloading webpage\n",
      "[youtube] I_tejqg0PrM: Downloading video info webpage\n",
      "[youtube] I_tejqg0PrM: Looking for automatic captions\n"
     ]
    },
    {
     "name": "stderr",
     "output_type": "stream",
     "text": [
      "WARNING: Couldn't find automatic captions for I_tejqg0PrM\n"
     ]
    },
    {
     "name": "stdout",
     "output_type": "stream",
     "text": [
      "[youtube] I_tejqg0PrM: Downloading MPD manifest\n",
      "[youtube] I_tejqg0PrM: Downloading MPD manifest\n",
      "No captions for I_tejqg0PrM\n",
      "[youtube] 9JZXCtVCt_E: Downloading webpage\n",
      "[youtube] 9JZXCtVCt_E: Downloading video info webpage\n",
      "[youtube] 9JZXCtVCt_E: Looking for automatic captions\n",
      "[info] Writing video subtitles to: subtitle_9JZXCtVCt_E.en.vtt\n",
      "[youtube] h2AMIEGFkxY: Downloading webpage\n",
      "[youtube] h2AMIEGFkxY: Downloading video info webpage\n",
      "[youtube] h2AMIEGFkxY: Looking for automatic captions\n",
      "[info] Writing video subtitles to: subtitle_h2AMIEGFkxY.en.vtt\n",
      "[youtube] Oqgd4ByQlJY: Downloading webpage\n",
      "[youtube] Oqgd4ByQlJY: Downloading video info webpage\n",
      "[youtube] Oqgd4ByQlJY: Looking for automatic captions\n",
      "[info] Writing video subtitles to: subtitle_Oqgd4ByQlJY.en.vtt\n",
      "[youtube] 5yv_5IIyREs: Downloading webpage\n",
      "[youtube] 5yv_5IIyREs: Downloading video info webpage\n",
      "[youtube] 5yv_5IIyREs: Looking for automatic captions\n"
     ]
    },
    {
     "name": "stderr",
     "output_type": "stream",
     "text": [
      "WARNING: Couldn't find automatic captions for 5yv_5IIyREs\n"
     ]
    },
    {
     "name": "stdout",
     "output_type": "stream",
     "text": [
      "No captions for 5yv_5IIyREs\n",
      "[youtube] qbvo5eIW_gQ: Downloading webpage\n",
      "[youtube] qbvo5eIW_gQ: Downloading video info webpage\n",
      "[youtube] qbvo5eIW_gQ: Looking for automatic captions\n"
     ]
    },
    {
     "name": "stderr",
     "output_type": "stream",
     "text": [
      "WARNING: Couldn't find automatic captions for qbvo5eIW_gQ\n"
     ]
    },
    {
     "name": "stdout",
     "output_type": "stream",
     "text": [
      "No captions for qbvo5eIW_gQ\n",
      "[youtube] X-gOLXot_0M: Downloading webpage\n",
      "[youtube] X-gOLXot_0M: Downloading video info webpage\n",
      "[youtube] X-gOLXot_0M: Looking for automatic captions\n",
      "[info] Writing video subtitles to: subtitle_X-gOLXot_0M.en.vtt\n",
      "[youtube] 3tNvVzl8U0Y: Downloading webpage\n",
      "[youtube] 3tNvVzl8U0Y: Downloading video info webpage\n",
      "[youtube] 3tNvVzl8U0Y: Looking for automatic captions\n",
      "[info] Writing video subtitles to: subtitle_3tNvVzl8U0Y.en.vtt\n",
      "[youtube] gwiZAAsj6l8: Downloading webpage\n",
      "[youtube] gwiZAAsj6l8: Downloading video info webpage\n",
      "[youtube] gwiZAAsj6l8: Looking for automatic captions\n"
     ]
    },
    {
     "name": "stderr",
     "output_type": "stream",
     "text": [
      "WARNING: Couldn't find automatic captions for gwiZAAsj6l8\n"
     ]
    },
    {
     "name": "stdout",
     "output_type": "stream",
     "text": [
      "[youtube] gwiZAAsj6l8: Downloading MPD manifest\n",
      "[youtube] gwiZAAsj6l8: Downloading MPD manifest\n",
      "No captions for gwiZAAsj6l8\n",
      "[youtube] P4cGFe0Rh1I: Downloading webpage\n",
      "[youtube] P4cGFe0Rh1I: Downloading video info webpage\n",
      "[youtube] P4cGFe0Rh1I: Looking for automatic captions\n",
      "[youtube] P4cGFe0Rh1I: Downloading MPD manifest\n",
      "[youtube] P4cGFe0Rh1I: Downloading MPD manifest\n",
      "[info] Writing video subtitles to: subtitle_P4cGFe0Rh1I.en.vtt\n",
      "[youtube] XMXG1ydGeXU: Downloading webpage\n",
      "[youtube] XMXG1ydGeXU: Downloading video info webpage\n",
      "[youtube] XMXG1ydGeXU: Looking for automatic captions\n",
      "[info] Writing video subtitles to: subtitle_XMXG1ydGeXU.en.vtt\n",
      "[youtube] feRq4Z0ZNi4: Downloading webpage\n",
      "[youtube] feRq4Z0ZNi4: Downloading video info webpage\n",
      "[youtube] feRq4Z0ZNi4: Looking for automatic captions\n",
      "[youtube] feRq4Z0ZNi4: Downloading MPD manifest\n",
      "[youtube] feRq4Z0ZNi4: Downloading MPD manifest\n",
      "[info] Writing video subtitles to: subtitle_feRq4Z0ZNi4.en.vtt\n",
      "[youtube] 2-4g3aEiaEQ: Downloading webpage\n",
      "[youtube] 2-4g3aEiaEQ: Downloading video info webpage\n",
      "[youtube] 2-4g3aEiaEQ: Looking for automatic captions\n"
     ]
    },
    {
     "name": "stderr",
     "output_type": "stream",
     "text": [
      "WARNING: Couldn't find automatic captions for 2-4g3aEiaEQ\n"
     ]
    },
    {
     "name": "stdout",
     "output_type": "stream",
     "text": [
      "[youtube] 2-4g3aEiaEQ: Downloading MPD manifest\n",
      "[youtube] 2-4g3aEiaEQ: Downloading MPD manifest\n",
      "No captions for 2-4g3aEiaEQ\n",
      "[youtube] 0PwSVvhIImU: Downloading webpage\n",
      "[youtube] 0PwSVvhIImU: Downloading video info webpage\n",
      "[youtube] 0PwSVvhIImU: Looking for automatic captions\n",
      "[info] Writing video subtitles to: subtitle_0PwSVvhIImU.en.vtt\n",
      "[youtube] SU6Uoh4daoU: Downloading webpage\n",
      "[youtube] SU6Uoh4daoU: Downloading video info webpage\n",
      "[youtube] SU6Uoh4daoU: Looking for automatic captions\n",
      "[info] Writing video subtitles to: subtitle_SU6Uoh4daoU.en.vtt\n",
      "[youtube] Aor0jnQCHqo: Downloading webpage\n",
      "[youtube] Aor0jnQCHqo: Downloading video info webpage\n",
      "[youtube] Aor0jnQCHqo: Looking for automatic captions\n",
      "[info] Writing video subtitles to: subtitle_Aor0jnQCHqo.en.vtt\n",
      "[youtube] e_gel6LTu64: Downloading webpage\n",
      "[youtube] e_gel6LTu64: Downloading video info webpage\n",
      "[youtube] e_gel6LTu64: Looking for automatic captions\n",
      "[info] Writing video subtitles to: subtitle_e_gel6LTu64.en.vtt\n",
      "[youtube] TDs6Nyut_BA: Downloading webpage\n",
      "[youtube] TDs6Nyut_BA: Downloading video info webpage\n",
      "[youtube] TDs6Nyut_BA: Looking for automatic captions\n",
      "[info] Writing video subtitles to: subtitle_TDs6Nyut_BA.en.vtt\n",
      "[youtube] Y5Di-ObQI5Q: Downloading webpage\n",
      "[youtube] Y5Di-ObQI5Q: Downloading video info webpage\n",
      "[youtube] Y5Di-ObQI5Q: Looking for automatic captions\n"
     ]
    },
    {
     "name": "stderr",
     "output_type": "stream",
     "text": [
      "WARNING: Couldn't find automatic captions for Y5Di-ObQI5Q\n"
     ]
    },
    {
     "name": "stdout",
     "output_type": "stream",
     "text": [
      "No captions for Y5Di-ObQI5Q\n",
      "[youtube] qOp9fvafEB8: Downloading webpage\n",
      "[youtube] qOp9fvafEB8: Downloading video info webpage\n",
      "[youtube] qOp9fvafEB8: Looking for automatic captions\n",
      "[info] Writing video subtitles to: subtitle_qOp9fvafEB8.en.vtt\n",
      "[youtube] RpxM1jIPKKY: Downloading webpage\n",
      "[youtube] RpxM1jIPKKY: Downloading video info webpage\n",
      "[youtube] RpxM1jIPKKY: Looking for automatic captions\n",
      "[info] Writing video subtitles to: subtitle_RpxM1jIPKKY.en.vtt\n",
      "[youtube] QTnKi6EixuA: Downloading webpage\n",
      "[youtube] QTnKi6EixuA: Downloading video info webpage\n",
      "[youtube] QTnKi6EixuA: Looking for automatic captions\n",
      "[info] Writing video subtitles to: subtitle_QTnKi6EixuA.en.vtt\n",
      "[youtube] g23KSy7RH7E: Downloading webpage\n",
      "[youtube] g23KSy7RH7E: Downloading video info webpage\n",
      "[youtube] g23KSy7RH7E: Looking for automatic captions\n"
     ]
    },
    {
     "name": "stderr",
     "output_type": "stream",
     "text": [
      "WARNING: Couldn't find automatic captions for g23KSy7RH7E\n"
     ]
    },
    {
     "name": "stdout",
     "output_type": "stream",
     "text": [
      "No captions for g23KSy7RH7E\n",
      "[youtube] OAiXOP3VdR0: Downloading webpage\n",
      "[youtube] OAiXOP3VdR0: Downloading video info webpage\n",
      "[youtube] OAiXOP3VdR0: Looking for automatic captions\n",
      "[info] Writing video subtitles to: subtitle_OAiXOP3VdR0.en.vtt\n",
      "[youtube] kvE3rkXmyqM: Downloading webpage\n",
      "[youtube] kvE3rkXmyqM: Downloading video info webpage\n",
      "[youtube] kvE3rkXmyqM: Looking for automatic captions\n"
     ]
    },
    {
     "name": "stderr",
     "output_type": "stream",
     "text": [
      "WARNING: Couldn't find automatic captions for kvE3rkXmyqM\n"
     ]
    },
    {
     "name": "stdout",
     "output_type": "stream",
     "text": [
      "No captions for kvE3rkXmyqM\n",
      "[youtube] BOuBDxN7qkA: Downloading webpage\n",
      "[youtube] BOuBDxN7qkA: Downloading video info webpage\n",
      "[youtube] BOuBDxN7qkA: Looking for automatic captions\n",
      "[info] Writing video subtitles to: subtitle_BOuBDxN7qkA.en.vtt\n",
      "[youtube] 1yfG5qjRQTM: Downloading webpage\n",
      "[youtube] 1yfG5qjRQTM: Downloading video info webpage\n",
      "[youtube] 1yfG5qjRQTM: Looking for automatic captions\n",
      "[info] Writing video subtitles to: subtitle_1yfG5qjRQTM.en.vtt\n",
      "[youtube] Ch3NBT5EJrY: Downloading webpage\n",
      "[youtube] Ch3NBT5EJrY: Downloading video info webpage\n",
      "[youtube] Ch3NBT5EJrY: Looking for automatic captions\n",
      "[info] Writing video subtitles to: subtitle_Ch3NBT5EJrY.en.vtt\n",
      "[youtube] 7t1VxUCBInA: Downloading webpage\n",
      "[youtube] 7t1VxUCBInA: Downloading video info webpage\n",
      "[youtube] 7t1VxUCBInA: Looking for automatic captions\n",
      "[info] Writing video subtitles to: subtitle_7t1VxUCBInA.en.vtt\n",
      "[youtube] owN-lmlf8LA: Downloading webpage\n",
      "[youtube] owN-lmlf8LA: Downloading video info webpage\n",
      "[youtube] owN-lmlf8LA: Looking for automatic captions\n",
      "[info] Writing video subtitles to: subtitle_owN-lmlf8LA.en.vtt\n",
      "[youtube] nd4mTde4Sww: Downloading webpage\n",
      "[youtube] nd4mTde4Sww: Downloading video info webpage\n",
      "[youtube] nd4mTde4Sww: Looking for automatic captions\n"
     ]
    },
    {
     "name": "stderr",
     "output_type": "stream",
     "text": [
      "WARNING: Couldn't find automatic captions for nd4mTde4Sww\n"
     ]
    },
    {
     "name": "stdout",
     "output_type": "stream",
     "text": [
      "No captions for nd4mTde4Sww\n",
      "[youtube] f-7-b30uoX0: Downloading webpage\n",
      "[youtube] f-7-b30uoX0: Downloading video info webpage\n",
      "[youtube] f-7-b30uoX0: Looking for automatic captions\n",
      "[info] Writing video subtitles to: subtitle_f-7-b30uoX0.en.vtt\n",
      "[youtube] bamitDFsDkw: Downloading webpage\n",
      "[youtube] bamitDFsDkw: Downloading video info webpage\n",
      "[youtube] bamitDFsDkw: Looking for automatic captions\n",
      "[info] Writing video subtitles to: subtitle_bamitDFsDkw.en.vtt\n",
      "[youtube] UlPgnRZbrrc: Downloading webpage\n",
      "[youtube] UlPgnRZbrrc: Downloading video info webpage\n",
      "[youtube] UlPgnRZbrrc: Looking for automatic captions\n",
      "[info] Writing video subtitles to: subtitle_UlPgnRZbrrc.en.vtt\n",
      "[youtube] pewAWdbpn9w: Downloading webpage\n",
      "[youtube] pewAWdbpn9w: Downloading video info webpage\n",
      "[youtube] pewAWdbpn9w: Looking for automatic captions\n",
      "[info] Writing video subtitles to: subtitle_pewAWdbpn9w.en.vtt\n",
      "[youtube] TU8JoKZEPj0: Downloading webpage\n",
      "[youtube] TU8JoKZEPj0: Downloading video info webpage\n",
      "[youtube] TU8JoKZEPj0: Looking for automatic captions\n",
      "[info] Writing video subtitles to: subtitle_TU8JoKZEPj0.en.vtt\n",
      "[youtube] clynK-IwFXc: Downloading webpage\n",
      "[youtube] clynK-IwFXc: Downloading video info webpage\n",
      "[youtube] clynK-IwFXc: Looking for automatic captions\n"
     ]
    },
    {
     "name": "stderr",
     "output_type": "stream",
     "text": [
      "WARNING: Couldn't find automatic captions for clynK-IwFXc\n"
     ]
    },
    {
     "name": "stdout",
     "output_type": "stream",
     "text": [
      "[youtube] clynK-IwFXc: Downloading MPD manifest\n",
      "[youtube] clynK-IwFXc: Downloading MPD manifest\n",
      "No captions for clynK-IwFXc\n",
      "[youtube] 2HN3lXcP6Hs: Downloading webpage\n",
      "[youtube] 2HN3lXcP6Hs: Downloading video info webpage\n",
      "[youtube] 2HN3lXcP6Hs: Looking for automatic captions\n",
      "[youtube] 2HN3lXcP6Hs: Downloading MPD manifest\n",
      "[youtube] 2HN3lXcP6Hs: Downloading MPD manifest\n",
      "[info] Writing video subtitles to: subtitle_2HN3lXcP6Hs.en.vtt\n",
      "[youtube] V9g5nK8wCGk: Downloading webpage\n",
      "[youtube] V9g5nK8wCGk: Downloading video info webpage\n",
      "[youtube] V9g5nK8wCGk: Looking for automatic captions\n",
      "[info] Writing video subtitles to: subtitle_V9g5nK8wCGk.en.vtt\n",
      "[youtube] myRR3f1a4lw: Downloading webpage\n",
      "[youtube] myRR3f1a4lw: Downloading video info webpage\n",
      "[youtube] myRR3f1a4lw: Looking for automatic captions\n",
      "[info] Writing video subtitles to: subtitle_myRR3f1a4lw.en.vtt\n",
      "[youtube] AiugwYSQ3Dg: Downloading webpage\n",
      "[youtube] AiugwYSQ3Dg: Downloading video info webpage\n",
      "[youtube] AiugwYSQ3Dg: Looking for automatic captions\n",
      "[info] Writing video subtitles to: subtitle_AiugwYSQ3Dg.en.vtt\n",
      "[youtube] Hf0vjY6dCdI: Downloading webpage\n",
      "[youtube] Hf0vjY6dCdI: Downloading video info webpage\n",
      "[youtube] Hf0vjY6dCdI: Looking for automatic captions\n",
      "[info] Writing video subtitles to: subtitle_Hf0vjY6dCdI.en.vtt\n",
      "[youtube] juhgZDA5ros: Downloading webpage\n",
      "[youtube] juhgZDA5ros: Downloading video info webpage\n",
      "[youtube] juhgZDA5ros: Looking for automatic captions\n",
      "[info] Writing video subtitles to: subtitle_juhgZDA5ros.en.vtt\n",
      "[youtube] eTLzzit82N0: Downloading webpage\n",
      "[youtube] eTLzzit82N0: Downloading video info webpage\n",
      "[youtube] eTLzzit82N0: Looking for automatic captions\n",
      "[info] Writing video subtitles to: subtitle_eTLzzit82N0.en.vtt\n",
      "[youtube] M_0oDlC73rM: Downloading webpage\n",
      "[youtube] M_0oDlC73rM: Downloading video info webpage\n",
      "[youtube] M_0oDlC73rM: Looking for automatic captions\n",
      "[info] Writing video subtitles to: subtitle_M_0oDlC73rM.en.vtt\n",
      "[youtube] Ux4BgQxhNik: Downloading webpage\n",
      "[youtube] Ux4BgQxhNik: Downloading video info webpage\n",
      "[youtube] Ux4BgQxhNik: Looking for automatic captions\n",
      "[info] Writing video subtitles to: subtitle_Ux4BgQxhNik.en.vtt\n",
      "[youtube] RSi_UGyPWKg: Downloading webpage\n",
      "[youtube] RSi_UGyPWKg: Downloading video info webpage\n",
      "[youtube] RSi_UGyPWKg: Looking for automatic captions\n",
      "[info] Writing video subtitles to: subtitle_RSi_UGyPWKg.en.vtt\n",
      "[youtube] t_Zf8NSNCTk: Downloading webpage\n",
      "[youtube] t_Zf8NSNCTk: Downloading video info webpage\n",
      "[youtube] t_Zf8NSNCTk: Looking for automatic captions\n",
      "[info] Writing video subtitles to: subtitle_t_Zf8NSNCTk.en.vtt\n",
      "[youtube] VILcynxNcTs: Downloading webpage\n",
      "[youtube] VILcynxNcTs: Downloading video info webpage\n",
      "[youtube] VILcynxNcTs: Looking for automatic captions\n",
      "[youtube] VILcynxNcTs: Downloading MPD manifest\n",
      "[youtube] VILcynxNcTs: Downloading MPD manifest\n",
      "[info] Writing video subtitles to: subtitle_VILcynxNcTs.en.vtt\n",
      "[youtube] a8dn7WhImms: Downloading webpage\n",
      "[youtube] a8dn7WhImms: Downloading video info webpage\n",
      "[youtube] a8dn7WhImms: Looking for automatic captions\n"
     ]
    },
    {
     "name": "stderr",
     "output_type": "stream",
     "text": [
      "WARNING: Couldn't find automatic captions for a8dn7WhImms\n"
     ]
    },
    {
     "name": "stdout",
     "output_type": "stream",
     "text": [
      "No captions for a8dn7WhImms\n",
      "[youtube] JLxrAMjlam0: Downloading webpage\n",
      "[youtube] JLxrAMjlam0: Downloading video info webpage\n",
      "[youtube] JLxrAMjlam0: Looking for automatic captions\n",
      "[info] Writing video subtitles to: subtitle_JLxrAMjlam0.en.vtt\n",
      "[youtube] Yfddyut7gAY: Downloading webpage\n",
      "[youtube] Yfddyut7gAY: Downloading video info webpage\n",
      "[youtube] Yfddyut7gAY: Looking for automatic captions\n"
     ]
    },
    {
     "name": "stderr",
     "output_type": "stream",
     "text": [
      "WARNING: Couldn't find automatic captions for Yfddyut7gAY\n"
     ]
    },
    {
     "name": "stdout",
     "output_type": "stream",
     "text": [
      "No captions for Yfddyut7gAY\n",
      "[youtube] Y0QXDqB1cMo: Downloading webpage\n",
      "[youtube] Y0QXDqB1cMo: Downloading video info webpage\n",
      "[youtube] Y0QXDqB1cMo: Looking for automatic captions\n",
      "[info] Writing video subtitles to: subtitle_Y0QXDqB1cMo.en.vtt\n",
      "[youtube] oxfHgM_ay3g: Downloading webpage\n",
      "[youtube] oxfHgM_ay3g: Downloading video info webpage\n",
      "[youtube] oxfHgM_ay3g: Looking for automatic captions\n",
      "[youtube] oxfHgM_ay3g: Downloading MPD manifest\n",
      "[youtube] oxfHgM_ay3g: Downloading MPD manifest\n",
      "[info] Writing video subtitles to: subtitle_oxfHgM_ay3g.en.vtt\n",
      "[youtube] Ik_HU7_dAUA: Downloading webpage\n",
      "[youtube] Ik_HU7_dAUA: Downloading video info webpage\n",
      "[youtube] Ik_HU7_dAUA: Looking for automatic captions\n",
      "[info] Writing video subtitles to: subtitle_Ik_HU7_dAUA.en.vtt\n",
      "[youtube] 2Io5hT-kjLA: Downloading webpage\n",
      "[youtube] 2Io5hT-kjLA: Downloading video info webpage\n",
      "[youtube] 2Io5hT-kjLA: Looking for automatic captions\n",
      "[info] Writing video subtitles to: subtitle_2Io5hT-kjLA.en.vtt\n",
      "[youtube] 3EJBIVXSa0E: Downloading webpage\n",
      "[youtube] 3EJBIVXSa0E: Downloading video info webpage\n",
      "[youtube] 3EJBIVXSa0E: Looking for automatic captions\n"
     ]
    },
    {
     "name": "stderr",
     "output_type": "stream",
     "text": [
      "WARNING: Couldn't find automatic captions for 3EJBIVXSa0E\n"
     ]
    },
    {
     "name": "stdout",
     "output_type": "stream",
     "text": [
      "No captions for 3EJBIVXSa0E\n",
      "[youtube] cz8YhWOHAq0: Downloading webpage\n",
      "[youtube] cz8YhWOHAq0: Downloading video info webpage\n",
      "[youtube] cz8YhWOHAq0: Looking for automatic captions\n",
      "[info] Writing video subtitles to: subtitle_cz8YhWOHAq0.en.vtt\n",
      "[youtube] 1KLClC9jak8: Downloading webpage\n",
      "[youtube] 1KLClC9jak8: Downloading video info webpage\n",
      "[youtube] 1KLClC9jak8: Looking for automatic captions\n",
      "[info] Writing video subtitles to: subtitle_1KLClC9jak8.en.vtt\n",
      "[youtube] phOrM9yPgfs: Downloading webpage\n",
      "[youtube] phOrM9yPgfs: Downloading video info webpage\n",
      "[youtube] phOrM9yPgfs: Looking for automatic captions\n",
      "[info] Writing video subtitles to: subtitle_phOrM9yPgfs.en.vtt\n",
      "[youtube] DbKCGrUobtY: Downloading webpage\n",
      "[youtube] DbKCGrUobtY: Downloading video info webpage\n",
      "[youtube] DbKCGrUobtY: Looking for automatic captions\n",
      "[info] Writing video subtitles to: subtitle_DbKCGrUobtY.en.vtt\n",
      "[youtube] OfXk73UomCg: Downloading webpage\n",
      "[youtube] OfXk73UomCg: Downloading video info webpage\n",
      "[youtube] OfXk73UomCg: Looking for automatic captions\n",
      "[info] Writing video subtitles to: subtitle_OfXk73UomCg.en.vtt\n",
      "[youtube] 5kB1FFtpm8o: Downloading webpage\n",
      "[youtube] 5kB1FFtpm8o: Downloading video info webpage\n",
      "[youtube] 5kB1FFtpm8o: Looking for automatic captions\n",
      "[info] Writing video subtitles to: subtitle_5kB1FFtpm8o.en.vtt\n",
      "[youtube] 4FMQSb2EXlk: Downloading webpage\n",
      "[youtube] 4FMQSb2EXlk: Downloading video info webpage\n",
      "[youtube] 4FMQSb2EXlk: Looking for automatic captions\n",
      "[youtube] 4FMQSb2EXlk: Downloading MPD manifest\n",
      "[youtube] 4FMQSb2EXlk: Downloading MPD manifest\n",
      "[info] Writing video subtitles to: subtitle_4FMQSb2EXlk.en.vtt\n",
      "[youtube] SKU-now10FQ: Downloading webpage\n",
      "[youtube] SKU-now10FQ: Downloading video info webpage\n",
      "[youtube] SKU-now10FQ: Looking for automatic captions\n",
      "[info] Writing video subtitles to: subtitle_SKU-now10FQ.en.vtt\n",
      "[youtube] dnRmQNXGGcU: Downloading webpage\n",
      "[youtube] dnRmQNXGGcU: Downloading video info webpage\n",
      "[youtube] dnRmQNXGGcU: Looking for automatic captions\n",
      "[youtube] dnRmQNXGGcU: Downloading MPD manifest\n",
      "[youtube] dnRmQNXGGcU: Downloading MPD manifest\n",
      "[info] Writing video subtitles to: subtitle_dnRmQNXGGcU.en.vtt\n",
      "[youtube] ChXSpa3s3ks: Downloading webpage\n",
      "[youtube] ChXSpa3s3ks: Downloading video info webpage\n",
      "[youtube] ChXSpa3s3ks: Looking for automatic captions\n",
      "[info] Writing video subtitles to: subtitle_ChXSpa3s3ks.en.vtt\n",
      "[youtube] QTfx0Jfkjtw: Downloading webpage\n",
      "[youtube] QTfx0Jfkjtw: Downloading video info webpage\n",
      "[youtube] QTfx0Jfkjtw: Looking for automatic captions\n"
     ]
    },
    {
     "name": "stderr",
     "output_type": "stream",
     "text": [
      "WARNING: Couldn't find automatic captions for QTfx0Jfkjtw\n"
     ]
    },
    {
     "name": "stdout",
     "output_type": "stream",
     "text": [
      "No captions for QTfx0Jfkjtw\n",
      "[youtube] WDuYb-M62Og: Downloading webpage\n",
      "[youtube] WDuYb-M62Og: Downloading video info webpage\n",
      "[youtube] WDuYb-M62Og: Looking for automatic captions\n"
     ]
    },
    {
     "name": "stderr",
     "output_type": "stream",
     "text": [
      "WARNING: Couldn't find automatic captions for WDuYb-M62Og\n"
     ]
    },
    {
     "name": "stdout",
     "output_type": "stream",
     "text": [
      "No captions for WDuYb-M62Og\n",
      "[youtube] HxT0siRK3HI: Downloading webpage\n",
      "[youtube] HxT0siRK3HI: Downloading video info webpage\n",
      "[youtube] HxT0siRK3HI: Looking for automatic captions\n"
     ]
    },
    {
     "name": "stderr",
     "output_type": "stream",
     "text": [
      "WARNING: Couldn't find automatic captions for HxT0siRK3HI\n"
     ]
    },
    {
     "name": "stdout",
     "output_type": "stream",
     "text": [
      "No captions for HxT0siRK3HI\n",
      "[youtube] 2atOaG0L0rY: Downloading webpage\n",
      "[youtube] 2atOaG0L0rY: Downloading video info webpage\n",
      "[youtube] 2atOaG0L0rY: Looking for automatic captions\n",
      "[info] Writing video subtitles to: subtitle_2atOaG0L0rY.en.vtt\n",
      "[youtube] 6sc_QdyFx3E: Downloading webpage\n",
      "[youtube] 6sc_QdyFx3E: Downloading video info webpage\n",
      "[youtube] 6sc_QdyFx3E: Looking for automatic captions\n",
      "[info] Writing video subtitles to: subtitle_6sc_QdyFx3E.en.vtt\n",
      "[youtube] T-X10rdimA4: Downloading webpage\n",
      "[youtube] T-X10rdimA4: Downloading video info webpage\n",
      "[youtube] T-X10rdimA4: Looking for automatic captions\n"
     ]
    },
    {
     "name": "stderr",
     "output_type": "stream",
     "text": [
      "WARNING: Couldn't find automatic captions for T-X10rdimA4\n"
     ]
    },
    {
     "name": "stdout",
     "output_type": "stream",
     "text": [
      "No captions for T-X10rdimA4\n",
      "[youtube] 3mGyxWUMbuI: Downloading webpage\n",
      "[youtube] 3mGyxWUMbuI: Downloading video info webpage\n",
      "[youtube] 3mGyxWUMbuI: Looking for automatic captions\n",
      "[info] Writing video subtitles to: subtitle_3mGyxWUMbuI.en.vtt\n",
      "[youtube] nmu08KnFOQk: Downloading webpage\n",
      "[youtube] nmu08KnFOQk: Downloading video info webpage\n",
      "[youtube] nmu08KnFOQk: Looking for automatic captions\n",
      "[info] Writing video subtitles to: subtitle_nmu08KnFOQk.en.vtt\n",
      "[youtube] 8F-lID0J4BU: Downloading webpage\n",
      "[youtube] 8F-lID0J4BU: Downloading video info webpage\n",
      "[youtube] 8F-lID0J4BU: Looking for automatic captions\n",
      "[info] Writing video subtitles to: subtitle_8F-lID0J4BU.en.vtt\n",
      "[youtube] Lj44dyay6IE: Downloading webpage\n",
      "[youtube] Lj44dyay6IE: Downloading video info webpage\n",
      "[youtube] Lj44dyay6IE: Looking for automatic captions\n",
      "[info] Writing video subtitles to: subtitle_Lj44dyay6IE.en.vtt\n",
      "[youtube] NEyn9l62aos: Downloading webpage\n",
      "[youtube] NEyn9l62aos: Downloading video info webpage\n",
      "[youtube] NEyn9l62aos: Looking for automatic captions\n"
     ]
    },
    {
     "name": "stderr",
     "output_type": "stream",
     "text": [
      "WARNING: Couldn't find automatic captions for NEyn9l62aos\n"
     ]
    },
    {
     "name": "stdout",
     "output_type": "stream",
     "text": [
      "No captions for NEyn9l62aos\n",
      "[youtube] kxgjq3GD8Ls: Downloading webpage\n",
      "[youtube] kxgjq3GD8Ls: Downloading video info webpage\n",
      "[youtube] kxgjq3GD8Ls: Looking for automatic captions\n",
      "[info] Writing video subtitles to: subtitle_kxgjq3GD8Ls.en.vtt\n",
      "[youtube] U5lPyGuM5ik: Downloading webpage\n",
      "[youtube] U5lPyGuM5ik: Downloading video info webpage\n",
      "[youtube] U5lPyGuM5ik: Looking for automatic captions\n",
      "[info] Writing video subtitles to: subtitle_U5lPyGuM5ik.en.vtt\n",
      "[youtube] fK3LPJUldxA: Downloading webpage\n",
      "[youtube] fK3LPJUldxA: Downloading video info webpage\n",
      "[youtube] fK3LPJUldxA: Looking for automatic captions\n"
     ]
    },
    {
     "name": "stderr",
     "output_type": "stream",
     "text": [
      "WARNING: Couldn't find automatic captions for fK3LPJUldxA\n"
     ]
    },
    {
     "name": "stdout",
     "output_type": "stream",
     "text": [
      "No captions for fK3LPJUldxA\n",
      "[youtube] Y0BWfHAHQk8: Downloading webpage\n",
      "[youtube] Y0BWfHAHQk8: Downloading video info webpage\n",
      "[youtube] Y0BWfHAHQk8: Looking for automatic captions\n",
      "[info] Writing video subtitles to: subtitle_Y0BWfHAHQk8.en.vtt\n",
      "[youtube] FzssnCr-HHU: Downloading webpage\n",
      "[youtube] FzssnCr-HHU: Downloading video info webpage\n",
      "[youtube] FzssnCr-HHU: Looking for automatic captions\n"
     ]
    },
    {
     "name": "stderr",
     "output_type": "stream",
     "text": [
      "WARNING: Couldn't find automatic captions for FzssnCr-HHU\n"
     ]
    },
    {
     "name": "stdout",
     "output_type": "stream",
     "text": [
      "No captions for FzssnCr-HHU\n",
      "[youtube] s4QSvzJdMuc: Downloading webpage\n",
      "[youtube] s4QSvzJdMuc: Downloading video info webpage\n",
      "[youtube] s4QSvzJdMuc: Looking for automatic captions\n",
      "[info] Writing video subtitles to: subtitle_s4QSvzJdMuc.en.vtt\n",
      "[youtube] jUSKZyr9jUM: Downloading webpage\n",
      "[youtube] jUSKZyr9jUM: Downloading video info webpage\n",
      "[youtube] jUSKZyr9jUM: Looking for automatic captions\n"
     ]
    },
    {
     "name": "stderr",
     "output_type": "stream",
     "text": [
      "WARNING: Couldn't find automatic captions for jUSKZyr9jUM\n"
     ]
    },
    {
     "name": "stdout",
     "output_type": "stream",
     "text": [
      "No captions for jUSKZyr9jUM\n",
      "[youtube] WmsgtNmc2bM: Downloading webpage\n",
      "[youtube] WmsgtNmc2bM: Downloading video info webpage\n",
      "[youtube] WmsgtNmc2bM: Looking for automatic captions\n",
      "[info] Writing video subtitles to: subtitle_WmsgtNmc2bM.en.vtt\n",
      "[youtube] PeXJ_s7BRHk: Downloading webpage\n",
      "[youtube] PeXJ_s7BRHk: Downloading video info webpage\n",
      "[youtube] PeXJ_s7BRHk: Looking for automatic captions\n",
      "[info] Writing video subtitles to: subtitle_PeXJ_s7BRHk.en.vtt\n",
      "[youtube] AwXgfBzK_L4: Downloading webpage\n",
      "[youtube] AwXgfBzK_L4: Downloading video info webpage\n",
      "[youtube] AwXgfBzK_L4: Looking for automatic captions\n"
     ]
    },
    {
     "name": "stderr",
     "output_type": "stream",
     "text": [
      "WARNING: Couldn't find automatic captions for AwXgfBzK_L4\n"
     ]
    },
    {
     "name": "stdout",
     "output_type": "stream",
     "text": [
      "No captions for AwXgfBzK_L4\n",
      "[youtube] ABdlM4UJyRw: Downloading webpage\n",
      "[youtube] ABdlM4UJyRw: Downloading video info webpage\n",
      "[youtube] ABdlM4UJyRw: Looking for automatic captions\n"
     ]
    },
    {
     "name": "stderr",
     "output_type": "stream",
     "text": [
      "WARNING: Couldn't find automatic captions for ABdlM4UJyRw\n"
     ]
    },
    {
     "name": "stdout",
     "output_type": "stream",
     "text": [
      "No captions for ABdlM4UJyRw\n",
      "[youtube] U5KibzVdgQ4: Downloading webpage\n",
      "[youtube] U5KibzVdgQ4: Downloading video info webpage\n",
      "[youtube] U5KibzVdgQ4: Looking for automatic captions\n",
      "[info] Writing video subtitles to: subtitle_U5KibzVdgQ4.en.vtt\n",
      "[youtube] XiF141D0qjc: Downloading webpage\n",
      "[youtube] XiF141D0qjc: Downloading video info webpage\n",
      "[youtube] XiF141D0qjc: Looking for automatic captions\n",
      "[info] Writing video subtitles to: subtitle_XiF141D0qjc.en.vtt\n",
      "[youtube] Gx142V4oyeQ: Downloading webpage\n",
      "[youtube] Gx142V4oyeQ: Downloading video info webpage\n",
      "[youtube] Gx142V4oyeQ: Looking for automatic captions\n"
     ]
    },
    {
     "name": "stderr",
     "output_type": "stream",
     "text": [
      "WARNING: Couldn't find automatic captions for Gx142V4oyeQ\n"
     ]
    },
    {
     "name": "stdout",
     "output_type": "stream",
     "text": [
      "No captions for Gx142V4oyeQ\n",
      "[youtube] MpPfk8Wr7ws: Downloading webpage\n",
      "[youtube] MpPfk8Wr7ws: Downloading video info webpage\n",
      "[youtube] MpPfk8Wr7ws: Looking for automatic captions\n",
      "[youtube] MpPfk8Wr7ws: Downloading MPD manifest\n",
      "[youtube] MpPfk8Wr7ws: Downloading MPD manifest\n",
      "[info] Writing video subtitles to: subtitle_MpPfk8Wr7ws.en.vtt\n",
      "[youtube] UxmvdwIOkt4: Downloading webpage\n",
      "[youtube] UxmvdwIOkt4: Downloading video info webpage\n",
      "[youtube] UxmvdwIOkt4: Looking for automatic captions\n",
      "[youtube] UxmvdwIOkt4: Downloading MPD manifest\n",
      "[youtube] UxmvdwIOkt4: Downloading MPD manifest\n",
      "[info] Writing video subtitles to: subtitle_UxmvdwIOkt4.en.vtt\n",
      "[youtube] cRfxXGTvlHU: Downloading webpage\n",
      "[youtube] cRfxXGTvlHU: Downloading video info webpage\n",
      "[youtube] cRfxXGTvlHU: Looking for automatic captions\n"
     ]
    },
    {
     "name": "stderr",
     "output_type": "stream",
     "text": [
      "WARNING: Couldn't find automatic captions for cRfxXGTvlHU\n"
     ]
    },
    {
     "name": "stdout",
     "output_type": "stream",
     "text": [
      "No captions for cRfxXGTvlHU\n",
      "[youtube] XBqBZDlr_6c: Downloading webpage\n",
      "[youtube] XBqBZDlr_6c: Downloading video info webpage\n",
      "[youtube] XBqBZDlr_6c: Looking for automatic captions\n",
      "[info] Writing video subtitles to: subtitle_XBqBZDlr_6c.en.vtt\n",
      "[youtube] IM7jFoESv2A: Downloading webpage\n",
      "[youtube] IM7jFoESv2A: Downloading video info webpage\n",
      "[youtube] IM7jFoESv2A: Looking for automatic captions\n",
      "[info] Writing video subtitles to: subtitle_IM7jFoESv2A.en.vtt\n",
      "[youtube] Sytue_IYNJc: Downloading webpage\n",
      "[youtube] Sytue_IYNJc: Downloading video info webpage\n",
      "[youtube] Sytue_IYNJc: Looking for automatic captions\n",
      "[info] Writing video subtitles to: subtitle_Sytue_IYNJc.en.vtt\n",
      "[youtube] HObpInZETFM: Downloading webpage\n",
      "[youtube] HObpInZETFM: Downloading video info webpage\n",
      "[youtube] HObpInZETFM: Looking for automatic captions\n",
      "[youtube] HObpInZETFM: Downloading MPD manifest\n",
      "[youtube] HObpInZETFM: Downloading MPD manifest\n",
      "[info] Writing video subtitles to: subtitle_HObpInZETFM.en.vtt\n",
      "[youtube] DIKfyD9oGrw: Downloading webpage\n",
      "[youtube] DIKfyD9oGrw: Downloading video info webpage\n",
      "[youtube] DIKfyD9oGrw: Looking for automatic captions\n",
      "[info] Writing video subtitles to: subtitle_DIKfyD9oGrw.en.vtt\n",
      "[youtube] xIPRIIETpGU: Downloading webpage\n",
      "[youtube] xIPRIIETpGU: Downloading video info webpage\n",
      "[youtube] xIPRIIETpGU: Looking for automatic captions\n"
     ]
    },
    {
     "name": "stderr",
     "output_type": "stream",
     "text": [
      "WARNING: Couldn't find automatic captions for xIPRIIETpGU\n"
     ]
    },
    {
     "name": "stdout",
     "output_type": "stream",
     "text": [
      "No captions for xIPRIIETpGU\n",
      "[youtube] mzJJjrjJXw8: Downloading webpage\n",
      "[youtube] mzJJjrjJXw8: Downloading video info webpage\n",
      "[youtube] mzJJjrjJXw8: Looking for automatic captions\n",
      "[info] Writing video subtitles to: subtitle_mzJJjrjJXw8.en.vtt\n",
      "[youtube] J19payjgyss: Downloading webpage\n",
      "[youtube] J19payjgyss: Downloading video info webpage\n",
      "[youtube] J19payjgyss: Looking for automatic captions\n",
      "[youtube] J19payjgyss: Downloading MPD manifest\n",
      "[youtube] J19payjgyss: Downloading MPD manifest\n",
      "[info] Writing video subtitles to: subtitle_J19payjgyss.en.vtt\n",
      "[youtube] SfRyk8XoqVI: Downloading webpage\n",
      "[youtube] SfRyk8XoqVI: Downloading video info webpage\n",
      "[youtube] SfRyk8XoqVI: Looking for automatic captions\n",
      "[info] Writing video subtitles to: subtitle_SfRyk8XoqVI.en.vtt\n",
      "[youtube] MyK3EUMvaYQ: Downloading webpage\n",
      "[youtube] MyK3EUMvaYQ: Downloading video info webpage\n",
      "[youtube] MyK3EUMvaYQ: Looking for automatic captions\n",
      "[info] Writing video subtitles to: subtitle_MyK3EUMvaYQ.en.vtt\n",
      "[youtube] 0_2tEdIxcfQ: Downloading webpage\n",
      "[youtube] 0_2tEdIxcfQ: Downloading video info webpage\n",
      "[youtube] 0_2tEdIxcfQ: Looking for automatic captions\n",
      "[info] Writing video subtitles to: subtitle_0_2tEdIxcfQ.en.vtt\n",
      "[youtube] HrobjbMmcpE: Downloading webpage\n",
      "[youtube] HrobjbMmcpE: Downloading video info webpage\n",
      "[youtube] HrobjbMmcpE: Looking for automatic captions\n"
     ]
    },
    {
     "name": "stderr",
     "output_type": "stream",
     "text": [
      "WARNING: Couldn't find automatic captions for HrobjbMmcpE\n"
     ]
    },
    {
     "name": "stdout",
     "output_type": "stream",
     "text": [
      "No captions for HrobjbMmcpE\n",
      "[youtube] G4Y8nUnuGwU: Downloading webpage\n",
      "[youtube] G4Y8nUnuGwU: Downloading video info webpage\n",
      "[youtube] G4Y8nUnuGwU: Looking for automatic captions\n",
      "[info] Writing video subtitles to: subtitle_G4Y8nUnuGwU.en.vtt\n",
      "[youtube] ucEGQzdn2MQ: Downloading webpage\n",
      "[youtube] ucEGQzdn2MQ: Downloading video info webpage\n",
      "[youtube] ucEGQzdn2MQ: Looking for automatic captions\n",
      "[info] Writing video subtitles to: subtitle_ucEGQzdn2MQ.en.vtt\n",
      "[youtube] 4oVkQvx7J2o: Downloading webpage\n",
      "[youtube] 4oVkQvx7J2o: Downloading video info webpage\n",
      "[youtube] 4oVkQvx7J2o: Looking for automatic captions\n"
     ]
    },
    {
     "name": "stderr",
     "output_type": "stream",
     "text": [
      "WARNING: Couldn't find automatic captions for 4oVkQvx7J2o\n"
     ]
    },
    {
     "name": "stdout",
     "output_type": "stream",
     "text": [
      "No captions for 4oVkQvx7J2o\n",
      "[youtube] _tjdwhIrk84: Downloading webpage\n",
      "[youtube] _tjdwhIrk84: Downloading video info webpage\n",
      "[youtube] _tjdwhIrk84: Looking for automatic captions\n"
     ]
    },
    {
     "name": "stderr",
     "output_type": "stream",
     "text": [
      "WARNING: Couldn't find automatic captions for _tjdwhIrk84\n"
     ]
    },
    {
     "name": "stdout",
     "output_type": "stream",
     "text": [
      "[youtube] _tjdwhIrk84: Downloading MPD manifest\n",
      "[youtube] _tjdwhIrk84: Downloading MPD manifest\n",
      "No captions for _tjdwhIrk84\n",
      "[youtube] m8qTmBniQl8: Downloading webpage\n",
      "[youtube] m8qTmBniQl8: Downloading video info webpage\n",
      "[youtube] m8qTmBniQl8: Looking for automatic captions\n",
      "[youtube] m8qTmBniQl8: Downloading MPD manifest\n",
      "[youtube] m8qTmBniQl8: Downloading MPD manifest\n",
      "[info] Writing video subtitles to: subtitle_m8qTmBniQl8.en.vtt\n",
      "[youtube] r8FaOLe7d8M: Downloading webpage\n",
      "[youtube] r8FaOLe7d8M: Downloading video info webpage\n",
      "[youtube] r8FaOLe7d8M: Looking for automatic captions\n"
     ]
    },
    {
     "name": "stderr",
     "output_type": "stream",
     "text": [
      "WARNING: Couldn't find automatic captions for r8FaOLe7d8M\n"
     ]
    },
    {
     "name": "stdout",
     "output_type": "stream",
     "text": [
      "No captions for r8FaOLe7d8M\n",
      "[youtube] 9ZlTn-OrS9c: Downloading webpage\n",
      "[youtube] 9ZlTn-OrS9c: Downloading video info webpage\n",
      "[youtube] 9ZlTn-OrS9c: Looking for automatic captions\n"
     ]
    },
    {
     "name": "stderr",
     "output_type": "stream",
     "text": [
      "WARNING: Couldn't find automatic captions for 9ZlTn-OrS9c\n"
     ]
    },
    {
     "name": "stdout",
     "output_type": "stream",
     "text": [
      "No captions for 9ZlTn-OrS9c\n",
      "[youtube] 6NP6ITkZPY0: Downloading webpage\n",
      "[youtube] 6NP6ITkZPY0: Downloading video info webpage\n",
      "[youtube] 6NP6ITkZPY0: Looking for automatic captions\n",
      "[youtube] 6NP6ITkZPY0: Downloading MPD manifest\n",
      "[youtube] 6NP6ITkZPY0: Downloading MPD manifest\n",
      "[info] Writing video subtitles to: subtitle_6NP6ITkZPY0.en.vtt\n",
      "[youtube] 8L6xm1OyG0w: Downloading webpage\n",
      "[youtube] 8L6xm1OyG0w: Downloading video info webpage\n",
      "[youtube] 8L6xm1OyG0w: Looking for automatic captions\n",
      "[info] Writing video subtitles to: subtitle_8L6xm1OyG0w.en.vtt\n",
      "[youtube] 5U7M_Lmjkzg: Downloading webpage\n",
      "[youtube] 5U7M_Lmjkzg: Downloading video info webpage\n",
      "[youtube] 5U7M_Lmjkzg: Looking for automatic captions\n",
      "[info] Writing video subtitles to: subtitle_5U7M_Lmjkzg.en.vtt\n",
      "[youtube] SnRMgYLXG3s: Downloading webpage\n",
      "[youtube] SnRMgYLXG3s: Downloading video info webpage\n",
      "[youtube] SnRMgYLXG3s: Looking for automatic captions\n"
     ]
    },
    {
     "name": "stderr",
     "output_type": "stream",
     "text": [
      "WARNING: Couldn't find automatic captions for SnRMgYLXG3s\n"
     ]
    },
    {
     "name": "stdout",
     "output_type": "stream",
     "text": [
      "No captions for SnRMgYLXG3s\n",
      "[youtube] piVYYexYD9A: Downloading webpage\n",
      "[youtube] piVYYexYD9A: Downloading video info webpage\n",
      "[youtube] piVYYexYD9A: Looking for automatic captions\n",
      "[info] Writing video subtitles to: subtitle_piVYYexYD9A.en.vtt\n",
      "[youtube] 9WQScXDJ1ow: Downloading webpage\n",
      "[youtube] 9WQScXDJ1ow: Downloading video info webpage\n",
      "[youtube] 9WQScXDJ1ow: Looking for automatic captions\n"
     ]
    },
    {
     "name": "stderr",
     "output_type": "stream",
     "text": [
      "WARNING: Couldn't find automatic captions for 9WQScXDJ1ow\n"
     ]
    },
    {
     "name": "stdout",
     "output_type": "stream",
     "text": [
      "No captions for 9WQScXDJ1ow\n",
      "[youtube] qCLPkN7RnjE: Downloading webpage\n",
      "[youtube] qCLPkN7RnjE: Downloading video info webpage\n",
      "[youtube] qCLPkN7RnjE: Looking for automatic captions\n"
     ]
    },
    {
     "name": "stderr",
     "output_type": "stream",
     "text": [
      "WARNING: Couldn't find automatic captions for qCLPkN7RnjE\n"
     ]
    },
    {
     "name": "stdout",
     "output_type": "stream",
     "text": [
      "No captions for qCLPkN7RnjE\n",
      "[youtube] ho_r9-6XUgA: Downloading webpage\n",
      "[youtube] ho_r9-6XUgA: Downloading video info webpage\n",
      "[youtube] ho_r9-6XUgA: Looking for automatic captions\n",
      "[youtube] ho_r9-6XUgA: Downloading MPD manifest\n",
      "[youtube] ho_r9-6XUgA: Downloading MPD manifest\n",
      "[info] Writing video subtitles to: subtitle_ho_r9-6XUgA.en.vtt\n",
      "[youtube] ZNTZCGC-B80: Downloading webpage\n",
      "[youtube] ZNTZCGC-B80: Downloading video info webpage\n",
      "[youtube] ZNTZCGC-B80: Looking for automatic captions\n"
     ]
    },
    {
     "name": "stderr",
     "output_type": "stream",
     "text": [
      "WARNING: Couldn't find automatic captions for ZNTZCGC-B80\n"
     ]
    },
    {
     "name": "stdout",
     "output_type": "stream",
     "text": [
      "No captions for ZNTZCGC-B80\n",
      "[youtube] iPt4A2aLfPk: Downloading webpage\n",
      "[youtube] iPt4A2aLfPk: Downloading video info webpage\n",
      "[youtube] iPt4A2aLfPk: Looking for automatic captions\n"
     ]
    },
    {
     "name": "stderr",
     "output_type": "stream",
     "text": [
      "WARNING: Couldn't find automatic captions for iPt4A2aLfPk\n"
     ]
    },
    {
     "name": "stdout",
     "output_type": "stream",
     "text": [
      "No captions for iPt4A2aLfPk\n",
      "[youtube] jDUJBkfnhH8: Downloading webpage\n",
      "[youtube] jDUJBkfnhH8: Downloading video info webpage\n",
      "[youtube] jDUJBkfnhH8: Looking for automatic captions\n",
      "[info] Writing video subtitles to: subtitle_jDUJBkfnhH8.en.vtt\n",
      "[youtube] jaLYmrKYD4Y: Downloading webpage\n",
      "[youtube] jaLYmrKYD4Y: Downloading video info webpage\n",
      "[youtube] jaLYmrKYD4Y: Looking for automatic captions\n",
      "[info] Writing video subtitles to: subtitle_jaLYmrKYD4Y.en.vtt\n",
      "[youtube] labq7Ni_R_E: Downloading webpage\n",
      "[youtube] labq7Ni_R_E: Downloading video info webpage\n",
      "[youtube] labq7Ni_R_E: Looking for automatic captions\n",
      "[info] Writing video subtitles to: subtitle_labq7Ni_R_E.en.vtt\n",
      "[youtube] LeFHbUGaFOY: Downloading webpage\n",
      "[youtube] LeFHbUGaFOY: Downloading video info webpage\n",
      "[youtube] LeFHbUGaFOY: Looking for automatic captions\n"
     ]
    },
    {
     "name": "stderr",
     "output_type": "stream",
     "text": [
      "WARNING: Couldn't find automatic captions for LeFHbUGaFOY\n"
     ]
    },
    {
     "name": "stdout",
     "output_type": "stream",
     "text": [
      "[youtube] LeFHbUGaFOY: Downloading MPD manifest\n",
      "[youtube] LeFHbUGaFOY: Downloading MPD manifest\n",
      "No captions for LeFHbUGaFOY\n",
      "[youtube] aRPAe_yp48w: Downloading webpage\n",
      "[youtube] aRPAe_yp48w: Downloading video info webpage\n",
      "[youtube] aRPAe_yp48w: Looking for automatic captions\n",
      "[info] Writing video subtitles to: subtitle_aRPAe_yp48w.en.vtt\n",
      "[youtube] SfhjfyIDmi4: Downloading webpage\n",
      "[youtube] SfhjfyIDmi4: Downloading video info webpage\n",
      "[youtube] SfhjfyIDmi4: Looking for automatic captions\n"
     ]
    },
    {
     "name": "stderr",
     "output_type": "stream",
     "text": [
      "WARNING: Couldn't find automatic captions for SfhjfyIDmi4\n"
     ]
    },
    {
     "name": "stdout",
     "output_type": "stream",
     "text": [
      "No captions for SfhjfyIDmi4\n",
      "[youtube] tf7XuCYM9Cs: Downloading webpage\n",
      "[youtube] tf7XuCYM9Cs: Downloading video info webpage\n",
      "[youtube] tf7XuCYM9Cs: Looking for automatic captions\n"
     ]
    },
    {
     "name": "stderr",
     "output_type": "stream",
     "text": [
      "WARNING: Couldn't find automatic captions for tf7XuCYM9Cs\n"
     ]
    },
    {
     "name": "stdout",
     "output_type": "stream",
     "text": [
      "No captions for tf7XuCYM9Cs\n",
      "[youtube] 3zIQj5ADy_0: Downloading webpage\n",
      "[youtube] 3zIQj5ADy_0: Downloading video info webpage\n",
      "[youtube] 3zIQj5ADy_0: Looking for automatic captions\n",
      "[youtube] 3zIQj5ADy_0: Downloading MPD manifest\n",
      "[youtube] 3zIQj5ADy_0: Downloading MPD manifest\n",
      "[info] Writing video subtitles to: subtitle_3zIQj5ADy_0.en.vtt\n",
      "[youtube] ezJiYcujb2Q: Downloading webpage\n",
      "[youtube] ezJiYcujb2Q: Downloading video info webpage\n",
      "[youtube] ezJiYcujb2Q: Looking for automatic captions\n"
     ]
    },
    {
     "name": "stderr",
     "output_type": "stream",
     "text": [
      "WARNING: Couldn't find automatic captions for ezJiYcujb2Q\n"
     ]
    },
    {
     "name": "stdout",
     "output_type": "stream",
     "text": [
      "No captions for ezJiYcujb2Q\n",
      "[youtube] 6o0jSmpUfgs: Downloading webpage\n",
      "[youtube] 6o0jSmpUfgs: Downloading video info webpage\n",
      "[youtube] 6o0jSmpUfgs: Looking for automatic captions\n"
     ]
    },
    {
     "name": "stderr",
     "output_type": "stream",
     "text": [
      "WARNING: Couldn't find automatic captions for 6o0jSmpUfgs\n"
     ]
    },
    {
     "name": "stdout",
     "output_type": "stream",
     "text": [
      "[youtube] 6o0jSmpUfgs: Downloading MPD manifest\n",
      "[youtube] 6o0jSmpUfgs: Downloading MPD manifest\n",
      "No captions for 6o0jSmpUfgs\n",
      "[youtube] 1zABHMu57k0: Downloading webpage\n",
      "[youtube] 1zABHMu57k0: Downloading video info webpage\n",
      "[youtube] 1zABHMu57k0: Looking for automatic captions\n",
      "[info] Writing video subtitles to: subtitle_1zABHMu57k0.en.vtt\n",
      "[youtube] OM7T-yw5INg: Downloading webpage\n",
      "[youtube] OM7T-yw5INg: Downloading video info webpage\n",
      "[youtube] OM7T-yw5INg: Looking for automatic captions\n"
     ]
    },
    {
     "name": "stderr",
     "output_type": "stream",
     "text": [
      "WARNING: Couldn't find automatic captions for OM7T-yw5INg\n"
     ]
    },
    {
     "name": "stdout",
     "output_type": "stream",
     "text": [
      "No captions for OM7T-yw5INg\n",
      "[youtube] djLnmZMbuL8: Downloading webpage\n",
      "[youtube] djLnmZMbuL8: Downloading video info webpage\n",
      "[youtube] djLnmZMbuL8: Looking for automatic captions\n"
     ]
    },
    {
     "name": "stderr",
     "output_type": "stream",
     "text": [
      "WARNING: Couldn't find automatic captions for djLnmZMbuL8\n"
     ]
    },
    {
     "name": "stdout",
     "output_type": "stream",
     "text": [
      "No captions for djLnmZMbuL8\n",
      "[youtube] KcU5E1YKP6I: Downloading webpage\n",
      "[youtube] KcU5E1YKP6I: Downloading video info webpage\n",
      "[youtube] KcU5E1YKP6I: Looking for automatic captions\n",
      "[info] Writing video subtitles to: subtitle_KcU5E1YKP6I.en.vtt\n",
      "[youtube] bmnd1ZP5-4o: Downloading webpage\n",
      "[youtube] bmnd1ZP5-4o: Downloading video info webpage\n",
      "[youtube] bmnd1ZP5-4o: Looking for automatic captions\n",
      "[info] Writing video subtitles to: subtitle_bmnd1ZP5-4o.en.vtt\n",
      "[youtube] RStgvrsTZwQ: Downloading webpage\n",
      "[youtube] RStgvrsTZwQ: Downloading video info webpage\n",
      "[youtube] RStgvrsTZwQ: Looking for automatic captions\n",
      "[info] Writing video subtitles to: subtitle_RStgvrsTZwQ.en.vtt\n",
      "[youtube] ivNAXzfgOQg: Downloading webpage\n",
      "[youtube] ivNAXzfgOQg: Downloading video info webpage\n",
      "[youtube] ivNAXzfgOQg: Looking for automatic captions\n",
      "[info] Writing video subtitles to: subtitle_ivNAXzfgOQg.en.vtt\n",
      "[youtube] zS_8hFjEZag: Downloading webpage\n",
      "[youtube] zS_8hFjEZag: Downloading video info webpage\n",
      "[youtube] zS_8hFjEZag: Looking for automatic captions\n",
      "[info] Writing video subtitles to: subtitle_zS_8hFjEZag.en.vtt\n",
      "[youtube] mN9dDxU-ib8: Downloading webpage\n",
      "[youtube] mN9dDxU-ib8: Downloading video info webpage\n",
      "[youtube] mN9dDxU-ib8: Looking for automatic captions\n",
      "[youtube] mN9dDxU-ib8: Downloading MPD manifest\n",
      "[youtube] mN9dDxU-ib8: Downloading MPD manifest\n",
      "[info] Writing video subtitles to: subtitle_mN9dDxU-ib8.en.vtt\n",
      "[youtube] c98OzZd3kmE: Downloading webpage\n",
      "[youtube] c98OzZd3kmE: Downloading video info webpage\n",
      "[youtube] c98OzZd3kmE: Looking for automatic captions\n",
      "[info] Writing video subtitles to: subtitle_c98OzZd3kmE.en.vtt\n",
      "[youtube] 8ktAo8_ZHU4: Downloading webpage\n",
      "[youtube] 8ktAo8_ZHU4: Downloading video info webpage\n",
      "[youtube] 8ktAo8_ZHU4: Looking for automatic captions\n",
      "[info] Writing video subtitles to: subtitle_8ktAo8_ZHU4.en.vtt\n",
      "[youtube] x4eu8-pxjaY: Downloading webpage\n",
      "[youtube] x4eu8-pxjaY: Downloading video info webpage\n",
      "[youtube] x4eu8-pxjaY: Looking for automatic captions\n",
      "[info] Writing video subtitles to: subtitle_x4eu8-pxjaY.en.vtt\n",
      "[youtube] TGr06-Cv398: Downloading webpage\n",
      "[youtube] TGr06-Cv398: Downloading video info webpage\n",
      "[youtube] TGr06-Cv398: Looking for automatic captions\n",
      "[info] Writing video subtitles to: subtitle_TGr06-Cv398.en.vtt\n",
      "[youtube] AeavDnz-Fwg: Downloading webpage\n",
      "[youtube] AeavDnz-Fwg: Downloading video info webpage\n",
      "[youtube] AeavDnz-Fwg: Looking for automatic captions\n",
      "[info] Writing video subtitles to: subtitle_AeavDnz-Fwg.en.vtt\n",
      "[youtube] 1Vd5oqtfPLo: Downloading webpage\n",
      "[youtube] 1Vd5oqtfPLo: Downloading video info webpage\n",
      "[youtube] 1Vd5oqtfPLo: Looking for automatic captions\n",
      "[info] Writing video subtitles to: subtitle_1Vd5oqtfPLo.en.vtt\n",
      "[youtube] LYrErdYUL_Q: Downloading webpage\n",
      "[youtube] LYrErdYUL_Q: Downloading video info webpage\n",
      "[youtube] LYrErdYUL_Q: Looking for automatic captions\n"
     ]
    },
    {
     "name": "stderr",
     "output_type": "stream",
     "text": [
      "WARNING: Couldn't find automatic captions for LYrErdYUL_Q\n"
     ]
    },
    {
     "name": "stdout",
     "output_type": "stream",
     "text": [
      "No captions for LYrErdYUL_Q\n",
      "[youtube] CLwuoMz-lWo: Downloading webpage\n",
      "[youtube] CLwuoMz-lWo: Downloading video info webpage\n",
      "[youtube] CLwuoMz-lWo: Looking for automatic captions\n",
      "[info] Writing video subtitles to: subtitle_CLwuoMz-lWo.en.vtt\n",
      "[youtube] fB4V9L_j8PU: Downloading webpage\n",
      "[youtube] fB4V9L_j8PU: Downloading video info webpage\n",
      "[youtube] fB4V9L_j8PU: Looking for automatic captions\n",
      "[info] Writing video subtitles to: subtitle_fB4V9L_j8PU.en.vtt\n",
      "[youtube] z12DIU5Yqys: Downloading webpage\n",
      "[youtube] z12DIU5Yqys: Downloading video info webpage\n",
      "[youtube] z12DIU5Yqys: Looking for automatic captions\n",
      "[info] Writing video subtitles to: subtitle_z12DIU5Yqys.en.vtt\n",
      "[youtube] gfpSoNFH6BE: Downloading webpage\n",
      "[youtube] gfpSoNFH6BE: Downloading video info webpage\n",
      "[youtube] gfpSoNFH6BE: Looking for automatic captions\n",
      "[info] Writing video subtitles to: subtitle_gfpSoNFH6BE.en.vtt\n",
      "[youtube] oOFbSZ4uK6k: Downloading webpage\n",
      "[youtube] oOFbSZ4uK6k: Downloading video info webpage\n",
      "[youtube] oOFbSZ4uK6k: Looking for automatic captions\n",
      "[info] Writing video subtitles to: subtitle_oOFbSZ4uK6k.en.vtt\n",
      "[youtube] PxCJ6FdBoJk: Downloading webpage\n",
      "[youtube] PxCJ6FdBoJk: Downloading video info webpage\n",
      "[youtube] PxCJ6FdBoJk: Looking for automatic captions\n",
      "[info] Writing video subtitles to: subtitle_PxCJ6FdBoJk.en.vtt\n",
      "[youtube] 2KL_H-ed9OQ: Downloading webpage\n",
      "[youtube] 2KL_H-ed9OQ: Downloading video info webpage\n",
      "[youtube] 2KL_H-ed9OQ: Looking for automatic captions\n",
      "[info] Writing video subtitles to: subtitle_2KL_H-ed9OQ.en.vtt\n",
      "[youtube] CbdPRaeufDY: Downloading webpage\n",
      "[youtube] CbdPRaeufDY: Downloading video info webpage\n",
      "[youtube] CbdPRaeufDY: Looking for automatic captions\n",
      "[info] Writing video subtitles to: subtitle_CbdPRaeufDY.en.vtt\n",
      "[youtube] GGxnPzcSNnM: Downloading webpage\n",
      "[youtube] GGxnPzcSNnM: Downloading video info webpage\n",
      "[youtube] GGxnPzcSNnM: Looking for automatic captions\n",
      "[info] Writing video subtitles to: subtitle_GGxnPzcSNnM.en.vtt\n",
      "[youtube] CAXGY8YGIP8: Downloading webpage\n",
      "[youtube] CAXGY8YGIP8: Downloading video info webpage\n",
      "[youtube] CAXGY8YGIP8: Looking for automatic captions\n",
      "[youtube] CAXGY8YGIP8: Downloading MPD manifest\n",
      "[youtube] CAXGY8YGIP8: Downloading MPD manifest\n",
      "[info] Writing video subtitles to: subtitle_CAXGY8YGIP8.en.vtt\n",
      "[youtube] vv4GLe_eyvM: Downloading webpage\n",
      "[youtube] vv4GLe_eyvM: Downloading video info webpage\n",
      "[youtube] vv4GLe_eyvM: Looking for automatic captions\n",
      "[youtube] vv4GLe_eyvM: Downloading MPD manifest\n",
      "[youtube] vv4GLe_eyvM: Downloading MPD manifest\n",
      "[info] Writing video subtitles to: subtitle_vv4GLe_eyvM.en.vtt\n",
      "[youtube] k-eGV0CFLlc: Downloading webpage\n",
      "[youtube] k-eGV0CFLlc: Downloading video info webpage\n",
      "[youtube] k-eGV0CFLlc: Downloading js player vflKOteNp\n",
      "[youtube] k-eGV0CFLlc: Looking for automatic captions\n",
      "[info] Writing video subtitles to: subtitle_k-eGV0CFLlc.en.vtt\n",
      "[youtube] W_Gc2A-Ly_4: Downloading webpage\n",
      "[youtube] W_Gc2A-Ly_4: Downloading video info webpage\n",
      "[youtube] W_Gc2A-Ly_4: Looking for automatic captions\n",
      "[info] Writing video subtitles to: subtitle_W_Gc2A-Ly_4.en.vtt\n",
      "[youtube] uOPe0W6ylvs: Downloading webpage\n",
      "[youtube] uOPe0W6ylvs: Downloading video info webpage\n",
      "[youtube] uOPe0W6ylvs: Looking for automatic captions\n"
     ]
    },
    {
     "name": "stderr",
     "output_type": "stream",
     "text": [
      "WARNING: Couldn't find automatic captions for uOPe0W6ylvs\n"
     ]
    },
    {
     "name": "stdout",
     "output_type": "stream",
     "text": [
      "[youtube] uOPe0W6ylvs: Downloading MPD manifest\n",
      "[youtube] uOPe0W6ylvs: Downloading MPD manifest\n",
      "No captions for uOPe0W6ylvs\n",
      "[youtube] u5D87trJ1j0: Downloading webpage\n",
      "[youtube] u5D87trJ1j0: Downloading video info webpage\n",
      "[youtube] u5D87trJ1j0: Looking for automatic captions\n"
     ]
    },
    {
     "name": "stderr",
     "output_type": "stream",
     "text": [
      "WARNING: Couldn't find automatic captions for u5D87trJ1j0\n"
     ]
    },
    {
     "name": "stdout",
     "output_type": "stream",
     "text": [
      "No captions for u5D87trJ1j0\n",
      "[youtube] sU6eCYBCZkQ: Downloading webpage\n",
      "[youtube] sU6eCYBCZkQ: Downloading video info webpage\n",
      "[youtube] sU6eCYBCZkQ: Looking for automatic captions\n",
      "[info] Writing video subtitles to: subtitle_sU6eCYBCZkQ.en.vtt\n",
      "[youtube] ewCwi-DrRks: Downloading webpage\n",
      "[youtube] ewCwi-DrRks: Downloading video info webpage\n",
      "[youtube] ewCwi-DrRks: Looking for automatic captions\n",
      "[info] Writing video subtitles to: subtitle_ewCwi-DrRks.en.vtt\n",
      "[youtube] ynu2DaHG4WM: Downloading webpage\n",
      "[youtube] ynu2DaHG4WM: Downloading video info webpage\n",
      "[youtube] ynu2DaHG4WM: Looking for automatic captions\n",
      "[info] Writing video subtitles to: subtitle_ynu2DaHG4WM.en.vtt\n",
      "[youtube] JNVilFKZJm8: Downloading webpage\n",
      "[youtube] JNVilFKZJm8: Downloading video info webpage\n",
      "[youtube] JNVilFKZJm8: Looking for automatic captions\n",
      "[youtube] JNVilFKZJm8: Downloading MPD manifest\n",
      "[youtube] JNVilFKZJm8: Downloading MPD manifest\n",
      "[info] Writing video subtitles to: subtitle_JNVilFKZJm8.en.vtt\n",
      "[youtube] 1k1YOxr5n-M: Downloading webpage\n",
      "[youtube] 1k1YOxr5n-M: Downloading video info webpage\n",
      "[youtube] 1k1YOxr5n-M: Looking for automatic captions\n",
      "[info] Writing video subtitles to: subtitle_1k1YOxr5n-M.en.vtt\n",
      "[youtube] IFO69yNaAUA: Downloading webpage\n",
      "[youtube] IFO69yNaAUA: Downloading video info webpage\n",
      "[youtube] IFO69yNaAUA: Looking for automatic captions\n",
      "[youtube] IFO69yNaAUA: Downloading MPD manifest\n",
      "[youtube] IFO69yNaAUA: Downloading MPD manifest\n",
      "[info] Writing video subtitles to: subtitle_IFO69yNaAUA.en.vtt\n",
      "[youtube] W4zPIeMGd8U: Downloading webpage\n",
      "[youtube] W4zPIeMGd8U: Downloading video info webpage\n",
      "[youtube] W4zPIeMGd8U: Looking for automatic captions\n"
     ]
    },
    {
     "name": "stderr",
     "output_type": "stream",
     "text": [
      "WARNING: Couldn't find automatic captions for W4zPIeMGd8U\n"
     ]
    },
    {
     "name": "stdout",
     "output_type": "stream",
     "text": [
      "[youtube] W4zPIeMGd8U: Downloading MPD manifest\n",
      "[youtube] W4zPIeMGd8U: Downloading MPD manifest\n",
      "No captions for W4zPIeMGd8U\n",
      "[youtube] u8YF_bREI4A: Downloading webpage\n",
      "[youtube] u8YF_bREI4A: Downloading video info webpage\n",
      "[youtube] u8YF_bREI4A: Looking for automatic captions\n",
      "[youtube] u8YF_bREI4A: Downloading MPD manifest\n",
      "[youtube] u8YF_bREI4A: Downloading MPD manifest\n",
      "[info] Writing video subtitles to: subtitle_u8YF_bREI4A.en.vtt\n",
      "[youtube] GTrUlAMZDrg: Downloading webpage\n",
      "[youtube] GTrUlAMZDrg: Downloading video info webpage\n",
      "[youtube] GTrUlAMZDrg: Looking for automatic captions\n",
      "[info] Writing video subtitles to: subtitle_GTrUlAMZDrg.en.vtt\n",
      "[youtube] 5n-ZYRCHFXM: Downloading webpage\n",
      "[youtube] 5n-ZYRCHFXM: Downloading video info webpage\n",
      "[youtube] 5n-ZYRCHFXM: Looking for automatic captions\n",
      "[info] Writing video subtitles to: subtitle_5n-ZYRCHFXM.en.vtt\n",
      "[youtube] g5I_lFIXrSQ: Downloading webpage\n",
      "[youtube] g5I_lFIXrSQ: Downloading video info webpage\n",
      "[youtube] g5I_lFIXrSQ: Looking for automatic captions\n",
      "[info] Writing video subtitles to: subtitle_g5I_lFIXrSQ.en.vtt\n",
      "[youtube] -XDv-SAsmPU: Downloading webpage\n",
      "[youtube] -XDv-SAsmPU: Downloading video info webpage\n",
      "[youtube] -XDv-SAsmPU: Looking for automatic captions\n",
      "[youtube] -XDv-SAsmPU: Downloading MPD manifest\n",
      "[youtube] -XDv-SAsmPU: Downloading MPD manifest\n",
      "[info] Writing video subtitles to: subtitle_-XDv-SAsmPU.en.vtt\n",
      "[youtube] s9Mp7G1SaTY: Downloading webpage\n",
      "[youtube] s9Mp7G1SaTY: Downloading video info webpage\n",
      "[youtube] s9Mp7G1SaTY: Looking for automatic captions\n",
      "[info] Writing video subtitles to: subtitle_s9Mp7G1SaTY.en.vtt\n",
      "[youtube] cSQ2RnWD7Tk: Downloading webpage\n",
      "[youtube] cSQ2RnWD7Tk: Downloading video info webpage\n",
      "[youtube] cSQ2RnWD7Tk: Looking for automatic captions\n",
      "[info] Writing video subtitles to: subtitle_cSQ2RnWD7Tk.en.vtt\n",
      "[youtube] ppdvC_lo_us: Downloading webpage\n",
      "[youtube] ppdvC_lo_us: Downloading video info webpage\n",
      "[youtube] ppdvC_lo_us: Looking for automatic captions\n",
      "[info] Writing video subtitles to: subtitle_ppdvC_lo_us.en.vtt\n",
      "[youtube] s0KGAStYWXM: Downloading webpage\n",
      "[youtube] s0KGAStYWXM: Downloading video info webpage\n",
      "[youtube] s0KGAStYWXM: Looking for automatic captions\n"
     ]
    },
    {
     "name": "stderr",
     "output_type": "stream",
     "text": [
      "WARNING: Couldn't find automatic captions for s0KGAStYWXM\n"
     ]
    },
    {
     "name": "stdout",
     "output_type": "stream",
     "text": [
      "No captions for s0KGAStYWXM\n",
      "[youtube] v1f__wwYXYw: Downloading webpage\n",
      "[youtube] v1f__wwYXYw: Downloading video info webpage\n",
      "[youtube] v1f__wwYXYw: Looking for automatic captions\n",
      "[info] Writing video subtitles to: subtitle_v1f__wwYXYw.en.vtt\n",
      "[youtube] jep2hniV05g: Downloading webpage\n",
      "[youtube] jep2hniV05g: Downloading video info webpage\n",
      "[youtube] jep2hniV05g: Looking for automatic captions\n"
     ]
    },
    {
     "name": "stderr",
     "output_type": "stream",
     "text": [
      "WARNING: Couldn't find automatic captions for jep2hniV05g\n"
     ]
    },
    {
     "name": "stdout",
     "output_type": "stream",
     "text": [
      "No captions for jep2hniV05g\n",
      "[youtube] tQqmNdUZmVg: Downloading webpage\n",
      "[youtube] tQqmNdUZmVg: Downloading video info webpage\n",
      "[youtube] tQqmNdUZmVg: Looking for automatic captions\n",
      "[info] Writing video subtitles to: subtitle_tQqmNdUZmVg.en.vtt\n",
      "[youtube] zK_f3anvWUE: Downloading webpage\n",
      "[youtube] zK_f3anvWUE: Downloading video info webpage\n",
      "[youtube] zK_f3anvWUE: Looking for automatic captions\n",
      "[info] Writing video subtitles to: subtitle_zK_f3anvWUE.en.vtt\n",
      "[youtube] 3Ph5_0pd32s: Downloading webpage\n",
      "[youtube] 3Ph5_0pd32s: Downloading video info webpage\n",
      "[youtube] 3Ph5_0pd32s: Looking for automatic captions\n",
      "[info] Writing video subtitles to: subtitle_3Ph5_0pd32s.en.vtt\n",
      "[youtube] GRLZ9M7AEHs: Downloading webpage\n",
      "[youtube] GRLZ9M7AEHs: Downloading video info webpage\n",
      "[youtube] GRLZ9M7AEHs: Looking for automatic captions\n",
      "[info] Writing video subtitles to: subtitle_GRLZ9M7AEHs.en.vtt\n",
      "[youtube] JBtj7ihQRYQ: Downloading webpage\n",
      "[youtube] JBtj7ihQRYQ: Downloading video info webpage\n",
      "[youtube] JBtj7ihQRYQ: Looking for automatic captions\n"
     ]
    },
    {
     "name": "stderr",
     "output_type": "stream",
     "text": [
      "WARNING: Couldn't find automatic captions for JBtj7ihQRYQ\n"
     ]
    },
    {
     "name": "stdout",
     "output_type": "stream",
     "text": [
      "No captions for JBtj7ihQRYQ\n",
      "[youtube] -mtG2aYBj64: Downloading webpage\n",
      "[youtube] -mtG2aYBj64: Downloading video info webpage\n",
      "[youtube] -mtG2aYBj64: Looking for automatic captions\n"
     ]
    },
    {
     "name": "stderr",
     "output_type": "stream",
     "text": [
      "WARNING: Couldn't find automatic captions for -mtG2aYBj64\n"
     ]
    },
    {
     "name": "stdout",
     "output_type": "stream",
     "text": [
      "No captions for -mtG2aYBj64\n",
      "[youtube] zwFDQpABvK0: Downloading webpage\n",
      "[youtube] zwFDQpABvK0: Downloading video info webpage\n",
      "[youtube] zwFDQpABvK0: Looking for automatic captions\n"
     ]
    },
    {
     "name": "stderr",
     "output_type": "stream",
     "text": [
      "WARNING: Couldn't find automatic captions for zwFDQpABvK0\n"
     ]
    },
    {
     "name": "stdout",
     "output_type": "stream",
     "text": [
      "No captions for zwFDQpABvK0\n",
      "[youtube] 3BqfpV432Gs: Downloading webpage\n",
      "[youtube] 3BqfpV432Gs: Downloading video info webpage\n",
      "[youtube] 3BqfpV432Gs: Looking for automatic captions\n",
      "[info] Writing video subtitles to: subtitle_3BqfpV432Gs.en.vtt\n",
      "[youtube] 6kfi4UvwzuI: Downloading webpage\n",
      "[youtube] 6kfi4UvwzuI: Downloading video info webpage\n",
      "[youtube] 6kfi4UvwzuI: Looking for automatic captions\n",
      "[info] Writing video subtitles to: subtitle_6kfi4UvwzuI.en.vtt\n",
      "[youtube] mm_oQbDOrMA: Downloading webpage\n",
      "[youtube] mm_oQbDOrMA: Downloading video info webpage\n",
      "[youtube] mm_oQbDOrMA: Looking for automatic captions\n",
      "[info] Writing video subtitles to: subtitle_mm_oQbDOrMA.en.vtt\n",
      "[youtube] oauGgT8SFio: Downloading webpage\n",
      "[youtube] oauGgT8SFio: Downloading video info webpage\n",
      "[youtube] oauGgT8SFio: Looking for automatic captions\n"
     ]
    },
    {
     "name": "stderr",
     "output_type": "stream",
     "text": [
      "WARNING: Couldn't find automatic captions for oauGgT8SFio\n"
     ]
    },
    {
     "name": "stdout",
     "output_type": "stream",
     "text": [
      "No captions for oauGgT8SFio\n",
      "[youtube] MLhUkab4iPM: Downloading webpage\n",
      "[youtube] MLhUkab4iPM: Downloading video info webpage\n",
      "[youtube] MLhUkab4iPM: Looking for automatic captions\n",
      "[info] Writing video subtitles to: subtitle_MLhUkab4iPM.en.vtt\n",
      "[youtube] uY3GFw-TDmM: Downloading webpage\n",
      "[youtube] uY3GFw-TDmM: Downloading video info webpage\n",
      "[youtube] uY3GFw-TDmM: Looking for automatic captions\n"
     ]
    },
    {
     "name": "stderr",
     "output_type": "stream",
     "text": [
      "WARNING: Couldn't find automatic captions for uY3GFw-TDmM\n"
     ]
    },
    {
     "name": "stdout",
     "output_type": "stream",
     "text": [
      "No captions for uY3GFw-TDmM\n",
      "[youtube] CHggMe62QXY: Downloading webpage\n",
      "[youtube] CHggMe62QXY: Downloading video info webpage\n",
      "[youtube] CHggMe62QXY: Looking for automatic captions\n"
     ]
    },
    {
     "name": "stderr",
     "output_type": "stream",
     "text": [
      "WARNING: Couldn't find automatic captions for CHggMe62QXY\n"
     ]
    },
    {
     "name": "stdout",
     "output_type": "stream",
     "text": [
      "No captions for CHggMe62QXY\n",
      "[youtube] Ulj5_iBwcW4: Downloading webpage\n",
      "[youtube] Ulj5_iBwcW4: Downloading video info webpage\n",
      "[youtube] Ulj5_iBwcW4: Looking for automatic captions\n",
      "[info] Writing video subtitles to: subtitle_Ulj5_iBwcW4.en.vtt\n",
      "[youtube] VhME7m_6YzM: Downloading webpage\n",
      "[youtube] VhME7m_6YzM: Downloading video info webpage\n",
      "[youtube] VhME7m_6YzM: Looking for automatic captions\n"
     ]
    },
    {
     "name": "stderr",
     "output_type": "stream",
     "text": [
      "WARNING: Couldn't find automatic captions for VhME7m_6YzM\n"
     ]
    },
    {
     "name": "stdout",
     "output_type": "stream",
     "text": [
      "No captions for VhME7m_6YzM\n",
      "[youtube] ynDLAE1XCpY: Downloading webpage\n",
      "[youtube] ynDLAE1XCpY: Downloading video info webpage\n",
      "[youtube] ynDLAE1XCpY: Looking for automatic captions\n",
      "[info] Writing video subtitles to: subtitle_ynDLAE1XCpY.en.vtt\n",
      "[youtube] LKU4jJE7G9A: Downloading webpage\n",
      "[youtube] LKU4jJE7G9A: Downloading video info webpage\n",
      "[youtube] LKU4jJE7G9A: Looking for automatic captions\n",
      "[youtube] LKU4jJE7G9A: Downloading MPD manifest\n",
      "[youtube] LKU4jJE7G9A: Downloading MPD manifest\n",
      "[info] Writing video subtitles to: subtitle_LKU4jJE7G9A.en.vtt\n",
      "[youtube] zTppCtMnbZY: Downloading webpage\n",
      "[youtube] zTppCtMnbZY: Downloading video info webpage\n",
      "[youtube] zTppCtMnbZY: Looking for automatic captions\n",
      "[info] Writing video subtitles to: subtitle_zTppCtMnbZY.en.vtt\n",
      "[youtube] 0SKnZCWq3uM: Downloading webpage\n",
      "[youtube] 0SKnZCWq3uM: Downloading video info webpage\n",
      "[youtube] 0SKnZCWq3uM: Looking for automatic captions\n",
      "[info] Writing video subtitles to: subtitle_0SKnZCWq3uM.en.vtt\n",
      "[youtube] gQS-kmVcNVM: Downloading webpage\n",
      "[youtube] gQS-kmVcNVM: Downloading video info webpage\n",
      "[youtube] gQS-kmVcNVM: Looking for automatic captions\n",
      "[info] Writing video subtitles to: subtitle_gQS-kmVcNVM.en.vtt\n",
      "[youtube] ZRvQI-OrDWw: Downloading webpage\n",
      "[youtube] ZRvQI-OrDWw: Downloading video info webpage\n",
      "[youtube] ZRvQI-OrDWw: Looking for automatic captions\n",
      "[info] Writing video subtitles to: subtitle_ZRvQI-OrDWw.en.vtt\n",
      "[youtube] msqIw_8w7bU: Downloading webpage\n",
      "[youtube] msqIw_8w7bU: Downloading video info webpage\n",
      "[youtube] msqIw_8w7bU: Looking for automatic captions\n",
      "[info] Writing video subtitles to: subtitle_msqIw_8w7bU.en.vtt\n",
      "[youtube] NXxSuzRpTps: Downloading webpage\n",
      "[youtube] NXxSuzRpTps: Downloading video info webpage\n",
      "[youtube] NXxSuzRpTps: Looking for automatic captions\n"
     ]
    },
    {
     "name": "stderr",
     "output_type": "stream",
     "text": [
      "WARNING: Couldn't find automatic captions for NXxSuzRpTps\n"
     ]
    },
    {
     "name": "stdout",
     "output_type": "stream",
     "text": [
      "No captions for NXxSuzRpTps\n",
      "[youtube] _VCKKijjQxE: Downloading webpage\n",
      "[youtube] _VCKKijjQxE: Downloading video info webpage\n",
      "[youtube] _VCKKijjQxE: Looking for automatic captions\n",
      "[info] Writing video subtitles to: subtitle__VCKKijjQxE.en.vtt\n",
      "[youtube] GVKaR353N30: Downloading webpage\n",
      "[youtube] GVKaR353N30: Downloading video info webpage\n",
      "[youtube] GVKaR353N30: Looking for automatic captions\n",
      "[youtube] GVKaR353N30: Downloading MPD manifest\n",
      "[youtube] GVKaR353N30: Downloading MPD manifest\n",
      "[info] Writing video subtitles to: subtitle_GVKaR353N30.en.vtt\n",
      "[youtube] H9RAq-XQs9g: Downloading webpage\n",
      "[youtube] H9RAq-XQs9g: Downloading video info webpage\n",
      "[youtube] H9RAq-XQs9g: Looking for automatic captions\n"
     ]
    },
    {
     "name": "stderr",
     "output_type": "stream",
     "text": [
      "WARNING: Couldn't find automatic captions for H9RAq-XQs9g\n"
     ]
    },
    {
     "name": "stdout",
     "output_type": "stream",
     "text": [
      "No captions for H9RAq-XQs9g\n",
      "[youtube] sUqhQ74nEuw: Downloading webpage\n",
      "[youtube] sUqhQ74nEuw: Downloading video info webpage\n",
      "[youtube] sUqhQ74nEuw: Looking for automatic captions\n"
     ]
    },
    {
     "name": "stderr",
     "output_type": "stream",
     "text": [
      "WARNING: Couldn't find automatic captions for sUqhQ74nEuw\n"
     ]
    },
    {
     "name": "stdout",
     "output_type": "stream",
     "text": [
      "[youtube] sUqhQ74nEuw: Downloading MPD manifest\n",
      "[youtube] sUqhQ74nEuw: Downloading MPD manifest\n",
      "No captions for sUqhQ74nEuw\n",
      "[youtube] wZPjwbIOnno: Downloading webpage\n",
      "[youtube] wZPjwbIOnno: Downloading video info webpage\n",
      "[youtube] wZPjwbIOnno: Looking for automatic captions\n",
      "[info] Writing video subtitles to: subtitle_wZPjwbIOnno.en.vtt\n",
      "[youtube] -ipyBLFuuvU: Downloading webpage\n",
      "[youtube] -ipyBLFuuvU: Downloading video info webpage\n",
      "[youtube] -ipyBLFuuvU: Looking for automatic captions\n",
      "[info] Writing video subtitles to: subtitle_-ipyBLFuuvU.en.vtt\n",
      "[youtube] eIlcZxRVv0w: Downloading webpage\n",
      "[youtube] eIlcZxRVv0w: Downloading video info webpage\n",
      "[youtube] eIlcZxRVv0w: Looking for automatic captions\n"
     ]
    },
    {
     "name": "stderr",
     "output_type": "stream",
     "text": [
      "WARNING: Couldn't find automatic captions for eIlcZxRVv0w\n"
     ]
    },
    {
     "name": "stdout",
     "output_type": "stream",
     "text": [
      "No captions for eIlcZxRVv0w\n",
      "[youtube] FHoosoTeKzg: Downloading webpage\n",
      "[youtube] FHoosoTeKzg: Downloading video info webpage\n",
      "[youtube] FHoosoTeKzg: Looking for automatic captions\n",
      "[youtube] FHoosoTeKzg: Downloading MPD manifest\n",
      "[youtube] FHoosoTeKzg: Downloading MPD manifest\n",
      "[info] Writing video subtitles to: subtitle_FHoosoTeKzg.en.vtt\n",
      "[youtube] zmoL3Q17qB0: Downloading webpage\n",
      "[youtube] zmoL3Q17qB0: Downloading video info webpage\n",
      "[youtube] zmoL3Q17qB0: Looking for automatic captions\n",
      "[info] Writing video subtitles to: subtitle_zmoL3Q17qB0.en.vtt\n",
      "[youtube] n8UheewlAUw: Downloading webpage\n",
      "[youtube] n8UheewlAUw: Downloading video info webpage\n"
     ]
    },
    {
     "name": "stderr",
     "output_type": "stream",
     "text": [
      "WARNING: Unable to extract video title\n",
      "ERROR: This video is unavailable.\n"
     ]
    },
    {
     "name": "stdout",
     "output_type": "stream",
     "text": [
      "No captions for n8UheewlAUw\n",
      "[youtube] uGYrg8fqwtg: Downloading webpage\n",
      "[youtube] uGYrg8fqwtg: Downloading video info webpage\n",
      "[youtube] uGYrg8fqwtg: Looking for automatic captions\n",
      "[info] Writing video subtitles to: subtitle_uGYrg8fqwtg.en.vtt\n",
      "[youtube] VOxZXzLgnP8: Downloading webpage\n",
      "[youtube] VOxZXzLgnP8: Downloading video info webpage\n",
      "[youtube] VOxZXzLgnP8: Looking for automatic captions\n",
      "[info] Writing video subtitles to: subtitle_VOxZXzLgnP8.en.vtt\n",
      "[youtube] bs2juGc4wl0: Downloading webpage\n",
      "[youtube] bs2juGc4wl0: Downloading video info webpage\n",
      "[youtube] bs2juGc4wl0: Looking for automatic captions\n"
     ]
    },
    {
     "name": "stderr",
     "output_type": "stream",
     "text": [
      "WARNING: Couldn't find automatic captions for bs2juGc4wl0\n"
     ]
    },
    {
     "name": "stdout",
     "output_type": "stream",
     "text": [
      "[youtube] bs2juGc4wl0: Downloading MPD manifest\n",
      "[youtube] bs2juGc4wl0: Downloading MPD manifest\n",
      "No captions for bs2juGc4wl0\n",
      "[youtube] NGj8FsVJR20: Downloading webpage\n",
      "[youtube] NGj8FsVJR20: Downloading video info webpage\n",
      "[youtube] NGj8FsVJR20: Looking for automatic captions\n",
      "[info] Writing video subtitles to: subtitle_NGj8FsVJR20.en.vtt\n",
      "[youtube] GJj3FH_TgsU: Downloading webpage\n",
      "[youtube] GJj3FH_TgsU: Downloading video info webpage\n",
      "[youtube] GJj3FH_TgsU: Looking for automatic captions\n",
      "[info] Writing video subtitles to: subtitle_GJj3FH_TgsU.en.vtt\n",
      "[youtube] 5kwpKjSMbdo: Downloading webpage\n",
      "[youtube] 5kwpKjSMbdo: Downloading video info webpage\n",
      "[youtube] 5kwpKjSMbdo: Looking for automatic captions\n",
      "[youtube] 5kwpKjSMbdo: Downloading MPD manifest\n",
      "[youtube] 5kwpKjSMbdo: Downloading MPD manifest\n",
      "[info] Writing video subtitles to: subtitle_5kwpKjSMbdo.en.vtt\n",
      "[youtube] lj8wxpvRYo4: Downloading webpage\n",
      "[youtube] lj8wxpvRYo4: Downloading video info webpage\n",
      "[youtube] lj8wxpvRYo4: Looking for automatic captions\n",
      "[info] Writing video subtitles to: subtitle_lj8wxpvRYo4.en.vtt\n",
      "[youtube] dWVLIgexiRg: Downloading webpage\n",
      "[youtube] dWVLIgexiRg: Downloading video info webpage\n",
      "[youtube] dWVLIgexiRg: Looking for automatic captions\n",
      "[youtube] dWVLIgexiRg: Downloading MPD manifest\n",
      "[youtube] dWVLIgexiRg: Downloading MPD manifest\n",
      "[info] Writing video subtitles to: subtitle_dWVLIgexiRg.en.vtt\n",
      "[youtube] BFgLK7Dy-P0: Downloading webpage\n",
      "[youtube] BFgLK7Dy-P0: Downloading video info webpage\n",
      "[youtube] BFgLK7Dy-P0: Looking for automatic captions\n"
     ]
    },
    {
     "name": "stderr",
     "output_type": "stream",
     "text": [
      "WARNING: Couldn't find automatic captions for BFgLK7Dy-P0\n"
     ]
    },
    {
     "name": "stdout",
     "output_type": "stream",
     "text": [
      "No captions for BFgLK7Dy-P0\n",
      "[youtube] y8TOJ4buswA: Downloading webpage\n",
      "[youtube] y8TOJ4buswA: Downloading video info webpage\n",
      "[youtube] y8TOJ4buswA: Looking for automatic captions\n"
     ]
    },
    {
     "name": "stderr",
     "output_type": "stream",
     "text": [
      "WARNING: Couldn't find automatic captions for y8TOJ4buswA\n"
     ]
    },
    {
     "name": "stdout",
     "output_type": "stream",
     "text": [
      "No captions for y8TOJ4buswA\n",
      "[youtube] W9tnBazhNDQ: Downloading webpage\n",
      "[youtube] W9tnBazhNDQ: Downloading video info webpage\n",
      "[youtube] W9tnBazhNDQ: Looking for automatic captions\n"
     ]
    },
    {
     "name": "stderr",
     "output_type": "stream",
     "text": [
      "WARNING: Couldn't find automatic captions for W9tnBazhNDQ\n"
     ]
    },
    {
     "name": "stdout",
     "output_type": "stream",
     "text": [
      "No captions for W9tnBazhNDQ\n",
      "[youtube] bdNSfvIny60: Downloading webpage\n",
      "[youtube] bdNSfvIny60: Downloading video info webpage\n",
      "[youtube] bdNSfvIny60: Looking for automatic captions\n"
     ]
    },
    {
     "name": "stderr",
     "output_type": "stream",
     "text": [
      "WARNING: Couldn't find automatic captions for bdNSfvIny60\n"
     ]
    },
    {
     "name": "stdout",
     "output_type": "stream",
     "text": [
      "No captions for bdNSfvIny60\n",
      "[youtube] iBDnEXQTHAs: Downloading webpage\n",
      "[youtube] iBDnEXQTHAs: Downloading video info webpage\n",
      "[youtube] iBDnEXQTHAs: Looking for automatic captions\n"
     ]
    },
    {
     "name": "stderr",
     "output_type": "stream",
     "text": [
      "WARNING: Couldn't find automatic captions for iBDnEXQTHAs\n"
     ]
    },
    {
     "name": "stdout",
     "output_type": "stream",
     "text": [
      "No captions for iBDnEXQTHAs\n",
      "[youtube] QtmTkUb_ssk: Downloading webpage\n",
      "[youtube] QtmTkUb_ssk: Downloading video info webpage\n",
      "[youtube] QtmTkUb_ssk: Looking for automatic captions\n"
     ]
    },
    {
     "name": "stderr",
     "output_type": "stream",
     "text": [
      "WARNING: Couldn't find automatic captions for QtmTkUb_ssk\n"
     ]
    },
    {
     "name": "stdout",
     "output_type": "stream",
     "text": [
      "No captions for QtmTkUb_ssk\n",
      "[youtube] fEpKMizDTP4: Downloading webpage\n",
      "[youtube] fEpKMizDTP4: Downloading video info webpage\n",
      "[youtube] fEpKMizDTP4: Looking for automatic captions\n",
      "[youtube] fEpKMizDTP4: Downloading MPD manifest\n",
      "[youtube] fEpKMizDTP4: Downloading MPD manifest\n",
      "[info] Writing video subtitles to: subtitle_fEpKMizDTP4.en.vtt\n",
      "[youtube] ngHWz2iE-9k: Downloading webpage\n",
      "[youtube] ngHWz2iE-9k: Downloading video info webpage\n",
      "[youtube] ngHWz2iE-9k: Looking for automatic captions\n",
      "[info] Writing video subtitles to: subtitle_ngHWz2iE-9k.en.vtt\n",
      "[youtube] ji34YBqx0jw: Downloading webpage\n",
      "[youtube] ji34YBqx0jw: Downloading video info webpage\n",
      "[youtube] ji34YBqx0jw: Looking for automatic captions\n"
     ]
    },
    {
     "name": "stderr",
     "output_type": "stream",
     "text": [
      "WARNING: Couldn't find automatic captions for ji34YBqx0jw\n"
     ]
    },
    {
     "name": "stdout",
     "output_type": "stream",
     "text": [
      "[youtube] ji34YBqx0jw: Downloading MPD manifest\n",
      "No captions for ji34YBqx0jw\n",
      "[youtube] zyMgfZWqGTM: Downloading webpage\n",
      "[youtube] zyMgfZWqGTM: Downloading video info webpage\n",
      "[youtube] zyMgfZWqGTM: Looking for automatic captions\n",
      "[youtube] zyMgfZWqGTM: Downloading MPD manifest\n",
      "[youtube] zyMgfZWqGTM: Downloading MPD manifest\n",
      "[info] Writing video subtitles to: subtitle_zyMgfZWqGTM.en.vtt\n",
      "[youtube] ShZfsQ_nRmw: Downloading webpage\n",
      "[youtube] ShZfsQ_nRmw: Downloading video info webpage\n",
      "[youtube] ShZfsQ_nRmw: Looking for automatic captions\n"
     ]
    },
    {
     "name": "stderr",
     "output_type": "stream",
     "text": [
      "WARNING: Couldn't find automatic captions for ShZfsQ_nRmw\n"
     ]
    },
    {
     "name": "stdout",
     "output_type": "stream",
     "text": [
      "No captions for ShZfsQ_nRmw\n",
      "[youtube] yAl_9xbvnYQ: Downloading webpage\n",
      "[youtube] yAl_9xbvnYQ: Downloading video info webpage\n",
      "[youtube] yAl_9xbvnYQ: Looking for automatic captions\n",
      "[info] Writing video subtitles to: subtitle_yAl_9xbvnYQ.en.vtt\n",
      "[youtube] vqPac2-m-KM: Downloading webpage\n",
      "[youtube] vqPac2-m-KM: Downloading video info webpage\n",
      "[youtube] vqPac2-m-KM: Looking for automatic captions\n",
      "[info] Writing video subtitles to: subtitle_vqPac2-m-KM.en.vtt\n",
      "[youtube] ypO6E5HjHfg: Downloading webpage\n",
      "[youtube] ypO6E5HjHfg: Downloading video info webpage\n",
      "[youtube] ypO6E5HjHfg: Looking for automatic captions\n",
      "[info] Writing video subtitles to: subtitle_ypO6E5HjHfg.en.vtt\n",
      "[youtube] MamVi_5eFGk: Downloading webpage\n",
      "[youtube] MamVi_5eFGk: Downloading video info webpage\n",
      "[youtube] MamVi_5eFGk: Looking for automatic captions\n",
      "[youtube] MamVi_5eFGk: Downloading MPD manifest\n",
      "[youtube] MamVi_5eFGk: Downloading MPD manifest\n",
      "[info] Writing video subtitles to: subtitle_MamVi_5eFGk.en.vtt\n",
      "[youtube] Mi-hfqoIhRA: Downloading webpage\n",
      "[youtube] Mi-hfqoIhRA: Downloading video info webpage\n",
      "[youtube] Mi-hfqoIhRA: Looking for automatic captions\n",
      "[info] Writing video subtitles to: subtitle_Mi-hfqoIhRA.en.vtt\n",
      "[youtube] GdX7pwoZSrA: Downloading webpage\n",
      "[youtube] GdX7pwoZSrA: Downloading video info webpage\n",
      "[youtube] GdX7pwoZSrA: Looking for automatic captions\n",
      "[youtube] GdX7pwoZSrA: Downloading MPD manifest\n",
      "[youtube] GdX7pwoZSrA: Downloading MPD manifest\n",
      "[info] Writing video subtitles to: subtitle_GdX7pwoZSrA.en.vtt\n",
      "[youtube] 4LBoHiMcQBQ: Downloading webpage\n",
      "[youtube] 4LBoHiMcQBQ: Downloading video info webpage\n",
      "[youtube] 4LBoHiMcQBQ: Looking for automatic captions\n",
      "[info] Writing video subtitles to: subtitle_4LBoHiMcQBQ.en.vtt\n",
      "[youtube] AHJMhvF7njk: Downloading webpage\n",
      "[youtube] AHJMhvF7njk: Downloading video info webpage\n",
      "[youtube] AHJMhvF7njk: Looking for automatic captions\n"
     ]
    },
    {
     "name": "stderr",
     "output_type": "stream",
     "text": [
      "WARNING: Couldn't find automatic captions for AHJMhvF7njk\n"
     ]
    },
    {
     "name": "stdout",
     "output_type": "stream",
     "text": [
      "No captions for AHJMhvF7njk\n",
      "[youtube] eTNXbbmN0W0: Downloading webpage\n",
      "[youtube] eTNXbbmN0W0: Downloading video info webpage\n",
      "[youtube] eTNXbbmN0W0: Looking for automatic captions\n"
     ]
    },
    {
     "name": "stderr",
     "output_type": "stream",
     "text": [
      "WARNING: Couldn't find automatic captions for eTNXbbmN0W0\n"
     ]
    },
    {
     "name": "stdout",
     "output_type": "stream",
     "text": [
      "No captions for eTNXbbmN0W0\n",
      "[youtube] f9RGGZGLpdE: Downloading webpage\n",
      "[youtube] f9RGGZGLpdE: Downloading video info webpage\n",
      "[youtube] f9RGGZGLpdE: Looking for automatic captions\n"
     ]
    },
    {
     "name": "stderr",
     "output_type": "stream",
     "text": [
      "WARNING: Couldn't find automatic captions for f9RGGZGLpdE\n"
     ]
    },
    {
     "name": "stdout",
     "output_type": "stream",
     "text": [
      "No captions for f9RGGZGLpdE\n",
      "[youtube] iLHlY4YFI6s: Downloading webpage\n",
      "[youtube] iLHlY4YFI6s: Downloading video info webpage\n",
      "[youtube] iLHlY4YFI6s: Looking for automatic captions\n",
      "[info] Writing video subtitles to: subtitle_iLHlY4YFI6s.en.vtt\n",
      "[youtube] AvioIEjCgMw: Downloading webpage\n",
      "[youtube] AvioIEjCgMw: Downloading video info webpage\n",
      "[youtube] AvioIEjCgMw: Looking for automatic captions\n",
      "[info] Writing video subtitles to: subtitle_AvioIEjCgMw.en.vtt\n",
      "[youtube] 78BXhdx28Ec: Downloading webpage\n",
      "[youtube] 78BXhdx28Ec: Downloading video info webpage\n",
      "[youtube] 78BXhdx28Ec: Looking for automatic captions\n",
      "[info] Writing video subtitles to: subtitle_78BXhdx28Ec.en.vtt\n",
      "[youtube] PexlLlkuEUU: Downloading webpage\n",
      "[youtube] PexlLlkuEUU: Downloading video info webpage\n",
      "[youtube] PexlLlkuEUU: Looking for automatic captions\n",
      "[info] Writing video subtitles to: subtitle_PexlLlkuEUU.en.vtt\n",
      "[youtube] mESCUKmeCNM: Downloading webpage\n",
      "[youtube] mESCUKmeCNM: Downloading video info webpage\n",
      "[youtube] mESCUKmeCNM: Looking for automatic captions\n",
      "[info] Writing video subtitles to: subtitle_mESCUKmeCNM.en.vtt\n",
      "[youtube] 013b37NlIBE: Downloading webpage\n",
      "[youtube] 013b37NlIBE: Downloading video info webpage\n",
      "[youtube] 013b37NlIBE: Looking for automatic captions\n",
      "[info] Writing video subtitles to: subtitle_013b37NlIBE.en.vtt\n",
      "[youtube] gvyxkxXbNzQ: Downloading webpage\n",
      "[youtube] gvyxkxXbNzQ: Downloading video info webpage\n",
      "[youtube] gvyxkxXbNzQ: Looking for automatic captions\n",
      "[info] Writing video subtitles to: subtitle_gvyxkxXbNzQ.en.vtt\n",
      "[youtube] vFTAus6VaMQ: Downloading webpage\n",
      "[youtube] vFTAus6VaMQ: Downloading video info webpage\n",
      "[youtube] vFTAus6VaMQ: Looking for automatic captions\n",
      "[info] Writing video subtitles to: subtitle_vFTAus6VaMQ.en.vtt\n",
      "[youtube] Oda0_HYqYmE: Downloading webpage\n",
      "[youtube] Oda0_HYqYmE: Downloading video info webpage\n",
      "[youtube] Oda0_HYqYmE: Looking for automatic captions\n"
     ]
    },
    {
     "name": "stderr",
     "output_type": "stream",
     "text": [
      "WARNING: Couldn't find automatic captions for Oda0_HYqYmE\n"
     ]
    },
    {
     "name": "stdout",
     "output_type": "stream",
     "text": [
      "[youtube] Oda0_HYqYmE: Downloading MPD manifest\n",
      "[youtube] Oda0_HYqYmE: Downloading MPD manifest\n",
      "No captions for Oda0_HYqYmE\n",
      "[youtube] iX19-O4zSrk: Downloading webpage\n",
      "[youtube] iX19-O4zSrk: Downloading video info webpage\n",
      "[youtube] iX19-O4zSrk: Looking for automatic captions\n",
      "[info] Writing video subtitles to: subtitle_iX19-O4zSrk.en.vtt\n",
      "[youtube] 07bhe6QHdY8: Downloading webpage\n",
      "[youtube] 07bhe6QHdY8: Downloading video info webpage\n",
      "[youtube] 07bhe6QHdY8: Looking for automatic captions\n",
      "[youtube] 07bhe6QHdY8: Downloading MPD manifest\n",
      "[youtube] 07bhe6QHdY8: Downloading MPD manifest\n",
      "[info] Writing video subtitles to: subtitle_07bhe6QHdY8.en.vtt\n",
      "[youtube] W_-Z8IbD1Qw: Downloading webpage\n",
      "[youtube] W_-Z8IbD1Qw: Downloading video info webpage\n",
      "[youtube] W_-Z8IbD1Qw: Looking for automatic captions\n",
      "[info] Writing video subtitles to: subtitle_W_-Z8IbD1Qw.en.vtt\n",
      "[youtube] SIrNOyiHabw: Downloading webpage\n",
      "[youtube] SIrNOyiHabw: Downloading video info webpage\n",
      "[youtube] SIrNOyiHabw: Looking for automatic captions\n",
      "[info] Writing video subtitles to: subtitle_SIrNOyiHabw.en.vtt\n",
      "[youtube] wBX3_knqX6A: Downloading webpage\n",
      "[youtube] wBX3_knqX6A: Downloading video info webpage\n",
      "[youtube] wBX3_knqX6A: Looking for automatic captions\n"
     ]
    },
    {
     "name": "stderr",
     "output_type": "stream",
     "text": [
      "WARNING: Couldn't find automatic captions for wBX3_knqX6A\n"
     ]
    },
    {
     "name": "stdout",
     "output_type": "stream",
     "text": [
      "No captions for wBX3_knqX6A\n",
      "[youtube] 5PDsGdwMXTY: Downloading webpage\n",
      "[youtube] 5PDsGdwMXTY: Downloading video info webpage\n",
      "[youtube] 5PDsGdwMXTY: Looking for automatic captions\n",
      "[info] Writing video subtitles to: subtitle_5PDsGdwMXTY.en.vtt\n",
      "[youtube] xfqG3ne5jTo: Downloading webpage\n",
      "[youtube] xfqG3ne5jTo: Downloading video info webpage\n",
      "[youtube] xfqG3ne5jTo: Looking for automatic captions\n"
     ]
    },
    {
     "name": "stderr",
     "output_type": "stream",
     "text": [
      "WARNING: Couldn't find automatic captions for xfqG3ne5jTo\n"
     ]
    },
    {
     "name": "stdout",
     "output_type": "stream",
     "text": [
      "No captions for xfqG3ne5jTo\n",
      "[youtube] nS0z2Tgrl8o: Downloading webpage\n",
      "[youtube] nS0z2Tgrl8o: Downloading video info webpage\n",
      "[youtube] nS0z2Tgrl8o: Looking for automatic captions\n",
      "[info] Writing video subtitles to: subtitle_nS0z2Tgrl8o.en.vtt\n",
      "[youtube] X33b7PjZkME: Downloading webpage\n",
      "[youtube] X33b7PjZkME: Downloading video info webpage\n",
      "[youtube] X33b7PjZkME: Looking for automatic captions\n",
      "[info] Writing video subtitles to: subtitle_X33b7PjZkME.en.vtt\n",
      "[youtube] d2A_7FM5Yek: Downloading webpage\n",
      "[youtube] d2A_7FM5Yek: Downloading video info webpage\n",
      "[youtube] d2A_7FM5Yek: Looking for automatic captions\n",
      "[info] Writing video subtitles to: subtitle_d2A_7FM5Yek.en.vtt\n",
      "[youtube] fBXODrJeeOU: Downloading webpage\n",
      "[youtube] fBXODrJeeOU: Downloading video info webpage\n",
      "[youtube] fBXODrJeeOU: Looking for automatic captions\n",
      "[info] Writing video subtitles to: subtitle_fBXODrJeeOU.en.vtt\n",
      "[youtube] PWQlNPCDNoI: Downloading webpage\n",
      "[youtube] PWQlNPCDNoI: Downloading video info webpage\n",
      "[youtube] PWQlNPCDNoI: Looking for automatic captions\n",
      "[info] Writing video subtitles to: subtitle_PWQlNPCDNoI.en.vtt\n",
      "[youtube] ZUtiox-B8qo: Downloading webpage\n",
      "[youtube] ZUtiox-B8qo: Downloading video info webpage\n",
      "[youtube] ZUtiox-B8qo: Looking for automatic captions\n",
      "[info] Writing video subtitles to: subtitle_ZUtiox-B8qo.en.vtt\n",
      "[youtube] LRxlA5B39_w: Downloading webpage\n",
      "[youtube] LRxlA5B39_w: Downloading video info webpage\n",
      "[youtube] LRxlA5B39_w: Looking for automatic captions\n",
      "[info] Writing video subtitles to: subtitle_LRxlA5B39_w.en.vtt\n",
      "[youtube] cZrnub61CjI: Downloading webpage\n",
      "[youtube] cZrnub61CjI: Downloading video info webpage\n",
      "[youtube] cZrnub61CjI: Looking for automatic captions\n",
      "[youtube] cZrnub61CjI: Downloading MPD manifest\n",
      "[youtube] cZrnub61CjI: Downloading MPD manifest\n",
      "[info] Writing video subtitles to: subtitle_cZrnub61CjI.en.vtt\n",
      "[youtube] zLEcleId-ug: Downloading webpage\n",
      "[youtube] zLEcleId-ug: Downloading video info webpage\n",
      "[youtube] zLEcleId-ug: Looking for automatic captions\n"
     ]
    },
    {
     "name": "stderr",
     "output_type": "stream",
     "text": [
      "WARNING: Couldn't find automatic captions for zLEcleId-ug\n"
     ]
    },
    {
     "name": "stdout",
     "output_type": "stream",
     "text": [
      "[youtube] zLEcleId-ug: Downloading MPD manifest\n",
      "[youtube] zLEcleId-ug: Downloading MPD manifest\n",
      "No captions for zLEcleId-ug\n",
      "[youtube] qYIjCJOq0DA: Downloading webpage\n",
      "[youtube] qYIjCJOq0DA: Downloading video info webpage\n",
      "[youtube] qYIjCJOq0DA: Looking for automatic captions\n",
      "[info] Writing video subtitles to: subtitle_qYIjCJOq0DA.en.vtt\n",
      "[youtube] 7AKN6Mvhp0M: Downloading webpage\n",
      "[youtube] 7AKN6Mvhp0M: Downloading video info webpage\n",
      "[youtube] 7AKN6Mvhp0M: Looking for automatic captions\n",
      "[info] Writing video subtitles to: subtitle_7AKN6Mvhp0M.en.vtt\n",
      "[youtube] Xp6nRyiTsd0: Downloading webpage\n",
      "[youtube] Xp6nRyiTsd0: Downloading video info webpage\n",
      "[youtube] Xp6nRyiTsd0: Looking for automatic captions\n"
     ]
    },
    {
     "name": "stderr",
     "output_type": "stream",
     "text": [
      "WARNING: Couldn't find automatic captions for Xp6nRyiTsd0\n"
     ]
    },
    {
     "name": "stdout",
     "output_type": "stream",
     "text": [
      "No captions for Xp6nRyiTsd0\n",
      "[youtube] dQ_q7e3OBX0: Downloading webpage\n",
      "[youtube] dQ_q7e3OBX0: Downloading video info webpage\n",
      "[youtube] dQ_q7e3OBX0: Looking for automatic captions\n",
      "[youtube] dQ_q7e3OBX0: Downloading MPD manifest\n",
      "[youtube] dQ_q7e3OBX0: Downloading MPD manifest\n",
      "[info] Writing video subtitles to: subtitle_dQ_q7e3OBX0.en.vtt\n",
      "[youtube] usGOe2OO4Os: Downloading webpage\n",
      "[youtube] usGOe2OO4Os: Downloading video info webpage\n",
      "[youtube] usGOe2OO4Os: Looking for automatic captions\n"
     ]
    },
    {
     "name": "stderr",
     "output_type": "stream",
     "text": [
      "WARNING: Couldn't find automatic captions for usGOe2OO4Os\n"
     ]
    },
    {
     "name": "stdout",
     "output_type": "stream",
     "text": [
      "No captions for usGOe2OO4Os\n",
      "[youtube] Oo4Tyv9numM: Downloading webpage\n",
      "[youtube] Oo4Tyv9numM: Downloading video info webpage\n",
      "[youtube] Oo4Tyv9numM: Looking for automatic captions\n",
      "[info] Writing video subtitles to: subtitle_Oo4Tyv9numM.en.vtt\n",
      "[youtube] ZlExR06_9ak: Downloading webpage\n",
      "[youtube] ZlExR06_9ak: Downloading video info webpage\n",
      "[youtube] ZlExR06_9ak: Looking for automatic captions\n",
      "[info] Writing video subtitles to: subtitle_ZlExR06_9ak.en.vtt\n",
      "[youtube] aLBxIDir7MM: Downloading webpage\n",
      "[youtube] aLBxIDir7MM: Downloading video info webpage\n",
      "[youtube] aLBxIDir7MM: Looking for automatic captions\n",
      "[info] Writing video subtitles to: subtitle_aLBxIDir7MM.en.vtt\n",
      "[youtube] INjCKmfFhiE: Downloading webpage\n",
      "[youtube] INjCKmfFhiE: Downloading video info webpage\n",
      "[youtube] INjCKmfFhiE: Looking for automatic captions\n",
      "[youtube] INjCKmfFhiE: Downloading MPD manifest\n",
      "[youtube] INjCKmfFhiE: Downloading MPD manifest\n",
      "[info] Writing video subtitles to: subtitle_INjCKmfFhiE.en.vtt\n",
      "[youtube] 0QIm9uNGTzA: Downloading webpage\n",
      "[youtube] 0QIm9uNGTzA: Downloading video info webpage\n",
      "[youtube] 0QIm9uNGTzA: Looking for automatic captions\n",
      "[info] Writing video subtitles to: subtitle_0QIm9uNGTzA.en.vtt\n",
      "[youtube] JYM9ih2e4R0: Downloading webpage\n",
      "[youtube] JYM9ih2e4R0: Downloading video info webpage\n"
     ]
    },
    {
     "name": "stderr",
     "output_type": "stream",
     "text": [
      "WARNING: Unable to extract video title\n",
      "ERROR: This video has been removed by the user\n"
     ]
    },
    {
     "name": "stdout",
     "output_type": "stream",
     "text": [
      "No captions for JYM9ih2e4R0\n",
      "[youtube] s7xdjHlclcU: Downloading webpage\n",
      "[youtube] s7xdjHlclcU: Downloading video info webpage\n",
      "[youtube] s7xdjHlclcU: Looking for automatic captions\n",
      "[info] Writing video subtitles to: subtitle_s7xdjHlclcU.en.vtt\n",
      "[youtube] ZZhe4CCkpsA: Downloading webpage\n",
      "[youtube] ZZhe4CCkpsA: Downloading video info webpage\n",
      "[youtube] ZZhe4CCkpsA: Looking for automatic captions\n",
      "[info] Writing video subtitles to: subtitle_ZZhe4CCkpsA.en.vtt\n",
      "[youtube] ylHVYBbBy9I: Downloading webpage\n",
      "[youtube] ylHVYBbBy9I: Downloading video info webpage\n",
      "[youtube] ylHVYBbBy9I: Looking for automatic captions\n",
      "[info] Writing video subtitles to: subtitle_ylHVYBbBy9I.en.vtt\n",
      "[youtube] pHrX_rcYlVY: Downloading webpage\n",
      "[youtube] pHrX_rcYlVY: Downloading video info webpage\n",
      "[youtube] pHrX_rcYlVY: Looking for automatic captions\n",
      "[info] Writing video subtitles to: subtitle_pHrX_rcYlVY.en.vtt\n",
      "[youtube] NkrauHkIGIo: Downloading webpage\n",
      "[youtube] NkrauHkIGIo: Downloading video info webpage\n",
      "[youtube] NkrauHkIGIo: Looking for automatic captions\n",
      "[youtube] NkrauHkIGIo: Downloading MPD manifest\n",
      "[youtube] NkrauHkIGIo: Downloading MPD manifest\n",
      "[info] Writing video subtitles to: subtitle_NkrauHkIGIo.en.vtt\n",
      "[youtube] VbNNhDuDyKI: Downloading webpage\n",
      "[youtube] VbNNhDuDyKI: Downloading video info webpage\n",
      "[youtube] VbNNhDuDyKI: Looking for automatic captions\n",
      "[youtube] VbNNhDuDyKI: Downloading MPD manifest\n",
      "[youtube] VbNNhDuDyKI: Downloading MPD manifest\n",
      "[info] Writing video subtitles to: subtitle_VbNNhDuDyKI.en.vtt\n",
      "[youtube] 158Vh8jYBBs: Downloading webpage\n",
      "[youtube] 158Vh8jYBBs: Downloading video info webpage\n",
      "[youtube] 158Vh8jYBBs: Looking for automatic captions\n",
      "[info] Writing video subtitles to: subtitle_158Vh8jYBBs.en.vtt\n",
      "[youtube] Rc6YdpqPCPs: Downloading webpage\n",
      "[youtube] Rc6YdpqPCPs: Downloading video info webpage\n",
      "[youtube] Rc6YdpqPCPs: Looking for automatic captions\n",
      "[youtube] Rc6YdpqPCPs: Downloading MPD manifest\n",
      "[youtube] Rc6YdpqPCPs: Downloading MPD manifest\n",
      "[info] Writing video subtitles to: subtitle_Rc6YdpqPCPs.en.vtt\n",
      "[youtube] Ya4MoxV-ktw: Downloading webpage\n",
      "[youtube] Ya4MoxV-ktw: Downloading video info webpage\n",
      "[youtube] Ya4MoxV-ktw: Looking for automatic captions\n",
      "[info] Writing video subtitles to: subtitle_Ya4MoxV-ktw.en.vtt\n",
      "[youtube] Z9y3dlPqFE8: Downloading webpage\n",
      "[youtube] Z9y3dlPqFE8: Downloading video info webpage\n",
      "[youtube] Z9y3dlPqFE8: Looking for automatic captions\n",
      "[youtube] Z9y3dlPqFE8: Downloading MPD manifest\n",
      "[youtube] Z9y3dlPqFE8: Downloading MPD manifest\n",
      "[info] Writing video subtitles to: subtitle_Z9y3dlPqFE8.en.vtt\n",
      "[youtube] 6RhDAD8j9Qc: Downloading webpage\n",
      "[youtube] 6RhDAD8j9Qc: Downloading video info webpage\n",
      "[youtube] 6RhDAD8j9Qc: Looking for automatic captions\n"
     ]
    },
    {
     "name": "stderr",
     "output_type": "stream",
     "text": [
      "WARNING: Couldn't find automatic captions for 6RhDAD8j9Qc\n"
     ]
    },
    {
     "name": "stdout",
     "output_type": "stream",
     "text": [
      "No captions for 6RhDAD8j9Qc\n",
      "[youtube] c01Bn3hz1s8: Downloading webpage\n",
      "[youtube] c01Bn3hz1s8: Downloading video info webpage\n",
      "[youtube] c01Bn3hz1s8: Looking for automatic captions\n",
      "[info] Writing video subtitles to: subtitle_c01Bn3hz1s8.en.vtt\n",
      "[youtube] O-D3XBV3rfc: Downloading webpage\n",
      "[youtube] O-D3XBV3rfc: Downloading video info webpage\n",
      "[youtube] O-D3XBV3rfc: Looking for automatic captions\n"
     ]
    },
    {
     "name": "stderr",
     "output_type": "stream",
     "text": [
      "WARNING: Couldn't find automatic captions for O-D3XBV3rfc\n"
     ]
    },
    {
     "name": "stdout",
     "output_type": "stream",
     "text": [
      "[youtube] O-D3XBV3rfc: Downloading MPD manifest\n",
      "[youtube] O-D3XBV3rfc: Downloading MPD manifest\n",
      "No captions for O-D3XBV3rfc\n",
      "[youtube] yFAYxVpc6xQ: Downloading webpage\n",
      "[youtube] yFAYxVpc6xQ: Downloading video info webpage\n",
      "[youtube] yFAYxVpc6xQ: Looking for automatic captions\n",
      "[info] Writing video subtitles to: subtitle_yFAYxVpc6xQ.en.vtt\n",
      "[youtube] BXQG8yfsI9A: Downloading webpage\n",
      "[youtube] BXQG8yfsI9A: Downloading video info webpage\n",
      "[youtube] BXQG8yfsI9A: Looking for automatic captions\n"
     ]
    },
    {
     "name": "stderr",
     "output_type": "stream",
     "text": [
      "WARNING: Couldn't find automatic captions for BXQG8yfsI9A\n"
     ]
    },
    {
     "name": "stdout",
     "output_type": "stream",
     "text": [
      "No captions for BXQG8yfsI9A\n",
      "[youtube] graeGTpulZo: Downloading webpage\n",
      "[youtube] graeGTpulZo: Downloading video info webpage\n",
      "[youtube] graeGTpulZo: Looking for automatic captions\n",
      "[info] Writing video subtitles to: subtitle_graeGTpulZo.en.vtt\n",
      "[youtube] ghDjYB2rKJ4: Downloading webpage\n",
      "[youtube] ghDjYB2rKJ4: Downloading video info webpage\n",
      "[youtube] ghDjYB2rKJ4: Looking for automatic captions\n",
      "[info] Writing video subtitles to: subtitle_ghDjYB2rKJ4.en.vtt\n",
      "[youtube] LJpgB3_y--M: Downloading webpage\n",
      "[youtube] LJpgB3_y--M: Downloading video info webpage\n",
      "[youtube] LJpgB3_y--M: Looking for automatic captions\n",
      "[info] Writing video subtitles to: subtitle_LJpgB3_y--M.en.vtt\n",
      "[youtube] Zm8ZzsrQPU0: Downloading webpage\n",
      "[youtube] Zm8ZzsrQPU0: Downloading video info webpage\n",
      "[youtube] Zm8ZzsrQPU0: Looking for automatic captions\n",
      "[info] Writing video subtitles to: subtitle_Zm8ZzsrQPU0.en.vtt\n",
      "[youtube] pKioAgyQnhE: Downloading webpage\n",
      "[youtube] pKioAgyQnhE: Downloading video info webpage\n",
      "[youtube] pKioAgyQnhE: Looking for automatic captions\n",
      "[info] Writing video subtitles to: subtitle_pKioAgyQnhE.en.vtt\n",
      "[youtube] uJo5mxM1wYQ: Downloading webpage\n",
      "[youtube] uJo5mxM1wYQ: Downloading video info webpage\n",
      "[youtube] uJo5mxM1wYQ: Looking for automatic captions\n",
      "[youtube] uJo5mxM1wYQ: Downloading MPD manifest\n",
      "[youtube] uJo5mxM1wYQ: Downloading MPD manifest\n",
      "[info] Writing video subtitles to: subtitle_uJo5mxM1wYQ.en.vtt\n",
      "[youtube] ONFRWVNlQk8: Downloading webpage\n",
      "[youtube] ONFRWVNlQk8: Downloading video info webpage\n",
      "[youtube] ONFRWVNlQk8: Looking for automatic captions\n"
     ]
    },
    {
     "name": "stderr",
     "output_type": "stream",
     "text": [
      "WARNING: Couldn't find automatic captions for ONFRWVNlQk8\n"
     ]
    },
    {
     "name": "stdout",
     "output_type": "stream",
     "text": [
      "[youtube] ONFRWVNlQk8: Downloading MPD manifest\n",
      "[youtube] ONFRWVNlQk8: Downloading MPD manifest\n",
      "No captions for ONFRWVNlQk8\n",
      "[youtube] wmsoax7xx0s: Downloading webpage\n",
      "[youtube] wmsoax7xx0s: Downloading video info webpage\n",
      "[youtube] wmsoax7xx0s: Looking for automatic captions\n",
      "[info] Writing video subtitles to: subtitle_wmsoax7xx0s.en.vtt\n",
      "[youtube] UDkRl6Iey-4: Downloading webpage\n",
      "[youtube] UDkRl6Iey-4: Downloading video info webpage\n",
      "[youtube] UDkRl6Iey-4: Looking for automatic captions\n"
     ]
    },
    {
     "name": "stderr",
     "output_type": "stream",
     "text": [
      "WARNING: Couldn't find automatic captions for UDkRl6Iey-4\n"
     ]
    },
    {
     "name": "stdout",
     "output_type": "stream",
     "text": [
      "No captions for UDkRl6Iey-4\n",
      "[youtube] POAjtTHM00Q: Downloading webpage\n",
      "[youtube] POAjtTHM00Q: Downloading video info webpage\n",
      "[youtube] POAjtTHM00Q: Looking for automatic captions\n"
     ]
    },
    {
     "name": "stderr",
     "output_type": "stream",
     "text": [
      "WARNING: Couldn't find automatic captions for POAjtTHM00Q\n"
     ]
    },
    {
     "name": "stdout",
     "output_type": "stream",
     "text": [
      "No captions for POAjtTHM00Q\n",
      "[youtube] 7SMHnKbcAIM: Downloading webpage\n",
      "[youtube] 7SMHnKbcAIM: Downloading video info webpage\n",
      "[youtube] 7SMHnKbcAIM: Looking for automatic captions\n"
     ]
    },
    {
     "name": "stderr",
     "output_type": "stream",
     "text": [
      "WARNING: Couldn't find automatic captions for 7SMHnKbcAIM\n"
     ]
    },
    {
     "name": "stdout",
     "output_type": "stream",
     "text": [
      "No captions for 7SMHnKbcAIM\n",
      "[youtube] jn2zOoEJd2k: Downloading webpage\n",
      "[youtube] jn2zOoEJd2k: Downloading video info webpage\n",
      "[youtube] jn2zOoEJd2k: Looking for automatic captions\n",
      "[info] Writing video subtitles to: subtitle_jn2zOoEJd2k.en.vtt\n",
      "[youtube] xH0No1xDY_c: Downloading webpage\n",
      "[youtube] xH0No1xDY_c: Downloading video info webpage\n",
      "[youtube] xH0No1xDY_c: Looking for automatic captions\n",
      "[info] Writing video subtitles to: subtitle_xH0No1xDY_c.en.vtt\n",
      "[youtube] _6cymx4WRxc: Downloading webpage\n",
      "[youtube] _6cymx4WRxc: Downloading video info webpage\n",
      "[youtube] _6cymx4WRxc: Looking for automatic captions\n",
      "[info] Writing video subtitles to: subtitle__6cymx4WRxc.en.vtt\n",
      "[youtube] gTR37Q1PjmY: Downloading webpage\n",
      "[youtube] gTR37Q1PjmY: Downloading video info webpage\n",
      "[youtube] gTR37Q1PjmY: Looking for automatic captions\n",
      "[info] Writing video subtitles to: subtitle_gTR37Q1PjmY.en.vtt\n",
      "[youtube] 7nW-8XindEM: Downloading webpage\n",
      "[youtube] 7nW-8XindEM: Downloading video info webpage\n",
      "[youtube] 7nW-8XindEM: Looking for automatic captions\n"
     ]
    },
    {
     "name": "stderr",
     "output_type": "stream",
     "text": [
      "WARNING: Couldn't find automatic captions for 7nW-8XindEM\n"
     ]
    },
    {
     "name": "stdout",
     "output_type": "stream",
     "text": [
      "No captions for 7nW-8XindEM\n",
      "[youtube] nOosIG4GQS4: Downloading webpage\n",
      "[youtube] nOosIG4GQS4: Downloading video info webpage\n",
      "[youtube] nOosIG4GQS4: Looking for automatic captions\n",
      "[info] Writing video subtitles to: subtitle_nOosIG4GQS4.en.vtt\n",
      "[youtube] -seWz2sk7qw: Downloading webpage\n",
      "[youtube] -seWz2sk7qw: Downloading video info webpage\n",
      "[youtube] -seWz2sk7qw: Looking for automatic captions\n",
      "[info] Writing video subtitles to: subtitle_-seWz2sk7qw.en.vtt\n",
      "[youtube] XYysOXz7N90: Downloading webpage\n",
      "[youtube] XYysOXz7N90: Downloading video info webpage\n",
      "[youtube] XYysOXz7N90: Looking for automatic captions\n"
     ]
    },
    {
     "name": "stderr",
     "output_type": "stream",
     "text": [
      "WARNING: Couldn't find automatic captions for XYysOXz7N90\n"
     ]
    },
    {
     "name": "stdout",
     "output_type": "stream",
     "text": [
      "No captions for XYysOXz7N90\n",
      "[youtube] iCM-sRrGJw0: Downloading webpage\n",
      "[youtube] iCM-sRrGJw0: Downloading video info webpage\n",
      "[youtube] iCM-sRrGJw0: Looking for automatic captions\n",
      "[info] Writing video subtitles to: subtitle_iCM-sRrGJw0.en.vtt\n",
      "[youtube] nJ6uOdJqyhg: Downloading webpage\n",
      "[youtube] nJ6uOdJqyhg: Downloading video info webpage\n",
      "[youtube] nJ6uOdJqyhg: Looking for automatic captions\n"
     ]
    },
    {
     "name": "stderr",
     "output_type": "stream",
     "text": [
      "WARNING: Couldn't find automatic captions for nJ6uOdJqyhg\n"
     ]
    },
    {
     "name": "stdout",
     "output_type": "stream",
     "text": [
      "No captions for nJ6uOdJqyhg\n",
      "[youtube] r_YL0eIYf-k: Downloading webpage\n",
      "[youtube] r_YL0eIYf-k: Downloading video info webpage\n",
      "[youtube] r_YL0eIYf-k: Looking for automatic captions\n",
      "[info] Writing video subtitles to: subtitle_r_YL0eIYf-k.en.vtt\n",
      "[youtube] n6fpr3DfF50: Downloading webpage\n",
      "[youtube] n6fpr3DfF50: Downloading video info webpage\n",
      "[youtube] n6fpr3DfF50: Looking for automatic captions\n"
     ]
    },
    {
     "name": "stderr",
     "output_type": "stream",
     "text": [
      "WARNING: Couldn't find automatic captions for n6fpr3DfF50\n"
     ]
    },
    {
     "name": "stdout",
     "output_type": "stream",
     "text": [
      "No captions for n6fpr3DfF50\n",
      "[youtube] NoOTI2x5LtA: Downloading webpage\n",
      "[youtube] NoOTI2x5LtA: Downloading video info webpage\n",
      "[youtube] NoOTI2x5LtA: Looking for automatic captions\n",
      "[info] Writing video subtitles to: subtitle_NoOTI2x5LtA.en.vtt\n",
      "[youtube] LUSnIdplBcA: Downloading webpage\n",
      "[youtube] LUSnIdplBcA: Downloading video info webpage\n",
      "[youtube] LUSnIdplBcA: Looking for automatic captions\n",
      "[info] Writing video subtitles to: subtitle_LUSnIdplBcA.en.vtt\n",
      "[youtube] WUN49yan0U0: Downloading webpage\n",
      "[youtube] WUN49yan0U0: Downloading video info webpage\n",
      "[youtube] WUN49yan0U0: Looking for automatic captions\n",
      "[youtube] WUN49yan0U0: Downloading MPD manifest\n",
      "[youtube] WUN49yan0U0: Downloading MPD manifest\n",
      "[info] Writing video subtitles to: subtitle_WUN49yan0U0.en.vtt\n",
      "[youtube] F3NKq0i54K8: Downloading webpage\n",
      "[youtube] F3NKq0i54K8: Downloading video info webpage\n",
      "[youtube] F3NKq0i54K8: Looking for automatic captions\n",
      "[info] Writing video subtitles to: subtitle_F3NKq0i54K8.en.vtt\n",
      "[youtube] D-svEsj8Z8Q: Downloading webpage\n",
      "[youtube] D-svEsj8Z8Q: Downloading video info webpage\n",
      "[youtube] D-svEsj8Z8Q: Looking for automatic captions\n",
      "[info] Writing video subtitles to: subtitle_D-svEsj8Z8Q.en.vtt\n",
      "[youtube] c3ZeiYo7hmU: Downloading webpage\n",
      "[youtube] c3ZeiYo7hmU: Downloading video info webpage\n",
      "[youtube] c3ZeiYo7hmU: Looking for automatic captions\n"
     ]
    },
    {
     "name": "stderr",
     "output_type": "stream",
     "text": [
      "WARNING: Couldn't find automatic captions for c3ZeiYo7hmU\n"
     ]
    },
    {
     "name": "stdout",
     "output_type": "stream",
     "text": [
      "No captions for c3ZeiYo7hmU\n",
      "[youtube] UQPFY4EswH4: Downloading webpage\n",
      "[youtube] UQPFY4EswH4: Downloading video info webpage\n",
      "[youtube] UQPFY4EswH4: Looking for automatic captions\n"
     ]
    },
    {
     "name": "stderr",
     "output_type": "stream",
     "text": [
      "WARNING: Couldn't find automatic captions for UQPFY4EswH4\n"
     ]
    },
    {
     "name": "stdout",
     "output_type": "stream",
     "text": [
      "No captions for UQPFY4EswH4\n",
      "[youtube] LpvFkfTvWDk: Downloading webpage\n",
      "[youtube] LpvFkfTvWDk: Downloading video info webpage\n",
      "[youtube] LpvFkfTvWDk: Looking for automatic captions\n",
      "[info] Writing video subtitles to: subtitle_LpvFkfTvWDk.en.vtt\n",
      "[youtube] aOUvCPmQzAM: Downloading webpage\n",
      "[youtube] aOUvCPmQzAM: Downloading video info webpage\n",
      "[youtube] aOUvCPmQzAM: Looking for automatic captions\n",
      "[info] Writing video subtitles to: subtitle_aOUvCPmQzAM.en.vtt\n",
      "[youtube] vc05GBBzqnY: Downloading webpage\n",
      "[youtube] vc05GBBzqnY: Downloading video info webpage\n",
      "[youtube] vc05GBBzqnY: Looking for automatic captions\n",
      "[info] Writing video subtitles to: subtitle_vc05GBBzqnY.en.vtt\n",
      "[youtube] WikxzqAV-7M: Downloading webpage\n",
      "[youtube] WikxzqAV-7M: Downloading video info webpage\n",
      "[youtube] WikxzqAV-7M: Looking for automatic captions\n"
     ]
    },
    {
     "name": "stderr",
     "output_type": "stream",
     "text": [
      "WARNING: Couldn't find automatic captions for WikxzqAV-7M\n"
     ]
    },
    {
     "name": "stdout",
     "output_type": "stream",
     "text": [
      "No captions for WikxzqAV-7M\n",
      "[youtube] jfzcIbLGewM: Downloading webpage\n",
      "[youtube] jfzcIbLGewM: Downloading video info webpage\n",
      "[youtube] jfzcIbLGewM: Looking for automatic captions\n",
      "[info] Writing video subtitles to: subtitle_jfzcIbLGewM.en.vtt\n",
      "[youtube] sR9sEYea3Io: Downloading webpage\n",
      "[youtube] sR9sEYea3Io: Downloading video info webpage\n",
      "[youtube] sR9sEYea3Io: Looking for automatic captions\n",
      "[info] Writing video subtitles to: subtitle_sR9sEYea3Io.en.vtt\n",
      "[youtube] hT546McISss: Downloading webpage\n",
      "[youtube] hT546McISss: Downloading video info webpage\n",
      "[youtube] hT546McISss: Looking for automatic captions\n",
      "[info] Writing video subtitles to: subtitle_hT546McISss.en.vtt\n",
      "[youtube] 5vPkI0H2Rng: Downloading webpage\n",
      "[youtube] 5vPkI0H2Rng: Downloading video info webpage\n",
      "[youtube] 5vPkI0H2Rng: Looking for automatic captions\n",
      "[info] Writing video subtitles to: subtitle_5vPkI0H2Rng.en.vtt\n",
      "[youtube] 8Cc3NKebF5U: Downloading webpage\n",
      "[youtube] 8Cc3NKebF5U: Downloading video info webpage\n",
      "[youtube] 8Cc3NKebF5U: Looking for automatic captions\n",
      "[info] Writing video subtitles to: subtitle_8Cc3NKebF5U.en.vtt\n",
      "[youtube] BF5tgU6Mtpo: Downloading webpage\n",
      "[youtube] BF5tgU6Mtpo: Downloading video info webpage\n",
      "[youtube] BF5tgU6Mtpo: Looking for automatic captions\n",
      "[info] Writing video subtitles to: subtitle_BF5tgU6Mtpo.en.vtt\n",
      "[youtube] pIWtuKmgpX0: Downloading webpage\n",
      "[youtube] pIWtuKmgpX0: Downloading video info webpage\n",
      "[youtube] pIWtuKmgpX0: Looking for automatic captions\n"
     ]
    },
    {
     "name": "stderr",
     "output_type": "stream",
     "text": [
      "WARNING: Couldn't find automatic captions for pIWtuKmgpX0\n"
     ]
    },
    {
     "name": "stdout",
     "output_type": "stream",
     "text": [
      "No captions for pIWtuKmgpX0\n",
      "[youtube] jjlUOFyelR0: Downloading webpage\n",
      "[youtube] jjlUOFyelR0: Downloading video info webpage\n",
      "[youtube] jjlUOFyelR0: Looking for automatic captions\n",
      "[info] Writing video subtitles to: subtitle_jjlUOFyelR0.en.vtt\n",
      "[youtube] _kFw7XM398E: Downloading webpage\n",
      "[youtube] _kFw7XM398E: Downloading video info webpage\n",
      "[youtube] _kFw7XM398E: Looking for automatic captions\n"
     ]
    },
    {
     "name": "stderr",
     "output_type": "stream",
     "text": [
      "WARNING: Couldn't find automatic captions for _kFw7XM398E\n"
     ]
    },
    {
     "name": "stdout",
     "output_type": "stream",
     "text": [
      "[youtube] _kFw7XM398E: Downloading MPD manifest\n",
      "[youtube] _kFw7XM398E: Downloading MPD manifest\n",
      "No captions for _kFw7XM398E\n",
      "[youtube] xtqS2K5b8bQ: Downloading webpage\n",
      "[youtube] xtqS2K5b8bQ: Downloading video info webpage\n",
      "[youtube] xtqS2K5b8bQ: Looking for automatic captions\n",
      "[youtube] xtqS2K5b8bQ: Downloading MPD manifest\n",
      "[youtube] xtqS2K5b8bQ: Downloading MPD manifest\n",
      "[info] Writing video subtitles to: subtitle_xtqS2K5b8bQ.en.vtt\n",
      "[youtube] npJ9KgwsfNI: Downloading webpage\n",
      "[youtube] npJ9KgwsfNI: Downloading video info webpage\n",
      "[youtube] npJ9KgwsfNI: Looking for automatic captions\n"
     ]
    },
    {
     "name": "stderr",
     "output_type": "stream",
     "text": [
      "WARNING: Couldn't find automatic captions for npJ9KgwsfNI\n"
     ]
    },
    {
     "name": "stdout",
     "output_type": "stream",
     "text": [
      "No captions for npJ9KgwsfNI\n",
      "[youtube] kGLVlM0aspE: Downloading webpage\n",
      "[youtube] kGLVlM0aspE: Downloading video info webpage\n",
      "[youtube] kGLVlM0aspE: Looking for automatic captions\n"
     ]
    },
    {
     "name": "stderr",
     "output_type": "stream",
     "text": [
      "WARNING: Couldn't find automatic captions for kGLVlM0aspE\n"
     ]
    },
    {
     "name": "stdout",
     "output_type": "stream",
     "text": [
      "No captions for kGLVlM0aspE\n",
      "[youtube] 8-WiCQEARaU: Downloading webpage\n",
      "[youtube] 8-WiCQEARaU: Downloading video info webpage\n",
      "[youtube] 8-WiCQEARaU: Looking for automatic captions\n",
      "[info] Writing video subtitles to: subtitle_8-WiCQEARaU.en.vtt\n",
      "[youtube] LzOOJG1Eznc: Downloading webpage\n",
      "[youtube] LzOOJG1Eznc: Downloading video info webpage\n",
      "[youtube] LzOOJG1Eznc: Looking for automatic captions\n",
      "[info] Writing video subtitles to: subtitle_LzOOJG1Eznc.en.vtt\n",
      "[youtube] Y631FaYnRE8: Downloading webpage\n",
      "[youtube] Y631FaYnRE8: Downloading video info webpage\n",
      "[youtube] Y631FaYnRE8: Looking for automatic captions\n",
      "[youtube] Y631FaYnRE8: Downloading MPD manifest\n",
      "[youtube] Y631FaYnRE8: Downloading MPD manifest\n",
      "[info] Writing video subtitles to: subtitle_Y631FaYnRE8.en.vtt\n",
      "[youtube] pIph8FCUEzk: Downloading webpage\n",
      "[youtube] pIph8FCUEzk: Downloading video info webpage\n",
      "[youtube] pIph8FCUEzk: Looking for automatic captions\n"
     ]
    },
    {
     "name": "stderr",
     "output_type": "stream",
     "text": [
      "WARNING: Couldn't find automatic captions for pIph8FCUEzk\n"
     ]
    },
    {
     "name": "stdout",
     "output_type": "stream",
     "text": [
      "No captions for pIph8FCUEzk\n",
      "[youtube] mVjcMmr9lIs: Downloading webpage\n",
      "[youtube] mVjcMmr9lIs: Downloading video info webpage\n",
      "[youtube] mVjcMmr9lIs: Looking for automatic captions\n"
     ]
    },
    {
     "name": "stderr",
     "output_type": "stream",
     "text": [
      "WARNING: Couldn't find automatic captions for mVjcMmr9lIs\n"
     ]
    },
    {
     "name": "stdout",
     "output_type": "stream",
     "text": [
      "No captions for mVjcMmr9lIs\n",
      "[youtube] 9dm9NhOxd_U: Downloading webpage\n",
      "[youtube] 9dm9NhOxd_U: Downloading video info webpage\n",
      "[youtube] 9dm9NhOxd_U: Looking for automatic captions\n",
      "[info] Writing video subtitles to: subtitle_9dm9NhOxd_U.en.vtt\n",
      "[youtube] EjcD1iQjU2w: Downloading webpage\n",
      "[youtube] EjcD1iQjU2w: Downloading video info webpage\n",
      "[youtube] EjcD1iQjU2w: Looking for automatic captions\n",
      "[info] Writing video subtitles to: subtitle_EjcD1iQjU2w.en.vtt\n",
      "[youtube] KXWCgUoo7bU: Downloading webpage\n",
      "[youtube] KXWCgUoo7bU: Downloading video info webpage\n",
      "[youtube] KXWCgUoo7bU: Looking for automatic captions\n",
      "[info] Writing video subtitles to: subtitle_KXWCgUoo7bU.en.vtt\n",
      "[youtube] F6eG9hXmPKA: Downloading webpage\n",
      "[youtube] F6eG9hXmPKA: Downloading video info webpage\n",
      "[youtube] F6eG9hXmPKA: Looking for automatic captions\n",
      "[info] Writing video subtitles to: subtitle_F6eG9hXmPKA.en.vtt\n",
      "[youtube] zupslJuJjdI: Downloading webpage\n",
      "[youtube] zupslJuJjdI: Downloading video info webpage\n",
      "[youtube] zupslJuJjdI: Looking for automatic captions\n"
     ]
    },
    {
     "name": "stderr",
     "output_type": "stream",
     "text": [
      "WARNING: Couldn't find automatic captions for zupslJuJjdI\n"
     ]
    },
    {
     "name": "stdout",
     "output_type": "stream",
     "text": [
      "No captions for zupslJuJjdI\n",
      "[youtube] doau7ndFk60: Downloading webpage\n",
      "[youtube] doau7ndFk60: Downloading video info webpage\n",
      "[youtube] doau7ndFk60: Looking for automatic captions\n",
      "[info] Writing video subtitles to: subtitle_doau7ndFk60.en.vtt\n",
      "[youtube] T1XmG6NcB9s: Downloading webpage\n",
      "[youtube] T1XmG6NcB9s: Downloading video info webpage\n",
      "[youtube] T1XmG6NcB9s: Looking for automatic captions\n",
      "[info] Writing video subtitles to: subtitle_T1XmG6NcB9s.en.vtt\n",
      "[youtube] 4ZJgZodwAXc: Downloading webpage\n",
      "[youtube] 4ZJgZodwAXc: Downloading video info webpage\n",
      "[youtube] 4ZJgZodwAXc: Looking for automatic captions\n",
      "[info] Writing video subtitles to: subtitle_4ZJgZodwAXc.en.vtt\n",
      "[youtube] hf0WGQUYkAs: Downloading webpage\n",
      "[youtube] hf0WGQUYkAs: Downloading video info webpage\n",
      "[youtube] hf0WGQUYkAs: Looking for automatic captions\n",
      "[info] Writing video subtitles to: subtitle_hf0WGQUYkAs.en.vtt\n",
      "[youtube] kZdZ3EkugS4: Downloading webpage\n",
      "[youtube] kZdZ3EkugS4: Downloading video info webpage\n",
      "[youtube] kZdZ3EkugS4: Looking for automatic captions\n",
      "[info] Writing video subtitles to: subtitle_kZdZ3EkugS4.en.vtt\n",
      "[youtube] sgKKABLhku8: Downloading webpage\n",
      "[youtube] sgKKABLhku8: Downloading video info webpage\n",
      "[youtube] sgKKABLhku8: Looking for automatic captions\n",
      "[info] Writing video subtitles to: subtitle_sgKKABLhku8.en.vtt\n",
      "[youtube] BDt0RfMH9Uo: Downloading webpage\n",
      "[youtube] BDt0RfMH9Uo: Downloading video info webpage\n",
      "[youtube] BDt0RfMH9Uo: Looking for automatic captions\n",
      "[info] Writing video subtitles to: subtitle_BDt0RfMH9Uo.en.vtt\n",
      "[youtube] K0VbPdpCAP4: Downloading webpage\n",
      "[youtube] K0VbPdpCAP4: Downloading video info webpage\n",
      "[youtube] K0VbPdpCAP4: Looking for automatic captions\n"
     ]
    },
    {
     "name": "stderr",
     "output_type": "stream",
     "text": [
      "WARNING: Couldn't find automatic captions for K0VbPdpCAP4\n"
     ]
    },
    {
     "name": "stdout",
     "output_type": "stream",
     "text": [
      "No captions for K0VbPdpCAP4\n",
      "[youtube] vFg-NTo1oUI: Downloading webpage\n",
      "[youtube] vFg-NTo1oUI: Downloading video info webpage\n",
      "[youtube] vFg-NTo1oUI: Looking for automatic captions\n"
     ]
    },
    {
     "name": "stderr",
     "output_type": "stream",
     "text": [
      "WARNING: Couldn't find automatic captions for vFg-NTo1oUI\n"
     ]
    },
    {
     "name": "stdout",
     "output_type": "stream",
     "text": [
      "No captions for vFg-NTo1oUI\n",
      "[youtube] j-6MiviBmt8: Downloading webpage\n",
      "[youtube] j-6MiviBmt8: Downloading video info webpage\n",
      "[youtube] j-6MiviBmt8: Looking for automatic captions\n",
      "[youtube] j-6MiviBmt8: Downloading MPD manifest\n",
      "[youtube] j-6MiviBmt8: Downloading MPD manifest\n",
      "[info] Writing video subtitles to: subtitle_j-6MiviBmt8.en.vtt\n",
      "[youtube] rih4hjIppgg: Downloading webpage\n",
      "[youtube] rih4hjIppgg: Downloading video info webpage\n",
      "[youtube] rih4hjIppgg: Looking for automatic captions\n",
      "[info] Writing video subtitles to: subtitle_rih4hjIppgg.en.vtt\n",
      "[youtube] vyZQjecxgkc: Downloading webpage\n",
      "[youtube] vyZQjecxgkc: Downloading video info webpage\n",
      "[youtube] vyZQjecxgkc: Looking for automatic captions\n",
      "[info] Writing video subtitles to: subtitle_vyZQjecxgkc.en.vtt\n",
      "[youtube] uhgU_ov31_Q: Downloading webpage\n",
      "[youtube] uhgU_ov31_Q: Downloading video info webpage\n",
      "[youtube] uhgU_ov31_Q: Looking for automatic captions\n",
      "[info] Writing video subtitles to: subtitle_uhgU_ov31_Q.en.vtt\n",
      "[youtube] EHORr-cpwSQ: Downloading webpage\n",
      "[youtube] EHORr-cpwSQ: Downloading video info webpage\n",
      "[youtube] EHORr-cpwSQ: Looking for automatic captions\n",
      "[info] Writing video subtitles to: subtitle_EHORr-cpwSQ.en.vtt\n",
      "[youtube] CtbEHCw-Iww: Downloading webpage\n",
      "[youtube] CtbEHCw-Iww: Downloading video info webpage\n",
      "[youtube] CtbEHCw-Iww: Looking for automatic captions\n",
      "[info] Writing video subtitles to: subtitle_CtbEHCw-Iww.en.vtt\n",
      "[youtube] aHlbUGS1lEg: Downloading webpage\n",
      "[youtube] aHlbUGS1lEg: Downloading video info webpage\n",
      "[youtube] aHlbUGS1lEg: Looking for automatic captions\n",
      "[info] Writing video subtitles to: subtitle_aHlbUGS1lEg.en.vtt\n",
      "[youtube] c01C8XzIn5A: Downloading webpage\n",
      "[youtube] c01C8XzIn5A: Downloading video info webpage\n",
      "[youtube] c01C8XzIn5A: Looking for automatic captions\n"
     ]
    },
    {
     "name": "stderr",
     "output_type": "stream",
     "text": [
      "WARNING: Couldn't find automatic captions for c01C8XzIn5A\n"
     ]
    },
    {
     "name": "stdout",
     "output_type": "stream",
     "text": [
      "No captions for c01C8XzIn5A\n",
      "[youtube] sePd6GRZSKI: Downloading webpage\n",
      "[youtube] sePd6GRZSKI: Downloading video info webpage\n",
      "[youtube] sePd6GRZSKI: Looking for automatic captions\n",
      "[youtube] sePd6GRZSKI: Downloading MPD manifest\n",
      "[youtube] sePd6GRZSKI: Downloading MPD manifest\n",
      "[info] Writing video subtitles to: subtitle_sePd6GRZSKI.en.vtt\n",
      "[youtube] MQ1vGZN-LIM: Downloading webpage\n",
      "[youtube] MQ1vGZN-LIM: Downloading video info webpage\n",
      "[youtube] MQ1vGZN-LIM: Looking for automatic captions\n"
     ]
    },
    {
     "name": "stderr",
     "output_type": "stream",
     "text": [
      "WARNING: Couldn't find automatic captions for MQ1vGZN-LIM\n"
     ]
    },
    {
     "name": "stdout",
     "output_type": "stream",
     "text": [
      "No captions for MQ1vGZN-LIM\n",
      "[youtube] p4svWBX2uzc: Downloading webpage\n",
      "[youtube] p4svWBX2uzc: Downloading video info webpage\n",
      "[youtube] p4svWBX2uzc: Looking for automatic captions\n",
      "[youtube] p4svWBX2uzc: Downloading MPD manifest\n",
      "[youtube] p4svWBX2uzc: Downloading MPD manifest\n",
      "[info] Writing video subtitles to: subtitle_p4svWBX2uzc.en.vtt\n",
      "[youtube] oo6k_28jWtY: Downloading webpage\n",
      "[youtube] oo6k_28jWtY: Downloading video info webpage\n",
      "[youtube] oo6k_28jWtY: Looking for automatic captions\n",
      "[info] Writing video subtitles to: subtitle_oo6k_28jWtY.en.vtt\n",
      "[youtube] OjGak_3vDGo: Downloading webpage\n",
      "[youtube] OjGak_3vDGo: Downloading video info webpage\n",
      "[youtube] OjGak_3vDGo: Looking for automatic captions\n",
      "[info] Writing video subtitles to: subtitle_OjGak_3vDGo.en.vtt\n",
      "[youtube] Ocx5OkyEqUk: Downloading webpage\n",
      "[youtube] Ocx5OkyEqUk: Downloading video info webpage\n",
      "[youtube] Ocx5OkyEqUk: Looking for automatic captions\n",
      "[info] Writing video subtitles to: subtitle_Ocx5OkyEqUk.en.vtt\n",
      "[youtube] k5mgXcS8Qqk: Downloading webpage\n",
      "[youtube] k5mgXcS8Qqk: Downloading video info webpage\n",
      "[youtube] k5mgXcS8Qqk: Looking for automatic captions\n",
      "[info] Writing video subtitles to: subtitle_k5mgXcS8Qqk.en.vtt\n",
      "[youtube] 6E4Boz8Oxng: Downloading webpage\n",
      "[youtube] 6E4Boz8Oxng: Downloading video info webpage\n",
      "[youtube] 6E4Boz8Oxng: Looking for automatic captions\n",
      "[youtube] 6E4Boz8Oxng: Downloading MPD manifest\n",
      "[youtube] 6E4Boz8Oxng: Downloading MPD manifest\n",
      "[info] Writing video subtitles to: subtitle_6E4Boz8Oxng.en.vtt\n",
      "[youtube] 9Q1BjvXfuvA: Downloading webpage\n",
      "[youtube] 9Q1BjvXfuvA: Downloading video info webpage\n",
      "[youtube] 9Q1BjvXfuvA: Looking for automatic captions\n",
      "[info] Writing video subtitles to: subtitle_9Q1BjvXfuvA.en.vtt\n",
      "[youtube] 9F_xBpPgjak: Downloading webpage\n",
      "[youtube] 9F_xBpPgjak: Downloading video info webpage\n",
      "[youtube] 9F_xBpPgjak: Looking for automatic captions\n",
      "[info] Writing video subtitles to: subtitle_9F_xBpPgjak.en.vtt\n",
      "[youtube] mg7Pd2NVnJY: Downloading webpage\n",
      "[youtube] mg7Pd2NVnJY: Downloading video info webpage\n",
      "[youtube] mg7Pd2NVnJY: Looking for automatic captions\n"
     ]
    },
    {
     "name": "stderr",
     "output_type": "stream",
     "text": [
      "WARNING: Couldn't find automatic captions for mg7Pd2NVnJY\n"
     ]
    },
    {
     "name": "stdout",
     "output_type": "stream",
     "text": [
      "No captions for mg7Pd2NVnJY\n",
      "[youtube] 2nxxrmZr7hI: Downloading webpage\n",
      "[youtube] 2nxxrmZr7hI: Downloading video info webpage\n",
      "[youtube] 2nxxrmZr7hI: Looking for automatic captions\n"
     ]
    },
    {
     "name": "stderr",
     "output_type": "stream",
     "text": [
      "WARNING: Couldn't find automatic captions for 2nxxrmZr7hI\n"
     ]
    },
    {
     "name": "stdout",
     "output_type": "stream",
     "text": [
      "[youtube] 2nxxrmZr7hI: Downloading MPD manifest\n",
      "[youtube] 2nxxrmZr7hI: Downloading MPD manifest\n",
      "No captions for 2nxxrmZr7hI\n",
      "[youtube] QrxsU5zboVs: Downloading webpage\n",
      "[youtube] QrxsU5zboVs: Downloading video info webpage\n",
      "[youtube] QrxsU5zboVs: Looking for automatic captions\n",
      "[info] Writing video subtitles to: subtitle_QrxsU5zboVs.en.vtt\n",
      "[youtube] 62c-s905O6w: Downloading webpage\n",
      "[youtube] 62c-s905O6w: Downloading video info webpage\n",
      "[youtube] 62c-s905O6w: Looking for automatic captions\n"
     ]
    },
    {
     "name": "stderr",
     "output_type": "stream",
     "text": [
      "WARNING: Couldn't find automatic captions for 62c-s905O6w\n"
     ]
    },
    {
     "name": "stdout",
     "output_type": "stream",
     "text": [
      "No captions for 62c-s905O6w\n",
      "[youtube] 8tyn7GSKC4w: Downloading webpage\n",
      "[youtube] 8tyn7GSKC4w: Downloading video info webpage\n",
      "[youtube] 8tyn7GSKC4w: Looking for automatic captions\n",
      "[info] Writing video subtitles to: subtitle_8tyn7GSKC4w.en.vtt\n",
      "[youtube] ZqNzb4GkXiA: Downloading webpage\n",
      "[youtube] ZqNzb4GkXiA: Downloading video info webpage\n",
      "[youtube] ZqNzb4GkXiA: Looking for automatic captions\n",
      "[info] Writing video subtitles to: subtitle_ZqNzb4GkXiA.en.vtt\n",
      "[youtube] oMsG9VR5jlU: Downloading webpage\n",
      "[youtube] oMsG9VR5jlU: Downloading video info webpage\n",
      "[youtube] oMsG9VR5jlU: Looking for automatic captions\n",
      "[info] Writing video subtitles to: subtitle_oMsG9VR5jlU.en.vtt\n",
      "[youtube] fWxkZGeOppk: Downloading webpage\n",
      "[youtube] fWxkZGeOppk: Downloading video info webpage\n",
      "[youtube] fWxkZGeOppk: Looking for automatic captions\n",
      "[info] Writing video subtitles to: subtitle_fWxkZGeOppk.en.vtt\n",
      "[youtube] xiNlrPd_zL8: Downloading webpage\n",
      "[youtube] xiNlrPd_zL8: Downloading video info webpage\n",
      "[youtube] xiNlrPd_zL8: Looking for automatic captions\n",
      "[info] Writing video subtitles to: subtitle_xiNlrPd_zL8.en.vtt\n",
      "[youtube] Im5LCnIj4Fs: Downloading webpage\n",
      "[youtube] Im5LCnIj4Fs: Downloading video info webpage\n",
      "[youtube] Im5LCnIj4Fs: Looking for automatic captions\n",
      "[info] Writing video subtitles to: subtitle_Im5LCnIj4Fs.en.vtt\n",
      "[youtube] eC7Rxy0G4U8: Downloading webpage\n",
      "[youtube] eC7Rxy0G4U8: Downloading video info webpage\n",
      "[youtube] eC7Rxy0G4U8: Looking for automatic captions\n",
      "[info] Writing video subtitles to: subtitle_eC7Rxy0G4U8.en.vtt\n",
      "[youtube] 9oQKRkc64cM: Downloading webpage\n",
      "[youtube] 9oQKRkc64cM: Downloading video info webpage\n",
      "[youtube] 9oQKRkc64cM: Looking for automatic captions\n",
      "[info] Writing video subtitles to: subtitle_9oQKRkc64cM.en.vtt\n",
      "[youtube] R0U96TZHbPM: Downloading webpage\n",
      "[youtube] R0U96TZHbPM: Downloading video info webpage\n",
      "[youtube] R0U96TZHbPM: Looking for automatic captions\n",
      "[info] Writing video subtitles to: subtitle_R0U96TZHbPM.en.vtt\n",
      "[youtube] QDIYbOGSpUU: Downloading webpage\n",
      "[youtube] QDIYbOGSpUU: Downloading video info webpage\n",
      "[youtube] QDIYbOGSpUU: Looking for automatic captions\n",
      "[info] Writing video subtitles to: subtitle_QDIYbOGSpUU.en.vtt\n",
      "[youtube] xV5WAZNmFR8: Downloading webpage\n",
      "[youtube] xV5WAZNmFR8: Downloading video info webpage\n",
      "[youtube] xV5WAZNmFR8: Looking for automatic captions\n",
      "[info] Writing video subtitles to: subtitle_xV5WAZNmFR8.en.vtt\n",
      "[youtube] iMDl749y_4k: Downloading webpage\n",
      "[youtube] iMDl749y_4k: Downloading video info webpage\n",
      "[youtube] iMDl749y_4k: Looking for automatic captions\n",
      "[info] Writing video subtitles to: subtitle_iMDl749y_4k.en.vtt\n",
      "[youtube] VXTsO1cVHDA: Downloading webpage\n",
      "[youtube] VXTsO1cVHDA: Downloading video info webpage\n",
      "[youtube] VXTsO1cVHDA: Looking for automatic captions\n",
      "[info] Writing video subtitles to: subtitle_VXTsO1cVHDA.en.vtt\n",
      "[youtube] 1Xq3aGY0FNI: Downloading webpage\n",
      "[youtube] 1Xq3aGY0FNI: Downloading video info webpage\n",
      "[youtube] 1Xq3aGY0FNI: Looking for automatic captions\n",
      "[info] Writing video subtitles to: subtitle_1Xq3aGY0FNI.en.vtt\n",
      "[youtube] 7kYEXUuTZeA: Downloading webpage\n",
      "[youtube] 7kYEXUuTZeA: Downloading video info webpage\n",
      "[youtube] 7kYEXUuTZeA: Looking for automatic captions\n"
     ]
    },
    {
     "name": "stderr",
     "output_type": "stream",
     "text": [
      "WARNING: Couldn't find automatic captions for 7kYEXUuTZeA\n"
     ]
    },
    {
     "name": "stdout",
     "output_type": "stream",
     "text": [
      "No captions for 7kYEXUuTZeA\n",
      "[youtube] 1rMm0qaa2Hs: Downloading webpage\n",
      "[youtube] 1rMm0qaa2Hs: Downloading video info webpage\n",
      "[youtube] 1rMm0qaa2Hs: Looking for automatic captions\n",
      "[info] Writing video subtitles to: subtitle_1rMm0qaa2Hs.en.vtt\n",
      "[youtube] EDHrne1wblE: Downloading webpage\n",
      "[youtube] EDHrne1wblE: Downloading video info webpage\n",
      "[youtube] EDHrne1wblE: Looking for automatic captions\n"
     ]
    },
    {
     "name": "stderr",
     "output_type": "stream",
     "text": [
      "WARNING: Couldn't find automatic captions for EDHrne1wblE\n"
     ]
    },
    {
     "name": "stdout",
     "output_type": "stream",
     "text": [
      "No captions for EDHrne1wblE\n",
      "[youtube] AqfR0N7x4wQ: Downloading webpage\n",
      "[youtube] AqfR0N7x4wQ: Downloading video info webpage\n",
      "[youtube] AqfR0N7x4wQ: Looking for automatic captions\n",
      "[youtube] AqfR0N7x4wQ: Downloading MPD manifest\n",
      "[youtube] AqfR0N7x4wQ: Downloading MPD manifest\n",
      "[info] Writing video subtitles to: subtitle_AqfR0N7x4wQ.en.vtt\n",
      "[youtube] _qmuKme2hWg: Downloading webpage\n",
      "[youtube] _qmuKme2hWg: Downloading video info webpage\n",
      "[youtube] _qmuKme2hWg: Looking for automatic captions\n"
     ]
    },
    {
     "name": "stderr",
     "output_type": "stream",
     "text": [
      "WARNING: Couldn't find automatic captions for _qmuKme2hWg\n"
     ]
    },
    {
     "name": "stdout",
     "output_type": "stream",
     "text": [
      "No captions for _qmuKme2hWg\n",
      "[youtube] S7OGgt2aMwA: Downloading webpage\n",
      "[youtube] S7OGgt2aMwA: Downloading video info webpage\n",
      "[youtube] S7OGgt2aMwA: Looking for automatic captions\n",
      "[info] Writing video subtitles to: subtitle_S7OGgt2aMwA.en.vtt\n",
      "[youtube] QV29J1YCz1Q: Downloading webpage\n",
      "[youtube] QV29J1YCz1Q: Downloading video info webpage\n",
      "[youtube] QV29J1YCz1Q: Looking for automatic captions\n",
      "[info] Writing video subtitles to: subtitle_QV29J1YCz1Q.en.vtt\n",
      "[youtube] 8bv3zgiFQ4o: Downloading webpage\n",
      "[youtube] 8bv3zgiFQ4o: Downloading video info webpage\n",
      "[youtube] 8bv3zgiFQ4o: Looking for automatic captions\n",
      "[info] Writing video subtitles to: subtitle_8bv3zgiFQ4o.en.vtt\n",
      "[youtube] dq16wWgcSt8: Downloading webpage\n",
      "[youtube] dq16wWgcSt8: Downloading video info webpage\n",
      "[youtube] dq16wWgcSt8: Looking for automatic captions\n",
      "[info] Writing video subtitles to: subtitle_dq16wWgcSt8.en.vtt\n",
      "[youtube] wXtET3c48cE: Downloading webpage\n",
      "[youtube] wXtET3c48cE: Downloading video info webpage\n",
      "[youtube] wXtET3c48cE: Looking for automatic captions\n"
     ]
    },
    {
     "name": "stderr",
     "output_type": "stream",
     "text": [
      "WARNING: Couldn't find automatic captions for wXtET3c48cE\n"
     ]
    },
    {
     "name": "stdout",
     "output_type": "stream",
     "text": [
      "[youtube] wXtET3c48cE: Downloading MPD manifest\n",
      "[youtube] wXtET3c48cE: Downloading MPD manifest\n",
      "No captions for wXtET3c48cE\n",
      "[youtube] ty-O1JpQDJY: Downloading webpage\n",
      "[youtube] ty-O1JpQDJY: Downloading video info webpage\n",
      "[youtube] ty-O1JpQDJY: Looking for automatic captions\n",
      "[info] Writing video subtitles to: subtitle_ty-O1JpQDJY.en.vtt\n",
      "[youtube] 17ct4E87Ny4: Downloading webpage\n",
      "[youtube] 17ct4E87Ny4: Downloading video info webpage\n",
      "[youtube] 17ct4E87Ny4: Looking for automatic captions\n",
      "[info] Writing video subtitles to: subtitle_17ct4E87Ny4.en.vtt\n",
      "[youtube] w9TF0GzHW7M: Downloading webpage\n",
      "[youtube] w9TF0GzHW7M: Downloading video info webpage\n",
      "[youtube] w9TF0GzHW7M: Looking for automatic captions\n",
      "[info] Writing video subtitles to: subtitle_w9TF0GzHW7M.en.vtt\n",
      "[youtube] RA-fQCriMhM: Downloading webpage\n",
      "[youtube] RA-fQCriMhM: Downloading video info webpage\n",
      "[youtube] RA-fQCriMhM: Looking for automatic captions\n",
      "[info] Writing video subtitles to: subtitle_RA-fQCriMhM.en.vtt\n",
      "[youtube] EOpJSCCcWzE: Downloading webpage\n",
      "[youtube] EOpJSCCcWzE: Downloading video info webpage\n",
      "[youtube] EOpJSCCcWzE: Looking for automatic captions\n",
      "[youtube] EOpJSCCcWzE: Downloading MPD manifest\n",
      "[youtube] EOpJSCCcWzE: Downloading MPD manifest\n",
      "[info] Writing video subtitles to: subtitle_EOpJSCCcWzE.en.vtt\n",
      "[youtube] mhWYJRBKvbY: Downloading webpage\n",
      "[youtube] mhWYJRBKvbY: Downloading video info webpage\n",
      "[youtube] mhWYJRBKvbY: Looking for automatic captions\n",
      "[info] Writing video subtitles to: subtitle_mhWYJRBKvbY.en.vtt\n",
      "[youtube] RxVQWNiWYZM: Downloading webpage\n",
      "[youtube] RxVQWNiWYZM: Downloading video info webpage\n",
      "[youtube] RxVQWNiWYZM: Looking for automatic captions\n"
     ]
    },
    {
     "name": "stderr",
     "output_type": "stream",
     "text": [
      "WARNING: Couldn't find automatic captions for RxVQWNiWYZM\n"
     ]
    },
    {
     "name": "stdout",
     "output_type": "stream",
     "text": [
      "[youtube] RxVQWNiWYZM: Downloading MPD manifest\n",
      "[youtube] RxVQWNiWYZM: Downloading MPD manifest\n",
      "No captions for RxVQWNiWYZM\n",
      "[youtube] X1ExTABZ3Oo: Downloading webpage\n",
      "[youtube] X1ExTABZ3Oo: Downloading video info webpage\n",
      "[youtube] X1ExTABZ3Oo: Looking for automatic captions\n",
      "[info] Writing video subtitles to: subtitle_X1ExTABZ3Oo.en.vtt\n",
      "[youtube] S5p6uSPxYpg: Downloading webpage\n",
      "[youtube] S5p6uSPxYpg: Downloading video info webpage\n",
      "[youtube] S5p6uSPxYpg: Looking for automatic captions\n",
      "[info] Writing video subtitles to: subtitle_S5p6uSPxYpg.en.vtt\n",
      "[youtube] i7OZty1tVOI: Downloading webpage\n",
      "[youtube] i7OZty1tVOI: Downloading video info webpage\n",
      "[youtube] i7OZty1tVOI: Looking for automatic captions\n",
      "[info] Writing video subtitles to: subtitle_i7OZty1tVOI.en.vtt\n",
      "[youtube] uxgc3PNQh28: Downloading webpage\n",
      "[youtube] uxgc3PNQh28: Downloading video info webpage\n",
      "[youtube] uxgc3PNQh28: Looking for automatic captions\n",
      "[info] Writing video subtitles to: subtitle_uxgc3PNQh28.en.vtt\n",
      "[youtube] 0WQrqnqu4zA: Downloading webpage\n",
      "[youtube] 0WQrqnqu4zA: Downloading video info webpage\n",
      "[youtube] 0WQrqnqu4zA: Looking for automatic captions\n",
      "[youtube] 0WQrqnqu4zA: Downloading MPD manifest\n",
      "[youtube] 0WQrqnqu4zA: Downloading MPD manifest\n",
      "[info] Writing video subtitles to: subtitle_0WQrqnqu4zA.en.vtt\n",
      "[youtube] rFAtY9WbG1U: Downloading webpage\n",
      "[youtube] rFAtY9WbG1U: Downloading video info webpage\n",
      "[youtube] rFAtY9WbG1U: Looking for automatic captions\n",
      "[info] Writing video subtitles to: subtitle_rFAtY9WbG1U.en.vtt\n",
      "[youtube] ILkUxu7g4as: Downloading webpage\n",
      "[youtube] ILkUxu7g4as: Downloading video info webpage\n",
      "[youtube] ILkUxu7g4as: Looking for automatic captions\n"
     ]
    },
    {
     "name": "stderr",
     "output_type": "stream",
     "text": [
      "WARNING: Couldn't find automatic captions for ILkUxu7g4as\n"
     ]
    },
    {
     "name": "stdout",
     "output_type": "stream",
     "text": [
      "No captions for ILkUxu7g4as\n",
      "[youtube] S_y5FYV2QQE: Downloading webpage\n",
      "[youtube] S_y5FYV2QQE: Downloading video info webpage\n",
      "[youtube] S_y5FYV2QQE: Looking for automatic captions\n",
      "[info] Writing video subtitles to: subtitle_S_y5FYV2QQE.en.vtt\n",
      "[youtube] GUe7i0yq39Y: Downloading webpage\n",
      "[youtube] GUe7i0yq39Y: Downloading video info webpage\n",
      "[youtube] GUe7i0yq39Y: Looking for automatic captions\n",
      "[youtube] GUe7i0yq39Y: Downloading MPD manifest\n",
      "[youtube] GUe7i0yq39Y: Downloading MPD manifest\n",
      "[info] Writing video subtitles to: subtitle_GUe7i0yq39Y.en.vtt\n",
      "[youtube] Kuvaq5_owfk: Downloading webpage\n",
      "[youtube] Kuvaq5_owfk: Downloading video info webpage\n",
      "[youtube] Kuvaq5_owfk: Looking for automatic captions\n"
     ]
    },
    {
     "name": "stderr",
     "output_type": "stream",
     "text": [
      "WARNING: Couldn't find automatic captions for Kuvaq5_owfk\n"
     ]
    },
    {
     "name": "stdout",
     "output_type": "stream",
     "text": [
      "No captions for Kuvaq5_owfk\n",
      "[youtube] jUrYOpLXfjk: Downloading webpage\n",
      "[youtube] jUrYOpLXfjk: Downloading video info webpage\n",
      "[youtube] jUrYOpLXfjk: Looking for automatic captions\n",
      "[info] Writing video subtitles to: subtitle_jUrYOpLXfjk.en.vtt\n",
      "[youtube] sj-trtkSeog: Downloading webpage\n",
      "[youtube] sj-trtkSeog: Downloading video info webpage\n",
      "[youtube] sj-trtkSeog: Looking for automatic captions\n",
      "[youtube] sj-trtkSeog: Downloading MPD manifest\n",
      "[youtube] sj-trtkSeog: Downloading MPD manifest\n",
      "[info] Writing video subtitles to: subtitle_sj-trtkSeog.en.vtt\n",
      "[youtube] o1eL_V6SIug: Downloading webpage\n",
      "[youtube] o1eL_V6SIug: Downloading video info webpage\n",
      "[youtube] o1eL_V6SIug: Looking for automatic captions\n",
      "[info] Writing video subtitles to: subtitle_o1eL_V6SIug.en.vtt\n",
      "[youtube] PFclPt0zAvs: Downloading webpage\n",
      "[youtube] PFclPt0zAvs: Downloading video info webpage\n",
      "[youtube] PFclPt0zAvs: Looking for automatic captions\n"
     ]
    },
    {
     "name": "stderr",
     "output_type": "stream",
     "text": [
      "WARNING: Couldn't find automatic captions for PFclPt0zAvs\n"
     ]
    },
    {
     "name": "stdout",
     "output_type": "stream",
     "text": [
      "[youtube] PFclPt0zAvs: Downloading MPD manifest\n",
      "[youtube] PFclPt0zAvs: Downloading MPD manifest\n",
      "No captions for PFclPt0zAvs\n",
      "[youtube] IOMSLegy-fA: Downloading webpage\n",
      "[youtube] IOMSLegy-fA: Downloading video info webpage\n",
      "[youtube] IOMSLegy-fA: Looking for automatic captions\n",
      "[info] Writing video subtitles to: subtitle_IOMSLegy-fA.en.vtt\n",
      "[youtube] 9brwUVNMukQ: Downloading webpage\n",
      "[youtube] 9brwUVNMukQ: Downloading video info webpage\n",
      "[youtube] 9brwUVNMukQ: Looking for automatic captions\n",
      "[info] Writing video subtitles to: subtitle_9brwUVNMukQ.en.vtt\n",
      "[youtube] eUYR2pEdxJ0: Downloading webpage\n",
      "[youtube] eUYR2pEdxJ0: Downloading video info webpage\n",
      "[youtube] eUYR2pEdxJ0: Looking for automatic captions\n",
      "[info] Writing video subtitles to: subtitle_eUYR2pEdxJ0.en.vtt\n",
      "[youtube] yC0NtW47G3k: Downloading webpage\n",
      "[youtube] yC0NtW47G3k: Downloading video info webpage\n",
      "[youtube] yC0NtW47G3k: Looking for automatic captions\n",
      "[youtube] yC0NtW47G3k: Downloading MPD manifest\n",
      "[youtube] yC0NtW47G3k: Downloading MPD manifest\n",
      "[info] Writing video subtitles to: subtitle_yC0NtW47G3k.en.vtt\n",
      "[youtube] h200ycxbi90: Downloading webpage\n",
      "[youtube] h200ycxbi90: Downloading video info webpage\n",
      "[youtube] h200ycxbi90: Looking for automatic captions\n"
     ]
    },
    {
     "name": "stderr",
     "output_type": "stream",
     "text": [
      "WARNING: Couldn't find automatic captions for h200ycxbi90\n"
     ]
    },
    {
     "name": "stdout",
     "output_type": "stream",
     "text": [
      "No captions for h200ycxbi90\n",
      "[youtube] uyOs1G8Rz1s: Downloading webpage\n",
      "[youtube] uyOs1G8Rz1s: Downloading video info webpage\n",
      "[youtube] uyOs1G8Rz1s: Looking for automatic captions\n",
      "[youtube] uyOs1G8Rz1s: Downloading MPD manifest\n",
      "[youtube] uyOs1G8Rz1s: Downloading MPD manifest\n",
      "[info] Writing video subtitles to: subtitle_uyOs1G8Rz1s.en.vtt\n",
      "[youtube] 0OsoAs36r5g: Downloading webpage\n",
      "[youtube] 0OsoAs36r5g: Downloading video info webpage\n",
      "[youtube] 0OsoAs36r5g: Looking for automatic captions\n",
      "[youtube] 0OsoAs36r5g: Downloading MPD manifest\n",
      "[youtube] 0OsoAs36r5g: Downloading MPD manifest\n",
      "[info] Writing video subtitles to: subtitle_0OsoAs36r5g.en.vtt\n",
      "[youtube] aHxmJ8AyyR4: Downloading webpage\n",
      "[youtube] aHxmJ8AyyR4: Downloading video info webpage\n",
      "[youtube] aHxmJ8AyyR4: Looking for automatic captions\n",
      "[info] Writing video subtitles to: subtitle_aHxmJ8AyyR4.en.vtt\n",
      "[youtube] yDxenxRPeQ0: Downloading webpage\n",
      "[youtube] yDxenxRPeQ0: Downloading video info webpage\n",
      "[youtube] yDxenxRPeQ0: Looking for automatic captions\n",
      "[info] Writing video subtitles to: subtitle_yDxenxRPeQ0.en.vtt\n",
      "[youtube] 1ijcAr0E5ow: Downloading webpage\n",
      "[youtube] 1ijcAr0E5ow: Downloading video info webpage\n",
      "[youtube] 1ijcAr0E5ow: Looking for automatic captions\n",
      "[youtube] 1ijcAr0E5ow: Downloading MPD manifest\n",
      "[youtube] 1ijcAr0E5ow: Downloading MPD manifest\n",
      "[info] Writing video subtitles to: subtitle_1ijcAr0E5ow.en.vtt\n",
      "[youtube] YY6UWihMzOs: Downloading webpage\n",
      "[youtube] YY6UWihMzOs: Downloading video info webpage\n",
      "[youtube] YY6UWihMzOs: Looking for automatic captions\n",
      "[info] Writing video subtitles to: subtitle_YY6UWihMzOs.en.vtt\n",
      "[youtube] Blq5arJOLtg: Downloading webpage\n",
      "[youtube] Blq5arJOLtg: Downloading video info webpage\n",
      "[youtube] Blq5arJOLtg: Looking for automatic captions\n",
      "[info] Writing video subtitles to: subtitle_Blq5arJOLtg.en.vtt\n",
      "[youtube] pbtcd7gVpxg: Downloading webpage\n",
      "[youtube] pbtcd7gVpxg: Downloading video info webpage\n",
      "[youtube] pbtcd7gVpxg: Looking for automatic captions\n",
      "[info] Writing video subtitles to: subtitle_pbtcd7gVpxg.en.vtt\n",
      "[youtube] JKeng9ju9Tk: Downloading webpage\n",
      "[youtube] JKeng9ju9Tk: Downloading video info webpage\n",
      "[youtube] JKeng9ju9Tk: Looking for automatic captions\n",
      "[info] Writing video subtitles to: subtitle_JKeng9ju9Tk.en.vtt\n",
      "[youtube] jVensWFQwkM: Downloading webpage\n",
      "[youtube] jVensWFQwkM: Downloading video info webpage\n",
      "[youtube] jVensWFQwkM: Looking for automatic captions\n",
      "[info] Writing video subtitles to: subtitle_jVensWFQwkM.en.vtt\n",
      "[youtube] fwM4Ip24PyI: Downloading webpage\n",
      "[youtube] fwM4Ip24PyI: Downloading video info webpage\n",
      "[youtube] fwM4Ip24PyI: Looking for automatic captions\n",
      "[info] Writing video subtitles to: subtitle_fwM4Ip24PyI.en.vtt\n",
      "[youtube] __slEZstF5A: Downloading webpage\n",
      "[youtube] __slEZstF5A: Downloading video info webpage\n",
      "[youtube] __slEZstF5A: Looking for automatic captions\n",
      "[info] Writing video subtitles to: subtitle___slEZstF5A.en.vtt\n",
      "[youtube] pJgmE9qxlN8: Downloading webpage\n",
      "[youtube] pJgmE9qxlN8: Downloading video info webpage\n",
      "[youtube] pJgmE9qxlN8: Looking for automatic captions\n",
      "[info] Writing video subtitles to: subtitle_pJgmE9qxlN8.en.vtt\n",
      "[youtube] Uzzu8IXhlHk: Downloading webpage\n",
      "[youtube] Uzzu8IXhlHk: Downloading video info webpage\n",
      "[youtube] Uzzu8IXhlHk: Looking for automatic captions\n",
      "[info] Writing video subtitles to: subtitle_Uzzu8IXhlHk.en.vtt\n",
      "[youtube] PV0XWNoNVIU: Downloading webpage\n",
      "[youtube] PV0XWNoNVIU: Downloading video info webpage\n",
      "[youtube] PV0XWNoNVIU: Looking for automatic captions\n"
     ]
    },
    {
     "name": "stderr",
     "output_type": "stream",
     "text": [
      "WARNING: Couldn't find automatic captions for PV0XWNoNVIU\n"
     ]
    },
    {
     "name": "stdout",
     "output_type": "stream",
     "text": [
      "No captions for PV0XWNoNVIU\n",
      "[youtube] lWThPJwXuG0: Downloading webpage\n",
      "[youtube] lWThPJwXuG0: Downloading video info webpage\n",
      "[youtube] lWThPJwXuG0: Looking for automatic captions\n"
     ]
    },
    {
     "name": "stderr",
     "output_type": "stream",
     "text": [
      "WARNING: Couldn't find automatic captions for lWThPJwXuG0\n"
     ]
    },
    {
     "name": "stdout",
     "output_type": "stream",
     "text": [
      "No captions for lWThPJwXuG0\n",
      "[youtube] VJmMKs8dAug: Downloading webpage\n",
      "[youtube] VJmMKs8dAug: Downloading video info webpage\n",
      "[youtube] VJmMKs8dAug: Looking for automatic captions\n",
      "[youtube] VJmMKs8dAug: Downloading MPD manifest\n",
      "[youtube] VJmMKs8dAug: Downloading MPD manifest\n",
      "[info] Writing video subtitles to: subtitle_VJmMKs8dAug.en.vtt\n",
      "[youtube] SfTx81xjO18: Downloading webpage\n",
      "[youtube] SfTx81xjO18: Downloading video info webpage\n",
      "[youtube] SfTx81xjO18: Looking for automatic captions\n",
      "[info] Writing video subtitles to: subtitle_SfTx81xjO18.en.vtt\n",
      "[youtube] U-Iu_czZKMQ: Downloading webpage\n",
      "[youtube] U-Iu_czZKMQ: Downloading video info webpage\n",
      "[youtube] U-Iu_czZKMQ: Looking for automatic captions\n",
      "[info] Writing video subtitles to: subtitle_U-Iu_czZKMQ.en.vtt\n",
      "[youtube] P6YquMJGR48: Downloading webpage\n",
      "[youtube] P6YquMJGR48: Downloading video info webpage\n",
      "[youtube] P6YquMJGR48: Looking for automatic captions\n"
     ]
    },
    {
     "name": "stderr",
     "output_type": "stream",
     "text": [
      "WARNING: Couldn't find automatic captions for P6YquMJGR48\n"
     ]
    },
    {
     "name": "stdout",
     "output_type": "stream",
     "text": [
      "No captions for P6YquMJGR48\n",
      "[youtube] MT3BrMR1QNA: Downloading webpage\n",
      "[youtube] MT3BrMR1QNA: Downloading video info webpage\n",
      "[youtube] MT3BrMR1QNA: Looking for automatic captions\n",
      "[youtube] MT3BrMR1QNA: Downloading MPD manifest\n",
      "[youtube] MT3BrMR1QNA: Downloading MPD manifest\n",
      "[info] Writing video subtitles to: subtitle_MT3BrMR1QNA.en.vtt\n",
      "[youtube] TLQfBtEQnCE: Downloading webpage\n",
      "[youtube] TLQfBtEQnCE: Downloading video info webpage\n",
      "[youtube] TLQfBtEQnCE: Looking for automatic captions\n",
      "[info] Writing video subtitles to: subtitle_TLQfBtEQnCE.en.vtt\n",
      "[youtube] YF6WJhCmQww: Downloading webpage\n",
      "[youtube] YF6WJhCmQww: Downloading video info webpage\n",
      "[youtube] YF6WJhCmQww: Looking for automatic captions\n",
      "[info] Writing video subtitles to: subtitle_YF6WJhCmQww.en.vtt\n",
      "[youtube] tzHVsjXyf9A: Downloading webpage\n",
      "[youtube] tzHVsjXyf9A: Downloading video info webpage\n",
      "[youtube] tzHVsjXyf9A: Looking for automatic captions\n",
      "[info] Writing video subtitles to: subtitle_tzHVsjXyf9A.en.vtt\n",
      "[youtube] sTVL0PW30r8: Downloading webpage\n",
      "[youtube] sTVL0PW30r8: Downloading video info webpage\n",
      "[youtube] sTVL0PW30r8: Looking for automatic captions\n"
     ]
    },
    {
     "name": "stderr",
     "output_type": "stream",
     "text": [
      "WARNING: Couldn't find automatic captions for sTVL0PW30r8\n"
     ]
    },
    {
     "name": "stdout",
     "output_type": "stream",
     "text": [
      "[youtube] sTVL0PW30r8: Downloading MPD manifest\n",
      "[youtube] sTVL0PW30r8: Downloading MPD manifest\n",
      "No captions for sTVL0PW30r8\n",
      "[youtube] 7JhlsQNk8ss: Downloading webpage\n",
      "[youtube] 7JhlsQNk8ss: Downloading video info webpage\n",
      "[youtube] 7JhlsQNk8ss: Looking for automatic captions\n",
      "[youtube] 7JhlsQNk8ss: Downloading MPD manifest\n",
      "[youtube] 7JhlsQNk8ss: Downloading MPD manifest\n",
      "[info] Writing video subtitles to: subtitle_7JhlsQNk8ss.en.vtt\n",
      "[youtube] 7Y2NS-1umlU: Downloading webpage\n",
      "[youtube] 7Y2NS-1umlU: Downloading video info webpage\n",
      "[youtube] 7Y2NS-1umlU: Looking for automatic captions\n",
      "[info] Writing video subtitles to: subtitle_7Y2NS-1umlU.en.vtt\n",
      "[youtube] 8jsEQLGh1Tc: Downloading webpage\n",
      "[youtube] 8jsEQLGh1Tc: Downloading video info webpage\n",
      "[youtube] 8jsEQLGh1Tc: Looking for automatic captions\n"
     ]
    },
    {
     "name": "stderr",
     "output_type": "stream",
     "text": [
      "WARNING: Couldn't find automatic captions for 8jsEQLGh1Tc\n"
     ]
    },
    {
     "name": "stdout",
     "output_type": "stream",
     "text": [
      "No captions for 8jsEQLGh1Tc\n",
      "[youtube] 6lhKNu5-raU: Downloading webpage\n",
      "[youtube] 6lhKNu5-raU: Downloading video info webpage\n",
      "[youtube] 6lhKNu5-raU: Looking for automatic captions\n",
      "[info] Writing video subtitles to: subtitle_6lhKNu5-raU.en.vtt\n",
      "[youtube] V9dz5_mn5ek: Downloading webpage\n",
      "[youtube] V9dz5_mn5ek: Downloading video info webpage\n",
      "[youtube] V9dz5_mn5ek: Looking for automatic captions\n",
      "[info] Writing video subtitles to: subtitle_V9dz5_mn5ek.en.vtt\n",
      "[youtube] DSwig0J5pcA: Downloading webpage\n",
      "[youtube] DSwig0J5pcA: Downloading video info webpage\n",
      "[youtube] DSwig0J5pcA: Looking for automatic captions\n",
      "[info] Writing video subtitles to: subtitle_DSwig0J5pcA.en.vtt\n",
      "[youtube] SgwP0rNIWSo: Downloading webpage\n",
      "[youtube] SgwP0rNIWSo: Downloading video info webpage\n",
      "[youtube] SgwP0rNIWSo: Looking for automatic captions\n",
      "[info] Writing video subtitles to: subtitle_SgwP0rNIWSo.en.vtt\n",
      "[youtube] q1SUhq6k6ZI: Downloading webpage\n",
      "[youtube] q1SUhq6k6ZI: Downloading video info webpage\n",
      "[youtube] q1SUhq6k6ZI: Looking for automatic captions\n",
      "[info] Writing video subtitles to: subtitle_q1SUhq6k6ZI.en.vtt\n",
      "[youtube] G0yUzC6bh4A: Downloading webpage\n",
      "[youtube] G0yUzC6bh4A: Downloading video info webpage\n",
      "[youtube] G0yUzC6bh4A: Looking for automatic captions\n",
      "[youtube] G0yUzC6bh4A: Downloading MPD manifest\n",
      "[youtube] G0yUzC6bh4A: Downloading MPD manifest\n",
      "[info] Writing video subtitles to: subtitle_G0yUzC6bh4A.en.vtt\n",
      "[youtube] 082Rn_ZVs9A: Downloading webpage\n",
      "[youtube] 082Rn_ZVs9A: Downloading video info webpage\n",
      "[youtube] 082Rn_ZVs9A: Looking for automatic captions\n",
      "[info] Writing video subtitles to: subtitle_082Rn_ZVs9A.en.vtt\n",
      "[youtube] l7exLiG68NQ: Downloading webpage\n",
      "[youtube] l7exLiG68NQ: Downloading video info webpage\n",
      "[youtube] l7exLiG68NQ: Looking for automatic captions\n"
     ]
    },
    {
     "name": "stderr",
     "output_type": "stream",
     "text": [
      "WARNING: Couldn't find automatic captions for l7exLiG68NQ\n"
     ]
    },
    {
     "name": "stdout",
     "output_type": "stream",
     "text": [
      "No captions for l7exLiG68NQ\n",
      "[youtube] H_ai5C-pBhc: Downloading webpage\n",
      "[youtube] H_ai5C-pBhc: Downloading video info webpage\n",
      "[youtube] H_ai5C-pBhc: Looking for automatic captions\n"
     ]
    },
    {
     "name": "stderr",
     "output_type": "stream",
     "text": [
      "WARNING: Couldn't find automatic captions for H_ai5C-pBhc\n"
     ]
    },
    {
     "name": "stdout",
     "output_type": "stream",
     "text": [
      "No captions for H_ai5C-pBhc\n",
      "[youtube] zwzKzJzIf4U: Downloading webpage\n",
      "[youtube] zwzKzJzIf4U: Downloading video info webpage\n",
      "[youtube] zwzKzJzIf4U: Looking for automatic captions\n",
      "[info] Writing video subtitles to: subtitle_zwzKzJzIf4U.en.vtt\n",
      "[youtube] 8MHbizY9grs: Downloading webpage\n",
      "[youtube] 8MHbizY9grs: Downloading video info webpage\n",
      "[youtube] 8MHbizY9grs: Looking for automatic captions\n",
      "[youtube] 8MHbizY9grs: Downloading MPD manifest\n",
      "[youtube] 8MHbizY9grs: Downloading MPD manifest\n",
      "[info] Writing video subtitles to: subtitle_8MHbizY9grs.en.vtt\n",
      "[youtube] VExjtGDHVtE: Downloading webpage\n",
      "[youtube] VExjtGDHVtE: Downloading video info webpage\n",
      "[youtube] VExjtGDHVtE: Looking for automatic captions\n",
      "[youtube] VExjtGDHVtE: Downloading MPD manifest\n",
      "[youtube] VExjtGDHVtE: Downloading MPD manifest\n",
      "[info] Writing video subtitles to: subtitle_VExjtGDHVtE.en.vtt\n",
      "[youtube] EIAsDN4Urss: Downloading webpage\n",
      "[youtube] EIAsDN4Urss: Downloading video info webpage\n",
      "[youtube] EIAsDN4Urss: Looking for automatic captions\n",
      "[youtube] EIAsDN4Urss: Downloading MPD manifest\n",
      "[youtube] EIAsDN4Urss: Downloading MPD manifest\n",
      "[info] Writing video subtitles to: subtitle_EIAsDN4Urss.en.vtt\n",
      "[youtube] gyJ24lUjSTQ: Downloading webpage\n",
      "[youtube] gyJ24lUjSTQ: Downloading video info webpage\n",
      "[youtube] gyJ24lUjSTQ: Looking for automatic captions\n",
      "[youtube] gyJ24lUjSTQ: Downloading MPD manifest\n",
      "[youtube] gyJ24lUjSTQ: Downloading MPD manifest\n",
      "[info] Writing video subtitles to: subtitle_gyJ24lUjSTQ.en.vtt\n",
      "[youtube] cmDg86c3rpw: Downloading webpage\n",
      "[youtube] cmDg86c3rpw: Downloading video info webpage\n",
      "[youtube] cmDg86c3rpw: Looking for automatic captions\n",
      "[info] Writing video subtitles to: subtitle_cmDg86c3rpw.en.vtt\n",
      "[youtube] aQpyAdIM1bs: Downloading webpage\n",
      "[youtube] aQpyAdIM1bs: Downloading video info webpage\n",
      "[youtube] aQpyAdIM1bs: Looking for automatic captions\n",
      "[info] Writing video subtitles to: subtitle_aQpyAdIM1bs.en.vtt\n",
      "[youtube] 924Rm_ycD4s: Downloading webpage\n",
      "[youtube] 924Rm_ycD4s: Downloading video info webpage\n",
      "[youtube] 924Rm_ycD4s: Looking for automatic captions\n"
     ]
    },
    {
     "name": "stderr",
     "output_type": "stream",
     "text": [
      "WARNING: Couldn't find automatic captions for 924Rm_ycD4s\n"
     ]
    },
    {
     "name": "stdout",
     "output_type": "stream",
     "text": [
      "No captions for 924Rm_ycD4s\n",
      "[youtube] S56c1M5wJzU: Downloading webpage\n",
      "[youtube] S56c1M5wJzU: Downloading video info webpage\n",
      "[youtube] S56c1M5wJzU: Looking for automatic captions\n",
      "[info] Writing video subtitles to: subtitle_S56c1M5wJzU.en.vtt\n",
      "[youtube] _gc_Qu4EfM4: Downloading webpage\n",
      "[youtube] _gc_Qu4EfM4: Downloading video info webpage\n",
      "[youtube] _gc_Qu4EfM4: Looking for automatic captions\n",
      "[info] Writing video subtitles to: subtitle__gc_Qu4EfM4.en.vtt\n",
      "[youtube] yo2SHLkAPp0: Downloading webpage\n",
      "[youtube] yo2SHLkAPp0: Downloading video info webpage\n",
      "[youtube] yo2SHLkAPp0: Looking for automatic captions\n",
      "[youtube] yo2SHLkAPp0: Downloading MPD manifest\n",
      "[youtube] yo2SHLkAPp0: Downloading MPD manifest\n",
      "[info] Writing video subtitles to: subtitle_yo2SHLkAPp0.en.vtt\n",
      "[youtube] LsonPu8N614: Downloading webpage\n",
      "[youtube] LsonPu8N614: Downloading video info webpage\n",
      "[youtube] LsonPu8N614: Looking for automatic captions\n",
      "[youtube] LsonPu8N614: Downloading MPD manifest\n",
      "[youtube] LsonPu8N614: Downloading MPD manifest\n",
      "[info] Writing video subtitles to: subtitle_LsonPu8N614.en.vtt\n",
      "[youtube] vKd3dlPRtoY: Downloading webpage\n",
      "[youtube] vKd3dlPRtoY: Downloading video info webpage\n",
      "[youtube] vKd3dlPRtoY: Looking for automatic captions\n",
      "[info] Writing video subtitles to: subtitle_vKd3dlPRtoY.en.vtt\n",
      "[youtube] D280CH3KMhE: Downloading webpage\n",
      "[youtube] D280CH3KMhE: Downloading video info webpage\n",
      "[youtube] D280CH3KMhE: Looking for automatic captions\n"
     ]
    },
    {
     "name": "stderr",
     "output_type": "stream",
     "text": [
      "WARNING: Couldn't find automatic captions for D280CH3KMhE\n"
     ]
    },
    {
     "name": "stdout",
     "output_type": "stream",
     "text": [
      "No captions for D280CH3KMhE\n",
      "[youtube] aSmxv3eI6Fc: Downloading webpage\n",
      "[youtube] aSmxv3eI6Fc: Downloading video info webpage\n",
      "[youtube] aSmxv3eI6Fc: Looking for automatic captions\n",
      "[youtube] aSmxv3eI6Fc: Downloading MPD manifest\n",
      "[youtube] aSmxv3eI6Fc: Downloading MPD manifest\n",
      "[info] Writing video subtitles to: subtitle_aSmxv3eI6Fc.en.vtt\n",
      "[youtube] sfv8YGvP3A0: Downloading webpage\n",
      "[youtube] sfv8YGvP3A0: Downloading video info webpage\n",
      "[youtube] sfv8YGvP3A0: Looking for automatic captions\n",
      "[youtube] sfv8YGvP3A0: Downloading MPD manifest\n",
      "[youtube] sfv8YGvP3A0: Downloading MPD manifest\n",
      "[info] Writing video subtitles to: subtitle_sfv8YGvP3A0.en.vtt\n",
      "[youtube] C2KZL9BOsWU: Downloading webpage\n",
      "[youtube] C2KZL9BOsWU: Downloading video info webpage\n",
      "[youtube] C2KZL9BOsWU: Looking for automatic captions\n"
     ]
    },
    {
     "name": "stderr",
     "output_type": "stream",
     "text": [
      "WARNING: Couldn't find automatic captions for C2KZL9BOsWU\n"
     ]
    },
    {
     "name": "stdout",
     "output_type": "stream",
     "text": [
      "[youtube] C2KZL9BOsWU: Downloading MPD manifest\n",
      "[youtube] C2KZL9BOsWU: Downloading MPD manifest\n",
      "No captions for C2KZL9BOsWU\n",
      "[youtube] l-2HRlGlf7c: Downloading webpage\n",
      "[youtube] l-2HRlGlf7c: Downloading video info webpage\n",
      "[youtube] l-2HRlGlf7c: Looking for automatic captions\n",
      "[info] Writing video subtitles to: subtitle_l-2HRlGlf7c.en.vtt\n",
      "[youtube] Bq0ZtDiD8Ls: Downloading webpage\n",
      "[youtube] Bq0ZtDiD8Ls: Downloading video info webpage\n",
      "[youtube] Bq0ZtDiD8Ls: Looking for automatic captions\n",
      "[info] Writing video subtitles to: subtitle_Bq0ZtDiD8Ls.en.vtt\n",
      "[youtube] I9lxhk3y13M: Downloading webpage\n",
      "[youtube] I9lxhk3y13M: Downloading video info webpage\n",
      "[youtube] I9lxhk3y13M: Looking for automatic captions\n",
      "[info] Writing video subtitles to: subtitle_I9lxhk3y13M.en.vtt\n",
      "[youtube] zX5OqjeMksI: Downloading webpage\n",
      "[youtube] zX5OqjeMksI: Downloading video info webpage\n",
      "[youtube] zX5OqjeMksI: Looking for automatic captions\n"
     ]
    },
    {
     "name": "stderr",
     "output_type": "stream",
     "text": [
      "WARNING: Couldn't find automatic captions for zX5OqjeMksI\n"
     ]
    },
    {
     "name": "stdout",
     "output_type": "stream",
     "text": [
      "No captions for zX5OqjeMksI\n",
      "[youtube] iF5QiDShtWo: Downloading webpage\n",
      "[youtube] iF5QiDShtWo: Downloading video info webpage\n",
      "[youtube] iF5QiDShtWo: Looking for automatic captions\n",
      "[info] Writing video subtitles to: subtitle_iF5QiDShtWo.en.vtt\n",
      "[youtube] 3xbvoZ0OuJw: Downloading webpage\n",
      "[youtube] 3xbvoZ0OuJw: Downloading video info webpage\n",
      "[youtube] 3xbvoZ0OuJw: Looking for automatic captions\n",
      "[info] Writing video subtitles to: subtitle_3xbvoZ0OuJw.en.vtt\n",
      "[youtube] w2Wgp-RLZec: Downloading webpage\n",
      "[youtube] w2Wgp-RLZec: Downloading video info webpage\n",
      "[youtube] w2Wgp-RLZec: Looking for automatic captions\n",
      "[youtube] w2Wgp-RLZec: Downloading MPD manifest\n",
      "[youtube] w2Wgp-RLZec: Downloading MPD manifest\n",
      "[info] Writing video subtitles to: subtitle_w2Wgp-RLZec.en.vtt\n",
      "[youtube] bE5vEsuw7DU: Downloading webpage\n",
      "[youtube] bE5vEsuw7DU: Downloading video info webpage\n",
      "[youtube] bE5vEsuw7DU: Looking for automatic captions\n"
     ]
    },
    {
     "name": "stderr",
     "output_type": "stream",
     "text": [
      "WARNING: Couldn't find automatic captions for bE5vEsuw7DU\n"
     ]
    },
    {
     "name": "stdout",
     "output_type": "stream",
     "text": [
      "[youtube] bE5vEsuw7DU: Downloading MPD manifest\n",
      "[youtube] bE5vEsuw7DU: Downloading MPD manifest\n",
      "No captions for bE5vEsuw7DU\n",
      "[youtube] T5EkSxjkDfc: Downloading webpage\n",
      "[youtube] T5EkSxjkDfc: Downloading video info webpage\n",
      "[youtube] T5EkSxjkDfc: Looking for automatic captions\n",
      "[info] Writing video subtitles to: subtitle_T5EkSxjkDfc.en.vtt\n",
      "[youtube] ay1WdEMBu5g: Downloading webpage\n",
      "[youtube] ay1WdEMBu5g: Downloading video info webpage\n",
      "[youtube] ay1WdEMBu5g: Looking for automatic captions\n",
      "[info] Writing video subtitles to: subtitle_ay1WdEMBu5g.en.vtt\n",
      "[youtube] HmqCfT-6eks: Downloading webpage\n",
      "[youtube] HmqCfT-6eks: Downloading video info webpage\n",
      "[youtube] HmqCfT-6eks: Looking for automatic captions\n",
      "[info] Writing video subtitles to: subtitle_HmqCfT-6eks.en.vtt\n",
      "[youtube] TpIl5M1vKso: Downloading webpage\n",
      "[youtube] TpIl5M1vKso: Downloading video info webpage\n",
      "[youtube] TpIl5M1vKso: Looking for automatic captions\n",
      "[info] Writing video subtitles to: subtitle_TpIl5M1vKso.en.vtt\n",
      "[youtube] sQSC6N2OzdA: Downloading webpage\n",
      "[youtube] sQSC6N2OzdA: Downloading video info webpage\n",
      "[youtube] sQSC6N2OzdA: Looking for automatic captions\n"
     ]
    },
    {
     "name": "stderr",
     "output_type": "stream",
     "text": [
      "WARNING: Couldn't find automatic captions for sQSC6N2OzdA\n"
     ]
    },
    {
     "name": "stdout",
     "output_type": "stream",
     "text": [
      "No captions for sQSC6N2OzdA\n",
      "[youtube] 68BVlccxt3o: Downloading webpage\n",
      "[youtube] 68BVlccxt3o: Downloading video info webpage\n",
      "[youtube] 68BVlccxt3o: Looking for automatic captions\n"
     ]
    },
    {
     "name": "stderr",
     "output_type": "stream",
     "text": [
      "WARNING: Couldn't find automatic captions for 68BVlccxt3o\n"
     ]
    },
    {
     "name": "stdout",
     "output_type": "stream",
     "text": [
      "No captions for 68BVlccxt3o\n",
      "[youtube] 874mU7cLjp4: Downloading webpage\n",
      "[youtube] 874mU7cLjp4: Downloading video info webpage\n",
      "[youtube] 874mU7cLjp4: Looking for automatic captions\n",
      "[youtube] 874mU7cLjp4: Downloading MPD manifest\n",
      "[youtube] 874mU7cLjp4: Downloading MPD manifest\n",
      "[info] Writing video subtitles to: subtitle_874mU7cLjp4.en.vtt\n",
      "[youtube] UIBHNsh81hs: Downloading webpage\n",
      "[youtube] UIBHNsh81hs: Downloading video info webpage\n",
      "[youtube] UIBHNsh81hs: Looking for automatic captions\n",
      "[info] Writing video subtitles to: subtitle_UIBHNsh81hs.en.vtt\n",
      "[youtube] 4sTh84N7cw8: Downloading webpage\n",
      "[youtube] 4sTh84N7cw8: Downloading video info webpage\n",
      "[youtube] 4sTh84N7cw8: Looking for automatic captions\n",
      "[info] Writing video subtitles to: subtitle_4sTh84N7cw8.en.vtt\n",
      "[youtube] OPDsWJs8htU: Downloading webpage\n",
      "[youtube] OPDsWJs8htU: Downloading video info webpage\n",
      "[youtube] OPDsWJs8htU: Looking for automatic captions\n",
      "[youtube] OPDsWJs8htU: Downloading MPD manifest\n",
      "[youtube] OPDsWJs8htU: Downloading MPD manifest\n",
      "[info] Writing video subtitles to: subtitle_OPDsWJs8htU.en.vtt\n",
      "[youtube] 0A23Bg7RF8k: Downloading webpage\n",
      "[youtube] 0A23Bg7RF8k: Downloading video info webpage\n",
      "[youtube] 0A23Bg7RF8k: Looking for automatic captions\n",
      "[info] Writing video subtitles to: subtitle_0A23Bg7RF8k.en.vtt\n",
      "[youtube] KfUP4n0ULG4: Downloading webpage\n",
      "[youtube] KfUP4n0ULG4: Downloading video info webpage\n",
      "[youtube] KfUP4n0ULG4: Looking for automatic captions\n"
     ]
    },
    {
     "name": "stderr",
     "output_type": "stream",
     "text": [
      "WARNING: Couldn't find automatic captions for KfUP4n0ULG4\n"
     ]
    },
    {
     "name": "stdout",
     "output_type": "stream",
     "text": [
      "No captions for KfUP4n0ULG4\n",
      "[youtube] mkpfiGoFfJQ: Downloading webpage\n",
      "[youtube] mkpfiGoFfJQ: Downloading video info webpage\n",
      "[youtube] mkpfiGoFfJQ: Looking for automatic captions\n",
      "[info] Writing video subtitles to: subtitle_mkpfiGoFfJQ.en.vtt\n",
      "[youtube] n22JpnoTj4w: Downloading webpage\n",
      "[youtube] n22JpnoTj4w: Downloading video info webpage\n",
      "[youtube] n22JpnoTj4w: Looking for automatic captions\n"
     ]
    },
    {
     "name": "stderr",
     "output_type": "stream",
     "text": [
      "WARNING: Couldn't find automatic captions for n22JpnoTj4w\n"
     ]
    },
    {
     "name": "stdout",
     "output_type": "stream",
     "text": [
      "No captions for n22JpnoTj4w\n",
      "[youtube] iMKpjpX2_QU: Downloading webpage\n",
      "[youtube] iMKpjpX2_QU: Downloading video info webpage\n",
      "[youtube] iMKpjpX2_QU: Looking for automatic captions\n",
      "[info] Writing video subtitles to: subtitle_iMKpjpX2_QU.en.vtt\n",
      "[youtube] 0U2cpU4Z0rE: Downloading webpage\n",
      "[youtube] 0U2cpU4Z0rE: Downloading video info webpage\n",
      "[youtube] 0U2cpU4Z0rE: Looking for automatic captions\n",
      "[info] Writing video subtitles to: subtitle_0U2cpU4Z0rE.en.vtt\n",
      "[youtube] Prz5r_SG2D0: Downloading webpage\n",
      "[youtube] Prz5r_SG2D0: Downloading video info webpage\n",
      "[youtube] Prz5r_SG2D0: Looking for automatic captions\n"
     ]
    },
    {
     "name": "stderr",
     "output_type": "stream",
     "text": [
      "WARNING: Couldn't find automatic captions for Prz5r_SG2D0\n"
     ]
    },
    {
     "name": "stdout",
     "output_type": "stream",
     "text": [
      "No captions for Prz5r_SG2D0\n",
      "[youtube] ru9jKYxzezk: Downloading webpage\n",
      "[youtube] ru9jKYxzezk: Downloading video info webpage\n",
      "[youtube] ru9jKYxzezk: Looking for automatic captions\n",
      "[info] Writing video subtitles to: subtitle_ru9jKYxzezk.en.vtt\n",
      "[youtube] T50kFjw3jxE: Downloading webpage\n",
      "[youtube] T50kFjw3jxE: Downloading video info webpage\n",
      "[youtube] T50kFjw3jxE: Looking for automatic captions\n"
     ]
    },
    {
     "name": "stderr",
     "output_type": "stream",
     "text": [
      "WARNING: Couldn't find automatic captions for T50kFjw3jxE\n"
     ]
    },
    {
     "name": "stdout",
     "output_type": "stream",
     "text": [
      "No captions for T50kFjw3jxE\n",
      "[youtube] 2IoA8v9tVZw: Downloading webpage\n",
      "[youtube] 2IoA8v9tVZw: Downloading video info webpage\n",
      "[youtube] 2IoA8v9tVZw: Looking for automatic captions\n"
     ]
    },
    {
     "name": "stderr",
     "output_type": "stream",
     "text": [
      "WARNING: Couldn't find automatic captions for 2IoA8v9tVZw\n"
     ]
    },
    {
     "name": "stdout",
     "output_type": "stream",
     "text": [
      "No captions for 2IoA8v9tVZw\n",
      "[youtube] ZEJC1TIuAUE: Downloading webpage\n",
      "[youtube] ZEJC1TIuAUE: Downloading video info webpage\n",
      "[youtube] ZEJC1TIuAUE: Looking for automatic captions\n"
     ]
    },
    {
     "name": "stderr",
     "output_type": "stream",
     "text": [
      "WARNING: Couldn't find automatic captions for ZEJC1TIuAUE\n"
     ]
    },
    {
     "name": "stdout",
     "output_type": "stream",
     "text": [
      "No captions for ZEJC1TIuAUE\n",
      "[youtube] HXSpmdn2mbA: Downloading webpage\n",
      "[youtube] HXSpmdn2mbA: Downloading video info webpage\n",
      "[youtube] HXSpmdn2mbA: Looking for automatic captions\n",
      "[youtube] HXSpmdn2mbA: Downloading MPD manifest\n",
      "[youtube] HXSpmdn2mbA: Downloading MPD manifest\n",
      "[info] Writing video subtitles to: subtitle_HXSpmdn2mbA.en.vtt\n",
      "[youtube] ER-vPuIrLls: Downloading webpage\n",
      "[youtube] ER-vPuIrLls: Downloading video info webpage\n",
      "[youtube] ER-vPuIrLls: Looking for automatic captions\n",
      "[info] Writing video subtitles to: subtitle_ER-vPuIrLls.en.vtt\n",
      "[youtube] HsP23E7PkBk: Downloading webpage\n",
      "[youtube] HsP23E7PkBk: Downloading video info webpage\n",
      "[youtube] HsP23E7PkBk: Looking for automatic captions\n",
      "[info] Writing video subtitles to: subtitle_HsP23E7PkBk.en.vtt\n",
      "[youtube] 8UJqgJbxUS0: Downloading webpage\n",
      "[youtube] 8UJqgJbxUS0: Downloading video info webpage\n",
      "[youtube] 8UJqgJbxUS0: Looking for automatic captions\n"
     ]
    },
    {
     "name": "stderr",
     "output_type": "stream",
     "text": [
      "WARNING: Couldn't find automatic captions for 8UJqgJbxUS0\n"
     ]
    },
    {
     "name": "stdout",
     "output_type": "stream",
     "text": [
      "No captions for 8UJqgJbxUS0\n",
      "[youtube] TshicqhA1c0: Downloading webpage\n",
      "[youtube] TshicqhA1c0: Downloading video info webpage\n",
      "[youtube] TshicqhA1c0: Looking for automatic captions\n",
      "[info] Writing video subtitles to: subtitle_TshicqhA1c0.en.vtt\n",
      "[youtube] xWMzxIYFTgA: Downloading webpage\n",
      "[youtube] xWMzxIYFTgA: Downloading video info webpage\n",
      "[youtube] xWMzxIYFTgA: Looking for automatic captions\n",
      "[info] Writing video subtitles to: subtitle_xWMzxIYFTgA.en.vtt\n",
      "[youtube] DzBO3r8K3pM: Downloading webpage\n",
      "[youtube] DzBO3r8K3pM: Downloading video info webpage\n",
      "[youtube] DzBO3r8K3pM: Looking for automatic captions\n",
      "[info] Writing video subtitles to: subtitle_DzBO3r8K3pM.en.vtt\n",
      "[youtube] WmwZUs3ca2g: Downloading webpage\n",
      "[youtube] WmwZUs3ca2g: Downloading video info webpage\n",
      "[youtube] WmwZUs3ca2g: Looking for automatic captions\n"
     ]
    },
    {
     "name": "stderr",
     "output_type": "stream",
     "text": [
      "WARNING: Couldn't find automatic captions for WmwZUs3ca2g\n"
     ]
    },
    {
     "name": "stdout",
     "output_type": "stream",
     "text": [
      "No captions for WmwZUs3ca2g\n",
      "[youtube] 6Zg7q4Fj-U0: Downloading webpage\n",
      "[youtube] 6Zg7q4Fj-U0: Downloading video info webpage\n",
      "[youtube] 6Zg7q4Fj-U0: Looking for automatic captions\n"
     ]
    },
    {
     "name": "stderr",
     "output_type": "stream",
     "text": [
      "WARNING: Couldn't find automatic captions for 6Zg7q4Fj-U0\n"
     ]
    },
    {
     "name": "stdout",
     "output_type": "stream",
     "text": [
      "No captions for 6Zg7q4Fj-U0\n",
      "[youtube] OCMDnaGfWg8: Downloading webpage\n",
      "[youtube] OCMDnaGfWg8: Downloading video info webpage\n",
      "[youtube] OCMDnaGfWg8: Looking for automatic captions\n",
      "[info] Writing video subtitles to: subtitle_OCMDnaGfWg8.en.vtt\n",
      "[youtube] 5eSTwvQTkTk: Downloading webpage\n",
      "[youtube] 5eSTwvQTkTk: Downloading video info webpage\n",
      "[youtube] 5eSTwvQTkTk: Looking for automatic captions\n",
      "[info] Writing video subtitles to: subtitle_5eSTwvQTkTk.en.vtt\n",
      "[youtube] BSVqt30aQ7c: Downloading webpage\n",
      "[youtube] BSVqt30aQ7c: Downloading video info webpage\n",
      "[youtube] BSVqt30aQ7c: Looking for automatic captions\n",
      "[info] Writing video subtitles to: subtitle_BSVqt30aQ7c.en.vtt\n",
      "[youtube] Ams9sI8NQr8: Downloading webpage\n",
      "[youtube] Ams9sI8NQr8: Downloading video info webpage\n",
      "[youtube] Ams9sI8NQr8: Looking for automatic captions\n",
      "[info] Writing video subtitles to: subtitle_Ams9sI8NQr8.en.vtt\n",
      "[youtube] hWq-QHCq3uA: Downloading webpage\n",
      "[youtube] hWq-QHCq3uA: Downloading video info webpage\n",
      "[youtube] hWq-QHCq3uA: Looking for automatic captions\n",
      "[info] Writing video subtitles to: subtitle_hWq-QHCq3uA.en.vtt\n",
      "[youtube] Z-OzDsxIHNc: Downloading webpage\n",
      "[youtube] Z-OzDsxIHNc: Downloading video info webpage\n",
      "[youtube] Z-OzDsxIHNc: Looking for automatic captions\n",
      "[info] Writing video subtitles to: subtitle_Z-OzDsxIHNc.en.vtt\n",
      "[youtube] 1V1QA0ULWR8: Downloading webpage\n",
      "[youtube] 1V1QA0ULWR8: Downloading video info webpage\n",
      "[youtube] 1V1QA0ULWR8: Looking for automatic captions\n",
      "[info] Writing video subtitles to: subtitle_1V1QA0ULWR8.en.vtt\n",
      "[youtube] ckKTTl5aaOo: Downloading webpage\n",
      "[youtube] ckKTTl5aaOo: Downloading video info webpage\n",
      "[youtube] ckKTTl5aaOo: Looking for automatic captions\n",
      "[info] Writing video subtitles to: subtitle_ckKTTl5aaOo.en.vtt\n",
      "[youtube] vT2YH7Vabew: Downloading webpage\n",
      "[youtube] vT2YH7Vabew: Downloading video info webpage\n",
      "[youtube] vT2YH7Vabew: Looking for automatic captions\n",
      "[youtube] vT2YH7Vabew: Downloading MPD manifest\n",
      "[youtube] vT2YH7Vabew: Downloading MPD manifest\n",
      "[info] Writing video subtitles to: subtitle_vT2YH7Vabew.en.vtt\n",
      "[youtube] 2ZY6APD91tw: Downloading webpage\n",
      "[youtube] 2ZY6APD91tw: Downloading video info webpage\n",
      "[youtube] 2ZY6APD91tw: Looking for automatic captions\n",
      "[info] Writing video subtitles to: subtitle_2ZY6APD91tw.en.vtt\n",
      "[youtube] iDPv8m6Z1_8: Downloading webpage\n",
      "[youtube] iDPv8m6Z1_8: Downloading video info webpage\n",
      "[youtube] iDPv8m6Z1_8: Looking for automatic captions\n",
      "[info] Writing video subtitles to: subtitle_iDPv8m6Z1_8.en.vtt\n",
      "[youtube] UpTuMgtJMGo: Downloading webpage\n",
      "[youtube] UpTuMgtJMGo: Downloading video info webpage\n",
      "[youtube] UpTuMgtJMGo: Looking for automatic captions\n",
      "[info] Writing video subtitles to: subtitle_UpTuMgtJMGo.en.vtt\n",
      "[youtube] 49drs4HiB8Y: Downloading webpage\n",
      "[youtube] 49drs4HiB8Y: Downloading video info webpage\n",
      "[youtube] 49drs4HiB8Y: Looking for automatic captions\n",
      "[youtube] 49drs4HiB8Y: Downloading MPD manifest\n",
      "[youtube] 49drs4HiB8Y: Downloading MPD manifest\n",
      "[info] Writing video subtitles to: subtitle_49drs4HiB8Y.en.vtt\n",
      "[youtube] 5yiwK1tKsSY: Downloading webpage\n",
      "[youtube] 5yiwK1tKsSY: Downloading video info webpage\n",
      "[youtube] 5yiwK1tKsSY: Looking for automatic captions\n",
      "[info] Writing video subtitles to: subtitle_5yiwK1tKsSY.en.vtt\n",
      "[youtube] 5kr3aQB4wUs: Downloading webpage\n",
      "[youtube] 5kr3aQB4wUs: Downloading video info webpage\n",
      "[youtube] 5kr3aQB4wUs: Looking for automatic captions\n",
      "[youtube] 5kr3aQB4wUs: Downloading MPD manifest\n",
      "[youtube] 5kr3aQB4wUs: Downloading MPD manifest\n",
      "[info] Writing video subtitles to: subtitle_5kr3aQB4wUs.en.vtt\n",
      "[youtube] zK1yf8UvxUM: Downloading webpage\n",
      "[youtube] zK1yf8UvxUM: Downloading video info webpage\n",
      "[youtube] zK1yf8UvxUM: Looking for automatic captions\n",
      "[info] Writing video subtitles to: subtitle_zK1yf8UvxUM.en.vtt\n",
      "[youtube] Z0Z_VIoHvvc: Downloading webpage\n",
      "[youtube] Z0Z_VIoHvvc: Downloading video info webpage\n",
      "[youtube] Z0Z_VIoHvvc: Looking for automatic captions\n"
     ]
    },
    {
     "name": "stderr",
     "output_type": "stream",
     "text": [
      "WARNING: Couldn't find automatic captions for Z0Z_VIoHvvc\n"
     ]
    },
    {
     "name": "stdout",
     "output_type": "stream",
     "text": [
      "[youtube] Z0Z_VIoHvvc: Downloading MPD manifest\n",
      "[youtube] Z0Z_VIoHvvc: Downloading MPD manifest\n",
      "No captions for Z0Z_VIoHvvc\n",
      "[youtube] UGZ3cc4LwCs: Downloading webpage\n",
      "[youtube] UGZ3cc4LwCs: Downloading video info webpage\n",
      "[youtube] UGZ3cc4LwCs: Looking for automatic captions\n",
      "[info] Writing video subtitles to: subtitle_UGZ3cc4LwCs.en.vtt\n",
      "[youtube] zC1rJ55TZH0: Downloading webpage\n",
      "[youtube] zC1rJ55TZH0: Downloading video info webpage\n",
      "[youtube] zC1rJ55TZH0: Looking for automatic captions\n",
      "[info] Writing video subtitles to: subtitle_zC1rJ55TZH0.en.vtt\n",
      "[youtube] dAxOZEhZu_k: Downloading webpage\n",
      "[youtube] dAxOZEhZu_k: Downloading video info webpage\n",
      "[youtube] dAxOZEhZu_k: Looking for automatic captions\n"
     ]
    },
    {
     "name": "stderr",
     "output_type": "stream",
     "text": [
      "WARNING: Couldn't find automatic captions for dAxOZEhZu_k\n"
     ]
    },
    {
     "name": "stdout",
     "output_type": "stream",
     "text": [
      "No captions for dAxOZEhZu_k\n",
      "[youtube] nHP83282MsM: Downloading webpage\n",
      "[youtube] nHP83282MsM: Downloading video info webpage\n",
      "[youtube] nHP83282MsM: Looking for automatic captions\n"
     ]
    },
    {
     "name": "stderr",
     "output_type": "stream",
     "text": [
      "WARNING: Couldn't find automatic captions for nHP83282MsM\n"
     ]
    },
    {
     "name": "stdout",
     "output_type": "stream",
     "text": [
      "No captions for nHP83282MsM\n",
      "[youtube] jQ1L3rcG_7E: Downloading webpage\n",
      "[youtube] jQ1L3rcG_7E: Downloading video info webpage\n",
      "[youtube] jQ1L3rcG_7E: Looking for automatic captions\n",
      "[youtube] jQ1L3rcG_7E: Downloading MPD manifest\n",
      "[youtube] jQ1L3rcG_7E: Downloading MPD manifest\n",
      "[info] Writing video subtitles to: subtitle_jQ1L3rcG_7E.en.vtt\n",
      "[youtube] 7_xtJcrRP-I: Downloading webpage\n",
      "[youtube] 7_xtJcrRP-I: Downloading video info webpage\n",
      "[youtube] 7_xtJcrRP-I: Looking for automatic captions\n"
     ]
    },
    {
     "name": "stderr",
     "output_type": "stream",
     "text": [
      "WARNING: Couldn't find automatic captions for 7_xtJcrRP-I\n"
     ]
    },
    {
     "name": "stdout",
     "output_type": "stream",
     "text": [
      "No captions for 7_xtJcrRP-I\n",
      "[youtube] uYZp6onfvic: Downloading webpage\n",
      "[youtube] uYZp6onfvic: Downloading video info webpage\n",
      "[youtube] uYZp6onfvic: Looking for automatic captions\n",
      "[info] Writing video subtitles to: subtitle_uYZp6onfvic.en.vtt\n",
      "[youtube] 7u658G_ZB1s: Downloading webpage\n",
      "[youtube] 7u658G_ZB1s: Downloading video info webpage\n",
      "[youtube] 7u658G_ZB1s: Looking for automatic captions\n",
      "[info] Writing video subtitles to: subtitle_7u658G_ZB1s.en.vtt\n",
      "[youtube] ccaMrHU2PKI: Downloading webpage\n",
      "[youtube] ccaMrHU2PKI: Downloading video info webpage\n",
      "[youtube] ccaMrHU2PKI: Looking for automatic captions\n"
     ]
    },
    {
     "name": "stderr",
     "output_type": "stream",
     "text": [
      "WARNING: Couldn't find automatic captions for ccaMrHU2PKI\n"
     ]
    },
    {
     "name": "stdout",
     "output_type": "stream",
     "text": [
      "No captions for ccaMrHU2PKI\n",
      "[youtube] QKZb3YNohfk: Downloading webpage\n",
      "[youtube] QKZb3YNohfk: Downloading video info webpage\n",
      "[youtube] QKZb3YNohfk: Looking for automatic captions\n",
      "[info] Writing video subtitles to: subtitle_QKZb3YNohfk.en.vtt\n",
      "[youtube] SdHmZWLaLD0: Downloading webpage\n",
      "[youtube] SdHmZWLaLD0: Downloading video info webpage\n",
      "[youtube] SdHmZWLaLD0: Looking for automatic captions\n",
      "[info] Writing video subtitles to: subtitle_SdHmZWLaLD0.en.vtt\n",
      "[youtube] NWAQOyedZ9Q: Downloading webpage\n",
      "[youtube] NWAQOyedZ9Q: Downloading video info webpage\n",
      "[youtube] NWAQOyedZ9Q: Looking for automatic captions\n",
      "[info] Writing video subtitles to: subtitle_NWAQOyedZ9Q.en.vtt\n",
      "[youtube] h4PgjO1qirc: Downloading webpage\n",
      "[youtube] h4PgjO1qirc: Downloading video info webpage\n",
      "[youtube] h4PgjO1qirc: Looking for automatic captions\n",
      "[info] Writing video subtitles to: subtitle_h4PgjO1qirc.en.vtt\n",
      "[youtube] 79INS68TWCA: Downloading webpage\n",
      "[youtube] 79INS68TWCA: Downloading video info webpage\n",
      "[youtube] 79INS68TWCA: Looking for automatic captions\n"
     ]
    },
    {
     "name": "stderr",
     "output_type": "stream",
     "text": [
      "WARNING: Couldn't find automatic captions for 79INS68TWCA\n"
     ]
    },
    {
     "name": "stdout",
     "output_type": "stream",
     "text": [
      "[youtube] 79INS68TWCA: Downloading MPD manifest\n",
      "[youtube] 79INS68TWCA: Downloading MPD manifest\n",
      "No captions for 79INS68TWCA\n",
      "[youtube] 7VOgn53hsoc: Downloading webpage\n",
      "[youtube] 7VOgn53hsoc: Downloading video info webpage\n",
      "[youtube] 7VOgn53hsoc: Looking for automatic captions\n"
     ]
    },
    {
     "name": "stderr",
     "output_type": "stream",
     "text": [
      "WARNING: Couldn't find automatic captions for 7VOgn53hsoc\n"
     ]
    },
    {
     "name": "stdout",
     "output_type": "stream",
     "text": [
      "No captions for 7VOgn53hsoc\n",
      "[youtube] hofXdMHVjUI: Downloading webpage\n",
      "[youtube] hofXdMHVjUI: Downloading video info webpage\n",
      "[youtube] hofXdMHVjUI: Looking for automatic captions\n"
     ]
    },
    {
     "name": "stderr",
     "output_type": "stream",
     "text": [
      "WARNING: Couldn't find automatic captions for hofXdMHVjUI\n"
     ]
    },
    {
     "name": "stdout",
     "output_type": "stream",
     "text": [
      "No captions for hofXdMHVjUI\n",
      "[youtube] AF1OxMQUkBQ: Downloading webpage\n",
      "[youtube] AF1OxMQUkBQ: Downloading video info webpage\n",
      "[youtube] AF1OxMQUkBQ: Looking for automatic captions\n",
      "[info] Writing video subtitles to: subtitle_AF1OxMQUkBQ.en.vtt\n",
      "[youtube] im7HpscuvB0: Downloading webpage\n",
      "[youtube] im7HpscuvB0: Downloading video info webpage\n",
      "[youtube] im7HpscuvB0: Looking for automatic captions\n",
      "[info] Writing video subtitles to: subtitle_im7HpscuvB0.en.vtt\n",
      "[youtube] j-2noqX8lNY: Downloading webpage\n",
      "[youtube] j-2noqX8lNY: Downloading video info webpage\n",
      "[youtube] j-2noqX8lNY: Looking for automatic captions\n",
      "[youtube] j-2noqX8lNY: Downloading MPD manifest\n",
      "[youtube] j-2noqX8lNY: Downloading MPD manifest\n",
      "[info] Writing video subtitles to: subtitle_j-2noqX8lNY.en.vtt\n",
      "[youtube] Z_913IsemQY: Downloading webpage\n",
      "[youtube] Z_913IsemQY: Downloading video info webpage\n",
      "[youtube] Z_913IsemQY: Looking for automatic captions\n"
     ]
    },
    {
     "name": "stderr",
     "output_type": "stream",
     "text": [
      "WARNING: Couldn't find automatic captions for Z_913IsemQY\n"
     ]
    },
    {
     "name": "stdout",
     "output_type": "stream",
     "text": [
      "No captions for Z_913IsemQY\n",
      "[youtube] FXQGSOkfVVY: Downloading webpage\n",
      "[youtube] FXQGSOkfVVY: Downloading video info webpage\n",
      "[youtube] FXQGSOkfVVY: Looking for automatic captions\n"
     ]
    },
    {
     "name": "stderr",
     "output_type": "stream",
     "text": [
      "WARNING: Couldn't find automatic captions for FXQGSOkfVVY\n"
     ]
    },
    {
     "name": "stdout",
     "output_type": "stream",
     "text": [
      "No captions for FXQGSOkfVVY\n",
      "[youtube] O2GZ69j5qmo: Downloading webpage\n",
      "[youtube] O2GZ69j5qmo: Downloading video info webpage\n",
      "[youtube] O2GZ69j5qmo: Looking for automatic captions\n",
      "[info] Writing video subtitles to: subtitle_O2GZ69j5qmo.en.vtt\n",
      "[youtube] Sm08S0lYhYM: Downloading webpage\n",
      "[youtube] Sm08S0lYhYM: Downloading video info webpage\n",
      "[youtube] Sm08S0lYhYM: Looking for automatic captions\n",
      "[info] Writing video subtitles to: subtitle_Sm08S0lYhYM.en.vtt\n",
      "[youtube] Foruwz9jlJ8: Downloading webpage\n",
      "[youtube] Foruwz9jlJ8: Downloading video info webpage\n",
      "[youtube] Foruwz9jlJ8: Looking for automatic captions\n"
     ]
    },
    {
     "name": "stderr",
     "output_type": "stream",
     "text": [
      "WARNING: Couldn't find automatic captions for Foruwz9jlJ8\n"
     ]
    },
    {
     "name": "stdout",
     "output_type": "stream",
     "text": [
      "[youtube] Foruwz9jlJ8: Downloading MPD manifest\n",
      "[youtube] Foruwz9jlJ8: Downloading MPD manifest\n",
      "No captions for Foruwz9jlJ8\n",
      "[youtube] gsbAEQdtf2A: Downloading webpage\n",
      "[youtube] gsbAEQdtf2A: Downloading video info webpage\n",
      "[youtube] gsbAEQdtf2A: Looking for automatic captions\n",
      "[info] Writing video subtitles to: subtitle_gsbAEQdtf2A.en.vtt\n",
      "[youtube] QPHx5ta1k4Q: Downloading webpage\n",
      "[youtube] QPHx5ta1k4Q: Downloading video info webpage\n",
      "[youtube] QPHx5ta1k4Q: Looking for automatic captions\n"
     ]
    },
    {
     "name": "stderr",
     "output_type": "stream",
     "text": [
      "WARNING: Couldn't find automatic captions for QPHx5ta1k4Q\n"
     ]
    },
    {
     "name": "stdout",
     "output_type": "stream",
     "text": [
      "No captions for QPHx5ta1k4Q\n",
      "[youtube] WXtcby4t5XY: Downloading webpage\n",
      "[youtube] WXtcby4t5XY: Downloading video info webpage\n",
      "[youtube] WXtcby4t5XY: Looking for automatic captions\n"
     ]
    },
    {
     "name": "stderr",
     "output_type": "stream",
     "text": [
      "WARNING: Couldn't find automatic captions for WXtcby4t5XY\n"
     ]
    },
    {
     "name": "stdout",
     "output_type": "stream",
     "text": [
      "No captions for WXtcby4t5XY\n",
      "[youtube] Oac1MhRaeQw: Downloading webpage\n",
      "[youtube] Oac1MhRaeQw: Downloading video info webpage\n",
      "[youtube] Oac1MhRaeQw: Looking for automatic captions\n",
      "[info] Writing video subtitles to: subtitle_Oac1MhRaeQw.en.vtt\n",
      "[youtube] aiosMP5YaA8: Downloading webpage\n",
      "[youtube] aiosMP5YaA8: Downloading video info webpage\n",
      "[youtube] aiosMP5YaA8: Looking for automatic captions\n",
      "[info] Writing video subtitles to: subtitle_aiosMP5YaA8.en.vtt\n",
      "[youtube] R3rFSCAfBG8: Downloading webpage\n",
      "[youtube] R3rFSCAfBG8: Downloading video info webpage\n",
      "[youtube] R3rFSCAfBG8: Looking for automatic captions\n",
      "[info] Writing video subtitles to: subtitle_R3rFSCAfBG8.en.vtt\n",
      "[youtube] lm8ujmWrFXk: Downloading webpage\n",
      "[youtube] lm8ujmWrFXk: Downloading video info webpage\n",
      "[youtube] lm8ujmWrFXk: Looking for automatic captions\n",
      "[info] Writing video subtitles to: subtitle_lm8ujmWrFXk.en.vtt\n",
      "[youtube] vBXkvmuGDac: Downloading webpage\n",
      "[youtube] vBXkvmuGDac: Downloading video info webpage\n",
      "[youtube] vBXkvmuGDac: Looking for automatic captions\n",
      "[info] Writing video subtitles to: subtitle_vBXkvmuGDac.en.vtt\n",
      "[youtube] b8NkRla2JSE: Downloading webpage\n",
      "[youtube] b8NkRla2JSE: Downloading video info webpage\n",
      "[youtube] b8NkRla2JSE: Looking for automatic captions\n"
     ]
    },
    {
     "name": "stderr",
     "output_type": "stream",
     "text": [
      "WARNING: Couldn't find automatic captions for b8NkRla2JSE\n"
     ]
    },
    {
     "name": "stdout",
     "output_type": "stream",
     "text": [
      "No captions for b8NkRla2JSE\n",
      "[youtube] hLXP84PX6wU: Downloading webpage\n",
      "[youtube] hLXP84PX6wU: Downloading video info webpage\n",
      "[youtube] hLXP84PX6wU: Looking for automatic captions\n",
      "[info] Writing video subtitles to: subtitle_hLXP84PX6wU.en.vtt\n",
      "[youtube] 4AYD_jV3p20: Downloading webpage\n",
      "[youtube] 4AYD_jV3p20: Downloading video info webpage\n",
      "[youtube] 4AYD_jV3p20: Looking for automatic captions\n"
     ]
    },
    {
     "name": "stderr",
     "output_type": "stream",
     "text": [
      "WARNING: Couldn't find automatic captions for 4AYD_jV3p20\n"
     ]
    },
    {
     "name": "stdout",
     "output_type": "stream",
     "text": [
      "[youtube] 4AYD_jV3p20: Downloading MPD manifest\n",
      "[youtube] 4AYD_jV3p20: Downloading MPD manifest\n",
      "No captions for 4AYD_jV3p20\n",
      "[youtube] UUeAZMQgsUw: Downloading webpage\n",
      "[youtube] UUeAZMQgsUw: Downloading video info webpage\n",
      "[youtube] UUeAZMQgsUw: Looking for automatic captions\n",
      "[info] Writing video subtitles to: subtitle_UUeAZMQgsUw.en.vtt\n",
      "[youtube] 2UZaBeeeoiI: Downloading webpage\n",
      "[youtube] 2UZaBeeeoiI: Downloading video info webpage\n",
      "[youtube] 2UZaBeeeoiI: Looking for automatic captions\n"
     ]
    },
    {
     "name": "stderr",
     "output_type": "stream",
     "text": [
      "WARNING: Couldn't find automatic captions for 2UZaBeeeoiI\n"
     ]
    },
    {
     "name": "stdout",
     "output_type": "stream",
     "text": [
      "No captions for 2UZaBeeeoiI\n",
      "[youtube] 3FRbgFm59AY: Downloading webpage\n",
      "[youtube] 3FRbgFm59AY: Downloading video info webpage\n",
      "[youtube] 3FRbgFm59AY: Looking for automatic captions\n"
     ]
    },
    {
     "name": "stderr",
     "output_type": "stream",
     "text": [
      "WARNING: Couldn't find automatic captions for 3FRbgFm59AY\n"
     ]
    },
    {
     "name": "stdout",
     "output_type": "stream",
     "text": [
      "No captions for 3FRbgFm59AY\n",
      "[youtube] HG4qb-E65JM: Downloading webpage\n",
      "[youtube] HG4qb-E65JM: Downloading video info webpage\n",
      "[youtube] HG4qb-E65JM: Looking for automatic captions\n",
      "[youtube] HG4qb-E65JM: Downloading MPD manifest\n",
      "[youtube] HG4qb-E65JM: Downloading MPD manifest\n",
      "[info] Writing video subtitles to: subtitle_HG4qb-E65JM.en.vtt\n",
      "[youtube] N8oEfqCJbuY: Downloading webpage\n",
      "[youtube] N8oEfqCJbuY: Downloading video info webpage\n",
      "[youtube] N8oEfqCJbuY: Looking for automatic captions\n",
      "[youtube] N8oEfqCJbuY: Downloading MPD manifest\n",
      "[youtube] N8oEfqCJbuY: Downloading MPD manifest\n",
      "[info] Writing video subtitles to: subtitle_N8oEfqCJbuY.en.vtt\n",
      "[youtube] fOeUxsTFg5s: Downloading webpage\n",
      "[youtube] fOeUxsTFg5s: Downloading video info webpage\n",
      "[youtube] fOeUxsTFg5s: Looking for automatic captions\n",
      "[info] Writing video subtitles to: subtitle_fOeUxsTFg5s.en.vtt\n",
      "[youtube] HcQkfj495NA: Downloading webpage\n",
      "[youtube] HcQkfj495NA: Downloading video info webpage\n",
      "[youtube] HcQkfj495NA: Looking for automatic captions\n",
      "[info] Writing video subtitles to: subtitle_HcQkfj495NA.en.vtt\n",
      "[youtube] hcN5CqbvTDY: Downloading webpage\n",
      "[youtube] hcN5CqbvTDY: Downloading video info webpage\n",
      "[youtube] hcN5CqbvTDY: Looking for automatic captions\n"
     ]
    },
    {
     "name": "stderr",
     "output_type": "stream",
     "text": [
      "WARNING: Couldn't find automatic captions for hcN5CqbvTDY\n"
     ]
    },
    {
     "name": "stdout",
     "output_type": "stream",
     "text": [
      "No captions for hcN5CqbvTDY\n",
      "[youtube] dRpK01-vVvs: Downloading webpage\n",
      "[youtube] dRpK01-vVvs: Downloading video info webpage\n",
      "[youtube] dRpK01-vVvs: Looking for automatic captions\n",
      "[info] Writing video subtitles to: subtitle_dRpK01-vVvs.en.vtt\n",
      "[youtube] 41wRY--ZcZA: Downloading webpage\n",
      "[youtube] 41wRY--ZcZA: Downloading video info webpage\n",
      "[youtube] 41wRY--ZcZA: Looking for automatic captions\n",
      "[info] Writing video subtitles to: subtitle_41wRY--ZcZA.en.vtt\n",
      "[youtube] XOP0STvWVZs: Downloading webpage\n",
      "[youtube] XOP0STvWVZs: Downloading video info webpage\n",
      "[youtube] XOP0STvWVZs: Looking for automatic captions\n"
     ]
    },
    {
     "name": "stderr",
     "output_type": "stream",
     "text": [
      "WARNING: Couldn't find automatic captions for XOP0STvWVZs\n"
     ]
    },
    {
     "name": "stdout",
     "output_type": "stream",
     "text": [
      "No captions for XOP0STvWVZs\n",
      "[youtube] ZVFAWIJ510A: Downloading webpage\n",
      "[youtube] ZVFAWIJ510A: Downloading video info webpage\n",
      "[youtube] ZVFAWIJ510A: Looking for automatic captions\n"
     ]
    },
    {
     "name": "stderr",
     "output_type": "stream",
     "text": [
      "WARNING: Couldn't find automatic captions for ZVFAWIJ510A\n"
     ]
    },
    {
     "name": "stdout",
     "output_type": "stream",
     "text": [
      "No captions for ZVFAWIJ510A\n",
      "[youtube] PqHYCZjsZwo: Downloading webpage\n",
      "[youtube] PqHYCZjsZwo: Downloading video info webpage\n",
      "[youtube] PqHYCZjsZwo: Looking for automatic captions\n",
      "[info] Writing video subtitles to: subtitle_PqHYCZjsZwo.en.vtt\n",
      "[youtube] DI_w7C-QLek: Downloading webpage\n",
      "[youtube] DI_w7C-QLek: Downloading video info webpage\n",
      "[youtube] DI_w7C-QLek: Looking for automatic captions\n",
      "[info] Writing video subtitles to: subtitle_DI_w7C-QLek.en.vtt\n",
      "[youtube] vmYrsG_5VKU: Downloading webpage\n",
      "[youtube] vmYrsG_5VKU: Downloading video info webpage\n",
      "[youtube] vmYrsG_5VKU: Looking for automatic captions\n",
      "[youtube] vmYrsG_5VKU: Downloading MPD manifest\n",
      "[youtube] vmYrsG_5VKU: Downloading MPD manifest\n",
      "[info] Writing video subtitles to: subtitle_vmYrsG_5VKU.en.vtt\n",
      "[youtube] O-AiTV4u5zg: Downloading webpage\n",
      "[youtube] O-AiTV4u5zg: Downloading video info webpage\n",
      "[youtube] O-AiTV4u5zg: Looking for automatic captions\n",
      "[info] Writing video subtitles to: subtitle_O-AiTV4u5zg.en.vtt\n",
      "[youtube] puuhnrnOtRs: Downloading webpage\n",
      "[youtube] puuhnrnOtRs: Downloading video info webpage\n",
      "[youtube] puuhnrnOtRs: Looking for automatic captions\n",
      "[info] Writing video subtitles to: subtitle_puuhnrnOtRs.en.vtt\n",
      "[youtube] t7ZKKlgq6bc: Downloading webpage\n",
      "[youtube] t7ZKKlgq6bc: Downloading video info webpage\n",
      "[youtube] t7ZKKlgq6bc: Looking for automatic captions\n",
      "[youtube] t7ZKKlgq6bc: Downloading MPD manifest\n",
      "[youtube] t7ZKKlgq6bc: Downloading MPD manifest\n",
      "[info] Writing video subtitles to: subtitle_t7ZKKlgq6bc.en.vtt\n",
      "[youtube] 9KgPbfKIYa4: Downloading webpage\n",
      "[youtube] 9KgPbfKIYa4: Downloading video info webpage\n",
      "[youtube] 9KgPbfKIYa4: Looking for automatic captions\n",
      "[info] Writing video subtitles to: subtitle_9KgPbfKIYa4.en.vtt\n",
      "[youtube] uBJ6KZWfSq0: Downloading webpage\n",
      "[youtube] uBJ6KZWfSq0: Downloading video info webpage\n",
      "[youtube] uBJ6KZWfSq0: Looking for automatic captions\n",
      "[info] Writing video subtitles to: subtitle_uBJ6KZWfSq0.en.vtt\n",
      "[youtube] I5DJaxs5YTU: Downloading webpage\n",
      "[youtube] I5DJaxs5YTU: Downloading video info webpage\n",
      "[youtube] I5DJaxs5YTU: Looking for automatic captions\n",
      "[info] Writing video subtitles to: subtitle_I5DJaxs5YTU.en.vtt\n",
      "[youtube] 55DRQswcljA: Downloading webpage\n",
      "[youtube] 55DRQswcljA: Downloading video info webpage\n",
      "[youtube] 55DRQswcljA: Looking for automatic captions\n"
     ]
    },
    {
     "name": "stderr",
     "output_type": "stream",
     "text": [
      "WARNING: Couldn't find automatic captions for 55DRQswcljA\n"
     ]
    },
    {
     "name": "stdout",
     "output_type": "stream",
     "text": [
      "[youtube] 55DRQswcljA: Downloading MPD manifest\n",
      "[youtube] 55DRQswcljA: Downloading MPD manifest\n",
      "No captions for 55DRQswcljA\n",
      "[youtube] dy_umpSYHOI: Downloading webpage\n",
      "[youtube] dy_umpSYHOI: Downloading video info webpage\n",
      "[youtube] dy_umpSYHOI: Looking for automatic captions\n",
      "[info] Writing video subtitles to: subtitle_dy_umpSYHOI.en.vtt\n",
      "[youtube] hq0jbBRshMQ: Downloading webpage\n",
      "[youtube] hq0jbBRshMQ: Downloading video info webpage\n",
      "[youtube] hq0jbBRshMQ: Looking for automatic captions\n",
      "[info] Writing video subtitles to: subtitle_hq0jbBRshMQ.en.vtt\n",
      "[youtube] Vav0vnB485Y: Downloading webpage\n",
      "[youtube] Vav0vnB485Y: Downloading video info webpage\n",
      "[youtube] Vav0vnB485Y: Looking for automatic captions\n",
      "[info] Writing video subtitles to: subtitle_Vav0vnB485Y.en.vtt\n",
      "[youtube] v4VY4pwDYXk: Downloading webpage\n",
      "[youtube] v4VY4pwDYXk: Downloading video info webpage\n",
      "[youtube] v4VY4pwDYXk: Looking for automatic captions\n",
      "[info] Writing video subtitles to: subtitle_v4VY4pwDYXk.en.vtt\n",
      "[youtube] WUlLRpS0Jpg: Downloading webpage\n",
      "[youtube] WUlLRpS0Jpg: Downloading video info webpage\n",
      "[youtube] WUlLRpS0Jpg: Looking for automatic captions\n",
      "[info] Writing video subtitles to: subtitle_WUlLRpS0Jpg.en.vtt\n",
      "[youtube] -RU1Ec7PhpE: Downloading webpage\n",
      "[youtube] -RU1Ec7PhpE: Downloading video info webpage\n",
      "[youtube] -RU1Ec7PhpE: Looking for automatic captions\n",
      "[info] Writing video subtitles to: subtitle_-RU1Ec7PhpE.en.vtt\n",
      "[youtube] ORhIsDGGwBU: Downloading webpage\n",
      "[youtube] ORhIsDGGwBU: Downloading video info webpage\n",
      "[youtube] ORhIsDGGwBU: Looking for automatic captions\n",
      "[info] Writing video subtitles to: subtitle_ORhIsDGGwBU.en.vtt\n",
      "[youtube] X_ne7OtPrS4: Downloading webpage\n",
      "[youtube] X_ne7OtPrS4: Downloading embed webpage\n",
      "[youtube] X_ne7OtPrS4: Refetching age-gated info webpage\n",
      "[youtube] X_ne7OtPrS4: Looking for automatic captions\n"
     ]
    },
    {
     "name": "stderr",
     "output_type": "stream",
     "text": [
      "WARNING: Couldn't find automatic captions for X_ne7OtPrS4\n"
     ]
    },
    {
     "name": "stdout",
     "output_type": "stream",
     "text": [
      "No captions for X_ne7OtPrS4\n",
      "[youtube] KjFxT5RQw1w: Downloading webpage\n",
      "[youtube] KjFxT5RQw1w: Downloading video info webpage\n",
      "[youtube] KjFxT5RQw1w: Looking for automatic captions\n",
      "[info] Writing video subtitles to: subtitle_KjFxT5RQw1w.en.vtt\n",
      "[youtube] Wfw5eTX_s0Y: Downloading webpage\n",
      "[youtube] Wfw5eTX_s0Y: Downloading video info webpage\n",
      "[youtube] Wfw5eTX_s0Y: Looking for automatic captions\n",
      "[info] Writing video subtitles to: subtitle_Wfw5eTX_s0Y.en.vtt\n",
      "[youtube] B9PTw_xuitQ: Downloading webpage\n",
      "[youtube] B9PTw_xuitQ: Downloading video info webpage\n",
      "[youtube] B9PTw_xuitQ: Looking for automatic captions\n"
     ]
    },
    {
     "name": "stderr",
     "output_type": "stream",
     "text": [
      "WARNING: Couldn't find automatic captions for B9PTw_xuitQ\n"
     ]
    },
    {
     "name": "stdout",
     "output_type": "stream",
     "text": [
      "No captions for B9PTw_xuitQ\n",
      "[youtube] WZoC0BJ3PnQ: Downloading webpage\n",
      "[youtube] WZoC0BJ3PnQ: Downloading video info webpage\n",
      "[youtube] WZoC0BJ3PnQ: Looking for automatic captions\n"
     ]
    },
    {
     "name": "stderr",
     "output_type": "stream",
     "text": [
      "WARNING: Couldn't find automatic captions for WZoC0BJ3PnQ\n"
     ]
    },
    {
     "name": "stdout",
     "output_type": "stream",
     "text": [
      "No captions for WZoC0BJ3PnQ\n",
      "[youtube] M2PbWvPg8CI: Downloading webpage\n",
      "[youtube] M2PbWvPg8CI: Downloading video info webpage\n",
      "[youtube] M2PbWvPg8CI: Looking for automatic captions\n",
      "[info] Writing video subtitles to: subtitle_M2PbWvPg8CI.en.vtt\n",
      "[youtube] 53WTtkz8f-s: Downloading webpage\n",
      "[youtube] 53WTtkz8f-s: Downloading video info webpage\n",
      "[youtube] 53WTtkz8f-s: Looking for automatic captions\n"
     ]
    },
    {
     "name": "stderr",
     "output_type": "stream",
     "text": [
      "WARNING: Couldn't find automatic captions for 53WTtkz8f-s\n"
     ]
    },
    {
     "name": "stdout",
     "output_type": "stream",
     "text": [
      "No captions for 53WTtkz8f-s\n",
      "[youtube] 6QXz6UVydXU: Downloading webpage\n",
      "[youtube] 6QXz6UVydXU: Downloading video info webpage\n",
      "[youtube] 6QXz6UVydXU: Looking for automatic captions\n"
     ]
    },
    {
     "name": "stderr",
     "output_type": "stream",
     "text": [
      "WARNING: Couldn't find automatic captions for 6QXz6UVydXU\n"
     ]
    },
    {
     "name": "stdout",
     "output_type": "stream",
     "text": [
      "No captions for 6QXz6UVydXU\n",
      "[youtube] iaPAiERpf10: Downloading webpage\n",
      "[youtube] iaPAiERpf10: Downloading video info webpage\n",
      "[youtube] iaPAiERpf10: Looking for automatic captions\n",
      "[info] Writing video subtitles to: subtitle_iaPAiERpf10.en.vtt\n",
      "[youtube] eQoi4teNahs: Downloading webpage\n",
      "[youtube] eQoi4teNahs: Downloading video info webpage\n",
      "[youtube] eQoi4teNahs: Looking for automatic captions\n",
      "[info] Writing video subtitles to: subtitle_eQoi4teNahs.en.vtt\n",
      "[youtube] Lwgf93IcIv8: Downloading webpage\n",
      "[youtube] Lwgf93IcIv8: Downloading video info webpage\n",
      "[youtube] Lwgf93IcIv8: Looking for automatic captions\n",
      "[info] Writing video subtitles to: subtitle_Lwgf93IcIv8.en.vtt\n",
      "[youtube] qdKuwB_Q1wc: Downloading webpage\n",
      "[youtube] qdKuwB_Q1wc: Downloading video info webpage\n",
      "[youtube] qdKuwB_Q1wc: Looking for automatic captions\n"
     ]
    },
    {
     "name": "stderr",
     "output_type": "stream",
     "text": [
      "WARNING: Couldn't find automatic captions for qdKuwB_Q1wc\n"
     ]
    },
    {
     "name": "stdout",
     "output_type": "stream",
     "text": [
      "No captions for qdKuwB_Q1wc\n",
      "[youtube] HuL9UVvpk6Y: Downloading webpage\n",
      "[youtube] HuL9UVvpk6Y: Downloading video info webpage\n",
      "[youtube] HuL9UVvpk6Y: Looking for automatic captions\n"
     ]
    },
    {
     "name": "stderr",
     "output_type": "stream",
     "text": [
      "WARNING: Couldn't find automatic captions for HuL9UVvpk6Y\n"
     ]
    },
    {
     "name": "stdout",
     "output_type": "stream",
     "text": [
      "No captions for HuL9UVvpk6Y\n",
      "[youtube] 2hnFgFcLzv8: Downloading webpage\n",
      "[youtube] 2hnFgFcLzv8: Downloading video info webpage\n",
      "[youtube] 2hnFgFcLzv8: Looking for automatic captions\n",
      "[info] Writing video subtitles to: subtitle_2hnFgFcLzv8.en.vtt\n",
      "[youtube] JfxLOyMQ2Do: Downloading webpage\n",
      "[youtube] JfxLOyMQ2Do: Downloading video info webpage\n",
      "[youtube] JfxLOyMQ2Do: Looking for automatic captions\n",
      "[youtube] JfxLOyMQ2Do: Downloading MPD manifest\n",
      "[youtube] JfxLOyMQ2Do: Downloading MPD manifest\n",
      "[info] Writing video subtitles to: subtitle_JfxLOyMQ2Do.en.vtt\n",
      "[youtube] _reKFv1w0jI: Downloading webpage\n",
      "[youtube] _reKFv1w0jI: Downloading video info webpage\n",
      "[youtube] _reKFv1w0jI: Looking for automatic captions\n",
      "[info] Writing video subtitles to: subtitle__reKFv1w0jI.en.vtt\n",
      "[youtube] DyYllzFQBU0: Downloading webpage\n",
      "[youtube] DyYllzFQBU0: Downloading video info webpage\n",
      "[youtube] DyYllzFQBU0: Looking for automatic captions\n",
      "[info] Writing video subtitles to: subtitle_DyYllzFQBU0.en.vtt\n",
      "[youtube] q7LknKoH6us: Downloading webpage\n",
      "[youtube] q7LknKoH6us: Downloading video info webpage\n",
      "[youtube] q7LknKoH6us: Looking for automatic captions\n",
      "[info] Writing video subtitles to: subtitle_q7LknKoH6us.en.vtt\n",
      "[youtube] upF_chxBO24: Downloading webpage\n",
      "[youtube] upF_chxBO24: Downloading video info webpage\n",
      "[youtube] upF_chxBO24: Looking for automatic captions\n",
      "[youtube] upF_chxBO24: Downloading MPD manifest\n",
      "[youtube] upF_chxBO24: Downloading MPD manifest\n",
      "[info] Writing video subtitles to: subtitle_upF_chxBO24.en.vtt\n",
      "[youtube] cCN-brVS8Cg: Downloading webpage\n",
      "[youtube] cCN-brVS8Cg: Downloading video info webpage\n",
      "[youtube] cCN-brVS8Cg: Looking for automatic captions\n",
      "[info] Writing video subtitles to: subtitle_cCN-brVS8Cg.en.vtt\n",
      "[youtube] DZhSwIkMAUE: Downloading webpage\n",
      "[youtube] DZhSwIkMAUE: Downloading video info webpage\n",
      "[youtube] DZhSwIkMAUE: Looking for automatic captions\n"
     ]
    },
    {
     "name": "stderr",
     "output_type": "stream",
     "text": [
      "WARNING: Couldn't find automatic captions for DZhSwIkMAUE\n"
     ]
    },
    {
     "name": "stdout",
     "output_type": "stream",
     "text": [
      "No captions for DZhSwIkMAUE\n",
      "[youtube] D1q7XHtGpR4: Downloading webpage\n",
      "[youtube] D1q7XHtGpR4: Downloading video info webpage\n",
      "[youtube] D1q7XHtGpR4: Looking for automatic captions\n",
      "[info] Writing video subtitles to: subtitle_D1q7XHtGpR4.en.vtt\n",
      "[youtube] M5JlQxbMAQQ: Downloading webpage\n",
      "[youtube] M5JlQxbMAQQ: Downloading video info webpage\n",
      "[youtube] M5JlQxbMAQQ: Looking for automatic captions\n"
     ]
    },
    {
     "name": "stderr",
     "output_type": "stream",
     "text": [
      "WARNING: Couldn't find automatic captions for M5JlQxbMAQQ\n"
     ]
    },
    {
     "name": "stdout",
     "output_type": "stream",
     "text": [
      "No captions for M5JlQxbMAQQ\n",
      "[youtube] sgj3VNrvCVo: Downloading webpage\n",
      "[youtube] sgj3VNrvCVo: Downloading video info webpage\n",
      "[youtube] sgj3VNrvCVo: Looking for automatic captions\n",
      "[info] Writing video subtitles to: subtitle_sgj3VNrvCVo.en.vtt\n",
      "[youtube] N9PJQi2rwwM: Downloading webpage\n",
      "[youtube] N9PJQi2rwwM: Downloading video info webpage\n",
      "[youtube] N9PJQi2rwwM: Looking for automatic captions\n",
      "[youtube] N9PJQi2rwwM: Downloading MPD manifest\n",
      "[youtube] N9PJQi2rwwM: Downloading MPD manifest\n",
      "[info] Writing video subtitles to: subtitle_N9PJQi2rwwM.en.vtt\n",
      "[youtube] IoOqOsqYerI: Downloading webpage\n",
      "[youtube] IoOqOsqYerI: Downloading video info webpage\n",
      "[youtube] IoOqOsqYerI: Looking for automatic captions\n"
     ]
    },
    {
     "name": "stderr",
     "output_type": "stream",
     "text": [
      "WARNING: Couldn't find automatic captions for IoOqOsqYerI\n"
     ]
    },
    {
     "name": "stdout",
     "output_type": "stream",
     "text": [
      "No captions for IoOqOsqYerI\n",
      "[youtube] njVPm8ADQ08: Downloading webpage\n",
      "[youtube] njVPm8ADQ08: Downloading video info webpage\n",
      "[youtube] njVPm8ADQ08: Looking for automatic captions\n"
     ]
    },
    {
     "name": "stderr",
     "output_type": "stream",
     "text": [
      "WARNING: Couldn't find automatic captions for njVPm8ADQ08\n"
     ]
    },
    {
     "name": "stdout",
     "output_type": "stream",
     "text": [
      "No captions for njVPm8ADQ08\n",
      "[youtube] blD4Ev3QH1w: Downloading webpage\n",
      "[youtube] blD4Ev3QH1w: Downloading video info webpage\n",
      "[youtube] blD4Ev3QH1w: Looking for automatic captions\n",
      "[youtube] blD4Ev3QH1w: Downloading MPD manifest\n",
      "[youtube] blD4Ev3QH1w: Downloading MPD manifest\n",
      "[info] Writing video subtitles to: subtitle_blD4Ev3QH1w.en.vtt\n",
      "[youtube] --prM-83aGM: Downloading webpage\n",
      "[youtube] --prM-83aGM: Downloading video info webpage\n",
      "[youtube] --prM-83aGM: Looking for automatic captions\n",
      "[info] Writing video subtitles to: subtitle_--prM-83aGM.en.vtt\n",
      "[youtube] ONg6YyZOOsM: Downloading webpage\n",
      "[youtube] ONg6YyZOOsM: Downloading video info webpage\n",
      "[youtube] ONg6YyZOOsM: Looking for automatic captions\n"
     ]
    },
    {
     "name": "stderr",
     "output_type": "stream",
     "text": [
      "WARNING: Couldn't find automatic captions for ONg6YyZOOsM\n"
     ]
    },
    {
     "name": "stdout",
     "output_type": "stream",
     "text": [
      "No captions for ONg6YyZOOsM\n",
      "[youtube] HMhEil0Rp8k: Downloading webpage\n",
      "[youtube] HMhEil0Rp8k: Downloading video info webpage\n",
      "[youtube] HMhEil0Rp8k: Looking for automatic captions\n",
      "[info] Writing video subtitles to: subtitle_HMhEil0Rp8k.en.vtt\n",
      "[youtube] QlS2-sq4VMc: Downloading webpage\n",
      "[youtube] QlS2-sq4VMc: Downloading video info webpage\n",
      "[youtube] QlS2-sq4VMc: Looking for automatic captions\n",
      "[info] Writing video subtitles to: subtitle_QlS2-sq4VMc.en.vtt\n",
      "[youtube] Ftqk9_HX1E0: Downloading webpage\n",
      "[youtube] Ftqk9_HX1E0: Downloading video info webpage\n",
      "[youtube] Ftqk9_HX1E0: Looking for automatic captions\n",
      "[info] Writing video subtitles to: subtitle_Ftqk9_HX1E0.en.vtt\n",
      "[youtube] nKs26Gd3hQI: Downloading webpage\n",
      "[youtube] nKs26Gd3hQI: Downloading video info webpage\n",
      "[youtube] nKs26Gd3hQI: Looking for automatic captions\n"
     ]
    },
    {
     "name": "stderr",
     "output_type": "stream",
     "text": [
      "WARNING: Couldn't find automatic captions for nKs26Gd3hQI\n"
     ]
    },
    {
     "name": "stdout",
     "output_type": "stream",
     "text": [
      "No captions for nKs26Gd3hQI\n",
      "[youtube] jE3kJOnjXpQ: Downloading webpage\n",
      "[youtube] jE3kJOnjXpQ: Downloading video info webpage\n",
      "[youtube] jE3kJOnjXpQ: Looking for automatic captions\n",
      "[info] Writing video subtitles to: subtitle_jE3kJOnjXpQ.en.vtt\n",
      "[youtube] ZbS_POsuFqo: Downloading webpage\n",
      "[youtube] ZbS_POsuFqo: Downloading video info webpage\n",
      "[youtube] ZbS_POsuFqo: Looking for automatic captions\n"
     ]
    },
    {
     "name": "stderr",
     "output_type": "stream",
     "text": [
      "WARNING: Couldn't find automatic captions for ZbS_POsuFqo\n"
     ]
    },
    {
     "name": "stdout",
     "output_type": "stream",
     "text": [
      "No captions for ZbS_POsuFqo\n",
      "[youtube] f5TXH8dCvo4: Downloading webpage\n",
      "[youtube] f5TXH8dCvo4: Downloading video info webpage\n",
      "[youtube] f5TXH8dCvo4: Looking for automatic captions\n"
     ]
    },
    {
     "name": "stderr",
     "output_type": "stream",
     "text": [
      "WARNING: Couldn't find automatic captions for f5TXH8dCvo4\n"
     ]
    },
    {
     "name": "stdout",
     "output_type": "stream",
     "text": [
      "No captions for f5TXH8dCvo4\n",
      "[youtube] 434KGuNKRe4: Downloading webpage\n",
      "[youtube] 434KGuNKRe4: Downloading video info webpage\n",
      "[youtube] 434KGuNKRe4: Looking for automatic captions\n"
     ]
    },
    {
     "name": "stderr",
     "output_type": "stream",
     "text": [
      "WARNING: Couldn't find automatic captions for 434KGuNKRe4\n"
     ]
    },
    {
     "name": "stdout",
     "output_type": "stream",
     "text": [
      "No captions for 434KGuNKRe4\n",
      "[youtube] VeTGdDg9i3o: Downloading webpage\n",
      "[youtube] VeTGdDg9i3o: Downloading video info webpage\n",
      "[youtube] VeTGdDg9i3o: Looking for automatic captions\n"
     ]
    },
    {
     "name": "stderr",
     "output_type": "stream",
     "text": [
      "WARNING: Couldn't find automatic captions for VeTGdDg9i3o\n"
     ]
    },
    {
     "name": "stdout",
     "output_type": "stream",
     "text": [
      "[youtube] VeTGdDg9i3o: Downloading MPD manifest\n",
      "[youtube] VeTGdDg9i3o: Downloading MPD manifest\n",
      "No captions for VeTGdDg9i3o\n",
      "[youtube] fwOOuP98BLY: Downloading webpage\n",
      "[youtube] fwOOuP98BLY: Downloading video info webpage\n",
      "[youtube] fwOOuP98BLY: Looking for automatic captions\n",
      "[info] Writing video subtitles to: subtitle_fwOOuP98BLY.en.vtt\n",
      "[youtube] e5-SVzAyl14: Downloading webpage\n",
      "[youtube] e5-SVzAyl14: Downloading video info webpage\n",
      "[youtube] e5-SVzAyl14: Looking for automatic captions\n",
      "[youtube] e5-SVzAyl14: Downloading MPD manifest\n",
      "[youtube] e5-SVzAyl14: Downloading MPD manifest\n",
      "[info] Writing video subtitles to: subtitle_e5-SVzAyl14.en.vtt\n",
      "[youtube] 7AyjhRmQi74: Downloading webpage\n",
      "[youtube] 7AyjhRmQi74: Downloading video info webpage\n",
      "[youtube] 7AyjhRmQi74: Looking for automatic captions\n",
      "[info] Writing video subtitles to: subtitle_7AyjhRmQi74.en.vtt\n",
      "[youtube] r0u6OTzSvRs: Downloading webpage\n",
      "[youtube] r0u6OTzSvRs: Downloading video info webpage\n",
      "[youtube] r0u6OTzSvRs: Looking for automatic captions\n",
      "[info] Writing video subtitles to: subtitle_r0u6OTzSvRs.en.vtt\n",
      "[youtube] p71bkS1D-S0: Downloading webpage\n",
      "[youtube] p71bkS1D-S0: Downloading video info webpage\n",
      "[youtube] p71bkS1D-S0: Looking for automatic captions\n",
      "[info] Writing video subtitles to: subtitle_p71bkS1D-S0.en.vtt\n",
      "[youtube] dc8HBobthjY: Downloading webpage\n",
      "[youtube] dc8HBobthjY: Downloading video info webpage\n",
      "[youtube] dc8HBobthjY: Looking for automatic captions\n",
      "[youtube] dc8HBobthjY: Downloading MPD manifest\n",
      "[youtube] dc8HBobthjY: Downloading MPD manifest\n",
      "[info] Writing video subtitles to: subtitle_dc8HBobthjY.en.vtt\n",
      "[youtube] SnaMsWDX0RE: Downloading webpage\n",
      "[youtube] SnaMsWDX0RE: Downloading video info webpage\n",
      "[youtube] SnaMsWDX0RE: Looking for automatic captions\n"
     ]
    },
    {
     "name": "stderr",
     "output_type": "stream",
     "text": [
      "WARNING: Couldn't find automatic captions for SnaMsWDX0RE\n"
     ]
    },
    {
     "name": "stdout",
     "output_type": "stream",
     "text": [
      "No captions for SnaMsWDX0RE\n",
      "[youtube] afI_CizvHI8: Downloading webpage\n",
      "[youtube] afI_CizvHI8: Downloading video info webpage\n",
      "[youtube] afI_CizvHI8: Looking for automatic captions\n",
      "[info] Writing video subtitles to: subtitle_afI_CizvHI8.en.vtt\n",
      "[youtube] rSWv_vPw-xs: Downloading webpage\n",
      "[youtube] rSWv_vPw-xs: Downloading video info webpage\n",
      "[youtube] rSWv_vPw-xs: Looking for automatic captions\n",
      "[youtube] rSWv_vPw-xs: Downloading MPD manifest\n",
      "[youtube] rSWv_vPw-xs: Downloading MPD manifest\n",
      "[info] Writing video subtitles to: subtitle_rSWv_vPw-xs.en.vtt\n",
      "[youtube] nXsd1_xuUqM: Downloading webpage\n",
      "[youtube] nXsd1_xuUqM: Downloading video info webpage\n",
      "[youtube] nXsd1_xuUqM: Looking for automatic captions\n",
      "[info] Writing video subtitles to: subtitle_nXsd1_xuUqM.en.vtt\n",
      "[youtube] iUsPVqvZhaw: Downloading webpage\n",
      "[youtube] iUsPVqvZhaw: Downloading video info webpage\n",
      "[youtube] iUsPVqvZhaw: Looking for automatic captions\n"
     ]
    },
    {
     "name": "stderr",
     "output_type": "stream",
     "text": [
      "WARNING: Couldn't find automatic captions for iUsPVqvZhaw\n"
     ]
    },
    {
     "name": "stdout",
     "output_type": "stream",
     "text": [
      "No captions for iUsPVqvZhaw\n",
      "[youtube] 8p7wY4PCGZA: Downloading webpage\n",
      "[youtube] 8p7wY4PCGZA: Downloading video info webpage\n",
      "[youtube] 8p7wY4PCGZA: Looking for automatic captions\n",
      "[youtube] 8p7wY4PCGZA: Downloading MPD manifest\n",
      "[youtube] 8p7wY4PCGZA: Downloading MPD manifest\n",
      "[info] Writing video subtitles to: subtitle_8p7wY4PCGZA.en.vtt\n",
      "[youtube] 9Tj8aEoqyEI: Downloading webpage\n",
      "[youtube] 9Tj8aEoqyEI: Downloading video info webpage\n",
      "[youtube] 9Tj8aEoqyEI: Looking for automatic captions\n"
     ]
    },
    {
     "name": "stderr",
     "output_type": "stream",
     "text": [
      "WARNING: Couldn't find automatic captions for 9Tj8aEoqyEI\n"
     ]
    },
    {
     "name": "stdout",
     "output_type": "stream",
     "text": [
      "No captions for 9Tj8aEoqyEI\n",
      "[youtube] jJikIUf8y1g: Downloading webpage\n",
      "[youtube] jJikIUf8y1g: Downloading video info webpage\n",
      "[youtube] jJikIUf8y1g: Looking for automatic captions\n",
      "[youtube] jJikIUf8y1g: Downloading MPD manifest\n",
      "[youtube] jJikIUf8y1g: Downloading MPD manifest\n",
      "[info] Writing video subtitles to: subtitle_jJikIUf8y1g.en.vtt\n",
      "[youtube] BkUiSbRK8vY: Downloading webpage\n",
      "[youtube] BkUiSbRK8vY: Downloading video info webpage\n",
      "[youtube] BkUiSbRK8vY: Looking for automatic captions\n",
      "[youtube] BkUiSbRK8vY: Downloading MPD manifest\n",
      "[youtube] BkUiSbRK8vY: Downloading MPD manifest\n",
      "[info] Writing video subtitles to: subtitle_BkUiSbRK8vY.en.vtt\n",
      "[youtube] PV_cXSfeqbY: Downloading webpage\n",
      "[youtube] PV_cXSfeqbY: Downloading video info webpage\n",
      "[youtube] PV_cXSfeqbY: Looking for automatic captions\n"
     ]
    },
    {
     "name": "stderr",
     "output_type": "stream",
     "text": [
      "WARNING: Couldn't find automatic captions for PV_cXSfeqbY\n"
     ]
    },
    {
     "name": "stdout",
     "output_type": "stream",
     "text": [
      "No captions for PV_cXSfeqbY\n",
      "[youtube] -9_kRn53Eck: Downloading webpage\n",
      "[youtube] -9_kRn53Eck: Downloading video info webpage\n",
      "[youtube] -9_kRn53Eck: Looking for automatic captions\n"
     ]
    },
    {
     "name": "stderr",
     "output_type": "stream",
     "text": [
      "WARNING: Couldn't find automatic captions for -9_kRn53Eck\n"
     ]
    },
    {
     "name": "stdout",
     "output_type": "stream",
     "text": [
      "No captions for -9_kRn53Eck\n",
      "[youtube] pi6J7WkEb48: Downloading webpage\n",
      "[youtube] pi6J7WkEb48: Downloading video info webpage\n",
      "[youtube] pi6J7WkEb48: Looking for automatic captions\n"
     ]
    },
    {
     "name": "stderr",
     "output_type": "stream",
     "text": [
      "WARNING: Couldn't find automatic captions for pi6J7WkEb48\n"
     ]
    },
    {
     "name": "stdout",
     "output_type": "stream",
     "text": [
      "[youtube] pi6J7WkEb48: Downloading MPD manifest\n",
      "[youtube] pi6J7WkEb48: Downloading MPD manifest\n",
      "No captions for pi6J7WkEb48\n",
      "[youtube] bIe-Q5eoo1A: Downloading webpage\n",
      "[youtube] bIe-Q5eoo1A: Downloading video info webpage\n",
      "[youtube] bIe-Q5eoo1A: Looking for automatic captions\n",
      "[info] Writing video subtitles to: subtitle_bIe-Q5eoo1A.en.vtt\n",
      "[youtube] 3cpttMPwdts: Downloading webpage\n",
      "[youtube] 3cpttMPwdts: Downloading video info webpage\n",
      "[youtube] 3cpttMPwdts: Looking for automatic captions\n",
      "[youtube] 3cpttMPwdts: Downloading MPD manifest\n",
      "[youtube] 3cpttMPwdts: Downloading MPD manifest\n",
      "[info] Writing video subtitles to: subtitle_3cpttMPwdts.en.vtt\n",
      "[youtube] 0iA_ZqBROyA: Downloading webpage\n",
      "[youtube] 0iA_ZqBROyA: Downloading video info webpage\n",
      "[youtube] 0iA_ZqBROyA: Looking for automatic captions\n",
      "[info] Writing video subtitles to: subtitle_0iA_ZqBROyA.en.vtt\n",
      "[youtube] 6n9adpJo4qE: Downloading webpage\n",
      "[youtube] 6n9adpJo4qE: Downloading video info webpage\n",
      "[youtube] 6n9adpJo4qE: Looking for automatic captions\n",
      "[info] Writing video subtitles to: subtitle_6n9adpJo4qE.en.vtt\n",
      "[youtube] ZOEovawaZN8: Downloading webpage\n",
      "[youtube] ZOEovawaZN8: Downloading video info webpage\n",
      "[youtube] ZOEovawaZN8: Looking for automatic captions\n"
     ]
    },
    {
     "name": "stderr",
     "output_type": "stream",
     "text": [
      "WARNING: Couldn't find automatic captions for ZOEovawaZN8\n"
     ]
    },
    {
     "name": "stdout",
     "output_type": "stream",
     "text": [
      "No captions for ZOEovawaZN8\n",
      "[youtube] xutUl4-m8wk: Downloading webpage\n",
      "[youtube] xutUl4-m8wk: Downloading video info webpage\n",
      "[youtube] xutUl4-m8wk: Looking for automatic captions\n"
     ]
    },
    {
     "name": "stderr",
     "output_type": "stream",
     "text": [
      "WARNING: Couldn't find automatic captions for xutUl4-m8wk\n"
     ]
    },
    {
     "name": "stdout",
     "output_type": "stream",
     "text": [
      "No captions for xutUl4-m8wk\n",
      "[youtube] BALr3viTfZA: Downloading webpage\n",
      "[youtube] BALr3viTfZA: Downloading video info webpage\n",
      "[youtube] BALr3viTfZA: Looking for automatic captions\n",
      "[info] Writing video subtitles to: subtitle_BALr3viTfZA.en.vtt\n",
      "[youtube] BkGGZbXd9bw: Downloading webpage\n",
      "[youtube] BkGGZbXd9bw: Downloading video info webpage\n",
      "[youtube] BkGGZbXd9bw: Looking for automatic captions\n",
      "[info] Writing video subtitles to: subtitle_BkGGZbXd9bw.en.vtt\n",
      "[youtube] g_dkdHvdGLA: Downloading webpage\n",
      "[youtube] g_dkdHvdGLA: Downloading video info webpage\n",
      "[youtube] g_dkdHvdGLA: Looking for automatic captions\n",
      "[info] Writing video subtitles to: subtitle_g_dkdHvdGLA.en.vtt\n",
      "[youtube] a7k1KsvcBTY: Downloading webpage\n",
      "[youtube] a7k1KsvcBTY: Downloading video info webpage\n",
      "[youtube] a7k1KsvcBTY: Looking for automatic captions\n"
     ]
    },
    {
     "name": "stderr",
     "output_type": "stream",
     "text": [
      "WARNING: Couldn't find automatic captions for a7k1KsvcBTY\n"
     ]
    },
    {
     "name": "stdout",
     "output_type": "stream",
     "text": [
      "No captions for a7k1KsvcBTY\n",
      "[youtube] luMZDoUc_N8: Downloading webpage\n",
      "[youtube] luMZDoUc_N8: Downloading video info webpage\n",
      "[youtube] luMZDoUc_N8: Looking for automatic captions\n",
      "[info] Writing video subtitles to: subtitle_luMZDoUc_N8.en.vtt\n",
      "[youtube] 0ngMDAnbZio: Downloading webpage\n",
      "[youtube] 0ngMDAnbZio: Downloading video info webpage\n",
      "[youtube] 0ngMDAnbZio: Looking for automatic captions\n",
      "[info] Writing video subtitles to: subtitle_0ngMDAnbZio.en.vtt\n",
      "[youtube] hhvlc2yU8kA: Downloading webpage\n",
      "[youtube] hhvlc2yU8kA: Downloading video info webpage\n",
      "[youtube] hhvlc2yU8kA: Looking for automatic captions\n",
      "[info] Writing video subtitles to: subtitle_hhvlc2yU8kA.en.vtt\n",
      "[youtube] M4ZF5iPJkH8: Downloading webpage\n",
      "[youtube] M4ZF5iPJkH8: Downloading video info webpage\n",
      "[youtube] M4ZF5iPJkH8: Looking for automatic captions\n",
      "[info] Writing video subtitles to: subtitle_M4ZF5iPJkH8.en.vtt\n",
      "[youtube] VbBRn6KkYT4: Downloading webpage\n",
      "[youtube] VbBRn6KkYT4: Downloading video info webpage\n",
      "[youtube] VbBRn6KkYT4: Looking for automatic captions\n",
      "[info] Writing video subtitles to: subtitle_VbBRn6KkYT4.en.vtt\n",
      "[youtube] 1O8fX5p7m6I: Downloading webpage\n",
      "[youtube] 1O8fX5p7m6I: Downloading video info webpage\n",
      "[youtube] 1O8fX5p7m6I: Looking for automatic captions\n",
      "[info] Writing video subtitles to: subtitle_1O8fX5p7m6I.en.vtt\n",
      "[youtube] X0AEh2vg7gQ: Downloading webpage\n",
      "[youtube] X0AEh2vg7gQ: Downloading video info webpage\n",
      "[youtube] X0AEh2vg7gQ: Looking for automatic captions\n",
      "[youtube] X0AEh2vg7gQ: Downloading MPD manifest\n",
      "[youtube] X0AEh2vg7gQ: Downloading MPD manifest\n",
      "[info] Writing video subtitles to: subtitle_X0AEh2vg7gQ.en.vtt\n",
      "[youtube] 893B9p-wZ7I: Downloading webpage\n",
      "[youtube] 893B9p-wZ7I: Downloading video info webpage\n",
      "[youtube] 893B9p-wZ7I: Looking for automatic captions\n",
      "[info] Writing video subtitles to: subtitle_893B9p-wZ7I.en.vtt\n",
      "[youtube] C-57onty9x8: Downloading webpage\n",
      "[youtube] C-57onty9x8: Downloading video info webpage\n",
      "[youtube] C-57onty9x8: Looking for automatic captions\n",
      "[info] Writing video subtitles to: subtitle_C-57onty9x8.en.vtt\n",
      "[youtube] hqKGQrCA_hE: Downloading webpage\n",
      "[youtube] hqKGQrCA_hE: Downloading video info webpage\n",
      "[youtube] hqKGQrCA_hE: Looking for automatic captions\n",
      "[info] Writing video subtitles to: subtitle_hqKGQrCA_hE.en.vtt\n",
      "[youtube] qQ0Rov4oKG0: Downloading webpage\n",
      "[youtube] qQ0Rov4oKG0: Downloading video info webpage\n",
      "[youtube] qQ0Rov4oKG0: Looking for automatic captions\n",
      "[info] Writing video subtitles to: subtitle_qQ0Rov4oKG0.en.vtt\n",
      "[youtube] Eb_ygwqaZy8: Downloading webpage\n",
      "[youtube] Eb_ygwqaZy8: Downloading video info webpage\n",
      "[youtube] Eb_ygwqaZy8: Looking for automatic captions\n",
      "[info] Writing video subtitles to: subtitle_Eb_ygwqaZy8.en.vtt\n",
      "[youtube] 2nw4TlAl2Ak: Downloading webpage\n",
      "[youtube] 2nw4TlAl2Ak: Downloading video info webpage\n",
      "[youtube] 2nw4TlAl2Ak: Looking for automatic captions\n"
     ]
    },
    {
     "name": "stderr",
     "output_type": "stream",
     "text": [
      "WARNING: Couldn't find automatic captions for 2nw4TlAl2Ak\n"
     ]
    },
    {
     "name": "stdout",
     "output_type": "stream",
     "text": [
      "No captions for 2nw4TlAl2Ak\n",
      "[youtube] lZ_-gt5Wk2Y: Downloading webpage\n",
      "[youtube] lZ_-gt5Wk2Y: Downloading video info webpage\n",
      "[youtube] lZ_-gt5Wk2Y: Looking for automatic captions\n",
      "[info] Writing video subtitles to: subtitle_lZ_-gt5Wk2Y.en.vtt\n",
      "[youtube] w0NB2oEuoi8: Downloading webpage\n",
      "[youtube] w0NB2oEuoi8: Downloading video info webpage\n",
      "[youtube] w0NB2oEuoi8: Looking for automatic captions\n"
     ]
    },
    {
     "name": "stderr",
     "output_type": "stream",
     "text": [
      "WARNING: Couldn't find automatic captions for w0NB2oEuoi8\n"
     ]
    },
    {
     "name": "stdout",
     "output_type": "stream",
     "text": [
      "No captions for w0NB2oEuoi8\n",
      "[youtube] 2d1qeEcia7Q: Downloading webpage\n",
      "[youtube] 2d1qeEcia7Q: Downloading video info webpage\n",
      "[youtube] 2d1qeEcia7Q: Looking for automatic captions\n",
      "[info] Writing video subtitles to: subtitle_2d1qeEcia7Q.en.vtt\n",
      "[youtube] IefKPEjBSlc: Downloading webpage\n",
      "[youtube] IefKPEjBSlc: Downloading video info webpage\n",
      "[youtube] IefKPEjBSlc: Looking for automatic captions\n",
      "[info] Writing video subtitles to: subtitle_IefKPEjBSlc.en.vtt\n",
      "[youtube] zoMgVsrEyxU: Downloading webpage\n",
      "[youtube] zoMgVsrEyxU: Downloading video info webpage\n",
      "[youtube] zoMgVsrEyxU: Looking for automatic captions\n",
      "[youtube] zoMgVsrEyxU: Downloading MPD manifest\n",
      "[youtube] zoMgVsrEyxU: Downloading MPD manifest\n",
      "[info] Writing video subtitles to: subtitle_zoMgVsrEyxU.en.vtt\n",
      "[youtube] gQzdGNDv5fI: Downloading webpage\n",
      "[youtube] gQzdGNDv5fI: Downloading video info webpage\n",
      "[youtube] gQzdGNDv5fI: Looking for automatic captions\n",
      "[youtube] gQzdGNDv5fI: Downloading MPD manifest\n",
      "[youtube] gQzdGNDv5fI: Downloading MPD manifest\n",
      "[info] Writing video subtitles to: subtitle_gQzdGNDv5fI.en.vtt\n",
      "[youtube] JulS7Ztt8no: Downloading webpage\n",
      "[youtube] JulS7Ztt8no: Downloading video info webpage\n",
      "[youtube] JulS7Ztt8no: Looking for automatic captions\n",
      "[info] Writing video subtitles to: subtitle_JulS7Ztt8no.en.vtt\n",
      "[youtube] yNnAFTpQhmU: Downloading webpage\n",
      "[youtube] yNnAFTpQhmU: Downloading video info webpage\n",
      "[youtube] yNnAFTpQhmU: Looking for automatic captions\n"
     ]
    },
    {
     "name": "stderr",
     "output_type": "stream",
     "text": [
      "WARNING: Couldn't find automatic captions for yNnAFTpQhmU\n"
     ]
    },
    {
     "name": "stdout",
     "output_type": "stream",
     "text": [
      "No captions for yNnAFTpQhmU\n",
      "[youtube] jwpsFs7-Aks: Downloading webpage\n",
      "[youtube] jwpsFs7-Aks: Downloading video info webpage\n",
      "[youtube] jwpsFs7-Aks: Looking for automatic captions\n"
     ]
    },
    {
     "name": "stderr",
     "output_type": "stream",
     "text": [
      "WARNING: Couldn't find automatic captions for jwpsFs7-Aks\n"
     ]
    },
    {
     "name": "stdout",
     "output_type": "stream",
     "text": [
      "[youtube] jwpsFs7-Aks: Downloading MPD manifest\n",
      "[youtube] jwpsFs7-Aks: Downloading MPD manifest\n",
      "No captions for jwpsFs7-Aks\n",
      "[youtube] jmeugGh2xl4: Downloading webpage\n",
      "[youtube] jmeugGh2xl4: Downloading video info webpage\n",
      "[youtube] jmeugGh2xl4: Looking for automatic captions\n",
      "[info] Writing video subtitles to: subtitle_jmeugGh2xl4.en.vtt\n",
      "[youtube] Y2pAGz5abh8: Downloading webpage\n",
      "[youtube] Y2pAGz5abh8: Downloading video info webpage\n",
      "[youtube] Y2pAGz5abh8: Looking for automatic captions\n"
     ]
    },
    {
     "name": "stderr",
     "output_type": "stream",
     "text": [
      "WARNING: Couldn't find automatic captions for Y2pAGz5abh8\n"
     ]
    },
    {
     "name": "stdout",
     "output_type": "stream",
     "text": [
      "No captions for Y2pAGz5abh8\n",
      "[youtube] GbUsnPgw-_E: Downloading webpage\n",
      "[youtube] GbUsnPgw-_E: Downloading video info webpage\n",
      "[youtube] GbUsnPgw-_E: Looking for automatic captions\n",
      "[info] Writing video subtitles to: subtitle_GbUsnPgw-_E.en.vtt\n",
      "[youtube] mTtPe7O7m1k: Downloading webpage\n",
      "[youtube] mTtPe7O7m1k: Downloading video info webpage\n",
      "[youtube] mTtPe7O7m1k: Looking for automatic captions\n",
      "[youtube] mTtPe7O7m1k: Downloading MPD manifest\n",
      "[youtube] mTtPe7O7m1k: Downloading MPD manifest\n",
      "[info] Writing video subtitles to: subtitle_mTtPe7O7m1k.en.vtt\n",
      "[youtube] oyad2fy3otk: Downloading webpage\n",
      "[youtube] oyad2fy3otk: Downloading video info webpage\n",
      "[youtube] oyad2fy3otk: Looking for automatic captions\n"
     ]
    },
    {
     "name": "stderr",
     "output_type": "stream",
     "text": [
      "WARNING: Couldn't find automatic captions for oyad2fy3otk\n"
     ]
    },
    {
     "name": "stdout",
     "output_type": "stream",
     "text": [
      "No captions for oyad2fy3otk\n",
      "[youtube] 2DdfAJc3E-c: Downloading webpage\n",
      "[youtube] 2DdfAJc3E-c: Downloading video info webpage\n",
      "[youtube] 2DdfAJc3E-c: Looking for automatic captions\n",
      "[info] Writing video subtitles to: subtitle_2DdfAJc3E-c.en.vtt\n",
      "[youtube] J-aOMU04kEA: Downloading webpage\n",
      "[youtube] J-aOMU04kEA: Downloading video info webpage\n",
      "[youtube] J-aOMU04kEA: Looking for automatic captions\n",
      "[info] Writing video subtitles to: subtitle_J-aOMU04kEA.en.vtt\n",
      "[youtube] hEB-q-wqJQI: Downloading webpage\n",
      "[youtube] hEB-q-wqJQI: Downloading video info webpage\n",
      "[youtube] hEB-q-wqJQI: Looking for automatic captions\n",
      "[info] Writing video subtitles to: subtitle_hEB-q-wqJQI.en.vtt\n",
      "[youtube] 33iXXVkiUGU: Downloading webpage\n",
      "[youtube] 33iXXVkiUGU: Downloading video info webpage\n",
      "[youtube] 33iXXVkiUGU: Looking for automatic captions\n",
      "[info] Writing video subtitles to: subtitle_33iXXVkiUGU.en.vtt\n",
      "[youtube] nLmlrpoRibs: Downloading webpage\n",
      "[youtube] nLmlrpoRibs: Downloading video info webpage\n",
      "[youtube] nLmlrpoRibs: Looking for automatic captions\n",
      "[info] Writing video subtitles to: subtitle_nLmlrpoRibs.en.vtt\n",
      "[youtube] VeBDGvrHcfk: Downloading webpage\n",
      "[youtube] VeBDGvrHcfk: Downloading video info webpage\n",
      "[youtube] VeBDGvrHcfk: Looking for automatic captions\n",
      "[youtube] VeBDGvrHcfk: Downloading MPD manifest\n",
      "[youtube] VeBDGvrHcfk: Downloading MPD manifest\n",
      "[info] Writing video subtitles to: subtitle_VeBDGvrHcfk.en.vtt\n",
      "[youtube] rmk6GDvZIgY: Downloading webpage\n",
      "[youtube] rmk6GDvZIgY: Downloading video info webpage\n",
      "[youtube] rmk6GDvZIgY: Looking for automatic captions\n"
     ]
    },
    {
     "name": "stderr",
     "output_type": "stream",
     "text": [
      "WARNING: Couldn't find automatic captions for rmk6GDvZIgY\n"
     ]
    },
    {
     "name": "stdout",
     "output_type": "stream",
     "text": [
      "No captions for rmk6GDvZIgY\n",
      "[youtube] _54v9xGBRd0: Downloading webpage\n",
      "[youtube] _54v9xGBRd0: Downloading video info webpage\n",
      "[youtube] _54v9xGBRd0: Looking for automatic captions\n",
      "[info] Writing video subtitles to: subtitle__54v9xGBRd0.en.vtt\n",
      "[youtube] Xi5YFpqddxQ: Downloading webpage\n",
      "[youtube] Xi5YFpqddxQ: Downloading video info webpage\n",
      "[youtube] Xi5YFpqddxQ: Looking for automatic captions\n",
      "[info] Writing video subtitles to: subtitle_Xi5YFpqddxQ.en.vtt\n",
      "[youtube] JYZf2DBltd4: Downloading webpage\n",
      "[youtube] JYZf2DBltd4: Downloading video info webpage\n",
      "[youtube] JYZf2DBltd4: Looking for automatic captions\n"
     ]
    },
    {
     "name": "stderr",
     "output_type": "stream",
     "text": [
      "WARNING: Couldn't find automatic captions for JYZf2DBltd4\n"
     ]
    },
    {
     "name": "stdout",
     "output_type": "stream",
     "text": [
      "No captions for JYZf2DBltd4\n",
      "[youtube] mAd1nwaboec: Downloading webpage\n",
      "[youtube] mAd1nwaboec: Downloading video info webpage\n",
      "[youtube] mAd1nwaboec: Looking for automatic captions\n"
     ]
    },
    {
     "name": "stderr",
     "output_type": "stream",
     "text": [
      "WARNING: Couldn't find automatic captions for mAd1nwaboec\n"
     ]
    },
    {
     "name": "stdout",
     "output_type": "stream",
     "text": [
      "No captions for mAd1nwaboec\n",
      "[youtube] lWFpgTe67aE: Downloading webpage\n",
      "[youtube] lWFpgTe67aE: Downloading video info webpage\n",
      "[youtube] lWFpgTe67aE: Looking for automatic captions\n",
      "[info] Writing video subtitles to: subtitle_lWFpgTe67aE.en.vtt\n",
      "[youtube] 5D_HkbFtiB8: Downloading webpage\n",
      "[youtube] 5D_HkbFtiB8: Downloading video info webpage\n",
      "[youtube] 5D_HkbFtiB8: Looking for automatic captions\n",
      "[info] Writing video subtitles to: subtitle_5D_HkbFtiB8.en.vtt\n",
      "[youtube] Pi3_GjRqDIg: Downloading webpage\n",
      "[youtube] Pi3_GjRqDIg: Downloading video info webpage\n",
      "[youtube] Pi3_GjRqDIg: Looking for automatic captions\n",
      "[info] Writing video subtitles to: subtitle_Pi3_GjRqDIg.en.vtt\n",
      "[youtube] c5EZtm_yB2k: Downloading webpage\n",
      "[youtube] c5EZtm_yB2k: Downloading video info webpage\n",
      "[youtube] c5EZtm_yB2k: Looking for automatic captions\n",
      "[info] Writing video subtitles to: subtitle_c5EZtm_yB2k.en.vtt\n",
      "[youtube] o65WiVCyGNI: Downloading webpage\n",
      "[youtube] o65WiVCyGNI: Downloading video info webpage\n",
      "[youtube] o65WiVCyGNI: Looking for automatic captions\n",
      "[info] Writing video subtitles to: subtitle_o65WiVCyGNI.en.vtt\n",
      "[youtube] LchUPxjAEYE: Downloading webpage\n",
      "[youtube] LchUPxjAEYE: Downloading video info webpage\n",
      "[youtube] LchUPxjAEYE: Looking for automatic captions\n"
     ]
    },
    {
     "name": "stderr",
     "output_type": "stream",
     "text": [
      "WARNING: Couldn't find automatic captions for LchUPxjAEYE\n"
     ]
    },
    {
     "name": "stdout",
     "output_type": "stream",
     "text": [
      "No captions for LchUPxjAEYE\n",
      "[youtube] q3kftS6R2X0: Downloading webpage\n",
      "[youtube] q3kftS6R2X0: Downloading video info webpage\n",
      "[youtube] q3kftS6R2X0: Looking for automatic captions\n"
     ]
    },
    {
     "name": "stderr",
     "output_type": "stream",
     "text": [
      "WARNING: Couldn't find automatic captions for q3kftS6R2X0\n"
     ]
    },
    {
     "name": "stdout",
     "output_type": "stream",
     "text": [
      "No captions for q3kftS6R2X0\n",
      "[youtube] TF8qxk8jK7g: Downloading webpage\n",
      "[youtube] TF8qxk8jK7g: Downloading video info webpage\n",
      "[youtube] TF8qxk8jK7g: Looking for automatic captions\n"
     ]
    },
    {
     "name": "stderr",
     "output_type": "stream",
     "text": [
      "WARNING: Couldn't find automatic captions for TF8qxk8jK7g\n"
     ]
    },
    {
     "name": "stdout",
     "output_type": "stream",
     "text": [
      "No captions for TF8qxk8jK7g\n",
      "[youtube] 72dhX_7WtYo: Downloading webpage\n",
      "[youtube] 72dhX_7WtYo: Downloading video info webpage\n",
      "[youtube] 72dhX_7WtYo: Looking for automatic captions\n",
      "[info] Writing video subtitles to: subtitle_72dhX_7WtYo.en.vtt\n",
      "[youtube] uf-B7Jmv8CE: Downloading webpage\n",
      "[youtube] uf-B7Jmv8CE: Downloading video info webpage\n",
      "[youtube] uf-B7Jmv8CE: Looking for automatic captions\n",
      "[info] Writing video subtitles to: subtitle_uf-B7Jmv8CE.en.vtt\n",
      "[youtube] 6dqKihhVtE0: Downloading webpage\n",
      "[youtube] 6dqKihhVtE0: Downloading video info webpage\n",
      "[youtube] 6dqKihhVtE0: Looking for automatic captions\n",
      "[info] Writing video subtitles to: subtitle_6dqKihhVtE0.en.vtt\n",
      "[youtube] QJnmrpZ-maI: Downloading webpage\n",
      "[youtube] QJnmrpZ-maI: Downloading video info webpage\n",
      "[youtube] QJnmrpZ-maI: Looking for automatic captions\n",
      "[youtube] QJnmrpZ-maI: Downloading MPD manifest\n",
      "[youtube] QJnmrpZ-maI: Downloading MPD manifest\n",
      "[info] Writing video subtitles to: subtitle_QJnmrpZ-maI.en.vtt\n",
      "[youtube] _QVCXWMQe1k: Downloading webpage\n",
      "[youtube] _QVCXWMQe1k: Downloading video info webpage\n",
      "[youtube] _QVCXWMQe1k: Looking for automatic captions\n",
      "[youtube] _QVCXWMQe1k: Downloading MPD manifest\n",
      "[youtube] _QVCXWMQe1k: Downloading MPD manifest\n",
      "[info] Writing video subtitles to: subtitle__QVCXWMQe1k.en.vtt\n",
      "[youtube] kertRFnTmAE: Downloading webpage\n",
      "[youtube] kertRFnTmAE: Downloading video info webpage\n",
      "[youtube] kertRFnTmAE: Looking for automatic captions\n",
      "[info] Writing video subtitles to: subtitle_kertRFnTmAE.en.vtt\n",
      "[youtube] RzXfg7RkgZc: Downloading webpage\n",
      "[youtube] RzXfg7RkgZc: Downloading video info webpage\n",
      "[youtube] RzXfg7RkgZc: Looking for automatic captions\n"
     ]
    },
    {
     "name": "stderr",
     "output_type": "stream",
     "text": [
      "WARNING: Couldn't find automatic captions for RzXfg7RkgZc\n"
     ]
    },
    {
     "name": "stdout",
     "output_type": "stream",
     "text": [
      "No captions for RzXfg7RkgZc\n",
      "[youtube] tKD2f8y6VCc: Downloading webpage\n",
      "[youtube] tKD2f8y6VCc: Downloading video info webpage\n",
      "[youtube] tKD2f8y6VCc: Looking for automatic captions\n"
     ]
    },
    {
     "name": "stderr",
     "output_type": "stream",
     "text": [
      "WARNING: Couldn't find automatic captions for tKD2f8y6VCc\n"
     ]
    },
    {
     "name": "stdout",
     "output_type": "stream",
     "text": [
      "No captions for tKD2f8y6VCc\n",
      "[youtube] Hg555BhLHtM: Downloading webpage\n",
      "[youtube] Hg555BhLHtM: Downloading video info webpage\n",
      "[youtube] Hg555BhLHtM: Looking for automatic captions\n",
      "[info] Writing video subtitles to: subtitle_Hg555BhLHtM.en.vtt\n",
      "[youtube] vVQL2KPMXOY: Downloading webpage\n",
      "[youtube] vVQL2KPMXOY: Downloading video info webpage\n",
      "[youtube] vVQL2KPMXOY: Looking for automatic captions\n",
      "[info] Writing video subtitles to: subtitle_vVQL2KPMXOY.en.vtt\n",
      "[youtube] sdDaWWpIP1c: Downloading webpage\n",
      "[youtube] sdDaWWpIP1c: Downloading video info webpage\n",
      "[youtube] sdDaWWpIP1c: Looking for automatic captions\n"
     ]
    },
    {
     "name": "stderr",
     "output_type": "stream",
     "text": [
      "WARNING: Couldn't find automatic captions for sdDaWWpIP1c\n"
     ]
    },
    {
     "name": "stdout",
     "output_type": "stream",
     "text": [
      "No captions for sdDaWWpIP1c\n",
      "[youtube] 5URgdbErWTI: Downloading webpage\n",
      "[youtube] 5URgdbErWTI: Downloading video info webpage\n",
      "[youtube] 5URgdbErWTI: Looking for automatic captions\n",
      "[youtube] 5URgdbErWTI: Downloading MPD manifest\n",
      "[youtube] 5URgdbErWTI: Downloading MPD manifest\n",
      "[info] Writing video subtitles to: subtitle_5URgdbErWTI.en.vtt\n",
      "[youtube] fgAR7U20wEI: Downloading webpage\n",
      "[youtube] fgAR7U20wEI: Downloading video info webpage\n",
      "[youtube] fgAR7U20wEI: Looking for automatic captions\n",
      "[youtube] fgAR7U20wEI: Downloading MPD manifest\n",
      "[youtube] fgAR7U20wEI: Downloading MPD manifest\n",
      "[info] Writing video subtitles to: subtitle_fgAR7U20wEI.en.vtt\n",
      "[youtube] THYSvj72h5E: Downloading webpage\n",
      "[youtube] THYSvj72h5E: Downloading video info webpage\n",
      "[youtube] THYSvj72h5E: Looking for automatic captions\n",
      "[info] Writing video subtitles to: subtitle_THYSvj72h5E.en.vtt\n",
      "[youtube] iC7BMNBYRsI: Downloading webpage\n",
      "[youtube] iC7BMNBYRsI: Downloading video info webpage\n",
      "[youtube] iC7BMNBYRsI: Looking for automatic captions\n",
      "[info] Writing video subtitles to: subtitle_iC7BMNBYRsI.en.vtt\n",
      "[youtube] BaSQys-_RuI: Downloading webpage\n",
      "[youtube] BaSQys-_RuI: Downloading video info webpage\n",
      "[youtube] BaSQys-_RuI: Looking for automatic captions\n",
      "[info] Writing video subtitles to: subtitle_BaSQys-_RuI.en.vtt\n",
      "[youtube] KJ_9w6EprQ8: Downloading webpage\n",
      "[youtube] KJ_9w6EprQ8: Downloading video info webpage\n",
      "[youtube] KJ_9w6EprQ8: Looking for automatic captions\n",
      "[info] Writing video subtitles to: subtitle_KJ_9w6EprQ8.en.vtt\n",
      "[youtube] WI3_yIFTWHQ: Downloading webpage\n",
      "[youtube] WI3_yIFTWHQ: Downloading video info webpage\n",
      "[youtube] WI3_yIFTWHQ: Looking for automatic captions\n",
      "[info] Writing video subtitles to: subtitle_WI3_yIFTWHQ.en.vtt\n",
      "[youtube] P7y15NGWz64: Downloading webpage\n",
      "[youtube] P7y15NGWz64: Downloading video info webpage\n",
      "[youtube] P7y15NGWz64: Looking for automatic captions\n"
     ]
    },
    {
     "name": "stderr",
     "output_type": "stream",
     "text": [
      "WARNING: Couldn't find automatic captions for P7y15NGWz64\n"
     ]
    },
    {
     "name": "stdout",
     "output_type": "stream",
     "text": [
      "No captions for P7y15NGWz64\n",
      "[youtube] gGje-IfE0B0: Downloading webpage\n",
      "[youtube] gGje-IfE0B0: Downloading video info webpage\n",
      "[youtube] gGje-IfE0B0: Looking for automatic captions\n",
      "[info] Writing video subtitles to: subtitle_gGje-IfE0B0.en.vtt\n",
      "[youtube] LEdLtMM9Goc: Downloading webpage\n",
      "[youtube] LEdLtMM9Goc: Downloading video info webpage\n",
      "[youtube] LEdLtMM9Goc: Looking for automatic captions\n",
      "[info] Writing video subtitles to: subtitle_LEdLtMM9Goc.en.vtt\n",
      "[youtube] rTDK4pFItJI: Downloading webpage\n",
      "[youtube] rTDK4pFItJI: Downloading video info webpage\n",
      "[youtube] rTDK4pFItJI: Looking for automatic captions\n",
      "[info] Writing video subtitles to: subtitle_rTDK4pFItJI.en.vtt\n",
      "[youtube] paVDQ11L3Lg: Downloading webpage\n",
      "[youtube] paVDQ11L3Lg: Downloading video info webpage\n",
      "[youtube] paVDQ11L3Lg: Looking for automatic captions\n",
      "[info] Writing video subtitles to: subtitle_paVDQ11L3Lg.en.vtt\n",
      "[youtube] UW3KiIfLiU8: Downloading webpage\n",
      "[youtube] UW3KiIfLiU8: Downloading video info webpage\n",
      "[youtube] UW3KiIfLiU8: Looking for automatic captions\n",
      "[info] Writing video subtitles to: subtitle_UW3KiIfLiU8.en.vtt\n",
      "[youtube] 8fwG5ImP1eU: Downloading webpage\n",
      "[youtube] 8fwG5ImP1eU: Downloading video info webpage\n",
      "[youtube] 8fwG5ImP1eU: Looking for automatic captions\n",
      "[info] Writing video subtitles to: subtitle_8fwG5ImP1eU.en.vtt\n",
      "[youtube] I4Uy1mGk5wM: Downloading webpage\n",
      "[youtube] I4Uy1mGk5wM: Downloading video info webpage\n",
      "[youtube] I4Uy1mGk5wM: Looking for automatic captions\n",
      "[info] Writing video subtitles to: subtitle_I4Uy1mGk5wM.en.vtt\n",
      "[youtube] INF2RwLZW5g: Downloading webpage\n",
      "[youtube] INF2RwLZW5g: Downloading video info webpage\n",
      "[youtube] INF2RwLZW5g: Looking for automatic captions\n",
      "[info] Writing video subtitles to: subtitle_INF2RwLZW5g.en.vtt\n",
      "[youtube] x1wm_xcQbOY: Downloading webpage\n",
      "[youtube] x1wm_xcQbOY: Downloading video info webpage\n",
      "[youtube] x1wm_xcQbOY: Looking for automatic captions\n"
     ]
    },
    {
     "name": "stderr",
     "output_type": "stream",
     "text": [
      "WARNING: Couldn't find automatic captions for x1wm_xcQbOY\n"
     ]
    },
    {
     "name": "stdout",
     "output_type": "stream",
     "text": [
      "[youtube] x1wm_xcQbOY: Downloading MPD manifest\n",
      "[youtube] x1wm_xcQbOY: Downloading MPD manifest\n",
      "No captions for x1wm_xcQbOY\n",
      "[youtube] zMb6ywb-9jQ: Downloading webpage\n",
      "[youtube] zMb6ywb-9jQ: Downloading video info webpage\n",
      "[youtube] zMb6ywb-9jQ: Looking for automatic captions\n",
      "[youtube] zMb6ywb-9jQ: Downloading MPD manifest\n",
      "[youtube] zMb6ywb-9jQ: Downloading MPD manifest\n",
      "[info] Writing video subtitles to: subtitle_zMb6ywb-9jQ.en.vtt\n",
      "[youtube] sSGA45VV8Nk: Downloading webpage\n",
      "[youtube] sSGA45VV8Nk: Downloading video info webpage\n",
      "[youtube] sSGA45VV8Nk: Looking for automatic captions\n",
      "[info] Writing video subtitles to: subtitle_sSGA45VV8Nk.en.vtt\n",
      "[youtube] g7DmXX8yZAg: Downloading webpage\n",
      "[youtube] g7DmXX8yZAg: Downloading video info webpage\n",
      "[youtube] g7DmXX8yZAg: Looking for automatic captions\n"
     ]
    },
    {
     "name": "stderr",
     "output_type": "stream",
     "text": [
      "WARNING: Couldn't find automatic captions for g7DmXX8yZAg\n"
     ]
    },
    {
     "name": "stdout",
     "output_type": "stream",
     "text": [
      "No captions for g7DmXX8yZAg\n",
      "[youtube] MsSskj3zqbw: Downloading webpage\n",
      "[youtube] MsSskj3zqbw: Downloading video info webpage\n",
      "[youtube] MsSskj3zqbw: Looking for automatic captions\n",
      "[youtube] MsSskj3zqbw: Downloading MPD manifest\n",
      "[youtube] MsSskj3zqbw: Downloading MPD manifest\n",
      "[info] Writing video subtitles to: subtitle_MsSskj3zqbw.en.vtt\n",
      "[youtube] WfoM0p5hqEo: Downloading webpage\n",
      "[youtube] WfoM0p5hqEo: Downloading video info webpage\n",
      "[youtube] WfoM0p5hqEo: Looking for automatic captions\n"
     ]
    },
    {
     "name": "stderr",
     "output_type": "stream",
     "text": [
      "WARNING: Couldn't find automatic captions for WfoM0p5hqEo\n"
     ]
    },
    {
     "name": "stdout",
     "output_type": "stream",
     "text": [
      "No captions for WfoM0p5hqEo\n",
      "[youtube] -aUSc5XseXo: Downloading webpage\n",
      "[youtube] -aUSc5XseXo: Downloading video info webpage\n",
      "[youtube] -aUSc5XseXo: Looking for automatic captions\n"
     ]
    },
    {
     "name": "stderr",
     "output_type": "stream",
     "text": [
      "WARNING: Couldn't find automatic captions for -aUSc5XseXo\n"
     ]
    },
    {
     "name": "stdout",
     "output_type": "stream",
     "text": [
      "No captions for -aUSc5XseXo\n",
      "[youtube] JK9_nf13BNg: Downloading webpage\n",
      "[youtube] JK9_nf13BNg: Downloading video info webpage\n",
      "[youtube] JK9_nf13BNg: Looking for automatic captions\n"
     ]
    },
    {
     "name": "stderr",
     "output_type": "stream",
     "text": [
      "WARNING: Couldn't find automatic captions for JK9_nf13BNg\n"
     ]
    },
    {
     "name": "stdout",
     "output_type": "stream",
     "text": [
      "No captions for JK9_nf13BNg\n",
      "[youtube] zUabWZl9310: Downloading webpage\n",
      "[youtube] zUabWZl9310: Downloading video info webpage\n",
      "[youtube] zUabWZl9310: Looking for automatic captions\n",
      "[info] Writing video subtitles to: subtitle_zUabWZl9310.en.vtt\n",
      "[youtube] YYOBvr59uL0: Downloading webpage\n",
      "[youtube] YYOBvr59uL0: Downloading video info webpage\n",
      "[youtube] YYOBvr59uL0: Looking for automatic captions\n",
      "[info] Writing video subtitles to: subtitle_YYOBvr59uL0.en.vtt\n",
      "[youtube] fwjDlqkJ3UA: Downloading webpage\n",
      "[youtube] fwjDlqkJ3UA: Downloading video info webpage\n",
      "[youtube] fwjDlqkJ3UA: Looking for automatic captions\n"
     ]
    },
    {
     "name": "stderr",
     "output_type": "stream",
     "text": [
      "WARNING: Couldn't find automatic captions for fwjDlqkJ3UA\n"
     ]
    },
    {
     "name": "stdout",
     "output_type": "stream",
     "text": [
      "No captions for fwjDlqkJ3UA\n",
      "[youtube] 3GiZ0I9ZaUs: Downloading webpage\n",
      "[youtube] 3GiZ0I9ZaUs: Downloading video info webpage\n",
      "[youtube] 3GiZ0I9ZaUs: Looking for automatic captions\n",
      "[info] Writing video subtitles to: subtitle_3GiZ0I9ZaUs.en.vtt\n",
      "[youtube] zUL96AuYQjo: Downloading webpage\n",
      "[youtube] zUL96AuYQjo: Downloading video info webpage\n",
      "[youtube] zUL96AuYQjo: Looking for automatic captions\n",
      "[info] Writing video subtitles to: subtitle_zUL96AuYQjo.en.vtt\n",
      "[youtube] cnS7taYh0AQ: Downloading webpage\n",
      "[youtube] cnS7taYh0AQ: Downloading video info webpage\n",
      "[youtube] cnS7taYh0AQ: Looking for automatic captions\n",
      "[info] Writing video subtitles to: subtitle_cnS7taYh0AQ.en.vtt\n",
      "[youtube] -NtL7M0M6sY: Downloading webpage\n",
      "[youtube] -NtL7M0M6sY: Downloading video info webpage\n",
      "[youtube] -NtL7M0M6sY: Looking for automatic captions\n",
      "[info] Writing video subtitles to: subtitle_-NtL7M0M6sY.en.vtt\n",
      "[youtube] KNarS-JgtJo: Downloading webpage\n",
      "[youtube] KNarS-JgtJo: Downloading video info webpage\n",
      "[youtube] KNarS-JgtJo: Looking for automatic captions\n",
      "[info] Writing video subtitles to: subtitle_KNarS-JgtJo.en.vtt\n",
      "[youtube] uHL9gWk8hhk: Downloading webpage\n",
      "[youtube] uHL9gWk8hhk: Downloading video info webpage\n",
      "[youtube] uHL9gWk8hhk: Looking for automatic captions\n",
      "[info] Writing video subtitles to: subtitle_uHL9gWk8hhk.en.vtt\n",
      "[youtube] cbjY33U3llo: Downloading webpage\n",
      "[youtube] cbjY33U3llo: Downloading video info webpage\n",
      "[youtube] cbjY33U3llo: Looking for automatic captions\n",
      "[youtube] cbjY33U3llo: Downloading MPD manifest\n",
      "[youtube] cbjY33U3llo: Downloading MPD manifest\n",
      "[info] Writing video subtitles to: subtitle_cbjY33U3llo.en.vtt\n",
      "[youtube] Tmry1pYpGs8: Downloading webpage\n",
      "[youtube] Tmry1pYpGs8: Downloading video info webpage\n",
      "[youtube] Tmry1pYpGs8: Looking for automatic captions\n",
      "[info] Writing video subtitles to: subtitle_Tmry1pYpGs8.en.vtt\n",
      "[youtube] gy0bpoyFl5I: Downloading webpage\n",
      "[youtube] gy0bpoyFl5I: Downloading video info webpage\n",
      "[youtube] gy0bpoyFl5I: Looking for automatic captions\n",
      "[info] Writing video subtitles to: subtitle_gy0bpoyFl5I.en.vtt\n",
      "[youtube] ZT2j_ors7M0: Downloading webpage\n",
      "[youtube] ZT2j_ors7M0: Downloading video info webpage\n",
      "[youtube] ZT2j_ors7M0: Looking for automatic captions\n",
      "[info] Writing video subtitles to: subtitle_ZT2j_ors7M0.en.vtt\n",
      "[youtube] FYpuaaXzf5Q: Downloading webpage\n",
      "[youtube] FYpuaaXzf5Q: Downloading video info webpage\n",
      "[youtube] FYpuaaXzf5Q: Looking for automatic captions\n",
      "[info] Writing video subtitles to: subtitle_FYpuaaXzf5Q.en.vtt\n",
      "[youtube] 0Chvl8u3S7o: Downloading webpage\n",
      "[youtube] 0Chvl8u3S7o: Downloading video info webpage\n",
      "[youtube] 0Chvl8u3S7o: Looking for automatic captions\n",
      "[info] Writing video subtitles to: subtitle_0Chvl8u3S7o.en.vtt\n",
      "[youtube] XqqwiBb1e2o: Downloading webpage\n",
      "[youtube] XqqwiBb1e2o: Downloading video info webpage\n",
      "[youtube] XqqwiBb1e2o: Looking for automatic captions\n",
      "[youtube] XqqwiBb1e2o: Downloading MPD manifest\n",
      "[youtube] XqqwiBb1e2o: Downloading MPD manifest\n",
      "[info] Writing video subtitles to: subtitle_XqqwiBb1e2o.en.vtt\n",
      "[youtube] DIKZq14S05A: Downloading webpage\n",
      "[youtube] DIKZq14S05A: Downloading video info webpage\n",
      "[youtube] DIKZq14S05A: Looking for automatic captions\n",
      "[info] Writing video subtitles to: subtitle_DIKZq14S05A.en.vtt\n",
      "[youtube] Bh-ULXrs_w8: Downloading webpage\n",
      "[youtube] Bh-ULXrs_w8: Downloading video info webpage\n",
      "[youtube] Bh-ULXrs_w8: Looking for automatic captions\n"
     ]
    },
    {
     "name": "stderr",
     "output_type": "stream",
     "text": [
      "WARNING: Couldn't find automatic captions for Bh-ULXrs_w8\n"
     ]
    },
    {
     "name": "stdout",
     "output_type": "stream",
     "text": [
      "No captions for Bh-ULXrs_w8\n",
      "[youtube] lrtKoCF9po4: Downloading webpage\n",
      "[youtube] lrtKoCF9po4: Downloading video info webpage\n",
      "[youtube] lrtKoCF9po4: Looking for automatic captions\n",
      "[youtube] lrtKoCF9po4: Downloading MPD manifest\n",
      "[youtube] lrtKoCF9po4: Downloading MPD manifest\n",
      "[info] Writing video subtitles to: subtitle_lrtKoCF9po4.en.vtt\n",
      "[youtube] _9kcX9pfxes: Downloading webpage\n",
      "[youtube] _9kcX9pfxes: Downloading video info webpage\n",
      "[youtube] _9kcX9pfxes: Looking for automatic captions\n",
      "[youtube] _9kcX9pfxes: Downloading MPD manifest\n",
      "[youtube] _9kcX9pfxes: Downloading MPD manifest\n",
      "[info] Writing video subtitles to: subtitle__9kcX9pfxes.en.vtt\n",
      "[youtube] g2omIQw8VPY: Downloading webpage\n",
      "[youtube] g2omIQw8VPY: Downloading video info webpage\n",
      "[youtube] g2omIQw8VPY: Looking for automatic captions\n",
      "[info] Writing video subtitles to: subtitle_g2omIQw8VPY.en.vtt\n",
      "[youtube] J7BVrxXwYw8: Downloading webpage\n",
      "[youtube] J7BVrxXwYw8: Downloading video info webpage\n",
      "[youtube] J7BVrxXwYw8: Looking for automatic captions\n"
     ]
    },
    {
     "name": "stderr",
     "output_type": "stream",
     "text": [
      "WARNING: Couldn't find automatic captions for J7BVrxXwYw8\n"
     ]
    },
    {
     "name": "stdout",
     "output_type": "stream",
     "text": [
      "No captions for J7BVrxXwYw8\n",
      "[youtube] ygDoZDGJ6Sc: Downloading webpage\n",
      "[youtube] ygDoZDGJ6Sc: Downloading video info webpage\n",
      "[youtube] ygDoZDGJ6Sc: Looking for automatic captions\n",
      "[youtube] ygDoZDGJ6Sc: Downloading MPD manifest\n",
      "[youtube] ygDoZDGJ6Sc: Downloading MPD manifest\n",
      "[info] Writing video subtitles to: subtitle_ygDoZDGJ6Sc.en.vtt\n",
      "[youtube] 7TRhni4k2yE: Downloading webpage\n",
      "[youtube] 7TRhni4k2yE: Downloading video info webpage\n",
      "[youtube] 7TRhni4k2yE: Looking for automatic captions\n",
      "[info] Writing video subtitles to: subtitle_7TRhni4k2yE.en.vtt\n",
      "[youtube] BrX2LR3XOIs: Downloading webpage\n",
      "[youtube] BrX2LR3XOIs: Downloading video info webpage\n",
      "[youtube] BrX2LR3XOIs: Looking for automatic captions\n",
      "[youtube] BrX2LR3XOIs: Downloading MPD manifest\n",
      "[youtube] BrX2LR3XOIs: Downloading MPD manifest\n",
      "[info] Writing video subtitles to: subtitle_BrX2LR3XOIs.en.vtt\n",
      "[youtube] 69_FxIbE9Wk: Downloading webpage\n",
      "[youtube] 69_FxIbE9Wk: Downloading video info webpage\n",
      "[youtube] 69_FxIbE9Wk: Looking for automatic captions\n",
      "[info] Writing video subtitles to: subtitle_69_FxIbE9Wk.en.vtt\n",
      "[youtube] quDks4z982A: Downloading webpage\n",
      "[youtube] quDks4z982A: Downloading video info webpage\n",
      "[youtube] quDks4z982A: Looking for automatic captions\n",
      "[info] Writing video subtitles to: subtitle_quDks4z982A.en.vtt\n",
      "[youtube] FI-tjYvdmUw: Downloading webpage\n",
      "[youtube] FI-tjYvdmUw: Downloading video info webpage\n",
      "[youtube] FI-tjYvdmUw: Looking for automatic captions\n"
     ]
    },
    {
     "name": "stderr",
     "output_type": "stream",
     "text": [
      "WARNING: Couldn't find automatic captions for FI-tjYvdmUw\n"
     ]
    },
    {
     "name": "stdout",
     "output_type": "stream",
     "text": [
      "No captions for FI-tjYvdmUw\n",
      "[youtube] 9v4tjlYEerE: Downloading webpage\n",
      "[youtube] 9v4tjlYEerE: Downloading video info webpage\n",
      "[youtube] 9v4tjlYEerE: Looking for automatic captions\n",
      "[info] Writing video subtitles to: subtitle_9v4tjlYEerE.en.vtt\n",
      "[youtube] 6qGQko2hglA: Downloading webpage\n",
      "[youtube] 6qGQko2hglA: Downloading video info webpage\n",
      "[youtube] 6qGQko2hglA: Looking for automatic captions\n"
     ]
    },
    {
     "name": "stderr",
     "output_type": "stream",
     "text": [
      "WARNING: Couldn't find automatic captions for 6qGQko2hglA\n"
     ]
    },
    {
     "name": "stdout",
     "output_type": "stream",
     "text": [
      "No captions for 6qGQko2hglA\n",
      "[youtube] WVg0uo5wS0A: Downloading webpage\n",
      "[youtube] WVg0uo5wS0A: Downloading video info webpage\n",
      "[youtube] WVg0uo5wS0A: Looking for automatic captions\n",
      "[info] Writing video subtitles to: subtitle_WVg0uo5wS0A.en.vtt\n",
      "[youtube] 4C2PyCg-wBc: Downloading webpage\n",
      "[youtube] 4C2PyCg-wBc: Downloading video info webpage\n",
      "[youtube] 4C2PyCg-wBc: Looking for automatic captions\n",
      "[info] Writing video subtitles to: subtitle_4C2PyCg-wBc.en.vtt\n",
      "[youtube] mmgh8-kl9Tk: Downloading webpage\n",
      "[youtube] mmgh8-kl9Tk: Downloading video info webpage\n",
      "[youtube] mmgh8-kl9Tk: Looking for automatic captions\n"
     ]
    },
    {
     "name": "stderr",
     "output_type": "stream",
     "text": [
      "WARNING: Couldn't find automatic captions for mmgh8-kl9Tk\n"
     ]
    },
    {
     "name": "stdout",
     "output_type": "stream",
     "text": [
      "No captions for mmgh8-kl9Tk\n",
      "[youtube] K4Vu5NoSUh0: Downloading webpage\n",
      "[youtube] K4Vu5NoSUh0: Downloading video info webpage\n",
      "[youtube] K4Vu5NoSUh0: Looking for automatic captions\n",
      "[info] Writing video subtitles to: subtitle_K4Vu5NoSUh0.en.vtt\n",
      "[youtube] O7h7nlc4DnU: Downloading webpage\n",
      "[youtube] O7h7nlc4DnU: Downloading video info webpage\n",
      "[youtube] O7h7nlc4DnU: Looking for automatic captions\n",
      "[youtube] O7h7nlc4DnU: Downloading MPD manifest\n",
      "[youtube] O7h7nlc4DnU: Downloading MPD manifest\n",
      "[info] Writing video subtitles to: subtitle_O7h7nlc4DnU.en.vtt\n",
      "[youtube] l_fPUbLmQqQ: Downloading webpage\n",
      "[youtube] l_fPUbLmQqQ: Downloading video info webpage\n",
      "[youtube] l_fPUbLmQqQ: Looking for automatic captions\n"
     ]
    },
    {
     "name": "stderr",
     "output_type": "stream",
     "text": [
      "WARNING: Couldn't find automatic captions for l_fPUbLmQqQ\n"
     ]
    },
    {
     "name": "stdout",
     "output_type": "stream",
     "text": [
      "No captions for l_fPUbLmQqQ\n",
      "[youtube] qkzemaprHvc: Downloading webpage\n",
      "[youtube] qkzemaprHvc: Downloading video info webpage\n",
      "[youtube] qkzemaprHvc: Looking for automatic captions\n",
      "[info] Writing video subtitles to: subtitle_qkzemaprHvc.en.vtt\n",
      "[youtube] lPM6hG3JsXM: Downloading webpage\n",
      "[youtube] lPM6hG3JsXM: Downloading video info webpage\n",
      "[youtube] lPM6hG3JsXM: Looking for automatic captions\n",
      "[youtube] lPM6hG3JsXM: Downloading MPD manifest\n",
      "[youtube] lPM6hG3JsXM: Downloading MPD manifest\n",
      "[info] Writing video subtitles to: subtitle_lPM6hG3JsXM.en.vtt\n",
      "[youtube] zAFmnRn8FoU: Downloading webpage\n",
      "[youtube] zAFmnRn8FoU: Downloading video info webpage\n",
      "[youtube] zAFmnRn8FoU: Looking for automatic captions\n"
     ]
    },
    {
     "name": "stderr",
     "output_type": "stream",
     "text": [
      "WARNING: Couldn't find automatic captions for zAFmnRn8FoU\n"
     ]
    },
    {
     "name": "stdout",
     "output_type": "stream",
     "text": [
      "[youtube] zAFmnRn8FoU: Downloading MPD manifest\n",
      "[youtube] zAFmnRn8FoU: Downloading MPD manifest\n",
      "No captions for zAFmnRn8FoU\n",
      "[youtube] LipmO2phNDA: Downloading webpage\n",
      "[youtube] LipmO2phNDA: Downloading video info webpage\n",
      "[youtube] LipmO2phNDA: Looking for automatic captions\n",
      "[info] Writing video subtitles to: subtitle_LipmO2phNDA.en.vtt\n",
      "[youtube] KHTz3rZjj3M: Downloading webpage\n",
      "[youtube] KHTz3rZjj3M: Downloading video info webpage\n",
      "[youtube] KHTz3rZjj3M: Looking for automatic captions\n",
      "[info] Writing video subtitles to: subtitle_KHTz3rZjj3M.en.vtt\n",
      "[youtube] jER5Pdvk8ho: Downloading webpage\n",
      "[youtube] jER5Pdvk8ho: Downloading video info webpage\n",
      "[youtube] jER5Pdvk8ho: Looking for automatic captions\n",
      "[youtube] jER5Pdvk8ho: Downloading MPD manifest\n",
      "[info] Writing video subtitles to: subtitle_jER5Pdvk8ho.en.vtt\n",
      "[youtube] JH5JWJ88c-U: Downloading webpage\n",
      "[youtube] JH5JWJ88c-U: Downloading video info webpage\n",
      "[youtube] JH5JWJ88c-U: Looking for automatic captions\n"
     ]
    },
    {
     "name": "stderr",
     "output_type": "stream",
     "text": [
      "WARNING: Couldn't find automatic captions for JH5JWJ88c-U\n"
     ]
    },
    {
     "name": "stdout",
     "output_type": "stream",
     "text": [
      "No captions for JH5JWJ88c-U\n",
      "[youtube] 8z5DX0hvmb8: Downloading webpage\n",
      "[youtube] 8z5DX0hvmb8: Downloading video info webpage\n",
      "[youtube] 8z5DX0hvmb8: Looking for automatic captions\n",
      "[info] Writing video subtitles to: subtitle_8z5DX0hvmb8.en.vtt\n",
      "[youtube] JlJHpemruPc: Downloading webpage\n",
      "[youtube] JlJHpemruPc: Downloading video info webpage\n",
      "[youtube] JlJHpemruPc: Looking for automatic captions\n",
      "[info] Writing video subtitles to: subtitle_JlJHpemruPc.en.vtt\n",
      "[youtube] Lt3qStrsqmk: Downloading webpage\n",
      "[youtube] Lt3qStrsqmk: Downloading video info webpage\n",
      "[youtube] Lt3qStrsqmk: Looking for automatic captions\n",
      "[info] Writing video subtitles to: subtitle_Lt3qStrsqmk.en.vtt\n",
      "[youtube] 2vk6dwmqSrc: Downloading webpage\n",
      "[youtube] 2vk6dwmqSrc: Downloading video info webpage\n",
      "[youtube] 2vk6dwmqSrc: Looking for automatic captions\n"
     ]
    },
    {
     "name": "stderr",
     "output_type": "stream",
     "text": [
      "WARNING: Couldn't find automatic captions for 2vk6dwmqSrc\n"
     ]
    },
    {
     "name": "stdout",
     "output_type": "stream",
     "text": [
      "No captions for 2vk6dwmqSrc\n",
      "[youtube] ClfHsxDUD7o: Downloading webpage\n",
      "[youtube] ClfHsxDUD7o: Downloading video info webpage\n",
      "[youtube] ClfHsxDUD7o: Looking for automatic captions\n",
      "[youtube] ClfHsxDUD7o: Downloading MPD manifest\n",
      "[youtube] ClfHsxDUD7o: Downloading MPD manifest\n",
      "[info] Writing video subtitles to: subtitle_ClfHsxDUD7o.en.vtt\n",
      "[youtube] qCeLHFxIclA: Downloading webpage\n",
      "[youtube] qCeLHFxIclA: Downloading video info webpage\n",
      "[youtube] qCeLHFxIclA: Looking for automatic captions\n"
     ]
    },
    {
     "name": "stderr",
     "output_type": "stream",
     "text": [
      "WARNING: Couldn't find automatic captions for qCeLHFxIclA\n"
     ]
    },
    {
     "name": "stdout",
     "output_type": "stream",
     "text": [
      "No captions for qCeLHFxIclA\n",
      "[youtube] C56XB0vAAsY: Downloading webpage\n",
      "[youtube] C56XB0vAAsY: Downloading video info webpage\n",
      "[youtube] C56XB0vAAsY: Looking for automatic captions\n",
      "[info] Writing video subtitles to: subtitle_C56XB0vAAsY.en.vtt\n",
      "[youtube] Rb_JBicGQCk: Downloading webpage\n",
      "[youtube] Rb_JBicGQCk: Downloading video info webpage\n",
      "[youtube] Rb_JBicGQCk: Looking for automatic captions\n",
      "[youtube] Rb_JBicGQCk: Downloading MPD manifest\n",
      "[youtube] Rb_JBicGQCk: Downloading MPD manifest\n",
      "[info] Writing video subtitles to: subtitle_Rb_JBicGQCk.en.vtt\n",
      "[youtube] Tw8M2YO_dy8: Downloading webpage\n",
      "[youtube] Tw8M2YO_dy8: Downloading video info webpage\n",
      "[youtube] Tw8M2YO_dy8: Looking for automatic captions\n",
      "[youtube] Tw8M2YO_dy8: Downloading MPD manifest\n",
      "[youtube] Tw8M2YO_dy8: Downloading MPD manifest\n",
      "[info] Writing video subtitles to: subtitle_Tw8M2YO_dy8.en.vtt\n",
      "[youtube] 6vX8xgOKQ30: Downloading webpage\n",
      "[youtube] 6vX8xgOKQ30: Downloading video info webpage\n",
      "[youtube] 6vX8xgOKQ30: Looking for automatic captions\n"
     ]
    },
    {
     "name": "stderr",
     "output_type": "stream",
     "text": [
      "WARNING: Couldn't find automatic captions for 6vX8xgOKQ30\n"
     ]
    },
    {
     "name": "stdout",
     "output_type": "stream",
     "text": [
      "No captions for 6vX8xgOKQ30\n",
      "[youtube] sY7aQthvVe4: Downloading webpage\n",
      "[youtube] sY7aQthvVe4: Downloading video info webpage\n",
      "[youtube] sY7aQthvVe4: Looking for automatic captions\n",
      "[youtube] sY7aQthvVe4: Downloading MPD manifest\n",
      "[youtube] sY7aQthvVe4: Downloading MPD manifest\n",
      "[info] Writing video subtitles to: subtitle_sY7aQthvVe4.en.vtt\n",
      "[youtube] RFbCbSExYgo: Downloading webpage\n",
      "[youtube] RFbCbSExYgo: Downloading video info webpage\n",
      "[youtube] RFbCbSExYgo: Looking for automatic captions\n",
      "[info] Writing video subtitles to: subtitle_RFbCbSExYgo.en.vtt\n",
      "[youtube] RKg4s7NW0y8: Downloading webpage\n",
      "[youtube] RKg4s7NW0y8: Downloading video info webpage\n",
      "[youtube] RKg4s7NW0y8: Looking for automatic captions\n",
      "[info] Writing video subtitles to: subtitle_RKg4s7NW0y8.en.vtt\n",
      "[youtube] PuecSwg8OQ4: Downloading webpage\n",
      "[youtube] PuecSwg8OQ4: Downloading video info webpage\n",
      "[youtube] PuecSwg8OQ4: Looking for automatic captions\n",
      "[youtube] PuecSwg8OQ4: Downloading MPD manifest\n",
      "[youtube] PuecSwg8OQ4: Downloading MPD manifest\n",
      "[info] Writing video subtitles to: subtitle_PuecSwg8OQ4.en.vtt\n",
      "[youtube] nBAMTRjcfL8: Downloading webpage\n",
      "[youtube] nBAMTRjcfL8: Downloading video info webpage\n",
      "[youtube] nBAMTRjcfL8: Looking for automatic captions\n",
      "[info] Writing video subtitles to: subtitle_nBAMTRjcfL8.en.vtt\n",
      "[youtube] nrTCRqPmurk: Downloading webpage\n",
      "[youtube] nrTCRqPmurk: Downloading video info webpage\n",
      "[youtube] nrTCRqPmurk: Looking for automatic captions\n",
      "[info] Writing video subtitles to: subtitle_nrTCRqPmurk.en.vtt\n",
      "[youtube] TuvMVDNtpMs: Downloading webpage\n",
      "[youtube] TuvMVDNtpMs: Downloading video info webpage\n",
      "[youtube] TuvMVDNtpMs: Looking for automatic captions\n",
      "[info] Writing video subtitles to: subtitle_TuvMVDNtpMs.en.vtt\n",
      "[youtube] SWkbgCTHd10: Downloading webpage\n",
      "[youtube] SWkbgCTHd10: Downloading video info webpage\n",
      "[youtube] SWkbgCTHd10: Looking for automatic captions\n"
     ]
    },
    {
     "name": "stderr",
     "output_type": "stream",
     "text": [
      "WARNING: Couldn't find automatic captions for SWkbgCTHd10\n"
     ]
    },
    {
     "name": "stdout",
     "output_type": "stream",
     "text": [
      "No captions for SWkbgCTHd10\n",
      "[youtube] YPkTg9bZ6J8: Downloading webpage\n",
      "[youtube] YPkTg9bZ6J8: Downloading video info webpage\n",
      "[youtube] YPkTg9bZ6J8: Looking for automatic captions\n"
     ]
    },
    {
     "name": "stderr",
     "output_type": "stream",
     "text": [
      "WARNING: Couldn't find automatic captions for YPkTg9bZ6J8\n"
     ]
    },
    {
     "name": "stdout",
     "output_type": "stream",
     "text": [
      "No captions for YPkTg9bZ6J8\n",
      "[youtube] ZT2goaCweCY: Downloading webpage\n",
      "[youtube] ZT2goaCweCY: Downloading video info webpage\n",
      "[youtube] ZT2goaCweCY: Looking for automatic captions\n",
      "[youtube] ZT2goaCweCY: Downloading MPD manifest\n",
      "[youtube] ZT2goaCweCY: Downloading MPD manifest\n",
      "[info] Writing video subtitles to: subtitle_ZT2goaCweCY.en.vtt\n",
      "[youtube] mYPRk41aviU: Downloading webpage\n",
      "[youtube] mYPRk41aviU: Downloading video info webpage\n",
      "[youtube] mYPRk41aviU: Looking for automatic captions\n",
      "[youtube] mYPRk41aviU: Downloading MPD manifest\n",
      "[youtube] mYPRk41aviU: Downloading MPD manifest\n",
      "[info] Writing video subtitles to: subtitle_mYPRk41aviU.en.vtt\n",
      "[youtube] NoPuaaOUsG4: Downloading webpage\n",
      "[youtube] NoPuaaOUsG4: Downloading video info webpage\n",
      "[youtube] NoPuaaOUsG4: Looking for automatic captions\n",
      "[youtube] NoPuaaOUsG4: Downloading MPD manifest\n",
      "[youtube] NoPuaaOUsG4: Downloading MPD manifest\n",
      "[info] Writing video subtitles to: subtitle_NoPuaaOUsG4.en.vtt\n",
      "[youtube] Od2yO2p_nIg: Downloading webpage\n",
      "[youtube] Od2yO2p_nIg: Downloading video info webpage\n",
      "[youtube] Od2yO2p_nIg: Looking for automatic captions\n",
      "[info] Writing video subtitles to: subtitle_Od2yO2p_nIg.en.vtt\n",
      "[youtube] bT6DiUlDUXY: Downloading webpage\n",
      "[youtube] bT6DiUlDUXY: Downloading video info webpage\n",
      "[youtube] bT6DiUlDUXY: Looking for automatic captions\n",
      "[info] Writing video subtitles to: subtitle_bT6DiUlDUXY.en.vtt\n",
      "[youtube] kcBJYeYYN_I: Downloading webpage\n",
      "[youtube] kcBJYeYYN_I: Downloading video info webpage\n",
      "[youtube] kcBJYeYYN_I: Looking for automatic captions\n"
     ]
    },
    {
     "name": "stderr",
     "output_type": "stream",
     "text": [
      "WARNING: Couldn't find automatic captions for kcBJYeYYN_I\n"
     ]
    },
    {
     "name": "stdout",
     "output_type": "stream",
     "text": [
      "No captions for kcBJYeYYN_I\n",
      "[youtube] hYEUgUYiqlc: Downloading webpage\n",
      "[youtube] hYEUgUYiqlc: Downloading video info webpage\n",
      "[youtube] hYEUgUYiqlc: Looking for automatic captions\n"
     ]
    },
    {
     "name": "stderr",
     "output_type": "stream",
     "text": [
      "WARNING: Couldn't find automatic captions for hYEUgUYiqlc\n"
     ]
    },
    {
     "name": "stdout",
     "output_type": "stream",
     "text": [
      "[youtube] hYEUgUYiqlc: Downloading MPD manifest\n",
      "[youtube] hYEUgUYiqlc: Downloading MPD manifest\n",
      "No captions for hYEUgUYiqlc\n",
      "[youtube] DJhL9ncal1k: Downloading webpage\n",
      "[youtube] DJhL9ncal1k: Downloading video info webpage\n",
      "[youtube] DJhL9ncal1k: Looking for automatic captions\n",
      "[info] Writing video subtitles to: subtitle_DJhL9ncal1k.en.vtt\n",
      "[youtube] 6v9FSrHMwhA: Downloading webpage\n",
      "[youtube] 6v9FSrHMwhA: Downloading video info webpage\n",
      "[youtube] 6v9FSrHMwhA: Looking for automatic captions\n",
      "[info] Writing video subtitles to: subtitle_6v9FSrHMwhA.en.vtt\n",
      "[youtube] TGPZgcOIbnc: Downloading webpage\n",
      "[youtube] TGPZgcOIbnc: Downloading video info webpage\n",
      "[youtube] TGPZgcOIbnc: Looking for automatic captions\n",
      "[info] Writing video subtitles to: subtitle_TGPZgcOIbnc.en.vtt\n",
      "[youtube] 22k8a2SetmY: Downloading webpage\n",
      "[youtube] 22k8a2SetmY: Downloading video info webpage\n",
      "[youtube] 22k8a2SetmY: Looking for automatic captions\n",
      "[info] Writing video subtitles to: subtitle_22k8a2SetmY.en.vtt\n",
      "[youtube] pzm4vIUbE78: Downloading webpage\n",
      "[youtube] pzm4vIUbE78: Downloading video info webpage\n",
      "[youtube] pzm4vIUbE78: Looking for automatic captions\n",
      "[youtube] pzm4vIUbE78: Downloading MPD manifest\n",
      "[youtube] pzm4vIUbE78: Downloading MPD manifest\n",
      "[info] Writing video subtitles to: subtitle_pzm4vIUbE78.en.vtt\n",
      "[youtube] wdW0W-YJkyo: Downloading webpage\n",
      "[youtube] wdW0W-YJkyo: Downloading video info webpage\n",
      "[youtube] wdW0W-YJkyo: Looking for automatic captions\n"
     ]
    },
    {
     "name": "stderr",
     "output_type": "stream",
     "text": [
      "WARNING: Couldn't find automatic captions for wdW0W-YJkyo\n"
     ]
    },
    {
     "name": "stdout",
     "output_type": "stream",
     "text": [
      "No captions for wdW0W-YJkyo\n",
      "[youtube] 3QZixBR3Vvw: Downloading webpage\n",
      "[youtube] 3QZixBR3Vvw: Downloading video info webpage\n",
      "[youtube] 3QZixBR3Vvw: Looking for automatic captions\n",
      "[youtube] 3QZixBR3Vvw: Downloading MPD manifest\n",
      "[youtube] 3QZixBR3Vvw: Downloading MPD manifest\n",
      "[info] Writing video subtitles to: subtitle_3QZixBR3Vvw.en.vtt\n",
      "[youtube] UJzIZBjacrU: Downloading webpage\n",
      "[youtube] UJzIZBjacrU: Downloading video info webpage\n",
      "[youtube] UJzIZBjacrU: Looking for automatic captions\n"
     ]
    },
    {
     "name": "stderr",
     "output_type": "stream",
     "text": [
      "WARNING: Couldn't find automatic captions for UJzIZBjacrU\n"
     ]
    },
    {
     "name": "stdout",
     "output_type": "stream",
     "text": [
      "No captions for UJzIZBjacrU\n",
      "[youtube] bx4XtVGastg: Downloading webpage\n",
      "[youtube] bx4XtVGastg: Downloading video info webpage\n",
      "[youtube] bx4XtVGastg: Looking for automatic captions\n",
      "[info] Writing video subtitles to: subtitle_bx4XtVGastg.en.vtt\n",
      "[youtube] lT__Bx27cj8: Downloading webpage\n",
      "[youtube] lT__Bx27cj8: Downloading video info webpage\n",
      "[youtube] lT__Bx27cj8: Looking for automatic captions\n"
     ]
    },
    {
     "name": "stderr",
     "output_type": "stream",
     "text": [
      "WARNING: Couldn't find automatic captions for lT__Bx27cj8\n"
     ]
    },
    {
     "name": "stdout",
     "output_type": "stream",
     "text": [
      "No captions for lT__Bx27cj8\n",
      "[youtube] bjPJrdjWACI: Downloading webpage\n",
      "[youtube] bjPJrdjWACI: Downloading video info webpage\n",
      "[youtube] bjPJrdjWACI: Looking for automatic captions\n",
      "[info] Writing video subtitles to: subtitle_bjPJrdjWACI.en.vtt\n",
      "[youtube] 2IgkR32AKqQ: Downloading webpage\n",
      "[youtube] 2IgkR32AKqQ: Downloading video info webpage\n",
      "[youtube] 2IgkR32AKqQ: Looking for automatic captions\n",
      "[youtube] 2IgkR32AKqQ: Downloading MPD manifest\n",
      "[youtube] 2IgkR32AKqQ: Downloading MPD manifest\n",
      "[info] Writing video subtitles to: subtitle_2IgkR32AKqQ.en.vtt\n",
      "[youtube] DvaGytj5IKE: Downloading webpage\n",
      "[youtube] DvaGytj5IKE: Downloading video info webpage\n",
      "[youtube] DvaGytj5IKE: Looking for automatic captions\n",
      "[youtube] DvaGytj5IKE: Downloading MPD manifest\n",
      "[youtube] DvaGytj5IKE: Downloading MPD manifest\n",
      "[info] Writing video subtitles to: subtitle_DvaGytj5IKE.en.vtt\n",
      "[youtube] N4IIkBupt6g: Downloading webpage\n",
      "[youtube] N4IIkBupt6g: Downloading video info webpage\n",
      "[youtube] N4IIkBupt6g: Looking for automatic captions\n",
      "[info] Writing video subtitles to: subtitle_N4IIkBupt6g.en.vtt\n",
      "[youtube] SGtw5nYptps: Downloading webpage\n",
      "[youtube] SGtw5nYptps: Downloading video info webpage\n",
      "[youtube] SGtw5nYptps: Looking for automatic captions\n",
      "[youtube] SGtw5nYptps: Downloading MPD manifest\n",
      "[youtube] SGtw5nYptps: Downloading MPD manifest\n",
      "[info] Writing video subtitles to: subtitle_SGtw5nYptps.en.vtt\n",
      "[youtube] rOUbmt36V54: Downloading webpage\n",
      "[youtube] rOUbmt36V54: Downloading video info webpage\n",
      "[youtube] rOUbmt36V54: Looking for automatic captions\n"
     ]
    },
    {
     "name": "stderr",
     "output_type": "stream",
     "text": [
      "WARNING: Couldn't find automatic captions for rOUbmt36V54\n"
     ]
    },
    {
     "name": "stdout",
     "output_type": "stream",
     "text": [
      "No captions for rOUbmt36V54\n",
      "[youtube] aCwWRO4cZ2k: Downloading webpage\n",
      "[youtube] aCwWRO4cZ2k: Downloading video info webpage\n",
      "[youtube] aCwWRO4cZ2k: Looking for automatic captions\n",
      "[info] Writing video subtitles to: subtitle_aCwWRO4cZ2k.en.vtt\n",
      "[youtube] XfZMFXfZ_Cg: Downloading webpage\n",
      "[youtube] XfZMFXfZ_Cg: Downloading video info webpage\n",
      "[youtube] XfZMFXfZ_Cg: Looking for automatic captions\n",
      "[info] Writing video subtitles to: subtitle_XfZMFXfZ_Cg.en.vtt\n",
      "[youtube] 8Po9lEQZDk8: Downloading webpage\n",
      "[youtube] 8Po9lEQZDk8: Downloading video info webpage\n",
      "[youtube] 8Po9lEQZDk8: Looking for automatic captions\n"
     ]
    },
    {
     "name": "stderr",
     "output_type": "stream",
     "text": [
      "WARNING: Couldn't find automatic captions for 8Po9lEQZDk8\n"
     ]
    },
    {
     "name": "stdout",
     "output_type": "stream",
     "text": [
      "No captions for 8Po9lEQZDk8\n",
      "[youtube] ELZaVGXoe7Q: Downloading webpage\n",
      "[youtube] ELZaVGXoe7Q: Downloading video info webpage\n",
      "[youtube] ELZaVGXoe7Q: Looking for automatic captions\n",
      "[youtube] ELZaVGXoe7Q: Downloading MPD manifest\n",
      "[youtube] ELZaVGXoe7Q: Downloading MPD manifest\n",
      "[info] Writing video subtitles to: subtitle_ELZaVGXoe7Q.en.vtt\n",
      "[youtube] C6khYzDJdsQ: Downloading webpage\n",
      "[youtube] C6khYzDJdsQ: Downloading video info webpage\n",
      "[youtube] C6khYzDJdsQ: Looking for automatic captions\n",
      "[info] Writing video subtitles to: subtitle_C6khYzDJdsQ.en.vtt\n",
      "[youtube] onjhjTEmhWQ: Downloading webpage\n",
      "[youtube] onjhjTEmhWQ: Downloading video info webpage\n",
      "[youtube] onjhjTEmhWQ: Looking for automatic captions\n"
     ]
    },
    {
     "name": "stderr",
     "output_type": "stream",
     "text": [
      "WARNING: Couldn't find automatic captions for onjhjTEmhWQ\n"
     ]
    },
    {
     "name": "stdout",
     "output_type": "stream",
     "text": [
      "No captions for onjhjTEmhWQ\n",
      "[youtube] zFEnWHXIN2I: Downloading webpage\n",
      "[youtube] zFEnWHXIN2I: Downloading video info webpage\n",
      "[youtube] zFEnWHXIN2I: Looking for automatic captions\n",
      "[info] Writing video subtitles to: subtitle_zFEnWHXIN2I.en.vtt\n",
      "[youtube] ZcjKu94EdXM: Downloading webpage\n",
      "[youtube] ZcjKu94EdXM: Downloading video info webpage\n",
      "[youtube] ZcjKu94EdXM: Looking for automatic captions\n",
      "[youtube] ZcjKu94EdXM: Downloading MPD manifest\n",
      "[youtube] ZcjKu94EdXM: Downloading MPD manifest\n",
      "[info] Writing video subtitles to: subtitle_ZcjKu94EdXM.en.vtt\n",
      "[youtube] dBRk9dNORbI: Downloading webpage\n",
      "[youtube] dBRk9dNORbI: Downloading video info webpage\n",
      "[youtube] dBRk9dNORbI: Looking for automatic captions\n",
      "[info] Writing video subtitles to: subtitle_dBRk9dNORbI.en.vtt\n",
      "[youtube] qTb0gSMfPao: Downloading webpage\n",
      "[youtube] qTb0gSMfPao: Downloading video info webpage\n",
      "[youtube] qTb0gSMfPao: Looking for automatic captions\n",
      "[info] Writing video subtitles to: subtitle_qTb0gSMfPao.en.vtt\n",
      "[youtube] BcgT_y9BkcY: Downloading webpage\n",
      "[youtube] BcgT_y9BkcY: Downloading video info webpage\n",
      "[youtube] BcgT_y9BkcY: Looking for automatic captions\n"
     ]
    },
    {
     "name": "stderr",
     "output_type": "stream",
     "text": [
      "WARNING: Couldn't find automatic captions for BcgT_y9BkcY\n"
     ]
    },
    {
     "name": "stdout",
     "output_type": "stream",
     "text": [
      "No captions for BcgT_y9BkcY\n",
      "[youtube] 7iAqEDGkTy4: Downloading webpage\n",
      "[youtube] 7iAqEDGkTy4: Downloading video info webpage\n",
      "[youtube] 7iAqEDGkTy4: Looking for automatic captions\n",
      "[info] Writing video subtitles to: subtitle_7iAqEDGkTy4.en.vtt\n",
      "[youtube] hiZyuEl0j_s: Downloading webpage\n",
      "[youtube] hiZyuEl0j_s: Downloading video info webpage\n",
      "[youtube] hiZyuEl0j_s: Looking for automatic captions\n"
     ]
    },
    {
     "name": "stderr",
     "output_type": "stream",
     "text": [
      "WARNING: Couldn't find automatic captions for hiZyuEl0j_s\n"
     ]
    },
    {
     "name": "stdout",
     "output_type": "stream",
     "text": [
      "No captions for hiZyuEl0j_s\n",
      "[youtube] 2-sX-HWeb8w: Downloading webpage\n",
      "[youtube] 2-sX-HWeb8w: Downloading video info webpage\n",
      "[youtube] 2-sX-HWeb8w: Looking for automatic captions\n",
      "[info] Writing video subtitles to: subtitle_2-sX-HWeb8w.en.vtt\n",
      "[youtube] gVjbb-UdGuA: Downloading webpage\n",
      "[youtube] gVjbb-UdGuA: Downloading video info webpage\n",
      "[youtube] gVjbb-UdGuA: Looking for automatic captions\n",
      "[youtube] gVjbb-UdGuA: Downloading MPD manifest\n",
      "[youtube] gVjbb-UdGuA: Downloading MPD manifest\n",
      "[info] Writing video subtitles to: subtitle_gVjbb-UdGuA.en.vtt\n",
      "[youtube] Ep-2tROaaAY: Downloading webpage\n",
      "[youtube] Ep-2tROaaAY: Downloading video info webpage\n",
      "[youtube] Ep-2tROaaAY: Looking for automatic captions\n",
      "[info] Writing video subtitles to: subtitle_Ep-2tROaaAY.en.vtt\n",
      "[youtube] kNvC6676d2E: Downloading webpage\n",
      "[youtube] kNvC6676d2E: Downloading video info webpage\n",
      "[youtube] kNvC6676d2E: Looking for automatic captions\n"
     ]
    },
    {
     "name": "stderr",
     "output_type": "stream",
     "text": [
      "WARNING: Couldn't find automatic captions for kNvC6676d2E\n"
     ]
    },
    {
     "name": "stdout",
     "output_type": "stream",
     "text": [
      "No captions for kNvC6676d2E\n",
      "[youtube] c_JUZt0KXyg: Downloading webpage\n",
      "[youtube] c_JUZt0KXyg: Downloading video info webpage\n",
      "[youtube] c_JUZt0KXyg: Looking for automatic captions\n",
      "[info] Writing video subtitles to: subtitle_c_JUZt0KXyg.en.vtt\n",
      "[youtube] aVMFQ70_ZgY: Downloading webpage\n",
      "[youtube] aVMFQ70_ZgY: Downloading video info webpage\n",
      "[youtube] aVMFQ70_ZgY: Looking for automatic captions\n",
      "[info] Writing video subtitles to: subtitle_aVMFQ70_ZgY.en.vtt\n",
      "[youtube] B5KKCAqjzuk: Downloading webpage\n",
      "[youtube] B5KKCAqjzuk: Downloading video info webpage\n",
      "[youtube] B5KKCAqjzuk: Looking for automatic captions\n",
      "[info] Writing video subtitles to: subtitle_B5KKCAqjzuk.en.vtt\n",
      "[youtube] Wl1IyPHfk2w: Downloading webpage\n",
      "[youtube] Wl1IyPHfk2w: Downloading video info webpage\n",
      "[youtube] Wl1IyPHfk2w: Looking for automatic captions\n",
      "[info] Writing video subtitles to: subtitle_Wl1IyPHfk2w.en.vtt\n",
      "[youtube] H7bK0Lc8iv8: Downloading webpage\n",
      "[youtube] H7bK0Lc8iv8: Downloading video info webpage\n",
      "[youtube] H7bK0Lc8iv8: Looking for automatic captions\n",
      "[info] Writing video subtitles to: subtitle_H7bK0Lc8iv8.en.vtt\n",
      "[youtube] KhagW5KRW18: Downloading webpage\n",
      "[youtube] KhagW5KRW18: Downloading video info webpage\n",
      "[youtube] KhagW5KRW18: Looking for automatic captions\n",
      "[info] Writing video subtitles to: subtitle_KhagW5KRW18.en.vtt\n",
      "[youtube] Nyz5Yr9DNPM: Downloading webpage\n",
      "[youtube] Nyz5Yr9DNPM: Downloading video info webpage\n",
      "[youtube] Nyz5Yr9DNPM: Looking for automatic captions\n",
      "[info] Writing video subtitles to: subtitle_Nyz5Yr9DNPM.en.vtt\n",
      "[youtube] 1uLGmomnVAw: Downloading webpage\n",
      "[youtube] 1uLGmomnVAw: Downloading video info webpage\n",
      "[youtube] 1uLGmomnVAw: Looking for automatic captions\n",
      "[info] Writing video subtitles to: subtitle_1uLGmomnVAw.en.vtt\n",
      "[youtube] cxpH2bve5sc: Downloading webpage\n",
      "[youtube] cxpH2bve5sc: Downloading video info webpage\n",
      "[youtube] cxpH2bve5sc: Looking for automatic captions\n",
      "[info] Writing video subtitles to: subtitle_cxpH2bve5sc.en.vtt\n",
      "[youtube] In1EtpKlfJA: Downloading webpage\n",
      "[youtube] In1EtpKlfJA: Downloading video info webpage\n",
      "[youtube] In1EtpKlfJA: Looking for automatic captions\n",
      "[info] Writing video subtitles to: subtitle_In1EtpKlfJA.en.vtt\n",
      "[youtube] Q6j41X_4yHs: Downloading webpage\n",
      "[youtube] Q6j41X_4yHs: Downloading video info webpage\n",
      "[youtube] Q6j41X_4yHs: Looking for automatic captions\n",
      "[info] Writing video subtitles to: subtitle_Q6j41X_4yHs.en.vtt\n",
      "[youtube] dz_glPMyFlY: Downloading webpage\n",
      "[youtube] dz_glPMyFlY: Downloading video info webpage\n",
      "[youtube] dz_glPMyFlY: Looking for automatic captions\n"
     ]
    },
    {
     "name": "stderr",
     "output_type": "stream",
     "text": [
      "WARNING: Couldn't find automatic captions for dz_glPMyFlY\n"
     ]
    },
    {
     "name": "stdout",
     "output_type": "stream",
     "text": [
      "No captions for dz_glPMyFlY\n",
      "[youtube] 3Tkj3hQMTXg: Downloading webpage\n",
      "[youtube] 3Tkj3hQMTXg: Downloading video info webpage\n",
      "[youtube] 3Tkj3hQMTXg: Looking for automatic captions\n",
      "[youtube] 3Tkj3hQMTXg: Downloading MPD manifest\n",
      "[youtube] 3Tkj3hQMTXg: Downloading MPD manifest\n",
      "[info] Writing video subtitles to: subtitle_3Tkj3hQMTXg.en.vtt\n",
      "[youtube] _fhg0RIy5q8: Downloading webpage\n",
      "[youtube] _fhg0RIy5q8: Downloading video info webpage\n",
      "[youtube] _fhg0RIy5q8: Looking for automatic captions\n"
     ]
    },
    {
     "name": "stderr",
     "output_type": "stream",
     "text": [
      "WARNING: Couldn't find automatic captions for _fhg0RIy5q8\n"
     ]
    },
    {
     "name": "stdout",
     "output_type": "stream",
     "text": [
      "No captions for _fhg0RIy5q8\n",
      "[youtube] odtG8UlIgC8: Downloading webpage\n",
      "[youtube] odtG8UlIgC8: Downloading video info webpage\n",
      "[youtube] odtG8UlIgC8: Looking for automatic captions\n",
      "[info] Writing video subtitles to: subtitle_odtG8UlIgC8.en.vtt\n",
      "[youtube] vd2BFZCQtX8: Downloading webpage\n",
      "[youtube] vd2BFZCQtX8: Downloading video info webpage\n",
      "[youtube] vd2BFZCQtX8: Looking for automatic captions\n",
      "[info] Writing video subtitles to: subtitle_vd2BFZCQtX8.en.vtt\n",
      "[youtube] 0H96j2_ZvQg: Downloading webpage\n",
      "[youtube] 0H96j2_ZvQg: Downloading video info webpage\n",
      "[youtube] 0H96j2_ZvQg: Looking for automatic captions\n",
      "[info] Writing video subtitles to: subtitle_0H96j2_ZvQg.en.vtt\n",
      "[youtube] AlUDt5yyBqA: Downloading webpage\n",
      "[youtube] AlUDt5yyBqA: Downloading video info webpage\n",
      "[youtube] AlUDt5yyBqA: Looking for automatic captions\n",
      "[info] Writing video subtitles to: subtitle_AlUDt5yyBqA.en.vtt\n",
      "[youtube] pybQAg2YUxY: Downloading webpage\n",
      "[youtube] pybQAg2YUxY: Downloading video info webpage\n",
      "[youtube] pybQAg2YUxY: Looking for automatic captions\n"
     ]
    },
    {
     "name": "stderr",
     "output_type": "stream",
     "text": [
      "WARNING: Couldn't find automatic captions for pybQAg2YUxY\n"
     ]
    },
    {
     "name": "stdout",
     "output_type": "stream",
     "text": [
      "No captions for pybQAg2YUxY\n",
      "[youtube] HkDsgn2yJRo: Downloading webpage\n",
      "[youtube] HkDsgn2yJRo: Downloading video info webpage\n",
      "[youtube] HkDsgn2yJRo: Looking for automatic captions\n"
     ]
    },
    {
     "name": "stderr",
     "output_type": "stream",
     "text": [
      "WARNING: Couldn't find automatic captions for HkDsgn2yJRo\n"
     ]
    },
    {
     "name": "stdout",
     "output_type": "stream",
     "text": [
      "No captions for HkDsgn2yJRo\n",
      "[youtube] 7BHU9BJFsmw: Downloading webpage\n",
      "[youtube] 7BHU9BJFsmw: Downloading video info webpage\n",
      "[youtube] 7BHU9BJFsmw: Looking for automatic captions\n",
      "[info] Writing video subtitles to: subtitle_7BHU9BJFsmw.en.vtt\n",
      "[youtube] 3XwXRz2ZkgY: Downloading webpage\n",
      "[youtube] 3XwXRz2ZkgY: Downloading video info webpage\n",
      "[youtube] 3XwXRz2ZkgY: Looking for automatic captions\n",
      "[info] Writing video subtitles to: subtitle_3XwXRz2ZkgY.en.vtt\n",
      "[youtube] x8rFj1VtKHM: Downloading webpage\n",
      "[youtube] x8rFj1VtKHM: Downloading video info webpage\n",
      "[youtube] x8rFj1VtKHM: Looking for automatic captions\n",
      "[info] Writing video subtitles to: subtitle_x8rFj1VtKHM.en.vtt\n",
      "[youtube] oi0s6wE75Xo: Downloading webpage\n",
      "[youtube] oi0s6wE75Xo: Downloading video info webpage\n",
      "[youtube] oi0s6wE75Xo: Looking for automatic captions\n"
     ]
    },
    {
     "name": "stderr",
     "output_type": "stream",
     "text": [
      "WARNING: Couldn't find automatic captions for oi0s6wE75Xo\n"
     ]
    },
    {
     "name": "stdout",
     "output_type": "stream",
     "text": [
      "No captions for oi0s6wE75Xo\n",
      "[youtube] i_AQBQzcJ5E: Downloading webpage\n",
      "[youtube] i_AQBQzcJ5E: Downloading video info webpage\n",
      "[youtube] i_AQBQzcJ5E: Looking for automatic captions\n"
     ]
    },
    {
     "name": "stderr",
     "output_type": "stream",
     "text": [
      "WARNING: Couldn't find automatic captions for i_AQBQzcJ5E\n"
     ]
    },
    {
     "name": "stdout",
     "output_type": "stream",
     "text": [
      "No captions for i_AQBQzcJ5E\n",
      "[youtube] IlQOMjRT7WU: Downloading webpage\n",
      "[youtube] IlQOMjRT7WU: Downloading video info webpage\n",
      "[youtube] IlQOMjRT7WU: Looking for automatic captions\n",
      "[info] Writing video subtitles to: subtitle_IlQOMjRT7WU.en.vtt\n",
      "[youtube] Kn9HXDeEWtA: Downloading webpage\n",
      "[youtube] Kn9HXDeEWtA: Downloading video info webpage\n",
      "[youtube] Kn9HXDeEWtA: Looking for automatic captions\n",
      "[info] Writing video subtitles to: subtitle_Kn9HXDeEWtA.en.vtt\n",
      "[youtube] hXAVawOvuco: Downloading webpage\n",
      "[youtube] hXAVawOvuco: Downloading video info webpage\n",
      "[youtube] hXAVawOvuco: Looking for automatic captions\n",
      "[info] Writing video subtitles to: subtitle_hXAVawOvuco.en.vtt\n",
      "[youtube] sm1IVIzReck: Downloading webpage\n",
      "[youtube] sm1IVIzReck: Downloading video info webpage\n",
      "[youtube] sm1IVIzReck: Looking for automatic captions\n"
     ]
    },
    {
     "name": "stderr",
     "output_type": "stream",
     "text": [
      "WARNING: Couldn't find automatic captions for sm1IVIzReck\n"
     ]
    },
    {
     "name": "stdout",
     "output_type": "stream",
     "text": [
      "No captions for sm1IVIzReck\n",
      "[youtube] j56Z9aFzCtY: Downloading webpage\n",
      "[youtube] j56Z9aFzCtY: Downloading video info webpage\n",
      "[youtube] j56Z9aFzCtY: Looking for automatic captions\n",
      "[youtube] j56Z9aFzCtY: Downloading MPD manifest\n",
      "[youtube] j56Z9aFzCtY: Downloading MPD manifest\n",
      "[info] Writing video subtitles to: subtitle_j56Z9aFzCtY.en.vtt\n",
      "[youtube] pUldnJ_ZI8o: Downloading webpage\n",
      "[youtube] pUldnJ_ZI8o: Downloading video info webpage\n",
      "[youtube] pUldnJ_ZI8o: Looking for automatic captions\n",
      "[youtube] pUldnJ_ZI8o: Downloading MPD manifest\n",
      "[youtube] pUldnJ_ZI8o: Downloading MPD manifest\n",
      "[info] Writing video subtitles to: subtitle_pUldnJ_ZI8o.en.vtt\n",
      "[youtube] abyehNmjmRI: Downloading webpage\n",
      "[youtube] abyehNmjmRI: Downloading video info webpage\n",
      "[youtube] abyehNmjmRI: Looking for automatic captions\n",
      "[youtube] abyehNmjmRI: Downloading MPD manifest\n",
      "[youtube] abyehNmjmRI: Downloading MPD manifest\n",
      "[info] Writing video subtitles to: subtitle_abyehNmjmRI.en.vtt\n",
      "[youtube] S1sULAMLZ68: Downloading webpage\n",
      "[youtube] S1sULAMLZ68: Downloading video info webpage\n",
      "[youtube] S1sULAMLZ68: Looking for automatic captions\n",
      "[info] Writing video subtitles to: subtitle_S1sULAMLZ68.en.vtt\n",
      "[youtube] ohHReYSC_I0: Downloading webpage\n",
      "[youtube] ohHReYSC_I0: Downloading video info webpage\n",
      "[youtube] ohHReYSC_I0: Looking for automatic captions\n",
      "[info] Writing video subtitles to: subtitle_ohHReYSC_I0.en.vtt\n",
      "[youtube] JbPrUJWHDok: Downloading webpage\n",
      "[youtube] JbPrUJWHDok: Downloading video info webpage\n",
      "[youtube] JbPrUJWHDok: Looking for automatic captions\n",
      "[info] Writing video subtitles to: subtitle_JbPrUJWHDok.en.vtt\n",
      "[youtube] TQmDnc4jsiM: Downloading webpage\n",
      "[youtube] TQmDnc4jsiM: Downloading video info webpage\n",
      "[youtube] TQmDnc4jsiM: Looking for automatic captions\n",
      "[info] Writing video subtitles to: subtitle_TQmDnc4jsiM.en.vtt\n",
      "[youtube] aPYGPJJ0C3I: Downloading webpage\n",
      "[youtube] aPYGPJJ0C3I: Downloading video info webpage\n",
      "[youtube] aPYGPJJ0C3I: Looking for automatic captions\n",
      "[info] Writing video subtitles to: subtitle_aPYGPJJ0C3I.en.vtt\n",
      "[youtube] PxNlh4fWED4: Downloading webpage\n",
      "[youtube] PxNlh4fWED4: Downloading video info webpage\n",
      "[youtube] PxNlh4fWED4: Looking for automatic captions\n"
     ]
    },
    {
     "name": "stderr",
     "output_type": "stream",
     "text": [
      "WARNING: Couldn't find automatic captions for PxNlh4fWED4\n"
     ]
    },
    {
     "name": "stdout",
     "output_type": "stream",
     "text": [
      "No captions for PxNlh4fWED4\n",
      "[youtube] ahYtEiW7Iq4: Downloading webpage\n",
      "[youtube] ahYtEiW7Iq4: Downloading video info webpage\n",
      "[youtube] ahYtEiW7Iq4: Looking for automatic captions\n"
     ]
    },
    {
     "name": "stderr",
     "output_type": "stream",
     "text": [
      "WARNING: Couldn't find automatic captions for ahYtEiW7Iq4\n"
     ]
    },
    {
     "name": "stdout",
     "output_type": "stream",
     "text": [
      "No captions for ahYtEiW7Iq4\n",
      "[youtube] 2NHQkGFuWw8: Downloading webpage\n",
      "[youtube] 2NHQkGFuWw8: Downloading video info webpage\n",
      "[youtube] 2NHQkGFuWw8: Looking for automatic captions\n",
      "[info] Writing video subtitles to: subtitle_2NHQkGFuWw8.en.vtt\n",
      "[youtube] sGakuK9l25o: Downloading webpage\n",
      "[youtube] sGakuK9l25o: Downloading video info webpage\n",
      "[youtube] sGakuK9l25o: Looking for automatic captions\n"
     ]
    },
    {
     "name": "stderr",
     "output_type": "stream",
     "text": [
      "WARNING: Couldn't find automatic captions for sGakuK9l25o\n"
     ]
    },
    {
     "name": "stdout",
     "output_type": "stream",
     "text": [
      "[youtube] sGakuK9l25o: Downloading MPD manifest\n",
      "[youtube] sGakuK9l25o: Downloading MPD manifest\n",
      "No captions for sGakuK9l25o\n",
      "[youtube] lgSl5WCXHzw: Downloading webpage\n",
      "[youtube] lgSl5WCXHzw: Downloading video info webpage\n",
      "[youtube] lgSl5WCXHzw: Looking for automatic captions\n",
      "[youtube] lgSl5WCXHzw: Downloading MPD manifest\n",
      "[youtube] lgSl5WCXHzw: Downloading MPD manifest\n",
      "[info] Writing video subtitles to: subtitle_lgSl5WCXHzw.en.vtt\n",
      "[youtube] QhNxL3U8_lQ: Downloading webpage\n",
      "[youtube] QhNxL3U8_lQ: Downloading video info webpage\n",
      "[youtube] QhNxL3U8_lQ: Looking for automatic captions\n",
      "[youtube] QhNxL3U8_lQ: Downloading MPD manifest\n",
      "[youtube] QhNxL3U8_lQ: Downloading MPD manifest\n",
      "[info] Writing video subtitles to: subtitle_QhNxL3U8_lQ.en.vtt\n",
      "[youtube] MGP3oidpJoY: Downloading webpage\n",
      "[youtube] MGP3oidpJoY: Downloading video info webpage\n",
      "[youtube] MGP3oidpJoY: Looking for automatic captions\n",
      "[info] Writing video subtitles to: subtitle_MGP3oidpJoY.en.vtt\n",
      "[youtube] t5jVVGXIN8w: Downloading webpage\n",
      "[youtube] t5jVVGXIN8w: Downloading video info webpage\n",
      "[youtube] t5jVVGXIN8w: Looking for automatic captions\n"
     ]
    },
    {
     "name": "stderr",
     "output_type": "stream",
     "text": [
      "WARNING: Couldn't find automatic captions for t5jVVGXIN8w\n"
     ]
    },
    {
     "name": "stdout",
     "output_type": "stream",
     "text": [
      "No captions for t5jVVGXIN8w\n",
      "[youtube] 7Jqfstmbr3Y: Downloading webpage\n",
      "[youtube] 7Jqfstmbr3Y: Downloading video info webpage\n",
      "[youtube] 7Jqfstmbr3Y: Looking for automatic captions\n",
      "[youtube] 7Jqfstmbr3Y: Downloading MPD manifest\n",
      "[youtube] 7Jqfstmbr3Y: Downloading MPD manifest\n",
      "[info] Writing video subtitles to: subtitle_7Jqfstmbr3Y.en.vtt\n",
      "[youtube] 2a6zhUPOjYs: Downloading webpage\n",
      "[youtube] 2a6zhUPOjYs: Downloading video info webpage\n",
      "[youtube] 2a6zhUPOjYs: Looking for automatic captions\n",
      "[info] Writing video subtitles to: subtitle_2a6zhUPOjYs.en.vtt\n",
      "[youtube] t8NS94LjsyY: Downloading webpage\n",
      "[youtube] t8NS94LjsyY: Downloading video info webpage\n",
      "[youtube] t8NS94LjsyY: Looking for automatic captions\n",
      "[info] Writing video subtitles to: subtitle_t8NS94LjsyY.en.vtt\n",
      "[youtube] e7QxMk7C21I: Downloading webpage\n",
      "[youtube] e7QxMk7C21I: Downloading video info webpage\n",
      "[youtube] e7QxMk7C21I: Looking for automatic captions\n",
      "[youtube] e7QxMk7C21I: Downloading MPD manifest\n",
      "[youtube] e7QxMk7C21I: Downloading MPD manifest\n",
      "[info] Writing video subtitles to: subtitle_e7QxMk7C21I.en.vtt\n",
      "[youtube] bk2ZaVPMVB4: Downloading webpage\n",
      "[youtube] bk2ZaVPMVB4: Downloading video info webpage\n",
      "[youtube] bk2ZaVPMVB4: Looking for automatic captions\n",
      "[info] Writing video subtitles to: subtitle_bk2ZaVPMVB4.en.vtt\n",
      "[youtube] YXsTfEphY40: Downloading webpage\n",
      "[youtube] YXsTfEphY40: Downloading video info webpage\n",
      "[youtube] YXsTfEphY40: Looking for automatic captions\n",
      "[info] Writing video subtitles to: subtitle_YXsTfEphY40.en.vtt\n",
      "[youtube] wXGhUm_Mc1Q: Downloading webpage\n",
      "[youtube] wXGhUm_Mc1Q: Downloading video info webpage\n",
      "[youtube] wXGhUm_Mc1Q: Looking for automatic captions\n",
      "[info] Writing video subtitles to: subtitle_wXGhUm_Mc1Q.en.vtt\n",
      "[youtube] v_oTFBDymbU: Downloading webpage\n",
      "[youtube] v_oTFBDymbU: Downloading video info webpage\n",
      "[youtube] v_oTFBDymbU: Looking for automatic captions\n",
      "[info] Writing video subtitles to: subtitle_v_oTFBDymbU.en.vtt\n",
      "[youtube] B4a6T-w4GuI: Downloading webpage\n",
      "[youtube] B4a6T-w4GuI: Downloading video info webpage\n",
      "[youtube] B4a6T-w4GuI: Looking for automatic captions\n",
      "[info] Writing video subtitles to: subtitle_B4a6T-w4GuI.en.vtt\n",
      "[youtube] t-f4dctBkMk: Downloading webpage\n",
      "[youtube] t-f4dctBkMk: Downloading video info webpage\n",
      "[youtube] t-f4dctBkMk: Looking for automatic captions\n",
      "[info] Writing video subtitles to: subtitle_t-f4dctBkMk.en.vtt\n",
      "[youtube] AJ-8mO4d5ok: Downloading webpage\n",
      "[youtube] AJ-8mO4d5ok: Downloading video info webpage\n",
      "[youtube] AJ-8mO4d5ok: Looking for automatic captions\n",
      "[info] Writing video subtitles to: subtitle_AJ-8mO4d5ok.en.vtt\n",
      "[youtube] kGD2Zf0bWlk: Downloading webpage\n",
      "[youtube] kGD2Zf0bWlk: Downloading video info webpage\n",
      "[youtube] kGD2Zf0bWlk: Looking for automatic captions\n",
      "[info] Writing video subtitles to: subtitle_kGD2Zf0bWlk.en.vtt\n",
      "[youtube] 43ZhjXxUznY: Downloading webpage\n",
      "[youtube] 43ZhjXxUznY: Downloading video info webpage\n",
      "[youtube] 43ZhjXxUznY: Looking for automatic captions\n"
     ]
    },
    {
     "name": "stderr",
     "output_type": "stream",
     "text": [
      "WARNING: Couldn't find automatic captions for 43ZhjXxUznY\n"
     ]
    },
    {
     "name": "stdout",
     "output_type": "stream",
     "text": [
      "[youtube] 43ZhjXxUznY: Downloading MPD manifest\n",
      "[youtube] 43ZhjXxUznY: Downloading MPD manifest\n",
      "No captions for 43ZhjXxUznY\n",
      "[youtube] oCsDols6L0U: Downloading webpage\n",
      "[youtube] oCsDols6L0U: Downloading video info webpage\n",
      "[youtube] oCsDols6L0U: Looking for automatic captions\n"
     ]
    },
    {
     "name": "stderr",
     "output_type": "stream",
     "text": [
      "WARNING: Couldn't find automatic captions for oCsDols6L0U\n"
     ]
    },
    {
     "name": "stdout",
     "output_type": "stream",
     "text": [
      "No captions for oCsDols6L0U\n",
      "[youtube] 59iBdrJi6QI: Downloading webpage\n",
      "[youtube] 59iBdrJi6QI: Downloading video info webpage\n",
      "[youtube] 59iBdrJi6QI: Looking for automatic captions\n",
      "[info] Writing video subtitles to: subtitle_59iBdrJi6QI.en.vtt\n",
      "[youtube] BjRprNQGtcw: Downloading webpage\n",
      "[youtube] BjRprNQGtcw: Downloading video info webpage\n",
      "[youtube] BjRprNQGtcw: Looking for automatic captions\n",
      "[info] Writing video subtitles to: subtitle_BjRprNQGtcw.en.vtt\n",
      "[youtube] B4UgBgRqA68: Downloading webpage\n",
      "[youtube] B4UgBgRqA68: Downloading video info webpage\n",
      "[youtube] B4UgBgRqA68: Looking for automatic captions\n",
      "[info] Writing video subtitles to: subtitle_B4UgBgRqA68.en.vtt\n",
      "[youtube] NHXpf7t4Txs: Downloading webpage\n",
      "[youtube] NHXpf7t4Txs: Downloading video info webpage\n",
      "[youtube] NHXpf7t4Txs: Looking for automatic captions\n"
     ]
    },
    {
     "name": "stderr",
     "output_type": "stream",
     "text": [
      "WARNING: Couldn't find automatic captions for NHXpf7t4Txs\n"
     ]
    },
    {
     "name": "stdout",
     "output_type": "stream",
     "text": [
      "No captions for NHXpf7t4Txs\n",
      "[youtube] f7MgxrIwzjc: Downloading webpage\n",
      "[youtube] f7MgxrIwzjc: Downloading video info webpage\n",
      "[youtube] f7MgxrIwzjc: Looking for automatic captions\n",
      "[info] Writing video subtitles to: subtitle_f7MgxrIwzjc.en.vtt\n",
      "[youtube] xkqprEZqg4A: Downloading webpage\n",
      "[youtube] xkqprEZqg4A: Downloading video info webpage\n",
      "[youtube] xkqprEZqg4A: Looking for automatic captions\n",
      "[info] Writing video subtitles to: subtitle_xkqprEZqg4A.en.vtt\n",
      "[youtube] m7UnhtdJKc8: Downloading webpage\n",
      "[youtube] m7UnhtdJKc8: Downloading video info webpage\n",
      "[youtube] m7UnhtdJKc8: Looking for automatic captions\n",
      "[info] Writing video subtitles to: subtitle_m7UnhtdJKc8.en.vtt\n",
      "[youtube] ClEKJZyCVJY: Downloading webpage\n",
      "[youtube] ClEKJZyCVJY: Downloading video info webpage\n",
      "[youtube] ClEKJZyCVJY: Looking for automatic captions\n",
      "[info] Writing video subtitles to: subtitle_ClEKJZyCVJY.en.vtt\n",
      "[youtube] PYdvR2CpSQc: Downloading webpage\n",
      "[youtube] PYdvR2CpSQc: Downloading video info webpage\n",
      "[youtube] PYdvR2CpSQc: Looking for automatic captions\n",
      "[info] Writing video subtitles to: subtitle_PYdvR2CpSQc.en.vtt\n",
      "[youtube] 6rX7hCNSjaw: Downloading webpage\n",
      "[youtube] 6rX7hCNSjaw: Downloading video info webpage\n",
      "[youtube] 6rX7hCNSjaw: Looking for automatic captions\n",
      "[info] Writing video subtitles to: subtitle_6rX7hCNSjaw.en.vtt\n",
      "[youtube] 2LxxvnkRJWg: Downloading webpage\n",
      "[youtube] 2LxxvnkRJWg: Downloading video info webpage\n",
      "[youtube] 2LxxvnkRJWg: Looking for automatic captions\n",
      "[info] Writing video subtitles to: subtitle_2LxxvnkRJWg.en.vtt\n",
      "[youtube] 7IQdxHfPlV8: Downloading webpage\n",
      "[youtube] 7IQdxHfPlV8: Downloading video info webpage\n",
      "[youtube] 7IQdxHfPlV8: Looking for automatic captions\n",
      "[info] Writing video subtitles to: subtitle_7IQdxHfPlV8.en.vtt\n",
      "[youtube] l1DroShAowI: Downloading webpage\n",
      "[youtube] l1DroShAowI: Downloading video info webpage\n",
      "[youtube] l1DroShAowI: Looking for automatic captions\n",
      "[info] Writing video subtitles to: subtitle_l1DroShAowI.en.vtt\n",
      "[youtube] kUuc_8HnRJg: Downloading webpage\n",
      "[youtube] kUuc_8HnRJg: Downloading video info webpage\n",
      "[youtube] kUuc_8HnRJg: Looking for automatic captions\n",
      "[info] Writing video subtitles to: subtitle_kUuc_8HnRJg.en.vtt\n",
      "[youtube] 4olYPRimN2w: Downloading webpage\n",
      "[youtube] 4olYPRimN2w: Downloading video info webpage\n",
      "[youtube] 4olYPRimN2w: Looking for automatic captions\n",
      "[info] Writing video subtitles to: subtitle_4olYPRimN2w.en.vtt\n",
      "[youtube] 5Wr2e9TWEQk: Downloading webpage\n",
      "[youtube] 5Wr2e9TWEQk: Downloading video info webpage\n",
      "[youtube] 5Wr2e9TWEQk: Looking for automatic captions\n",
      "[info] Writing video subtitles to: subtitle_5Wr2e9TWEQk.en.vtt\n",
      "[youtube] eI-8eVAivIE: Downloading webpage\n",
      "[youtube] eI-8eVAivIE: Downloading video info webpage\n",
      "[youtube] eI-8eVAivIE: Looking for automatic captions\n",
      "[info] Writing video subtitles to: subtitle_eI-8eVAivIE.en.vtt\n",
      "[youtube] YIdybxQ8zvo: Downloading webpage\n",
      "[youtube] YIdybxQ8zvo: Downloading video info webpage\n",
      "[youtube] YIdybxQ8zvo: Looking for automatic captions\n"
     ]
    },
    {
     "name": "stderr",
     "output_type": "stream",
     "text": [
      "WARNING: Couldn't find automatic captions for YIdybxQ8zvo\n"
     ]
    },
    {
     "name": "stdout",
     "output_type": "stream",
     "text": [
      "No captions for YIdybxQ8zvo\n",
      "[youtube] z73TWdWZKv8: Downloading webpage\n",
      "[youtube] z73TWdWZKv8: Downloading video info webpage\n",
      "[youtube] z73TWdWZKv8: Looking for automatic captions\n",
      "[info] Writing video subtitles to: subtitle_z73TWdWZKv8.en.vtt\n",
      "[youtube] a9Ik1aVrvEU: Downloading webpage\n",
      "[youtube] a9Ik1aVrvEU: Downloading video info webpage\n",
      "[youtube] a9Ik1aVrvEU: Looking for automatic captions\n"
     ]
    },
    {
     "name": "stderr",
     "output_type": "stream",
     "text": [
      "WARNING: Couldn't find automatic captions for a9Ik1aVrvEU\n"
     ]
    },
    {
     "name": "stdout",
     "output_type": "stream",
     "text": [
      "No captions for a9Ik1aVrvEU\n",
      "[youtube] HIqZYPEdMIg: Downloading webpage\n",
      "[youtube] HIqZYPEdMIg: Downloading video info webpage\n",
      "[youtube] HIqZYPEdMIg: Looking for automatic captions\n",
      "[info] Writing video subtitles to: subtitle_HIqZYPEdMIg.en.vtt\n",
      "[youtube] 4wgAaGkiaBI: Downloading webpage\n",
      "[youtube] 4wgAaGkiaBI: Downloading video info webpage\n",
      "[youtube] 4wgAaGkiaBI: Looking for automatic captions\n",
      "[info] Writing video subtitles to: subtitle_4wgAaGkiaBI.en.vtt\n",
      "[youtube] VjnvtIMDphc: Downloading webpage\n",
      "[youtube] VjnvtIMDphc: Downloading video info webpage\n",
      "[youtube] VjnvtIMDphc: Looking for automatic captions\n"
     ]
    },
    {
     "name": "stderr",
     "output_type": "stream",
     "text": [
      "WARNING: Couldn't find automatic captions for VjnvtIMDphc\n"
     ]
    },
    {
     "name": "stdout",
     "output_type": "stream",
     "text": [
      "No captions for VjnvtIMDphc\n",
      "[youtube] HdIOkyMBXkw: Downloading webpage\n",
      "[youtube] HdIOkyMBXkw: Downloading video info webpage\n",
      "[youtube] HdIOkyMBXkw: Looking for automatic captions\n",
      "[info] Writing video subtitles to: subtitle_HdIOkyMBXkw.en.vtt\n",
      "[youtube] xxyWjDc5oHg: Downloading webpage\n",
      "[youtube] xxyWjDc5oHg: Downloading video info webpage\n",
      "[youtube] xxyWjDc5oHg: Looking for automatic captions\n",
      "[info] Writing video subtitles to: subtitle_xxyWjDc5oHg.en.vtt\n",
      "[youtube] AvuzThH_MBo: Downloading webpage\n",
      "[youtube] AvuzThH_MBo: Downloading video info webpage\n",
      "[youtube] AvuzThH_MBo: Looking for automatic captions\n"
     ]
    },
    {
     "name": "stderr",
     "output_type": "stream",
     "text": [
      "WARNING: Couldn't find automatic captions for AvuzThH_MBo\n"
     ]
    },
    {
     "name": "stdout",
     "output_type": "stream",
     "text": [
      "No captions for AvuzThH_MBo\n",
      "[youtube] USFlZfX_Qe8: Downloading webpage\n",
      "[youtube] USFlZfX_Qe8: Downloading video info webpage\n",
      "[youtube] USFlZfX_Qe8: Looking for automatic captions\n",
      "[info] Writing video subtitles to: subtitle_USFlZfX_Qe8.en.vtt\n",
      "[youtube] 6p7YqKwP1xc: Downloading webpage\n",
      "[youtube] 6p7YqKwP1xc: Downloading video info webpage\n",
      "[youtube] 6p7YqKwP1xc: Looking for automatic captions\n",
      "[info] Writing video subtitles to: subtitle_6p7YqKwP1xc.en.vtt\n",
      "[youtube] KVaQ7iFvJYc: Downloading webpage\n",
      "[youtube] KVaQ7iFvJYc: Downloading video info webpage\n",
      "[youtube] KVaQ7iFvJYc: Looking for automatic captions\n",
      "[info] Writing video subtitles to: subtitle_KVaQ7iFvJYc.en.vtt\n",
      "[youtube] rFPncgxqAzM: Downloading webpage\n",
      "[youtube] rFPncgxqAzM: Downloading video info webpage\n",
      "[youtube] rFPncgxqAzM: Looking for automatic captions\n"
     ]
    },
    {
     "name": "stderr",
     "output_type": "stream",
     "text": [
      "WARNING: Couldn't find automatic captions for rFPncgxqAzM\n"
     ]
    },
    {
     "name": "stdout",
     "output_type": "stream",
     "text": [
      "No captions for rFPncgxqAzM\n",
      "[youtube] Bzv4Wnaf48A: Downloading webpage\n",
      "[youtube] Bzv4Wnaf48A: Downloading video info webpage\n",
      "[youtube] Bzv4Wnaf48A: Looking for automatic captions\n",
      "[info] Writing video subtitles to: subtitle_Bzv4Wnaf48A.en.vtt\n",
      "[youtube] LRsVHzLXNhQ: Downloading webpage\n",
      "[youtube] LRsVHzLXNhQ: Downloading video info webpage\n",
      "[youtube] LRsVHzLXNhQ: Looking for automatic captions\n",
      "[info] Writing video subtitles to: subtitle_LRsVHzLXNhQ.en.vtt\n",
      "[youtube] Tk9fxWZIKxk: Downloading webpage\n",
      "[youtube] Tk9fxWZIKxk: Downloading video info webpage\n",
      "[youtube] Tk9fxWZIKxk: Looking for automatic captions\n",
      "[info] Writing video subtitles to: subtitle_Tk9fxWZIKxk.en.vtt\n",
      "[youtube] wTiVR7RFtto: Downloading webpage\n",
      "[youtube] wTiVR7RFtto: Downloading video info webpage\n",
      "[youtube] wTiVR7RFtto: Looking for automatic captions\n",
      "[info] Writing video subtitles to: subtitle_wTiVR7RFtto.en.vtt\n",
      "[youtube] YfrVIsdLM3I: Downloading webpage\n",
      "[youtube] YfrVIsdLM3I: Downloading video info webpage\n",
      "[youtube] YfrVIsdLM3I: Looking for automatic captions\n",
      "[info] Writing video subtitles to: subtitle_YfrVIsdLM3I.en.vtt\n",
      "[youtube] JsXE7j4QAt0: Downloading webpage\n",
      "[youtube] JsXE7j4QAt0: Downloading video info webpage\n",
      "[youtube] JsXE7j4QAt0: Looking for automatic captions\n",
      "[youtube] JsXE7j4QAt0: Downloading MPD manifest\n",
      "[youtube] JsXE7j4QAt0: Downloading MPD manifest\n",
      "[info] Writing video subtitles to: subtitle_JsXE7j4QAt0.en.vtt\n",
      "[youtube] mnEaKMklSDc: Downloading webpage\n",
      "[youtube] mnEaKMklSDc: Downloading video info webpage\n",
      "[youtube] mnEaKMklSDc: Looking for automatic captions\n",
      "[info] Writing video subtitles to: subtitle_mnEaKMklSDc.en.vtt\n",
      "[youtube] vRVMQ9vyzJ8: Downloading webpage\n",
      "[youtube] vRVMQ9vyzJ8: Downloading video info webpage\n",
      "[youtube] vRVMQ9vyzJ8: Looking for automatic captions\n",
      "[info] Writing video subtitles to: subtitle_vRVMQ9vyzJ8.en.vtt\n",
      "[youtube] nq_jFfrZnGs: Downloading webpage\n",
      "[youtube] nq_jFfrZnGs: Downloading video info webpage\n",
      "[youtube] nq_jFfrZnGs: Looking for automatic captions\n",
      "[info] Writing video subtitles to: subtitle_nq_jFfrZnGs.en.vtt\n",
      "[youtube] Tv8wX0rGAE8: Downloading webpage\n",
      "[youtube] Tv8wX0rGAE8: Downloading video info webpage\n",
      "[youtube] Tv8wX0rGAE8: Looking for automatic captions\n",
      "[info] Writing video subtitles to: subtitle_Tv8wX0rGAE8.en.vtt\n",
      "[youtube] CUOGUCxwTOE: Downloading webpage\n",
      "[youtube] CUOGUCxwTOE: Downloading video info webpage\n",
      "[youtube] CUOGUCxwTOE: Looking for automatic captions\n",
      "[info] Writing video subtitles to: subtitle_CUOGUCxwTOE.en.vtt\n",
      "[youtube] XPaSW5lMpOo: Downloading webpage\n",
      "[youtube] XPaSW5lMpOo: Downloading video info webpage\n",
      "[youtube] XPaSW5lMpOo: Looking for automatic captions\n",
      "[info] Writing video subtitles to: subtitle_XPaSW5lMpOo.en.vtt\n",
      "[youtube] gAHeqa7Mwt8: Downloading webpage\n",
      "[youtube] gAHeqa7Mwt8: Downloading video info webpage\n",
      "[youtube] gAHeqa7Mwt8: Looking for automatic captions\n"
     ]
    },
    {
     "name": "stderr",
     "output_type": "stream",
     "text": [
      "WARNING: Couldn't find automatic captions for gAHeqa7Mwt8\n"
     ]
    },
    {
     "name": "stdout",
     "output_type": "stream",
     "text": [
      "No captions for gAHeqa7Mwt8\n",
      "[youtube] kmYi0R-44QA: Downloading webpage\n",
      "[youtube] kmYi0R-44QA: Downloading video info webpage\n",
      "[youtube] kmYi0R-44QA: Looking for automatic captions\n",
      "[info] Writing video subtitles to: subtitle_kmYi0R-44QA.en.vtt\n",
      "[youtube] 4VAgmvmSQoI: Downloading webpage\n",
      "[youtube] 4VAgmvmSQoI: Downloading video info webpage\n",
      "[youtube] 4VAgmvmSQoI: Looking for automatic captions\n"
     ]
    },
    {
     "name": "stderr",
     "output_type": "stream",
     "text": [
      "WARNING: Couldn't find automatic captions for 4VAgmvmSQoI\n"
     ]
    },
    {
     "name": "stdout",
     "output_type": "stream",
     "text": [
      "[youtube] 4VAgmvmSQoI: Downloading MPD manifest\n",
      "[youtube] 4VAgmvmSQoI: Downloading MPD manifest\n",
      "No captions for 4VAgmvmSQoI\n",
      "[youtube] W94xT2Nxo0Q: Downloading webpage\n",
      "[youtube] W94xT2Nxo0Q: Downloading video info webpage\n",
      "[youtube] W94xT2Nxo0Q: Looking for automatic captions\n"
     ]
    },
    {
     "name": "stderr",
     "output_type": "stream",
     "text": [
      "WARNING: Couldn't find automatic captions for W94xT2Nxo0Q\n"
     ]
    },
    {
     "name": "stdout",
     "output_type": "stream",
     "text": [
      "No captions for W94xT2Nxo0Q\n",
      "[youtube] 6OBY9O2ngtg: Downloading webpage\n",
      "[youtube] 6OBY9O2ngtg: Downloading video info webpage\n",
      "[youtube] 6OBY9O2ngtg: Looking for automatic captions\n",
      "[info] Writing video subtitles to: subtitle_6OBY9O2ngtg.en.vtt\n",
      "[youtube] yKH6kmQ-3jg: Downloading webpage\n",
      "[youtube] yKH6kmQ-3jg: Downloading video info webpage\n",
      "[youtube] yKH6kmQ-3jg: Looking for automatic captions\n",
      "[info] Writing video subtitles to: subtitle_yKH6kmQ-3jg.en.vtt\n",
      "[youtube] bR9gK3JujSw: Downloading webpage\n",
      "[youtube] bR9gK3JujSw: Downloading video info webpage\n",
      "[youtube] bR9gK3JujSw: Looking for automatic captions\n",
      "[info] Writing video subtitles to: subtitle_bR9gK3JujSw.en.vtt\n",
      "[youtube] RHfcwMGwLFA: Downloading webpage\n",
      "[youtube] RHfcwMGwLFA: Downloading video info webpage\n",
      "[youtube] RHfcwMGwLFA: Looking for automatic captions\n",
      "[info] Writing video subtitles to: subtitle_RHfcwMGwLFA.en.vtt\n",
      "[youtube] b38yZ5DhZU4: Downloading webpage\n",
      "[youtube] b38yZ5DhZU4: Downloading video info webpage\n",
      "[youtube] b38yZ5DhZU4: Looking for automatic captions\n",
      "[info] Writing video subtitles to: subtitle_b38yZ5DhZU4.en.vtt\n",
      "[youtube] OpzVYPODc7A: Downloading webpage\n",
      "[youtube] OpzVYPODc7A: Downloading video info webpage\n",
      "[youtube] OpzVYPODc7A: Looking for automatic captions\n",
      "[info] Writing video subtitles to: subtitle_OpzVYPODc7A.en.vtt\n",
      "[youtube] h5SolBPB4nc: Downloading webpage\n",
      "[youtube] h5SolBPB4nc: Downloading video info webpage\n",
      "[youtube] h5SolBPB4nc: Looking for automatic captions\n"
     ]
    },
    {
     "name": "stderr",
     "output_type": "stream",
     "text": [
      "WARNING: Couldn't find automatic captions for h5SolBPB4nc\n"
     ]
    },
    {
     "name": "stdout",
     "output_type": "stream",
     "text": [
      "No captions for h5SolBPB4nc\n",
      "[youtube] TzFM98Ob_Ok: Downloading webpage\n",
      "[youtube] TzFM98Ob_Ok: Downloading video info webpage\n",
      "[youtube] TzFM98Ob_Ok: Looking for automatic captions\n",
      "[youtube] TzFM98Ob_Ok: Downloading MPD manifest\n",
      "[youtube] TzFM98Ob_Ok: Downloading MPD manifest\n",
      "[info] Writing video subtitles to: subtitle_TzFM98Ob_Ok.en.vtt\n",
      "[youtube] uOgToHw7ABI: Downloading webpage\n",
      "[youtube] uOgToHw7ABI: Downloading video info webpage\n",
      "[youtube] uOgToHw7ABI: Looking for automatic captions\n"
     ]
    },
    {
     "name": "stderr",
     "output_type": "stream",
     "text": [
      "WARNING: Couldn't find automatic captions for uOgToHw7ABI\n"
     ]
    },
    {
     "name": "stdout",
     "output_type": "stream",
     "text": [
      "No captions for uOgToHw7ABI\n",
      "[youtube] xJp2CT_FGIQ: Downloading webpage\n",
      "[youtube] xJp2CT_FGIQ: Downloading video info webpage\n",
      "[youtube] xJp2CT_FGIQ: Looking for automatic captions\n"
     ]
    },
    {
     "name": "stderr",
     "output_type": "stream",
     "text": [
      "WARNING: Couldn't find automatic captions for xJp2CT_FGIQ\n"
     ]
    },
    {
     "name": "stdout",
     "output_type": "stream",
     "text": [
      "No captions for xJp2CT_FGIQ\n",
      "[youtube] jd2z7h5Eyec: Downloading webpage\n",
      "[youtube] jd2z7h5Eyec: Downloading video info webpage\n",
      "[youtube] jd2z7h5Eyec: Looking for automatic captions\n",
      "[youtube] jd2z7h5Eyec: Downloading MPD manifest\n",
      "[youtube] jd2z7h5Eyec: Downloading MPD manifest\n",
      "[info] Writing video subtitles to: subtitle_jd2z7h5Eyec.en.vtt\n",
      "[youtube] 4pSt84kixJE: Downloading webpage\n",
      "[youtube] 4pSt84kixJE: Downloading video info webpage\n",
      "[youtube] 4pSt84kixJE: Looking for automatic captions\n",
      "[info] Writing video subtitles to: subtitle_4pSt84kixJE.en.vtt\n",
      "[youtube] oCvHmkzXI-I: Downloading webpage\n",
      "[youtube] oCvHmkzXI-I: Downloading video info webpage\n",
      "[youtube] oCvHmkzXI-I: Looking for automatic captions\n",
      "[info] Writing video subtitles to: subtitle_oCvHmkzXI-I.en.vtt\n",
      "[youtube] CmTUYw-PSnQ: Downloading webpage\n",
      "[youtube] CmTUYw-PSnQ: Downloading video info webpage\n",
      "[youtube] CmTUYw-PSnQ: Looking for automatic captions\n",
      "[info] Writing video subtitles to: subtitle_CmTUYw-PSnQ.en.vtt\n",
      "[youtube] fxjLOjw8x0U: Downloading webpage\n",
      "[youtube] fxjLOjw8x0U: Downloading video info webpage\n",
      "[youtube] fxjLOjw8x0U: Looking for automatic captions\n",
      "[youtube] fxjLOjw8x0U: Downloading MPD manifest\n",
      "[youtube] fxjLOjw8x0U: Downloading MPD manifest\n",
      "[info] Writing video subtitles to: subtitle_fxjLOjw8x0U.en.vtt\n",
      "[youtube] xigX-XOlmE4: Downloading webpage\n",
      "[youtube] xigX-XOlmE4: Downloading video info webpage\n",
      "[youtube] xigX-XOlmE4: Looking for automatic captions\n",
      "[info] Writing video subtitles to: subtitle_xigX-XOlmE4.en.vtt\n",
      "[youtube] Nis5US5f1tE: Downloading webpage\n",
      "[youtube] Nis5US5f1tE: Downloading video info webpage\n",
      "[youtube] Nis5US5f1tE: Looking for automatic captions\n",
      "[youtube] Nis5US5f1tE: Downloading MPD manifest\n",
      "[youtube] Nis5US5f1tE: Downloading MPD manifest\n",
      "[info] Writing video subtitles to: subtitle_Nis5US5f1tE.en.vtt\n",
      "[youtube] nqgiZe7Gv5U: Downloading webpage\n",
      "[youtube] nqgiZe7Gv5U: Downloading video info webpage\n",
      "[youtube] nqgiZe7Gv5U: Looking for automatic captions\n",
      "[info] Writing video subtitles to: subtitle_nqgiZe7Gv5U.en.vtt\n",
      "[youtube] 6Cq98tAQCbU: Downloading webpage\n",
      "[youtube] 6Cq98tAQCbU: Downloading video info webpage\n",
      "[youtube] 6Cq98tAQCbU: Looking for automatic captions\n",
      "[info] Writing video subtitles to: subtitle_6Cq98tAQCbU.en.vtt\n",
      "[youtube] nPmDpzYO2_U: Downloading webpage\n",
      "[youtube] nPmDpzYO2_U: Downloading video info webpage\n",
      "[youtube] nPmDpzYO2_U: Looking for automatic captions\n"
     ]
    },
    {
     "name": "stderr",
     "output_type": "stream",
     "text": [
      "WARNING: Couldn't find automatic captions for nPmDpzYO2_U\n"
     ]
    },
    {
     "name": "stdout",
     "output_type": "stream",
     "text": [
      "No captions for nPmDpzYO2_U\n",
      "[youtube] Z_nUVM5JDjU: Downloading webpage\n",
      "[youtube] Z_nUVM5JDjU: Downloading video info webpage\n",
      "[youtube] Z_nUVM5JDjU: Looking for automatic captions\n",
      "[info] Writing video subtitles to: subtitle_Z_nUVM5JDjU.en.vtt\n",
      "[youtube] fm_c9RfsKjw: Downloading webpage\n",
      "[youtube] fm_c9RfsKjw: Downloading video info webpage\n",
      "[youtube] fm_c9RfsKjw: Looking for automatic captions\n",
      "[info] Writing video subtitles to: subtitle_fm_c9RfsKjw.en.vtt\n",
      "[youtube] dca3CtzTJ2k: Downloading webpage\n",
      "[youtube] dca3CtzTJ2k: Downloading video info webpage\n",
      "[youtube] dca3CtzTJ2k: Looking for automatic captions\n",
      "[youtube] dca3CtzTJ2k: Downloading MPD manifest\n",
      "[youtube] dca3CtzTJ2k: Downloading MPD manifest\n",
      "[info] Writing video subtitles to: subtitle_dca3CtzTJ2k.en.vtt\n",
      "[youtube] DGIlcKQ0yaE: Downloading webpage\n",
      "[youtube] DGIlcKQ0yaE: Downloading video info webpage\n",
      "[youtube] DGIlcKQ0yaE: Looking for automatic captions\n",
      "[youtube] DGIlcKQ0yaE: Downloading MPD manifest\n",
      "[youtube] DGIlcKQ0yaE: Downloading MPD manifest\n",
      "[info] Writing video subtitles to: subtitle_DGIlcKQ0yaE.en.vtt\n",
      "[youtube] 1Kb8cKogiZc: Downloading webpage\n",
      "[youtube] 1Kb8cKogiZc: Downloading video info webpage\n",
      "[youtube] 1Kb8cKogiZc: Looking for automatic captions\n"
     ]
    },
    {
     "name": "stderr",
     "output_type": "stream",
     "text": [
      "WARNING: Couldn't find automatic captions for 1Kb8cKogiZc\n"
     ]
    },
    {
     "name": "stdout",
     "output_type": "stream",
     "text": [
      "[youtube] 1Kb8cKogiZc: Downloading MPD manifest\n",
      "[youtube] 1Kb8cKogiZc: Downloading MPD manifest\n",
      "No captions for 1Kb8cKogiZc\n",
      "[youtube] vyd9F5con0U: Downloading webpage\n",
      "[youtube] vyd9F5con0U: Downloading video info webpage\n",
      "[youtube] vyd9F5con0U: Looking for automatic captions\n",
      "[info] Writing video subtitles to: subtitle_vyd9F5con0U.en.vtt\n",
      "[youtube] vESnZUdMWww: Downloading webpage\n",
      "[youtube] vESnZUdMWww: Downloading video info webpage\n",
      "[youtube] vESnZUdMWww: Looking for automatic captions\n",
      "[info] Writing video subtitles to: subtitle_vESnZUdMWww.en.vtt\n",
      "[youtube] ijnEV9fSpFc: Downloading webpage\n",
      "[youtube] ijnEV9fSpFc: Downloading video info webpage\n",
      "[youtube] ijnEV9fSpFc: Looking for automatic captions\n"
     ]
    },
    {
     "name": "stderr",
     "output_type": "stream",
     "text": [
      "WARNING: Couldn't find automatic captions for ijnEV9fSpFc\n"
     ]
    },
    {
     "name": "stdout",
     "output_type": "stream",
     "text": [
      "No captions for ijnEV9fSpFc\n",
      "[youtube] f0IBVQBJmAs: Downloading webpage\n",
      "[youtube] f0IBVQBJmAs: Downloading video info webpage\n",
      "[youtube] f0IBVQBJmAs: Looking for automatic captions\n",
      "[info] Writing video subtitles to: subtitle_f0IBVQBJmAs.en.vtt\n",
      "[youtube] osQhojPuNnc: Downloading webpage\n",
      "[youtube] osQhojPuNnc: Downloading video info webpage\n",
      "[youtube] osQhojPuNnc: Looking for automatic captions\n",
      "[info] Writing video subtitles to: subtitle_osQhojPuNnc.en.vtt\n",
      "[youtube] pgKmNc27OnA: Downloading webpage\n",
      "[youtube] pgKmNc27OnA: Downloading video info webpage\n",
      "[youtube] pgKmNc27OnA: Looking for automatic captions\n",
      "[youtube] pgKmNc27OnA: Downloading MPD manifest\n",
      "[youtube] pgKmNc27OnA: Downloading MPD manifest\n",
      "[info] Writing video subtitles to: subtitle_pgKmNc27OnA.en.vtt\n",
      "[youtube] rQTPSQi5qAs: Downloading webpage\n",
      "[youtube] rQTPSQi5qAs: Downloading video info webpage\n",
      "[youtube] rQTPSQi5qAs: Looking for automatic captions\n"
     ]
    },
    {
     "name": "stderr",
     "output_type": "stream",
     "text": [
      "WARNING: Couldn't find automatic captions for rQTPSQi5qAs\n"
     ]
    },
    {
     "name": "stdout",
     "output_type": "stream",
     "text": [
      "No captions for rQTPSQi5qAs\n",
      "[youtube] lV5fyBsK3uo: Downloading webpage\n",
      "[youtube] lV5fyBsK3uo: Downloading video info webpage\n",
      "[youtube] lV5fyBsK3uo: Looking for automatic captions\n",
      "[info] Writing video subtitles to: subtitle_lV5fyBsK3uo.en.vtt\n",
      "[youtube] Jibe3tXDPNk: Downloading webpage\n",
      "[youtube] Jibe3tXDPNk: Downloading video info webpage\n",
      "[youtube] Jibe3tXDPNk: Looking for automatic captions\n",
      "[info] Writing video subtitles to: subtitle_Jibe3tXDPNk.en.vtt\n",
      "[youtube] 38yakDerdEU: Downloading webpage\n",
      "[youtube] 38yakDerdEU: Downloading video info webpage\n",
      "[youtube] 38yakDerdEU: Looking for automatic captions\n",
      "[youtube] 38yakDerdEU: Downloading MPD manifest\n",
      "[youtube] 38yakDerdEU: Downloading MPD manifest\n",
      "[info] Writing video subtitles to: subtitle_38yakDerdEU.en.vtt\n",
      "[youtube] nDgBfzKtw0M: Downloading webpage\n",
      "[youtube] nDgBfzKtw0M: Downloading video info webpage\n",
      "[youtube] nDgBfzKtw0M: Looking for automatic captions\n",
      "[info] Writing video subtitles to: subtitle_nDgBfzKtw0M.en.vtt\n",
      "[youtube] hYEmcN64U6E: Downloading webpage\n",
      "[youtube] hYEmcN64U6E: Downloading video info webpage\n",
      "[youtube] hYEmcN64U6E: Looking for automatic captions\n",
      "[info] Writing video subtitles to: subtitle_hYEmcN64U6E.en.vtt\n",
      "[youtube] cuxskzkBcfI: Downloading webpage\n",
      "[youtube] cuxskzkBcfI: Downloading video info webpage\n",
      "[youtube] cuxskzkBcfI: Looking for automatic captions\n"
     ]
    },
    {
     "name": "stderr",
     "output_type": "stream",
     "text": [
      "WARNING: Couldn't find automatic captions for cuxskzkBcfI\n"
     ]
    },
    {
     "name": "stdout",
     "output_type": "stream",
     "text": [
      "[youtube] cuxskzkBcfI: Downloading MPD manifest\n",
      "No captions for cuxskzkBcfI\n",
      "[youtube] dKllhmoZAJg: Downloading webpage\n",
      "[youtube] dKllhmoZAJg: Downloading video info webpage\n",
      "[youtube] dKllhmoZAJg: Looking for automatic captions\n",
      "[info] Writing video subtitles to: subtitle_dKllhmoZAJg.en.vtt\n",
      "[youtube] cSPaYvTfpLk: Downloading webpage\n",
      "[youtube] cSPaYvTfpLk: Downloading video info webpage\n",
      "[youtube] cSPaYvTfpLk: Looking for automatic captions\n",
      "[info] Writing video subtitles to: subtitle_cSPaYvTfpLk.en.vtt\n",
      "[youtube] zCyQBdoXKm4: Downloading webpage\n",
      "[youtube] zCyQBdoXKm4: Downloading video info webpage\n",
      "[youtube] zCyQBdoXKm4: Looking for automatic captions\n",
      "[info] Writing video subtitles to: subtitle_zCyQBdoXKm4.en.vtt\n",
      "[youtube] kk1uezOtAYA: Downloading webpage\n",
      "[youtube] kk1uezOtAYA: Downloading video info webpage\n",
      "[youtube] kk1uezOtAYA: Looking for automatic captions\n",
      "[info] Writing video subtitles to: subtitle_kk1uezOtAYA.en.vtt\n",
      "[youtube] _7U7XjX6ygg: Downloading webpage\n",
      "[youtube] _7U7XjX6ygg: Downloading video info webpage\n",
      "[youtube] _7U7XjX6ygg: Looking for automatic captions\n",
      "[info] Writing video subtitles to: subtitle__7U7XjX6ygg.en.vtt\n",
      "[youtube] 06ZcHar0vcc: Downloading webpage\n",
      "[youtube] 06ZcHar0vcc: Downloading video info webpage\n",
      "[youtube] 06ZcHar0vcc: Looking for automatic captions\n",
      "[youtube] 06ZcHar0vcc: Downloading MPD manifest\n",
      "[youtube] 06ZcHar0vcc: Downloading MPD manifest\n",
      "[info] Writing video subtitles to: subtitle_06ZcHar0vcc.en.vtt\n",
      "[youtube] BDTDQeqnGvQ: Downloading webpage\n",
      "[youtube] BDTDQeqnGvQ: Downloading video info webpage\n",
      "[youtube] BDTDQeqnGvQ: Looking for automatic captions\n",
      "[info] Writing video subtitles to: subtitle_BDTDQeqnGvQ.en.vtt\n",
      "[youtube] SfNv8-UC2xY: Downloading webpage\n",
      "[youtube] SfNv8-UC2xY: Downloading video info webpage\n",
      "[youtube] SfNv8-UC2xY: Looking for automatic captions\n"
     ]
    },
    {
     "name": "stderr",
     "output_type": "stream",
     "text": [
      "WARNING: Couldn't find automatic captions for SfNv8-UC2xY\n"
     ]
    },
    {
     "name": "stdout",
     "output_type": "stream",
     "text": [
      "No captions for SfNv8-UC2xY\n",
      "[youtube] OoNAkR8nkuM: Downloading webpage\n",
      "[youtube] OoNAkR8nkuM: Downloading video info webpage\n",
      "[youtube] OoNAkR8nkuM: Looking for automatic captions\n"
     ]
    },
    {
     "name": "stderr",
     "output_type": "stream",
     "text": [
      "WARNING: Couldn't find automatic captions for OoNAkR8nkuM\n"
     ]
    },
    {
     "name": "stdout",
     "output_type": "stream",
     "text": [
      "No captions for OoNAkR8nkuM\n",
      "[youtube] jzverGDoKA0: Downloading webpage\n",
      "[youtube] jzverGDoKA0: Downloading video info webpage\n",
      "[youtube] jzverGDoKA0: Looking for automatic captions\n",
      "[info] Writing video subtitles to: subtitle_jzverGDoKA0.en.vtt\n",
      "[youtube] LE-sNccS5gM: Downloading webpage\n",
      "[youtube] LE-sNccS5gM: Downloading video info webpage\n",
      "[youtube] LE-sNccS5gM: Looking for automatic captions\n",
      "[info] Writing video subtitles to: subtitle_LE-sNccS5gM.en.vtt\n",
      "[youtube] rJS_RceEgk8: Downloading webpage\n",
      "[youtube] rJS_RceEgk8: Downloading video info webpage\n",
      "[youtube] rJS_RceEgk8: Looking for automatic captions\n"
     ]
    },
    {
     "name": "stderr",
     "output_type": "stream",
     "text": [
      "WARNING: Couldn't find automatic captions for rJS_RceEgk8\n"
     ]
    },
    {
     "name": "stdout",
     "output_type": "stream",
     "text": [
      "No captions for rJS_RceEgk8\n",
      "[youtube] cnYnwz-kpC8: Downloading webpage\n",
      "[youtube] cnYnwz-kpC8: Downloading video info webpage\n",
      "[youtube] cnYnwz-kpC8: Looking for automatic captions\n",
      "[info] Writing video subtitles to: subtitle_cnYnwz-kpC8.en.vtt\n",
      "[youtube] jcrE3ygILPk: Downloading webpage\n",
      "[youtube] jcrE3ygILPk: Downloading video info webpage\n",
      "[youtube] jcrE3ygILPk: Looking for automatic captions\n",
      "[info] Writing video subtitles to: subtitle_jcrE3ygILPk.en.vtt\n",
      "[youtube] dxxXil0cCZ8: Downloading webpage\n",
      "[youtube] dxxXil0cCZ8: Downloading video info webpage\n",
      "[youtube] dxxXil0cCZ8: Looking for automatic captions\n",
      "[info] Writing video subtitles to: subtitle_dxxXil0cCZ8.en.vtt\n",
      "[youtube] xiS-GeTD-Fg: Downloading webpage\n",
      "[youtube] xiS-GeTD-Fg: Downloading video info webpage\n",
      "[youtube] xiS-GeTD-Fg: Looking for automatic captions\n"
     ]
    },
    {
     "name": "stderr",
     "output_type": "stream",
     "text": [
      "WARNING: Couldn't find automatic captions for xiS-GeTD-Fg\n"
     ]
    },
    {
     "name": "stdout",
     "output_type": "stream",
     "text": [
      "No captions for xiS-GeTD-Fg\n",
      "[youtube] jsz5y-wb5_E: Downloading webpage\n",
      "[youtube] jsz5y-wb5_E: Downloading video info webpage\n",
      "[youtube] jsz5y-wb5_E: Looking for automatic captions\n"
     ]
    },
    {
     "name": "stderr",
     "output_type": "stream",
     "text": [
      "WARNING: Couldn't find automatic captions for jsz5y-wb5_E\n"
     ]
    },
    {
     "name": "stdout",
     "output_type": "stream",
     "text": [
      "No captions for jsz5y-wb5_E\n",
      "[youtube] u5kJ58iIeBM: Downloading webpage\n",
      "[youtube] u5kJ58iIeBM: Downloading video info webpage\n",
      "[youtube] u5kJ58iIeBM: Looking for automatic captions\n",
      "[info] Writing video subtitles to: subtitle_u5kJ58iIeBM.en.vtt\n",
      "[youtube] 0sPBB3DRxH4: Downloading webpage\n",
      "[youtube] 0sPBB3DRxH4: Downloading video info webpage\n",
      "[youtube] 0sPBB3DRxH4: Looking for automatic captions\n",
      "[info] Writing video subtitles to: subtitle_0sPBB3DRxH4.en.vtt\n",
      "[youtube] EhmVf9R0Xow: Downloading webpage\n",
      "[youtube] EhmVf9R0Xow: Downloading video info webpage\n",
      "[youtube] EhmVf9R0Xow: Looking for automatic captions\n"
     ]
    },
    {
     "name": "stderr",
     "output_type": "stream",
     "text": [
      "WARNING: Couldn't find automatic captions for EhmVf9R0Xow\n"
     ]
    },
    {
     "name": "stdout",
     "output_type": "stream",
     "text": [
      "No captions for EhmVf9R0Xow\n",
      "[youtube] _2ajp7kkKbA: Downloading webpage\n",
      "[youtube] _2ajp7kkKbA: Downloading video info webpage\n",
      "[youtube] _2ajp7kkKbA: Looking for automatic captions\n"
     ]
    },
    {
     "name": "stderr",
     "output_type": "stream",
     "text": [
      "WARNING: Couldn't find automatic captions for _2ajp7kkKbA\n"
     ]
    },
    {
     "name": "stdout",
     "output_type": "stream",
     "text": [
      "No captions for _2ajp7kkKbA\n",
      "[youtube] jWN200dOzXU: Downloading webpage\n",
      "[youtube] jWN200dOzXU: Downloading video info webpage\n",
      "[youtube] jWN200dOzXU: Looking for automatic captions\n",
      "[info] Writing video subtitles to: subtitle_jWN200dOzXU.en.vtt\n",
      "[youtube] nfR_qevPUuk: Downloading webpage\n",
      "[youtube] nfR_qevPUuk: Downloading video info webpage\n",
      "[youtube] nfR_qevPUuk: Looking for automatic captions\n",
      "[info] Writing video subtitles to: subtitle_nfR_qevPUuk.en.vtt\n",
      "[youtube] 5Ov_4UOaZaA: Downloading webpage\n",
      "[youtube] 5Ov_4UOaZaA: Downloading video info webpage\n",
      "[youtube] 5Ov_4UOaZaA: Looking for automatic captions\n",
      "[info] Writing video subtitles to: subtitle_5Ov_4UOaZaA.en.vtt\n",
      "[youtube] 9tDTKN6UWrg: Downloading webpage\n",
      "[youtube] 9tDTKN6UWrg: Downloading video info webpage\n",
      "[youtube] 9tDTKN6UWrg: Looking for automatic captions\n",
      "[info] Writing video subtitles to: subtitle_9tDTKN6UWrg.en.vtt\n",
      "[youtube] WIDWzA1ZtRc: Downloading webpage\n",
      "[youtube] WIDWzA1ZtRc: Downloading video info webpage\n",
      "[youtube] WIDWzA1ZtRc: Looking for automatic captions\n",
      "[info] Writing video subtitles to: subtitle_WIDWzA1ZtRc.en.vtt\n",
      "[youtube] Md3GLCyV800: Downloading webpage\n",
      "[youtube] Md3GLCyV800: Downloading video info webpage\n",
      "[youtube] Md3GLCyV800: Looking for automatic captions\n",
      "[info] Writing video subtitles to: subtitle_Md3GLCyV800.en.vtt\n",
      "[youtube] ePn5hvbdngU: Downloading webpage\n",
      "[youtube] ePn5hvbdngU: Downloading video info webpage\n",
      "[youtube] ePn5hvbdngU: Looking for automatic captions\n",
      "[info] Writing video subtitles to: subtitle_ePn5hvbdngU.en.vtt\n",
      "[youtube] WbAOcW9wp04: Downloading webpage\n",
      "[youtube] WbAOcW9wp04: Downloading video info webpage\n",
      "[youtube] WbAOcW9wp04: Looking for automatic captions\n",
      "[info] Writing video subtitles to: subtitle_WbAOcW9wp04.en.vtt\n",
      "[youtube] 5VJ88hPNXog: Downloading webpage\n",
      "[youtube] 5VJ88hPNXog: Downloading video info webpage\n",
      "[youtube] 5VJ88hPNXog: Looking for automatic captions\n"
     ]
    },
    {
     "name": "stderr",
     "output_type": "stream",
     "text": [
      "WARNING: Couldn't find automatic captions for 5VJ88hPNXog\n"
     ]
    },
    {
     "name": "stdout",
     "output_type": "stream",
     "text": [
      "No captions for 5VJ88hPNXog\n",
      "[youtube] 84kpX0XABG8: Downloading webpage\n",
      "[youtube] 84kpX0XABG8: Downloading video info webpage\n",
      "[youtube] 84kpX0XABG8: Looking for automatic captions\n",
      "[info] Writing video subtitles to: subtitle_84kpX0XABG8.en.vtt\n",
      "[youtube] SCVw8l_7qE4: Downloading webpage\n",
      "[youtube] SCVw8l_7qE4: Downloading video info webpage\n",
      "[youtube] SCVw8l_7qE4: Looking for automatic captions\n"
     ]
    },
    {
     "name": "stderr",
     "output_type": "stream",
     "text": [
      "WARNING: Couldn't find automatic captions for SCVw8l_7qE4\n"
     ]
    },
    {
     "name": "stdout",
     "output_type": "stream",
     "text": [
      "No captions for SCVw8l_7qE4\n",
      "[youtube] Rit-i_eK-dc: Downloading webpage\n",
      "[youtube] Rit-i_eK-dc: Downloading video info webpage\n",
      "[youtube] Rit-i_eK-dc: Looking for automatic captions\n",
      "[info] Writing video subtitles to: subtitle_Rit-i_eK-dc.en.vtt\n",
      "[youtube] ICJpwkrkC_Y: Downloading webpage\n",
      "[youtube] ICJpwkrkC_Y: Downloading video info webpage\n",
      "[youtube] ICJpwkrkC_Y: Looking for automatic captions\n",
      "[youtube] ICJpwkrkC_Y: Downloading MPD manifest\n",
      "[youtube] ICJpwkrkC_Y: Downloading MPD manifest\n",
      "[info] Writing video subtitles to: subtitle_ICJpwkrkC_Y.en.vtt\n",
      "[youtube] NvSEaq1viIU: Downloading webpage\n",
      "[youtube] NvSEaq1viIU: Downloading video info webpage\n",
      "[youtube] NvSEaq1viIU: Looking for automatic captions\n",
      "[info] Writing video subtitles to: subtitle_NvSEaq1viIU.en.vtt\n",
      "[youtube] P_C_uN53FQk: Downloading webpage\n",
      "[youtube] P_C_uN53FQk: Downloading video info webpage\n",
      "[youtube] P_C_uN53FQk: Looking for automatic captions\n",
      "[info] Writing video subtitles to: subtitle_P_C_uN53FQk.en.vtt\n",
      "[youtube] EiKLRsctJIE: Downloading webpage\n",
      "[youtube] EiKLRsctJIE: Downloading video info webpage\n",
      "[youtube] EiKLRsctJIE: Looking for automatic captions\n"
     ]
    },
    {
     "name": "stderr",
     "output_type": "stream",
     "text": [
      "WARNING: Couldn't find automatic captions for EiKLRsctJIE\n"
     ]
    },
    {
     "name": "stdout",
     "output_type": "stream",
     "text": [
      "No captions for EiKLRsctJIE\n",
      "[youtube] HfGfZ9HNKZ8: Downloading webpage\n",
      "[youtube] HfGfZ9HNKZ8: Downloading video info webpage\n",
      "[youtube] HfGfZ9HNKZ8: Looking for automatic captions\n",
      "[info] Writing video subtitles to: subtitle_HfGfZ9HNKZ8.en.vtt\n",
      "[youtube] a2GBe7or80k: Downloading webpage\n",
      "[youtube] a2GBe7or80k: Downloading video info webpage\n",
      "[youtube] a2GBe7or80k: Looking for automatic captions\n"
     ]
    },
    {
     "name": "stderr",
     "output_type": "stream",
     "text": [
      "WARNING: Couldn't find automatic captions for a2GBe7or80k\n"
     ]
    },
    {
     "name": "stdout",
     "output_type": "stream",
     "text": [
      "No captions for a2GBe7or80k\n",
      "[youtube] dPAlzZiZsus: Downloading webpage\n",
      "[youtube] dPAlzZiZsus: Downloading video info webpage\n",
      "[youtube] dPAlzZiZsus: Looking for automatic captions\n",
      "[info] Writing video subtitles to: subtitle_dPAlzZiZsus.en.vtt\n",
      "[youtube] rTpPzIWoyag: Downloading webpage\n",
      "[youtube] rTpPzIWoyag: Downloading video info webpage\n",
      "[youtube] rTpPzIWoyag: Looking for automatic captions\n",
      "[info] Writing video subtitles to: subtitle_rTpPzIWoyag.en.vtt\n",
      "[youtube] kkc6fldjdvg: Downloading webpage\n",
      "[youtube] kkc6fldjdvg: Downloading video info webpage\n",
      "[youtube] kkc6fldjdvg: Looking for automatic captions\n",
      "[info] Writing video subtitles to: subtitle_kkc6fldjdvg.en.vtt\n",
      "[youtube] i6P7Oeff0k0: Downloading webpage\n",
      "[youtube] i6P7Oeff0k0: Downloading video info webpage\n",
      "[youtube] i6P7Oeff0k0: Looking for automatic captions\n"
     ]
    },
    {
     "name": "stderr",
     "output_type": "stream",
     "text": [
      "WARNING: Couldn't find automatic captions for i6P7Oeff0k0\n"
     ]
    },
    {
     "name": "stdout",
     "output_type": "stream",
     "text": [
      "No captions for i6P7Oeff0k0\n",
      "[youtube] BVKTy7Z24JU: Downloading webpage\n",
      "[youtube] BVKTy7Z24JU: Downloading video info webpage\n",
      "[youtube] BVKTy7Z24JU: Looking for automatic captions\n",
      "[info] Writing video subtitles to: subtitle_BVKTy7Z24JU.en.vtt\n",
      "[youtube] ceC3SHhP-a0: Downloading webpage\n",
      "[youtube] ceC3SHhP-a0: Downloading video info webpage\n",
      "[youtube] ceC3SHhP-a0: Looking for automatic captions\n",
      "[info] Writing video subtitles to: subtitle_ceC3SHhP-a0.en.vtt\n",
      "[youtube] eIBI1bFDaUY: Downloading webpage\n",
      "[youtube] eIBI1bFDaUY: Downloading video info webpage\n",
      "[youtube] eIBI1bFDaUY: Looking for automatic captions\n",
      "[info] Writing video subtitles to: subtitle_eIBI1bFDaUY.en.vtt\n",
      "[youtube] 7BU3-Jvh_tI: Downloading webpage\n",
      "[youtube] 7BU3-Jvh_tI: Downloading video info webpage\n",
      "[youtube] 7BU3-Jvh_tI: Looking for automatic captions\n"
     ]
    },
    {
     "name": "stderr",
     "output_type": "stream",
     "text": [
      "WARNING: Couldn't find automatic captions for 7BU3-Jvh_tI\n"
     ]
    },
    {
     "name": "stdout",
     "output_type": "stream",
     "text": [
      "No captions for 7BU3-Jvh_tI\n",
      "[youtube] owfoNQf0-8M: Downloading webpage\n",
      "[youtube] owfoNQf0-8M: Downloading video info webpage\n",
      "[youtube] owfoNQf0-8M: Looking for automatic captions\n",
      "[info] Writing video subtitles to: subtitle_owfoNQf0-8M.en.vtt\n",
      "[youtube] EF4ep6S9dMs: Downloading webpage\n",
      "[youtube] EF4ep6S9dMs: Downloading video info webpage\n",
      "[youtube] EF4ep6S9dMs: Looking for automatic captions\n",
      "[info] Writing video subtitles to: subtitle_EF4ep6S9dMs.en.vtt\n",
      "[youtube] CeUgbcK_wVw: Downloading webpage\n",
      "[youtube] CeUgbcK_wVw: Downloading video info webpage\n",
      "[youtube] CeUgbcK_wVw: Looking for automatic captions\n",
      "[info] Writing video subtitles to: subtitle_CeUgbcK_wVw.en.vtt\n",
      "[youtube] cBej-sNxkbc: Downloading webpage\n",
      "[youtube] cBej-sNxkbc: Downloading video info webpage\n",
      "[youtube] cBej-sNxkbc: Looking for automatic captions\n",
      "[info] Writing video subtitles to: subtitle_cBej-sNxkbc.en.vtt\n",
      "[youtube] cSJE9K1Hi_o: Downloading webpage\n",
      "[youtube] cSJE9K1Hi_o: Downloading video info webpage\n",
      "[youtube] cSJE9K1Hi_o: Looking for automatic captions\n"
     ]
    },
    {
     "name": "stderr",
     "output_type": "stream",
     "text": [
      "WARNING: Couldn't find automatic captions for cSJE9K1Hi_o\n"
     ]
    },
    {
     "name": "stdout",
     "output_type": "stream",
     "text": [
      "No captions for cSJE9K1Hi_o\n",
      "[youtube] v1UfPFX6RcE: Downloading webpage\n",
      "[youtube] v1UfPFX6RcE: Downloading video info webpage\n",
      "[youtube] v1UfPFX6RcE: Looking for automatic captions\n"
     ]
    },
    {
     "name": "stderr",
     "output_type": "stream",
     "text": [
      "WARNING: Couldn't find automatic captions for v1UfPFX6RcE\n"
     ]
    },
    {
     "name": "stdout",
     "output_type": "stream",
     "text": [
      "No captions for v1UfPFX6RcE\n",
      "[youtube] RxiVseOJGxo: Downloading webpage\n",
      "[youtube] RxiVseOJGxo: Downloading video info webpage\n",
      "[youtube] RxiVseOJGxo: Looking for automatic captions\n"
     ]
    },
    {
     "name": "stderr",
     "output_type": "stream",
     "text": [
      "WARNING: Couldn't find automatic captions for RxiVseOJGxo\n"
     ]
    },
    {
     "name": "stdout",
     "output_type": "stream",
     "text": [
      "No captions for RxiVseOJGxo\n",
      "[youtube] Wx_envlMWwY: Downloading webpage\n",
      "[youtube] Wx_envlMWwY: Downloading video info webpage\n",
      "[youtube] Wx_envlMWwY: Looking for automatic captions\n",
      "[info] Writing video subtitles to: subtitle_Wx_envlMWwY.en.vtt\n",
      "[youtube] CfJc5UnPsf0: Downloading webpage\n",
      "[youtube] CfJc5UnPsf0: Downloading video info webpage\n",
      "[youtube] CfJc5UnPsf0: Looking for automatic captions\n",
      "[info] Writing video subtitles to: subtitle_CfJc5UnPsf0.en.vtt\n",
      "[youtube] 4wuENntlHjo: Downloading webpage\n",
      "[youtube] 4wuENntlHjo: Downloading video info webpage\n",
      "[youtube] 4wuENntlHjo: Looking for automatic captions\n",
      "[info] Writing video subtitles to: subtitle_4wuENntlHjo.en.vtt\n",
      "[youtube] AOew6bMeKzM: Downloading webpage\n",
      "[youtube] AOew6bMeKzM: Downloading video info webpage\n",
      "[youtube] AOew6bMeKzM: Looking for automatic captions\n",
      "[info] Writing video subtitles to: subtitle_AOew6bMeKzM.en.vtt\n",
      "[youtube] CTMwyH0IPDM: Downloading webpage\n",
      "[youtube] CTMwyH0IPDM: Downloading video info webpage\n",
      "[youtube] CTMwyH0IPDM: Looking for automatic captions\n",
      "[info] Writing video subtitles to: subtitle_CTMwyH0IPDM.en.vtt\n",
      "[youtube] QogLJwa_8SI: Downloading webpage\n",
      "[youtube] QogLJwa_8SI: Downloading video info webpage\n",
      "[youtube] QogLJwa_8SI: Looking for automatic captions\n"
     ]
    },
    {
     "name": "stderr",
     "output_type": "stream",
     "text": [
      "WARNING: Couldn't find automatic captions for QogLJwa_8SI\n"
     ]
    },
    {
     "name": "stdout",
     "output_type": "stream",
     "text": [
      "[youtube] QogLJwa_8SI: Downloading MPD manifest\n",
      "[youtube] QogLJwa_8SI: Downloading MPD manifest\n",
      "No captions for QogLJwa_8SI\n",
      "[youtube] boYu2CHhky0: Downloading webpage\n",
      "[youtube] boYu2CHhky0: Downloading video info webpage\n",
      "[youtube] boYu2CHhky0: Looking for automatic captions\n",
      "[info] Writing video subtitles to: subtitle_boYu2CHhky0.en.vtt\n",
      "[youtube] BcUJmltBCrM: Downloading webpage\n",
      "[youtube] BcUJmltBCrM: Downloading video info webpage\n",
      "[youtube] BcUJmltBCrM: Looking for automatic captions\n"
     ]
    },
    {
     "name": "stderr",
     "output_type": "stream",
     "text": [
      "WARNING: Couldn't find automatic captions for BcUJmltBCrM\n"
     ]
    },
    {
     "name": "stdout",
     "output_type": "stream",
     "text": [
      "No captions for BcUJmltBCrM\n",
      "[youtube] jt4gt0Vcda8: Downloading webpage\n",
      "[youtube] jt4gt0Vcda8: Downloading video info webpage\n",
      "[youtube] jt4gt0Vcda8: Looking for automatic captions\n",
      "[info] Writing video subtitles to: subtitle_jt4gt0Vcda8.en.vtt\n",
      "[youtube] VShy5h2LjgE: Downloading webpage\n",
      "[youtube] VShy5h2LjgE: Downloading video info webpage\n",
      "[youtube] VShy5h2LjgE: Looking for automatic captions\n",
      "[info] Writing video subtitles to: subtitle_VShy5h2LjgE.en.vtt\n",
      "[youtube] AD6YtyurMZo: Downloading webpage\n",
      "[youtube] AD6YtyurMZo: Downloading video info webpage\n",
      "[youtube] AD6YtyurMZo: Looking for automatic captions\n",
      "[info] Writing video subtitles to: subtitle_AD6YtyurMZo.en.vtt\n",
      "[youtube] oKLb2hROudY: Downloading webpage\n",
      "[youtube] oKLb2hROudY: Downloading video info webpage\n",
      "[youtube] oKLb2hROudY: Looking for automatic captions\n"
     ]
    },
    {
     "name": "stderr",
     "output_type": "stream",
     "text": [
      "WARNING: Couldn't find automatic captions for oKLb2hROudY\n"
     ]
    },
    {
     "name": "stdout",
     "output_type": "stream",
     "text": [
      "No captions for oKLb2hROudY\n",
      "[youtube] OwVChz1WJXg: Downloading webpage\n",
      "[youtube] OwVChz1WJXg: Downloading video info webpage\n",
      "[youtube] OwVChz1WJXg: Looking for automatic captions\n",
      "[info] Writing video subtitles to: subtitle_OwVChz1WJXg.en.vtt\n",
      "[youtube] OOwk7eyICDQ: Downloading webpage\n",
      "[youtube] OOwk7eyICDQ: Downloading video info webpage\n",
      "[youtube] OOwk7eyICDQ: Looking for automatic captions\n"
     ]
    },
    {
     "name": "stderr",
     "output_type": "stream",
     "text": [
      "WARNING: Couldn't find automatic captions for OOwk7eyICDQ\n"
     ]
    },
    {
     "name": "stdout",
     "output_type": "stream",
     "text": [
      "No captions for OOwk7eyICDQ\n",
      "[youtube] Ao3aHtMYt7A: Downloading webpage\n",
      "[youtube] Ao3aHtMYt7A: Downloading video info webpage\n",
      "[youtube] Ao3aHtMYt7A: Looking for automatic captions\n",
      "[info] Writing video subtitles to: subtitle_Ao3aHtMYt7A.en.vtt\n",
      "[youtube] X_qGlg0E8f0: Downloading webpage\n",
      "[youtube] X_qGlg0E8f0: Downloading video info webpage\n",
      "[youtube] X_qGlg0E8f0: Looking for automatic captions\n",
      "[info] Writing video subtitles to: subtitle_X_qGlg0E8f0.en.vtt\n",
      "[youtube] xeSxgdMOqns: Downloading webpage\n",
      "[youtube] xeSxgdMOqns: Downloading video info webpage\n",
      "[youtube] xeSxgdMOqns: Looking for automatic captions\n"
     ]
    },
    {
     "name": "stderr",
     "output_type": "stream",
     "text": [
      "WARNING: Couldn't find automatic captions for xeSxgdMOqns\n"
     ]
    },
    {
     "name": "stdout",
     "output_type": "stream",
     "text": [
      "No captions for xeSxgdMOqns\n",
      "[youtube] gFP0TQ9M2U0: Downloading webpage\n",
      "[youtube] gFP0TQ9M2U0: Downloading video info webpage\n",
      "[youtube] gFP0TQ9M2U0: Looking for automatic captions\n",
      "[info] Writing video subtitles to: subtitle_gFP0TQ9M2U0.en.vtt\n",
      "[youtube] XC_yctrEbZc: Downloading webpage\n",
      "[youtube] XC_yctrEbZc: Downloading video info webpage\n",
      "[youtube] XC_yctrEbZc: Looking for automatic captions\n",
      "[info] Writing video subtitles to: subtitle_XC_yctrEbZc.en.vtt\n",
      "[youtube] AmXVr3-nR2w: Downloading webpage\n",
      "[youtube] AmXVr3-nR2w: Downloading video info webpage\n",
      "[youtube] AmXVr3-nR2w: Looking for automatic captions\n",
      "[youtube] AmXVr3-nR2w: Downloading MPD manifest\n",
      "[youtube] AmXVr3-nR2w: Downloading MPD manifest\n",
      "[info] Writing video subtitles to: subtitle_AmXVr3-nR2w.en.vtt\n",
      "[youtube] 4FPE6yUdk0A: Downloading webpage\n",
      "[youtube] 4FPE6yUdk0A: Downloading video info webpage\n",
      "[youtube] 4FPE6yUdk0A: Looking for automatic captions\n"
     ]
    },
    {
     "name": "stderr",
     "output_type": "stream",
     "text": [
      "WARNING: Couldn't find automatic captions for 4FPE6yUdk0A\n"
     ]
    },
    {
     "name": "stdout",
     "output_type": "stream",
     "text": [
      "No captions for 4FPE6yUdk0A\n",
      "[youtube] evxyuXk55Zo: Downloading webpage\n",
      "[youtube] evxyuXk55Zo: Downloading video info webpage\n",
      "[youtube] evxyuXk55Zo: Looking for automatic captions\n",
      "[info] Writing video subtitles to: subtitle_evxyuXk55Zo.en.vtt\n",
      "[youtube] p5U_aucnoZg: Downloading webpage\n",
      "[youtube] p5U_aucnoZg: Downloading video info webpage\n",
      "[youtube] p5U_aucnoZg: Looking for automatic captions\n",
      "[youtube] p5U_aucnoZg: Downloading MPD manifest\n",
      "[youtube] p5U_aucnoZg: Downloading MPD manifest\n",
      "[info] Writing video subtitles to: subtitle_p5U_aucnoZg.en.vtt\n",
      "[youtube] KN3s3OZw9GI: Downloading webpage\n",
      "[youtube] KN3s3OZw9GI: Downloading video info webpage\n",
      "[youtube] KN3s3OZw9GI: Looking for automatic captions\n"
     ]
    },
    {
     "name": "stderr",
     "output_type": "stream",
     "text": [
      "WARNING: Couldn't find automatic captions for KN3s3OZw9GI\n"
     ]
    },
    {
     "name": "stdout",
     "output_type": "stream",
     "text": [
      "No captions for KN3s3OZw9GI\n",
      "[youtube] 22kOa4bbOJE: Downloading webpage\n",
      "[youtube] 22kOa4bbOJE: Downloading video info webpage\n",
      "[youtube] 22kOa4bbOJE: Looking for automatic captions\n",
      "[info] Writing video subtitles to: subtitle_22kOa4bbOJE.en.vtt\n",
      "[youtube] LGy8X9eQ8So: Downloading webpage\n",
      "[youtube] LGy8X9eQ8So: Downloading video info webpage\n",
      "[youtube] LGy8X9eQ8So: Looking for automatic captions\n",
      "[youtube] LGy8X9eQ8So: Downloading MPD manifest\n",
      "[youtube] LGy8X9eQ8So: Downloading MPD manifest\n",
      "[info] Writing video subtitles to: subtitle_LGy8X9eQ8So.en.vtt\n",
      "[youtube] wOZAHIpSsvs: Downloading webpage\n",
      "[youtube] wOZAHIpSsvs: Downloading video info webpage\n",
      "[youtube] wOZAHIpSsvs: Looking for automatic captions\n",
      "[info] Writing video subtitles to: subtitle_wOZAHIpSsvs.en.vtt\n",
      "[youtube] JOejXRRvjms: Downloading webpage\n",
      "[youtube] JOejXRRvjms: Downloading video info webpage\n",
      "[youtube] JOejXRRvjms: Looking for automatic captions\n",
      "[info] Writing video subtitles to: subtitle_JOejXRRvjms.en.vtt\n",
      "[youtube] 4b3ePaFKhV4: Downloading webpage\n",
      "[youtube] 4b3ePaFKhV4: Downloading video info webpage\n",
      "[youtube] 4b3ePaFKhV4: Looking for automatic captions\n",
      "[info] Writing video subtitles to: subtitle_4b3ePaFKhV4.en.vtt\n",
      "[youtube] eXZrw0MeDr8: Downloading webpage\n",
      "[youtube] eXZrw0MeDr8: Downloading video info webpage\n",
      "[youtube] eXZrw0MeDr8: Looking for automatic captions\n",
      "[info] Writing video subtitles to: subtitle_eXZrw0MeDr8.en.vtt\n",
      "[youtube] cdCqSj5bNPA: Downloading webpage\n",
      "[youtube] cdCqSj5bNPA: Downloading video info webpage\n",
      "[youtube] cdCqSj5bNPA: Looking for automatic captions\n"
     ]
    },
    {
     "name": "stderr",
     "output_type": "stream",
     "text": [
      "WARNING: Couldn't find automatic captions for cdCqSj5bNPA\n"
     ]
    },
    {
     "name": "stdout",
     "output_type": "stream",
     "text": [
      "No captions for cdCqSj5bNPA\n",
      "[youtube] 2PLGXYD8JA8: Downloading webpage\n",
      "[youtube] 2PLGXYD8JA8: Downloading video info webpage\n",
      "[youtube] 2PLGXYD8JA8: Looking for automatic captions\n",
      "[info] Writing video subtitles to: subtitle_2PLGXYD8JA8.en.vtt\n",
      "[youtube] Mkfkv-e4WtQ: Downloading webpage\n",
      "[youtube] Mkfkv-e4WtQ: Downloading video info webpage\n",
      "[youtube] Mkfkv-e4WtQ: Looking for automatic captions\n",
      "[info] Writing video subtitles to: subtitle_Mkfkv-e4WtQ.en.vtt\n",
      "[youtube] lrt4u5GuBfg: Downloading webpage\n",
      "[youtube] lrt4u5GuBfg: Downloading video info webpage\n",
      "[youtube] lrt4u5GuBfg: Looking for automatic captions\n"
     ]
    },
    {
     "name": "stderr",
     "output_type": "stream",
     "text": [
      "WARNING: Couldn't find automatic captions for lrt4u5GuBfg\n"
     ]
    },
    {
     "name": "stdout",
     "output_type": "stream",
     "text": [
      "[youtube] lrt4u5GuBfg: Downloading MPD manifest\n",
      "[youtube] lrt4u5GuBfg: Downloading MPD manifest\n",
      "No captions for lrt4u5GuBfg\n",
      "[youtube] FTWHHBOxENE: Downloading webpage\n",
      "[youtube] FTWHHBOxENE: Downloading video info webpage\n",
      "[youtube] FTWHHBOxENE: Looking for automatic captions\n",
      "[info] Writing video subtitles to: subtitle_FTWHHBOxENE.en.vtt\n",
      "[youtube] J67FtJzO-f8: Downloading webpage\n",
      "[youtube] J67FtJzO-f8: Downloading video info webpage\n",
      "[youtube] J67FtJzO-f8: Looking for automatic captions\n",
      "[info] Writing video subtitles to: subtitle_J67FtJzO-f8.en.vtt\n",
      "[youtube] tmiqUQFgOxE: Downloading webpage\n",
      "[youtube] tmiqUQFgOxE: Downloading video info webpage\n",
      "[youtube] tmiqUQFgOxE: Looking for automatic captions\n"
     ]
    },
    {
     "name": "stderr",
     "output_type": "stream",
     "text": [
      "WARNING: Couldn't find automatic captions for tmiqUQFgOxE\n"
     ]
    },
    {
     "name": "stdout",
     "output_type": "stream",
     "text": [
      "No captions for tmiqUQFgOxE\n",
      "[youtube] gKvkJkBcQKI: Downloading webpage\n",
      "[youtube] gKvkJkBcQKI: Downloading video info webpage\n",
      "[youtube] gKvkJkBcQKI: Looking for automatic captions\n",
      "[info] Writing video subtitles to: subtitle_gKvkJkBcQKI.en.vtt\n",
      "[youtube] ZfNekhVY7-U: Downloading webpage\n",
      "[youtube] ZfNekhVY7-U: Downloading video info webpage\n",
      "[youtube] ZfNekhVY7-U: Looking for automatic captions\n",
      "[info] Writing video subtitles to: subtitle_ZfNekhVY7-U.en.vtt\n",
      "[youtube] xWEx29UQHAk: Downloading webpage\n",
      "[youtube] xWEx29UQHAk: Downloading video info webpage\n",
      "[youtube] xWEx29UQHAk: Looking for automatic captions\n"
     ]
    },
    {
     "name": "stderr",
     "output_type": "stream",
     "text": [
      "WARNING: Couldn't find automatic captions for xWEx29UQHAk\n"
     ]
    },
    {
     "name": "stdout",
     "output_type": "stream",
     "text": [
      "No captions for xWEx29UQHAk\n",
      "[youtube] uQ4sRxCnNRM: Downloading webpage\n",
      "[youtube] uQ4sRxCnNRM: Downloading video info webpage\n",
      "[youtube] uQ4sRxCnNRM: Looking for automatic captions\n",
      "[info] Writing video subtitles to: subtitle_uQ4sRxCnNRM.en.vtt\n",
      "[youtube] vRz_bTy1s-A: Downloading webpage\n",
      "[youtube] vRz_bTy1s-A: Downloading video info webpage\n",
      "[youtube] vRz_bTy1s-A: Looking for automatic captions\n"
     ]
    },
    {
     "name": "stderr",
     "output_type": "stream",
     "text": [
      "WARNING: Couldn't find automatic captions for vRz_bTy1s-A\n"
     ]
    },
    {
     "name": "stdout",
     "output_type": "stream",
     "text": [
      "No captions for vRz_bTy1s-A\n",
      "[youtube] Hk20KfqiDbg: Downloading webpage\n",
      "[youtube] Hk20KfqiDbg: Downloading video info webpage\n",
      "[youtube] Hk20KfqiDbg: Looking for automatic captions\n",
      "[info] Writing video subtitles to: subtitle_Hk20KfqiDbg.en.vtt\n",
      "[youtube] rQrGw9RIS74: Downloading webpage\n",
      "[youtube] rQrGw9RIS74: Downloading video info webpage\n",
      "[youtube] rQrGw9RIS74: Looking for automatic captions\n",
      "[info] Writing video subtitles to: subtitle_rQrGw9RIS74.en.vtt\n",
      "[youtube] HuFK6kxBaOM: Downloading webpage\n",
      "[youtube] HuFK6kxBaOM: Downloading video info webpage\n",
      "[youtube] HuFK6kxBaOM: Looking for automatic captions\n"
     ]
    },
    {
     "name": "stderr",
     "output_type": "stream",
     "text": [
      "WARNING: Couldn't find automatic captions for HuFK6kxBaOM\n"
     ]
    },
    {
     "name": "stdout",
     "output_type": "stream",
     "text": [
      "No captions for HuFK6kxBaOM\n",
      "[youtube] ZEHCDGTEAwQ: Downloading webpage\n",
      "[youtube] ZEHCDGTEAwQ: Downloading video info webpage\n",
      "[youtube] ZEHCDGTEAwQ: Looking for automatic captions\n",
      "[info] Writing video subtitles to: subtitle_ZEHCDGTEAwQ.en.vtt\n",
      "[youtube] 99Ne0gbr_Lo: Downloading webpage\n",
      "[youtube] 99Ne0gbr_Lo: Downloading video info webpage\n",
      "[youtube] 99Ne0gbr_Lo: Looking for automatic captions\n",
      "[info] Writing video subtitles to: subtitle_99Ne0gbr_Lo.en.vtt\n",
      "[youtube] TavUdmJDdTY: Downloading webpage\n",
      "[youtube] TavUdmJDdTY: Downloading video info webpage\n",
      "[youtube] TavUdmJDdTY: Looking for automatic captions\n",
      "[youtube] TavUdmJDdTY: Downloading MPD manifest\n",
      "[youtube] TavUdmJDdTY: Downloading MPD manifest\n",
      "[info] Writing video subtitles to: subtitle_TavUdmJDdTY.en.vtt\n",
      "[youtube] qqmCrXUUymI: Downloading webpage\n",
      "[youtube] qqmCrXUUymI: Downloading video info webpage\n",
      "[youtube] qqmCrXUUymI: Looking for automatic captions\n",
      "[info] Writing video subtitles to: subtitle_qqmCrXUUymI.en.vtt\n",
      "[youtube] 8S8tiwiVd-k: Downloading webpage\n",
      "[youtube] 8S8tiwiVd-k: Downloading video info webpage\n",
      "[youtube] 8S8tiwiVd-k: Looking for automatic captions\n",
      "[info] Writing video subtitles to: subtitle_8S8tiwiVd-k.en.vtt\n",
      "[youtube] VI1Baxf3aDc: Downloading webpage\n",
      "[youtube] VI1Baxf3aDc: Downloading video info webpage\n",
      "[youtube] VI1Baxf3aDc: Looking for automatic captions\n",
      "[info] Writing video subtitles to: subtitle_VI1Baxf3aDc.en.vtt\n",
      "[youtube] sTNXnHXO9PM: Downloading webpage\n",
      "[youtube] sTNXnHXO9PM: Downloading video info webpage\n",
      "[youtube] sTNXnHXO9PM: Looking for automatic captions\n"
     ]
    },
    {
     "name": "stderr",
     "output_type": "stream",
     "text": [
      "WARNING: Couldn't find automatic captions for sTNXnHXO9PM\n"
     ]
    },
    {
     "name": "stdout",
     "output_type": "stream",
     "text": [
      "[youtube] sTNXnHXO9PM: Downloading MPD manifest\n",
      "[youtube] sTNXnHXO9PM: Downloading MPD manifest\n",
      "No captions for sTNXnHXO9PM\n",
      "[youtube] dW7V9Bb8i38: Downloading webpage\n",
      "[youtube] dW7V9Bb8i38: Downloading video info webpage\n",
      "[youtube] dW7V9Bb8i38: Looking for automatic captions\n",
      "[info] Writing video subtitles to: subtitle_dW7V9Bb8i38.en.vtt\n",
      "[youtube] HAqUgYe2t6M: Downloading webpage\n",
      "[youtube] HAqUgYe2t6M: Downloading video info webpage\n",
      "[youtube] HAqUgYe2t6M: Looking for automatic captions\n"
     ]
    },
    {
     "name": "stderr",
     "output_type": "stream",
     "text": [
      "WARNING: Couldn't find automatic captions for HAqUgYe2t6M\n"
     ]
    },
    {
     "name": "stdout",
     "output_type": "stream",
     "text": [
      "No captions for HAqUgYe2t6M\n",
      "[youtube] S5z1JbeAJiU: Downloading webpage\n",
      "[youtube] S5z1JbeAJiU: Downloading video info webpage\n",
      "[youtube] S5z1JbeAJiU: Looking for automatic captions\n",
      "[info] Writing video subtitles to: subtitle_S5z1JbeAJiU.en.vtt\n",
      "[youtube] jDm7G1ygHBo: Downloading webpage\n",
      "[youtube] jDm7G1ygHBo: Downloading video info webpage\n",
      "[youtube] jDm7G1ygHBo: Looking for automatic captions\n"
     ]
    },
    {
     "name": "stderr",
     "output_type": "stream",
     "text": [
      "WARNING: Couldn't find automatic captions for jDm7G1ygHBo\n"
     ]
    },
    {
     "name": "stdout",
     "output_type": "stream",
     "text": [
      "No captions for jDm7G1ygHBo\n",
      "[youtube] 5R1E0ZfM82o: Downloading webpage\n",
      "[youtube] 5R1E0ZfM82o: Downloading video info webpage\n",
      "[youtube] 5R1E0ZfM82o: Looking for automatic captions\n",
      "[info] Writing video subtitles to: subtitle_5R1E0ZfM82o.en.vtt\n",
      "[youtube] LADQsgToCXQ: Downloading webpage\n",
      "[youtube] LADQsgToCXQ: Downloading video info webpage\n",
      "[youtube] LADQsgToCXQ: Looking for automatic captions\n",
      "[info] Writing video subtitles to: subtitle_LADQsgToCXQ.en.vtt\n",
      "[youtube] a2mt3MGKDEM: Downloading webpage\n",
      "[youtube] a2mt3MGKDEM: Downloading video info webpage\n",
      "[youtube] a2mt3MGKDEM: Looking for automatic captions\n"
     ]
    },
    {
     "name": "stderr",
     "output_type": "stream",
     "text": [
      "WARNING: Couldn't find automatic captions for a2mt3MGKDEM\n"
     ]
    },
    {
     "name": "stdout",
     "output_type": "stream",
     "text": [
      "No captions for a2mt3MGKDEM\n",
      "[youtube] f0wrq47Wai8: Downloading webpage\n",
      "[youtube] f0wrq47Wai8: Downloading video info webpage\n",
      "[youtube] f0wrq47Wai8: Looking for automatic captions\n",
      "[info] Writing video subtitles to: subtitle_f0wrq47Wai8.en.vtt\n",
      "[youtube] ueWDB6CvI9I: Downloading webpage\n",
      "[youtube] ueWDB6CvI9I: Downloading video info webpage\n",
      "[youtube] ueWDB6CvI9I: Looking for automatic captions\n"
     ]
    },
    {
     "name": "stderr",
     "output_type": "stream",
     "text": [
      "WARNING: Couldn't find automatic captions for ueWDB6CvI9I\n"
     ]
    },
    {
     "name": "stdout",
     "output_type": "stream",
     "text": [
      "No captions for ueWDB6CvI9I\n",
      "[youtube] UvkfeoDVcNI: Downloading webpage\n",
      "[youtube] UvkfeoDVcNI: Downloading video info webpage\n",
      "[youtube] UvkfeoDVcNI: Looking for automatic captions\n",
      "[info] Writing video subtitles to: subtitle_UvkfeoDVcNI.en.vtt\n",
      "[youtube] cQQDEFCkVWA: Downloading webpage\n",
      "[youtube] cQQDEFCkVWA: Downloading video info webpage\n",
      "[youtube] cQQDEFCkVWA: Looking for automatic captions\n",
      "[info] Writing video subtitles to: subtitle_cQQDEFCkVWA.en.vtt\n",
      "[youtube] J9S2RHhpCBY: Downloading webpage\n",
      "[youtube] J9S2RHhpCBY: Downloading video info webpage\n",
      "[youtube] J9S2RHhpCBY: Looking for automatic captions\n",
      "[info] Writing video subtitles to: subtitle_J9S2RHhpCBY.en.vtt\n",
      "[youtube] IM-GV2GfqUs: Downloading webpage\n",
      "[youtube] IM-GV2GfqUs: Downloading video info webpage\n",
      "[youtube] IM-GV2GfqUs: Looking for automatic captions\n",
      "[info] Writing video subtitles to: subtitle_IM-GV2GfqUs.en.vtt\n",
      "[youtube] vkUFtWb9HHE: Downloading webpage\n",
      "[youtube] vkUFtWb9HHE: Downloading video info webpage\n",
      "[youtube] vkUFtWb9HHE: Looking for automatic captions\n",
      "[info] Writing video subtitles to: subtitle_vkUFtWb9HHE.en.vtt\n",
      "[youtube] KZHDBaJalAc: Downloading webpage\n",
      "[youtube] KZHDBaJalAc: Downloading video info webpage\n",
      "[youtube] KZHDBaJalAc: Looking for automatic captions\n",
      "[youtube] KZHDBaJalAc: Downloading MPD manifest\n",
      "[youtube] KZHDBaJalAc: Downloading MPD manifest\n",
      "[info] Writing video subtitles to: subtitle_KZHDBaJalAc.en.vtt\n",
      "[youtube] PC4XRPaZAeU: Downloading webpage\n",
      "[youtube] PC4XRPaZAeU: Downloading video info webpage\n",
      "[youtube] PC4XRPaZAeU: Looking for automatic captions\n",
      "[info] Writing video subtitles to: subtitle_PC4XRPaZAeU.en.vtt\n",
      "[youtube] 9vPS0HfGDSc: Downloading webpage\n",
      "[youtube] 9vPS0HfGDSc: Downloading video info webpage\n",
      "[youtube] 9vPS0HfGDSc: Looking for automatic captions\n"
     ]
    },
    {
     "name": "stderr",
     "output_type": "stream",
     "text": [
      "WARNING: Couldn't find automatic captions for 9vPS0HfGDSc\n"
     ]
    },
    {
     "name": "stdout",
     "output_type": "stream",
     "text": [
      "[youtube] 9vPS0HfGDSc: Downloading MPD manifest\n",
      "[youtube] 9vPS0HfGDSc: Downloading MPD manifest\n",
      "No captions for 9vPS0HfGDSc\n",
      "[youtube] UUvQkyZWp4M: Downloading webpage\n",
      "[youtube] UUvQkyZWp4M: Downloading video info webpage\n",
      "[youtube] UUvQkyZWp4M: Looking for automatic captions\n",
      "[info] Writing video subtitles to: subtitle_UUvQkyZWp4M.en.vtt\n",
      "[youtube] oEJJPo6W6Ao: Downloading webpage\n",
      "[youtube] oEJJPo6W6Ao: Downloading video info webpage\n",
      "[youtube] oEJJPo6W6Ao: Looking for automatic captions\n"
     ]
    },
    {
     "name": "stderr",
     "output_type": "stream",
     "text": [
      "WARNING: Couldn't find automatic captions for oEJJPo6W6Ao\n"
     ]
    },
    {
     "name": "stdout",
     "output_type": "stream",
     "text": [
      "[youtube] oEJJPo6W6Ao: Downloading MPD manifest\n",
      "[youtube] oEJJPo6W6Ao: Downloading MPD manifest\n",
      "No captions for oEJJPo6W6Ao\n",
      "[youtube] xDVmQ0Nrt-k: Downloading webpage\n",
      "[youtube] xDVmQ0Nrt-k: Downloading video info webpage\n",
      "[youtube] xDVmQ0Nrt-k: Looking for automatic captions\n",
      "[info] Writing video subtitles to: subtitle_xDVmQ0Nrt-k.en.vtt\n",
      "[youtube] o0RmSeRnE_U: Downloading webpage\n",
      "[youtube] o0RmSeRnE_U: Downloading video info webpage\n",
      "[youtube] o0RmSeRnE_U: Looking for automatic captions\n",
      "[info] Writing video subtitles to: subtitle_o0RmSeRnE_U.en.vtt\n",
      "[youtube] jeOq-xeSGTA: Downloading webpage\n",
      "[youtube] jeOq-xeSGTA: Downloading video info webpage\n",
      "[youtube] jeOq-xeSGTA: Looking for automatic captions\n",
      "[info] Writing video subtitles to: subtitle_jeOq-xeSGTA.en.vtt\n",
      "[youtube] 5f2o86kv1v4: Downloading webpage\n",
      "[youtube] 5f2o86kv1v4: Downloading video info webpage\n",
      "[youtube] 5f2o86kv1v4: Looking for automatic captions\n"
     ]
    },
    {
     "name": "stderr",
     "output_type": "stream",
     "text": [
      "WARNING: Couldn't find automatic captions for 5f2o86kv1v4\n"
     ]
    },
    {
     "name": "stdout",
     "output_type": "stream",
     "text": [
      "No captions for 5f2o86kv1v4\n",
      "[youtube] FYJTkPSftpY: Downloading webpage\n",
      "[youtube] FYJTkPSftpY: Downloading video info webpage\n",
      "[youtube] FYJTkPSftpY: Looking for automatic captions\n",
      "[info] Writing video subtitles to: subtitle_FYJTkPSftpY.en.vtt\n",
      "[youtube] -XXgQpqx_y0: Downloading webpage\n",
      "[youtube] -XXgQpqx_y0: Downloading video info webpage\n",
      "[youtube] -XXgQpqx_y0: Looking for automatic captions\n",
      "[info] Writing video subtitles to: subtitle_-XXgQpqx_y0.en.vtt\n",
      "[youtube] bOAbdBKeRNU: Downloading webpage\n",
      "[youtube] bOAbdBKeRNU: Downloading video info webpage\n",
      "[youtube] bOAbdBKeRNU: Looking for automatic captions\n"
     ]
    },
    {
     "name": "stderr",
     "output_type": "stream",
     "text": [
      "WARNING: Couldn't find automatic captions for bOAbdBKeRNU\n"
     ]
    },
    {
     "name": "stdout",
     "output_type": "stream",
     "text": [
      "No captions for bOAbdBKeRNU\n",
      "[youtube] Fvuf1AjxP60: Downloading webpage\n",
      "[youtube] Fvuf1AjxP60: Downloading video info webpage\n",
      "[youtube] Fvuf1AjxP60: Looking for automatic captions\n",
      "[info] Writing video subtitles to: subtitle_Fvuf1AjxP60.en.vtt\n",
      "[youtube] 4AcyYEyaXv8: Downloading webpage\n",
      "[youtube] 4AcyYEyaXv8: Downloading video info webpage\n",
      "[youtube] 4AcyYEyaXv8: Looking for automatic captions\n"
     ]
    },
    {
     "name": "stderr",
     "output_type": "stream",
     "text": [
      "WARNING: Couldn't find automatic captions for 4AcyYEyaXv8\n"
     ]
    },
    {
     "name": "stdout",
     "output_type": "stream",
     "text": [
      "No captions for 4AcyYEyaXv8\n",
      "[youtube] oyT12rPEbYU: Downloading webpage\n",
      "[youtube] oyT12rPEbYU: Downloading video info webpage\n",
      "[youtube] oyT12rPEbYU: Looking for automatic captions\n"
     ]
    },
    {
     "name": "stderr",
     "output_type": "stream",
     "text": [
      "WARNING: Couldn't find automatic captions for oyT12rPEbYU\n"
     ]
    },
    {
     "name": "stdout",
     "output_type": "stream",
     "text": [
      "No captions for oyT12rPEbYU\n",
      "[youtube] 2tespvYhyRk: Downloading webpage\n",
      "[youtube] 2tespvYhyRk: Downloading video info webpage\n",
      "[youtube] 2tespvYhyRk: Looking for automatic captions\n"
     ]
    },
    {
     "name": "stderr",
     "output_type": "stream",
     "text": [
      "WARNING: Couldn't find automatic captions for 2tespvYhyRk\n"
     ]
    },
    {
     "name": "stdout",
     "output_type": "stream",
     "text": [
      "[youtube] 2tespvYhyRk: Downloading MPD manifest\n",
      "[youtube] 2tespvYhyRk: Downloading MPD manifest\n",
      "No captions for 2tespvYhyRk\n",
      "[youtube] h5w-Mmq52Nk: Downloading webpage\n",
      "[youtube] h5w-Mmq52Nk: Downloading video info webpage\n",
      "[youtube] h5w-Mmq52Nk: Looking for automatic captions\n"
     ]
    },
    {
     "name": "stderr",
     "output_type": "stream",
     "text": [
      "WARNING: Couldn't find automatic captions for h5w-Mmq52Nk\n"
     ]
    },
    {
     "name": "stdout",
     "output_type": "stream",
     "text": [
      "No captions for h5w-Mmq52Nk\n",
      "[youtube] UiN9oqpKYMo: Downloading webpage\n",
      "[youtube] UiN9oqpKYMo: Downloading video info webpage\n",
      "[youtube] UiN9oqpKYMo: Looking for automatic captions\n"
     ]
    },
    {
     "name": "stderr",
     "output_type": "stream",
     "text": [
      "WARNING: Couldn't find automatic captions for UiN9oqpKYMo\n"
     ]
    },
    {
     "name": "stdout",
     "output_type": "stream",
     "text": [
      "No captions for UiN9oqpKYMo\n",
      "[youtube] BpHszYQVSGA: Downloading webpage\n",
      "[youtube] BpHszYQVSGA: Downloading video info webpage\n",
      "[youtube] BpHszYQVSGA: Looking for automatic captions\n",
      "[info] Writing video subtitles to: subtitle_BpHszYQVSGA.en.vtt\n",
      "[youtube] f-PX85KDFm0: Downloading webpage\n",
      "[youtube] f-PX85KDFm0: Downloading video info webpage\n",
      "[youtube] f-PX85KDFm0: Looking for automatic captions\n"
     ]
    },
    {
     "name": "stderr",
     "output_type": "stream",
     "text": [
      "WARNING: Couldn't find automatic captions for f-PX85KDFm0\n"
     ]
    },
    {
     "name": "stdout",
     "output_type": "stream",
     "text": [
      "No captions for f-PX85KDFm0\n",
      "[youtube] xElWO9s2Nn0: Downloading webpage\n",
      "[youtube] xElWO9s2Nn0: Downloading video info webpage\n",
      "[youtube] xElWO9s2Nn0: Looking for automatic captions\n",
      "[youtube] xElWO9s2Nn0: Downloading MPD manifest\n",
      "[youtube] xElWO9s2Nn0: Downloading MPD manifest\n",
      "[info] Writing video subtitles to: subtitle_xElWO9s2Nn0.en.vtt\n",
      "[youtube] rI52xMdoaao: Downloading webpage\n",
      "[youtube] rI52xMdoaao: Downloading video info webpage\n",
      "[youtube] rI52xMdoaao: Looking for automatic captions\n",
      "[youtube] rI52xMdoaao: Downloading MPD manifest\n",
      "[youtube] rI52xMdoaao: Downloading MPD manifest\n",
      "[info] Writing video subtitles to: subtitle_rI52xMdoaao.en.vtt\n",
      "[youtube] U9ObzANPO-s: Downloading webpage\n",
      "[youtube] U9ObzANPO-s: Downloading video info webpage\n",
      "[youtube] U9ObzANPO-s: Looking for automatic captions\n",
      "[info] Writing video subtitles to: subtitle_U9ObzANPO-s.en.vtt\n",
      "[youtube] hX28UC5AIo0: Downloading webpage\n",
      "[youtube] hX28UC5AIo0: Downloading video info webpage\n",
      "[youtube] hX28UC5AIo0: Looking for automatic captions\n"
     ]
    },
    {
     "name": "stderr",
     "output_type": "stream",
     "text": [
      "WARNING: Couldn't find automatic captions for hX28UC5AIo0\n"
     ]
    },
    {
     "name": "stdout",
     "output_type": "stream",
     "text": [
      "[youtube] hX28UC5AIo0: Downloading MPD manifest\n",
      "[youtube] hX28UC5AIo0: Downloading MPD manifest\n",
      "No captions for hX28UC5AIo0\n",
      "[youtube] jcILRhKt4ss: Downloading webpage\n",
      "[youtube] jcILRhKt4ss: Downloading video info webpage\n",
      "[youtube] jcILRhKt4ss: Looking for automatic captions\n",
      "[info] Writing video subtitles to: subtitle_jcILRhKt4ss.en.vtt\n",
      "[youtube] ZjZbJovAgQ0: Downloading webpage\n",
      "[youtube] ZjZbJovAgQ0: Downloading video info webpage\n",
      "[youtube] ZjZbJovAgQ0: Looking for automatic captions\n",
      "[info] Writing video subtitles to: subtitle_ZjZbJovAgQ0.en.vtt\n",
      "[youtube] 2704Hg9KCbI: Downloading webpage\n",
      "[youtube] 2704Hg9KCbI: Downloading video info webpage\n",
      "[youtube] 2704Hg9KCbI: Looking for automatic captions\n",
      "[info] Writing video subtitles to: subtitle_2704Hg9KCbI.en.vtt\n",
      "[youtube] OdZ35eaK7S4: Downloading webpage\n",
      "[youtube] OdZ35eaK7S4: Downloading video info webpage\n",
      "[youtube] OdZ35eaK7S4: Looking for automatic captions\n",
      "[youtube] OdZ35eaK7S4: Downloading MPD manifest\n",
      "[youtube] OdZ35eaK7S4: Downloading MPD manifest\n",
      "[info] Writing video subtitles to: subtitle_OdZ35eaK7S4.en.vtt\n",
      "[youtube] GQ2QpRF4gcg: Downloading webpage\n",
      "[youtube] GQ2QpRF4gcg: Downloading video info webpage\n",
      "[youtube] GQ2QpRF4gcg: Looking for automatic captions\n"
     ]
    },
    {
     "name": "stderr",
     "output_type": "stream",
     "text": [
      "WARNING: Couldn't find automatic captions for GQ2QpRF4gcg\n"
     ]
    },
    {
     "name": "stdout",
     "output_type": "stream",
     "text": [
      "No captions for GQ2QpRF4gcg\n",
      "[youtube] pKxM0QGJOlU: Downloading webpage\n",
      "[youtube] pKxM0QGJOlU: Downloading video info webpage\n",
      "[youtube] pKxM0QGJOlU: Looking for automatic captions\n",
      "[info] Writing video subtitles to: subtitle_pKxM0QGJOlU.en.vtt\n",
      "[youtube] CA3fNb_kd5g: Downloading webpage\n",
      "[youtube] CA3fNb_kd5g: Downloading video info webpage\n",
      "[youtube] CA3fNb_kd5g: Looking for automatic captions\n",
      "[info] Writing video subtitles to: subtitle_CA3fNb_kd5g.en.vtt\n",
      "[youtube] pLmRmagR6uw: Downloading webpage\n",
      "[youtube] pLmRmagR6uw: Downloading video info webpage\n",
      "[youtube] pLmRmagR6uw: Looking for automatic captions\n",
      "[info] Writing video subtitles to: subtitle_pLmRmagR6uw.en.vtt\n",
      "[youtube] b76iXLPaGZk: Downloading webpage\n",
      "[youtube] b76iXLPaGZk: Downloading video info webpage\n",
      "[youtube] b76iXLPaGZk: Looking for automatic captions\n",
      "[info] Writing video subtitles to: subtitle_b76iXLPaGZk.en.vtt\n",
      "[youtube] rOHdP1zaSOY: Downloading webpage\n",
      "[youtube] rOHdP1zaSOY: Downloading video info webpage\n",
      "[youtube] rOHdP1zaSOY: Looking for automatic captions\n"
     ]
    },
    {
     "name": "stderr",
     "output_type": "stream",
     "text": [
      "WARNING: Couldn't find automatic captions for rOHdP1zaSOY\n"
     ]
    },
    {
     "name": "stdout",
     "output_type": "stream",
     "text": [
      "No captions for rOHdP1zaSOY\n",
      "[youtube] 4UmIR1iEK5A: Downloading webpage\n",
      "[youtube] 4UmIR1iEK5A: Downloading video info webpage\n",
      "[youtube] 4UmIR1iEK5A: Looking for automatic captions\n",
      "[info] Writing video subtitles to: subtitle_4UmIR1iEK5A.en.vtt\n",
      "[youtube] A7CY_ckgpjo: Downloading webpage\n",
      "[youtube] A7CY_ckgpjo: Downloading video info webpage\n",
      "[youtube] A7CY_ckgpjo: Looking for automatic captions\n",
      "[info] Writing video subtitles to: subtitle_A7CY_ckgpjo.en.vtt\n",
      "[youtube] Hhxkn81qRa0: Downloading webpage\n",
      "[youtube] Hhxkn81qRa0: Downloading video info webpage\n",
      "[youtube] Hhxkn81qRa0: Looking for automatic captions\n",
      "[youtube] Hhxkn81qRa0: Downloading MPD manifest\n",
      "[youtube] Hhxkn81qRa0: Downloading MPD manifest\n",
      "[info] Writing video subtitles to: subtitle_Hhxkn81qRa0.en.vtt\n",
      "[youtube] PcViRKO2hwU: Downloading webpage\n",
      "[youtube] PcViRKO2hwU: Downloading video info webpage\n",
      "[youtube] PcViRKO2hwU: Looking for automatic captions\n",
      "[info] Writing video subtitles to: subtitle_PcViRKO2hwU.en.vtt\n",
      "[youtube] tS0hBz2uZwE: Downloading webpage\n",
      "[youtube] tS0hBz2uZwE: Downloading video info webpage\n",
      "[youtube] tS0hBz2uZwE: Looking for automatic captions\n"
     ]
    },
    {
     "name": "stderr",
     "output_type": "stream",
     "text": [
      "WARNING: Couldn't find automatic captions for tS0hBz2uZwE\n"
     ]
    },
    {
     "name": "stdout",
     "output_type": "stream",
     "text": [
      "No captions for tS0hBz2uZwE\n",
      "[youtube] Cp1dX5FHWBE: Downloading webpage\n",
      "[youtube] Cp1dX5FHWBE: Downloading video info webpage\n",
      "[youtube] Cp1dX5FHWBE: Looking for automatic captions\n",
      "[info] Writing video subtitles to: subtitle_Cp1dX5FHWBE.en.vtt\n",
      "[youtube] Iq1_S72aHOQ: Downloading webpage\n",
      "[youtube] Iq1_S72aHOQ: Downloading video info webpage\n",
      "[youtube] Iq1_S72aHOQ: Looking for automatic captions\n",
      "[info] Writing video subtitles to: subtitle_Iq1_S72aHOQ.en.vtt\n",
      "[youtube] 09zRaLA37Bk: Downloading webpage\n",
      "[youtube] 09zRaLA37Bk: Downloading video info webpage\n",
      "[youtube] 09zRaLA37Bk: Looking for automatic captions\n",
      "[info] Writing video subtitles to: subtitle_09zRaLA37Bk.en.vtt\n",
      "[youtube] 7a6D2qwax-s: Downloading webpage\n",
      "[youtube] 7a6D2qwax-s: Downloading video info webpage\n",
      "[youtube] 7a6D2qwax-s: Looking for automatic captions\n",
      "[youtube] 7a6D2qwax-s: Downloading MPD manifest\n",
      "[youtube] 7a6D2qwax-s: Downloading MPD manifest\n",
      "[info] Writing video subtitles to: subtitle_7a6D2qwax-s.en.vtt\n",
      "[youtube] n4M1cjDs7zY: Downloading webpage\n",
      "[youtube] n4M1cjDs7zY: Downloading video info webpage\n",
      "[youtube] n4M1cjDs7zY: Looking for automatic captions\n"
     ]
    },
    {
     "name": "stderr",
     "output_type": "stream",
     "text": [
      "WARNING: Couldn't find automatic captions for n4M1cjDs7zY\n"
     ]
    },
    {
     "name": "stdout",
     "output_type": "stream",
     "text": [
      "[youtube] n4M1cjDs7zY: Downloading MPD manifest\n",
      "[youtube] n4M1cjDs7zY: Downloading MPD manifest\n",
      "No captions for n4M1cjDs7zY\n",
      "[youtube] W6fTQD71bVU: Downloading webpage\n",
      "[youtube] W6fTQD71bVU: Downloading video info webpage\n",
      "[youtube] W6fTQD71bVU: Looking for automatic captions\n",
      "[info] Writing video subtitles to: subtitle_W6fTQD71bVU.en.vtt\n",
      "[youtube] Cm9tezFU9V4: Downloading webpage\n",
      "[youtube] Cm9tezFU9V4: Downloading video info webpage\n",
      "[youtube] Cm9tezFU9V4: Looking for automatic captions\n",
      "[info] Writing video subtitles to: subtitle_Cm9tezFU9V4.en.vtt\n",
      "[youtube] opNYcfpWQcc: Downloading webpage\n",
      "[youtube] opNYcfpWQcc: Downloading video info webpage\n",
      "[youtube] opNYcfpWQcc: Looking for automatic captions\n"
     ]
    },
    {
     "name": "stderr",
     "output_type": "stream",
     "text": [
      "WARNING: Couldn't find automatic captions for opNYcfpWQcc\n"
     ]
    },
    {
     "name": "stdout",
     "output_type": "stream",
     "text": [
      "[youtube] opNYcfpWQcc: Downloading MPD manifest\n",
      "[youtube] opNYcfpWQcc: Downloading MPD manifest\n",
      "No captions for opNYcfpWQcc\n",
      "[youtube] WkPH1tumNp8: Downloading webpage\n",
      "[youtube] WkPH1tumNp8: Downloading video info webpage\n",
      "[youtube] WkPH1tumNp8: Looking for automatic captions\n",
      "[info] Writing video subtitles to: subtitle_WkPH1tumNp8.en.vtt\n",
      "[youtube] HijmHLTMh80: Downloading webpage\n",
      "[youtube] HijmHLTMh80: Downloading video info webpage\n",
      "[youtube] HijmHLTMh80: Looking for automatic captions\n",
      "[info] Writing video subtitles to: subtitle_HijmHLTMh80.en.vtt\n",
      "[youtube] _SbbyYjY9Jg: Downloading webpage\n",
      "[youtube] _SbbyYjY9Jg: Downloading video info webpage\n",
      "[youtube] _SbbyYjY9Jg: Looking for automatic captions\n",
      "[info] Writing video subtitles to: subtitle__SbbyYjY9Jg.en.vtt\n",
      "[youtube] tIb3wl0rKms: Downloading webpage\n",
      "[youtube] tIb3wl0rKms: Downloading video info webpage\n",
      "[youtube] tIb3wl0rKms: Looking for automatic captions\n"
     ]
    },
    {
     "name": "stderr",
     "output_type": "stream",
     "text": [
      "WARNING: Couldn't find automatic captions for tIb3wl0rKms\n"
     ]
    },
    {
     "name": "stdout",
     "output_type": "stream",
     "text": [
      "No captions for tIb3wl0rKms\n",
      "[youtube] ujfGD6lWjtg: Downloading webpage\n",
      "[youtube] ujfGD6lWjtg: Downloading video info webpage\n",
      "[youtube] ujfGD6lWjtg: Looking for automatic captions\n",
      "[info] Writing video subtitles to: subtitle_ujfGD6lWjtg.en.vtt\n",
      "[youtube] FdK8v0gZVUQ: Downloading webpage\n",
      "[youtube] FdK8v0gZVUQ: Downloading video info webpage\n",
      "[youtube] FdK8v0gZVUQ: Looking for automatic captions\n",
      "[youtube] FdK8v0gZVUQ: Downloading MPD manifest\n",
      "[youtube] FdK8v0gZVUQ: Downloading MPD manifest\n",
      "[info] Writing video subtitles to: subtitle_FdK8v0gZVUQ.en.vtt\n",
      "[youtube] Ail209YeOzQ: Downloading webpage\n",
      "[youtube] Ail209YeOzQ: Downloading video info webpage\n",
      "[youtube] Ail209YeOzQ: Looking for automatic captions\n",
      "[info] Writing video subtitles to: subtitle_Ail209YeOzQ.en.vtt\n",
      "[youtube] ff3c2XhNKKI: Downloading webpage\n",
      "[youtube] ff3c2XhNKKI: Downloading video info webpage\n",
      "[youtube] ff3c2XhNKKI: Looking for automatic captions\n"
     ]
    },
    {
     "name": "stderr",
     "output_type": "stream",
     "text": [
      "WARNING: Couldn't find automatic captions for ff3c2XhNKKI\n"
     ]
    },
    {
     "name": "stdout",
     "output_type": "stream",
     "text": [
      "No captions for ff3c2XhNKKI\n",
      "[youtube] Fg2oZZEzm5o: Downloading webpage\n",
      "[youtube] Fg2oZZEzm5o: Downloading video info webpage\n",
      "[youtube] Fg2oZZEzm5o: Looking for automatic captions\n",
      "[info] Writing video subtitles to: subtitle_Fg2oZZEzm5o.en.vtt\n",
      "[youtube] 4A9AmLa0fxc: Downloading webpage\n",
      "[youtube] 4A9AmLa0fxc: Downloading video info webpage\n",
      "[youtube] 4A9AmLa0fxc: Looking for automatic captions\n",
      "[info] Writing video subtitles to: subtitle_4A9AmLa0fxc.en.vtt\n",
      "[youtube] MOOV1QQqJ4Q: Downloading webpage\n",
      "[youtube] MOOV1QQqJ4Q: Downloading video info webpage\n",
      "[youtube] MOOV1QQqJ4Q: Looking for automatic captions\n",
      "[info] Writing video subtitles to: subtitle_MOOV1QQqJ4Q.en.vtt\n",
      "[youtube] A-uayuRIvSE: Downloading webpage\n",
      "[youtube] A-uayuRIvSE: Downloading video info webpage\n",
      "[youtube] A-uayuRIvSE: Looking for automatic captions\n",
      "[info] Writing video subtitles to: subtitle_A-uayuRIvSE.en.vtt\n",
      "[youtube] S6EwONxqFz0: Downloading webpage\n",
      "[youtube] S6EwONxqFz0: Downloading video info webpage\n",
      "[youtube] S6EwONxqFz0: Looking for automatic captions\n"
     ]
    },
    {
     "name": "stderr",
     "output_type": "stream",
     "text": [
      "WARNING: Couldn't find automatic captions for S6EwONxqFz0\n"
     ]
    },
    {
     "name": "stdout",
     "output_type": "stream",
     "text": [
      "No captions for S6EwONxqFz0\n",
      "[youtube] BF_5KwOjsY4: Downloading webpage\n",
      "[youtube] BF_5KwOjsY4: Downloading video info webpage\n",
      "[youtube] BF_5KwOjsY4: Looking for automatic captions\n",
      "[info] Writing video subtitles to: subtitle_BF_5KwOjsY4.en.vtt\n",
      "[youtube] sx2bA2cKVvM: Downloading webpage\n",
      "[youtube] sx2bA2cKVvM: Downloading video info webpage\n",
      "[youtube] sx2bA2cKVvM: Looking for automatic captions\n"
     ]
    },
    {
     "name": "stderr",
     "output_type": "stream",
     "text": [
      "WARNING: Couldn't find automatic captions for sx2bA2cKVvM\n"
     ]
    },
    {
     "name": "stdout",
     "output_type": "stream",
     "text": [
      "[youtube] sx2bA2cKVvM: Downloading MPD manifest\n",
      "[youtube] sx2bA2cKVvM: Downloading MPD manifest\n",
      "No captions for sx2bA2cKVvM\n",
      "[youtube] zjx_5aq7mEY: Downloading webpage\n",
      "[youtube] zjx_5aq7mEY: Downloading video info webpage\n",
      "[youtube] zjx_5aq7mEY: Looking for automatic captions\n",
      "[info] Writing video subtitles to: subtitle_zjx_5aq7mEY.en.vtt\n",
      "[youtube] JvHxKNVjN4U: Downloading webpage\n",
      "[youtube] JvHxKNVjN4U: Downloading video info webpage\n",
      "[youtube] JvHxKNVjN4U: Looking for automatic captions\n",
      "[info] Writing video subtitles to: subtitle_JvHxKNVjN4U.en.vtt\n",
      "[youtube] wYG3jifNbxY: Downloading webpage\n",
      "[youtube] wYG3jifNbxY: Downloading video info webpage\n",
      "[youtube] wYG3jifNbxY: Looking for automatic captions\n",
      "[info] Writing video subtitles to: subtitle_wYG3jifNbxY.en.vtt\n",
      "[youtube] UvO2qs8TYkc: Downloading webpage\n",
      "[youtube] UvO2qs8TYkc: Downloading video info webpage\n",
      "[youtube] UvO2qs8TYkc: Looking for automatic captions\n"
     ]
    },
    {
     "name": "stderr",
     "output_type": "stream",
     "text": [
      "WARNING: Couldn't find automatic captions for UvO2qs8TYkc\n"
     ]
    },
    {
     "name": "stdout",
     "output_type": "stream",
     "text": [
      "No captions for UvO2qs8TYkc\n",
      "[youtube] ojDYmRqiQEo: Downloading webpage\n",
      "[youtube] ojDYmRqiQEo: Downloading video info webpage\n",
      "[youtube] ojDYmRqiQEo: Looking for automatic captions\n",
      "[info] Writing video subtitles to: subtitle_ojDYmRqiQEo.en.vtt\n",
      "[youtube] _6pFNr2HW2A: Downloading webpage\n",
      "[youtube] _6pFNr2HW2A: Downloading video info webpage\n",
      "[youtube] _6pFNr2HW2A: Looking for automatic captions\n",
      "[info] Writing video subtitles to: subtitle__6pFNr2HW2A.en.vtt\n",
      "[youtube] QSadwtBdUt4: Downloading webpage\n",
      "[youtube] QSadwtBdUt4: Downloading video info webpage\n",
      "[youtube] QSadwtBdUt4: Looking for automatic captions\n",
      "[info] Writing video subtitles to: subtitle_QSadwtBdUt4.en.vtt\n",
      "[youtube] V7Q7OR1fDk8: Downloading webpage\n",
      "[youtube] V7Q7OR1fDk8: Downloading video info webpage\n",
      "[youtube] V7Q7OR1fDk8: Looking for automatic captions\n",
      "[info] Writing video subtitles to: subtitle_V7Q7OR1fDk8.en.vtt\n",
      "[youtube] cvtApctVlRQ: Downloading webpage\n",
      "[youtube] cvtApctVlRQ: Downloading video info webpage\n",
      "[youtube] cvtApctVlRQ: Looking for automatic captions\n",
      "[info] Writing video subtitles to: subtitle_cvtApctVlRQ.en.vtt\n",
      "[youtube] llH1NDxzmt8: Downloading webpage\n",
      "[youtube] llH1NDxzmt8: Downloading video info webpage\n",
      "[youtube] llH1NDxzmt8: Looking for automatic captions\n"
     ]
    },
    {
     "name": "stderr",
     "output_type": "stream",
     "text": [
      "WARNING: Couldn't find automatic captions for llH1NDxzmt8\n"
     ]
    },
    {
     "name": "stdout",
     "output_type": "stream",
     "text": [
      "No captions for llH1NDxzmt8\n",
      "[youtube] t2Ck7Ttmf2I: Downloading webpage\n",
      "[youtube] t2Ck7Ttmf2I: Downloading video info webpage\n",
      "[youtube] t2Ck7Ttmf2I: Looking for automatic captions\n"
     ]
    },
    {
     "name": "stderr",
     "output_type": "stream",
     "text": [
      "WARNING: Couldn't find automatic captions for t2Ck7Ttmf2I\n"
     ]
    },
    {
     "name": "stdout",
     "output_type": "stream",
     "text": [
      "No captions for t2Ck7Ttmf2I\n",
      "[youtube] pRMkS893JOg: Downloading webpage\n",
      "[youtube] pRMkS893JOg: Downloading video info webpage\n",
      "[youtube] pRMkS893JOg: Looking for automatic captions\n",
      "[info] Writing video subtitles to: subtitle_pRMkS893JOg.en.vtt\n",
      "[youtube] Ku90CW3Tpmg: Downloading webpage\n",
      "[youtube] Ku90CW3Tpmg: Downloading video info webpage\n",
      "[youtube] Ku90CW3Tpmg: Looking for automatic captions\n",
      "[youtube] Ku90CW3Tpmg: Downloading MPD manifest\n",
      "[youtube] Ku90CW3Tpmg: Downloading MPD manifest\n",
      "[info] Writing video subtitles to: subtitle_Ku90CW3Tpmg.en.vtt\n",
      "[youtube] oHCk2vem_Nw: Downloading webpage\n",
      "[youtube] oHCk2vem_Nw: Downloading video info webpage\n",
      "[youtube] oHCk2vem_Nw: Looking for automatic captions\n",
      "[youtube] oHCk2vem_Nw: Downloading MPD manifest\n",
      "[youtube] oHCk2vem_Nw: Downloading MPD manifest\n",
      "[info] Writing video subtitles to: subtitle_oHCk2vem_Nw.en.vtt\n",
      "[youtube] S-OssOezvtE: Downloading webpage\n",
      "[youtube] S-OssOezvtE: Downloading video info webpage\n",
      "[youtube] S-OssOezvtE: Looking for automatic captions\n",
      "[info] Writing video subtitles to: subtitle_S-OssOezvtE.en.vtt\n",
      "[youtube] brN3kaotiz8: Downloading webpage\n",
      "[youtube] brN3kaotiz8: Downloading video info webpage\n",
      "[youtube] brN3kaotiz8: Looking for automatic captions\n",
      "[info] Writing video subtitles to: subtitle_brN3kaotiz8.en.vtt\n",
      "[youtube] C2ueP3AwUGw: Downloading webpage\n",
      "[youtube] C2ueP3AwUGw: Downloading video info webpage\n",
      "[youtube] C2ueP3AwUGw: Looking for automatic captions\n",
      "[info] Writing video subtitles to: subtitle_C2ueP3AwUGw.en.vtt\n",
      "[youtube] pUMcD4BwJfw: Downloading webpage\n",
      "[youtube] pUMcD4BwJfw: Downloading video info webpage\n",
      "[youtube] pUMcD4BwJfw: Looking for automatic captions\n"
     ]
    },
    {
     "name": "stderr",
     "output_type": "stream",
     "text": [
      "WARNING: Couldn't find automatic captions for pUMcD4BwJfw\n"
     ]
    },
    {
     "name": "stdout",
     "output_type": "stream",
     "text": [
      "[youtube] pUMcD4BwJfw: Downloading MPD manifest\n",
      "[youtube] pUMcD4BwJfw: Downloading MPD manifest\n",
      "No captions for pUMcD4BwJfw\n",
      "[youtube] hSuZIzjaIps: Downloading webpage\n",
      "[youtube] hSuZIzjaIps: Downloading video info webpage\n",
      "[youtube] hSuZIzjaIps: Looking for automatic captions\n",
      "[info] Writing video subtitles to: subtitle_hSuZIzjaIps.en.vtt\n",
      "[youtube] REtKxxR3q1g: Downloading webpage\n",
      "[youtube] REtKxxR3q1g: Downloading video info webpage\n",
      "[youtube] REtKxxR3q1g: Looking for automatic captions\n",
      "[youtube] REtKxxR3q1g: Downloading MPD manifest\n",
      "[youtube] REtKxxR3q1g: Downloading MPD manifest\n",
      "[info] Writing video subtitles to: subtitle_REtKxxR3q1g.en.vtt\n",
      "[youtube] AfwB5TgRbYE: Downloading webpage\n",
      "[youtube] AfwB5TgRbYE: Downloading video info webpage\n",
      "[youtube] AfwB5TgRbYE: Looking for automatic captions\n"
     ]
    },
    {
     "name": "stderr",
     "output_type": "stream",
     "text": [
      "WARNING: Couldn't find automatic captions for AfwB5TgRbYE\n"
     ]
    },
    {
     "name": "stdout",
     "output_type": "stream",
     "text": [
      "No captions for AfwB5TgRbYE\n",
      "[youtube] WZRROPz2n5o: Downloading webpage\n",
      "[youtube] WZRROPz2n5o: Downloading video info webpage\n",
      "[youtube] WZRROPz2n5o: Looking for automatic captions\n",
      "[info] Writing video subtitles to: subtitle_WZRROPz2n5o.en.vtt\n",
      "[youtube] -__kdrPYvyw: Downloading webpage\n",
      "[youtube] -__kdrPYvyw: Downloading video info webpage\n",
      "[youtube] -__kdrPYvyw: Looking for automatic captions\n"
     ]
    },
    {
     "name": "stderr",
     "output_type": "stream",
     "text": [
      "WARNING: Couldn't find automatic captions for -__kdrPYvyw\n"
     ]
    },
    {
     "name": "stdout",
     "output_type": "stream",
     "text": [
      "[youtube] -__kdrPYvyw: Downloading MPD manifest\n",
      "[youtube] -__kdrPYvyw: Downloading MPD manifest\n",
      "No captions for -__kdrPYvyw\n",
      "[youtube] yFvDJn9Hs9M: Downloading webpage\n",
      "[youtube] yFvDJn9Hs9M: Downloading video info webpage\n",
      "[youtube] yFvDJn9Hs9M: Looking for automatic captions\n"
     ]
    },
    {
     "name": "stderr",
     "output_type": "stream",
     "text": [
      "WARNING: Couldn't find automatic captions for yFvDJn9Hs9M\n"
     ]
    },
    {
     "name": "stdout",
     "output_type": "stream",
     "text": [
      "[youtube] yFvDJn9Hs9M: Downloading MPD manifest\n",
      "[youtube] yFvDJn9Hs9M: Downloading MPD manifest\n",
      "No captions for yFvDJn9Hs9M\n",
      "[youtube] 5MXxmnJN8eg: Downloading webpage\n",
      "[youtube] 5MXxmnJN8eg: Downloading video info webpage\n",
      "[youtube] 5MXxmnJN8eg: Looking for automatic captions\n"
     ]
    },
    {
     "name": "stderr",
     "output_type": "stream",
     "text": [
      "WARNING: Couldn't find automatic captions for 5MXxmnJN8eg\n"
     ]
    },
    {
     "name": "stdout",
     "output_type": "stream",
     "text": [
      "No captions for 5MXxmnJN8eg\n",
      "[youtube] yFeUEYfqjMk: Downloading webpage\n",
      "[youtube] yFeUEYfqjMk: Downloading video info webpage\n",
      "[youtube] yFeUEYfqjMk: Looking for automatic captions\n",
      "[info] Writing video subtitles to: subtitle_yFeUEYfqjMk.en.vtt\n",
      "[youtube] VUcuMa8x1s0: Downloading webpage\n",
      "[youtube] VUcuMa8x1s0: Downloading video info webpage\n",
      "[youtube] VUcuMa8x1s0: Looking for automatic captions\n",
      "[info] Writing video subtitles to: subtitle_VUcuMa8x1s0.en.vtt\n",
      "[youtube] T3zTUeF-CzA: Downloading webpage\n",
      "[youtube] T3zTUeF-CzA: Downloading video info webpage\n",
      "[youtube] T3zTUeF-CzA: Looking for automatic captions\n"
     ]
    },
    {
     "name": "stderr",
     "output_type": "stream",
     "text": [
      "WARNING: Couldn't find automatic captions for T3zTUeF-CzA\n"
     ]
    },
    {
     "name": "stdout",
     "output_type": "stream",
     "text": [
      "No captions for T3zTUeF-CzA\n",
      "[youtube] RxxT5rbcSwc: Downloading webpage\n",
      "[youtube] RxxT5rbcSwc: Downloading video info webpage\n",
      "[youtube] RxxT5rbcSwc: Looking for automatic captions\n",
      "[info] Writing video subtitles to: subtitle_RxxT5rbcSwc.en.vtt\n",
      "[youtube] VrGNfD9pmzI: Downloading webpage\n",
      "[youtube] VrGNfD9pmzI: Downloading video info webpage\n",
      "[youtube] VrGNfD9pmzI: Looking for automatic captions\n",
      "[info] Writing video subtitles to: subtitle_VrGNfD9pmzI.en.vtt\n",
      "[youtube] XvruNo-M3X8: Downloading webpage\n",
      "[youtube] XvruNo-M3X8: Downloading video info webpage\n",
      "[youtube] XvruNo-M3X8: Looking for automatic captions\n"
     ]
    },
    {
     "name": "stderr",
     "output_type": "stream",
     "text": [
      "WARNING: Couldn't find automatic captions for XvruNo-M3X8\n"
     ]
    },
    {
     "name": "stdout",
     "output_type": "stream",
     "text": [
      "No captions for XvruNo-M3X8\n",
      "[youtube] XTPr2pqmQRk: Downloading webpage\n",
      "[youtube] XTPr2pqmQRk: Downloading video info webpage\n",
      "[youtube] XTPr2pqmQRk: Looking for automatic captions\n"
     ]
    },
    {
     "name": "stderr",
     "output_type": "stream",
     "text": [
      "WARNING: Couldn't find automatic captions for XTPr2pqmQRk\n"
     ]
    },
    {
     "name": "stdout",
     "output_type": "stream",
     "text": [
      "[youtube] XTPr2pqmQRk: Downloading MPD manifest\n",
      "[youtube] XTPr2pqmQRk: Downloading MPD manifest\n",
      "No captions for XTPr2pqmQRk\n",
      "[youtube] 6kOoMqh5zUc: Downloading webpage\n",
      "[youtube] 6kOoMqh5zUc: Downloading video info webpage\n",
      "[youtube] 6kOoMqh5zUc: Looking for automatic captions\n",
      "[youtube] 6kOoMqh5zUc: Downloading MPD manifest\n",
      "[youtube] 6kOoMqh5zUc: Downloading MPD manifest\n",
      "[info] Writing video subtitles to: subtitle_6kOoMqh5zUc.en.vtt\n",
      "[youtube] RTqJqi8U9Jc: Downloading webpage\n",
      "[youtube] RTqJqi8U9Jc: Downloading video info webpage\n",
      "[youtube] RTqJqi8U9Jc: Looking for automatic captions\n",
      "[info] Writing video subtitles to: subtitle_RTqJqi8U9Jc.en.vtt\n",
      "[youtube] BXTPa7iZNYY: Downloading webpage\n",
      "[youtube] BXTPa7iZNYY: Downloading video info webpage\n",
      "[youtube] BXTPa7iZNYY: Looking for automatic captions\n"
     ]
    },
    {
     "name": "stderr",
     "output_type": "stream",
     "text": [
      "WARNING: Couldn't find automatic captions for BXTPa7iZNYY\n"
     ]
    },
    {
     "name": "stdout",
     "output_type": "stream",
     "text": [
      "No captions for BXTPa7iZNYY\n",
      "[youtube] ITTqbodaILQ: Downloading webpage\n",
      "[youtube] ITTqbodaILQ: Downloading video info webpage\n",
      "[youtube] ITTqbodaILQ: Looking for automatic captions\n",
      "[info] Writing video subtitles to: subtitle_ITTqbodaILQ.en.vtt\n",
      "[youtube] dbzOYuELy40: Downloading webpage\n",
      "[youtube] dbzOYuELy40: Downloading video info webpage\n",
      "[youtube] dbzOYuELy40: Looking for automatic captions\n",
      "[youtube] dbzOYuELy40: Downloading MPD manifest\n",
      "[youtube] dbzOYuELy40: Downloading MPD manifest\n",
      "[info] Writing video subtitles to: subtitle_dbzOYuELy40.en.vtt\n",
      "[youtube] PWaKI0-yafs: Downloading webpage\n",
      "[youtube] PWaKI0-yafs: Downloading video info webpage\n",
      "[youtube] PWaKI0-yafs: Looking for automatic captions\n"
     ]
    },
    {
     "name": "stderr",
     "output_type": "stream",
     "text": [
      "WARNING: Couldn't find automatic captions for PWaKI0-yafs\n"
     ]
    },
    {
     "name": "stdout",
     "output_type": "stream",
     "text": [
      "[youtube] PWaKI0-yafs: Downloading MPD manifest\n",
      "[youtube] PWaKI0-yafs: Downloading MPD manifest\n",
      "No captions for PWaKI0-yafs\n",
      "[youtube] fswE9w4hTv4: Downloading webpage\n",
      "[youtube] fswE9w4hTv4: Downloading video info webpage\n",
      "[youtube] fswE9w4hTv4: Looking for automatic captions\n",
      "[info] Writing video subtitles to: subtitle_fswE9w4hTv4.en.vtt\n",
      "[youtube] riW9RBNFtVQ: Downloading webpage\n",
      "[youtube] riW9RBNFtVQ: Downloading video info webpage\n",
      "[youtube] riW9RBNFtVQ: Looking for automatic captions\n",
      "[info] Writing video subtitles to: subtitle_riW9RBNFtVQ.en.vtt\n",
      "[youtube] iafZl_xhACA: Downloading webpage\n",
      "[youtube] iafZl_xhACA: Downloading video info webpage\n",
      "[youtube] iafZl_xhACA: Looking for automatic captions\n",
      "[info] Writing video subtitles to: subtitle_iafZl_xhACA.en.vtt\n",
      "[youtube] 7s19G_96ofE: Downloading webpage\n",
      "[youtube] 7s19G_96ofE: Downloading video info webpage\n",
      "[youtube] 7s19G_96ofE: Looking for automatic captions\n",
      "[info] Writing video subtitles to: subtitle_7s19G_96ofE.en.vtt\n",
      "[youtube] YMFtrNuXLpI: Downloading webpage\n",
      "[youtube] YMFtrNuXLpI: Downloading video info webpage\n",
      "[youtube] YMFtrNuXLpI: Looking for automatic captions\n",
      "[info] Writing video subtitles to: subtitle_YMFtrNuXLpI.en.vtt\n",
      "[youtube] iFV-WhABdvs: Downloading webpage\n",
      "[youtube] iFV-WhABdvs: Downloading video info webpage\n",
      "[youtube] iFV-WhABdvs: Looking for automatic captions\n"
     ]
    },
    {
     "name": "stderr",
     "output_type": "stream",
     "text": [
      "WARNING: Couldn't find automatic captions for iFV-WhABdvs\n"
     ]
    },
    {
     "name": "stdout",
     "output_type": "stream",
     "text": [
      "No captions for iFV-WhABdvs\n",
      "[youtube] nufjPUM-SEU: Downloading webpage\n",
      "[youtube] nufjPUM-SEU: Downloading video info webpage\n",
      "[youtube] nufjPUM-SEU: Looking for automatic captions\n",
      "[info] Writing video subtitles to: subtitle_nufjPUM-SEU.en.vtt\n",
      "[youtube] FPOCI20ouvg: Downloading webpage\n",
      "[youtube] FPOCI20ouvg: Downloading video info webpage\n",
      "[youtube] FPOCI20ouvg: Looking for automatic captions\n",
      "[info] Writing video subtitles to: subtitle_FPOCI20ouvg.en.vtt\n",
      "[youtube] _swve8LAlOo: Downloading webpage\n",
      "[youtube] _swve8LAlOo: Downloading video info webpage\n",
      "[youtube] _swve8LAlOo: Looking for automatic captions\n",
      "[info] Writing video subtitles to: subtitle__swve8LAlOo.en.vtt\n",
      "[youtube] YqmF8b7Mdm8: Downloading webpage\n",
      "[youtube] YqmF8b7Mdm8: Downloading video info webpage\n",
      "[youtube] YqmF8b7Mdm8: Looking for automatic captions\n",
      "[info] Writing video subtitles to: subtitle_YqmF8b7Mdm8.en.vtt\n",
      "[youtube] omW73f3E-tg: Downloading webpage\n",
      "[youtube] omW73f3E-tg: Downloading video info webpage\n",
      "[youtube] omW73f3E-tg: Looking for automatic captions\n",
      "[info] Writing video subtitles to: subtitle_omW73f3E-tg.en.vtt\n",
      "[youtube] xC0JE_5-LxM: Downloading webpage\n",
      "[youtube] xC0JE_5-LxM: Downloading video info webpage\n",
      "[youtube] xC0JE_5-LxM: Looking for automatic captions\n"
     ]
    },
    {
     "name": "stderr",
     "output_type": "stream",
     "text": [
      "WARNING: Couldn't find automatic captions for xC0JE_5-LxM\n"
     ]
    },
    {
     "name": "stdout",
     "output_type": "stream",
     "text": [
      "No captions for xC0JE_5-LxM\n",
      "[youtube] fqt7zbWG7vI: Downloading webpage\n",
      "[youtube] fqt7zbWG7vI: Downloading video info webpage\n",
      "[youtube] fqt7zbWG7vI: Looking for automatic captions\n",
      "[youtube] fqt7zbWG7vI: Downloading MPD manifest\n",
      "[youtube] fqt7zbWG7vI: Downloading MPD manifest\n",
      "[info] Writing video subtitles to: subtitle_fqt7zbWG7vI.en.vtt\n",
      "[youtube] jtW9D1nSZ_c: Downloading webpage\n",
      "[youtube] jtW9D1nSZ_c: Downloading video info webpage\n",
      "[youtube] jtW9D1nSZ_c: Looking for automatic captions\n",
      "[info] Writing video subtitles to: subtitle_jtW9D1nSZ_c.en.vtt\n",
      "[youtube] WjUO6ivJNDA: Downloading webpage\n",
      "[youtube] WjUO6ivJNDA: Downloading video info webpage\n",
      "[youtube] WjUO6ivJNDA: Looking for automatic captions\n",
      "[info] Writing video subtitles to: subtitle_WjUO6ivJNDA.en.vtt\n",
      "[youtube] tK4fG57OfSk: Downloading webpage\n",
      "[youtube] tK4fG57OfSk: Downloading video info webpage\n",
      "[youtube] tK4fG57OfSk: Looking for automatic captions\n"
     ]
    },
    {
     "name": "stderr",
     "output_type": "stream",
     "text": [
      "WARNING: Couldn't find automatic captions for tK4fG57OfSk\n"
     ]
    },
    {
     "name": "stdout",
     "output_type": "stream",
     "text": [
      "No captions for tK4fG57OfSk\n",
      "[youtube] r7CZYHWQwGA: Downloading webpage\n",
      "[youtube] r7CZYHWQwGA: Downloading video info webpage\n",
      "[youtube] r7CZYHWQwGA: Looking for automatic captions\n",
      "[info] Writing video subtitles to: subtitle_r7CZYHWQwGA.en.vtt\n",
      "[youtube] MW4l8-Fgs7A: Downloading webpage\n",
      "[youtube] MW4l8-Fgs7A: Downloading video info webpage\n",
      "[youtube] MW4l8-Fgs7A: Looking for automatic captions\n"
     ]
    },
    {
     "name": "stderr",
     "output_type": "stream",
     "text": [
      "WARNING: Couldn't find automatic captions for MW4l8-Fgs7A\n"
     ]
    },
    {
     "name": "stdout",
     "output_type": "stream",
     "text": [
      "[youtube] MW4l8-Fgs7A: Downloading MPD manifest\n",
      "[youtube] MW4l8-Fgs7A: Downloading MPD manifest\n",
      "No captions for MW4l8-Fgs7A\n",
      "[youtube] J1rKi-QlA0Q: Downloading webpage\n",
      "[youtube] J1rKi-QlA0Q: Downloading video info webpage\n",
      "[youtube] J1rKi-QlA0Q: Looking for automatic captions\n",
      "[info] Writing video subtitles to: subtitle_J1rKi-QlA0Q.en.vtt\n",
      "[youtube] jcEG248emxI: Downloading webpage\n",
      "[youtube] jcEG248emxI: Downloading video info webpage\n",
      "[youtube] jcEG248emxI: Looking for automatic captions\n",
      "[info] Writing video subtitles to: subtitle_jcEG248emxI.en.vtt\n",
      "[youtube] -kTcEbQOh4M: Downloading webpage\n",
      "[youtube] -kTcEbQOh4M: Downloading video info webpage\n",
      "[youtube] -kTcEbQOh4M: Looking for automatic captions\n",
      "[info] Writing video subtitles to: subtitle_-kTcEbQOh4M.en.vtt\n",
      "[youtube] HbyKsH9s85k: Downloading webpage\n",
      "[youtube] HbyKsH9s85k: Downloading video info webpage\n",
      "[youtube] HbyKsH9s85k: Looking for automatic captions\n",
      "[info] Writing video subtitles to: subtitle_HbyKsH9s85k.en.vtt\n",
      "[youtube] srpn2V-6PYA: Downloading webpage\n",
      "[youtube] srpn2V-6PYA: Downloading video info webpage\n",
      "[youtube] srpn2V-6PYA: Looking for automatic captions\n",
      "[info] Writing video subtitles to: subtitle_srpn2V-6PYA.en.vtt\n",
      "[youtube] stNFsO12eQQ: Downloading webpage\n",
      "[youtube] stNFsO12eQQ: Downloading video info webpage\n",
      "[youtube] stNFsO12eQQ: Looking for automatic captions\n",
      "[youtube] stNFsO12eQQ: Downloading MPD manifest\n",
      "[youtube] stNFsO12eQQ: Downloading MPD manifest\n",
      "[info] Writing video subtitles to: subtitle_stNFsO12eQQ.en.vtt\n",
      "[youtube] hBt6-UcY7oE: Downloading webpage\n",
      "[youtube] hBt6-UcY7oE: Downloading video info webpage\n",
      "[youtube] hBt6-UcY7oE: Looking for automatic captions\n"
     ]
    },
    {
     "name": "stderr",
     "output_type": "stream",
     "text": [
      "WARNING: Couldn't find automatic captions for hBt6-UcY7oE\n"
     ]
    },
    {
     "name": "stdout",
     "output_type": "stream",
     "text": [
      "No captions for hBt6-UcY7oE\n",
      "[youtube] rC4wy-RHuBA: Downloading webpage\n",
      "[youtube] rC4wy-RHuBA: Downloading video info webpage\n",
      "[youtube] rC4wy-RHuBA: Looking for automatic captions\n"
     ]
    },
    {
     "name": "stderr",
     "output_type": "stream",
     "text": [
      "WARNING: Couldn't find automatic captions for rC4wy-RHuBA\n"
     ]
    },
    {
     "name": "stdout",
     "output_type": "stream",
     "text": [
      "No captions for rC4wy-RHuBA\n",
      "[youtube] LAxkg_ugDrA: Downloading webpage\n",
      "[youtube] LAxkg_ugDrA: Downloading video info webpage\n",
      "[youtube] LAxkg_ugDrA: Looking for automatic captions\n"
     ]
    },
    {
     "name": "stderr",
     "output_type": "stream",
     "text": [
      "WARNING: Couldn't find automatic captions for LAxkg_ugDrA\n"
     ]
    },
    {
     "name": "stdout",
     "output_type": "stream",
     "text": [
      "No captions for LAxkg_ugDrA\n",
      "[youtube] 66VTZdmS65E: Downloading webpage\n",
      "[youtube] 66VTZdmS65E: Downloading video info webpage\n",
      "[youtube] 66VTZdmS65E: Looking for automatic captions\n",
      "[youtube] 66VTZdmS65E: Downloading MPD manifest\n",
      "[youtube] 66VTZdmS65E: Downloading MPD manifest\n",
      "[info] Writing video subtitles to: subtitle_66VTZdmS65E.en.vtt\n",
      "[youtube] 2ifoGFmC-Fk: Downloading webpage\n",
      "[youtube] 2ifoGFmC-Fk: Downloading video info webpage\n",
      "[youtube] 2ifoGFmC-Fk: Looking for automatic captions\n",
      "[info] Writing video subtitles to: subtitle_2ifoGFmC-Fk.en.vtt\n",
      "[youtube] 7uIQRSRArY4: Downloading webpage\n",
      "[youtube] 7uIQRSRArY4: Downloading video info webpage\n",
      "[youtube] 7uIQRSRArY4: Looking for automatic captions\n",
      "[info] Writing video subtitles to: subtitle_7uIQRSRArY4.en.vtt\n",
      "[youtube] DIgAc22fq9c: Downloading webpage\n",
      "[youtube] DIgAc22fq9c: Downloading video info webpage\n",
      "[youtube] DIgAc22fq9c: Looking for automatic captions\n",
      "[info] Writing video subtitles to: subtitle_DIgAc22fq9c.en.vtt\n",
      "[youtube] 0BJLGVrE6HU: Downloading webpage\n",
      "[youtube] 0BJLGVrE6HU: Downloading video info webpage\n",
      "[youtube] 0BJLGVrE6HU: Looking for automatic captions\n",
      "[info] Writing video subtitles to: subtitle_0BJLGVrE6HU.en.vtt\n",
      "[youtube] NntqkVnWLrI: Downloading webpage\n",
      "[youtube] NntqkVnWLrI: Downloading video info webpage\n",
      "[youtube] NntqkVnWLrI: Looking for automatic captions\n"
     ]
    },
    {
     "name": "stderr",
     "output_type": "stream",
     "text": [
      "WARNING: Couldn't find automatic captions for NntqkVnWLrI\n"
     ]
    },
    {
     "name": "stdout",
     "output_type": "stream",
     "text": [
      "No captions for NntqkVnWLrI\n",
      "[youtube] qvucXROd9NU: Downloading webpage\n",
      "[youtube] qvucXROd9NU: Downloading video info webpage\n",
      "[youtube] qvucXROd9NU: Looking for automatic captions\n",
      "[info] Writing video subtitles to: subtitle_qvucXROd9NU.en.vtt\n",
      "[youtube] qPC-Ee7FQOw: Downloading webpage\n",
      "[youtube] qPC-Ee7FQOw: Downloading video info webpage\n",
      "[youtube] qPC-Ee7FQOw: Looking for automatic captions\n",
      "[youtube] qPC-Ee7FQOw: Downloading MPD manifest\n",
      "[youtube] qPC-Ee7FQOw: Downloading MPD manifest\n",
      "[info] Writing video subtitles to: subtitle_qPC-Ee7FQOw.en.vtt\n",
      "[youtube] yBSiO0X4Rm4: Downloading webpage\n",
      "[youtube] yBSiO0X4Rm4: Downloading video info webpage\n",
      "[youtube] yBSiO0X4Rm4: Looking for automatic captions\n",
      "[info] Writing video subtitles to: subtitle_yBSiO0X4Rm4.en.vtt\n",
      "[youtube] sWL2DB9lxZg: Downloading webpage\n",
      "[youtube] sWL2DB9lxZg: Downloading video info webpage\n",
      "[youtube] sWL2DB9lxZg: Looking for automatic captions\n",
      "[youtube] sWL2DB9lxZg: Downloading MPD manifest\n",
      "[youtube] sWL2DB9lxZg: Downloading MPD manifest\n",
      "[info] Writing video subtitles to: subtitle_sWL2DB9lxZg.en.vtt\n",
      "[youtube] ogG3rVAgWwc: Downloading webpage\n",
      "[youtube] ogG3rVAgWwc: Downloading video info webpage\n",
      "[youtube] ogG3rVAgWwc: Looking for automatic captions\n"
     ]
    },
    {
     "name": "stderr",
     "output_type": "stream",
     "text": [
      "WARNING: Couldn't find automatic captions for ogG3rVAgWwc\n"
     ]
    },
    {
     "name": "stdout",
     "output_type": "stream",
     "text": [
      "No captions for ogG3rVAgWwc\n",
      "[youtube] _AGCTvNMrR8: Downloading webpage\n",
      "[youtube] _AGCTvNMrR8: Downloading video info webpage\n",
      "[youtube] _AGCTvNMrR8: Looking for automatic captions\n",
      "[info] Writing video subtitles to: subtitle__AGCTvNMrR8.en.vtt\n",
      "[youtube] HLoDNLZcjTE: Downloading webpage\n",
      "[youtube] HLoDNLZcjTE: Downloading video info webpage\n",
      "[youtube] HLoDNLZcjTE: Looking for automatic captions\n",
      "[info] Writing video subtitles to: subtitle_HLoDNLZcjTE.en.vtt\n",
      "[youtube] pEsmbadNGH0: Downloading webpage\n",
      "[youtube] pEsmbadNGH0: Downloading video info webpage\n",
      "[youtube] pEsmbadNGH0: Looking for automatic captions\n",
      "[info] Writing video subtitles to: subtitle_pEsmbadNGH0.en.vtt\n",
      "[youtube] Vw2GyG7UIX4: Downloading webpage\n",
      "[youtube] Vw2GyG7UIX4: Downloading video info webpage\n",
      "[youtube] Vw2GyG7UIX4: Looking for automatic captions\n",
      "[info] Writing video subtitles to: subtitle_Vw2GyG7UIX4.en.vtt\n",
      "[youtube] wSn1PBRUyjQ: Downloading webpage\n",
      "[youtube] wSn1PBRUyjQ: Downloading video info webpage\n",
      "[youtube] wSn1PBRUyjQ: Looking for automatic captions\n",
      "[info] Writing video subtitles to: subtitle_wSn1PBRUyjQ.en.vtt\n",
      "[youtube] TXy6cqt32eM: Downloading webpage\n",
      "[youtube] TXy6cqt32eM: Downloading video info webpage\n",
      "[youtube] TXy6cqt32eM: Looking for automatic captions\n"
     ]
    },
    {
     "name": "stderr",
     "output_type": "stream",
     "text": [
      "WARNING: Couldn't find automatic captions for TXy6cqt32eM\n"
     ]
    },
    {
     "name": "stdout",
     "output_type": "stream",
     "text": [
      "No captions for TXy6cqt32eM\n",
      "[youtube] A1ra0BGGwSM: Downloading webpage\n",
      "[youtube] A1ra0BGGwSM: Downloading video info webpage\n",
      "[youtube] A1ra0BGGwSM: Looking for automatic captions\n",
      "[info] Writing video subtitles to: subtitle_A1ra0BGGwSM.en.vtt\n",
      "[youtube] K92HMIbnDlU: Downloading webpage\n",
      "[youtube] K92HMIbnDlU: Downloading video info webpage\n",
      "[youtube] K92HMIbnDlU: Looking for automatic captions\n"
     ]
    },
    {
     "name": "stderr",
     "output_type": "stream",
     "text": [
      "WARNING: Couldn't find automatic captions for K92HMIbnDlU\n"
     ]
    },
    {
     "name": "stdout",
     "output_type": "stream",
     "text": [
      "No captions for K92HMIbnDlU\n",
      "[youtube] vRQZk9LHcqQ: Downloading webpage\n",
      "[youtube] vRQZk9LHcqQ: Downloading video info webpage\n",
      "[youtube] vRQZk9LHcqQ: Looking for automatic captions\n",
      "[youtube] vRQZk9LHcqQ: Downloading MPD manifest\n",
      "[youtube] vRQZk9LHcqQ: Downloading MPD manifest\n",
      "[info] Writing video subtitles to: subtitle_vRQZk9LHcqQ.en.vtt\n",
      "[youtube] n-dHpXn4lv8: Downloading webpage\n",
      "[youtube] n-dHpXn4lv8: Downloading video info webpage\n",
      "[youtube] n-dHpXn4lv8: Looking for automatic captions\n",
      "[youtube] n-dHpXn4lv8: Downloading MPD manifest\n",
      "[youtube] n-dHpXn4lv8: Downloading MPD manifest\n",
      "[info] Writing video subtitles to: subtitle_n-dHpXn4lv8.en.vtt\n",
      "[youtube] vfHh35NesS0: Downloading webpage\n",
      "[youtube] vfHh35NesS0: Downloading video info webpage\n",
      "[youtube] vfHh35NesS0: Looking for automatic captions\n",
      "[info] Writing video subtitles to: subtitle_vfHh35NesS0.en.vtt\n",
      "[youtube] k0NG6ePeipQ: Downloading webpage\n",
      "[youtube] k0NG6ePeipQ: Downloading video info webpage\n",
      "[youtube] k0NG6ePeipQ: Looking for automatic captions\n",
      "[info] Writing video subtitles to: subtitle_k0NG6ePeipQ.en.vtt\n",
      "[youtube] jQYFzt45c18: Downloading webpage\n",
      "[youtube] jQYFzt45c18: Downloading video info webpage\n",
      "[youtube] jQYFzt45c18: Looking for automatic captions\n"
     ]
    },
    {
     "name": "stderr",
     "output_type": "stream",
     "text": [
      "WARNING: Couldn't find automatic captions for jQYFzt45c18\n"
     ]
    },
    {
     "name": "stdout",
     "output_type": "stream",
     "text": [
      "No captions for jQYFzt45c18\n",
      "[youtube] p2vRvfMTvpg: Downloading webpage\n",
      "[youtube] p2vRvfMTvpg: Downloading video info webpage\n",
      "[youtube] p2vRvfMTvpg: Looking for automatic captions\n",
      "[info] Writing video subtitles to: subtitle_p2vRvfMTvpg.en.vtt\n",
      "[youtube] G6qQGOMnOfU: Downloading webpage\n",
      "[youtube] G6qQGOMnOfU: Downloading video info webpage\n",
      "[youtube] G6qQGOMnOfU: Looking for automatic captions\n"
     ]
    },
    {
     "name": "stderr",
     "output_type": "stream",
     "text": [
      "WARNING: Couldn't find automatic captions for G6qQGOMnOfU\n"
     ]
    },
    {
     "name": "stdout",
     "output_type": "stream",
     "text": [
      "No captions for G6qQGOMnOfU\n",
      "[youtube] 7I83bAFZGhk: Downloading webpage\n",
      "[youtube] 7I83bAFZGhk: Downloading video info webpage\n",
      "[youtube] 7I83bAFZGhk: Looking for automatic captions\n"
     ]
    },
    {
     "name": "stderr",
     "output_type": "stream",
     "text": [
      "WARNING: Couldn't find automatic captions for 7I83bAFZGhk\n"
     ]
    },
    {
     "name": "stdout",
     "output_type": "stream",
     "text": [
      "No captions for 7I83bAFZGhk\n",
      "[youtube] lDviBI8LWx8: Downloading webpage\n",
      "[youtube] lDviBI8LWx8: Downloading video info webpage\n",
      "[youtube] lDviBI8LWx8: Looking for automatic captions\n",
      "[info] Writing video subtitles to: subtitle_lDviBI8LWx8.en.vtt\n",
      "[youtube] vexsff9cUpk: Downloading webpage\n",
      "[youtube] vexsff9cUpk: Downloading video info webpage\n",
      "[youtube] vexsff9cUpk: Looking for automatic captions\n",
      "[info] Writing video subtitles to: subtitle_vexsff9cUpk.en.vtt\n",
      "[youtube] DeETjjBnN_U: Downloading webpage\n",
      "[youtube] DeETjjBnN_U: Downloading video info webpage\n",
      "[youtube] DeETjjBnN_U: Looking for automatic captions\n",
      "[youtube] DeETjjBnN_U: Downloading MPD manifest\n",
      "[youtube] DeETjjBnN_U: Downloading MPD manifest\n",
      "[info] Writing video subtitles to: subtitle_DeETjjBnN_U.en.vtt\n",
      "[youtube] 8DSyk0ZpiaY: Downloading webpage\n",
      "[youtube] 8DSyk0ZpiaY: Downloading video info webpage\n",
      "[youtube] 8DSyk0ZpiaY: Looking for automatic captions\n",
      "[youtube] 8DSyk0ZpiaY: Downloading MPD manifest\n",
      "[youtube] 8DSyk0ZpiaY: Downloading MPD manifest\n",
      "[info] Writing video subtitles to: subtitle_8DSyk0ZpiaY.en.vtt\n",
      "[youtube] IBav6_R-21g: Downloading webpage\n",
      "[youtube] IBav6_R-21g: Downloading video info webpage\n",
      "[youtube] IBav6_R-21g: Looking for automatic captions\n",
      "[info] Writing video subtitles to: subtitle_IBav6_R-21g.en.vtt\n",
      "[youtube] kBfSdcmDxgg: Downloading webpage\n",
      "[youtube] kBfSdcmDxgg: Downloading video info webpage\n",
      "[youtube] kBfSdcmDxgg: Looking for automatic captions\n",
      "[youtube] kBfSdcmDxgg: Downloading MPD manifest\n",
      "[youtube] kBfSdcmDxgg: Downloading MPD manifest\n",
      "[info] Writing video subtitles to: subtitle_kBfSdcmDxgg.en.vtt\n",
      "[youtube] I4ckmXX7gDA: Downloading webpage\n",
      "[youtube] I4ckmXX7gDA: Downloading video info webpage\n",
      "[youtube] I4ckmXX7gDA: Looking for automatic captions\n",
      "[info] Writing video subtitles to: subtitle_I4ckmXX7gDA.en.vtt\n",
      "[youtube] bCTro74QKo0: Downloading webpage\n",
      "[youtube] bCTro74QKo0: Downloading video info webpage\n",
      "[youtube] bCTro74QKo0: Looking for automatic captions\n",
      "[info] Writing video subtitles to: subtitle_bCTro74QKo0.en.vtt\n",
      "[youtube] aI_4JlkCXm4: Downloading webpage\n",
      "[youtube] aI_4JlkCXm4: Downloading video info webpage\n",
      "[youtube] aI_4JlkCXm4: Looking for automatic captions\n",
      "[info] Writing video subtitles to: subtitle_aI_4JlkCXm4.en.vtt\n",
      "[youtube] 3Fznih14e-o: Downloading webpage\n",
      "[youtube] 3Fznih14e-o: Downloading video info webpage\n",
      "[youtube] 3Fznih14e-o: Looking for automatic captions\n",
      "[info] Writing video subtitles to: subtitle_3Fznih14e-o.en.vtt\n",
      "[youtube] A7S6i6nrK2k: Downloading webpage\n",
      "[youtube] A7S6i6nrK2k: Downloading video info webpage\n",
      "[youtube] A7S6i6nrK2k: Looking for automatic captions\n",
      "[info] Writing video subtitles to: subtitle_A7S6i6nrK2k.en.vtt\n",
      "[youtube] Tt3P6L-IfYE: Downloading webpage\n",
      "[youtube] Tt3P6L-IfYE: Downloading video info webpage\n",
      "[youtube] Tt3P6L-IfYE: Looking for automatic captions\n",
      "[info] Writing video subtitles to: subtitle_Tt3P6L-IfYE.en.vtt\n",
      "[youtube] HwpRL4IpM2w: Downloading webpage\n",
      "[youtube] HwpRL4IpM2w: Downloading video info webpage\n",
      "[youtube] HwpRL4IpM2w: Looking for automatic captions\n",
      "[info] Writing video subtitles to: subtitle_HwpRL4IpM2w.en.vtt\n",
      "[youtube] uzqV94qV7Uk: Downloading webpage\n",
      "[youtube] uzqV94qV7Uk: Downloading video info webpage\n",
      "[youtube] uzqV94qV7Uk: Looking for automatic captions\n",
      "[youtube] uzqV94qV7Uk: Downloading MPD manifest\n",
      "[youtube] uzqV94qV7Uk: Downloading MPD manifest\n",
      "[info] Writing video subtitles to: subtitle_uzqV94qV7Uk.en.vtt\n",
      "[youtube] -794_WSelWc: Downloading webpage\n",
      "[youtube] -794_WSelWc: Downloading video info webpage\n",
      "[youtube] -794_WSelWc: Looking for automatic captions\n",
      "[info] Writing video subtitles to: subtitle_-794_WSelWc.en.vtt\n",
      "[youtube] tY4hl25Kp70: Downloading webpage\n",
      "[youtube] tY4hl25Kp70: Downloading video info webpage\n",
      "[youtube] tY4hl25Kp70: Looking for automatic captions\n",
      "[info] Writing video subtitles to: subtitle_tY4hl25Kp70.en.vtt\n",
      "[youtube] XIPGT3mZ2e4: Downloading webpage\n",
      "[youtube] XIPGT3mZ2e4: Downloading video info webpage\n",
      "[youtube] XIPGT3mZ2e4: Looking for automatic captions\n",
      "[info] Writing video subtitles to: subtitle_XIPGT3mZ2e4.en.vtt\n",
      "[youtube] 0xM1Y5_G37Q: Downloading webpage\n",
      "[youtube] 0xM1Y5_G37Q: Downloading video info webpage\n",
      "[youtube] 0xM1Y5_G37Q: Looking for automatic captions\n",
      "[youtube] 0xM1Y5_G37Q: Downloading MPD manifest\n",
      "[youtube] 0xM1Y5_G37Q: Downloading MPD manifest\n",
      "[info] Writing video subtitles to: subtitle_0xM1Y5_G37Q.en.vtt\n",
      "[youtube] Bg8QIlZTZ_E: Downloading webpage\n",
      "[youtube] Bg8QIlZTZ_E: Downloading video info webpage\n",
      "[youtube] Bg8QIlZTZ_E: Looking for automatic captions\n",
      "[info] Writing video subtitles to: subtitle_Bg8QIlZTZ_E.en.vtt\n",
      "[youtube] V3NBVM10Ico: Downloading webpage\n",
      "[youtube] V3NBVM10Ico: Downloading video info webpage\n",
      "[youtube] V3NBVM10Ico: Looking for automatic captions\n",
      "[info] Writing video subtitles to: subtitle_V3NBVM10Ico.en.vtt\n",
      "[youtube] 4OxuyAYoJfA: Downloading webpage\n",
      "[youtube] 4OxuyAYoJfA: Downloading video info webpage\n",
      "[youtube] 4OxuyAYoJfA: Looking for automatic captions\n",
      "[info] Writing video subtitles to: subtitle_4OxuyAYoJfA.en.vtt\n",
      "[youtube] s6_XuqWw1q8: Downloading webpage\n",
      "[youtube] s6_XuqWw1q8: Downloading video info webpage\n",
      "[youtube] s6_XuqWw1q8: Looking for automatic captions\n",
      "[youtube] s6_XuqWw1q8: Downloading MPD manifest\n",
      "[youtube] s6_XuqWw1q8: Downloading MPD manifest\n",
      "[info] Writing video subtitles to: subtitle_s6_XuqWw1q8.en.vtt\n",
      "[youtube] f1-Uh-9YDCM: Downloading webpage\n",
      "[youtube] f1-Uh-9YDCM: Downloading video info webpage\n",
      "[youtube] f1-Uh-9YDCM: Looking for automatic captions\n",
      "[info] Writing video subtitles to: subtitle_f1-Uh-9YDCM.en.vtt\n",
      "[youtube] CGt97ZDQgPE: Downloading webpage\n",
      "[youtube] CGt97ZDQgPE: Downloading video info webpage\n",
      "[youtube] CGt97ZDQgPE: Looking for automatic captions\n",
      "[info] Writing video subtitles to: subtitle_CGt97ZDQgPE.en.vtt\n",
      "[youtube] Ar4LsDtku1E: Downloading webpage\n",
      "[youtube] Ar4LsDtku1E: Downloading video info webpage\n",
      "[youtube] Ar4LsDtku1E: Looking for automatic captions\n",
      "[info] Writing video subtitles to: subtitle_Ar4LsDtku1E.en.vtt\n",
      "[youtube] 2iyk4Nz8fBA: Downloading webpage\n",
      "[youtube] 2iyk4Nz8fBA: Downloading video info webpage\n",
      "[youtube] 2iyk4Nz8fBA: Looking for automatic captions\n",
      "[info] Writing video subtitles to: subtitle_2iyk4Nz8fBA.en.vtt\n",
      "[youtube] rnG49j4MVDA: Downloading webpage\n",
      "[youtube] rnG49j4MVDA: Downloading video info webpage\n",
      "[youtube] rnG49j4MVDA: Looking for automatic captions\n"
     ]
    },
    {
     "name": "stderr",
     "output_type": "stream",
     "text": [
      "WARNING: Couldn't find automatic captions for rnG49j4MVDA\n"
     ]
    },
    {
     "name": "stdout",
     "output_type": "stream",
     "text": [
      "No captions for rnG49j4MVDA\n",
      "[youtube] -Np8h3T3iyk: Downloading webpage\n",
      "[youtube] -Np8h3T3iyk: Downloading video info webpage\n",
      "[youtube] -Np8h3T3iyk: Looking for automatic captions\n",
      "[info] Writing video subtitles to: subtitle_-Np8h3T3iyk.en.vtt\n",
      "[youtube] 5Lg6-21f4DQ: Downloading webpage\n",
      "[youtube] 5Lg6-21f4DQ: Downloading video info webpage\n",
      "[youtube] 5Lg6-21f4DQ: Looking for automatic captions\n"
     ]
    },
    {
     "name": "stderr",
     "output_type": "stream",
     "text": [
      "WARNING: Couldn't find automatic captions for 5Lg6-21f4DQ\n"
     ]
    },
    {
     "name": "stdout",
     "output_type": "stream",
     "text": [
      "[youtube] 5Lg6-21f4DQ: Downloading MPD manifest\n",
      "[youtube] 5Lg6-21f4DQ: Downloading MPD manifest\n",
      "No captions for 5Lg6-21f4DQ\n",
      "[youtube] 0Qh807C-rls: Downloading webpage\n",
      "[youtube] 0Qh807C-rls: Downloading video info webpage\n",
      "[youtube] 0Qh807C-rls: Looking for automatic captions\n"
     ]
    },
    {
     "name": "stderr",
     "output_type": "stream",
     "text": [
      "WARNING: Couldn't find automatic captions for 0Qh807C-rls\n"
     ]
    },
    {
     "name": "stdout",
     "output_type": "stream",
     "text": [
      "No captions for 0Qh807C-rls\n",
      "[youtube] cUSOf-5nvq0: Downloading webpage\n",
      "[youtube] cUSOf-5nvq0: Downloading video info webpage\n",
      "[youtube] cUSOf-5nvq0: Looking for automatic captions\n"
     ]
    },
    {
     "name": "stderr",
     "output_type": "stream",
     "text": [
      "WARNING: Couldn't find automatic captions for cUSOf-5nvq0\n"
     ]
    },
    {
     "name": "stdout",
     "output_type": "stream",
     "text": [
      "No captions for cUSOf-5nvq0\n",
      "[youtube] x2LxQdHdqLU: Downloading webpage\n",
      "[youtube] x2LxQdHdqLU: Downloading video info webpage\n",
      "[youtube] x2LxQdHdqLU: Looking for automatic captions\n",
      "[info] Writing video subtitles to: subtitle_x2LxQdHdqLU.en.vtt\n",
      "[youtube] YXvNXx9vJAk: Downloading webpage\n",
      "[youtube] YXvNXx9vJAk: Downloading video info webpage\n",
      "[youtube] YXvNXx9vJAk: Looking for automatic captions\n",
      "[info] Writing video subtitles to: subtitle_YXvNXx9vJAk.en.vtt\n",
      "[youtube] Q9RG7J9ksdg: Downloading webpage\n",
      "[youtube] Q9RG7J9ksdg: Downloading video info webpage\n",
      "[youtube] Q9RG7J9ksdg: Looking for automatic captions\n",
      "[info] Writing video subtitles to: subtitle_Q9RG7J9ksdg.en.vtt\n",
      "[youtube] gMcr_K6Ohek: Downloading webpage\n",
      "[youtube] gMcr_K6Ohek: Downloading video info webpage\n",
      "[youtube] gMcr_K6Ohek: Looking for automatic captions\n",
      "[youtube] gMcr_K6Ohek: Downloading MPD manifest\n",
      "[youtube] gMcr_K6Ohek: Downloading MPD manifest\n",
      "[info] Writing video subtitles to: subtitle_gMcr_K6Ohek.en.vtt\n",
      "[youtube] f37mATPmEx4: Downloading webpage\n",
      "[youtube] f37mATPmEx4: Downloading video info webpage\n",
      "[youtube] f37mATPmEx4: Looking for automatic captions\n",
      "[info] Writing video subtitles to: subtitle_f37mATPmEx4.en.vtt\n",
      "[youtube] dmOeRWgAL4g: Downloading webpage\n",
      "[youtube] dmOeRWgAL4g: Downloading video info webpage\n",
      "[youtube] dmOeRWgAL4g: Looking for automatic captions\n"
     ]
    },
    {
     "name": "stderr",
     "output_type": "stream",
     "text": [
      "WARNING: Couldn't find automatic captions for dmOeRWgAL4g\n"
     ]
    },
    {
     "name": "stdout",
     "output_type": "stream",
     "text": [
      "No captions for dmOeRWgAL4g\n",
      "[youtube] UtE9kcFvFbM: Downloading webpage\n",
      "[youtube] UtE9kcFvFbM: Downloading video info webpage\n",
      "[youtube] UtE9kcFvFbM: Looking for automatic captions\n"
     ]
    },
    {
     "name": "stderr",
     "output_type": "stream",
     "text": [
      "WARNING: Couldn't find automatic captions for UtE9kcFvFbM\n"
     ]
    },
    {
     "name": "stdout",
     "output_type": "stream",
     "text": [
      "No captions for UtE9kcFvFbM\n",
      "[youtube] pXoESvF-QzM: Downloading webpage\n",
      "[youtube] pXoESvF-QzM: Downloading video info webpage\n",
      "[youtube] pXoESvF-QzM: Looking for automatic captions\n",
      "[info] Writing video subtitles to: subtitle_pXoESvF-QzM.en.vtt\n",
      "[youtube] fRWOzZ3OiFI: Downloading webpage\n",
      "[youtube] fRWOzZ3OiFI: Downloading video info webpage\n",
      "[youtube] fRWOzZ3OiFI: Looking for automatic captions\n",
      "[info] Writing video subtitles to: subtitle_fRWOzZ3OiFI.en.vtt\n",
      "[youtube] kNFUKG2CITs: Downloading webpage\n",
      "[youtube] kNFUKG2CITs: Downloading video info webpage\n",
      "[youtube] kNFUKG2CITs: Looking for automatic captions\n",
      "[youtube] kNFUKG2CITs: Downloading MPD manifest\n",
      "[youtube] kNFUKG2CITs: Downloading MPD manifest\n",
      "[info] Writing video subtitles to: subtitle_kNFUKG2CITs.en.vtt\n",
      "[youtube] r6jdIi2Ft_k: Downloading webpage\n",
      "[youtube] r6jdIi2Ft_k: Downloading video info webpage\n",
      "[youtube] r6jdIi2Ft_k: Looking for automatic captions\n",
      "[info] Writing video subtitles to: subtitle_r6jdIi2Ft_k.en.vtt\n",
      "[youtube] nJ8GjkOHaxs: Downloading webpage\n",
      "[youtube] nJ8GjkOHaxs: Downloading video info webpage\n",
      "[youtube] nJ8GjkOHaxs: Looking for automatic captions\n",
      "[info] Writing video subtitles to: subtitle_nJ8GjkOHaxs.en.vtt\n",
      "[youtube] M7jy1F5HWsU: Downloading webpage\n",
      "[youtube] M7jy1F5HWsU: Downloading video info webpage\n",
      "[youtube] M7jy1F5HWsU: Looking for automatic captions\n",
      "[youtube] M7jy1F5HWsU: Downloading MPD manifest\n",
      "[youtube] M7jy1F5HWsU: Downloading MPD manifest\n",
      "[info] Writing video subtitles to: subtitle_M7jy1F5HWsU.en.vtt\n",
      "[youtube] -AfLvXgdpAc: Downloading webpage\n",
      "[youtube] -AfLvXgdpAc: Downloading video info webpage\n",
      "[youtube] -AfLvXgdpAc: Looking for automatic captions\n",
      "[info] Writing video subtitles to: subtitle_-AfLvXgdpAc.en.vtt\n",
      "[youtube] TAaRs5HFRTw: Downloading webpage\n",
      "[youtube] TAaRs5HFRTw: Downloading video info webpage\n",
      "[youtube] TAaRs5HFRTw: Looking for automatic captions\n",
      "[info] Writing video subtitles to: subtitle_TAaRs5HFRTw.en.vtt\n",
      "[youtube] iFFdlJe0W2I: Downloading webpage\n",
      "[youtube] iFFdlJe0W2I: Downloading video info webpage\n",
      "[youtube] iFFdlJe0W2I: Looking for automatic captions\n",
      "[info] Writing video subtitles to: subtitle_iFFdlJe0W2I.en.vtt\n",
      "[youtube] YNuJ0jswIKI: Downloading webpage\n",
      "[youtube] YNuJ0jswIKI: Downloading video info webpage\n",
      "[youtube] YNuJ0jswIKI: Looking for automatic captions\n",
      "[info] Writing video subtitles to: subtitle_YNuJ0jswIKI.en.vtt\n",
      "[youtube] oXnpcT_es3A: Downloading webpage\n",
      "[youtube] oXnpcT_es3A: Downloading video info webpage\n",
      "[youtube] oXnpcT_es3A: Looking for automatic captions\n",
      "[info] Writing video subtitles to: subtitle_oXnpcT_es3A.en.vtt\n",
      "[youtube] D68Lv1rv-Ss: Downloading webpage\n",
      "[youtube] D68Lv1rv-Ss: Downloading video info webpage\n",
      "[youtube] D68Lv1rv-Ss: Looking for automatic captions\n",
      "[info] Writing video subtitles to: subtitle_D68Lv1rv-Ss.en.vtt\n",
      "[youtube] gOcZNC_q_X0: Downloading webpage\n",
      "[youtube] gOcZNC_q_X0: Downloading video info webpage\n",
      "[youtube] gOcZNC_q_X0: Looking for automatic captions\n",
      "[info] Writing video subtitles to: subtitle_gOcZNC_q_X0.en.vtt\n",
      "[youtube] SCSyZ8SBtkE: Downloading webpage\n",
      "[youtube] SCSyZ8SBtkE: Downloading video info webpage\n",
      "[youtube] SCSyZ8SBtkE: Looking for automatic captions\n",
      "[info] Writing video subtitles to: subtitle_SCSyZ8SBtkE.en.vtt\n",
      "[youtube] 9eFoAW_oYAg: Downloading webpage\n",
      "[youtube] 9eFoAW_oYAg: Downloading video info webpage\n",
      "[youtube] 9eFoAW_oYAg: Looking for automatic captions\n",
      "[youtube] 9eFoAW_oYAg: Downloading MPD manifest\n",
      "[youtube] 9eFoAW_oYAg: Downloading MPD manifest\n",
      "[info] Writing video subtitles to: subtitle_9eFoAW_oYAg.en.vtt\n",
      "[youtube] 2G_oypbJzP8: Downloading webpage\n",
      "[youtube] 2G_oypbJzP8: Downloading video info webpage\n",
      "[youtube] 2G_oypbJzP8: Looking for automatic captions\n",
      "[info] Writing video subtitles to: subtitle_2G_oypbJzP8.en.vtt\n",
      "[youtube] JvBL3H1-dsc: Downloading webpage\n",
      "[youtube] JvBL3H1-dsc: Downloading video info webpage\n",
      "[youtube] JvBL3H1-dsc: Looking for automatic captions\n",
      "[info] Writing video subtitles to: subtitle_JvBL3H1-dsc.en.vtt\n",
      "[youtube] E_G86tfuSQE: Downloading webpage\n",
      "[youtube] E_G86tfuSQE: Downloading video info webpage\n",
      "[youtube] E_G86tfuSQE: Looking for automatic captions\n"
     ]
    },
    {
     "name": "stderr",
     "output_type": "stream",
     "text": [
      "WARNING: Couldn't find automatic captions for E_G86tfuSQE\n"
     ]
    },
    {
     "name": "stdout",
     "output_type": "stream",
     "text": [
      "No captions for E_G86tfuSQE\n",
      "[youtube] VdlexMcZSOg: Downloading webpage\n",
      "[youtube] VdlexMcZSOg: Downloading video info webpage\n",
      "[youtube] VdlexMcZSOg: Looking for automatic captions\n"
     ]
    },
    {
     "name": "stderr",
     "output_type": "stream",
     "text": [
      "WARNING: Couldn't find automatic captions for VdlexMcZSOg\n"
     ]
    },
    {
     "name": "stdout",
     "output_type": "stream",
     "text": [
      "[youtube] VdlexMcZSOg: Downloading MPD manifest\n",
      "[youtube] VdlexMcZSOg: Downloading MPD manifest\n",
      "No captions for VdlexMcZSOg\n",
      "[youtube] JrMFMu44ALQ: Downloading webpage\n",
      "[youtube] JrMFMu44ALQ: Downloading video info webpage\n",
      "[youtube] JrMFMu44ALQ: Looking for automatic captions\n",
      "[info] Writing video subtitles to: subtitle_JrMFMu44ALQ.en.vtt\n",
      "[youtube] 00XjZ8wHUKs: Downloading webpage\n",
      "[youtube] 00XjZ8wHUKs: Downloading video info webpage\n",
      "[youtube] 00XjZ8wHUKs: Looking for automatic captions\n",
      "[info] Writing video subtitles to: subtitle_00XjZ8wHUKs.en.vtt\n",
      "[youtube] Z60UJ1rX1s8: Downloading webpage\n",
      "[youtube] Z60UJ1rX1s8: Downloading video info webpage\n",
      "[youtube] Z60UJ1rX1s8: Looking for automatic captions\n"
     ]
    },
    {
     "name": "stderr",
     "output_type": "stream",
     "text": [
      "WARNING: Couldn't find automatic captions for Z60UJ1rX1s8\n"
     ]
    },
    {
     "name": "stdout",
     "output_type": "stream",
     "text": [
      "No captions for Z60UJ1rX1s8\n",
      "[youtube] lpoaLh9sLz8: Downloading webpage\n",
      "[youtube] lpoaLh9sLz8: Downloading video info webpage\n",
      "[youtube] lpoaLh9sLz8: Looking for automatic captions\n",
      "[info] Writing video subtitles to: subtitle_lpoaLh9sLz8.en.vtt\n",
      "[youtube] OOHWilQrfOs: Downloading webpage\n",
      "[youtube] OOHWilQrfOs: Downloading video info webpage\n",
      "[youtube] OOHWilQrfOs: Looking for automatic captions\n"
     ]
    },
    {
     "name": "stderr",
     "output_type": "stream",
     "text": [
      "WARNING: Couldn't find automatic captions for OOHWilQrfOs\n"
     ]
    },
    {
     "name": "stdout",
     "output_type": "stream",
     "text": [
      "No captions for OOHWilQrfOs\n",
      "[youtube] d7SBOSH0QEw: Downloading webpage\n",
      "[youtube] d7SBOSH0QEw: Downloading video info webpage\n",
      "[youtube] d7SBOSH0QEw: Looking for automatic captions\n",
      "[info] Writing video subtitles to: subtitle_d7SBOSH0QEw.en.vtt\n",
      "[youtube] cgrOLjOucr0: Downloading webpage\n",
      "[youtube] cgrOLjOucr0: Downloading video info webpage\n",
      "[youtube] cgrOLjOucr0: Looking for automatic captions\n"
     ]
    },
    {
     "name": "stderr",
     "output_type": "stream",
     "text": [
      "WARNING: Couldn't find automatic captions for cgrOLjOucr0\n"
     ]
    },
    {
     "name": "stdout",
     "output_type": "stream",
     "text": [
      "No captions for cgrOLjOucr0\n",
      "[youtube] l9DAcCEPzfs: Downloading webpage\n",
      "[youtube] l9DAcCEPzfs: Downloading video info webpage\n",
      "[youtube] l9DAcCEPzfs: Looking for automatic captions\n"
     ]
    },
    {
     "name": "stderr",
     "output_type": "stream",
     "text": [
      "WARNING: Couldn't find automatic captions for l9DAcCEPzfs\n"
     ]
    },
    {
     "name": "stdout",
     "output_type": "stream",
     "text": [
      "No captions for l9DAcCEPzfs\n",
      "[youtube] hASjWG0mQy4: Downloading webpage\n",
      "[youtube] hASjWG0mQy4: Downloading video info webpage\n",
      "[youtube] hASjWG0mQy4: Looking for automatic captions\n"
     ]
    },
    {
     "name": "stderr",
     "output_type": "stream",
     "text": [
      "WARNING: Couldn't find automatic captions for hASjWG0mQy4\n"
     ]
    },
    {
     "name": "stdout",
     "output_type": "stream",
     "text": [
      "No captions for hASjWG0mQy4\n",
      "[youtube] RVPBU7KvKHY: Downloading webpage\n",
      "[youtube] RVPBU7KvKHY: Downloading video info webpage\n",
      "[youtube] RVPBU7KvKHY: Looking for automatic captions\n"
     ]
    },
    {
     "name": "stderr",
     "output_type": "stream",
     "text": [
      "WARNING: Couldn't find automatic captions for RVPBU7KvKHY\n"
     ]
    },
    {
     "name": "stdout",
     "output_type": "stream",
     "text": [
      "No captions for RVPBU7KvKHY\n",
      "[youtube] UIlA8hS1G4Y: Downloading webpage\n",
      "[youtube] UIlA8hS1G4Y: Downloading video info webpage\n",
      "[youtube] UIlA8hS1G4Y: Looking for automatic captions\n",
      "[info] Writing video subtitles to: subtitle_UIlA8hS1G4Y.en.vtt\n",
      "[youtube] G6VBxQPiy1E: Downloading webpage\n",
      "[youtube] G6VBxQPiy1E: Downloading video info webpage\n",
      "[youtube] G6VBxQPiy1E: Looking for automatic captions\n",
      "[youtube] G6VBxQPiy1E: Downloading MPD manifest\n",
      "[youtube] G6VBxQPiy1E: Downloading MPD manifest\n",
      "[info] Writing video subtitles to: subtitle_G6VBxQPiy1E.en.vtt\n",
      "[youtube] p2CrdaoGGXY: Downloading webpage\n",
      "[youtube] p2CrdaoGGXY: Downloading video info webpage\n",
      "[youtube] p2CrdaoGGXY: Looking for automatic captions\n"
     ]
    },
    {
     "name": "stderr",
     "output_type": "stream",
     "text": [
      "WARNING: Couldn't find automatic captions for p2CrdaoGGXY\n"
     ]
    },
    {
     "name": "stdout",
     "output_type": "stream",
     "text": [
      "No captions for p2CrdaoGGXY\n",
      "[youtube] Amub4Gtevdc: Downloading webpage\n",
      "[youtube] Amub4Gtevdc: Downloading video info webpage\n",
      "[youtube] Amub4Gtevdc: Looking for automatic captions\n",
      "[info] Writing video subtitles to: subtitle_Amub4Gtevdc.en.vtt\n",
      "[youtube] dw4YaM0cYxM: Downloading webpage\n",
      "[youtube] dw4YaM0cYxM: Downloading video info webpage\n",
      "[youtube] dw4YaM0cYxM: Looking for automatic captions\n",
      "[youtube] dw4YaM0cYxM: Downloading MPD manifest\n",
      "[youtube] dw4YaM0cYxM: Downloading MPD manifest\n",
      "[info] Writing video subtitles to: subtitle_dw4YaM0cYxM.en.vtt\n",
      "[youtube] 7xo063Y_1JE: Downloading webpage\n",
      "[youtube] 7xo063Y_1JE: Downloading video info webpage\n",
      "[youtube] 7xo063Y_1JE: Looking for automatic captions\n"
     ]
    },
    {
     "name": "stderr",
     "output_type": "stream",
     "text": [
      "WARNING: Couldn't find automatic captions for 7xo063Y_1JE\n"
     ]
    },
    {
     "name": "stdout",
     "output_type": "stream",
     "text": [
      "No captions for 7xo063Y_1JE\n",
      "[youtube] I5V23FY9MTs: Downloading webpage\n",
      "[youtube] I5V23FY9MTs: Downloading video info webpage\n",
      "[youtube] I5V23FY9MTs: Looking for automatic captions\n"
     ]
    },
    {
     "name": "stderr",
     "output_type": "stream",
     "text": [
      "WARNING: Couldn't find automatic captions for I5V23FY9MTs\n"
     ]
    },
    {
     "name": "stdout",
     "output_type": "stream",
     "text": [
      "No captions for I5V23FY9MTs\n",
      "[youtube] 0Rn_rmIL62s: Downloading webpage\n",
      "[youtube] 0Rn_rmIL62s: Downloading video info webpage\n",
      "[youtube] 0Rn_rmIL62s: Looking for automatic captions\n",
      "[youtube] 0Rn_rmIL62s: Downloading MPD manifest\n",
      "[youtube] 0Rn_rmIL62s: Downloading MPD manifest\n",
      "[info] Writing video subtitles to: subtitle_0Rn_rmIL62s.en.vtt\n",
      "[youtube] HXKGVhC6s4M: Downloading webpage\n",
      "[youtube] HXKGVhC6s4M: Downloading video info webpage\n",
      "[youtube] HXKGVhC6s4M: Looking for automatic captions\n",
      "[info] Writing video subtitles to: subtitle_HXKGVhC6s4M.en.vtt\n",
      "[youtube] IjFFDtgrMQ0: Downloading webpage\n",
      "[youtube] IjFFDtgrMQ0: Downloading video info webpage\n",
      "[youtube] IjFFDtgrMQ0: Looking for automatic captions\n"
     ]
    },
    {
     "name": "stderr",
     "output_type": "stream",
     "text": [
      "WARNING: Couldn't find automatic captions for IjFFDtgrMQ0\n"
     ]
    },
    {
     "name": "stdout",
     "output_type": "stream",
     "text": [
      "[youtube] IjFFDtgrMQ0: Downloading MPD manifest\n",
      "[youtube] IjFFDtgrMQ0: Downloading MPD manifest\n",
      "No captions for IjFFDtgrMQ0\n",
      "[youtube] KRFzn2nF7BE: Downloading webpage\n",
      "[youtube] KRFzn2nF7BE: Downloading video info webpage\n",
      "[youtube] KRFzn2nF7BE: Looking for automatic captions\n"
     ]
    },
    {
     "name": "stderr",
     "output_type": "stream",
     "text": [
      "WARNING: Couldn't find automatic captions for KRFzn2nF7BE\n"
     ]
    },
    {
     "name": "stdout",
     "output_type": "stream",
     "text": [
      "No captions for KRFzn2nF7BE\n",
      "[youtube] 3x8fezmHXl4: Downloading webpage\n",
      "[youtube] 3x8fezmHXl4: Downloading video info webpage\n",
      "[youtube] 3x8fezmHXl4: Looking for automatic captions\n",
      "[info] Writing video subtitles to: subtitle_3x8fezmHXl4.en.vtt\n",
      "[youtube] mm3TqifcDSQ: Downloading webpage\n",
      "[youtube] mm3TqifcDSQ: Downloading video info webpage\n",
      "[youtube] mm3TqifcDSQ: Looking for automatic captions\n"
     ]
    },
    {
     "name": "stderr",
     "output_type": "stream",
     "text": [
      "WARNING: Couldn't find automatic captions for mm3TqifcDSQ\n"
     ]
    },
    {
     "name": "stdout",
     "output_type": "stream",
     "text": [
      "[youtube] mm3TqifcDSQ: Downloading MPD manifest\n",
      "[youtube] mm3TqifcDSQ: Downloading MPD manifest\n",
      "No captions for mm3TqifcDSQ\n",
      "[youtube] BkoNvoBfM18: Downloading webpage\n",
      "[youtube] BkoNvoBfM18: Downloading video info webpage\n",
      "[youtube] BkoNvoBfM18: Looking for automatic captions\n",
      "[info] Writing video subtitles to: subtitle_BkoNvoBfM18.en.vtt\n",
      "[youtube] KfLJ4VVSsws: Downloading webpage\n",
      "[youtube] KfLJ4VVSsws: Downloading video info webpage\n",
      "[youtube] KfLJ4VVSsws: Looking for automatic captions\n",
      "[info] Writing video subtitles to: subtitle_KfLJ4VVSsws.en.vtt\n",
      "[youtube] RV3RoT93FQs: Downloading webpage\n",
      "[youtube] RV3RoT93FQs: Downloading video info webpage\n",
      "[youtube] RV3RoT93FQs: Looking for automatic captions\n"
     ]
    },
    {
     "name": "stderr",
     "output_type": "stream",
     "text": [
      "WARNING: Couldn't find automatic captions for RV3RoT93FQs\n"
     ]
    },
    {
     "name": "stdout",
     "output_type": "stream",
     "text": [
      "No captions for RV3RoT93FQs\n",
      "[youtube] 5XZCzZHmyTY: Downloading webpage\n",
      "[youtube] 5XZCzZHmyTY: Downloading video info webpage\n",
      "[youtube] 5XZCzZHmyTY: Looking for automatic captions\n",
      "[info] Writing video subtitles to: subtitle_5XZCzZHmyTY.en.vtt\n",
      "[youtube] _-n3VizHSYE: Downloading webpage\n",
      "[youtube] _-n3VizHSYE: Downloading video info webpage\n",
      "[youtube] _-n3VizHSYE: Looking for automatic captions\n",
      "[info] Writing video subtitles to: subtitle__-n3VizHSYE.en.vtt\n",
      "[youtube] YsCeVEJEmCU: Downloading webpage\n",
      "[youtube] YsCeVEJEmCU: Downloading video info webpage\n",
      "[youtube] YsCeVEJEmCU: Looking for automatic captions\n",
      "[info] Writing video subtitles to: subtitle_YsCeVEJEmCU.en.vtt\n",
      "[youtube] forS5_5R848: Downloading webpage\n",
      "[youtube] forS5_5R848: Downloading video info webpage\n",
      "[youtube] forS5_5R848: Looking for automatic captions\n",
      "[info] Writing video subtitles to: subtitle_forS5_5R848.en.vtt\n",
      "[youtube] Tk1uLpCWX9w: Downloading webpage\n",
      "[youtube] Tk1uLpCWX9w: Downloading video info webpage\n",
      "[youtube] Tk1uLpCWX9w: Looking for automatic captions\n",
      "[info] Writing video subtitles to: subtitle_Tk1uLpCWX9w.en.vtt\n",
      "[youtube] QUsgHo0ntMY: Downloading webpage\n",
      "[youtube] QUsgHo0ntMY: Downloading video info webpage\n",
      "[youtube] QUsgHo0ntMY: Looking for automatic captions\n",
      "[youtube] QUsgHo0ntMY: Downloading MPD manifest\n",
      "[youtube] QUsgHo0ntMY: Downloading MPD manifest\n",
      "[info] Writing video subtitles to: subtitle_QUsgHo0ntMY.en.vtt\n",
      "[youtube] FYXIpxM0dzc: Downloading webpage\n",
      "[youtube] FYXIpxM0dzc: Downloading video info webpage\n",
      "[youtube] FYXIpxM0dzc: Looking for automatic captions\n",
      "[info] Writing video subtitles to: subtitle_FYXIpxM0dzc.en.vtt\n",
      "[youtube] xFcnTdFIoh8: Downloading webpage\n",
      "[youtube] xFcnTdFIoh8: Downloading video info webpage\n",
      "[youtube] xFcnTdFIoh8: Looking for automatic captions\n",
      "[info] Writing video subtitles to: subtitle_xFcnTdFIoh8.en.vtt\n",
      "[youtube] cBfMRmO87sM: Downloading webpage\n",
      "[youtube] cBfMRmO87sM: Downloading video info webpage\n",
      "[youtube] cBfMRmO87sM: Looking for automatic captions\n",
      "[youtube] cBfMRmO87sM: Downloading MPD manifest\n",
      "[youtube] cBfMRmO87sM: Downloading MPD manifest\n",
      "[info] Writing video subtitles to: subtitle_cBfMRmO87sM.en.vtt\n",
      "[youtube] aCexKUTnaAg: Downloading webpage\n",
      "[youtube] aCexKUTnaAg: Downloading video info webpage\n",
      "[youtube] aCexKUTnaAg: Looking for automatic captions\n",
      "[info] Writing video subtitles to: subtitle_aCexKUTnaAg.en.vtt\n",
      "[youtube] vXWCo5FXnKc: Downloading webpage\n",
      "[youtube] vXWCo5FXnKc: Downloading video info webpage\n",
      "[youtube] vXWCo5FXnKc: Looking for automatic captions\n",
      "[info] Writing video subtitles to: subtitle_vXWCo5FXnKc.en.vtt\n",
      "[youtube] uiCtGPXGi04: Downloading webpage\n",
      "[youtube] uiCtGPXGi04: Downloading video info webpage\n",
      "[youtube] uiCtGPXGi04: Looking for automatic captions\n",
      "[info] Writing video subtitles to: subtitle_uiCtGPXGi04.en.vtt\n",
      "[youtube] Ei3cPkZXbSk: Downloading webpage\n",
      "[youtube] Ei3cPkZXbSk: Downloading video info webpage\n",
      "[youtube] Ei3cPkZXbSk: Looking for automatic captions\n"
     ]
    },
    {
     "name": "stderr",
     "output_type": "stream",
     "text": [
      "WARNING: Couldn't find automatic captions for Ei3cPkZXbSk\n"
     ]
    },
    {
     "name": "stdout",
     "output_type": "stream",
     "text": [
      "No captions for Ei3cPkZXbSk\n",
      "[youtube] ekGoyhW1mwk: Downloading webpage\n",
      "[youtube] ekGoyhW1mwk: Downloading video info webpage\n",
      "[youtube] ekGoyhW1mwk: Looking for automatic captions\n",
      "[youtube] ekGoyhW1mwk: Downloading MPD manifest\n",
      "[youtube] ekGoyhW1mwk: Downloading MPD manifest\n",
      "[info] Writing video subtitles to: subtitle_ekGoyhW1mwk.en.vtt\n",
      "[youtube] eujtctbBroE: Downloading webpage\n",
      "[youtube] eujtctbBroE: Downloading video info webpage\n",
      "[youtube] eujtctbBroE: Looking for automatic captions\n",
      "[info] Writing video subtitles to: subtitle_eujtctbBroE.en.vtt\n",
      "[youtube] j49zg7Yg_EQ: Downloading webpage\n",
      "[youtube] j49zg7Yg_EQ: Downloading video info webpage\n",
      "[youtube] j49zg7Yg_EQ: Looking for automatic captions\n",
      "[youtube] j49zg7Yg_EQ: Downloading MPD manifest\n",
      "[youtube] j49zg7Yg_EQ: Downloading MPD manifest\n",
      "[info] Writing video subtitles to: subtitle_j49zg7Yg_EQ.en.vtt\n",
      "[youtube] 5vsJ5c_uV7Q: Downloading webpage\n",
      "[youtube] 5vsJ5c_uV7Q: Downloading video info webpage\n",
      "[youtube] 5vsJ5c_uV7Q: Looking for automatic captions\n",
      "[youtube] 5vsJ5c_uV7Q: Downloading MPD manifest\n",
      "[youtube] 5vsJ5c_uV7Q: Downloading MPD manifest\n",
      "[info] Writing video subtitles to: subtitle_5vsJ5c_uV7Q.en.vtt\n",
      "[youtube] jVRaUusufYI: Downloading webpage\n",
      "[youtube] jVRaUusufYI: Downloading video info webpage\n",
      "[youtube] jVRaUusufYI: Looking for automatic captions\n",
      "[info] Writing video subtitles to: subtitle_jVRaUusufYI.en.vtt\n"
     ]
    }
   ],
   "source": [
    "captions = []\n",
    "download = Download()\n",
    "for i in ids:\n",
    "    try:\n",
    "        captions.append((download.get_captions(i),i))\n",
    "    except:\n",
    "        print(\"No captions for \"+ i)"
   ]
  },
  {
   "cell_type": "code",
   "execution_count": 9,
   "metadata": {},
   "outputs": [
    {
     "data": {
      "text/plain": [
       "1653"
      ]
     },
     "execution_count": 9,
     "metadata": {},
     "output_type": "execute_result"
    }
   ],
   "source": [
    "len(captions)"
   ]
  },
  {
   "cell_type": "code",
   "execution_count": 12,
   "metadata": {},
   "outputs": [
    {
     "data": {
      "text/plain": [
       "1457092"
      ]
     },
     "execution_count": 12,
     "metadata": {},
     "output_type": "execute_result"
    }
   ],
   "source": [
    "words=[item[0] for item in captions]\n",
    "count=0\n",
    "for inter in words:\n",
    "    count+=len(inter.split())\n",
    "count"
   ]
  },
  {
   "cell_type": "code",
   "execution_count": 7,
   "metadata": {},
   "outputs": [],
   "source": [
    "#captions[0]"
   ]
  },
  {
   "cell_type": "code",
   "execution_count": 11,
   "metadata": {},
   "outputs": [],
   "source": [
    "import pickle\n",
    "filename = 'Data/captions.pkl'\n",
    "pickle.dump(captions, open(filename, 'wb'))"
   ]
  },
  {
   "cell_type": "code",
   "execution_count": null,
   "metadata": {},
   "outputs": [],
   "source": []
  }
 ],
 "metadata": {
  "kernelspec": {
   "display_name": "Python 3",
   "language": "python",
   "name": "python3"
  },
  "language_info": {
   "codemirror_mode": {
    "name": "ipython",
    "version": 3
   },
   "file_extension": ".py",
   "mimetype": "text/x-python",
   "name": "python",
   "nbconvert_exporter": "python",
   "pygments_lexer": "ipython3",
   "version": "3.6.5"
  }
 },
 "nbformat": 4,
 "nbformat_minor": 2
}
