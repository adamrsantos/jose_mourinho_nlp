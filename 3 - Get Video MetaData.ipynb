{
 "cells": [
  {
   "cell_type": "markdown",
   "metadata": {},
   "source": [
    "# Get extra video data"
   ]
  },
  {
   "cell_type": "markdown",
   "metadata": {},
   "source": [
    "The purpose of this notebook is to connect to the youtube api and get metadata about the videos I scraped captions from in the previous notebook"
   ]
  },
  {
   "cell_type": "code",
   "execution_count": 3,
   "metadata": {},
   "outputs": [],
   "source": [
    "from apiclient.discovery import build\n",
    "from apiclient.errors import HttpError\n",
    "from oauth2client.tools import argparser\n",
    "\n",
    "#Insert Key Here\n",
    "DEVELOPER_KEY = \"\"\n",
    "YOUTUBE_API_SERVICE_NAME = \"youtube\"\n",
    "YOUTUBE_API_VERSION = \"v3\""
   ]
  },
  {
   "cell_type": "code",
   "execution_count": 17,
   "metadata": {},
   "outputs": [],
   "source": [
    "def geo_query(video_id):\n",
    "    youtube = build(YOUTUBE_API_SERVICE_NAME, YOUTUBE_API_VERSION,\n",
    "                    developerKey=DEVELOPER_KEY)\n",
    "\n",
    "    video_response = youtube.videos().list(\n",
    "        id=video_id,\n",
    "        part='snippet, statistics'\n",
    "\n",
    "    ).execute()\n",
    "\n",
    "    return video_response"
   ]
  },
  {
   "cell_type": "code",
   "execution_count": 22,
   "metadata": {},
   "outputs": [],
   "source": [
    "import pickle\n",
    "with open('Data/youtube_ids.pkl', 'rb') as f:\n",
    "    ids = pickle.load(f)"
   ]
  },
  {
   "cell_type": "code",
   "execution_count": 24,
   "metadata": {},
   "outputs": [],
   "source": [
    "meta_data = []\n",
    "for i in ids:\n",
    "    meta_data.append(geo_query(i))"
   ]
  },
  {
   "cell_type": "code",
   "execution_count": 27,
   "metadata": {},
   "outputs": [],
   "source": [
    "import pickle\n",
    "\n",
    "filename = 'Data/meta_data.pkl'\n",
    "pickle.dump(meta_data, open(filename, 'wb'))"
   ]
  },
  {
   "cell_type": "code",
   "execution_count": 25,
   "metadata": {},
   "outputs": [
    {
     "data": {
      "text/plain": [
       "2236"
      ]
     },
     "execution_count": 25,
     "metadata": {},
     "output_type": "execute_result"
    }
   ],
   "source": [
    "len(meta_data)"
   ]
  },
  {
   "cell_type": "code",
   "execution_count": 26,
   "metadata": {},
   "outputs": [
    {
     "data": {
      "text/plain": [
       "{'kind': 'youtube#videoListResponse',\n",
       " 'etag': '\"XI7nbFXulYBIpL0ayR_gDh3eu1k/WFm-fHaIp3S1vhdP9zQQUxZQTaI\"',\n",
       " 'pageInfo': {'totalResults': 1, 'resultsPerPage': 1},\n",
       " 'items': [{'kind': 'youtube#video',\n",
       "   'etag': '\"XI7nbFXulYBIpL0ayR_gDh3eu1k/_gwqeICwqUpJxxkP5jJN6AqsLSs\"',\n",
       "   'id': 'QZDwtT8WNew',\n",
       "   'snippet': {'publishedAt': '2017-07-24T07:34:57.000Z',\n",
       "    'channelId': 'UCiVg6vRhuyjsWgHkDNOig6A',\n",
       "    'title': 'Real Madrid 1-1 Man Utd (1-2 Pens) - Zinedine Zidane Post Match Press Conference - Translation Inc.',\n",
       "    'description': \"Get the Onefootball app here! = http://bit.do/Beanyman_July2\\n\\nReal Madrid post-match press conference with manager Zinedine Zidane after the pre-season defeat on penalties to Man United.\\n\\nPlease subscribe, like the video and share wherever you can!\\n\\nIf you want to support my channel you can donate here = https://www.patreon.com/BeanymanSports\\n\\nI own the rights to this footage, DO NOT copy and re-upload this video otherwise copyright strikes and legal action will be taken.\\n\\nTo make sure you don't miss any of my videos\\non this and my other channels please :\\n\\nSubscribe to this channel : http://bit.ly/BeanymanSportsSub\\nFollow me on Twitter : http://www.twitter.com/BeanymanSports\\nCheck out my website : http://www.BeanymanSports.com\\nLike me on Facebook : https://www.facebook.com/BeanymanSports\\nFollow me on Google+ : https://plus.google.com/+BeanymanSports\\n\\nThanks\",\n",
       "    'thumbnails': {'default': {'url': 'https://i.ytimg.com/vi/QZDwtT8WNew/default.jpg',\n",
       "      'width': 120,\n",
       "      'height': 90},\n",
       "     'medium': {'url': 'https://i.ytimg.com/vi/QZDwtT8WNew/mqdefault.jpg',\n",
       "      'width': 320,\n",
       "      'height': 180},\n",
       "     'high': {'url': 'https://i.ytimg.com/vi/QZDwtT8WNew/hqdefault.jpg',\n",
       "      'width': 480,\n",
       "      'height': 360},\n",
       "     'standard': {'url': 'https://i.ytimg.com/vi/QZDwtT8WNew/sddefault.jpg',\n",
       "      'width': 640,\n",
       "      'height': 480},\n",
       "     'maxres': {'url': 'https://i.ytimg.com/vi/QZDwtT8WNew/maxresdefault.jpg',\n",
       "      'width': 1280,\n",
       "      'height': 720}},\n",
       "    'channelTitle': 'BeanymanSports',\n",
       "    'tags': ['Football',\n",
       "     'Soccer',\n",
       "     'Beanyman',\n",
       "     'BeanymanSports',\n",
       "     'zidane',\n",
       "     'penalties',\n",
       "     'Real Madrid',\n",
       "     'Zinedine Zidane',\n",
       "     'Man United',\n",
       "     'Match',\n",
       "     'Penalty',\n",
       "     'Press Conference',\n",
       "     'Sports'],\n",
       "    'categoryId': '17',\n",
       "    'liveBroadcastContent': 'none',\n",
       "    'defaultLanguage': 'en-GB',\n",
       "    'localized': {'title': 'Real Madrid 1-1 Man Utd (1-2 Pens) - Zinedine Zidane Post Match Press Conference - Translation Inc.',\n",
       "     'description': \"Get the Onefootball app here! = http://bit.do/Beanyman_July2\\n\\nReal Madrid post-match press conference with manager Zinedine Zidane after the pre-season defeat on penalties to Man United.\\n\\nPlease subscribe, like the video and share wherever you can!\\n\\nIf you want to support my channel you can donate here = https://www.patreon.com/BeanymanSports\\n\\nI own the rights to this footage, DO NOT copy and re-upload this video otherwise copyright strikes and legal action will be taken.\\n\\nTo make sure you don't miss any of my videos\\non this and my other channels please :\\n\\nSubscribe to this channel : http://bit.ly/BeanymanSportsSub\\nFollow me on Twitter : http://www.twitter.com/BeanymanSports\\nCheck out my website : http://www.BeanymanSports.com\\nLike me on Facebook : https://www.facebook.com/BeanymanSports\\nFollow me on Google+ : https://plus.google.com/+BeanymanSports\\n\\nThanks\"},\n",
       "    'defaultAudioLanguage': 'en-GB'},\n",
       "   'statistics': {'viewCount': '34979',\n",
       "    'likeCount': '171',\n",
       "    'dislikeCount': '23',\n",
       "    'favoriteCount': '0',\n",
       "    'commentCount': '50'}}]}"
      ]
     },
     "execution_count": 26,
     "metadata": {},
     "output_type": "execute_result"
    }
   ],
   "source": [
    "meta_data[1]"
   ]
  },
  {
   "cell_type": "code",
   "execution_count": null,
   "metadata": {},
   "outputs": [],
   "source": []
  }
 ],
 "metadata": {
  "kernelspec": {
   "display_name": "Python 3",
   "language": "python",
   "name": "python3"
  },
  "language_info": {
   "codemirror_mode": {
    "name": "ipython",
    "version": 3
   },
   "file_extension": ".py",
   "mimetype": "text/x-python",
   "name": "python",
   "nbconvert_exporter": "python",
   "pygments_lexer": "ipython3",
   "version": "3.6.5"
  }
 },
 "nbformat": 4,
 "nbformat_minor": 2
}
