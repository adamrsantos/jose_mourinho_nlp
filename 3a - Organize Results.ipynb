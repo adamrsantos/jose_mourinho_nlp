{
 "cells": [
  {
   "cell_type": "markdown",
   "metadata": {},
   "source": [
    "# Mourinho Team Results"
   ]
  },
  {
   "cell_type": "markdown",
   "metadata": {},
   "source": [
    "The purpose of this notebook is to gather and organize the team results for Jose Mourino's teams throughout his career so we can compare them with his press conferences"
   ]
  },
  {
   "cell_type": "code",
   "execution_count": 297,
   "metadata": {},
   "outputs": [],
   "source": [
    "import pandas as pd\n",
    "import numpy as np\n",
    "import glob\n",
    "from datetime import datetime\n",
    "import matplotlib.pyplot as plt\n",
    "import seaborn as sns\n",
    "plt.style.use('bmh')\n",
    "%matplotlib inline"
   ]
  },
  {
   "cell_type": "markdown",
   "metadata": {},
   "source": [
    "## Full Season League Data"
   ]
  },
  {
   "cell_type": "code",
   "execution_count": 298,
   "metadata": {},
   "outputs": [],
   "source": [
    "chelsea1 = pd.read_csv('Results/2004-2005 (Chelsea).csv')\n",
    "chelsea2 = pd.read_csv('Results/2005-2006 (Chelsea).csv')\n",
    "chelsea3 = pd.read_csv('Results/2006-2007 (Chelsea).csv')\n",
    "chelsea4 = pd.read_csv('Results/2013-2014 (Chelsea).csv')\n",
    "chelsea5 = pd.read_csv('Results/2014-2015 (Chelsea).csv')\n",
    "\n",
    "inter1 = pd.read_csv('Results/2008-2009 (Inter).csv')\n",
    "inter2 = pd.read_csv('Results/2009-2010 (Inter).csv')\n",
    "\n",
    "rm1 = pd.read_csv('Results/2010-2011 (RM).csv')\n",
    "rm2 = pd.read_csv('Results/2011-2012 (RM).csv')\n",
    "rm3 = pd.read_csv('Results/2012-2013 (RM).csv')\n",
    "\n",
    "manu1 = pd.read_csv('Results/2016-2017 (Man U).csv')\n",
    "manu2 = pd.read_csv('Results/2017-2018 (Man U).csv')\n",
    "manu3 = pd.read_csv('Results/2018-2019 (Man U).csv')\n"
   ]
  },
  {
   "cell_type": "code",
   "execution_count": 299,
   "metadata": {},
   "outputs": [
    {
     "name": "stderr",
     "output_type": "stream",
     "text": [
      "/anaconda3/lib/python3.6/site-packages/ipykernel_launcher.py:1: FutureWarning: Sorting because non-concatenation axis is not aligned. A future version\n",
      "of pandas will change to not sort by default.\n",
      "\n",
      "To accept the future behavior, pass 'sort=True'.\n",
      "\n",
      "To retain the current behavior and silence the warning, pass sort=False\n",
      "\n",
      "  \"\"\"Entry point for launching an IPython kernel.\n"
     ]
    }
   ],
   "source": [
    "chelsea = pd.concat([chelsea1,chelsea2,chelsea3,chelsea4,chelsea5])\n",
    "chelsea = chelsea[['AwayTeam','HomeTeam','FTHG','FTAG','FTR','Referee','Date']]\n",
    "chelsea = chelsea.loc[(chelsea['AwayTeam'] == 'Chelsea') | (chelsea['HomeTeam'] == 'Chelsea')]\n",
    "chelsea['Mourinho Team'] = 'Chelsea'"
   ]
  },
  {
   "cell_type": "code",
   "execution_count": 300,
   "metadata": {},
   "outputs": [],
   "source": [
    "inter = pd.concat([inter1,inter2])\n",
    "inter = inter[['AwayTeam','HomeTeam','FTHG','FTAG','FTR','Date']]\n",
    "inter = inter.loc[(inter['AwayTeam'] == 'Inter') | (inter['HomeTeam'] == 'Inter')]\n",
    "inter['Mourinho Team'] = 'Inter'"
   ]
  },
  {
   "cell_type": "code",
   "execution_count": 301,
   "metadata": {},
   "outputs": [
    {
     "name": "stderr",
     "output_type": "stream",
     "text": [
      "/anaconda3/lib/python3.6/site-packages/ipykernel_launcher.py:1: FutureWarning: Sorting because non-concatenation axis is not aligned. A future version\n",
      "of pandas will change to not sort by default.\n",
      "\n",
      "To accept the future behavior, pass 'sort=True'.\n",
      "\n",
      "To retain the current behavior and silence the warning, pass sort=False\n",
      "\n",
      "  \"\"\"Entry point for launching an IPython kernel.\n"
     ]
    }
   ],
   "source": [
    "manu = pd.concat([manu1,manu2,manu3])\n",
    "manu = manu[['AwayTeam','HomeTeam','FTHG','FTAG','FTR','Referee','Date']]\n",
    "manu = manu.loc[(manu['AwayTeam'] == 'Man United') | (manu['HomeTeam'] == 'Man United')]\n",
    "manu['Mourinho Team'] = 'Man United'"
   ]
  },
  {
   "cell_type": "code",
   "execution_count": 302,
   "metadata": {},
   "outputs": [],
   "source": [
    "rm = pd.concat([rm1,rm2])\n",
    "rm = rm[['AwayTeam','HomeTeam','FTHG','FTAG','FTR','Date']]\n",
    "rm = rm.loc[(rm['AwayTeam'] == 'Real Madrid') | (rm['HomeTeam'] == 'Real Madrid')]\n",
    "rm['Mourinho Team'] = 'Real Madrid'"
   ]
  },
  {
   "cell_type": "markdown",
   "metadata": {},
   "source": [
    "## Partial Seasons (He was fired before season end)"
   ]
  },
  {
   "cell_type": "code",
   "execution_count": 303,
   "metadata": {},
   "outputs": [],
   "source": [
    "chelsea_round1 = pd.read_csv('Results/2007-2008 (Chelsea beginning only).csv')\n",
    "chelsea_round1 = chelsea_round1[['AwayTeam','HomeTeam','FTHG','FTAG','FTR','Referee','Date']]\n",
    "chelsea_round1 = chelsea_round1.loc[(chelsea_round1['AwayTeam'] == 'Chelsea') | (chelsea_round1['HomeTeam'] == 'Chelsea')]\n",
    "chelsea_round1['Mourinho Team'] = 'Chelsea'"
   ]
  },
  {
   "cell_type": "code",
   "execution_count": 304,
   "metadata": {},
   "outputs": [],
   "source": [
    "chelsea_round1=chelsea_round1.iloc[0:6]"
   ]
  },
  {
   "cell_type": "code",
   "execution_count": 305,
   "metadata": {},
   "outputs": [],
   "source": [
    "chelsea_round2 = pd.read_csv('Results/2015-2016 (Chelsea half).csv')\n",
    "chelsea_round2 = chelsea_round2[['AwayTeam','HomeTeam','FTHG','FTAG','FTR','Referee','Date']]\n",
    "chelsea_round2 = chelsea_round2.loc[(chelsea_round2['AwayTeam'] == 'Chelsea') | (chelsea_round2['HomeTeam'] == 'Chelsea')]\n",
    "chelsea_round2['Mourinho Team'] = 'Chelsea'"
   ]
  },
  {
   "cell_type": "code",
   "execution_count": 306,
   "metadata": {},
   "outputs": [],
   "source": [
    "chelsea_round2=chelsea_round2.iloc[0:16]\n",
    "#chelsea_round2"
   ]
  },
  {
   "cell_type": "code",
   "execution_count": 307,
   "metadata": {},
   "outputs": [],
   "source": [
    "chelsea=pd.concat([chelsea,chelsea_round1, chelsea_round2])"
   ]
  },
  {
   "cell_type": "markdown",
   "metadata": {},
   "source": [
    "## Put it all together"
   ]
  },
  {
   "cell_type": "code",
   "execution_count": 308,
   "metadata": {},
   "outputs": [
    {
     "data": {
      "text/html": [
       "<div>\n",
       "<style scoped>\n",
       "    .dataframe tbody tr th:only-of-type {\n",
       "        vertical-align: middle;\n",
       "    }\n",
       "\n",
       "    .dataframe tbody tr th {\n",
       "        vertical-align: top;\n",
       "    }\n",
       "\n",
       "    .dataframe thead th {\n",
       "        text-align: right;\n",
       "    }\n",
       "</style>\n",
       "<table border=\"1\" class=\"dataframe\">\n",
       "  <thead>\n",
       "    <tr style=\"text-align: right;\">\n",
       "      <th></th>\n",
       "      <th>AwayTeam</th>\n",
       "      <th>HomeTeam</th>\n",
       "      <th>FTHG</th>\n",
       "      <th>FTAG</th>\n",
       "      <th>FTR</th>\n",
       "      <th>Referee</th>\n",
       "      <th>Date</th>\n",
       "      <th>Mourinho Team</th>\n",
       "    </tr>\n",
       "  </thead>\n",
       "  <tbody>\n",
       "    <tr>\n",
       "      <th>8</th>\n",
       "      <td>Man United</td>\n",
       "      <td>Chelsea</td>\n",
       "      <td>1.0</td>\n",
       "      <td>0.0</td>\n",
       "      <td>H</td>\n",
       "      <td>G Poll</td>\n",
       "      <td>15/08/04</td>\n",
       "      <td>Chelsea</td>\n",
       "    </tr>\n",
       "    <tr>\n",
       "      <th>10</th>\n",
       "      <td>Chelsea</td>\n",
       "      <td>Birmingham</td>\n",
       "      <td>0.0</td>\n",
       "      <td>1.0</td>\n",
       "      <td>A</td>\n",
       "      <td>B Knight</td>\n",
       "      <td>21/08/04</td>\n",
       "      <td>Chelsea</td>\n",
       "    </tr>\n",
       "    <tr>\n",
       "      <th>21</th>\n",
       "      <td>Chelsea</td>\n",
       "      <td>Crystal Palace</td>\n",
       "      <td>0.0</td>\n",
       "      <td>2.0</td>\n",
       "      <td>A</td>\n",
       "      <td>C Foy</td>\n",
       "      <td>24/08/04</td>\n",
       "      <td>Chelsea</td>\n",
       "    </tr>\n",
       "    <tr>\n",
       "      <th>30</th>\n",
       "      <td>Southampton</td>\n",
       "      <td>Chelsea</td>\n",
       "      <td>2.0</td>\n",
       "      <td>1.0</td>\n",
       "      <td>H</td>\n",
       "      <td>S Bennett</td>\n",
       "      <td>28/08/04</td>\n",
       "      <td>Chelsea</td>\n",
       "    </tr>\n",
       "    <tr>\n",
       "      <th>39</th>\n",
       "      <td>Chelsea</td>\n",
       "      <td>Aston Villa</td>\n",
       "      <td>0.0</td>\n",
       "      <td>0.0</td>\n",
       "      <td>D</td>\n",
       "      <td>R Styles</td>\n",
       "      <td>11/09/04</td>\n",
       "      <td>Chelsea</td>\n",
       "    </tr>\n",
       "  </tbody>\n",
       "</table>\n",
       "</div>"
      ],
      "text/plain": [
       "       AwayTeam        HomeTeam  FTHG  FTAG FTR    Referee      Date  \\\n",
       "8    Man United         Chelsea   1.0   0.0   H     G Poll  15/08/04   \n",
       "10      Chelsea      Birmingham   0.0   1.0   A   B Knight  21/08/04   \n",
       "21      Chelsea  Crystal Palace   0.0   2.0   A      C Foy  24/08/04   \n",
       "30  Southampton         Chelsea   2.0   1.0   H  S Bennett  28/08/04   \n",
       "39      Chelsea     Aston Villa   0.0   0.0   D   R Styles  11/09/04   \n",
       "\n",
       "   Mourinho Team  \n",
       "8        Chelsea  \n",
       "10       Chelsea  \n",
       "21       Chelsea  \n",
       "30       Chelsea  \n",
       "39       Chelsea  "
      ]
     },
     "execution_count": 308,
     "metadata": {},
     "output_type": "execute_result"
    }
   ],
   "source": [
    "chelsea.head()"
   ]
  },
  {
   "cell_type": "code",
   "execution_count": 309,
   "metadata": {},
   "outputs": [],
   "source": [
    "chelsea['Result']=chelsea.apply(lambda x: 'Win' if (x['FTR']=='H' and x['HomeTeam']=='Chelsea') or (x['FTR']=='A' and x['AwayTeam']=='Chelsea')\n",
    "                                else 'Draw' if x['FTR']=='D'\n",
    "                                else 'Loss',axis='columns')"
   ]
  },
  {
   "cell_type": "code",
   "execution_count": 310,
   "metadata": {},
   "outputs": [],
   "source": [
    "inter['Result']=inter.apply(lambda x: 'Win' if (x['FTR']=='H' and x['HomeTeam']=='Inter') or (x['FTR']=='A' and x['AwayTeam']=='Inter')\n",
    "                                else 'Draw' if x['FTR']=='D'\n",
    "                                else 'Loss',axis='columns')"
   ]
  },
  {
   "cell_type": "code",
   "execution_count": 311,
   "metadata": {},
   "outputs": [],
   "source": [
    "rm['Result']=rm.apply(lambda x: 'Win' if (x['FTR']=='H' and x['HomeTeam']=='Real Madrid') or (x['FTR']=='A' and x['AwayTeam']=='Real Madrid')\n",
    "                                else 'Draw' if x['FTR']=='D'\n",
    "                                else 'Loss',axis='columns')"
   ]
  },
  {
   "cell_type": "code",
   "execution_count": 312,
   "metadata": {},
   "outputs": [],
   "source": [
    "manu['Result']=manu.apply(lambda x: 'Win' if (x['FTR']=='H' and x['HomeTeam']=='Man United') or (x['FTR']=='A' and x['AwayTeam']=='Man United')\n",
    "                                else 'Draw' if x['FTR']=='D'\n",
    "                                else 'Loss',axis='columns')"
   ]
  },
  {
   "cell_type": "code",
   "execution_count": 313,
   "metadata": {},
   "outputs": [
    {
     "name": "stderr",
     "output_type": "stream",
     "text": [
      "/anaconda3/lib/python3.6/site-packages/ipykernel_launcher.py:1: FutureWarning: Sorting because non-concatenation axis is not aligned. A future version\n",
      "of pandas will change to not sort by default.\n",
      "\n",
      "To accept the future behavior, pass 'sort=True'.\n",
      "\n",
      "To retain the current behavior and silence the warning, pass sort=False\n",
      "\n",
      "  \"\"\"Entry point for launching an IPython kernel.\n"
     ]
    }
   ],
   "source": [
    "final = pd.concat([chelsea,rm,inter,manu])\n",
    "final['Date']=pd.to_datetime(final['Date'], format='%d/%m/%y')"
   ]
  },
  {
   "cell_type": "code",
   "execution_count": 314,
   "metadata": {},
   "outputs": [],
   "source": [
    "#final"
   ]
  },
  {
   "cell_type": "markdown",
   "metadata": {},
   "source": [
    "## Champions League"
   ]
  },
  {
   "cell_type": "code",
   "execution_count": 315,
   "metadata": {},
   "outputs": [],
   "source": [
    "englandcl = pd.read_csv('Results/England_CL.csv')\n",
    "englandcl.columns=['None','Round','Date','Time','Home/Away','None','Opponent','Score','None']\n",
    "englandcl=englandcl[['Date','Opponent','Score','Round']]\n",
    "englandcl = englandcl.dropna()\n",
    "englandcl=englandcl[englandcl['Score'].str.contains(\":\")]\n",
    "englandcl['Score'] = englandcl['Score'].str[:4]\n",
    "englandcl['Result'] = englandcl['Score'].apply(lambda x: 'Win' if int(x[0])>int(x[2])\n",
    "                                               else 'Draw' if int(x[0])==int(x[2])\n",
    "                                                else 'Loss')\n",
    "englandcl['Date']=pd.to_datetime(englandcl['Date'],format='%d/%m/%Y')\n",
    "datetime_object = datetime.strptime('Jan 1 2016', '%b %d %Y')\n",
    "englandcl['Mourinho Team']=np.where(englandcl['Date']<datetime_object, 'Chelsea', 'Man United')"
   ]
  },
  {
   "cell_type": "code",
   "execution_count": 316,
   "metadata": {},
   "outputs": [],
   "source": [
    "italycl = pd.read_csv('Results/Italy_CL.csv')\n",
    "italycl.columns=['None','Round','Date','Time','Home/Away','None','Opponent','Score','None']\n",
    "italycl=italycl[['Date','Opponent','Score','Round']]\n",
    "italycl = italycl.dropna()\n",
    "italycl=italycl[italycl['Score'].str.contains(\":\")]\n",
    "italycl['Score'] = italycl['Score'].str[:4]\n",
    "italycl['Result'] = italycl['Score'].apply(lambda x: 'Win' if int(x[0])>int(x[2])\n",
    "                                               else 'Draw' if int(x[0])==int(x[2])\n",
    "                                                else 'Loss')\n",
    "italycl['Date']=pd.to_datetime(italycl['Date'],format='%d/%m/%Y')\n",
    "italycl['Mourinho Team']='Inter'"
   ]
  },
  {
   "cell_type": "code",
   "execution_count": 317,
   "metadata": {},
   "outputs": [],
   "source": [
    "spaincl = pd.read_csv('Results/Spain_CL.csv')\n",
    "spaincl.columns=['None','Round','Date','Time','Home/Away','None','Opponent','Score']\n",
    "spaincl=spaincl[['Date','Opponent','Score','Round']]\n",
    "spaincl = spaincl.dropna()\n",
    "spaincl=spaincl[spaincl['Score'].str.contains(\":\")]\n",
    "spaincl['Score'] = spaincl['Score'].str[:4]\n",
    "spaincl['Result'] = spaincl['Score'].apply(lambda x: 'Win' if int(x[0])>int(x[2])\n",
    "                                              else 'Draw' if int(x[0])==int(x[2])\n",
    "                                               else 'Loss')\n",
    "spaincl['Date']=pd.to_datetime(spaincl['Date'],format='%d/%m/%Y')\n",
    "spaincl['Mourinho Team']='Real Madrid'"
   ]
  },
  {
   "cell_type": "code",
   "execution_count": 318,
   "metadata": {},
   "outputs": [],
   "source": [
    "cl = pd.concat([spaincl,italycl,englandcl])"
   ]
  },
  {
   "cell_type": "code",
   "execution_count": 319,
   "metadata": {},
   "outputs": [
    {
     "name": "stderr",
     "output_type": "stream",
     "text": [
      "/anaconda3/lib/python3.6/site-packages/ipykernel_launcher.py:1: FutureWarning: Sorting because non-concatenation axis is not aligned. A future version\n",
      "of pandas will change to not sort by default.\n",
      "\n",
      "To accept the future behavior, pass 'sort=True'.\n",
      "\n",
      "To retain the current behavior and silence the warning, pass sort=False\n",
      "\n",
      "  \"\"\"Entry point for launching an IPython kernel.\n"
     ]
    }
   ],
   "source": [
    "respect = pd.concat([final,cl])"
   ]
  },
  {
   "cell_type": "code",
   "execution_count": 320,
   "metadata": {},
   "outputs": [],
   "source": [
    "respect\n",
    "respect['Num_Result']=respect.apply(lambda x: 1 if x['Result']=='Win'\n",
    "                                else 0 if x['Result']=='Draw'\n",
    "                                else -1,axis='columns')"
   ]
  },
  {
   "cell_type": "code",
   "execution_count": 321,
   "metadata": {},
   "outputs": [],
   "source": [
    "respect['Team Color'] = respect['Mourinho Team'].apply(lambda x: 'blue' if x=='Chelsea'\n",
    "                                                       else 'black' if x=='Inter'\n",
    "                                                       else 'red' if x=='Man United'\n",
    "                                                       else 'white')"
   ]
  },
  {
   "cell_type": "code",
   "execution_count": 322,
   "metadata": {},
   "outputs": [
    {
     "data": {
      "text/html": [
       "<div>\n",
       "<style scoped>\n",
       "    .dataframe tbody tr th:only-of-type {\n",
       "        vertical-align: middle;\n",
       "    }\n",
       "\n",
       "    .dataframe tbody tr th {\n",
       "        vertical-align: top;\n",
       "    }\n",
       "\n",
       "    .dataframe thead th {\n",
       "        text-align: right;\n",
       "    }\n",
       "</style>\n",
       "<table border=\"1\" class=\"dataframe\">\n",
       "  <thead>\n",
       "    <tr style=\"text-align: right;\">\n",
       "      <th></th>\n",
       "      <th>AwayTeam</th>\n",
       "      <th>Date</th>\n",
       "      <th>FTAG</th>\n",
       "      <th>FTHG</th>\n",
       "      <th>FTR</th>\n",
       "      <th>HomeTeam</th>\n",
       "      <th>Mourinho Team</th>\n",
       "      <th>Opponent</th>\n",
       "      <th>Referee</th>\n",
       "      <th>Result</th>\n",
       "      <th>Round</th>\n",
       "      <th>Score</th>\n",
       "      <th>Num_Result</th>\n",
       "      <th>Team Color</th>\n",
       "    </tr>\n",
       "  </thead>\n",
       "  <tbody>\n",
       "    <tr>\n",
       "      <th>8</th>\n",
       "      <td>Man United</td>\n",
       "      <td>2004-08-15</td>\n",
       "      <td>0.0</td>\n",
       "      <td>1.0</td>\n",
       "      <td>H</td>\n",
       "      <td>Chelsea</td>\n",
       "      <td>Chelsea</td>\n",
       "      <td>NaN</td>\n",
       "      <td>G Poll</td>\n",
       "      <td>Win</td>\n",
       "      <td>NaN</td>\n",
       "      <td>NaN</td>\n",
       "      <td>1</td>\n",
       "      <td>blue</td>\n",
       "    </tr>\n",
       "    <tr>\n",
       "      <th>10</th>\n",
       "      <td>Chelsea</td>\n",
       "      <td>2004-08-21</td>\n",
       "      <td>1.0</td>\n",
       "      <td>0.0</td>\n",
       "      <td>A</td>\n",
       "      <td>Birmingham</td>\n",
       "      <td>Chelsea</td>\n",
       "      <td>NaN</td>\n",
       "      <td>B Knight</td>\n",
       "      <td>Win</td>\n",
       "      <td>NaN</td>\n",
       "      <td>NaN</td>\n",
       "      <td>1</td>\n",
       "      <td>blue</td>\n",
       "    </tr>\n",
       "    <tr>\n",
       "      <th>21</th>\n",
       "      <td>Chelsea</td>\n",
       "      <td>2004-08-24</td>\n",
       "      <td>2.0</td>\n",
       "      <td>0.0</td>\n",
       "      <td>A</td>\n",
       "      <td>Crystal Palace</td>\n",
       "      <td>Chelsea</td>\n",
       "      <td>NaN</td>\n",
       "      <td>C Foy</td>\n",
       "      <td>Win</td>\n",
       "      <td>NaN</td>\n",
       "      <td>NaN</td>\n",
       "      <td>1</td>\n",
       "      <td>blue</td>\n",
       "    </tr>\n",
       "    <tr>\n",
       "      <th>30</th>\n",
       "      <td>Southampton</td>\n",
       "      <td>2004-08-28</td>\n",
       "      <td>1.0</td>\n",
       "      <td>2.0</td>\n",
       "      <td>H</td>\n",
       "      <td>Chelsea</td>\n",
       "      <td>Chelsea</td>\n",
       "      <td>NaN</td>\n",
       "      <td>S Bennett</td>\n",
       "      <td>Win</td>\n",
       "      <td>NaN</td>\n",
       "      <td>NaN</td>\n",
       "      <td>1</td>\n",
       "      <td>blue</td>\n",
       "    </tr>\n",
       "    <tr>\n",
       "      <th>39</th>\n",
       "      <td>Chelsea</td>\n",
       "      <td>2004-09-11</td>\n",
       "      <td>0.0</td>\n",
       "      <td>0.0</td>\n",
       "      <td>D</td>\n",
       "      <td>Aston Villa</td>\n",
       "      <td>Chelsea</td>\n",
       "      <td>NaN</td>\n",
       "      <td>R Styles</td>\n",
       "      <td>Draw</td>\n",
       "      <td>NaN</td>\n",
       "      <td>NaN</td>\n",
       "      <td>0</td>\n",
       "      <td>blue</td>\n",
       "    </tr>\n",
       "  </tbody>\n",
       "</table>\n",
       "</div>"
      ],
      "text/plain": [
       "       AwayTeam       Date  FTAG  FTHG FTR        HomeTeam Mourinho Team  \\\n",
       "8    Man United 2004-08-15   0.0   1.0   H         Chelsea       Chelsea   \n",
       "10      Chelsea 2004-08-21   1.0   0.0   A      Birmingham       Chelsea   \n",
       "21      Chelsea 2004-08-24   2.0   0.0   A  Crystal Palace       Chelsea   \n",
       "30  Southampton 2004-08-28   1.0   2.0   H         Chelsea       Chelsea   \n",
       "39      Chelsea 2004-09-11   0.0   0.0   D     Aston Villa       Chelsea   \n",
       "\n",
       "   Opponent    Referee Result Round Score  Num_Result Team Color  \n",
       "8       NaN     G Poll    Win   NaN   NaN           1       blue  \n",
       "10      NaN   B Knight    Win   NaN   NaN           1       blue  \n",
       "21      NaN      C Foy    Win   NaN   NaN           1       blue  \n",
       "30      NaN  S Bennett    Win   NaN   NaN           1       blue  \n",
       "39      NaN   R Styles   Draw   NaN   NaN           0       blue  "
      ]
     },
     "execution_count": 322,
     "metadata": {},
     "output_type": "execute_result"
    }
   ],
   "source": [
    "respect.head()"
   ]
  },
  {
   "cell_type": "markdown",
   "metadata": {},
   "source": [
    "Visualize to make sure the data is accurate"
   ]
  },
  {
   "cell_type": "code",
   "execution_count": 330,
   "metadata": {},
   "outputs": [
    {
     "data": {
      "text/plain": [
       "<matplotlib.axes._subplots.AxesSubplot at 0x1a2a14f908>"
      ]
     },
     "execution_count": 330,
     "metadata": {},
     "output_type": "execute_result"
    },
    {
     "data": {
      "image/png": "[encoded data removed]",
      "text/plain": [
       "<Figure size 2160x720 with 1 Axes>"
      ]
     },
     "metadata": {},
     "output_type": "display_data"
    }
   ],
   "source": [
    "plt.figure(figsize=(30,10))\n",
    "#labels = np.random.randint(0,3, size = 10)\n",
    "#sns.plot(respect['Date'],respect['Num_Result'])\n",
    "\n",
    "\n",
    "sns.scatterplot(x=\"Date\", y=\"Num_Result\", hue='Mourinho Team', data=respect,alpha=.4)\n"
   ]
  },
  {
   "cell_type": "code",
   "execution_count": 324,
   "metadata": {},
   "outputs": [],
   "source": [
    "manu['Num_Result']=manu.apply(lambda x: 1 if x['Result']=='Win'\n",
    "                                else 0 if x['Result']=='Draw'\n",
    "                                else -1,axis='columns')"
   ]
  },
  {
   "cell_type": "code",
   "execution_count": 327,
   "metadata": {},
   "outputs": [],
   "source": [
    "import pickle\n",
    "\n",
    "filename = 'Data/results_df.pkl'\n",
    "pickle.dump(respect, open(filename, 'wb'))"
   ]
  },
  {
   "cell_type": "code",
   "execution_count": null,
   "metadata": {},
   "outputs": [],
   "source": []
  }
 ],
 "metadata": {
  "kernelspec": {
   "display_name": "Python 3",
   "language": "python",
   "name": "python3"
  },
  "language_info": {
   "codemirror_mode": {
    "name": "ipython",
    "version": 3
   },
   "file_extension": ".py",
   "mimetype": "text/x-python",
   "name": "python",
   "nbconvert_exporter": "python",
   "pygments_lexer": "ipython3",
   "version": "3.6.5"
  }
 },
 "nbformat": 4,
 "nbformat_minor": 2
}
